{
 "cells": [
  {
   "cell_type": "code",
   "execution_count": 1,
   "metadata": {
    "ExecuteTime": {
     "end_time": "2022-12-31T15:51:27.034973Z",
     "start_time": "2022-12-31T15:51:25.593553Z"
    }
   },
   "outputs": [],
   "source": [
    "import numpy as np\n",
    "import pandas as pd\n",
    "import matplotlib.pyplot as plt\n",
    "import seaborn as sns\n",
    "\n",
    "from sklearn.base import BaseEstimator, TransformerMixin\n",
    "\n",
    "from sklearn.preprocessing import StandardScaler, OneHotEncoder, \\\n",
    "FunctionTransformer, normalize, PolynomialFeatures, LabelEncoder\n",
    "\n",
    "from sklearn.linear_model import LinearRegression, LogisticRegression, \\\n",
    "Ridge, Lasso, ElasticNet, LassoCV, RidgeCV, ElasticNetCV\n",
    "\n",
    "from sklearn.model_selection import train_test_split, cross_validate,\\\n",
    "KFold, cross_val_score, ShuffleSplit, RandomizedSearchCV, GridSearchCV\n",
    "\n",
    "from sklearn.metrics import mean_squared_error, make_scorer, log_loss, \\\n",
    "confusion_matrix, plot_confusion_matrix, precision_score, recall_score, \\\n",
    "accuracy_score, f1_score, roc_curve, roc_auc_score, classification_report, auc, plot_roc_curve\n",
    "\n",
    "from sklearn.dummy import DummyRegressor, DummyClassifier\n",
    "\n",
    "from sklearn.utils import resample\n",
    "\n",
    "from sklearn.impute import MissingIndicator, SimpleImputer\n",
    "\n",
    "from sklearn.feature_selection import SelectFromModel\n",
    "\n",
    "from sklearn.tree import DecisionTreeClassifier, DecisionTreeRegressor, plot_tree\n",
    "\n",
    "from sklearn import tree\n",
    "\n",
    "from sklearn.neighbors import KNeighborsClassifier, NearestNeighbors\n",
    "\n",
    "from scipy import stats\n",
    "from sklearn.naive_bayes import MultinomialNB, GaussianNB\n",
    "\n",
    "from sklearn.pipeline import Pipeline\n",
    "\n",
    "from sklearn.compose import ColumnTransformer,  make_column_selector as selector\n",
    "\n",
    "from sklearn.ensemble import BaggingClassifier, RandomForestClassifier\n",
    "\n",
    "from sklearn.ensemble import BaggingClassifier, RandomForestClassifier, \\\n",
    "ExtraTreesClassifier, VotingClassifier, StackingRegressor, StackingClassifier\n",
    "\n",
    "from sklearn.ensemble import AdaBoostClassifier, GradientBoostingClassifier\n",
    "\n",
    "import xgboost\n",
    "\n",
    "from imblearn.over_sampling import SMOTE\n",
    "from imblearn.pipeline import Pipeline as ImPipeline\n",
    "\n",
    "%matplotlib inline\n"
   ]
  },
  {
   "cell_type": "markdown",
   "metadata": {},
   "source": [
    "# Import Data"
   ]
  },
  {
   "cell_type": "code",
   "execution_count": 2,
   "metadata": {
    "ExecuteTime": {
     "end_time": "2022-12-31T15:51:27.206858Z",
     "start_time": "2022-12-31T15:51:27.035970Z"
    }
   },
   "outputs": [],
   "source": [
    "X_data_df = pd.read_csv('data/x_data.csv')\n",
    "y_data_df = pd.read_csv('data/target_data.csv')"
   ]
  },
  {
   "cell_type": "markdown",
   "metadata": {},
   "source": [
    "## Label Encode Y-vars"
   ]
  },
  {
   "cell_type": "code",
   "execution_count": 3,
   "metadata": {
    "ExecuteTime": {
     "end_time": "2022-12-31T15:51:27.222073Z",
     "start_time": "2022-12-31T15:51:27.208858Z"
    }
   },
   "outputs": [],
   "source": [
    "y_encoded = pd.DataFrame(LabelEncoder().fit_transform(y_data_df['status_group']))"
   ]
  },
  {
   "cell_type": "code",
   "execution_count": 4,
   "metadata": {
    "ExecuteTime": {
     "end_time": "2022-12-31T15:51:27.236978Z",
     "start_time": "2022-12-31T15:51:27.222073Z"
    }
   },
   "outputs": [
    {
     "data": {
      "text/plain": [
       "0    0.543081\n",
       "2    0.384242\n",
       "1    0.072677\n",
       "dtype: float64"
      ]
     },
     "execution_count": 4,
     "metadata": {},
     "output_type": "execute_result"
    }
   ],
   "source": [
    "y_encoded.value_counts(normalize=True)"
   ]
  },
  {
   "cell_type": "markdown",
   "metadata": {},
   "source": [
    "- 0 = functional\n",
    "- 1 = functional needs repair\n",
    "- 2 = non functional"
   ]
  },
  {
   "cell_type": "markdown",
   "metadata": {},
   "source": [
    "## Concat X & Y so that when I drop Null rows, they match still"
   ]
  },
  {
   "cell_type": "code",
   "execution_count": 5,
   "metadata": {
    "ExecuteTime": {
     "end_time": "2022-12-31T15:51:27.268077Z",
     "start_time": "2022-12-31T15:51:27.236978Z"
    }
   },
   "outputs": [],
   "source": [
    "df = pd.concat([X_data_df, y_encoded], axis=1)"
   ]
  },
  {
   "cell_type": "markdown",
   "metadata": {},
   "source": [
    "### Giving the new target col a better name "
   ]
  },
  {
   "cell_type": "code",
   "execution_count": 6,
   "metadata": {
    "ExecuteTime": {
     "end_time": "2022-12-31T15:51:27.283575Z",
     "start_time": "2022-12-31T15:51:27.268077Z"
    }
   },
   "outputs": [],
   "source": [
    "df.rename(mapper={0:'target'}, axis=1, inplace=True)"
   ]
  },
  {
   "cell_type": "code",
   "execution_count": 7,
   "metadata": {
    "ExecuteTime": {
     "end_time": "2022-12-31T15:51:27.345938Z",
     "start_time": "2022-12-31T15:51:27.284746Z"
    }
   },
   "outputs": [
    {
     "name": "stdout",
     "output_type": "stream",
     "text": [
      "<class 'pandas.core.frame.DataFrame'>\n",
      "RangeIndex: 59400 entries, 0 to 59399\n",
      "Data columns (total 41 columns):\n",
      " #   Column                 Non-Null Count  Dtype  \n",
      "---  ------                 --------------  -----  \n",
      " 0   id                     59400 non-null  int64  \n",
      " 1   amount_tsh             59400 non-null  float64\n",
      " 2   date_recorded          59400 non-null  object \n",
      " 3   funder                 55765 non-null  object \n",
      " 4   gps_height             59400 non-null  int64  \n",
      " 5   installer              55745 non-null  object \n",
      " 6   longitude              59400 non-null  float64\n",
      " 7   latitude               59400 non-null  float64\n",
      " 8   wpt_name               59400 non-null  object \n",
      " 9   num_private            59400 non-null  int64  \n",
      " 10  basin                  59400 non-null  object \n",
      " 11  subvillage             59029 non-null  object \n",
      " 12  region                 59400 non-null  object \n",
      " 13  region_code            59400 non-null  int64  \n",
      " 14  district_code          59400 non-null  int64  \n",
      " 15  lga                    59400 non-null  object \n",
      " 16  ward                   59400 non-null  object \n",
      " 17  population             59400 non-null  int64  \n",
      " 18  public_meeting         56066 non-null  object \n",
      " 19  recorded_by            59400 non-null  object \n",
      " 20  scheme_management      55523 non-null  object \n",
      " 21  scheme_name            31234 non-null  object \n",
      " 22  permit                 56344 non-null  object \n",
      " 23  construction_year      59400 non-null  int64  \n",
      " 24  extraction_type        59400 non-null  object \n",
      " 25  extraction_type_group  59400 non-null  object \n",
      " 26  extraction_type_class  59400 non-null  object \n",
      " 27  management             59400 non-null  object \n",
      " 28  management_group       59400 non-null  object \n",
      " 29  payment                59400 non-null  object \n",
      " 30  payment_type           59400 non-null  object \n",
      " 31  water_quality          59400 non-null  object \n",
      " 32  quality_group          59400 non-null  object \n",
      " 33  quantity               59400 non-null  object \n",
      " 34  quantity_group         59400 non-null  object \n",
      " 35  source                 59400 non-null  object \n",
      " 36  source_type            59400 non-null  object \n",
      " 37  source_class           59400 non-null  object \n",
      " 38  waterpoint_type        59400 non-null  object \n",
      " 39  waterpoint_type_group  59400 non-null  object \n",
      " 40  target                 59400 non-null  int32  \n",
      "dtypes: float64(3), int32(1), int64(7), object(30)\n",
      "memory usage: 18.4+ MB\n"
     ]
    }
   ],
   "source": [
    "df.info()"
   ]
  },
  {
   "cell_type": "markdown",
   "metadata": {},
   "source": [
    "## Dropping Columns that are not relevant to the search"
   ]
  },
  {
   "cell_type": "code",
   "execution_count": 8,
   "metadata": {
    "ExecuteTime": {
     "end_time": "2022-12-31T15:51:27.362053Z",
     "start_time": "2022-12-31T15:51:27.346939Z"
    }
   },
   "outputs": [],
   "source": [
    "cols_to_drop = ['scheme_name', 'id', 'date_recorded', 'region', 'funder', 'recorded_by']\n",
    "df_dropped = df.drop(cols_to_drop, axis=1)"
   ]
  },
  {
   "cell_type": "markdown",
   "metadata": {},
   "source": [
    "## Cleaning nulls"
   ]
  },
  {
   "cell_type": "code",
   "execution_count": 9,
   "metadata": {
    "ExecuteTime": {
     "end_time": "2022-12-31T15:51:27.377499Z",
     "start_time": "2022-12-31T15:51:27.362053Z"
    }
   },
   "outputs": [],
   "source": [
    "df_no_nulls = df_dropped.dropna(subset=['subvillage'])"
   ]
  },
  {
   "cell_type": "code",
   "execution_count": 10,
   "metadata": {
    "ExecuteTime": {
     "end_time": "2022-12-31T15:51:27.409109Z",
     "start_time": "2022-12-31T15:51:27.377499Z"
    }
   },
   "outputs": [
    {
     "data": {
      "text/plain": [
       "amount_tsh                  0\n",
       "gps_height                  0\n",
       "installer                3655\n",
       "longitude                   0\n",
       "latitude                    0\n",
       "wpt_name                    0\n",
       "num_private                 0\n",
       "basin                       0\n",
       "subvillage                  0\n",
       "region_code                 0\n",
       "district_code               0\n",
       "lga                         0\n",
       "ward                        0\n",
       "population                  0\n",
       "public_meeting           3333\n",
       "scheme_management        3869\n",
       "permit                   3056\n",
       "construction_year           0\n",
       "extraction_type             0\n",
       "extraction_type_group       0\n",
       "extraction_type_class       0\n",
       "management                  0\n",
       "management_group            0\n",
       "payment                     0\n",
       "payment_type                0\n",
       "water_quality               0\n",
       "quality_group               0\n",
       "quantity                    0\n",
       "quantity_group              0\n",
       "source                      0\n",
       "source_type                 0\n",
       "source_class                0\n",
       "waterpoint_type             0\n",
       "waterpoint_type_group       0\n",
       "target                      0\n",
       "dtype: int64"
      ]
     },
     "execution_count": 10,
     "metadata": {},
     "output_type": "execute_result"
    }
   ],
   "source": [
    "df_no_nulls.isna().sum()"
   ]
  },
  {
   "cell_type": "markdown",
   "metadata": {},
   "source": [
    "## Imputing Missing Vals for remaining columns based on frequency"
   ]
  },
  {
   "cell_type": "markdown",
   "metadata": {},
   "source": [
    "### Need to ensure that we mark if any cols were imputed"
   ]
  },
  {
   "cell_type": "code",
   "execution_count": 11,
   "metadata": {
    "ExecuteTime": {
     "end_time": "2022-12-31T15:51:27.424366Z",
     "start_time": "2022-12-31T15:51:27.409109Z"
    }
   },
   "outputs": [],
   "source": [
    "imp = SimpleImputer(strategy='most_frequent', add_indicator=True)"
   ]
  },
  {
   "cell_type": "code",
   "execution_count": 12,
   "metadata": {
    "ExecuteTime": {
     "end_time": "2022-12-31T15:51:33.062990Z",
     "start_time": "2022-12-31T15:51:27.424366Z"
    }
   },
   "outputs": [],
   "source": [
    "df_clean_impute = imp.fit_transform(df_no_nulls)"
   ]
  },
  {
   "cell_type": "markdown",
   "metadata": {},
   "source": [
    "### We now have imputed array but no dataframe, need to grab the columns and set up a df (for my own ease, not truly necessary)"
   ]
  },
  {
   "cell_type": "code",
   "execution_count": 13,
   "metadata": {
    "ExecuteTime": {
     "end_time": "2022-12-31T15:51:33.079089Z",
     "start_time": "2022-12-31T15:51:33.063992Z"
    }
   },
   "outputs": [],
   "source": [
    "cols_to_keep = list(df_no_nulls.columns)"
   ]
  },
  {
   "cell_type": "code",
   "execution_count": 14,
   "metadata": {
    "ExecuteTime": {
     "end_time": "2022-12-31T15:51:33.095264Z",
     "start_time": "2022-12-31T15:51:33.080089Z"
    }
   },
   "outputs": [],
   "source": [
    "indicator_list = ['installer_indicator', 'public_meeting_indicator', 'scheme_management_indicator', 'permit_indicator']\n",
    "\n",
    "for x in indicator_list:\n",
    "    cols_to_keep.append(x)"
   ]
  },
  {
   "cell_type": "code",
   "execution_count": 15,
   "metadata": {
    "ExecuteTime": {
     "end_time": "2022-12-31T15:51:33.126079Z",
     "start_time": "2022-12-31T15:51:33.096280Z"
    }
   },
   "outputs": [],
   "source": [
    "df_clean_impute = pd.DataFrame(df_clean_impute, columns=cols_to_keep)"
   ]
  },
  {
   "cell_type": "markdown",
   "metadata": {},
   "source": [
    "# Data Cleaning is complete:"
   ]
  },
  {
   "cell_type": "markdown",
   "metadata": {},
   "source": [
    "**Things to Note:**\n",
    "- missing values are imputed or dropped depending on the column\n",
    "- no data transformation has occured yet. The X and Y labels are still seperate (no leakage)"
   ]
  },
  {
   "cell_type": "markdown",
   "metadata": {},
   "source": [
    "Need to Check that each column is the correct category"
   ]
  },
  {
   "cell_type": "code",
   "execution_count": 16,
   "metadata": {
    "ExecuteTime": {
     "end_time": "2022-12-31T15:51:33.140954Z",
     "start_time": "2022-12-31T15:51:33.127119Z"
    }
   },
   "outputs": [
    {
     "data": {
      "text/plain": [
       "Index(['amount_tsh', 'gps_height', 'installer', 'longitude', 'latitude',\n",
       "       'wpt_name', 'num_private', 'basin', 'subvillage', 'region_code',\n",
       "       'district_code', 'lga', 'ward', 'population', 'public_meeting',\n",
       "       'scheme_management', 'permit', 'construction_year', 'extraction_type',\n",
       "       'extraction_type_group', 'extraction_type_class', 'management',\n",
       "       'management_group', 'payment', 'payment_type', 'water_quality',\n",
       "       'quality_group', 'quantity', 'quantity_group', 'source', 'source_type',\n",
       "       'source_class', 'waterpoint_type', 'waterpoint_type_group', 'target',\n",
       "       'installer_indicator', 'public_meeting_indicator',\n",
       "       'scheme_management_indicator', 'permit_indicator'],\n",
       "      dtype='object')"
      ]
     },
     "execution_count": 16,
     "metadata": {},
     "output_type": "execute_result"
    }
   ],
   "source": [
    "df_clean_impute.columns"
   ]
  },
  {
   "cell_type": "code",
   "execution_count": 17,
   "metadata": {
    "ExecuteTime": {
     "end_time": "2022-12-31T15:51:33.639995Z",
     "start_time": "2022-12-31T15:51:33.140954Z"
    }
   },
   "outputs": [
    {
     "data": {
      "text/html": [
       "<div>\n",
       "<style scoped>\n",
       "    .dataframe tbody tr th:only-of-type {\n",
       "        vertical-align: middle;\n",
       "    }\n",
       "\n",
       "    .dataframe tbody tr th {\n",
       "        vertical-align: top;\n",
       "    }\n",
       "\n",
       "    .dataframe thead th {\n",
       "        text-align: right;\n",
       "    }\n",
       "</style>\n",
       "<table border=\"1\" class=\"dataframe\">\n",
       "  <thead>\n",
       "    <tr style=\"text-align: right;\">\n",
       "      <th></th>\n",
       "      <th>amount_tsh</th>\n",
       "      <th>gps_height</th>\n",
       "      <th>installer</th>\n",
       "      <th>longitude</th>\n",
       "      <th>latitude</th>\n",
       "      <th>wpt_name</th>\n",
       "      <th>num_private</th>\n",
       "      <th>basin</th>\n",
       "      <th>subvillage</th>\n",
       "      <th>region_code</th>\n",
       "      <th>...</th>\n",
       "      <th>source</th>\n",
       "      <th>source_type</th>\n",
       "      <th>source_class</th>\n",
       "      <th>waterpoint_type</th>\n",
       "      <th>waterpoint_type_group</th>\n",
       "      <th>target</th>\n",
       "      <th>installer_indicator</th>\n",
       "      <th>public_meeting_indicator</th>\n",
       "      <th>scheme_management_indicator</th>\n",
       "      <th>permit_indicator</th>\n",
       "    </tr>\n",
       "  </thead>\n",
       "  <tbody>\n",
       "    <tr>\n",
       "      <th>count</th>\n",
       "      <td>59029.0</td>\n",
       "      <td>59029</td>\n",
       "      <td>59029</td>\n",
       "      <td>59029.0</td>\n",
       "      <td>5.902900e+04</td>\n",
       "      <td>59029</td>\n",
       "      <td>59029</td>\n",
       "      <td>59029</td>\n",
       "      <td>59029</td>\n",
       "      <td>59029</td>\n",
       "      <td>...</td>\n",
       "      <td>59029</td>\n",
       "      <td>59029</td>\n",
       "      <td>59029</td>\n",
       "      <td>59029</td>\n",
       "      <td>59029</td>\n",
       "      <td>59029</td>\n",
       "      <td>59029</td>\n",
       "      <td>59029</td>\n",
       "      <td>59029</td>\n",
       "      <td>59029</td>\n",
       "    </tr>\n",
       "    <tr>\n",
       "      <th>unique</th>\n",
       "      <td>98.0</td>\n",
       "      <td>2428</td>\n",
       "      <td>2134</td>\n",
       "      <td>57145.0</td>\n",
       "      <td>5.714600e+04</td>\n",
       "      <td>37231</td>\n",
       "      <td>65</td>\n",
       "      <td>9</td>\n",
       "      <td>19287</td>\n",
       "      <td>27</td>\n",
       "      <td>...</td>\n",
       "      <td>10</td>\n",
       "      <td>7</td>\n",
       "      <td>3</td>\n",
       "      <td>7</td>\n",
       "      <td>6</td>\n",
       "      <td>3</td>\n",
       "      <td>2</td>\n",
       "      <td>2</td>\n",
       "      <td>2</td>\n",
       "      <td>2</td>\n",
       "    </tr>\n",
       "    <tr>\n",
       "      <th>top</th>\n",
       "      <td>0.0</td>\n",
       "      <td>0</td>\n",
       "      <td>DWE</td>\n",
       "      <td>0.0</td>\n",
       "      <td>-2.000000e-08</td>\n",
       "      <td>none</td>\n",
       "      <td>0</td>\n",
       "      <td>Lake Victoria</td>\n",
       "      <td>Madukani</td>\n",
       "      <td>11</td>\n",
       "      <td>...</td>\n",
       "      <td>spring</td>\n",
       "      <td>spring</td>\n",
       "      <td>groundwater</td>\n",
       "      <td>communal standpipe</td>\n",
       "      <td>communal standpipe</td>\n",
       "      <td>0</td>\n",
       "      <td>False</td>\n",
       "      <td>False</td>\n",
       "      <td>False</td>\n",
       "      <td>False</td>\n",
       "    </tr>\n",
       "    <tr>\n",
       "      <th>freq</th>\n",
       "      <td>41268.0</td>\n",
       "      <td>20077</td>\n",
       "      <td>21016</td>\n",
       "      <td>1812.0</td>\n",
       "      <td>1.812000e+03</td>\n",
       "      <td>3559</td>\n",
       "      <td>58272</td>\n",
       "      <td>10238</td>\n",
       "      <td>508</td>\n",
       "      <td>5300</td>\n",
       "      <td>...</td>\n",
       "      <td>16886</td>\n",
       "      <td>16886</td>\n",
       "      <td>45426</td>\n",
       "      <td>28407</td>\n",
       "      <td>34266</td>\n",
       "      <td>32054</td>\n",
       "      <td>55374</td>\n",
       "      <td>55696</td>\n",
       "      <td>55160</td>\n",
       "      <td>55973</td>\n",
       "    </tr>\n",
       "  </tbody>\n",
       "</table>\n",
       "<p>4 rows × 39 columns</p>\n",
       "</div>"
      ],
      "text/plain": [
       "        amount_tsh  gps_height installer  longitude      latitude wpt_name  \\\n",
       "count      59029.0       59029     59029    59029.0  5.902900e+04    59029   \n",
       "unique        98.0        2428      2134    57145.0  5.714600e+04    37231   \n",
       "top            0.0           0       DWE        0.0 -2.000000e-08     none   \n",
       "freq       41268.0       20077     21016     1812.0  1.812000e+03     3559   \n",
       "\n",
       "        num_private          basin subvillage  region_code  ...  source  \\\n",
       "count         59029          59029      59029        59029  ...   59029   \n",
       "unique           65              9      19287           27  ...      10   \n",
       "top               0  Lake Victoria   Madukani           11  ...  spring   \n",
       "freq          58272          10238        508         5300  ...   16886   \n",
       "\n",
       "       source_type source_class     waterpoint_type waterpoint_type_group  \\\n",
       "count        59029        59029               59029                 59029   \n",
       "unique           7            3                   7                     6   \n",
       "top         spring  groundwater  communal standpipe    communal standpipe   \n",
       "freq         16886        45426               28407                 34266   \n",
       "\n",
       "       target installer_indicator  public_meeting_indicator  \\\n",
       "count   59029               59029                     59029   \n",
       "unique      3                   2                         2   \n",
       "top         0               False                     False   \n",
       "freq    32054               55374                     55696   \n",
       "\n",
       "       scheme_management_indicator permit_indicator  \n",
       "count                        59029            59029  \n",
       "unique                           2                2  \n",
       "top                          False            False  \n",
       "freq                         55160            55973  \n",
       "\n",
       "[4 rows x 39 columns]"
      ]
     },
     "execution_count": 17,
     "metadata": {},
     "output_type": "execute_result"
    }
   ],
   "source": [
    "df_clean_impute.describe()"
   ]
  },
  {
   "cell_type": "code",
   "execution_count": 18,
   "metadata": {
    "ExecuteTime": {
     "end_time": "2022-12-31T15:51:33.655035Z",
     "start_time": "2022-12-31T15:51:33.640995Z"
    }
   },
   "outputs": [],
   "source": [
    "num_cols = ['amount_tsh', 'gps_height', 'longitude', 'latitude', 'num_private', 'population', 'construction_year', 'target']"
   ]
  },
  {
   "cell_type": "code",
   "execution_count": 19,
   "metadata": {
    "ExecuteTime": {
     "end_time": "2022-12-31T15:51:33.716978Z",
     "start_time": "2022-12-31T15:51:33.655035Z"
    }
   },
   "outputs": [],
   "source": [
    "for col in num_cols:\n",
    "    df_clean_impute[col] = df_clean_impute[col].astype(float)"
   ]
  },
  {
   "cell_type": "code",
   "execution_count": 20,
   "metadata": {
    "ExecuteTime": {
     "end_time": "2022-12-31T15:51:33.764100Z",
     "start_time": "2022-12-31T15:51:33.716978Z"
    }
   },
   "outputs": [
    {
     "name": "stdout",
     "output_type": "stream",
     "text": [
      "<class 'pandas.core.frame.DataFrame'>\n",
      "RangeIndex: 59029 entries, 0 to 59028\n",
      "Data columns (total 39 columns):\n",
      " #   Column                       Non-Null Count  Dtype  \n",
      "---  ------                       --------------  -----  \n",
      " 0   amount_tsh                   59029 non-null  float64\n",
      " 1   gps_height                   59029 non-null  float64\n",
      " 2   installer                    59029 non-null  object \n",
      " 3   longitude                    59029 non-null  float64\n",
      " 4   latitude                     59029 non-null  float64\n",
      " 5   wpt_name                     59029 non-null  object \n",
      " 6   num_private                  59029 non-null  float64\n",
      " 7   basin                        59029 non-null  object \n",
      " 8   subvillage                   59029 non-null  object \n",
      " 9   region_code                  59029 non-null  object \n",
      " 10  district_code                59029 non-null  object \n",
      " 11  lga                          59029 non-null  object \n",
      " 12  ward                         59029 non-null  object \n",
      " 13  population                   59029 non-null  float64\n",
      " 14  public_meeting               59029 non-null  object \n",
      " 15  scheme_management            59029 non-null  object \n",
      " 16  permit                       59029 non-null  object \n",
      " 17  construction_year            59029 non-null  float64\n",
      " 18  extraction_type              59029 non-null  object \n",
      " 19  extraction_type_group        59029 non-null  object \n",
      " 20  extraction_type_class        59029 non-null  object \n",
      " 21  management                   59029 non-null  object \n",
      " 22  management_group             59029 non-null  object \n",
      " 23  payment                      59029 non-null  object \n",
      " 24  payment_type                 59029 non-null  object \n",
      " 25  water_quality                59029 non-null  object \n",
      " 26  quality_group                59029 non-null  object \n",
      " 27  quantity                     59029 non-null  object \n",
      " 28  quantity_group               59029 non-null  object \n",
      " 29  source                       59029 non-null  object \n",
      " 30  source_type                  59029 non-null  object \n",
      " 31  source_class                 59029 non-null  object \n",
      " 32  waterpoint_type              59029 non-null  object \n",
      " 33  waterpoint_type_group        59029 non-null  object \n",
      " 34  target                       59029 non-null  float64\n",
      " 35  installer_indicator          59029 non-null  object \n",
      " 36  public_meeting_indicator     59029 non-null  object \n",
      " 37  scheme_management_indicator  59029 non-null  object \n",
      " 38  permit_indicator             59029 non-null  object \n",
      "dtypes: float64(8), object(31)\n",
      "memory usage: 17.6+ MB\n"
     ]
    }
   ],
   "source": [
    "df_clean_impute.info()"
   ]
  },
  {
   "cell_type": "markdown",
   "metadata": {},
   "source": [
    "# Time get started with model prep"
   ]
  },
  {
   "cell_type": "markdown",
   "metadata": {},
   "source": [
    "- Need to set up X and Y vars\n",
    "- then move to train/test split\n",
    "- set up a pipeline seperate cat and num cols\n",
    "- set up pipeline to scale num data\n",
    "- set up a pipeline to ohe cats"
   ]
  },
  {
   "cell_type": "code",
   "execution_count": 21,
   "metadata": {
    "ExecuteTime": {
     "end_time": "2022-12-31T15:51:33.779923Z",
     "start_time": "2022-12-31T15:51:33.765101Z"
    }
   },
   "outputs": [],
   "source": [
    "y = df_clean_impute['target']\n",
    "X = df_clean_impute.drop(['target'], axis =1)"
   ]
  },
  {
   "cell_type": "code",
   "execution_count": 22,
   "metadata": {
    "ExecuteTime": {
     "end_time": "2022-12-31T15:51:33.795189Z",
     "start_time": "2022-12-31T15:51:33.781923Z"
    }
   },
   "outputs": [
    {
     "data": {
      "text/plain": [
       "Index(['amount_tsh', 'gps_height', 'installer', 'longitude', 'latitude',\n",
       "       'wpt_name', 'num_private', 'basin', 'subvillage', 'region_code',\n",
       "       'district_code', 'lga', 'ward', 'population', 'public_meeting',\n",
       "       'scheme_management', 'permit', 'construction_year', 'extraction_type',\n",
       "       'extraction_type_group', 'extraction_type_class', 'management',\n",
       "       'management_group', 'payment', 'payment_type', 'water_quality',\n",
       "       'quality_group', 'quantity', 'quantity_group', 'source', 'source_type',\n",
       "       'source_class', 'waterpoint_type', 'waterpoint_type_group', 'target',\n",
       "       'installer_indicator', 'public_meeting_indicator',\n",
       "       'scheme_management_indicator', 'permit_indicator'],\n",
       "      dtype='object')"
      ]
     },
     "execution_count": 22,
     "metadata": {},
     "output_type": "execute_result"
    }
   ],
   "source": [
    "df_clean_impute.columns"
   ]
  },
  {
   "cell_type": "code",
   "execution_count": 23,
   "metadata": {
    "ExecuteTime": {
     "end_time": "2022-12-31T15:51:33.825964Z",
     "start_time": "2022-12-31T15:51:33.796216Z"
    }
   },
   "outputs": [],
   "source": [
    "X_train, X_test, y_train, y_test = train_test_split(X, y, random_state=42)"
   ]
  },
  {
   "cell_type": "markdown",
   "metadata": {},
   "source": [
    "## Setting up prelim Pipelines"
   ]
  },
  {
   "cell_type": "code",
   "execution_count": 24,
   "metadata": {
    "ExecuteTime": {
     "end_time": "2022-12-31T15:51:33.841956Z",
     "start_time": "2022-12-31T15:51:33.825964Z"
    }
   },
   "outputs": [],
   "source": [
    "num_pipe = Pipeline([\n",
    "    ('ss', StandardScaler())\n",
    "])"
   ]
  },
  {
   "cell_type": "code",
   "execution_count": 25,
   "metadata": {
    "ExecuteTime": {
     "end_time": "2022-12-31T15:51:33.856957Z",
     "start_time": "2022-12-31T15:51:33.842461Z"
    }
   },
   "outputs": [],
   "source": [
    "cat_pipe = Pipeline([\n",
    "    ('ohe', OneHotEncoder(sparse=False, handle_unknown='ignore'))\n",
    "])"
   ]
  },
  {
   "cell_type": "code",
   "execution_count": 26,
   "metadata": {
    "ExecuteTime": {
     "end_time": "2022-12-31T15:51:33.872115Z",
     "start_time": "2022-12-31T15:51:33.856957Z"
    }
   },
   "outputs": [],
   "source": [
    "ColTrans = ColumnTransformer(transformers=[\n",
    "    ('num_pipe', num_pipe, selector(dtype_include=np.number)),\n",
    "    ('cat_pipe', cat_pipe, selector(dtype_include=object))\n",
    "], remainder='passthrough')"
   ]
  },
  {
   "cell_type": "markdown",
   "metadata": {},
   "source": [
    "## Dummy Pipe"
   ]
  },
  {
   "cell_type": "code",
   "execution_count": 153,
   "metadata": {
    "ExecuteTime": {
     "end_time": "2022-12-31T17:12:59.237967Z",
     "start_time": "2022-12-31T17:12:59.220335Z"
    }
   },
   "outputs": [],
   "source": [
    "dummy_model = Pipeline([\n",
    "    ('ColTrans', ColTrans),\n",
    "    ('dummy', DummyClassifier(strategy='most_frequent', random_state=42))\n",
    "])"
   ]
  },
  {
   "cell_type": "code",
   "execution_count": 154,
   "metadata": {
    "ExecuteTime": {
     "end_time": "2022-12-31T17:12:59.707338Z",
     "start_time": "2022-12-31T17:12:59.692346Z"
    }
   },
   "outputs": [],
   "source": [
    "class ModelRuns():\n",
    "    ''' Class to easily run models through and determine output.'''\n",
    "    \n",
    "    def __init__(self, model, model_name, X, y):\n",
    "        self.model = model\n",
    "        self.name = model_name\n",
    "        self.X = X\n",
    "        self.y = y\n",
    "        \n",
    "    def cross_val(self, X=None, y=None, cv=5):\n",
    "        cv_X= X if X else self.X\n",
    "        cv_y = y if y else self.y\n",
    "        self.cv_results = cross_val_score(self.model, cv_X, cv_y, cv=cv)\n",
    "        self.cv_mean = np.mean(self.cv_results)\n",
    "        return print(f\"Cross_val mean is: {round(self.cv_mean, 4)} for kfold: {cv}\")\n",
    "        \n",
    "    def fit(self, X, y):\n",
    "        self.fit_model = self.model.fit(X, y)\n",
    "        \n",
    "    def accuracy(self, X, y):\n",
    "        acc = self.fit_model.score(X, y)\n",
    "        \n",
    "    def performance(self, X, y):\n",
    "        y_pred = self.fit_model.predict(X)\n",
    "        report = classification_report(y, y_pred)\n",
    "        return report\n",
    "    \n",
    "    def class_matrix(self, X, y):\n",
    "        mat = plot_confusion_matrix(self.model, X, y);\n",
    "        if X is X_train:\n",
    "            plt.title(\"Train\")\n",
    "        elif X is X_test:\n",
    "            plt.title('Test')\n",
    "        else:\n",
    "            plt.title('Class Matrix')\n",
    "        return mat\n",
    "    \n",
    "    def run_all(self, X_train_run=X_train, X_test_run=X_test, y_train_run=y_train, y_test_run=y_test, train_results=True):\n",
    "        self.fit(X_train_run, y_train_run)\n",
    "        if train_results:\n",
    "            y_train_perf = self.performance(X_train_run, y_train_run)\n",
    "            y_test_perf = self.performance(X_test_run, y_test_run)\n",
    "            train_matrix = self.class_matrix(X_train_run, y_train_run)\n",
    "            test_matrix = self.class_matrix(X_test_run, y_test_run)\n",
    "            return print(f\"Train Report: \\n{y_train_perf}\\n\\n\"), print(f\"Test Report: \\n{y_test_perf}\")\n",
    "        else:\n",
    "            y_test_perf = self.performance(X_test_run, y_test_run)\n",
    "            test_matrix = self.class_matrix(X_test_run, y_test_run)\n",
    "            return print(f\"Test Report: \\n{y_test_perf}\")"
   ]
  },
  {
   "cell_type": "code",
   "execution_count": 155,
   "metadata": {
    "ExecuteTime": {
     "end_time": "2022-12-31T17:13:00.424430Z",
     "start_time": "2022-12-31T17:13:00.413434Z"
    }
   },
   "outputs": [],
   "source": [
    "dummy_pipe = ModelRuns(dummy_model, 'dummy', X_train, y_train)"
   ]
  },
  {
   "cell_type": "code",
   "execution_count": 156,
   "metadata": {
    "ExecuteTime": {
     "end_time": "2022-12-31T17:13:29.458754Z",
     "start_time": "2022-12-31T17:13:01.396277Z"
    }
   },
   "outputs": [
    {
     "name": "stdout",
     "output_type": "stream",
     "text": [
      "Cross_val mean is: 0.5457 for kfold: 5\n"
     ]
    }
   ],
   "source": [
    "dummy_pipe.cross_val()"
   ]
  },
  {
   "cell_type": "code",
   "execution_count": 157,
   "metadata": {
    "ExecuteTime": {
     "end_time": "2022-12-31T17:13:42.946045Z",
     "start_time": "2022-12-31T17:13:34.194122Z"
    }
   },
   "outputs": [],
   "source": [
    "dummy_pipe.fit(X_train, y_train)"
   ]
  },
  {
   "cell_type": "code",
   "execution_count": 159,
   "metadata": {
    "ExecuteTime": {
     "end_time": "2022-12-31T17:14:14.332754Z",
     "start_time": "2022-12-31T17:14:05.704394Z"
    }
   },
   "outputs": [
    {
     "name": "stdout",
     "output_type": "stream",
     "text": [
      "              precision    recall  f1-score   support\n",
      "\n",
      "         0.0       0.55      1.00      0.71     24159\n",
      "         1.0       0.00      0.00      0.00      3225\n",
      "         2.0       0.00      0.00      0.00     16887\n",
      "\n",
      "    accuracy                           0.55     44271\n",
      "   macro avg       0.18      0.33      0.24     44271\n",
      "weighted avg       0.30      0.55      0.39     44271\n",
      "\n"
     ]
    },
    {
     "name": "stderr",
     "output_type": "stream",
     "text": [
      "C:\\Users\\nacnu\\anaconda3\\envs\\learn-env\\lib\\site-packages\\sklearn\\metrics\\_classification.py:1221: UndefinedMetricWarning: Precision and F-score are ill-defined and being set to 0.0 in labels with no predicted samples. Use `zero_division` parameter to control this behavior.\n",
      "  _warn_prf(average, modifier, msg_start, len(result))\n"
     ]
    }
   ],
   "source": [
    "print(dummy_pipe.performance(X_train, y_train))"
   ]
  },
  {
   "cell_type": "code",
   "execution_count": 51,
   "metadata": {
    "ExecuteTime": {
     "end_time": "2022-12-31T16:08:31.038197Z",
     "start_time": "2022-12-31T16:08:22.534474Z"
    }
   },
   "outputs": [
    {
     "data": {
      "image/png": "[encoded data removed]",
      "text/plain": [
       "<Figure size 432x288 with 2 Axes>"
      ]
     },
     "metadata": {
      "needs_background": "light"
     },
     "output_type": "display_data"
    }
   ],
   "source": [
    "dummy_pipe.class_matrix(X_train, y_train);"
   ]
  },
  {
   "cell_type": "code",
   "execution_count": 52,
   "metadata": {
    "ExecuteTime": {
     "end_time": "2022-12-31T16:08:43.944060Z",
     "start_time": "2022-12-31T16:08:41.899422Z"
    }
   },
   "outputs": [
    {
     "data": {
      "image/png": "[encoded data removed]",
      "text/plain": [
       "<Figure size 432x288 with 2 Axes>"
      ]
     },
     "metadata": {
      "needs_background": "light"
     },
     "output_type": "display_data"
    }
   ],
   "source": [
    "dummy_pipe.class_matrix(X_test, y_test);"
   ]
  },
  {
   "cell_type": "code",
   "execution_count": 148,
   "metadata": {
    "ExecuteTime": {
     "end_time": "2022-12-31T17:10:16.973038Z",
     "start_time": "2022-12-31T17:09:50.207034Z"
    },
    "scrolled": false
   },
   "outputs": [
    {
     "name": "stderr",
     "output_type": "stream",
     "text": [
      "C:\\Users\\nacnu\\anaconda3\\envs\\learn-env\\lib\\site-packages\\sklearn\\metrics\\_classification.py:1221: UndefinedMetricWarning: Precision and F-score are ill-defined and being set to 0.0 in labels with no predicted samples. Use `zero_division` parameter to control this behavior.\n",
      "  _warn_prf(average, modifier, msg_start, len(result))\n",
      "C:\\Users\\nacnu\\anaconda3\\envs\\learn-env\\lib\\site-packages\\sklearn\\metrics\\_classification.py:1221: UndefinedMetricWarning: Precision and F-score are ill-defined and being set to 0.0 in labels with no predicted samples. Use `zero_division` parameter to control this behavior.\n",
      "  _warn_prf(average, modifier, msg_start, len(result))\n"
     ]
    },
    {
     "name": "stdout",
     "output_type": "stream",
     "text": [
      "Train Report: \n",
      "              precision    recall  f1-score   support\n",
      "\n",
      "         0.0       0.55      1.00      0.71     24159\n",
      "         1.0       0.00      0.00      0.00      3225\n",
      "         2.0       0.00      0.00      0.00     16887\n",
      "\n",
      "    accuracy                           0.55     44271\n",
      "   macro avg       0.18      0.33      0.24     44271\n",
      "weighted avg       0.30      0.55      0.39     44271\n",
      "\n",
      "\n",
      "\n",
      "Test Report: \n",
      "              precision    recall  f1-score   support\n",
      "\n",
      "         0.0       0.53      1.00      0.70      7895\n",
      "         1.0       0.00      0.00      0.00      1091\n",
      "         2.0       0.00      0.00      0.00      5772\n",
      "\n",
      "    accuracy                           0.53     14758\n",
      "   macro avg       0.18      0.33      0.23     14758\n",
      "weighted avg       0.29      0.53      0.37     14758\n",
      "\n"
     ]
    },
    {
     "data": {
      "image/png": "[encoded data removed]",
      "text/plain": [
       "<Figure size 432x288 with 2 Axes>"
      ]
     },
     "metadata": {
      "needs_background": "light"
     },
     "output_type": "display_data"
    },
    {
     "data": {
      "image/png": "[encoded data removed]",
      "text/plain": [
       "<Figure size 432x288 with 2 Axes>"
      ]
     },
     "metadata": {
      "needs_background": "light"
     },
     "output_type": "display_data"
    }
   ],
   "source": [
    "dummy_pipe.run_all(train_results=True);"
   ]
  },
  {
   "cell_type": "markdown",
   "metadata": {},
   "source": [
    "## LogReg Pipe"
   ]
  },
  {
   "cell_type": "code",
   "execution_count": 150,
   "metadata": {
    "ExecuteTime": {
     "end_time": "2022-12-31T17:12:25.426036Z",
     "start_time": "2022-12-31T17:12:25.407011Z"
    }
   },
   "outputs": [],
   "source": [
    "log_reg_model = Pipeline([\n",
    "    ('ColTrans', ColTrans),\n",
    "    ('logreg', LogisticRegression(random_state=42))\n",
    "])"
   ]
  },
  {
   "cell_type": "code",
   "execution_count": 160,
   "metadata": {
    "ExecuteTime": {
     "end_time": "2022-12-31T17:14:43.494110Z",
     "start_time": "2022-12-31T17:14:43.478288Z"
    }
   },
   "outputs": [],
   "source": [
    "log_reg_pipe = ModelRuns(log_reg_model, 'logreg', X_train, y_train)"
   ]
  },
  {
   "cell_type": "code",
   "execution_count": 161,
   "metadata": {
    "ExecuteTime": {
     "end_time": "2022-12-31T17:18:08.749265Z",
     "start_time": "2022-12-31T17:14:53.381720Z"
    }
   },
   "outputs": [
    {
     "name": "stderr",
     "output_type": "stream",
     "text": [
      "C:\\Users\\nacnu\\anaconda3\\envs\\learn-env\\lib\\site-packages\\sklearn\\linear_model\\_logistic.py:762: ConvergenceWarning: lbfgs failed to converge (status=1):\n",
      "STOP: TOTAL NO. of ITERATIONS REACHED LIMIT.\n",
      "\n",
      "Increase the number of iterations (max_iter) or scale the data as shown in:\n",
      "    https://scikit-learn.org/stable/modules/preprocessing.html\n",
      "Please also refer to the documentation for alternative solver options:\n",
      "    https://scikit-learn.org/stable/modules/linear_model.html#logistic-regression\n",
      "  n_iter_i = _check_optimize_result(\n"
     ]
    },
    {
     "name": "stdout",
     "output_type": "stream",
     "text": [
      "Train Report: \n",
      "              precision    recall  f1-score   support\n",
      "\n",
      "         0.0       0.82      0.92      0.87     24159\n",
      "         1.0       0.71      0.37      0.48      3225\n",
      "         2.0       0.87      0.79      0.82     16887\n",
      "\n",
      "    accuracy                           0.83     44271\n",
      "   macro avg       0.80      0.69      0.72     44271\n",
      "weighted avg       0.83      0.83      0.82     44271\n",
      "\n",
      "\n",
      "\n",
      "Test Report: \n",
      "              precision    recall  f1-score   support\n",
      "\n",
      "         0.0       0.76      0.88      0.82      7895\n",
      "         1.0       0.54      0.22      0.32      1091\n",
      "         2.0       0.80      0.72      0.76      5772\n",
      "\n",
      "    accuracy                           0.77     14758\n",
      "   macro avg       0.70      0.61      0.63     14758\n",
      "weighted avg       0.76      0.77      0.76     14758\n",
      "\n"
     ]
    },
    {
     "data": {
      "image/png": "[encoded data removed]",
      "text/plain": [
       "<Figure size 432x288 with 2 Axes>"
      ]
     },
     "metadata": {
      "needs_background": "light"
     },
     "output_type": "display_data"
    },
    {
     "data": {
      "image/png": "[encoded data removed]",
      "text/plain": [
       "<Figure size 432x288 with 2 Axes>"
      ]
     },
     "metadata": {
      "needs_background": "light"
     },
     "output_type": "display_data"
    }
   ],
   "source": [
    "log_reg_pipe.run_all(train_results=True);"
   ]
  },
  {
   "cell_type": "markdown",
   "metadata": {},
   "source": [
    "## Decision Tree Pipe"
   ]
  },
  {
   "cell_type": "code",
   "execution_count": 162,
   "metadata": {
    "ExecuteTime": {
     "end_time": "2022-12-31T17:19:22.868687Z",
     "start_time": "2022-12-31T17:19:22.862187Z"
    }
   },
   "outputs": [],
   "source": [
    "dtc_model = Pipeline([\n",
    "    ('ColTrans', ColTrans),\n",
    "    ('dtc', DecisionTreeClassifier(random_state=42))\n",
    "])"
   ]
  },
  {
   "cell_type": "code",
   "execution_count": 163,
   "metadata": {
    "ExecuteTime": {
     "end_time": "2022-12-31T17:19:57.420240Z",
     "start_time": "2022-12-31T17:19:57.413078Z"
    }
   },
   "outputs": [],
   "source": [
    "dtc_pipe = ModelRuns(dtc_model, 'dtc', X_train, y_train)"
   ]
  },
  {
   "cell_type": "code",
   "execution_count": 164,
   "metadata": {
    "ExecuteTime": {
     "end_time": "2022-12-31T17:23:49.692347Z",
     "start_time": "2022-12-31T17:20:11.699683Z"
    }
   },
   "outputs": [
    {
     "name": "stdout",
     "output_type": "stream",
     "text": [
      "Train Report: \n",
      "              precision    recall  f1-score   support\n",
      "\n",
      "         0.0       1.00      1.00      1.00     24159\n",
      "         1.0       1.00      1.00      1.00      3225\n",
      "         2.0       1.00      1.00      1.00     16887\n",
      "\n",
      "    accuracy                           1.00     44271\n",
      "   macro avg       1.00      1.00      1.00     44271\n",
      "weighted avg       1.00      1.00      1.00     44271\n",
      "\n",
      "\n",
      "\n",
      "Test Report: \n",
      "              precision    recall  f1-score   support\n",
      "\n",
      "         0.0       0.80      0.84      0.82      7895\n",
      "         1.0       0.47      0.34      0.39      1091\n",
      "         2.0       0.80      0.77      0.78      5772\n",
      "\n",
      "    accuracy                           0.78     14758\n",
      "   macro avg       0.69      0.65      0.67     14758\n",
      "weighted avg       0.77      0.78      0.77     14758\n",
      "\n"
     ]
    },
    {
     "data": {
      "image/png": "[encoded data removed]",
      "text/plain": [
       "<Figure size 432x288 with 2 Axes>"
      ]
     },
     "metadata": {
      "needs_background": "light"
     },
     "output_type": "display_data"
    },
    {
     "data": {
      "image/png": "[encoded data removed]",
      "text/plain": [
       "<Figure size 432x288 with 2 Axes>"
      ]
     },
     "metadata": {
      "needs_background": "light"
     },
     "output_type": "display_data"
    }
   ],
   "source": [
    "dtc_pipe.run_all(train_results=True);"
   ]
  },
  {
   "cell_type": "code",
   "execution_count": null,
   "metadata": {},
   "outputs": [],
   "source": []
  }
 ],
 "metadata": {
  "kernelspec": {
   "display_name": "Python (learn-env)",
   "language": "python",
   "name": "learn-env"
  },
  "language_info": {
   "codemirror_mode": {
    "name": "ipython",
    "version": 3
   },
   "file_extension": ".py",
   "mimetype": "text/x-python",
   "name": "python",
   "nbconvert_exporter": "python",
   "pygments_lexer": "ipython3",
   "version": "3.8.5"
  },
  "toc": {
   "base_numbering": 1,
   "nav_menu": {},
   "number_sections": true,
   "sideBar": true,
   "skip_h1_title": false,
   "title_cell": "Table of Contents",
   "title_sidebar": "Contents",
   "toc_cell": false,
   "toc_position": {},
   "toc_section_display": true,
   "toc_window_display": false
  },
  "varInspector": {
   "cols": {
    "lenName": 16,
    "lenType": 16,
    "lenVar": 40
   },
   "kernels_config": {
    "python": {
     "delete_cmd_postfix": "",
     "delete_cmd_prefix": "del ",
     "library": "var_list.py",
     "varRefreshCmd": "print(var_dic_list())"
    },
    "r": {
     "delete_cmd_postfix": ") ",
     "delete_cmd_prefix": "rm(",
     "library": "var_list.r",
     "varRefreshCmd": "cat(var_dic_list()) "
    }
   },
   "position": {
    "height": "379.844px",
    "left": "1637px",
    "right": "20px",
    "top": "120px",
    "width": "263px"
   },
   "types_to_exclude": [
    "module",
    "function",
    "builtin_function_or_method",
    "instance",
    "_Feature"
   ],
   "window_display": false
  }
 },
 "nbformat": 4,
 "nbformat_minor": 4
}
