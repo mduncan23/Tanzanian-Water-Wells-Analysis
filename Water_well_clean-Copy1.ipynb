{
 "cells": [
  {
   "cell_type": "markdown",
   "metadata": {},
   "source": [
    "# Tanzanian Water Wells"
   ]
  },
  {
   "cell_type": "markdown",
   "metadata": {},
   "source": [
    "## Overview"
   ]
  },
  {
   "cell_type": "markdown",
   "metadata": {},
   "source": [
    "Tanzania struggles with providing clean water to the people of its country. The goal of this analysis is to use data from existing wells throughout the country to identify the wells in need of repair. "
   ]
  },
  {
   "cell_type": "markdown",
   "metadata": {},
   "source": [
    "This analysis is focused on assisting the Tanzanian Government reduce resources spent to identify water wells that are in need of repair to ensure that clean water is available to its citizens. "
   ]
  },
  {
   "cell_type": "markdown",
   "metadata": {},
   "source": [
    "**Important Note:** Due to the runtime of some models in this notebook, the code has been commented out. I have included screenshots of the model results in each section with code that has been commented out but have kept the code to better show the steps taken to reach my end results.\n",
    "\n",
    "If you are looking to run the entire notebook, including the models that require intense processing and time commitments, please head down to the 'Modeling' section and uncomment the code first."
   ]
  },
  {
   "cell_type": "markdown",
   "metadata": {},
   "source": [
    "### Helper Class"
   ]
  },
  {
   "cell_type": "markdown",
   "metadata": {},
   "source": [
    "Since I will be running multiple models throughout the analysis, I have created a helper class to streamline the process. More information on this function can be found in the `modelruns.py` file included in the repository. This file is needed to successfully run the notebook."
   ]
  },
  {
   "cell_type": "markdown",
   "metadata": {},
   "source": [
    "# Import Libraries and Data "
   ]
  },
  {
   "cell_type": "code",
   "execution_count": 1,
   "metadata": {
    "ExecuteTime": {
     "end_time": "2023-01-05T01:33:41.531613Z",
     "start_time": "2023-01-05T01:33:40.549742Z"
    }
   },
   "outputs": [],
   "source": [
    "import numpy as np\n",
    "import pandas as pd\n",
    "import matplotlib.pyplot as plt\n",
    "import seaborn as sns\n",
    "\n",
    "from sklearn.base import BaseEstimator, TransformerMixin\n",
    "\n",
    "from sklearn.preprocessing import StandardScaler, OneHotEncoder, \\\n",
    "FunctionTransformer, normalize, PolynomialFeatures, LabelEncoder\n",
    "\n",
    "from sklearn.linear_model import LinearRegression, LogisticRegression, \\\n",
    "Ridge, Lasso, ElasticNet, LassoCV, RidgeCV, ElasticNetCV\n",
    "\n",
    "from sklearn.model_selection import train_test_split, cross_validate,\\\n",
    "KFold, cross_val_score, ShuffleSplit, RandomizedSearchCV, GridSearchCV\n",
    "\n",
    "from sklearn.metrics import mean_squared_error, make_scorer, log_loss, \\\n",
    "confusion_matrix, plot_confusion_matrix, precision_score, recall_score, \\\n",
    "accuracy_score, f1_score, roc_curve, roc_auc_score, classification_report, auc, plot_roc_curve\n",
    "\n",
    "from sklearn.dummy import DummyRegressor, DummyClassifier\n",
    "\n",
    "from sklearn.utils import resample\n",
    "\n",
    "from sklearn.impute import MissingIndicator, SimpleImputer\n",
    "\n",
    "from sklearn.feature_selection import SelectFromModel\n",
    "\n",
    "from sklearn.tree import DecisionTreeClassifier, DecisionTreeRegressor, plot_tree\n",
    "\n",
    "from sklearn import tree\n",
    "\n",
    "from sklearn.neighbors import KNeighborsClassifier, NearestNeighbors\n",
    "\n",
    "from scipy import stats\n",
    "from sklearn.naive_bayes import MultinomialNB, GaussianNB\n",
    "\n",
    "from sklearn.pipeline import Pipeline\n",
    "\n",
    "from sklearn.compose import ColumnTransformer,  make_column_selector as selector\n",
    "\n",
    "from sklearn.ensemble import BaggingClassifier, RandomForestClassifier\n",
    "\n",
    "from sklearn.ensemble import BaggingClassifier, RandomForestClassifier, \\\n",
    "ExtraTreesClassifier, VotingClassifier, StackingRegressor, StackingClassifier\n",
    "\n",
    "from sklearn.ensemble import AdaBoostClassifier, GradientBoostingClassifier\n",
    "\n",
    "from sklearn.svm import SVC, NuSVC\n",
    "\n",
    "from sklearn.cluster import KMeans\n",
    "\n",
    "import xgboost\n",
    "\n",
    "from imblearn.over_sampling import SMOTE\n",
    "from imblearn.under_sampling import RandomUnderSampler\n",
    "from imblearn.pipeline import Pipeline as ImPipeline\n",
    "\n",
    "from modelruns import ModelRuns\n",
    "\n",
    "from time import perf_counter\n",
    "\n",
    "%matplotlib inline\n"
   ]
  },
  {
   "cell_type": "markdown",
   "metadata": {},
   "source": [
    "The data was provided by DrivenData.org in partnership with Taarifa who aggregated the data from the Tanzanian Ministry of Water."
   ]
  },
  {
   "cell_type": "code",
   "execution_count": 2,
   "metadata": {
    "ExecuteTime": {
     "end_time": "2023-01-05T01:33:44.206265Z",
     "start_time": "2023-01-05T01:33:44.033685Z"
    }
   },
   "outputs": [],
   "source": [
    "X_data_df = pd.read_csv('data/x_data.csv')\n",
    "y_data_df = pd.read_csv('data/target_data.csv')"
   ]
  },
  {
   "cell_type": "markdown",
   "metadata": {},
   "source": [
    "# Data Understanding and Preparation"
   ]
  },
  {
   "cell_type": "markdown",
   "metadata": {},
   "source": [
    "To better understand the data, I have reviewed the features and separated them into numerical and categorical feature types:\n",
    "\n",
    "**Numerical:**\n",
    "- `id` - Unique identifier\n",
    "- `amount_tsh` - Total static head (amount water available to waterpoint)\n",
    "- `gps_height` - Altitude of the well\n",
    "- `longitude` - GPS coordinate\n",
    "- `latitude` - GPS coordinate\n",
    "- `num_private` - Number private\n",
    "- `population` - Population around the well\n",
    "- `construction_year` - Year the waterpoint was constructed\n",
    "\n",
    "**Categorical:**\n",
    "- `installer` - Organization that installed the well\n",
    "- `wpt_name` - Name of the waterpoint if there is one\n",
    "- `basin` - Geographic water basin\n",
    "- `subvillage` - Geographic location\n",
    "- `lga` - Geographic location\n",
    "- `ward` - Geographic location\n",
    "- `public_meeting` - True/False\n",
    "- `scheme_management` - Who operates the waterpoint\n",
    "- `permit` - If the waterpoint is permitted\n",
    "- `extraction_type` - The kind of extraction the waterpoint uses\n",
    "- `extraction_type_group` - The kind of extraction the waterpoint uses\n",
    "- `extraction_type_class` - The kind of extraction the waterpoint uses\n",
    "- `management` - How the waterpoint is managed\n",
    "- `management_group` - How the waterpoint is managed\n",
    "- `payment` - What the water costs\n",
    "- `payment_type` - What the water costs\n",
    "- `water_quality` - The quality of the water\n",
    "- `quality_group` - The quality of the water\n",
    "- `quantity` - The quantity of water\n",
    "- `quantity_group` - The quantity of water\n",
    "- `source` - The source of the water\n",
    "- `source_type` - The source of the water\n",
    "- `source_class` - The source of the water\n",
    "- `waterpoint_type` - The kind of waterpoint\n",
    "- `waterpoint_type_group` - The kind of waterpoint\n",
    "- `region_code` - Geographic location (coded)\n",
    "- `district_code` - Geographic location (coded)\n",
    "- `scheme_name` - Who operates the waterpoint \n",
    "- `date_recorded` - The date the row was entered\n",
    "- `funder` - Who funded the well\n",
    "- `region` - Geographic location\n",
    "- `recorded_by` - Group entering this row of data\n",
    "- `target` - The current status of the waterpoint"
   ]
  },
  {
   "cell_type": "markdown",
   "metadata": {},
   "source": [
    "The dataset used for this analysis has 40 features (including the target feature), and 59,400 rows of data. The target feature is separated into three classifications:\n",
    "\n",
    "- 0 = Functional\n",
    "- 1 = Functional Needs Repair\n",
    "- 2 = Non-Functional"
   ]
  },
  {
   "cell_type": "markdown",
   "metadata": {},
   "source": [
    "## Label Encode Target Variables"
   ]
  },
  {
   "cell_type": "markdown",
   "metadata": {},
   "source": [
    "To better define the status of each well for this analysis, I have set up a binary system for the wells:\n",
    "- 0 = Functional\n",
    "- 1 = Needs Repair"
   ]
  },
  {
   "cell_type": "code",
   "execution_count": 3,
   "metadata": {
    "ExecuteTime": {
     "end_time": "2023-01-05T01:33:46.417702Z",
     "start_time": "2023-01-05T01:33:46.401590Z"
    }
   },
   "outputs": [],
   "source": [
    "y_encoded = pd.DataFrame(LabelEncoder().fit_transform(y_data_df['status_group']))"
   ]
  },
  {
   "cell_type": "code",
   "execution_count": 4,
   "metadata": {
    "ExecuteTime": {
     "end_time": "2023-01-05T01:33:47.204863Z",
     "start_time": "2023-01-05T01:33:47.194584Z"
    }
   },
   "outputs": [
    {
     "data": {
      "text/plain": [
       "0    0.543081\n",
       "2    0.384242\n",
       "1    0.072677\n",
       "dtype: float64"
      ]
     },
     "execution_count": 4,
     "metadata": {},
     "output_type": "execute_result"
    }
   ],
   "source": [
    "y_encoded.value_counts(normalize=True)"
   ]
  },
  {
   "cell_type": "code",
   "execution_count": 5,
   "metadata": {
    "ExecuteTime": {
     "end_time": "2023-01-05T01:33:47.849982Z",
     "start_time": "2023-01-05T01:33:47.842870Z"
    }
   },
   "outputs": [],
   "source": [
    "y_encoded = y_encoded.replace(2, 1)"
   ]
  },
  {
   "cell_type": "code",
   "execution_count": 6,
   "metadata": {
    "ExecuteTime": {
     "end_time": "2023-01-05T01:33:48.464062Z",
     "start_time": "2023-01-05T01:33:48.450574Z"
    }
   },
   "outputs": [
    {
     "data": {
      "text/plain": [
       "0    0.543081\n",
       "1    0.456919\n",
       "dtype: float64"
      ]
     },
     "execution_count": 6,
     "metadata": {},
     "output_type": "execute_result"
    }
   ],
   "source": [
    "y_encoded.value_counts(normalize=True)"
   ]
  },
  {
   "cell_type": "markdown",
   "metadata": {},
   "source": [
    "We can see that the data has a relatively even distribution. As such, we will not need to use any over sampling or under sampling techniques to get an even representation between the classifications."
   ]
  },
  {
   "cell_type": "markdown",
   "metadata": {},
   "source": [
    "## Bringing the Data Together"
   ]
  },
  {
   "cell_type": "markdown",
   "metadata": {},
   "source": [
    "When running machine learning algorithms, its important to separate the predictor and target variables in order to train the model. The provided data is already separate, but in order to clean the data, I will be dropping a few rows that have missing information. \n",
    "\n",
    "To ensure that the predictor and target variables are still in line, I need to combine the datasets before dropping any rows with missing information."
   ]
  },
  {
   "cell_type": "code",
   "execution_count": 7,
   "metadata": {
    "ExecuteTime": {
     "end_time": "2023-01-05T01:33:49.753584Z",
     "start_time": "2023-01-05T01:33:49.738094Z"
    }
   },
   "outputs": [],
   "source": [
    "df = pd.concat([X_data_df, y_encoded], axis=1)"
   ]
  },
  {
   "cell_type": "code",
   "execution_count": 8,
   "metadata": {
    "ExecuteTime": {
     "end_time": "2023-01-05T01:33:50.463254Z",
     "start_time": "2023-01-05T01:33:50.450303Z"
    }
   },
   "outputs": [],
   "source": [
    "# Giving the target column a name\n",
    "df.rename(mapper={0:'target'}, axis=1, inplace=True)"
   ]
  },
  {
   "cell_type": "code",
   "execution_count": 9,
   "metadata": {
    "ExecuteTime": {
     "end_time": "2023-01-05T01:33:51.059812Z",
     "start_time": "2023-01-05T01:33:51.010388Z"
    }
   },
   "outputs": [
    {
     "name": "stdout",
     "output_type": "stream",
     "text": [
      "<class 'pandas.core.frame.DataFrame'>\n",
      "RangeIndex: 59400 entries, 0 to 59399\n",
      "Data columns (total 41 columns):\n",
      " #   Column                 Non-Null Count  Dtype  \n",
      "---  ------                 --------------  -----  \n",
      " 0   id                     59400 non-null  int64  \n",
      " 1   amount_tsh             59400 non-null  float64\n",
      " 2   date_recorded          59400 non-null  object \n",
      " 3   funder                 55765 non-null  object \n",
      " 4   gps_height             59400 non-null  int64  \n",
      " 5   installer              55745 non-null  object \n",
      " 6   longitude              59400 non-null  float64\n",
      " 7   latitude               59400 non-null  float64\n",
      " 8   wpt_name               59400 non-null  object \n",
      " 9   num_private            59400 non-null  int64  \n",
      " 10  basin                  59400 non-null  object \n",
      " 11  subvillage             59029 non-null  object \n",
      " 12  region                 59400 non-null  object \n",
      " 13  region_code            59400 non-null  int64  \n",
      " 14  district_code          59400 non-null  int64  \n",
      " 15  lga                    59400 non-null  object \n",
      " 16  ward                   59400 non-null  object \n",
      " 17  population             59400 non-null  int64  \n",
      " 18  public_meeting         56066 non-null  object \n",
      " 19  recorded_by            59400 non-null  object \n",
      " 20  scheme_management      55523 non-null  object \n",
      " 21  scheme_name            31234 non-null  object \n",
      " 22  permit                 56344 non-null  object \n",
      " 23  construction_year      59400 non-null  int64  \n",
      " 24  extraction_type        59400 non-null  object \n",
      " 25  extraction_type_group  59400 non-null  object \n",
      " 26  extraction_type_class  59400 non-null  object \n",
      " 27  management             59400 non-null  object \n",
      " 28  management_group       59400 non-null  object \n",
      " 29  payment                59400 non-null  object \n",
      " 30  payment_type           59400 non-null  object \n",
      " 31  water_quality          59400 non-null  object \n",
      " 32  quality_group          59400 non-null  object \n",
      " 33  quantity               59400 non-null  object \n",
      " 34  quantity_group         59400 non-null  object \n",
      " 35  source                 59400 non-null  object \n",
      " 36  source_type            59400 non-null  object \n",
      " 37  source_class           59400 non-null  object \n",
      " 38  waterpoint_type        59400 non-null  object \n",
      " 39  waterpoint_type_group  59400 non-null  object \n",
      " 40  target                 59400 non-null  int32  \n",
      "dtypes: float64(3), int32(1), int64(7), object(30)\n",
      "memory usage: 18.4+ MB\n"
     ]
    }
   ],
   "source": [
    "df.info()"
   ]
  },
  {
   "cell_type": "markdown",
   "metadata": {},
   "source": [
    "## Dropping Columns"
   ]
  },
  {
   "cell_type": "markdown",
   "metadata": {},
   "source": [
    "To ensure that we are reducing the noise in the dataset while simultaneously being cognizant of computing time, we are removing a few columns that are not relevant to this analysis:\n",
    "\n",
    "- `scheme_name` - Who operates the waterpoint.\n",
    "    - This feature is missing a lot of data and the operator of the well should no impact the functionality of the well.\n",
    "- `id` - A unique identifier number for each well.\n",
    "    - The id code will not impact the well's functionality.\n",
    "- `date_recorded` - The date the row was entered.\n",
    "    - This is just data for when the information was recorded. This shouldn't have an effect on the well's functionality. \n",
    "- `funder` - Who funded the well.\n",
    "    - Who paid for the well should not impact the functionality of the well.\n",
    "- `recorded_by` - Group entering this row of data.\n",
    "    - The group who's taking notes on the wells would not affect the data itself.\n",
    "- `wpt_name` - Name of the waterpoint if there is one.\n",
    "    - Similar to `id`, the name of the waterpoint should not affect the functionality.\n",
    "- `region`, `subvillage`, `ward`, `lga`, and `basin` - Geographic location.\n",
    "    - The geographic location of the well is already recorded through the features `latitude` and `longitude` as well as `region_code` and `district_code`.\n",
    "- `quality_group` - The quality of water.\n",
    "    - The water quality is recorded more accurately in the `water_quality` feature.\n",
    "- `quantity_group` - The quantity of water.\n",
    "    - The water quantity is recorded more accurately in the `water_quantity` feature.\n",
    "- `installer` - Organization that installed the well.\n",
    "    - The organization in charge of installing the well does not impact its continued maintenance.\n",
    "- `source_type` and `source_class` - The source of the water.\n",
    "    - The source is recorded more accurately in the `source` feature.\n",
    "- `waterpoint_type_group` - The kind of waterpoint.\n",
    "    - The waterpoint type group is recorded more accurately in the `waterpoint_type` feature.\n",
    "- `extraction_type_group` and `extraction_type_class` - The kind of extraction the waterpoint uses.\n",
    "    - The kind of extraction is recorded more accurately in the `extraction_type` feature.\n",
    "- `management_group` - How the waterpoint is managed.\n",
    "    - Management is recorded more accurately in the `management` feature.\n",
    "- `payment_type` - What the water costs.\n",
    "    - Payment is recorded more accurately in the `payment` feature."
   ]
  },
  {
   "cell_type": "code",
   "execution_count": 10,
   "metadata": {
    "ExecuteTime": {
     "end_time": "2023-01-05T01:33:53.118544Z",
     "start_time": "2023-01-05T01:33:53.098055Z"
    }
   },
   "outputs": [],
   "source": [
    "cols_to_drop = ['scheme_name', 'id', 'date_recorded', 'region', 'funder', 'recorded_by'\n",
    "                , 'wpt_name', 'subvillage', 'ward', 'lga', 'basin', 'quality_group', 'quantity_group', \n",
    "                'installer', 'source_type', 'source_class', 'waterpoint_type_group', \n",
    "                'extraction_type_group', 'extraction_type_class', 'management_group',\n",
    "               'payment_type']\n",
    "df_dropped = df.drop(cols_to_drop, axis=1)"
   ]
  },
  {
   "cell_type": "markdown",
   "metadata": {},
   "source": [
    "## Addressing Missing Values"
   ]
  },
  {
   "cell_type": "markdown",
   "metadata": {},
   "source": [
    "The remaining features will have their information imputed based on the most frequent value in each category. I have decided to impute rather than drop the rows because each of the remaining features with missing values has a clearly identified 'most frequent' unique value. Also, in order to maintain the size and integrity of the dataset.\n",
    "\n",
    "In order to avoid potential data leakage from imputing these values, the missing data will be replaced later in this analysis through a pipeline after splitting training and test data."
   ]
  },
  {
   "cell_type": "code",
   "execution_count": 11,
   "metadata": {
    "ExecuteTime": {
     "end_time": "2023-01-05T01:33:54.427206Z",
     "start_time": "2023-01-05T01:33:54.385657Z"
    }
   },
   "outputs": [
    {
     "data": {
      "text/plain": [
       "amount_tsh              98\n",
       "gps_height            2428\n",
       "longitude            57516\n",
       "latitude             57517\n",
       "num_private             65\n",
       "region_code             27\n",
       "district_code           20\n",
       "population            1049\n",
       "public_meeting           2\n",
       "scheme_management       12\n",
       "permit                   2\n",
       "construction_year       55\n",
       "extraction_type         18\n",
       "management              12\n",
       "payment                  7\n",
       "water_quality            8\n",
       "quantity                 5\n",
       "source                  10\n",
       "waterpoint_type          7\n",
       "target                   2\n",
       "dtype: int64"
      ]
     },
     "execution_count": 11,
     "metadata": {},
     "output_type": "execute_result"
    }
   ],
   "source": [
    "df_dropped.nunique()"
   ]
  },
  {
   "cell_type": "code",
   "execution_count": 12,
   "metadata": {
    "ExecuteTime": {
     "end_time": "2023-01-05T01:33:54.901240Z",
     "start_time": "2023-01-05T01:33:54.882442Z"
    }
   },
   "outputs": [
    {
     "data": {
      "text/plain": [
       "amount_tsh              0\n",
       "gps_height              0\n",
       "longitude               0\n",
       "latitude                0\n",
       "num_private             0\n",
       "region_code             0\n",
       "district_code           0\n",
       "population              0\n",
       "public_meeting       3334\n",
       "scheme_management    3877\n",
       "permit               3056\n",
       "construction_year       0\n",
       "extraction_type         0\n",
       "management              0\n",
       "payment                 0\n",
       "water_quality           0\n",
       "quantity                0\n",
       "source                  0\n",
       "waterpoint_type         0\n",
       "target                  0\n",
       "dtype: int64"
      ]
     },
     "execution_count": 12,
     "metadata": {},
     "output_type": "execute_result"
    }
   ],
   "source": [
    "df_dropped.isna().sum()"
   ]
  },
  {
   "cell_type": "markdown",
   "metadata": {},
   "source": [
    "## Column Dtypes"
   ]
  },
  {
   "cell_type": "markdown",
   "metadata": {},
   "source": [
    "This dataset contains a wide variety of informational types. For the purpose of this analysis, I have recategorized two features from numerical types to categorical:\n",
    "\n",
    "- `region_code`: A codified descriptor for the waterpoint's region.\n",
    "- `district_code`: A codified descriptor for the waterpoint's district."
   ]
  },
  {
   "cell_type": "code",
   "execution_count": 13,
   "metadata": {
    "ExecuteTime": {
     "end_time": "2023-01-05T01:33:56.347520Z",
     "start_time": "2023-01-05T01:33:56.321916Z"
    }
   },
   "outputs": [
    {
     "name": "stdout",
     "output_type": "stream",
     "text": [
      "<class 'pandas.core.frame.DataFrame'>\n",
      "RangeIndex: 59400 entries, 0 to 59399\n",
      "Data columns (total 20 columns):\n",
      " #   Column             Non-Null Count  Dtype  \n",
      "---  ------             --------------  -----  \n",
      " 0   amount_tsh         59400 non-null  float64\n",
      " 1   gps_height         59400 non-null  int64  \n",
      " 2   longitude          59400 non-null  float64\n",
      " 3   latitude           59400 non-null  float64\n",
      " 4   num_private        59400 non-null  int64  \n",
      " 5   region_code        59400 non-null  int64  \n",
      " 6   district_code      59400 non-null  int64  \n",
      " 7   population         59400 non-null  int64  \n",
      " 8   public_meeting     56066 non-null  object \n",
      " 9   scheme_management  55523 non-null  object \n",
      " 10  permit             56344 non-null  object \n",
      " 11  construction_year  59400 non-null  int64  \n",
      " 12  extraction_type    59400 non-null  object \n",
      " 13  management         59400 non-null  object \n",
      " 14  payment            59400 non-null  object \n",
      " 15  water_quality      59400 non-null  object \n",
      " 16  quantity           59400 non-null  object \n",
      " 17  source             59400 non-null  object \n",
      " 18  waterpoint_type    59400 non-null  object \n",
      " 19  target             59400 non-null  int32  \n",
      "dtypes: float64(3), int32(1), int64(6), object(10)\n",
      "memory usage: 8.8+ MB\n"
     ]
    }
   ],
   "source": [
    "df_dropped.info()"
   ]
  },
  {
   "cell_type": "code",
   "execution_count": 14,
   "metadata": {
    "ExecuteTime": {
     "end_time": "2023-01-05T01:33:56.820229Z",
     "start_time": "2023-01-05T01:33:56.810245Z"
    }
   },
   "outputs": [],
   "source": [
    "to_object = ['region_code', 'district_code']\n",
    "df_clean = df_dropped.copy()\n",
    "\n",
    "for obj in to_object:\n",
    "    df_clean[obj] = df_clean[obj].astype(object)"
   ]
  },
  {
   "cell_type": "markdown",
   "metadata": {},
   "source": [
    "We now have perfectly clean data with no data leakage:\n",
    "\n",
    "- The target variable has been Label Encoded.\n",
    "- Dropped irrelevant columns.\n",
    "- Column Dtypes have been reassigned for categorical columns."
   ]
  },
  {
   "cell_type": "markdown",
   "metadata": {},
   "source": [
    "## Separating the Data"
   ]
  },
  {
   "cell_type": "markdown",
   "metadata": {},
   "source": [
    "Now that the dataset has been cleaned we can begin the final preparations before beginning modeling. First, we need to separate the predictor and target variables again, then split the data into training and test groups."
   ]
  },
  {
   "cell_type": "code",
   "execution_count": 15,
   "metadata": {
    "ExecuteTime": {
     "end_time": "2023-01-05T01:33:59.039452Z",
     "start_time": "2023-01-05T01:33:59.017163Z"
    }
   },
   "outputs": [],
   "source": [
    "y = df_clean['target']\n",
    "X = df_clean.drop(['target'], axis =1)"
   ]
  },
  {
   "cell_type": "code",
   "execution_count": 16,
   "metadata": {
    "ExecuteTime": {
     "end_time": "2023-01-05T01:33:59.508826Z",
     "start_time": "2023-01-05T01:33:59.482198Z"
    }
   },
   "outputs": [],
   "source": [
    "X_train, X_test, y_train, y_test = train_test_split(X, y, random_state=42)"
   ]
  },
  {
   "cell_type": "markdown",
   "metadata": {},
   "source": [
    "## Setting up Pipelines"
   ]
  },
  {
   "cell_type": "markdown",
   "metadata": {},
   "source": [
    "To streamline the analysis, reduce the potential for data leakage, and ensure that all preprocessing steps are completed with each model, I have set up a pipeline. The pipeline begins by separating the numerical data from the categorical data, once separate, the two types of data can undergo their respective preprocessing.\n",
    "\n",
    "- Numerical Data:\n",
    "    - The columns for numerical data or not missing any values so there is no need to include an imputer.\n",
    "    - Standard Scaler is being utilized to standardize and scale all numerical data.\n",
    "\n",
    "- Categorical Data:\n",
    "    - SimpleImputer is being utilized to fill missing data in the categorical columns based on the most frequent value within that column. A 'missing' indicator is in place to help identify that the data was not originally found within the dataset.\n",
    "    - OneHotEncoding is being utilized to convert the categorical information to a binary system for modeling. "
   ]
  },
  {
   "cell_type": "code",
   "execution_count": 17,
   "metadata": {
    "ExecuteTime": {
     "end_time": "2023-01-05T01:34:00.840988Z",
     "start_time": "2023-01-05T01:34:00.826121Z"
    }
   },
   "outputs": [],
   "source": [
    "num_pipe = Pipeline([\n",
    "    ('ss', StandardScaler())\n",
    "])"
   ]
  },
  {
   "cell_type": "code",
   "execution_count": 18,
   "metadata": {
    "ExecuteTime": {
     "end_time": "2023-01-05T01:34:01.815473Z",
     "start_time": "2023-01-05T01:34:01.810974Z"
    }
   },
   "outputs": [],
   "source": [
    "cat_pipe = Pipeline([\n",
    "    ('cat_impute', SimpleImputer(strategy='most_frequent', add_indicator=True)),\n",
    "    ('ohe', OneHotEncoder(sparse=False, handle_unknown='ignore'))\n",
    "])"
   ]
  },
  {
   "cell_type": "code",
   "execution_count": 19,
   "metadata": {
    "ExecuteTime": {
     "end_time": "2023-01-05T01:34:02.272473Z",
     "start_time": "2023-01-05T01:34:02.257968Z"
    }
   },
   "outputs": [],
   "source": [
    "ColTrans = ColumnTransformer(transformers=[\n",
    "    ('num_pipe', num_pipe, selector(dtype_include=np.number)),\n",
    "    ('cat_pipe', cat_pipe, selector(dtype_include=object))\n",
    "], remainder='passthrough')"
   ]
  },
  {
   "cell_type": "markdown",
   "metadata": {},
   "source": [
    "# Modeling"
   ]
  },
  {
   "cell_type": "markdown",
   "metadata": {},
   "source": [
    "## First Simple Model"
   ]
  },
  {
   "cell_type": "markdown",
   "metadata": {},
   "source": [
    "To begin analysis of the data, I have set up a first simple model to compare later models to. This is the bare minimum model that predicts that the most frequent target variable is the answer for all inputs. \n",
    "\n",
    "The first simple model has an accuracy of .545 and an ROC-AUC score of .5."
   ]
  },
  {
   "cell_type": "code",
   "execution_count": 20,
   "metadata": {
    "ExecuteTime": {
     "end_time": "2023-01-05T01:34:03.768405Z",
     "start_time": "2023-01-05T01:34:03.761116Z"
    }
   },
   "outputs": [],
   "source": [
    "dummy_model = Pipeline([\n",
    "    ('ColTrans', ColTrans),\n",
    "    ('dummy', DummyClassifier(strategy='most_frequent', random_state=42))\n",
    "])"
   ]
  },
  {
   "cell_type": "code",
   "execution_count": 21,
   "metadata": {
    "ExecuteTime": {
     "end_time": "2023-01-05T01:34:06.257582Z",
     "start_time": "2023-01-05T01:34:05.106343Z"
    }
   },
   "outputs": [],
   "source": [
    "dummy_model.fit(X_train, y_train);"
   ]
  },
  {
   "cell_type": "code",
   "execution_count": 22,
   "metadata": {
    "ExecuteTime": {
     "end_time": "2023-01-05T01:34:08.039993Z",
     "start_time": "2023-01-05T01:34:08.034430Z"
    }
   },
   "outputs": [
    {
     "data": {
      "text/plain": [
       "0    0.54532\n",
       "1    0.45468\n",
       "Name: target, dtype: float64"
      ]
     },
     "execution_count": 22,
     "metadata": {},
     "output_type": "execute_result"
    }
   ],
   "source": [
    "y_test.value_counts(normalize=True)"
   ]
  },
  {
   "cell_type": "code",
   "execution_count": 23,
   "metadata": {
    "ExecuteTime": {
     "end_time": "2023-01-05T01:34:08.621263Z",
     "start_time": "2023-01-05T01:34:08.577711Z"
    }
   },
   "outputs": [
    {
     "data": {
      "text/plain": [
       "0.5453198653198653"
      ]
     },
     "execution_count": 23,
     "metadata": {},
     "output_type": "execute_result"
    }
   ],
   "source": [
    "dummy_model.score(X_test, y_test)"
   ]
  },
  {
   "cell_type": "code",
   "execution_count": 24,
   "metadata": {
    "ExecuteTime": {
     "end_time": "2023-01-05T01:34:09.011911Z",
     "start_time": "2023-01-05T01:34:08.977914Z"
    }
   },
   "outputs": [],
   "source": [
    "dummy_y_score = dummy_model.predict_proba(X_test)"
   ]
  },
  {
   "cell_type": "code",
   "execution_count": 25,
   "metadata": {
    "ExecuteTime": {
     "end_time": "2023-01-05T01:34:09.706007Z",
     "start_time": "2023-01-05T01:34:09.689999Z"
    }
   },
   "outputs": [
    {
     "data": {
      "text/plain": [
       "0.5"
      ]
     },
     "execution_count": 25,
     "metadata": {},
     "output_type": "execute_result"
    }
   ],
   "source": [
    "roc_auc_score(y_test,dummy_y_score[:,1])"
   ]
  },
  {
   "cell_type": "markdown",
   "metadata": {
    "heading_collapsed": true
   },
   "source": [
    "## Baseline Models"
   ]
  },
  {
   "cell_type": "markdown",
   "metadata": {
    "hidden": true
   },
   "source": [
    "Now that the first simple model has been established, I need to create baseline models for each of the Machine Learning Algorithms I plan to use. These baseline models will act as a benchmark as I later tune the hyperparameters to try and improve the model results."
   ]
  },
  {
   "cell_type": "markdown",
   "metadata": {
    "hidden": true
   },
   "source": [
    "I will use the following methods during this analysis:\n",
    "   - Logistic Regression\n",
    "   - K-Nearest Neighbors\n",
    "       - K-Means\n",
    "   - Decision Trees\n",
    "   - Random Forests\n",
    "   - C-Support Vector Classification (SVC)\n",
    "   - Nu-Support Vector Classification (NuSVC)\n",
    "   - AdaBoost\n",
    "   - XGBoost\n",
    "   - Stack Classification Methods"
   ]
  },
  {
   "cell_type": "markdown",
   "metadata": {},
   "source": [
    "## Dictionaries"
   ]
  },
  {
   "cell_type": "markdown",
   "metadata": {},
   "source": [
    "For the final results analysis, we will looking at several metrics to compare models. I am setting up an empty dictionaries now to record these metrics."
   ]
  },
  {
   "cell_type": "code",
   "execution_count": 26,
   "metadata": {
    "ExecuteTime": {
     "end_time": "2023-01-05T01:34:23.194163Z",
     "start_time": "2023-01-05T01:34:23.185771Z"
    }
   },
   "outputs": [],
   "source": [
    "time_dic = {}\n",
    "acc_dic = {}\n",
    "roc_auc_dic = {}"
   ]
  },
  {
   "cell_type": "code",
   "execution_count": 27,
   "metadata": {
    "ExecuteTime": {
     "end_time": "2023-01-05T01:34:24.528552Z",
     "start_time": "2023-01-05T01:34:24.514427Z"
    }
   },
   "outputs": [],
   "source": [
    "def record_results(model_name=None, model=None,\n",
    "                   time_dic=None, time_results=None,\n",
    "                    acc_dic=None, roc_auc_dic=None):\n",
    "    \n",
    "    time_dic[model_name] = time_results\n",
    "    acc_dic[model_name] = model.score(X_test, y_test)\n",
    "    roc_auc_dic[model_name] = roc_auc_score(y_test, model.predict_proba(X_test)[:,1])"
   ]
  },
  {
   "cell_type": "markdown",
   "metadata": {
    "heading_collapsed": true
   },
   "source": [
    "## Logistic Regression (DONE-ish) (can go back and rerun grid if feeling funky)"
   ]
  },
  {
   "cell_type": "markdown",
   "metadata": {
    "hidden": true
   },
   "source": [
    "Setting up a Logistic Regression Pipeline and taking a look at the results on my train and test data. Using the baseline model, I was able to achieve accuracy of 77% and an ROC-AUC score of 84%. Due to the warning about my solver not converging, I will look at different solvers using gridsearch.\n",
    "\n",
    "The accuracy and ROC-AUC scores line up relatively well between train and test data indicating that there might be a slight overfitting but not significant ooverfitting."
   ]
  },
  {
   "cell_type": "code",
   "execution_count": 28,
   "metadata": {
    "ExecuteTime": {
     "end_time": "2023-01-05T01:27:05.947119Z",
     "start_time": "2023-01-05T01:27:05.931751Z"
    },
    "hidden": true
   },
   "outputs": [],
   "source": [
    "log_reg_model = Pipeline([\n",
    "    ('ColTrans', ColTrans),\n",
    "    ('logreg', LogisticRegression(random_state=42))\n",
    "])"
   ]
  },
  {
   "cell_type": "code",
   "execution_count": 29,
   "metadata": {
    "ExecuteTime": {
     "end_time": "2023-01-05T01:27:07.393752Z",
     "start_time": "2023-01-05T01:27:05.948116Z"
    },
    "hidden": true
   },
   "outputs": [
    {
     "name": "stderr",
     "output_type": "stream",
     "text": [
      "C:\\Users\\nacnu\\anaconda3\\envs\\learn-env\\lib\\site-packages\\sklearn\\linear_model\\_logistic.py:762: ConvergenceWarning: lbfgs failed to converge (status=1):\n",
      "STOP: TOTAL NO. of ITERATIONS REACHED LIMIT.\n",
      "\n",
      "Increase the number of iterations (max_iter) or scale the data as shown in:\n",
      "    https://scikit-learn.org/stable/modules/preprocessing.html\n",
      "Please also refer to the documentation for alternative solver options:\n",
      "    https://scikit-learn.org/stable/modules/linear_model.html#logistic-regression\n",
      "  n_iter_i = _check_optimize_result(\n"
     ]
    }
   ],
   "source": [
    "log_reg_model.fit(X_train, y_train);"
   ]
  },
  {
   "cell_type": "code",
   "execution_count": 30,
   "metadata": {
    "ExecuteTime": {
     "end_time": "2023-01-05T01:27:07.409623Z",
     "start_time": "2023-01-05T01:27:07.394794Z"
    },
    "hidden": true
   },
   "outputs": [],
   "source": [
    "log_reg_pipe = ModelRuns(log_reg_model, 'logreg', X_train, y_train)"
   ]
  },
  {
   "cell_type": "code",
   "execution_count": 31,
   "metadata": {
    "ExecuteTime": {
     "end_time": "2023-01-05T01:27:08.051633Z",
     "start_time": "2023-01-05T01:27:07.409623Z"
    },
    "hidden": true
   },
   "outputs": [
    {
     "name": "stdout",
     "output_type": "stream",
     "text": [
      "Train Report: \n",
      "              precision    recall  f1-score   support\n",
      "\n",
      "           0       0.74      0.86      0.80     24161\n",
      "           1       0.80      0.64      0.71     20389\n",
      "\n",
      "    accuracy                           0.76     44550\n",
      "   macro avg       0.77      0.75      0.75     44550\n",
      "weighted avg       0.76      0.76      0.75     44550\n",
      "\n",
      "ROC-AUC Score:0.8274355607043029\n",
      "\n",
      "Test Report: \n",
      "              precision    recall  f1-score   support\n",
      "\n",
      "           0       0.74      0.85      0.79      8098\n",
      "           1       0.78      0.63      0.70      6752\n",
      "\n",
      "    accuracy                           0.75     14850\n",
      "   macro avg       0.76      0.74      0.75     14850\n",
      "weighted avg       0.76      0.75      0.75     14850\n",
      "\n",
      "ROC-AUC Score:0.8200516989596636\n"
     ]
    },
    {
     "data": {
      "image/png": "[encoded data removed]",
      "text/plain": [
       "<Figure size 432x288 with 2 Axes>"
      ]
     },
     "metadata": {
      "needs_background": "light"
     },
     "output_type": "display_data"
    },
    {
     "data": {
      "image/png": "[encoded data removed]",
      "text/plain": [
       "<Figure size 432x288 with 2 Axes>"
      ]
     },
     "metadata": {
      "needs_background": "light"
     },
     "output_type": "display_data"
    }
   ],
   "source": [
    "log_reg_pipe.run_all(X_train_run=X_train, X_test_run=X_test, y_train_run=y_train, y_test_run=y_test, train_results=True);"
   ]
  },
  {
   "cell_type": "markdown",
   "metadata": {
    "hidden": true
   },
   "source": [
    "### Logistic Regression Grid Search"
   ]
  },
  {
   "cell_type": "markdown",
   "metadata": {
    "hidden": true
   },
   "source": [
    "During my initial fitting of the Logistic Regression model, the notebook provided a warning that the model failed to converge based on the `solver` chosen. As such, I have set up a gridsearch with cross validation to determine the best solver for the job.\n",
    "\n",
    "`Liblinear` is the best `solver` for this particular dataset. The train data and test data scores were almost identical, indicating that there is a good fit with little over/underfitting. "
   ]
  },
  {
   "cell_type": "code",
   "execution_count": 32,
   "metadata": {
    "ExecuteTime": {
     "end_time": "2023-01-05T01:27:08.066891Z",
     "start_time": "2023-01-05T01:27:08.051633Z"
    },
    "hidden": true
   },
   "outputs": [],
   "source": [
    "log_params = {\n",
    "    'logreg__solver':['liblinear', 'sag', 'saga']\n",
    "}"
   ]
  },
  {
   "cell_type": "code",
   "execution_count": 33,
   "metadata": {
    "ExecuteTime": {
     "end_time": "2023-01-05T01:27:08.082953Z",
     "start_time": "2023-01-05T01:27:08.067887Z"
    },
    "hidden": true
   },
   "outputs": [],
   "source": [
    "log_reg_gs = GridSearchCV(estimator=log_reg_model, param_grid=log_params, cv=10, verbose=1)"
   ]
  },
  {
   "cell_type": "code",
   "execution_count": 34,
   "metadata": {
    "ExecuteTime": {
     "end_time": "2023-01-05T01:28:37.632208Z",
     "start_time": "2023-01-05T01:27:08.083955Z"
    },
    "hidden": true,
    "scrolled": false
   },
   "outputs": [
    {
     "name": "stdout",
     "output_type": "stream",
     "text": [
      "Fitting 10 folds for each of 3 candidates, totalling 30 fits\n"
     ]
    },
    {
     "name": "stderr",
     "output_type": "stream",
     "text": [
      "[Parallel(n_jobs=1)]: Using backend SequentialBackend with 1 concurrent workers.\n",
      "C:\\Users\\nacnu\\anaconda3\\envs\\learn-env\\lib\\site-packages\\sklearn\\linear_model\\_sag.py:329: ConvergenceWarning: The max_iter was reached which means the coef_ did not converge\n",
      "  warnings.warn(\"The max_iter was reached which means \"\n",
      "C:\\Users\\nacnu\\anaconda3\\envs\\learn-env\\lib\\site-packages\\sklearn\\linear_model\\_sag.py:329: ConvergenceWarning: The max_iter was reached which means the coef_ did not converge\n",
      "  warnings.warn(\"The max_iter was reached which means \"\n",
      "C:\\Users\\nacnu\\anaconda3\\envs\\learn-env\\lib\\site-packages\\sklearn\\linear_model\\_sag.py:329: ConvergenceWarning: The max_iter was reached which means the coef_ did not converge\n",
      "  warnings.warn(\"The max_iter was reached which means \"\n",
      "C:\\Users\\nacnu\\anaconda3\\envs\\learn-env\\lib\\site-packages\\sklearn\\linear_model\\_sag.py:329: ConvergenceWarning: The max_iter was reached which means the coef_ did not converge\n",
      "  warnings.warn(\"The max_iter was reached which means \"\n",
      "C:\\Users\\nacnu\\anaconda3\\envs\\learn-env\\lib\\site-packages\\sklearn\\linear_model\\_sag.py:329: ConvergenceWarning: The max_iter was reached which means the coef_ did not converge\n",
      "  warnings.warn(\"The max_iter was reached which means \"\n",
      "C:\\Users\\nacnu\\anaconda3\\envs\\learn-env\\lib\\site-packages\\sklearn\\linear_model\\_sag.py:329: ConvergenceWarning: The max_iter was reached which means the coef_ did not converge\n",
      "  warnings.warn(\"The max_iter was reached which means \"\n",
      "C:\\Users\\nacnu\\anaconda3\\envs\\learn-env\\lib\\site-packages\\sklearn\\linear_model\\_sag.py:329: ConvergenceWarning: The max_iter was reached which means the coef_ did not converge\n",
      "  warnings.warn(\"The max_iter was reached which means \"\n",
      "C:\\Users\\nacnu\\anaconda3\\envs\\learn-env\\lib\\site-packages\\sklearn\\linear_model\\_sag.py:329: ConvergenceWarning: The max_iter was reached which means the coef_ did not converge\n",
      "  warnings.warn(\"The max_iter was reached which means \"\n",
      "C:\\Users\\nacnu\\anaconda3\\envs\\learn-env\\lib\\site-packages\\sklearn\\linear_model\\_sag.py:329: ConvergenceWarning: The max_iter was reached which means the coef_ did not converge\n",
      "  warnings.warn(\"The max_iter was reached which means \"\n",
      "C:\\Users\\nacnu\\anaconda3\\envs\\learn-env\\lib\\site-packages\\sklearn\\linear_model\\_sag.py:329: ConvergenceWarning: The max_iter was reached which means the coef_ did not converge\n",
      "  warnings.warn(\"The max_iter was reached which means \"\n",
      "C:\\Users\\nacnu\\anaconda3\\envs\\learn-env\\lib\\site-packages\\sklearn\\linear_model\\_sag.py:329: ConvergenceWarning: The max_iter was reached which means the coef_ did not converge\n",
      "  warnings.warn(\"The max_iter was reached which means \"\n",
      "C:\\Users\\nacnu\\anaconda3\\envs\\learn-env\\lib\\site-packages\\sklearn\\linear_model\\_sag.py:329: ConvergenceWarning: The max_iter was reached which means the coef_ did not converge\n",
      "  warnings.warn(\"The max_iter was reached which means \"\n",
      "C:\\Users\\nacnu\\anaconda3\\envs\\learn-env\\lib\\site-packages\\sklearn\\linear_model\\_sag.py:329: ConvergenceWarning: The max_iter was reached which means the coef_ did not converge\n",
      "  warnings.warn(\"The max_iter was reached which means \"\n",
      "C:\\Users\\nacnu\\anaconda3\\envs\\learn-env\\lib\\site-packages\\sklearn\\linear_model\\_sag.py:329: ConvergenceWarning: The max_iter was reached which means the coef_ did not converge\n",
      "  warnings.warn(\"The max_iter was reached which means \"\n",
      "C:\\Users\\nacnu\\anaconda3\\envs\\learn-env\\lib\\site-packages\\sklearn\\linear_model\\_sag.py:329: ConvergenceWarning: The max_iter was reached which means the coef_ did not converge\n",
      "  warnings.warn(\"The max_iter was reached which means \"\n",
      "C:\\Users\\nacnu\\anaconda3\\envs\\learn-env\\lib\\site-packages\\sklearn\\linear_model\\_sag.py:329: ConvergenceWarning: The max_iter was reached which means the coef_ did not converge\n",
      "  warnings.warn(\"The max_iter was reached which means \"\n",
      "C:\\Users\\nacnu\\anaconda3\\envs\\learn-env\\lib\\site-packages\\sklearn\\linear_model\\_sag.py:329: ConvergenceWarning: The max_iter was reached which means the coef_ did not converge\n",
      "  warnings.warn(\"The max_iter was reached which means \"\n",
      "C:\\Users\\nacnu\\anaconda3\\envs\\learn-env\\lib\\site-packages\\sklearn\\linear_model\\_sag.py:329: ConvergenceWarning: The max_iter was reached which means the coef_ did not converge\n",
      "  warnings.warn(\"The max_iter was reached which means \"\n",
      "C:\\Users\\nacnu\\anaconda3\\envs\\learn-env\\lib\\site-packages\\sklearn\\linear_model\\_sag.py:329: ConvergenceWarning: The max_iter was reached which means the coef_ did not converge\n",
      "  warnings.warn(\"The max_iter was reached which means \"\n",
      "C:\\Users\\nacnu\\anaconda3\\envs\\learn-env\\lib\\site-packages\\sklearn\\linear_model\\_sag.py:329: ConvergenceWarning: The max_iter was reached which means the coef_ did not converge\n",
      "  warnings.warn(\"The max_iter was reached which means \"\n",
      "[Parallel(n_jobs=1)]: Done  30 out of  30 | elapsed:  1.5min finished\n"
     ]
    }
   ],
   "source": [
    "log_reg_gs.fit(X_train, y_train);"
   ]
  },
  {
   "cell_type": "code",
   "execution_count": 35,
   "metadata": {
    "ExecuteTime": {
     "end_time": "2023-01-05T01:28:37.648221Z",
     "start_time": "2023-01-05T01:28:37.633209Z"
    },
    "hidden": true
   },
   "outputs": [
    {
     "data": {
      "text/plain": [
       "{'logreg__solver': 'liblinear'}"
      ]
     },
     "execution_count": 35,
     "metadata": {},
     "output_type": "execute_result"
    }
   ],
   "source": [
    "log_reg_gs.best_params_"
   ]
  },
  {
   "cell_type": "code",
   "execution_count": 36,
   "metadata": {
    "ExecuteTime": {
     "end_time": "2023-01-05T01:28:37.663862Z",
     "start_time": "2023-01-05T01:28:37.648221Z"
    },
    "hidden": true
   },
   "outputs": [
    {
     "data": {
      "text/plain": [
       "0.7568799102132435"
      ]
     },
     "execution_count": 36,
     "metadata": {},
     "output_type": "execute_result"
    }
   ],
   "source": [
    "log_reg_gs.best_score_"
   ]
  },
  {
   "cell_type": "code",
   "execution_count": 37,
   "metadata": {
    "ExecuteTime": {
     "end_time": "2023-01-05T01:28:37.711218Z",
     "start_time": "2023-01-05T01:28:37.663862Z"
    },
    "hidden": true
   },
   "outputs": [
    {
     "data": {
      "text/plain": [
       "0.7536700336700337"
      ]
     },
     "execution_count": 37,
     "metadata": {},
     "output_type": "execute_result"
    }
   ],
   "source": [
    "log_reg_gs.best_estimator_.score(X_test,y_test)"
   ]
  },
  {
   "cell_type": "markdown",
   "metadata": {
    "hidden": true
   },
   "source": [
    "### Next Iteration of Gridsearch"
   ]
  },
  {
   "cell_type": "markdown",
   "metadata": {
    "hidden": true
   },
   "source": [
    "The last gridsearch run let me identify the best `solver` for the dataset: `Liblinear`. On this next iteration, I also wanted to review the best `max_iter`.\n",
    "\n",
    "The test results came back the same: max iterations 100 (the default), and `liblinear` as the best solver. I will use this as the default solver moving forward."
   ]
  },
  {
   "cell_type": "code",
   "execution_count": 38,
   "metadata": {
    "ExecuteTime": {
     "end_time": "2023-01-05T01:28:37.726588Z",
     "start_time": "2023-01-05T01:28:37.711218Z"
    },
    "hidden": true
   },
   "outputs": [],
   "source": [
    "log_params2 = {\n",
    "    'logreg__solver':['liblinear'],\n",
    "    'logreg__max_iter':[100, 150, 200],\n",
    "}"
   ]
  },
  {
   "cell_type": "code",
   "execution_count": 39,
   "metadata": {
    "ExecuteTime": {
     "end_time": "2023-01-05T01:28:37.742277Z",
     "start_time": "2023-01-05T01:28:37.727613Z"
    },
    "hidden": true
   },
   "outputs": [],
   "source": [
    "log_reg_gs2 = GridSearchCV(estimator=log_reg_model, param_grid=log_params2, cv=5, verbose=1)"
   ]
  },
  {
   "cell_type": "code",
   "execution_count": 40,
   "metadata": {
    "ExecuteTime": {
     "end_time": "2023-01-05T01:28:54.291158Z",
     "start_time": "2023-01-05T01:28:37.742277Z"
    },
    "hidden": true,
    "scrolled": false
   },
   "outputs": [
    {
     "name": "stdout",
     "output_type": "stream",
     "text": [
      "Fitting 5 folds for each of 3 candidates, totalling 15 fits\n"
     ]
    },
    {
     "name": "stderr",
     "output_type": "stream",
     "text": [
      "[Parallel(n_jobs=1)]: Using backend SequentialBackend with 1 concurrent workers.\n",
      "[Parallel(n_jobs=1)]: Done  15 out of  15 | elapsed:   15.1s finished\n"
     ]
    }
   ],
   "source": [
    "log_reg_gs2.fit(X_train, y_train);"
   ]
  },
  {
   "cell_type": "code",
   "execution_count": 41,
   "metadata": {
    "ExecuteTime": {
     "end_time": "2023-01-05T01:28:54.306719Z",
     "start_time": "2023-01-05T01:28:54.291158Z"
    },
    "hidden": true
   },
   "outputs": [
    {
     "data": {
      "text/plain": [
       "{'logreg__max_iter': 100, 'logreg__solver': 'liblinear'}"
      ]
     },
     "execution_count": 41,
     "metadata": {},
     "output_type": "execute_result"
    }
   ],
   "source": [
    "log_reg_gs2.best_params_"
   ]
  },
  {
   "cell_type": "code",
   "execution_count": 42,
   "metadata": {
    "ExecuteTime": {
     "end_time": "2023-01-05T01:28:54.321963Z",
     "start_time": "2023-01-05T01:28:54.307734Z"
    },
    "hidden": true
   },
   "outputs": [
    {
     "data": {
      "text/plain": [
       "0.757037037037037"
      ]
     },
     "execution_count": 42,
     "metadata": {},
     "output_type": "execute_result"
    }
   ],
   "source": [
    "log_reg_gs2.best_score_"
   ]
  },
  {
   "cell_type": "code",
   "execution_count": 43,
   "metadata": {
    "ExecuteTime": {
     "end_time": "2023-01-05T01:28:54.367656Z",
     "start_time": "2023-01-05T01:28:54.322975Z"
    },
    "hidden": true
   },
   "outputs": [
    {
     "data": {
      "text/plain": [
       "0.7536700336700337"
      ]
     },
     "execution_count": 43,
     "metadata": {},
     "output_type": "execute_result"
    }
   ],
   "source": [
    "log_reg_gs2.best_estimator_.score(X_test,y_test)"
   ]
  },
  {
   "cell_type": "markdown",
   "metadata": {
    "hidden": true
   },
   "source": [
    "### Final Logistic Regression Model"
   ]
  },
  {
   "cell_type": "markdown",
   "metadata": {
    "hidden": true
   },
   "source": [
    "After running several GridSearches, the final model for logistic regression is below. This is not a great model and is almost identical to my baseline logistic regression model. "
   ]
  },
  {
   "cell_type": "code",
   "execution_count": 44,
   "metadata": {
    "ExecuteTime": {
     "end_time": "2023-01-05T01:28:54.382969Z",
     "start_time": "2023-01-05T01:28:54.367656Z"
    },
    "hidden": true
   },
   "outputs": [],
   "source": [
    "log_reg_model_final = Pipeline([\n",
    "    ('ColTrans', ColTrans),\n",
    "    ('logreg', LogisticRegression(solver='liblinear', random_state=42))\n",
    "])"
   ]
  },
  {
   "cell_type": "code",
   "execution_count": 45,
   "metadata": {
    "ExecuteTime": {
     "end_time": "2023-01-05T01:28:55.790933Z",
     "start_time": "2023-01-05T01:28:54.383971Z"
    },
    "hidden": true
   },
   "outputs": [],
   "source": [
    "start1 = perf_counter()\n",
    "log_reg_model_final.fit(X_train, y_train);\n",
    "end1 = perf_counter()"
   ]
  },
  {
   "cell_type": "code",
   "execution_count": 46,
   "metadata": {
    "ExecuteTime": {
     "end_time": "2023-01-05T01:28:55.806045Z",
     "start_time": "2023-01-05T01:28:55.790933Z"
    },
    "hidden": true
   },
   "outputs": [],
   "source": [
    "log_reg_pipe_final = ModelRuns(log_reg_model_final, 'logreg', X_train, y_train)"
   ]
  },
  {
   "cell_type": "code",
   "execution_count": 47,
   "metadata": {
    "ExecuteTime": {
     "end_time": "2023-01-05T01:28:56.415442Z",
     "start_time": "2023-01-05T01:28:55.807084Z"
    },
    "hidden": true
   },
   "outputs": [
    {
     "name": "stdout",
     "output_type": "stream",
     "text": [
      "Train Report: \n",
      "              precision    recall  f1-score   support\n",
      "\n",
      "           0       0.74      0.86      0.80     24161\n",
      "           1       0.80      0.63      0.71     20389\n",
      "\n",
      "    accuracy                           0.76     44550\n",
      "   macro avg       0.77      0.75      0.75     44550\n",
      "weighted avg       0.76      0.76      0.75     44550\n",
      "\n",
      "ROC-AUC Score:0.827420488192703\n",
      "\n",
      "Test Report: \n",
      "              precision    recall  f1-score   support\n",
      "\n",
      "           0       0.74      0.85      0.79      8098\n",
      "           1       0.78      0.63      0.70      6752\n",
      "\n",
      "    accuracy                           0.75     14850\n",
      "   macro avg       0.76      0.74      0.75     14850\n",
      "weighted avg       0.76      0.75      0.75     14850\n",
      "\n",
      "ROC-AUC Score:0.8200432403003959\n"
     ]
    },
    {
     "data": {
      "image/png": "[encoded data removed]",
      "text/plain": [
       "<Figure size 432x288 with 2 Axes>"
      ]
     },
     "metadata": {
      "needs_background": "light"
     },
     "output_type": "display_data"
    },
    {
     "data": {
      "image/png": "[encoded data removed]",
      "text/plain": [
       "<Figure size 432x288 with 2 Axes>"
      ]
     },
     "metadata": {
      "needs_background": "light"
     },
     "output_type": "display_data"
    }
   ],
   "source": [
    "start2 = perf_counter()\n",
    "log_reg_pipe_final.run_all(X_train_run=X_train, X_test_run=X_test, y_train_run=y_train, y_test_run=y_test, train_results=True);\n",
    "end2 = perf_counter()"
   ]
  },
  {
   "cell_type": "code",
   "execution_count": 48,
   "metadata": {
    "ExecuteTime": {
     "end_time": "2023-01-05T01:28:56.430858Z",
     "start_time": "2023-01-05T01:28:56.415442Z"
    },
    "hidden": true
   },
   "outputs": [],
   "source": [
    "log_reg_time = (end1-start1 + end2 - start2)"
   ]
  },
  {
   "cell_type": "code",
   "execution_count": 49,
   "metadata": {
    "ExecuteTime": {
     "end_time": "2023-01-05T01:28:56.508866Z",
     "start_time": "2023-01-05T01:28:56.431887Z"
    },
    "hidden": true
   },
   "outputs": [],
   "source": [
    "record_results('logreg', log_reg_model_final, time_dic, log_reg_time, acc_dic, roc_auc_dic)"
   ]
  },
  {
   "cell_type": "markdown",
   "metadata": {
    "heading_collapsed": true
   },
   "source": [
    "## K-Nearest Neighbor"
   ]
  },
  {
   "cell_type": "markdown",
   "metadata": {
    "hidden": true
   },
   "source": [
    "My K-Nearest Neighbor model has 86% accuracy and an ROC-AUC score of 94% on the training data while the test results have an accuracy of 79% and ROC-AUC score of 86%. This is indicative of overfitting and I will look to reduce overfitting by adjusting hyperparameters through gridsearch.\n",
    "\n",
    "Overall, these results are pretty good though."
   ]
  },
  {
   "cell_type": "code",
   "execution_count": 50,
   "metadata": {
    "ExecuteTime": {
     "end_time": "2023-01-05T01:28:56.524892Z",
     "start_time": "2023-01-05T01:28:56.508866Z"
    },
    "hidden": true
   },
   "outputs": [],
   "source": [
    "knn_model = Pipeline([\n",
    "    ('ColTrans', ColTrans),\n",
    "    ('knn', KNeighborsClassifier())\n",
    "])"
   ]
  },
  {
   "cell_type": "code",
   "execution_count": 51,
   "metadata": {
    "ExecuteTime": {
     "end_time": "2023-01-05T01:28:59.050354Z",
     "start_time": "2023-01-05T01:28:56.525890Z"
    },
    "hidden": true
   },
   "outputs": [],
   "source": [
    "knn_model.fit(X_train, y_train);"
   ]
  },
  {
   "cell_type": "code",
   "execution_count": 52,
   "metadata": {
    "ExecuteTime": {
     "end_time": "2023-01-05T01:28:59.066053Z",
     "start_time": "2023-01-05T01:28:59.050354Z"
    },
    "hidden": true
   },
   "outputs": [],
   "source": [
    "knn_pipe = ModelRuns(knn_model, 'knn', X_train, y_train)"
   ]
  },
  {
   "cell_type": "code",
   "execution_count": null,
   "metadata": {
    "ExecuteTime": {
     "start_time": "2023-01-05T01:27:02.552Z"
    },
    "hidden": true
   },
   "outputs": [],
   "source": [
    "knn_pipe.run_all(X_train_run=X_train, X_test_run=X_test, y_train_run=y_train, y_test_run=y_test, train_results=True);"
   ]
  },
  {
   "cell_type": "markdown",
   "metadata": {
    "hidden": true
   },
   "source": [
    "### K-Nearest Neighbors GridSearch"
   ]
  },
  {
   "cell_type": "markdown",
   "metadata": {
    "hidden": true
   },
   "source": [
    "My KNN model is overfit, I will use GridSearch to attempt to reduce overfitting the training data and increase my score results on the test data. I will begin the search by adjusting `n_neighbors` and `weights`."
   ]
  },
  {
   "cell_type": "code",
   "execution_count": null,
   "metadata": {
    "ExecuteTime": {
     "start_time": "2023-01-05T01:27:02.554Z"
    },
    "hidden": true
   },
   "outputs": [],
   "source": [
    "knn_params = {\n",
    "    'knn__n_neighbors':[5, 7, 9],\n",
    "    'knn__weights':['uniform', 'distance']\n",
    "}\n",
    "knn_gs = GridSearchCV(estimator=knn_model, param_grid=knn_params, cv=5, verbose=1)\n",
    "knn_gs.fit(X_train, y_train);"
   ]
  },
  {
   "cell_type": "code",
   "execution_count": null,
   "metadata": {
    "ExecuteTime": {
     "start_time": "2023-01-05T01:27:02.555Z"
    },
    "hidden": true
   },
   "outputs": [],
   "source": [
    "knn_gs.best_params_"
   ]
  },
  {
   "cell_type": "code",
   "execution_count": null,
   "metadata": {
    "ExecuteTime": {
     "start_time": "2023-01-05T01:27:02.556Z"
    },
    "hidden": true
   },
   "outputs": [],
   "source": [
    "knn_gs.best_score_"
   ]
  },
  {
   "cell_type": "code",
   "execution_count": null,
   "metadata": {
    "ExecuteTime": {
     "start_time": "2023-01-05T01:27:02.557Z"
    },
    "hidden": true
   },
   "outputs": [],
   "source": [
    "knn_gs.best_estimator_.score(X_test,y_test)"
   ]
  },
  {
   "cell_type": "markdown",
   "metadata": {
    "hidden": true
   },
   "source": [
    "### Second Iteration of K-Nearest Neighbors GridSearch"
   ]
  },
  {
   "cell_type": "markdown",
   "metadata": {
    "hidden": true
   },
   "source": [
    "`Distance` is the best `weight` for the KNN model and the best `n_neighbors` is 9. 9 was at the upper end of my spectrum though and I will continue to increase the values in my next iteration. I will also look to further tune the model by adjusting the `p` hyperparameter.\n",
    "\n",
    "I tried several different times to find the best `n_neighbors` using GridSearch. While the model improved as the number increased, the improvement was minimal when the amount of runtime was considered. As such, I have decided to use 13 as the `n_neighbors` for this model.\n",
    "\n",
    "Results of the second iteration indicate:\n",
    "   - `n_neighbors` is 13\n",
    "   - `weights` is `distance`\n",
    "   - `p` is 1"
   ]
  },
  {
   "cell_type": "code",
   "execution_count": null,
   "metadata": {
    "ExecuteTime": {
     "start_time": "2023-01-05T01:27:02.559Z"
    },
    "hidden": true
   },
   "outputs": [],
   "source": [
    "knn_params2 = {\n",
    "    'knn__n_neighbors':[9, 11, 13],\n",
    "    'knn__weights':['distance'],\n",
    "    'knn__p':[1, 2]\n",
    "}\n",
    "knn_gs2 = GridSearchCV(estimator=knn_model, param_grid=knn_params2, cv=5, verbose=1)\n",
    "knn_gs2.fit(X_train, y_train);"
   ]
  },
  {
   "cell_type": "code",
   "execution_count": null,
   "metadata": {
    "ExecuteTime": {
     "start_time": "2023-01-05T01:27:02.560Z"
    },
    "hidden": true
   },
   "outputs": [],
   "source": [
    "knn_gs2.best_params_"
   ]
  },
  {
   "cell_type": "code",
   "execution_count": null,
   "metadata": {
    "ExecuteTime": {
     "start_time": "2023-01-05T01:27:02.562Z"
    },
    "hidden": true
   },
   "outputs": [],
   "source": [
    "knn_gs2.best_score_"
   ]
  },
  {
   "cell_type": "code",
   "execution_count": null,
   "metadata": {
    "ExecuteTime": {
     "start_time": "2023-01-05T01:27:02.563Z"
    },
    "hidden": true
   },
   "outputs": [],
   "source": [
    "knn_gs2.best_estimator_.score(X_test,y_test)"
   ]
  },
  {
   "cell_type": "markdown",
   "metadata": {
    "hidden": true
   },
   "source": [
    "### Final K-Nearest Neighbors Model"
   ]
  },
  {
   "cell_type": "markdown",
   "metadata": {
    "hidden": true
   },
   "source": [
    "The Final K-Nearest Neighbors Model increase accuracy from 79% to 80% and ROC-AUC score from 86% to 88% on test data. \n",
    "\n",
    "The model is even more overfit on the training data as well. Given more time, this could use additional tweaking."
   ]
  },
  {
   "cell_type": "code",
   "execution_count": null,
   "metadata": {
    "ExecuteTime": {
     "start_time": "2023-01-05T01:27:02.565Z"
    },
    "hidden": true
   },
   "outputs": [],
   "source": [
    "knn_model_final = Pipeline([\n",
    "    ('ColTrans', ColTrans),\n",
    "    ('knn', KNeighborsClassifier(n_neighbors=13, p=1, weights='distance'))\n",
    "])"
   ]
  },
  {
   "cell_type": "code",
   "execution_count": null,
   "metadata": {
    "ExecuteTime": {
     "start_time": "2023-01-05T01:27:02.566Z"
    },
    "hidden": true
   },
   "outputs": [],
   "source": [
    "start1 = perf_counter()\n",
    "knn_model_final.fit(X_train, y_train);\n",
    "end1 = perf_counter()"
   ]
  },
  {
   "cell_type": "code",
   "execution_count": null,
   "metadata": {
    "ExecuteTime": {
     "start_time": "2023-01-05T01:27:02.567Z"
    },
    "hidden": true
   },
   "outputs": [],
   "source": [
    "knn_pipe_final = ModelRuns(knn_model_final, 'knn', X_train, y_train)"
   ]
  },
  {
   "cell_type": "code",
   "execution_count": null,
   "metadata": {
    "ExecuteTime": {
     "start_time": "2023-01-05T01:27:02.569Z"
    },
    "hidden": true
   },
   "outputs": [],
   "source": [
    "start2 = perf_counter()\n",
    "knn_pipe_final.run_all(X_train_run=X_train, X_test_run=X_test, y_train_run=y_train, y_test_run=y_test, train_results=True);\n",
    "end2 = perf_counter()"
   ]
  },
  {
   "cell_type": "code",
   "execution_count": null,
   "metadata": {
    "ExecuteTime": {
     "start_time": "2023-01-05T01:27:02.570Z"
    },
    "hidden": true
   },
   "outputs": [],
   "source": [
    "knn_time = (end1-start1 + end2 - start2)\n",
    "# time_dic['knn'] = knn_time"
   ]
  },
  {
   "cell_type": "code",
   "execution_count": null,
   "metadata": {
    "ExecuteTime": {
     "start_time": "2023-01-05T01:27:02.571Z"
    },
    "hidden": true
   },
   "outputs": [],
   "source": [
    "record_results('knn', knn_model_final, time_dic, knn_time, acc_dic, roc_auc_dic)"
   ]
  },
  {
   "cell_type": "markdown",
   "metadata": {
    "hidden": true
   },
   "source": [
    "### K-Means and K-Nearest Neighbor"
   ]
  },
  {
   "cell_type": "markdown",
   "metadata": {
    "hidden": true
   },
   "source": [
    "For this method, I utilize unsupervised learning K-Means in conjunction with K-Nearest Neighbors. I have a loop to create a table utilizing 1-7 clusters, then separate the predictor data based on the cluster results. I then run K-Nearest Neighbors on each of the cluster groupings to determine if clustering helps the dataset. When the number of clusters is set to 1, it is the same as running K-Nearest Neighbors without clustering. \n",
    "\n",
    "The results of the model show that it is more beneficial to skip K-Means Clustering altogether. "
   ]
  },
  {
   "cell_type": "code",
   "execution_count": null,
   "metadata": {
    "ExecuteTime": {
     "start_time": "2023-01-05T01:27:02.572Z"
    },
    "hidden": true
   },
   "outputs": [],
   "source": [
    "df_names = ['kmeans_0', 'kmeans_1', 'kmeans_2', 'kmeans_3', 'kmeans_4', \n",
    "            'kmeans_5', 'kmeans_6']\n",
    "main_col = ['cluster_group']\n",
    "kmeans_results_df = pd.DataFrame(df_names, columns=main_col)\n",
    "\n",
    "for i in range(1,8):\n",
    "    kmeans_model = Pipeline([\n",
    "        ('ColTrans', ColTrans),\n",
    "        ('kmeans', KMeans(n_clusters=i, random_state=42))\n",
    "    ])\n",
    "    \n",
    "    \n",
    "    # Fitting the model\n",
    "    kmeans_model.fit(X_train, y_train);\n",
    "    \n",
    "    # creating a dataframe for X_train so I can house the cluster data\n",
    "    kmeans_X_train_df = pd.DataFrame(X_train).copy()\n",
    "    \n",
    "    \n",
    "    # predicting data before adding back the target var so there is no data leakage \n",
    "    kmeans_X_train_df['cluster'] = kmeans_model.predict(X_train)\n",
    "\n",
    "    \n",
    "    # adding the target variable back so that I can then separate into dfs based on clusters\n",
    "    kmeans_X_train_df['target'] = y_train.copy()\n",
    "    \n",
    "#     print(kmeans_X_train_df)\n",
    "    \n",
    "    # creating new dataframes based on clusters and storing in a dictionary\n",
    "    kmeans_train_dic = {}\n",
    "    for x in range(i-i, i):\n",
    "#         print(x)\n",
    "#         print(df_names[x])\n",
    "#         print(kmeans_X_train_df[kmeans_X_train_df['cluster'] == x])\n",
    "        kmeans_train_dic[df_names[x]] = kmeans_X_train_df[kmeans_X_train_df['cluster'] == x]\n",
    "\n",
    "        \n",
    "    # need to seperate x, y vars now\n",
    "    y_kmeans_train_dic = {}\n",
    "    for x in range(i-i, i):\n",
    "        y_kmeans_train_dic[df_names[x]] = kmeans_train_dic[df_names[x]].pop('target') \n",
    "        \n",
    "    # creating a dataframe for X_test so I can house the cluster data\n",
    "    kmeans_X_test_df = pd.DataFrame(X_test).copy()\n",
    "    \n",
    "    # predicting data before adding back the target var so there is no data leakage \n",
    "    kmeans_X_test_df['cluster'] = kmeans_model.predict(X_test)\n",
    "    \n",
    "    # adding the target variable back so that I can then separate into dfs based on clusters\n",
    "    kmeans_X_test_df['target'] = y_test.copy()\n",
    "    \n",
    "    \n",
    "    # creating new dataframes based on clusters and storing in a dictionary\n",
    "    kmeans_test_dic = {}\n",
    "    for x in range(i-i, i):\n",
    "#         print(df_names[x])\n",
    "        kmeans_test_dic[df_names[x]] = kmeans_X_test_df[kmeans_X_test_df['cluster'] == x]\n",
    "        \n",
    "    # need to seperate x, y vars now\n",
    "    y_kmeans_test_dic = {}\n",
    "    for x in range(i-i, i):\n",
    "        y_kmeans_test_dic[df_names[x]] = kmeans_test_dic[df_names[x]].pop('target')\n",
    "        \n",
    "#     print(kmeans_train_dic)    \n",
    "#     print(kmeans_test_dic)    \n",
    "        \n",
    "    # It works above this point\n",
    "    # running the knn model on each cluster\n",
    "    knn_model = Pipeline([\n",
    "        ('ColTrans', ColTrans),\n",
    "        ('knn', KNeighborsClassifier())\n",
    "    ])\n",
    "    \n",
    "    # creating a dic to story each fitted model\n",
    "    model_dic = {}\n",
    "    for x in range(0, i):\n",
    "        model_dic[df_names[x]] = knn_model.fit(kmeans_train_dic[df_names[x]], y_kmeans_train_dic[df_names[x]])\n",
    "        \n",
    "    # Creating a dic to store test scores\n",
    "    knn_test_scores = {}\n",
    "    for x in range(0, i):\n",
    "        knn_test_scores[df_names[x]] = model_dic[df_names[x]].score(kmeans_test_dic[df_names[x]], y_kmeans_test_dic[df_names[x]])\n",
    "        \n",
    "    # creating a dataframe to store all test scores\n",
    "#     main_col = ['cluster_group']\n",
    "#     kmeans_results_df = pd.DataFrame(knn_test_scores.keys(), columns=main_col)\n",
    "    \n",
    "    # appending each itteration to df\n",
    "    addition = pd.DataFrame({\n",
    "        f'clusters={i}':  knn_test_scores.values()})\n",
    "    \n",
    "    kmeans_results_df = pd.concat([kmeans_results_df, addition], axis=1)"
   ]
  },
  {
   "cell_type": "code",
   "execution_count": null,
   "metadata": {
    "ExecuteTime": {
     "start_time": "2023-01-05T01:27:02.574Z"
    },
    "hidden": true
   },
   "outputs": [],
   "source": [
    "kmeans_results_clean = kmeans_results_df.set_index('cluster_group').copy()\n",
    "kmeans_results_clean"
   ]
  },
  {
   "cell_type": "code",
   "execution_count": null,
   "metadata": {
    "ExecuteTime": {
     "start_time": "2023-01-05T01:27:02.575Z"
    },
    "hidden": true
   },
   "outputs": [],
   "source": [
    "for col in kmeans_results_clean.columns:\n",
    "    print(f\"{col} Accuracy: {np.mean(kmeans_results_df[col])})"
   ]
  },
  {
   "cell_type": "markdown",
   "metadata": {
    "heading_collapsed": true
   },
   "source": [
    "## Decision Tree (DONE)"
   ]
  },
  {
   "cell_type": "markdown",
   "metadata": {
    "hidden": true
   },
   "source": [
    "My decision tree model has 100% accuracy and an ROC-AUC score of 99.99% for the train data while the test results have an accuracy of 78% and an ROC-AUC score of 78%. This is indicative of overfitting and I will look to reduce overfitting by adjusting hyperparameters through gridsearch."
   ]
  },
  {
   "cell_type": "code",
   "execution_count": null,
   "metadata": {
    "ExecuteTime": {
     "start_time": "2023-01-05T01:27:02.577Z"
    },
    "hidden": true
   },
   "outputs": [],
   "source": [
    "dtc_model = Pipeline([\n",
    "    ('ColTrans', ColTrans),\n",
    "    ('dtc', DecisionTreeClassifier(random_state=42))\n",
    "])"
   ]
  },
  {
   "cell_type": "code",
   "execution_count": null,
   "metadata": {
    "ExecuteTime": {
     "start_time": "2023-01-05T01:27:02.578Z"
    },
    "hidden": true
   },
   "outputs": [],
   "source": [
    "dtc_model.fit(X_train, y_train);"
   ]
  },
  {
   "cell_type": "code",
   "execution_count": null,
   "metadata": {
    "ExecuteTime": {
     "start_time": "2023-01-05T01:27:02.579Z"
    },
    "hidden": true
   },
   "outputs": [],
   "source": [
    "dtc_pipe = ModelRuns(dtc_model, 'dtc', X_train, y_train)"
   ]
  },
  {
   "cell_type": "code",
   "execution_count": null,
   "metadata": {
    "ExecuteTime": {
     "start_time": "2023-01-05T01:27:02.580Z"
    },
    "hidden": true
   },
   "outputs": [],
   "source": [
    "dtc_pipe.run_all(X_train_run=X_train, X_test_run=X_test, y_train_run=y_train, y_test_run=y_test, train_results=True);"
   ]
  },
  {
   "cell_type": "markdown",
   "metadata": {
    "ExecuteTime": {
     "end_time": "2023-01-04T19:28:08.983868Z",
     "start_time": "2023-01-04T19:28:08.970186Z"
    },
    "hidden": true
   },
   "source": [
    "### Decision Tree GridSearch"
   ]
  },
  {
   "cell_type": "markdown",
   "metadata": {
    "hidden": true
   },
   "source": [
    "My decision tree model was very overfit. I will look to adjust some of the hyperparameters to reduce overfitting, starting with `criterion` and `max_depth`."
   ]
  },
  {
   "cell_type": "code",
   "execution_count": null,
   "metadata": {
    "ExecuteTime": {
     "start_time": "2023-01-05T01:27:02.582Z"
    },
    "hidden": true
   },
   "outputs": [],
   "source": [
    "dtc_params = {\n",
    "    'dtc__criterion':[\"gini\", \"entropy\"],\n",
    "    'dtc__max_depth':[4, 8, 16, 32, None]\n",
    "}\n",
    "dtc_gs = GridSearchCV(estimator=dtc_model, param_grid=dtc_params, cv=5, verbose=1)\n",
    "dtc_gs.fit(X_train, y_train);"
   ]
  },
  {
   "cell_type": "code",
   "execution_count": null,
   "metadata": {
    "ExecuteTime": {
     "start_time": "2023-01-05T01:27:02.583Z"
    },
    "hidden": true
   },
   "outputs": [],
   "source": [
    "dtc_gs.best_params_"
   ]
  },
  {
   "cell_type": "code",
   "execution_count": null,
   "metadata": {
    "ExecuteTime": {
     "start_time": "2023-01-05T01:27:02.584Z"
    },
    "hidden": true
   },
   "outputs": [],
   "source": [
    "dtc_gs.best_score_"
   ]
  },
  {
   "cell_type": "code",
   "execution_count": null,
   "metadata": {
    "ExecuteTime": {
     "start_time": "2023-01-05T01:27:02.585Z"
    },
    "hidden": true
   },
   "outputs": [],
   "source": [
    "dtc_gs.best_estimator_.score(X_test,y_test)"
   ]
  },
  {
   "cell_type": "markdown",
   "metadata": {
    "hidden": true
   },
   "source": [
    "### Second Iteration of Decision Tree GridSearch"
   ]
  },
  {
   "cell_type": "markdown",
   "metadata": {
    "hidden": true
   },
   "source": [
    "Entropy is the best solver for my Decision tree and I will use that for the second method. The best max depth is 32 which could be far off from the `None` category. I will adjust the max depth closer to 32 to see how it compares. I will also look to adjust `min_samples_split` to attempt to tune the tree further.\n",
    "\n",
    "Results of GridSearch indicate:\n",
    "\n",
    "   - `criterion` is `entropy`\n",
    "   - `max_depth` is 34\n",
    "   - `min_samples_split` is 3\n",
    "   \n",
    "   \n",
    "I will use these features moving forward."
   ]
  },
  {
   "cell_type": "code",
   "execution_count": null,
   "metadata": {
    "ExecuteTime": {
     "start_time": "2023-01-05T01:27:02.587Z"
    },
    "hidden": true
   },
   "outputs": [],
   "source": [
    "dtc_params2 = {\n",
    "    'dtc__criterion':[\"entropy\"],\n",
    "    'dtc__max_depth':[30, 31, 32, 33, 34, 35, 36],\n",
    "    'dtc__min_samples_split': [2, 3, 4, 5, 6]\n",
    "}\n",
    "dtc_gs2 = GridSearchCV(estimator=dtc_model, param_grid=dtc_params2, cv=5, verbose=1)\n",
    "dtc_gs2.fit(X_train, y_train);"
   ]
  },
  {
   "cell_type": "code",
   "execution_count": null,
   "metadata": {
    "ExecuteTime": {
     "start_time": "2023-01-05T01:27:02.588Z"
    },
    "hidden": true
   },
   "outputs": [],
   "source": [
    "dtc_gs2.best_params_"
   ]
  },
  {
   "cell_type": "code",
   "execution_count": null,
   "metadata": {
    "ExecuteTime": {
     "start_time": "2023-01-05T01:27:02.590Z"
    },
    "hidden": true
   },
   "outputs": [],
   "source": [
    "dtc_gs2.best_score_"
   ]
  },
  {
   "cell_type": "code",
   "execution_count": null,
   "metadata": {
    "ExecuteTime": {
     "start_time": "2023-01-05T01:27:02.591Z"
    },
    "hidden": true
   },
   "outputs": [],
   "source": [
    "dtc_gs2.best_estimator_.score(X_test,y_test)"
   ]
  },
  {
   "cell_type": "markdown",
   "metadata": {
    "hidden": true
   },
   "source": [
    "### Final Decision Tree Model"
   ]
  },
  {
   "cell_type": "markdown",
   "metadata": {
    "hidden": true
   },
   "source": [
    "The Final Decision Tree Model does not change much from the baseline decision tree model. The main area of improvement is the ROC-AUC score being raised from 78% to 79%. \n",
    "\n",
    "The model is still overfit on the training data as well. Given more time, this could use additional tweaking. "
   ]
  },
  {
   "cell_type": "code",
   "execution_count": null,
   "metadata": {
    "ExecuteTime": {
     "start_time": "2023-01-05T01:27:02.593Z"
    },
    "hidden": true
   },
   "outputs": [],
   "source": [
    "dtc_model_final = Pipeline([\n",
    "    ('ColTrans', ColTrans),\n",
    "    ('dtc', DecisionTreeClassifier(criterion='entropy', max_depth=34, \n",
    "                                   min_samples_split=3, random_state=42))\n",
    "])"
   ]
  },
  {
   "cell_type": "code",
   "execution_count": null,
   "metadata": {
    "ExecuteTime": {
     "start_time": "2023-01-05T01:27:02.594Z"
    },
    "hidden": true
   },
   "outputs": [],
   "source": [
    "start1 = perf_counter()\n",
    "dtc_model_final.fit(X_train, y_train);\n",
    "end1 = perf_counter()"
   ]
  },
  {
   "cell_type": "code",
   "execution_count": null,
   "metadata": {
    "ExecuteTime": {
     "start_time": "2023-01-05T01:27:02.595Z"
    },
    "hidden": true
   },
   "outputs": [],
   "source": [
    "dtc_pipe_final = ModelRuns(dtc_model_final, 'dtc', X_train, y_train)"
   ]
  },
  {
   "cell_type": "code",
   "execution_count": null,
   "metadata": {
    "ExecuteTime": {
     "start_time": "2023-01-05T01:27:02.596Z"
    },
    "hidden": true
   },
   "outputs": [],
   "source": [
    "start2 = perf_counter()\n",
    "dtc_pipe_final.run_all(X_train_run=X_train, X_test_run=X_test, y_train_run=y_train, y_test_run=y_test, train_results=True);\n",
    "end2 = perf_counter()"
   ]
  },
  {
   "cell_type": "code",
   "execution_count": null,
   "metadata": {
    "ExecuteTime": {
     "start_time": "2023-01-05T01:27:02.597Z"
    },
    "hidden": true
   },
   "outputs": [],
   "source": [
    "dtc_time = (end1-start1 + end2 - start2)\n",
    "# time_dic['dtc'] = dtc_time"
   ]
  },
  {
   "cell_type": "code",
   "execution_count": null,
   "metadata": {
    "ExecuteTime": {
     "start_time": "2023-01-05T01:27:02.598Z"
    },
    "hidden": true
   },
   "outputs": [],
   "source": [
    "record_results('dtc', dtc_model_final, time_dic, dtc_time, acc_dic, roc_auc_dic)"
   ]
  },
  {
   "cell_type": "markdown",
   "metadata": {
    "heading_collapsed": true
   },
   "source": [
    "## Random Forest (DONE)"
   ]
  },
  {
   "cell_type": "markdown",
   "metadata": {
    "hidden": true
   },
   "source": [
    "My random forest model has 100% accuracy and an ROC-AUC score of 99.95% for the train data while the test results have an accuracy of 82% and an ROC-AUC score of 89%. This is indicative of overfitting and I will look to reduce overfitting by adjusting hyperparameters through gridsearch.\n",
    "\n",
    "Overall, these results are pretty good though. "
   ]
  },
  {
   "cell_type": "code",
   "execution_count": null,
   "metadata": {
    "ExecuteTime": {
     "start_time": "2023-01-05T01:27:02.600Z"
    },
    "hidden": true
   },
   "outputs": [],
   "source": [
    "rf_model = Pipeline([\n",
    "    ('ColTrans', ColTrans),\n",
    "    ('rf', RandomForestClassifier(random_state=42))\n",
    "])"
   ]
  },
  {
   "cell_type": "code",
   "execution_count": null,
   "metadata": {
    "ExecuteTime": {
     "start_time": "2023-01-05T01:27:02.601Z"
    },
    "hidden": true
   },
   "outputs": [],
   "source": [
    "rf_model.fit(X_train, y_train);"
   ]
  },
  {
   "cell_type": "code",
   "execution_count": null,
   "metadata": {
    "ExecuteTime": {
     "start_time": "2023-01-05T01:27:02.603Z"
    },
    "hidden": true
   },
   "outputs": [],
   "source": [
    "rf_pipe = ModelRuns(rf_model, 'rf', X_train, y_train)"
   ]
  },
  {
   "cell_type": "code",
   "execution_count": null,
   "metadata": {
    "ExecuteTime": {
     "start_time": "2023-01-05T01:27:02.604Z"
    },
    "hidden": true
   },
   "outputs": [],
   "source": [
    "rf_pipe.run_all(X_train_run=X_train, X_test_run=X_test, y_train_run=y_train, y_test_run=y_test, train_results=True);"
   ]
  },
  {
   "cell_type": "markdown",
   "metadata": {
    "hidden": true
   },
   "source": [
    "### Random Forest GridSearch"
   ]
  },
  {
   "cell_type": "markdown",
   "metadata": {
    "hidden": true
   },
   "source": [
    "My Random forest model is overfit, I will use GridSearch to attempt to reduce overfitting the training data and increase my score results on the test data. Just like with the decision tree model I am beginning with `criterion` and `max_depth`."
   ]
  },
  {
   "cell_type": "code",
   "execution_count": null,
   "metadata": {
    "ExecuteTime": {
     "start_time": "2023-01-05T01:27:02.606Z"
    },
    "hidden": true
   },
   "outputs": [],
   "source": [
    "rf_params = {\n",
    "    'rf__criterion':[\"gini\", \"entropy\", 'log_loss'],\n",
    "    'rf__max_depth':[4, 16, 32, None]\n",
    "}\n",
    "rf_gs = GridSearchCV(estimator=rf_model, param_grid=rf_params, cv=5, verbose=1)\n",
    "rf_gs.fit(X_train, y_train);"
   ]
  },
  {
   "cell_type": "code",
   "execution_count": null,
   "metadata": {
    "ExecuteTime": {
     "start_time": "2023-01-05T01:27:02.607Z"
    },
    "hidden": true
   },
   "outputs": [],
   "source": [
    "rf_gs.best_params_"
   ]
  },
  {
   "cell_type": "code",
   "execution_count": null,
   "metadata": {
    "ExecuteTime": {
     "start_time": "2023-01-05T01:27:02.608Z"
    },
    "hidden": true
   },
   "outputs": [],
   "source": [
    "rf_gs.best_score_"
   ]
  },
  {
   "cell_type": "code",
   "execution_count": null,
   "metadata": {
    "ExecuteTime": {
     "start_time": "2023-01-05T01:27:02.610Z"
    },
    "hidden": true
   },
   "outputs": [],
   "source": [
    "rf_gs.best_estimator_.score(X_test,y_test)"
   ]
  },
  {
   "cell_type": "markdown",
   "metadata": {
    "hidden": true
   },
   "source": [
    "### Second Iteration of GridSearch"
   ]
  },
  {
   "cell_type": "markdown",
   "metadata": {
    "hidden": true
   },
   "source": [
    "After completing one GridSearch, I have decided to stick with the criterion: `entropy`. The best max depth is 32 which could be far off from the `None` category. I will adjust the max depth closer to 32 to see how it compares. I will also look to adjust `max_features` to attempt to tune the forest further.\n",
    "\n",
    "Results of GridSearch indicate:\n",
    "\n",
    "   - `criterion` is `entropy`\n",
    "   - `max_depth` is 32\n",
    "   - `max_features` is `log2`\n",
    "   \n",
    "   \n",
    "I will use these features moving forward."
   ]
  },
  {
   "cell_type": "code",
   "execution_count": null,
   "metadata": {
    "ExecuteTime": {
     "start_time": "2023-01-05T01:27:02.611Z"
    },
    "hidden": true
   },
   "outputs": [],
   "source": [
    "rf_params2 = {\n",
    "    'rf__criterion':[\"entropy\"],\n",
    "    'rf__max_depth':[31, 32, 33],\n",
    "    'rf__max_features': ['auto', 'log2', None, .5]\n",
    "}\n",
    "rf_gs2 = GridSearchCV(estimator=rf_model, param_grid=rf_params2, cv=5, verbose=1)\n",
    "rf_gs2.fit(X_train, y_train);"
   ]
  },
  {
   "cell_type": "code",
   "execution_count": null,
   "metadata": {
    "ExecuteTime": {
     "start_time": "2023-01-05T01:27:02.613Z"
    },
    "hidden": true
   },
   "outputs": [],
   "source": [
    "rf_gs2.best_params_"
   ]
  },
  {
   "cell_type": "code",
   "execution_count": null,
   "metadata": {
    "ExecuteTime": {
     "start_time": "2023-01-05T01:27:02.614Z"
    },
    "hidden": true
   },
   "outputs": [],
   "source": [
    "rf_gs2.best_score_"
   ]
  },
  {
   "cell_type": "code",
   "execution_count": null,
   "metadata": {
    "ExecuteTime": {
     "start_time": "2023-01-05T01:27:02.615Z"
    },
    "hidden": true
   },
   "outputs": [],
   "source": [
    "rf_gs2.best_estimator_.score(X_test,y_test)"
   ]
  },
  {
   "cell_type": "markdown",
   "metadata": {
    "hidden": true
   },
   "source": [
    "### Random Forest Final Model"
   ]
  },
  {
   "cell_type": "markdown",
   "metadata": {
    "hidden": true
   },
   "source": [
    "The Final Random Forest Model does not change much from the baseline decision tree model. The main area of improvement is the ROC-AUC score being raised from 89.6% to 89.9%.\n",
    "\n",
    "The model is still overfit on the training data as well. Given more time, this could use additional tweaking."
   ]
  },
  {
   "cell_type": "code",
   "execution_count": null,
   "metadata": {
    "ExecuteTime": {
     "start_time": "2023-01-05T01:27:02.617Z"
    },
    "hidden": true
   },
   "outputs": [],
   "source": [
    "rf_model_final = Pipeline([\n",
    "    ('ColTrans', ColTrans),\n",
    "    ('rf', RandomForestClassifier(criterion='entropy', max_depth=32, \n",
    "                                  max_features='log2', random_state=42))\n",
    "])"
   ]
  },
  {
   "cell_type": "code",
   "execution_count": null,
   "metadata": {
    "ExecuteTime": {
     "start_time": "2023-01-05T01:27:02.618Z"
    },
    "hidden": true
   },
   "outputs": [],
   "source": [
    "start1 = perf_counter()\n",
    "rf_model_final.fit(X_train, y_train);\n",
    "end1 = perf_counter()"
   ]
  },
  {
   "cell_type": "code",
   "execution_count": null,
   "metadata": {
    "ExecuteTime": {
     "start_time": "2023-01-05T01:27:02.619Z"
    },
    "hidden": true
   },
   "outputs": [],
   "source": [
    "rf_pipe_final = ModelRuns(rf_model_final, 'rf', X_train, y_train)"
   ]
  },
  {
   "cell_type": "code",
   "execution_count": null,
   "metadata": {
    "ExecuteTime": {
     "start_time": "2023-01-05T01:27:02.620Z"
    },
    "hidden": true
   },
   "outputs": [],
   "source": [
    "start2 = perf_counter()\n",
    "rf_pipe_final.run_all(X_train_run=X_train, X_test_run=X_test, y_train_run=y_train, y_test_run=y_test, train_results=True);\n",
    "end2 = perf_counter()"
   ]
  },
  {
   "cell_type": "code",
   "execution_count": null,
   "metadata": {
    "ExecuteTime": {
     "start_time": "2023-01-05T01:27:02.622Z"
    },
    "hidden": true
   },
   "outputs": [],
   "source": [
    "rf_time = (end1-start1 + end2 - start2)\n",
    "# time_dic['rf'] = rf_time"
   ]
  },
  {
   "cell_type": "code",
   "execution_count": null,
   "metadata": {
    "ExecuteTime": {
     "start_time": "2023-01-05T01:27:02.623Z"
    },
    "hidden": true
   },
   "outputs": [],
   "source": [
    "record_results('rf', rf_model_final, time_dic, rf_time, acc_dic, roc_auc_dic)"
   ]
  },
  {
   "cell_type": "markdown",
   "metadata": {
    "heading_collapsed": true
   },
   "source": [
    "## C-Support Vector Classification (SVC) (DONE)"
   ]
  },
  {
   "cell_type": "markdown",
   "metadata": {
    "hidden": true
   },
   "source": [
    "This model takes a long time to run (over 20 minutes) and gives relatively similar results when compared to other models. For the train data, the accuracy is 80% and ROC-AUC score is 88%. For the test data, the accuracy is 79% and ROC-AUC score is 86%. \n",
    "\n",
    "The accuracy and ROC-AUC scores line up relatively well between train and test data indicating that there might be a slight overfitting but not significant ooverfitting.\n",
    "\n",
    "Since the model takes so long to run and is relatively well fit, I will not be adjusting any of the hyperparameters of this model."
   ]
  },
  {
   "cell_type": "code",
   "execution_count": null,
   "metadata": {
    "ExecuteTime": {
     "start_time": "2023-01-05T01:27:02.625Z"
    },
    "hidden": true
   },
   "outputs": [],
   "source": [
    "SVC_model = Pipeline([\n",
    "    ('ColTrans', ColTrans),\n",
    "    ('SVC', SVC(probability=True, random_state=42))\n",
    "])"
   ]
  },
  {
   "cell_type": "code",
   "execution_count": null,
   "metadata": {
    "ExecuteTime": {
     "start_time": "2023-01-05T01:27:02.626Z"
    },
    "hidden": true
   },
   "outputs": [],
   "source": [
    "start1 = perf_counter()\n",
    "SVC_model.fit(X_train, y_train);\n",
    "end1 = perf_counter()"
   ]
  },
  {
   "cell_type": "code",
   "execution_count": null,
   "metadata": {
    "ExecuteTime": {
     "start_time": "2023-01-05T01:27:02.627Z"
    },
    "hidden": true
   },
   "outputs": [],
   "source": [
    "SVC_pipe = ModelRuns(SVC_model, 'svc', X_train, y_train)"
   ]
  },
  {
   "cell_type": "code",
   "execution_count": null,
   "metadata": {
    "ExecuteTime": {
     "start_time": "2023-01-05T01:27:02.628Z"
    },
    "hidden": true
   },
   "outputs": [],
   "source": [
    "start2 = perf_counter()\n",
    "SVC_pipe.run_all(X_train_run=X_train, X_test_run=X_test, y_train_run=y_train, y_test_run=y_test, train_results=True);\n",
    "end2 = perf_counter()"
   ]
  },
  {
   "cell_type": "code",
   "execution_count": null,
   "metadata": {
    "ExecuteTime": {
     "start_time": "2023-01-05T01:27:02.629Z"
    },
    "hidden": true
   },
   "outputs": [],
   "source": [
    "svc_time = (end1-start1 + end2 - start2)\n",
    "time_dic['SVC'] = svc_time"
   ]
  },
  {
   "cell_type": "code",
   "execution_count": null,
   "metadata": {
    "ExecuteTime": {
     "start_time": "2023-01-05T01:27:02.631Z"
    },
    "hidden": true
   },
   "outputs": [],
   "source": [
    "record_results('svc', SVC_model, time_dic, svc_time, acc_dic, roc_auc_dic)"
   ]
  },
  {
   "cell_type": "markdown",
   "metadata": {
    "heading_collapsed": true
   },
   "source": [
    "## Nu-Support Vector Classification (NuSVC) (DONE)"
   ]
  },
  {
   "cell_type": "markdown",
   "metadata": {
    "hidden": true
   },
   "source": [
    "This model takes a long time to run (over 30 minutes) and gives relatively similar results when compared to other models. For the train data, the accuracy is 80% and ROC-AUC score is 88%. For the test data, the accuracy is 79% and ROC-AUC score is 86%. \n",
    "\n",
    "The accuracy and ROC-AUC scores line up relatively well between train and test data indicating that there might be a slight overfitting but not significant ooverfitting.\n",
    "\n",
    "Since the model takes so long to run and is relatively well fit, I will not be adjusting any of the hyperparameters of this model."
   ]
  },
  {
   "cell_type": "code",
   "execution_count": null,
   "metadata": {
    "ExecuteTime": {
     "start_time": "2023-01-05T01:27:02.632Z"
    },
    "hidden": true
   },
   "outputs": [],
   "source": [
    "nu_model = Pipeline([\n",
    "    ('ColTrans', ColTrans),\n",
    "    ('NuSVC', NuSVC(probability=True, random_state=42))\n",
    "])"
   ]
  },
  {
   "cell_type": "code",
   "execution_count": null,
   "metadata": {
    "ExecuteTime": {
     "start_time": "2023-01-05T01:27:02.633Z"
    },
    "hidden": true
   },
   "outputs": [],
   "source": [
    "start1 = perf_counter()\n",
    "nu_model.fit(X_train, y_train);\n",
    "end1 = perf_counter()"
   ]
  },
  {
   "cell_type": "code",
   "execution_count": null,
   "metadata": {
    "ExecuteTime": {
     "start_time": "2023-01-05T01:27:02.635Z"
    },
    "hidden": true
   },
   "outputs": [],
   "source": [
    "nu_pipe = ModelRuns(nu_model, 'NuSVC', X_train, y_train)"
   ]
  },
  {
   "cell_type": "code",
   "execution_count": null,
   "metadata": {
    "ExecuteTime": {
     "start_time": "2023-01-05T01:27:02.636Z"
    },
    "hidden": true
   },
   "outputs": [],
   "source": [
    "start2 = perf_counter()\n",
    "nu_pipe.run_all(X_train_run=X_train, X_test_run=X_test, y_train_run=y_train, y_test_run=y_test, train_results=True);\n",
    "end2 = perf_counter()"
   ]
  },
  {
   "cell_type": "code",
   "execution_count": null,
   "metadata": {
    "ExecuteTime": {
     "start_time": "2023-01-05T01:27:02.637Z"
    },
    "hidden": true
   },
   "outputs": [],
   "source": [
    "nusvc_time = (end1-start1 + end2 - start2)\n",
    "time_dic['NuSVC'] = nusvc_time"
   ]
  },
  {
   "cell_type": "code",
   "execution_count": null,
   "metadata": {
    "ExecuteTime": {
     "start_time": "2023-01-05T01:27:02.638Z"
    },
    "hidden": true
   },
   "outputs": [],
   "source": [
    "record_results('nu_svc', nu_model, time_dic, nusvc_time, acc_dic, roc_auc_dic)"
   ]
  },
  {
   "cell_type": "markdown",
   "metadata": {},
   "source": [
    "## AdaBoost"
   ]
  },
  {
   "cell_type": "markdown",
   "metadata": {},
   "source": [
    "My AdaBoost model has 75% accuracy and an ROC-AUC score of 83% on the training data while the test results have an accuracy of 74% and ROC-AUC score of 82%. The accuracy and ROC-AUC scores line up relatively well between train and test data indicating that there might be a slight overfitting but not significant ooverfitting."
   ]
  },
  {
   "cell_type": "code",
   "execution_count": null,
   "metadata": {
    "ExecuteTime": {
     "start_time": "2023-01-05T01:27:02.640Z"
    }
   },
   "outputs": [],
   "source": [
    "ada_model = Pipeline([\n",
    "    ('ColTrans', ColTrans),\n",
    "    ('ada', AdaBoostClassifier(random_state=42))\n",
    "])"
   ]
  },
  {
   "cell_type": "code",
   "execution_count": null,
   "metadata": {
    "ExecuteTime": {
     "start_time": "2023-01-05T01:27:02.641Z"
    }
   },
   "outputs": [],
   "source": [
    "ada_model.fit(X_train, y_train);"
   ]
  },
  {
   "cell_type": "code",
   "execution_count": null,
   "metadata": {
    "ExecuteTime": {
     "start_time": "2023-01-05T01:27:02.642Z"
    }
   },
   "outputs": [],
   "source": [
    "ada_pipe = ModelRuns(ada_model, 'ada', X_train, y_train)"
   ]
  },
  {
   "cell_type": "code",
   "execution_count": null,
   "metadata": {
    "ExecuteTime": {
     "start_time": "2023-01-05T01:27:02.644Z"
    }
   },
   "outputs": [],
   "source": [
    "ada_pipe.run_all(X_train_run=X_train, X_test_run=X_test, y_train_run=y_train, y_test_run=y_test, train_results=True);"
   ]
  },
  {
   "cell_type": "markdown",
   "metadata": {},
   "source": [
    "### Adaboost GridSearch"
   ]
  },
  {
   "cell_type": "markdown",
   "metadata": {},
   "source": [
    "My AdaBoost model is one of the worst baseline performing models in this analysis, though the level of overfitting is one of the least. I will look to adjust the hyperparameters and tune the model to improve performance."
   ]
  },
  {
   "cell_type": "code",
   "execution_count": null,
   "metadata": {
    "ExecuteTime": {
     "start_time": "2023-01-05T01:27:02.645Z"
    }
   },
   "outputs": [],
   "source": [
    "ada_params = {\n",
    "    'ada__n_estimators':[25, 50, 100],\n",
    "    'ada__learning_rate':[0.5, 1, 2],\n",
    "\n",
    "}\n",
    "ada_gs = GridSearchCV(estimator=ada_model, param_grid=ada_params, cv=5, verbose=1)\n",
    "ada_gs.fit(X_train, y_train)"
   ]
  },
  {
   "cell_type": "code",
   "execution_count": null,
   "metadata": {
    "ExecuteTime": {
     "start_time": "2023-01-05T01:27:02.646Z"
    }
   },
   "outputs": [],
   "source": [
    "ada_gs.best_params_"
   ]
  },
  {
   "cell_type": "code",
   "execution_count": null,
   "metadata": {
    "ExecuteTime": {
     "start_time": "2023-01-05T01:27:02.648Z"
    }
   },
   "outputs": [],
   "source": [
    "ada_gs.best_score_"
   ]
  },
  {
   "cell_type": "code",
   "execution_count": null,
   "metadata": {
    "ExecuteTime": {
     "start_time": "2023-01-05T01:27:02.649Z"
    }
   },
   "outputs": [],
   "source": [
    "ada_gs.best_estimator_.score(X_test,y_test)"
   ]
  },
  {
   "cell_type": "markdown",
   "metadata": {},
   "source": [
    "### Second Iteration of GridSearch"
   ]
  },
  {
   "cell_type": "markdown",
   "metadata": {},
   "source": [
    "A `learning_rate` of 1 is the best for the AdaBoost model and the best `n_estimators` is 100. 100 was at the upper end of my spectrum though and I will continue to increase the values in my next iteration. I will also look to further tune the model by adjusting the `algorithm` hyperparameter.\n",
    "\n",
    "I tried several different times to find the best `n_estimators` using GridSearch. While the model improved as the number increased, the improvement was minimal when the amount of runtime was considered. As such, I have decided to use 200 as the `n_estimators` for this model.\n",
    "\n",
    "Results of the second iteration indicate:\n",
    "   - `n_estimators` is 200\n",
    "   - `learning_rate` is 1\n",
    "   - `algorithm` is `SAMME.R`"
   ]
  },
  {
   "cell_type": "code",
   "execution_count": null,
   "metadata": {
    "ExecuteTime": {
     "start_time": "2023-01-05T01:27:02.651Z"
    }
   },
   "outputs": [],
   "source": [
    "ada_params2 = {\n",
    "    'ada__n_estimators':[100, 150, 200],\n",
    "    'ada__learning_rate':[1],\n",
    "    'ada__algorithm':['SAMME', 'SAMME.R']\n",
    "\n",
    "}\n",
    "ada_gs2 = GridSearchCV(estimator=ada_model, param_grid=ada_params2, cv=5, verbose=1)\n",
    "ada_gs2.fit(X_train, y_train)"
   ]
  },
  {
   "cell_type": "code",
   "execution_count": null,
   "metadata": {
    "ExecuteTime": {
     "start_time": "2023-01-05T01:27:02.652Z"
    }
   },
   "outputs": [],
   "source": [
    "ada_gs2.best_params_"
   ]
  },
  {
   "cell_type": "code",
   "execution_count": null,
   "metadata": {
    "ExecuteTime": {
     "start_time": "2023-01-05T01:27:02.653Z"
    }
   },
   "outputs": [],
   "source": [
    "ada_gs2.best_score_"
   ]
  },
  {
   "cell_type": "code",
   "execution_count": null,
   "metadata": {
    "ExecuteTime": {
     "start_time": "2023-01-05T01:27:02.654Z"
    }
   },
   "outputs": [],
   "source": [
    "ada_gs2.best_estimator_.score(X_test,y_test)"
   ]
  },
  {
   "cell_type": "markdown",
   "metadata": {},
   "source": [
    "### AdaBoost Final Model"
   ]
  },
  {
   "cell_type": "code",
   "execution_count": null,
   "metadata": {
    "ExecuteTime": {
     "start_time": "2023-01-05T01:27:02.656Z"
    }
   },
   "outputs": [],
   "source": [
    "ada_model_final = Pipeline([\n",
    "    ('ColTrans', ColTrans),\n",
    "    ('ada', AdaBoostClassifier(n_estimators=200, learning_rate=1, \n",
    "                               algorithm='SAMME.R', random_state=42))\n",
    "])"
   ]
  },
  {
   "cell_type": "code",
   "execution_count": null,
   "metadata": {
    "ExecuteTime": {
     "start_time": "2023-01-05T01:27:02.657Z"
    }
   },
   "outputs": [],
   "source": [
    "start1 = perf_counter()\n",
    "ada_model_final.fit(X_train, y_train);\n",
    "end1 = perf_counter()"
   ]
  },
  {
   "cell_type": "code",
   "execution_count": null,
   "metadata": {
    "ExecuteTime": {
     "start_time": "2023-01-05T01:27:02.659Z"
    }
   },
   "outputs": [],
   "source": [
    "ada_pipe_final = ModelRuns(ada_model_final, 'ada', X_train, y_train)"
   ]
  },
  {
   "cell_type": "code",
   "execution_count": null,
   "metadata": {
    "ExecuteTime": {
     "start_time": "2023-01-05T01:27:02.660Z"
    }
   },
   "outputs": [],
   "source": [
    "start2 = perf_counter()\n",
    "ada_pipe_final.run_all(X_train_run=X_train, X_test_run=X_test, y_train_run=y_train, y_test_run=y_test, train_results=True);\n",
    "end2 = perf_counter()"
   ]
  },
  {
   "cell_type": "code",
   "execution_count": null,
   "metadata": {
    "ExecuteTime": {
     "start_time": "2023-01-05T01:27:02.661Z"
    }
   },
   "outputs": [],
   "source": [
    "ada_time = (end1-start1 + end2 - start2)"
   ]
  },
  {
   "cell_type": "code",
   "execution_count": null,
   "metadata": {
    "ExecuteTime": {
     "start_time": "2023-01-05T01:27:02.662Z"
    }
   },
   "outputs": [],
   "source": [
    "record_results('ada', ada_model_final, time_dic, ada_time, acc_dic, roc_auc_dic)"
   ]
  },
  {
   "cell_type": "markdown",
   "metadata": {},
   "source": [
    "## XGBoost"
   ]
  },
  {
   "cell_type": "markdown",
   "metadata": {},
   "source": [
    "My XGBoost model has 85% accuracy and an ROC-AUC score of 93% on the training data while the test results have an accuracy of 81% and ROC-AUC score of 89%. The accuracy and ROC-AUC scores line up relatively well between train and test data indicating that there might be a slight overfitting but not significant ooverfitting."
   ]
  },
  {
   "cell_type": "code",
   "execution_count": 28,
   "metadata": {
    "ExecuteTime": {
     "end_time": "2023-01-05T01:35:11.710009Z",
     "start_time": "2023-01-05T01:35:11.697831Z"
    }
   },
   "outputs": [],
   "source": [
    "xgb_model = Pipeline([\n",
    "    ('ColTrans', ColTrans),\n",
    "    ('xgb', xgboost.XGBClassifier(random_state=42))\n",
    "])"
   ]
  },
  {
   "cell_type": "code",
   "execution_count": 29,
   "metadata": {
    "ExecuteTime": {
     "end_time": "2023-01-05T01:35:15.140059Z",
     "start_time": "2023-01-05T01:35:12.447710Z"
    }
   },
   "outputs": [],
   "source": [
    "xgb_model.fit(X_train, y_train);"
   ]
  },
  {
   "cell_type": "code",
   "execution_count": 30,
   "metadata": {
    "ExecuteTime": {
     "end_time": "2023-01-05T01:35:15.768003Z",
     "start_time": "2023-01-05T01:35:15.752667Z"
    }
   },
   "outputs": [],
   "source": [
    "xgb_pipe = ModelRuns(xgb_model, 'xgb', X_train, y_train)"
   ]
  },
  {
   "cell_type": "code",
   "execution_count": 31,
   "metadata": {
    "ExecuteTime": {
     "end_time": "2023-01-05T01:35:17.517055Z",
     "start_time": "2023-01-05T01:35:16.424628Z"
    }
   },
   "outputs": [
    {
     "name": "stdout",
     "output_type": "stream",
     "text": [
      "Train Report: \n",
      "              precision    recall  f1-score   support\n",
      "\n",
      "           0       0.83      0.92      0.87     24161\n",
      "           1       0.89      0.77      0.83     20389\n",
      "\n",
      "    accuracy                           0.85     44550\n",
      "   macro avg       0.86      0.85      0.85     44550\n",
      "weighted avg       0.86      0.85      0.85     44550\n",
      "\n",
      "ROC-AUC Score:0.9323250501758836\n",
      "\n",
      "Test Report: \n",
      "              precision    recall  f1-score   support\n",
      "\n",
      "           0       0.79      0.88      0.83      8098\n",
      "           1       0.83      0.73      0.78      6752\n",
      "\n",
      "    accuracy                           0.81     14850\n",
      "   macro avg       0.81      0.80      0.80     14850\n",
      "weighted avg       0.81      0.81      0.81     14850\n",
      "\n",
      "ROC-AUC Score:0.8892590499789896\n"
     ]
    },
    {
     "data": {
      "image/png": "[encoded data removed]",
      "text/plain": [
       "<Figure size 432x288 with 2 Axes>"
      ]
     },
     "metadata": {
      "needs_background": "light"
     },
     "output_type": "display_data"
    },
    {
     "data": {
      "image/png": "[encoded data removed]",
      "text/plain": [
       "<Figure size 432x288 with 2 Axes>"
      ]
     },
     "metadata": {
      "needs_background": "light"
     },
     "output_type": "display_data"
    }
   ],
   "source": [
    "xgb_pipe.run_all(X_train_run=X_train, X_test_run=X_test, y_train_run=y_train, y_test_run=y_test, train_results=True);"
   ]
  },
  {
   "cell_type": "markdown",
   "metadata": {},
   "source": [
    "### XGBoost Gridsearch"
   ]
  },
  {
   "cell_type": "markdown",
   "metadata": {},
   "source": [
    "XGBoost is one of the best models I have so far. I will look to further tune it by checking `max_depth` and `booster` on the first iteration of GridSearch."
   ]
  },
  {
   "cell_type": "code",
   "execution_count": null,
   "metadata": {},
   "outputs": [],
   "source": [
    "xgboost.XGBClassifier()"
   ]
  },
  {
   "cell_type": "code",
   "execution_count": 33,
   "metadata": {
    "ExecuteTime": {
     "end_time": "2023-01-05T01:58:01.598388Z",
     "start_time": "2023-01-05T01:54:32.811003Z"
    }
   },
   "outputs": [
    {
     "name": "stdout",
     "output_type": "stream",
     "text": [
      "Fitting 5 folds for each of 12 candidates, totalling 60 fits\n"
     ]
    },
    {
     "name": "stderr",
     "output_type": "stream",
     "text": [
      "[Parallel(n_jobs=1)]: Using backend SequentialBackend with 1 concurrent workers.\n"
     ]
    },
    {
     "name": "stdout",
     "output_type": "stream",
     "text": [
      "[20:55:56] WARNING: C:\\Users\\Administrator\\workspace\\xgboost-win64_release_1.2.0\\src\\learner.cc:516: \n",
      "Parameters: { colsample_bylevel, colsample_bynode, colsample_bytree, gamma, interaction_constraints, max_delta_step, max_depth, min_child_weight, monotone_constraints, num_parallel_tree, subsample, tree_method } might not be used.\n",
      "\n",
      "  This may not be accurate due to some parameters are only used in language bindings but\n",
      "  passed down to XGBoost core.  Or some parameters are not used but slip through this\n",
      "  verification. Please open an issue if you find above cases.\n",
      "\n",
      "\n",
      "[20:55:57] WARNING: C:\\Users\\Administrator\\workspace\\xgboost-win64_release_1.2.0\\src\\learner.cc:516: \n",
      "Parameters: { colsample_bylevel, colsample_bynode, colsample_bytree, gamma, interaction_constraints, max_delta_step, max_depth, min_child_weight, monotone_constraints, num_parallel_tree, subsample, tree_method } might not be used.\n",
      "\n",
      "  This may not be accurate due to some parameters are only used in language bindings but\n",
      "  passed down to XGBoost core.  Or some parameters are not used but slip through this\n",
      "  verification. Please open an issue if you find above cases.\n",
      "\n",
      "\n",
      "[20:55:58] WARNING: C:\\Users\\Administrator\\workspace\\xgboost-win64_release_1.2.0\\src\\learner.cc:516: \n",
      "Parameters: { colsample_bylevel, colsample_bynode, colsample_bytree, gamma, interaction_constraints, max_delta_step, max_depth, min_child_weight, monotone_constraints, num_parallel_tree, subsample, tree_method } might not be used.\n",
      "\n",
      "  This may not be accurate due to some parameters are only used in language bindings but\n",
      "  passed down to XGBoost core.  Or some parameters are not used but slip through this\n",
      "  verification. Please open an issue if you find above cases.\n",
      "\n",
      "\n",
      "[20:55:59] WARNING: C:\\Users\\Administrator\\workspace\\xgboost-win64_release_1.2.0\\src\\learner.cc:516: \n",
      "Parameters: { colsample_bylevel, colsample_bynode, colsample_bytree, gamma, interaction_constraints, max_delta_step, max_depth, min_child_weight, monotone_constraints, num_parallel_tree, subsample, tree_method } might not be used.\n",
      "\n",
      "  This may not be accurate due to some parameters are only used in language bindings but\n",
      "  passed down to XGBoost core.  Or some parameters are not used but slip through this\n",
      "  verification. Please open an issue if you find above cases.\n",
      "\n",
      "\n",
      "[20:56:01] WARNING: C:\\Users\\Administrator\\workspace\\xgboost-win64_release_1.2.0\\src\\learner.cc:516: \n",
      "Parameters: { colsample_bylevel, colsample_bynode, colsample_bytree, gamma, interaction_constraints, max_delta_step, max_depth, min_child_weight, monotone_constraints, num_parallel_tree, subsample, tree_method } might not be used.\n",
      "\n",
      "  This may not be accurate due to some parameters are only used in language bindings but\n",
      "  passed down to XGBoost core.  Or some parameters are not used but slip through this\n",
      "  verification. Please open an issue if you find above cases.\n",
      "\n",
      "\n",
      "[20:56:02] WARNING: C:\\Users\\Administrator\\workspace\\xgboost-win64_release_1.2.0\\src\\learner.cc:516: \n",
      "Parameters: { colsample_bylevel, colsample_bynode, colsample_bytree, gamma, interaction_constraints, max_delta_step, max_depth, min_child_weight, monotone_constraints, num_parallel_tree, subsample, tree_method } might not be used.\n",
      "\n",
      "  This may not be accurate due to some parameters are only used in language bindings but\n",
      "  passed down to XGBoost core.  Or some parameters are not used but slip through this\n",
      "  verification. Please open an issue if you find above cases.\n",
      "\n",
      "\n",
      "[20:56:03] WARNING: C:\\Users\\Administrator\\workspace\\xgboost-win64_release_1.2.0\\src\\learner.cc:516: \n",
      "Parameters: { colsample_bylevel, colsample_bynode, colsample_bytree, gamma, interaction_constraints, max_delta_step, max_depth, min_child_weight, monotone_constraints, num_parallel_tree, subsample, tree_method } might not be used.\n",
      "\n",
      "  This may not be accurate due to some parameters are only used in language bindings but\n",
      "  passed down to XGBoost core.  Or some parameters are not used but slip through this\n",
      "  verification. Please open an issue if you find above cases.\n",
      "\n",
      "\n",
      "[20:56:05] WARNING: C:\\Users\\Administrator\\workspace\\xgboost-win64_release_1.2.0\\src\\learner.cc:516: \n",
      "Parameters: { colsample_bylevel, colsample_bynode, colsample_bytree, gamma, interaction_constraints, max_delta_step, max_depth, min_child_weight, monotone_constraints, num_parallel_tree, subsample, tree_method } might not be used.\n",
      "\n",
      "  This may not be accurate due to some parameters are only used in language bindings but\n",
      "  passed down to XGBoost core.  Or some parameters are not used but slip through this\n",
      "  verification. Please open an issue if you find above cases.\n",
      "\n",
      "\n",
      "[20:56:06] WARNING: C:\\Users\\Administrator\\workspace\\xgboost-win64_release_1.2.0\\src\\learner.cc:516: \n",
      "Parameters: { colsample_bylevel, colsample_bynode, colsample_bytree, gamma, interaction_constraints, max_delta_step, max_depth, min_child_weight, monotone_constraints, num_parallel_tree, subsample, tree_method } might not be used.\n",
      "\n",
      "  This may not be accurate due to some parameters are only used in language bindings but\n",
      "  passed down to XGBoost core.  Or some parameters are not used but slip through this\n",
      "  verification. Please open an issue if you find above cases.\n",
      "\n",
      "\n",
      "[20:56:07] WARNING: C:\\Users\\Administrator\\workspace\\xgboost-win64_release_1.2.0\\src\\learner.cc:516: \n",
      "Parameters: { colsample_bylevel, colsample_bynode, colsample_bytree, gamma, interaction_constraints, max_delta_step, max_depth, min_child_weight, monotone_constraints, num_parallel_tree, subsample, tree_method } might not be used.\n",
      "\n",
      "  This may not be accurate due to some parameters are only used in language bindings but\n",
      "  passed down to XGBoost core.  Or some parameters are not used but slip through this\n",
      "  verification. Please open an issue if you find above cases.\n",
      "\n",
      "\n",
      "[20:56:09] WARNING: C:\\Users\\Administrator\\workspace\\xgboost-win64_release_1.2.0\\src\\learner.cc:516: \n",
      "Parameters: { colsample_bylevel, colsample_bynode, colsample_bytree, gamma, interaction_constraints, max_delta_step, max_depth, min_child_weight, monotone_constraints, num_parallel_tree, subsample, tree_method } might not be used.\n",
      "\n",
      "  This may not be accurate due to some parameters are only used in language bindings but\n",
      "  passed down to XGBoost core.  Or some parameters are not used but slip through this\n",
      "  verification. Please open an issue if you find above cases.\n",
      "\n",
      "\n",
      "[20:56:10] WARNING: C:\\Users\\Administrator\\workspace\\xgboost-win64_release_1.2.0\\src\\learner.cc:516: \n",
      "Parameters: { colsample_bylevel, colsample_bynode, colsample_bytree, gamma, interaction_constraints, max_delta_step, max_depth, min_child_weight, monotone_constraints, num_parallel_tree, subsample, tree_method } might not be used.\n",
      "\n",
      "  This may not be accurate due to some parameters are only used in language bindings but\n",
      "  passed down to XGBoost core.  Or some parameters are not used but slip through this\n",
      "  verification. Please open an issue if you find above cases.\n",
      "\n",
      "\n",
      "[20:56:11] WARNING: C:\\Users\\Administrator\\workspace\\xgboost-win64_release_1.2.0\\src\\learner.cc:516: \n",
      "Parameters: { colsample_bylevel, colsample_bynode, colsample_bytree, gamma, interaction_constraints, max_delta_step, max_depth, min_child_weight, monotone_constraints, num_parallel_tree, subsample, tree_method } might not be used.\n",
      "\n",
      "  This may not be accurate due to some parameters are only used in language bindings but\n",
      "  passed down to XGBoost core.  Or some parameters are not used but slip through this\n",
      "  verification. Please open an issue if you find above cases.\n",
      "\n",
      "\n",
      "[20:56:13] WARNING: C:\\Users\\Administrator\\workspace\\xgboost-win64_release_1.2.0\\src\\learner.cc:516: \n",
      "Parameters: { colsample_bylevel, colsample_bynode, colsample_bytree, gamma, interaction_constraints, max_delta_step, max_depth, min_child_weight, monotone_constraints, num_parallel_tree, subsample, tree_method } might not be used.\n",
      "\n",
      "  This may not be accurate due to some parameters are only used in language bindings but\n",
      "  passed down to XGBoost core.  Or some parameters are not used but slip through this\n",
      "  verification. Please open an issue if you find above cases.\n",
      "\n",
      "\n",
      "[20:56:14] WARNING: C:\\Users\\Administrator\\workspace\\xgboost-win64_release_1.2.0\\src\\learner.cc:516: \n",
      "Parameters: { colsample_bylevel, colsample_bynode, colsample_bytree, gamma, interaction_constraints, max_delta_step, max_depth, min_child_weight, monotone_constraints, num_parallel_tree, subsample, tree_method } might not be used.\n",
      "\n",
      "  This may not be accurate due to some parameters are only used in language bindings but\n",
      "  passed down to XGBoost core.  Or some parameters are not used but slip through this\n",
      "  verification. Please open an issue if you find above cases.\n",
      "\n",
      "\n"
     ]
    },
    {
     "name": "stdout",
     "output_type": "stream",
     "text": [
      "[20:56:15] WARNING: C:\\Users\\Administrator\\workspace\\xgboost-win64_release_1.2.0\\src\\learner.cc:516: \n",
      "Parameters: { colsample_bylevel, colsample_bynode, colsample_bytree, gamma, interaction_constraints, max_delta_step, max_depth, min_child_weight, monotone_constraints, num_parallel_tree, subsample, tree_method } might not be used.\n",
      "\n",
      "  This may not be accurate due to some parameters are only used in language bindings but\n",
      "  passed down to XGBoost core.  Or some parameters are not used but slip through this\n",
      "  verification. Please open an issue if you find above cases.\n",
      "\n",
      "\n",
      "[20:56:16] WARNING: C:\\Users\\Administrator\\workspace\\xgboost-win64_release_1.2.0\\src\\learner.cc:516: \n",
      "Parameters: { colsample_bylevel, colsample_bynode, colsample_bytree, gamma, interaction_constraints, max_delta_step, max_depth, min_child_weight, monotone_constraints, num_parallel_tree, subsample, tree_method } might not be used.\n",
      "\n",
      "  This may not be accurate due to some parameters are only used in language bindings but\n",
      "  passed down to XGBoost core.  Or some parameters are not used but slip through this\n",
      "  verification. Please open an issue if you find above cases.\n",
      "\n",
      "\n",
      "[20:56:17] WARNING: C:\\Users\\Administrator\\workspace\\xgboost-win64_release_1.2.0\\src\\learner.cc:516: \n",
      "Parameters: { colsample_bylevel, colsample_bynode, colsample_bytree, gamma, interaction_constraints, max_delta_step, max_depth, min_child_weight, monotone_constraints, num_parallel_tree, subsample, tree_method } might not be used.\n",
      "\n",
      "  This may not be accurate due to some parameters are only used in language bindings but\n",
      "  passed down to XGBoost core.  Or some parameters are not used but slip through this\n",
      "  verification. Please open an issue if you find above cases.\n",
      "\n",
      "\n",
      "[20:56:18] WARNING: C:\\Users\\Administrator\\workspace\\xgboost-win64_release_1.2.0\\src\\learner.cc:516: \n",
      "Parameters: { colsample_bylevel, colsample_bynode, colsample_bytree, gamma, interaction_constraints, max_delta_step, max_depth, min_child_weight, monotone_constraints, num_parallel_tree, subsample, tree_method } might not be used.\n",
      "\n",
      "  This may not be accurate due to some parameters are only used in language bindings but\n",
      "  passed down to XGBoost core.  Or some parameters are not used but slip through this\n",
      "  verification. Please open an issue if you find above cases.\n",
      "\n",
      "\n",
      "[20:56:20] WARNING: C:\\Users\\Administrator\\workspace\\xgboost-win64_release_1.2.0\\src\\learner.cc:516: \n",
      "Parameters: { colsample_bylevel, colsample_bynode, colsample_bytree, gamma, interaction_constraints, max_delta_step, max_depth, min_child_weight, monotone_constraints, num_parallel_tree, subsample, tree_method } might not be used.\n",
      "\n",
      "  This may not be accurate due to some parameters are only used in language bindings but\n",
      "  passed down to XGBoost core.  Or some parameters are not used but slip through this\n",
      "  verification. Please open an issue if you find above cases.\n",
      "\n",
      "\n"
     ]
    },
    {
     "name": "stderr",
     "output_type": "stream",
     "text": [
      "[Parallel(n_jobs=1)]: Done  60 out of  60 | elapsed:  3.4min finished\n"
     ]
    }
   ],
   "source": [
    "xgb_params = {\n",
    "    'xgb__max_depth':[10, 20, 30, 40],\n",
    "    'xgb__booster':['gbtree', 'gblinear', 'dart']\n",
    "}\n",
    "xgb_gs = GridSearchCV(estimator=xgb_model, param_grid=xgb_params, cv=5, verbose=1)\n",
    "xgb_gs.fit(X_train, y_train);"
   ]
  },
  {
   "cell_type": "code",
   "execution_count": 34,
   "metadata": {
    "ExecuteTime": {
     "end_time": "2023-01-05T01:58:39.295217Z",
     "start_time": "2023-01-05T01:58:39.284369Z"
    }
   },
   "outputs": [
    {
     "data": {
      "text/plain": [
       "{'xgb__booster': 'gbtree', 'xgb__max_depth': 10}"
      ]
     },
     "execution_count": 34,
     "metadata": {},
     "output_type": "execute_result"
    }
   ],
   "source": [
    "xgb_gs.best_params_"
   ]
  },
  {
   "cell_type": "code",
   "execution_count": 35,
   "metadata": {
    "ExecuteTime": {
     "end_time": "2023-01-05T01:58:54.886028Z",
     "start_time": "2023-01-05T01:58:54.876866Z"
    }
   },
   "outputs": [
    {
     "data": {
      "text/plain": [
       "0.8161616161616161"
      ]
     },
     "execution_count": 35,
     "metadata": {},
     "output_type": "execute_result"
    }
   ],
   "source": [
    "xgb_gs.best_score_"
   ]
  },
  {
   "cell_type": "code",
   "execution_count": 36,
   "metadata": {
    "ExecuteTime": {
     "end_time": "2023-01-05T01:59:04.885836Z",
     "start_time": "2023-01-05T01:59:04.804453Z"
    }
   },
   "outputs": [
    {
     "data": {
      "text/plain": [
       "0.8191919191919191"
      ]
     },
     "execution_count": 36,
     "metadata": {},
     "output_type": "execute_result"
    }
   ],
   "source": [
    "xgb_gs.best_estimator_.score(X_test,y_test)"
   ]
  },
  {
   "cell_type": "markdown",
   "metadata": {},
   "source": [
    "### Second Iteration of GridSearch"
   ]
  },
  {
   "cell_type": "markdown",
   "metadata": {},
   "source": [
    "The XGBoost `booster` `gbtree` is best for this model and the best `max_depth` is 10. 10 was at the lower end of my spectrum though and I will continue to decrease the values in my next iteration. I will also look to further tune the model by adjusting the `objective` hyperparameter.\n",
    "\n",
    "Results of the second iteration indicate:\n",
    "   - `booster` is `gbtree`\n",
    "   - `max_depth` is 10\n",
    "   - `objective` is `binary:logistic`"
   ]
  },
  {
   "cell_type": "code",
   "execution_count": 37,
   "metadata": {
    "ExecuteTime": {
     "end_time": "2023-01-05T02:09:07.443354Z",
     "start_time": "2023-01-05T02:07:23.518456Z"
    }
   },
   "outputs": [
    {
     "name": "stdout",
     "output_type": "stream",
     "text": [
      "Fitting 5 folds for each of 12 candidates, totalling 60 fits\n"
     ]
    },
    {
     "name": "stderr",
     "output_type": "stream",
     "text": [
      "[Parallel(n_jobs=1)]: Using backend SequentialBackend with 1 concurrent workers.\n"
     ]
    },
    {
     "name": "stdout",
     "output_type": "stream",
     "text": [
      "[21:07:36] WARNING: C:\\Users\\Administrator\\workspace\\xgboost-win64_release_1.2.0\\src\\learner.cc:516: \n",
      "Parameters: { scale_pos_weight } might not be used.\n",
      "\n",
      "  This may not be accurate due to some parameters are only used in language bindings but\n",
      "  passed down to XGBoost core.  Or some parameters are not used but slip through this\n",
      "  verification. Please open an issue if you find above cases.\n",
      "\n",
      "\n",
      "[21:07:37] WARNING: C:\\Users\\Administrator\\workspace\\xgboost-win64_release_1.2.0\\src\\learner.cc:516: \n",
      "Parameters: { scale_pos_weight } might not be used.\n",
      "\n",
      "  This may not be accurate due to some parameters are only used in language bindings but\n",
      "  passed down to XGBoost core.  Or some parameters are not used but slip through this\n",
      "  verification. Please open an issue if you find above cases.\n",
      "\n",
      "\n",
      "[21:07:38] WARNING: C:\\Users\\Administrator\\workspace\\xgboost-win64_release_1.2.0\\src\\learner.cc:516: \n",
      "Parameters: { scale_pos_weight } might not be used.\n",
      "\n",
      "  This may not be accurate due to some parameters are only used in language bindings but\n",
      "  passed down to XGBoost core.  Or some parameters are not used but slip through this\n",
      "  verification. Please open an issue if you find above cases.\n",
      "\n",
      "\n",
      "[21:07:40] WARNING: C:\\Users\\Administrator\\workspace\\xgboost-win64_release_1.2.0\\src\\learner.cc:516: \n",
      "Parameters: { scale_pos_weight } might not be used.\n",
      "\n",
      "  This may not be accurate due to some parameters are only used in language bindings but\n",
      "  passed down to XGBoost core.  Or some parameters are not used but slip through this\n",
      "  verification. Please open an issue if you find above cases.\n",
      "\n",
      "\n",
      "[21:07:41] WARNING: C:\\Users\\Administrator\\workspace\\xgboost-win64_release_1.2.0\\src\\learner.cc:516: \n",
      "Parameters: { scale_pos_weight } might not be used.\n",
      "\n",
      "  This may not be accurate due to some parameters are only used in language bindings but\n",
      "  passed down to XGBoost core.  Or some parameters are not used but slip through this\n",
      "  verification. Please open an issue if you find above cases.\n",
      "\n",
      "\n",
      "[21:07:58] WARNING: C:\\Users\\Administrator\\workspace\\xgboost-win64_release_1.2.0\\src\\learner.cc:516: \n",
      "Parameters: { scale_pos_weight } might not be used.\n",
      "\n",
      "  This may not be accurate due to some parameters are only used in language bindings but\n",
      "  passed down to XGBoost core.  Or some parameters are not used but slip through this\n",
      "  verification. Please open an issue if you find above cases.\n",
      "\n",
      "\n",
      "[21:08:00] WARNING: C:\\Users\\Administrator\\workspace\\xgboost-win64_release_1.2.0\\src\\learner.cc:516: \n",
      "Parameters: { scale_pos_weight } might not be used.\n",
      "\n",
      "  This may not be accurate due to some parameters are only used in language bindings but\n",
      "  passed down to XGBoost core.  Or some parameters are not used but slip through this\n",
      "  verification. Please open an issue if you find above cases.\n",
      "\n",
      "\n",
      "[21:08:02] WARNING: C:\\Users\\Administrator\\workspace\\xgboost-win64_release_1.2.0\\src\\learner.cc:516: \n",
      "Parameters: { scale_pos_weight } might not be used.\n",
      "\n",
      "  This may not be accurate due to some parameters are only used in language bindings but\n",
      "  passed down to XGBoost core.  Or some parameters are not used but slip through this\n",
      "  verification. Please open an issue if you find above cases.\n",
      "\n",
      "\n",
      "[21:08:03] WARNING: C:\\Users\\Administrator\\workspace\\xgboost-win64_release_1.2.0\\src\\learner.cc:516: \n",
      "Parameters: { scale_pos_weight } might not be used.\n",
      "\n",
      "  This may not be accurate due to some parameters are only used in language bindings but\n",
      "  passed down to XGBoost core.  Or some parameters are not used but slip through this\n",
      "  verification. Please open an issue if you find above cases.\n",
      "\n",
      "\n",
      "[21:08:05] WARNING: C:\\Users\\Administrator\\workspace\\xgboost-win64_release_1.2.0\\src\\learner.cc:516: \n",
      "Parameters: { scale_pos_weight } might not be used.\n",
      "\n",
      "  This may not be accurate due to some parameters are only used in language bindings but\n",
      "  passed down to XGBoost core.  Or some parameters are not used but slip through this\n",
      "  verification. Please open an issue if you find above cases.\n",
      "\n",
      "\n",
      "[21:08:24] WARNING: C:\\Users\\Administrator\\workspace\\xgboost-win64_release_1.2.0\\src\\learner.cc:516: \n",
      "Parameters: { scale_pos_weight } might not be used.\n",
      "\n",
      "  This may not be accurate due to some parameters are only used in language bindings but\n",
      "  passed down to XGBoost core.  Or some parameters are not used but slip through this\n",
      "  verification. Please open an issue if you find above cases.\n",
      "\n",
      "\n",
      "[21:08:25] WARNING: C:\\Users\\Administrator\\workspace\\xgboost-win64_release_1.2.0\\src\\learner.cc:516: \n",
      "Parameters: { scale_pos_weight } might not be used.\n",
      "\n",
      "  This may not be accurate due to some parameters are only used in language bindings but\n",
      "  passed down to XGBoost core.  Or some parameters are not used but slip through this\n",
      "  verification. Please open an issue if you find above cases.\n",
      "\n",
      "\n",
      "[21:08:27] WARNING: C:\\Users\\Administrator\\workspace\\xgboost-win64_release_1.2.0\\src\\learner.cc:516: \n",
      "Parameters: { scale_pos_weight } might not be used.\n",
      "\n",
      "  This may not be accurate due to some parameters are only used in language bindings but\n",
      "  passed down to XGBoost core.  Or some parameters are not used but slip through this\n",
      "  verification. Please open an issue if you find above cases.\n",
      "\n",
      "\n",
      "[21:08:29] WARNING: C:\\Users\\Administrator\\workspace\\xgboost-win64_release_1.2.0\\src\\learner.cc:516: \n",
      "Parameters: { scale_pos_weight } might not be used.\n",
      "\n",
      "  This may not be accurate due to some parameters are only used in language bindings but\n",
      "  passed down to XGBoost core.  Or some parameters are not used but slip through this\n",
      "  verification. Please open an issue if you find above cases.\n",
      "\n",
      "\n",
      "[21:08:31] WARNING: C:\\Users\\Administrator\\workspace\\xgboost-win64_release_1.2.0\\src\\learner.cc:516: \n",
      "Parameters: { scale_pos_weight } might not be used.\n",
      "\n",
      "  This may not be accurate due to some parameters are only used in language bindings but\n",
      "  passed down to XGBoost core.  Or some parameters are not used but slip through this\n",
      "  verification. Please open an issue if you find above cases.\n",
      "\n",
      "\n",
      "[21:08:54] WARNING: C:\\Users\\Administrator\\workspace\\xgboost-win64_release_1.2.0\\src\\learner.cc:516: \n",
      "Parameters: { scale_pos_weight } might not be used.\n",
      "\n",
      "  This may not be accurate due to some parameters are only used in language bindings but\n",
      "  passed down to XGBoost core.  Or some parameters are not used but slip through this\n",
      "  verification. Please open an issue if you find above cases.\n",
      "\n",
      "\n",
      "[21:08:56] WARNING: C:\\Users\\Administrator\\workspace\\xgboost-win64_release_1.2.0\\src\\learner.cc:516: \n",
      "Parameters: { scale_pos_weight } might not be used.\n",
      "\n",
      "  This may not be accurate due to some parameters are only used in language bindings but\n",
      "  passed down to XGBoost core.  Or some parameters are not used but slip through this\n",
      "  verification. Please open an issue if you find above cases.\n",
      "\n",
      "\n",
      "[21:08:59] WARNING: C:\\Users\\Administrator\\workspace\\xgboost-win64_release_1.2.0\\src\\learner.cc:516: \n",
      "Parameters: { scale_pos_weight } might not be used.\n",
      "\n",
      "  This may not be accurate due to some parameters are only used in language bindings but\n",
      "  passed down to XGBoost core.  Or some parameters are not used but slip through this\n",
      "  verification. Please open an issue if you find above cases.\n",
      "\n",
      "\n",
      "[21:09:01] WARNING: C:\\Users\\Administrator\\workspace\\xgboost-win64_release_1.2.0\\src\\learner.cc:516: \n",
      "Parameters: { scale_pos_weight } might not be used.\n",
      "\n",
      "  This may not be accurate due to some parameters are only used in language bindings but\n",
      "  passed down to XGBoost core.  Or some parameters are not used but slip through this\n",
      "  verification. Please open an issue if you find above cases.\n",
      "\n",
      "\n",
      "[21:09:03] WARNING: C:\\Users\\Administrator\\workspace\\xgboost-win64_release_1.2.0\\src\\learner.cc:516: \n",
      "Parameters: { scale_pos_weight } might not be used.\n",
      "\n",
      "  This may not be accurate due to some parameters are only used in language bindings but\n",
      "  passed down to XGBoost core.  Or some parameters are not used but slip through this\n",
      "  verification. Please open an issue if you find above cases.\n",
      "\n",
      "\n"
     ]
    },
    {
     "name": "stderr",
     "output_type": "stream",
     "text": [
      "[Parallel(n_jobs=1)]: Done  60 out of  60 | elapsed:  1.7min finished\n"
     ]
    }
   ],
   "source": [
    "xgb_params2 = {\n",
    "    'xgb__max_depth':[1, 5, 6, 10],\n",
    "    'xgb__booster':['gbtree'],\n",
    "    'xgb__objective':['binary:logistic', 'binary:logitraw', 'binary:hinge']\n",
    "}\n",
    "xgb_gs2 = GridSearchCV(estimator=xgb_model, param_grid=xgb_params2, cv=5, verbose=1)\n",
    "xgb_gs2.fit(X_train, y_train);"
   ]
  },
  {
   "cell_type": "code",
   "execution_count": 38,
   "metadata": {
    "ExecuteTime": {
     "end_time": "2023-01-05T02:09:26.796158Z",
     "start_time": "2023-01-05T02:09:26.788654Z"
    }
   },
   "outputs": [
    {
     "data": {
      "text/plain": [
       "{'xgb__booster': 'gbtree',\n",
       " 'xgb__max_depth': 10,\n",
       " 'xgb__objective': 'binary:logistic'}"
      ]
     },
     "execution_count": 38,
     "metadata": {},
     "output_type": "execute_result"
    }
   ],
   "source": [
    "xgb_gs2.best_params_"
   ]
  },
  {
   "cell_type": "code",
   "execution_count": 39,
   "metadata": {
    "ExecuteTime": {
     "end_time": "2023-01-05T02:09:55.373232Z",
     "start_time": "2023-01-05T02:09:55.363120Z"
    }
   },
   "outputs": [
    {
     "data": {
      "text/plain": [
       "0.8161616161616161"
      ]
     },
     "execution_count": 39,
     "metadata": {},
     "output_type": "execute_result"
    }
   ],
   "source": [
    "xgb_gs2.best_score_"
   ]
  },
  {
   "cell_type": "code",
   "execution_count": 40,
   "metadata": {
    "ExecuteTime": {
     "end_time": "2023-01-05T02:10:05.793025Z",
     "start_time": "2023-01-05T02:10:05.714935Z"
    }
   },
   "outputs": [
    {
     "data": {
      "text/plain": [
       "0.8191919191919191"
      ]
     },
     "execution_count": 40,
     "metadata": {},
     "output_type": "execute_result"
    }
   ],
   "source": [
    "xgb_gs2.best_estimator_.score(X_test,y_test)"
   ]
  },
  {
   "cell_type": "markdown",
   "metadata": {},
   "source": [
    "### XGBoost Final Model"
   ]
  },
  {
   "cell_type": "code",
   "execution_count": null,
   "metadata": {},
   "outputs": [],
   "source": []
  },
  {
   "cell_type": "markdown",
   "metadata": {
    "heading_collapsed": true
   },
   "source": [
    "## XGBoost Random Forest"
   ]
  },
  {
   "cell_type": "code",
   "execution_count": null,
   "metadata": {
    "ExecuteTime": {
     "start_time": "2023-01-05T01:27:02.669Z"
    },
    "hidden": true
   },
   "outputs": [],
   "source": [
    "xgbrf_model = Pipeline([\n",
    "    ('ColTrans', ColTrans),\n",
    "    ('xgbrf', xgboost.XGBRFClassifier(random_state=42))\n",
    "])"
   ]
  },
  {
   "cell_type": "code",
   "execution_count": null,
   "metadata": {
    "ExecuteTime": {
     "start_time": "2023-01-05T01:27:02.670Z"
    },
    "hidden": true
   },
   "outputs": [],
   "source": [
    "xgbrf_model.fit(X_train, y_train);"
   ]
  },
  {
   "cell_type": "code",
   "execution_count": null,
   "metadata": {
    "ExecuteTime": {
     "start_time": "2023-01-05T01:27:02.671Z"
    },
    "hidden": true
   },
   "outputs": [],
   "source": [
    "xgbrf_pipe = ModelRuns(xgbrf_model, 'xgbrf', X_train, y_train)"
   ]
  },
  {
   "cell_type": "code",
   "execution_count": null,
   "metadata": {
    "ExecuteTime": {
     "start_time": "2023-01-05T01:27:02.672Z"
    },
    "hidden": true
   },
   "outputs": [],
   "source": [
    "xgb_pipe.run_all(X_train_run=X_train, X_test_run=X_test, y_train_run=y_train, y_test_run=y_test, train_results=True);"
   ]
  },
  {
   "cell_type": "markdown",
   "metadata": {},
   "source": [
    "## Stacking Classifier "
   ]
  },
  {
   "cell_type": "code",
   "execution_count": null,
   "metadata": {
    "ExecuteTime": {
     "start_time": "2023-01-05T01:27:02.674Z"
    }
   },
   "outputs": [],
   "source": [
    "estimators = [\n",
    "    ('lr', LogisticRegression(random_state=42, solver='liblinear')), \n",
    "    ('knn', KNeighborsClassifier()),\n",
    "    ('dtc', DecisionTreeClassifier(random_state=42)),\n",
    "    ('rfc', RandomForestClassifier(random_state=42)),\n",
    "    ('ada', AdaBoostClassifier(random_state=42)),\n",
    "    ('xgb', xgboost.XGBClassifier(random_state=42)),\n",
    "    ('xgbrf', xgboost.XGBRFClassifier(random_state=42))\n",
    "]"
   ]
  },
  {
   "cell_type": "code",
   "execution_count": null,
   "metadata": {
    "ExecuteTime": {
     "start_time": "2023-01-05T01:27:02.675Z"
    }
   },
   "outputs": [],
   "source": [
    "stack_model = Pipeline([\n",
    "    ('ColTrans', ColTrans),\n",
    "    ('stack', StackingClassifier(estimators))\n",
    "])"
   ]
  },
  {
   "cell_type": "code",
   "execution_count": null,
   "metadata": {
    "ExecuteTime": {
     "start_time": "2023-01-05T01:27:02.676Z"
    }
   },
   "outputs": [],
   "source": [
    "stack_model.fit(X_train, y_train);"
   ]
  },
  {
   "cell_type": "code",
   "execution_count": null,
   "metadata": {
    "ExecuteTime": {
     "start_time": "2023-01-05T01:27:02.678Z"
    }
   },
   "outputs": [],
   "source": [
    "stack_pipe = ModelRuns(stack_model, 'stack', X_train, y_train)"
   ]
  },
  {
   "cell_type": "code",
   "execution_count": null,
   "metadata": {
    "ExecuteTime": {
     "start_time": "2023-01-05T01:27:02.679Z"
    }
   },
   "outputs": [],
   "source": [
    "stack_pipe.run_all(X_train_run=X_train, X_test_run=X_test, y_train_run=y_train, y_test_run=y_test, train_results=True);"
   ]
  },
  {
   "cell_type": "markdown",
   "metadata": {},
   "source": [
    "## Final Stacking Model"
   ]
  },
  {
   "cell_type": "code",
   "execution_count": null,
   "metadata": {
    "ExecuteTime": {
     "start_time": "2023-01-05T01:27:02.680Z"
    }
   },
   "outputs": [],
   "source": [
    "# estimators_final = [\n",
    "#     ('lr', LogisticRegression(random_state=42, solver='liblinear')), \n",
    "#     ('knn', KNeighborsClassifier()),\n",
    "#     ('dtc', DecisionTreeClassifier(criterion='entropy', max_depth=34, \n",
    "#                                    min_samples_split=3, random_state=42)),\n",
    "#     ('rfc', RandomForestClassifier(criterion='entropy', max_depth=32, \n",
    "#                                   max_features='log2', random_state=42)),\n",
    "#     ('svc', SVC(probability=True, random_state=42)),\n",
    "#     ('NuSVC', NuSVC(probability=True, random_state=42))\n",
    "#     ('ada', AdaBoostClassifier(random_state=42)),\n",
    "#     ('xgb', xgboost.XGBClassifier(random_state=42)),\n",
    "#     ('xgbrf', xgboost.XGBRFClassifier(random_state=42))\n",
    "# ]"
   ]
  },
  {
   "cell_type": "markdown",
   "metadata": {},
   "source": [
    "# Results"
   ]
  },
  {
   "cell_type": "markdown",
   "metadata": {},
   "source": [
    "This analysis has run dozens of models to predict Tanzanian Water Wells in need of repair. Several factors were taken into consideration in choosing a final model:\n",
    "\n",
    "- Runtime\n",
    "    - Is it feasible to utilize the model on a larger scale?\n",
    "- Accuracy\n",
    "    - How accurate is the model?\n",
    "- ROC-AUC score\n",
    "    - How does the model perform when looking at true positive rates and true negative rates?"
   ]
  },
  {
   "cell_type": "markdown",
   "metadata": {},
   "source": [
    "## Creating Results Table"
   ]
  },
  {
   "cell_type": "code",
   "execution_count": null,
   "metadata": {
    "ExecuteTime": {
     "start_time": "2023-01-05T01:27:02.683Z"
    }
   },
   "outputs": [],
   "source": [
    "stop"
   ]
  },
  {
   "cell_type": "code",
   "execution_count": null,
   "metadata": {},
   "outputs": [],
   "source": []
  },
  {
   "cell_type": "code",
   "execution_count": null,
   "metadata": {},
   "outputs": [],
   "source": []
  },
  {
   "cell_type": "code",
   "execution_count": null,
   "metadata": {},
   "outputs": [],
   "source": []
  },
  {
   "cell_type": "code",
   "execution_count": null,
   "metadata": {},
   "outputs": [],
   "source": []
  },
  {
   "cell_type": "code",
   "execution_count": null,
   "metadata": {},
   "outputs": [],
   "source": []
  },
  {
   "cell_type": "code",
   "execution_count": null,
   "metadata": {},
   "outputs": [],
   "source": []
  },
  {
   "cell_type": "code",
   "execution_count": null,
   "metadata": {},
   "outputs": [],
   "source": []
  },
  {
   "cell_type": "code",
   "execution_count": null,
   "metadata": {},
   "outputs": [],
   "source": []
  },
  {
   "cell_type": "code",
   "execution_count": null,
   "metadata": {},
   "outputs": [],
   "source": []
  },
  {
   "cell_type": "markdown",
   "metadata": {},
   "source": [
    "# KMeans and KNN"
   ]
  },
  {
   "cell_type": "markdown",
   "metadata": {
    "ExecuteTime": {
     "end_time": "2023-01-04T06:23:22.917190Z",
     "start_time": "2023-01-04T06:23:22.901965Z"
    }
   },
   "source": [
    "For this method, I utilize unsupervised learning k-means in conjunction with K-Nearest Neighbors. I have a loop to create a table utilizing 1-7 clusters, then separate the predictor data based on the cluster results. I then run K-nearest Neighbors on each of the cluster groupings to determine if clustering helps the dataset. When the number of clusters is set to 1, it is the same as running K-Nearest Neighbors without clustering. \n",
    "\n",
    "The results of the model show that it is more beneficial to skip K-Means Clustering altogether. "
   ]
  },
  {
   "cell_type": "code",
   "execution_count": null,
   "metadata": {
    "ExecuteTime": {
     "start_time": "2023-01-05T01:27:02.690Z"
    }
   },
   "outputs": [],
   "source": [
    "df_names = ['kmeans_0', 'kmeans_1', 'kmeans_2', 'kmeans_3', 'kmeans_4', \n",
    "            'kmeans_5', 'kmeans_6']\n",
    "main_col = ['cluster_group']\n",
    "kmeans_results_df = pd.DataFrame(df_names, columns=main_col)\n",
    "\n",
    "for i in range(1,8):\n",
    "    kmeans_model = Pipeline([\n",
    "        ('ColTrans', ColTrans),\n",
    "        ('kmeans', KMeans(n_clusters=i, random_state=42))\n",
    "    ])\n",
    "    \n",
    "    \n",
    "    # Fitting the model\n",
    "    kmeans_model.fit(X_train, y_train);\n",
    "    \n",
    "    # creating a dataframe for X_train so I can house the cluster data\n",
    "    kmeans_X_train_df = pd.DataFrame(X_train).copy()\n",
    "    \n",
    "    \n",
    "    # predicting data before adding back the target var so there is no data leakage \n",
    "    kmeans_X_train_df['cluster'] = kmeans_model.predict(X_train)\n",
    "\n",
    "    \n",
    "    # adding the target variable back so that I can then separate into dfs based on clusters\n",
    "    kmeans_X_train_df['target'] = y_train.copy()\n",
    "    \n",
    "#     print(kmeans_X_train_df)\n",
    "    \n",
    "    # creating new dataframes based on clusters and storing in a dictionary\n",
    "    kmeans_train_dic = {}\n",
    "    for x in range(i-i, i):\n",
    "#         print(x)\n",
    "#         print(df_names[x])\n",
    "#         print(kmeans_X_train_df[kmeans_X_train_df['cluster'] == x])\n",
    "        kmeans_train_dic[df_names[x]] = kmeans_X_train_df[kmeans_X_train_df['cluster'] == x]\n",
    "\n",
    "        \n",
    "    # need to seperate x, y vars now\n",
    "    y_kmeans_train_dic = {}\n",
    "    for x in range(i-i, i):\n",
    "        y_kmeans_train_dic[df_names[x]] = kmeans_train_dic[df_names[x]].pop('target') \n",
    "        \n",
    "    # creating a dataframe for X_test so I can house the cluster data\n",
    "    kmeans_X_test_df = pd.DataFrame(X_test).copy()\n",
    "    \n",
    "    # predicting data before adding back the target var so there is no data leakage \n",
    "    kmeans_X_test_df['cluster'] = kmeans_model.predict(X_test)\n",
    "    \n",
    "    # adding the target variable back so that I can then separate into dfs based on clusters\n",
    "    kmeans_X_test_df['target'] = y_test.copy()\n",
    "    \n",
    "    \n",
    "    # creating new dataframes based on clusters and storing in a dictionary\n",
    "    kmeans_test_dic = {}\n",
    "    for x in range(i-i, i):\n",
    "#         print(df_names[x])\n",
    "        kmeans_test_dic[df_names[x]] = kmeans_X_test_df[kmeans_X_test_df['cluster'] == x]\n",
    "        \n",
    "    # need to seperate x, y vars now\n",
    "    y_kmeans_test_dic = {}\n",
    "    for x in range(i-i, i):\n",
    "        y_kmeans_test_dic[df_names[x]] = kmeans_test_dic[df_names[x]].pop('target')\n",
    "        \n",
    "#     print(kmeans_train_dic)    \n",
    "#     print(kmeans_test_dic)    \n",
    "        \n",
    "    # It works above this point\n",
    "    # running the knn model on each cluster\n",
    "    knn_model = Pipeline([\n",
    "        ('ColTrans', ColTrans),\n",
    "        ('knn', KNeighborsClassifier())\n",
    "    ])\n",
    "    \n",
    "    # creating a dic to story each fitted model\n",
    "    model_dic = {}\n",
    "    for x in range(0, i):\n",
    "        model_dic[df_names[x]] = knn_model.fit(kmeans_train_dic[df_names[x]], y_kmeans_train_dic[df_names[x]])\n",
    "        \n",
    "    # Creating a dic to store test scores\n",
    "    knn_test_scores = {}\n",
    "    for x in range(0, i):\n",
    "        knn_test_scores[df_names[x]] = model_dic[df_names[x]].score(kmeans_test_dic[df_names[x]], y_kmeans_test_dic[df_names[x]])\n",
    "        \n",
    "    # creating a dataframe to store all test scores\n",
    "#     main_col = ['cluster_group']\n",
    "#     kmeans_results_df = pd.DataFrame(knn_test_scores.keys(), columns=main_col)\n",
    "    \n",
    "    # appending each itteration to df\n",
    "    addition = pd.DataFrame({\n",
    "        f'clusters={i}':  knn_test_scores.values()})\n",
    "    \n",
    "    kmeans_results_df = pd.concat([kmeans_results_df, addition], axis=1)"
   ]
  },
  {
   "cell_type": "code",
   "execution_count": null,
   "metadata": {
    "ExecuteTime": {
     "start_time": "2023-01-05T01:27:02.692Z"
    }
   },
   "outputs": [],
   "source": [
    "kmeans_results_clean = kmeans_results_df.set_index('cluster_group').copy()"
   ]
  },
  {
   "cell_type": "code",
   "execution_count": null,
   "metadata": {
    "ExecuteTime": {
     "start_time": "2023-01-05T01:27:02.693Z"
    }
   },
   "outputs": [],
   "source": [
    "kmeans_results_clean"
   ]
  },
  {
   "cell_type": "code",
   "execution_count": null,
   "metadata": {
    "ExecuteTime": {
     "start_time": "2023-01-05T01:27:02.694Z"
    }
   },
   "outputs": [],
   "source": [
    "for col in kmeans_results_clean.columns:\n",
    "    print(np.mean(kmeans_results_df[col]))"
   ]
  },
  {
   "cell_type": "markdown",
   "metadata": {},
   "source": [
    "## Standard KNN"
   ]
  },
  {
   "cell_type": "code",
   "execution_count": null,
   "metadata": {
    "ExecuteTime": {
     "start_time": "2023-01-05T01:27:02.696Z"
    }
   },
   "outputs": [],
   "source": [
    "knn_model = Pipeline([\n",
    "    ('ColTrans', ColTrans),\n",
    "    ('knn', KNeighborsClassifier())\n",
    "])"
   ]
  },
  {
   "cell_type": "code",
   "execution_count": null,
   "metadata": {
    "ExecuteTime": {
     "start_time": "2023-01-05T01:27:02.697Z"
    }
   },
   "outputs": [],
   "source": [
    "knn_model.fit(X_train, y_train);"
   ]
  },
  {
   "cell_type": "code",
   "execution_count": null,
   "metadata": {
    "ExecuteTime": {
     "start_time": "2023-01-05T01:27:02.699Z"
    }
   },
   "outputs": [],
   "source": [
    "knn_pipe = ModelRuns(knn_model, 'knn', X_train, y_train)"
   ]
  },
  {
   "cell_type": "code",
   "execution_count": null,
   "metadata": {
    "ExecuteTime": {
     "start_time": "2023-01-05T01:27:02.700Z"
    }
   },
   "outputs": [],
   "source": [
    "knn_pipe.run_all(X_train_run=X_train, X_test_run=X_test, y_train_run=y_train, y_test_run=y_test, train_results=True);"
   ]
  },
  {
   "cell_type": "code",
   "execution_count": null,
   "metadata": {},
   "outputs": [],
   "source": []
  },
  {
   "cell_type": "code",
   "execution_count": null,
   "metadata": {},
   "outputs": [],
   "source": []
  },
  {
   "cell_type": "code",
   "execution_count": null,
   "metadata": {
    "ExecuteTime": {
     "start_time": "2023-01-05T01:27:02.702Z"
    }
   },
   "outputs": [],
   "source": [
    "stop"
   ]
  },
  {
   "cell_type": "code",
   "execution_count": null,
   "metadata": {
    "ExecuteTime": {
     "start_time": "2023-01-05T01:27:02.703Z"
    }
   },
   "outputs": [],
   "source": [
    "class ModelRuns():\n",
    "    ''' Class to easily run models through and determine output.'''\n",
    "    \n",
    "    def __init__(self, model, model_name, X, y):\n",
    "        self.model = model\n",
    "        self.name = model_name\n",
    "        self.X = X\n",
    "        self.y = y\n",
    "        \n",
    "    def cross_val(self, X=None, y=None, cv=5):\n",
    "        cv_X= X if X else self.X\n",
    "        cv_y = y if y else self.y\n",
    "        self.cv_results = cross_val_score(self.model, cv_X, cv_y, cv=cv)\n",
    "        self.cv_mean = np.mean(self.cv_results)\n",
    "        return print(f\"Cross_val mean is: {round(self.cv_mean, 4)} for kfold: {cv}\")\n",
    "                \n",
    "    def accuracy(self, X, y):\n",
    "        acc = self.model.score(X, y)\n",
    "        \n",
    "    def performance(self, X, y):\n",
    "        y_pred = self.model.predict(X)\n",
    "        report = classification_report(y, y_pred)\n",
    "        return report\n",
    "    \n",
    "    def class_matrix(self, X, y):\n",
    "        mat = plot_confusion_matrix(self.model, X, y);\n",
    "        if X is X_train:\n",
    "            plt.title(\"Train\")\n",
    "        elif X is X_test:\n",
    "            plt.title('Test')\n",
    "        else:\n",
    "            plt.title('Class Matrix')\n",
    "        return mat\n",
    "    \n",
    "    def roc_auc_custom(self, X, y):\n",
    "        y_score = self.model.predict_proba(X)\n",
    "        roc_score = roc_auc_score(y, y_score[:,1])\n",
    "        return roc_score\n",
    "    \n",
    "    def run_all(self, X_train_run=X_train, X_test_run=X_test, y_train_run=y_train, y_test_run=y_test, train_results=True):\n",
    "        if train_results:\n",
    "            y_train_perf = self.performance(X_train_run, y_train_run)\n",
    "            y_train_auc = self.roc_auc_custom(X_train_run, y_train_run)\n",
    "            y_test_perf = self.performance(X_test_run, y_test_run)\n",
    "            y_test_auc = self.roc_auc_custom(X_test_run, y_test_run)\n",
    "            train_matrix = self.class_matrix(X_train_run, y_train_run)\n",
    "            test_matrix = self.class_matrix(X_test_run, y_test_run)\n",
    "            return print(f\"Train Report: \\n{y_train_perf}\\nROC-AUC Score:{y_train_auc}\\n\"), \\\n",
    "            print(f\"Test Report: \\n{y_test_perf}\\nROC-AUC Score:{y_test_auc}\")\n",
    "        else:\n",
    "            y_test_perf = self.performance(X_test_run, y_test_run)\n",
    "            test_matrix = self.class_matrix(X_test_run, y_test_run)\n",
    "            return print(f\"Test Report: \\n{y_test_perf}\")"
   ]
  }
 ],
 "metadata": {
  "kernelspec": {
   "display_name": "Python (learn-env)",
   "language": "python",
   "name": "learn-env"
  },
  "language_info": {
   "codemirror_mode": {
    "name": "ipython",
    "version": 3
   },
   "file_extension": ".py",
   "mimetype": "text/x-python",
   "name": "python",
   "nbconvert_exporter": "python",
   "pygments_lexer": "ipython3",
   "version": "3.8.5"
  },
  "toc": {
   "base_numbering": 1,
   "nav_menu": {},
   "number_sections": true,
   "sideBar": true,
   "skip_h1_title": false,
   "title_cell": "Table of Contents",
   "title_sidebar": "Contents",
   "toc_cell": false,
   "toc_position": {},
   "toc_section_display": true,
   "toc_window_display": false
  },
  "varInspector": {
   "cols": {
    "lenName": 16,
    "lenType": 16,
    "lenVar": 40
   },
   "kernels_config": {
    "python": {
     "delete_cmd_postfix": "",
     "delete_cmd_prefix": "del ",
     "library": "var_list.py",
     "varRefreshCmd": "print(var_dic_list())"
    },
    "r": {
     "delete_cmd_postfix": ") ",
     "delete_cmd_prefix": "rm(",
     "library": "var_list.r",
     "varRefreshCmd": "cat(var_dic_list()) "
    }
   },
   "position": {
    "height": "379.844px",
    "left": "1637px",
    "right": "20px",
    "top": "120px",
    "width": "263px"
   },
   "types_to_exclude": [
    "module",
    "function",
    "builtin_function_or_method",
    "instance",
    "_Feature"
   ],
   "window_display": false
  }
 },
 "nbformat": 4,
 "nbformat_minor": 4
}
