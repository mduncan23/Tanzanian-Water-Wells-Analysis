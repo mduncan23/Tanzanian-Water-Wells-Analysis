{
 "cells": [
  {
   "cell_type": "markdown",
   "metadata": {},
   "source": [
    "# Tanzanian Water Wells"
   ]
  },
  {
   "cell_type": "markdown",
   "metadata": {
    "heading_collapsed": true
   },
   "source": [
    "## Overview"
   ]
  },
  {
   "cell_type": "markdown",
   "metadata": {
    "hidden": true
   },
   "source": [
    "Tanzania struggles with providing clean water to the people of its country. The goal of this analysis is to use data from existing wells throughout the country to identify the wells in need of repair. "
   ]
  },
  {
   "cell_type": "markdown",
   "metadata": {
    "hidden": true
   },
   "source": [
    "This analysis is focused on assisting the Tanzanian Government reduce resources spent to identify water wells that are in need of repair to ensure that clean water is available to its citizens. "
   ]
  },
  {
   "cell_type": "markdown",
   "metadata": {
    "hidden": true
   },
   "source": [
    "**Important Note:** Due to the runtime of some models in this notebook, the code has been commented out. I have included screenshots of the model results in each section with code that has been commented out but have kept the code to better show the steps taken to reach my end results.\n",
    "\n",
    "If you are looking to run the entire notebook, including the models that require intense processing and time commitments, please head down to the 'Modeling' section and uncomment the code first."
   ]
  },
  {
   "cell_type": "markdown",
   "metadata": {
    "heading_collapsed": true,
    "hidden": true
   },
   "source": [
    "### Helper Class"
   ]
  },
  {
   "cell_type": "markdown",
   "metadata": {
    "hidden": true
   },
   "source": [
    "Since I will be running multiple models throughout the analysis, I have created a helper class to streamline the process. More information on this function can be found in the `modelruns.py` file included in the repository. This file is needed to successfully run the notebook."
   ]
  },
  {
   "cell_type": "markdown",
   "metadata": {},
   "source": [
    "# Import Libraries and Data "
   ]
  },
  {
   "cell_type": "code",
   "execution_count": 1,
   "metadata": {
    "ExecuteTime": {
     "end_time": "2023-01-04T22:05:34.971364Z",
     "start_time": "2023-01-04T22:05:33.960039Z"
    }
   },
   "outputs": [],
   "source": [
    "import numpy as np\n",
    "import pandas as pd\n",
    "import matplotlib.pyplot as plt\n",
    "import seaborn as sns\n",
    "\n",
    "from sklearn.base import BaseEstimator, TransformerMixin\n",
    "\n",
    "from sklearn.preprocessing import StandardScaler, OneHotEncoder, \\\n",
    "FunctionTransformer, normalize, PolynomialFeatures, LabelEncoder\n",
    "\n",
    "from sklearn.linear_model import LinearRegression, LogisticRegression, \\\n",
    "Ridge, Lasso, ElasticNet, LassoCV, RidgeCV, ElasticNetCV\n",
    "\n",
    "from sklearn.model_selection import train_test_split, cross_validate,\\\n",
    "KFold, cross_val_score, ShuffleSplit, RandomizedSearchCV, GridSearchCV\n",
    "\n",
    "from sklearn.metrics import mean_squared_error, make_scorer, log_loss, \\\n",
    "confusion_matrix, plot_confusion_matrix, precision_score, recall_score, \\\n",
    "accuracy_score, f1_score, roc_curve, roc_auc_score, classification_report, auc, plot_roc_curve\n",
    "\n",
    "from sklearn.dummy import DummyRegressor, DummyClassifier\n",
    "\n",
    "from sklearn.utils import resample\n",
    "\n",
    "from sklearn.impute import MissingIndicator, SimpleImputer\n",
    "\n",
    "from sklearn.feature_selection import SelectFromModel\n",
    "\n",
    "from sklearn.tree import DecisionTreeClassifier, DecisionTreeRegressor, plot_tree\n",
    "\n",
    "from sklearn import tree\n",
    "\n",
    "from sklearn.neighbors import KNeighborsClassifier, NearestNeighbors\n",
    "\n",
    "from scipy import stats\n",
    "from sklearn.naive_bayes import MultinomialNB, GaussianNB\n",
    "\n",
    "from sklearn.pipeline import Pipeline\n",
    "\n",
    "from sklearn.compose import ColumnTransformer,  make_column_selector as selector\n",
    "\n",
    "from sklearn.ensemble import BaggingClassifier, RandomForestClassifier\n",
    "\n",
    "from sklearn.ensemble import BaggingClassifier, RandomForestClassifier, \\\n",
    "ExtraTreesClassifier, VotingClassifier, StackingRegressor, StackingClassifier\n",
    "\n",
    "from sklearn.ensemble import AdaBoostClassifier, GradientBoostingClassifier\n",
    "\n",
    "from sklearn.svm import SVC, NuSVC\n",
    "\n",
    "from sklearn.cluster import KMeans\n",
    "\n",
    "import xgboost\n",
    "\n",
    "from imblearn.over_sampling import SMOTE\n",
    "from imblearn.under_sampling import RandomUnderSampler\n",
    "from imblearn.pipeline import Pipeline as ImPipeline\n",
    "\n",
    "from modelruns import ModelRuns\n",
    "\n",
    "from time import perf_counter\n",
    "\n",
    "%matplotlib inline\n"
   ]
  },
  {
   "cell_type": "markdown",
   "metadata": {},
   "source": [
    "The data was provided by DrivenData.org in partnership with Taarifa who aggregated the data from the Tanzanian Ministry of Water."
   ]
  },
  {
   "cell_type": "code",
   "execution_count": 2,
   "metadata": {
    "ExecuteTime": {
     "end_time": "2023-01-04T22:05:37.110170Z",
     "start_time": "2023-01-04T22:05:36.873001Z"
    }
   },
   "outputs": [],
   "source": [
    "X_data_df = pd.read_csv('data/x_data.csv')\n",
    "y_data_df = pd.read_csv('data/target_data.csv')"
   ]
  },
  {
   "cell_type": "markdown",
   "metadata": {},
   "source": [
    "# Data Understanding and Preparation"
   ]
  },
  {
   "cell_type": "markdown",
   "metadata": {},
   "source": [
    "To better understand the data, I have reviewed the features and separated them into numerical and categorical feature types:\n",
    "\n",
    "**Numerical:**\n",
    "- `id` - Unique identifier\n",
    "- `amount_tsh` - Total static head (amount water available to waterpoint)\n",
    "- `gps_height` - Altitude of the well\n",
    "- `longitude` - GPS coordinate\n",
    "- `latitude` - GPS coordinate\n",
    "- `num_private` - Number private\n",
    "- `population` - Population around the well\n",
    "- `construction_year` - Year the waterpoint was constructed\n",
    "\n",
    "**Categorical:**\n",
    "- `installer` - Organization that installed the well\n",
    "- `wpt_name` - Name of the waterpoint if there is one\n",
    "- `basin` - Geographic water basin\n",
    "- `subvillage` - Geographic location\n",
    "- `lga` - Geographic location\n",
    "- `ward` - Geographic location\n",
    "- `public_meeting` - True/False\n",
    "- `scheme_management` - Who operates the waterpoint\n",
    "- `permit` - If the waterpoint is permitted\n",
    "- `extraction_type` - The kind of extraction the waterpoint uses\n",
    "- `extraction_type_group` - The kind of extraction the waterpoint uses\n",
    "- `extraction_type_class` - The kind of extraction the waterpoint uses\n",
    "- `management` - How the waterpoint is managed\n",
    "- `management_group` - How the waterpoint is managed\n",
    "- `payment` - What the water costs\n",
    "- `payment_type` - What the water costs\n",
    "- `water_quality` - The quality of the water\n",
    "- `quality_group` - The quality of the water\n",
    "- `quantity` - The quantity of water\n",
    "- `quantity_group` - The quantity of water\n",
    "- `source` - The source of the water\n",
    "- `source_type` - The source of the water\n",
    "- `source_class` - The source of the water\n",
    "- `waterpoint_type` - The kind of waterpoint\n",
    "- `waterpoint_type_group` - The kind of waterpoint\n",
    "- `region_code` - Geographic location (coded)\n",
    "- `district_code` - Geographic location (coded)\n",
    "- `scheme_name` - Who operates the waterpoint \n",
    "- `date_recorded` - The date the row was entered\n",
    "- `funder` - Who funded the well\n",
    "- `region` - Geographic location\n",
    "- `recorded_by` - Group entering this row of data\n",
    "- `target` - The current status of the waterpoint"
   ]
  },
  {
   "cell_type": "markdown",
   "metadata": {},
   "source": [
    "The dataset used for this analysis has 40 features (including the target feature), and 59,400 rows of data. The target feature is separated into three classifications:\n",
    "\n",
    "- 0 = Functional\n",
    "- 1 = Functional Needs Repair\n",
    "- 2 = Non-Functional"
   ]
  },
  {
   "cell_type": "markdown",
   "metadata": {},
   "source": [
    "## Label Encode Target Variables"
   ]
  },
  {
   "cell_type": "markdown",
   "metadata": {},
   "source": [
    "To better define the status of each well for this analysis, I have set up a binary system for the wells:\n",
    "- 0 = Functional\n",
    "- 1 = Needs Repair"
   ]
  },
  {
   "cell_type": "code",
   "execution_count": 3,
   "metadata": {
    "ExecuteTime": {
     "end_time": "2023-01-04T22:05:41.553022Z",
     "start_time": "2023-01-04T22:05:41.537001Z"
    }
   },
   "outputs": [],
   "source": [
    "y_encoded = pd.DataFrame(LabelEncoder().fit_transform(y_data_df['status_group']))"
   ]
  },
  {
   "cell_type": "code",
   "execution_count": 4,
   "metadata": {
    "ExecuteTime": {
     "end_time": "2023-01-04T22:05:41.897754Z",
     "start_time": "2023-01-04T22:05:41.889519Z"
    }
   },
   "outputs": [
    {
     "data": {
      "text/plain": [
       "0    0.543081\n",
       "2    0.384242\n",
       "1    0.072677\n",
       "dtype: float64"
      ]
     },
     "execution_count": 4,
     "metadata": {},
     "output_type": "execute_result"
    }
   ],
   "source": [
    "y_encoded.value_counts(normalize=True)"
   ]
  },
  {
   "cell_type": "code",
   "execution_count": 5,
   "metadata": {
    "ExecuteTime": {
     "end_time": "2023-01-04T22:05:42.414811Z",
     "start_time": "2023-01-04T22:05:42.401281Z"
    }
   },
   "outputs": [],
   "source": [
    "y_encoded = y_encoded.replace(2, 1)"
   ]
  },
  {
   "cell_type": "code",
   "execution_count": 6,
   "metadata": {
    "ExecuteTime": {
     "end_time": "2023-01-04T22:05:42.776189Z",
     "start_time": "2023-01-04T22:05:42.769492Z"
    }
   },
   "outputs": [
    {
     "data": {
      "text/plain": [
       "0    0.543081\n",
       "1    0.456919\n",
       "dtype: float64"
      ]
     },
     "execution_count": 6,
     "metadata": {},
     "output_type": "execute_result"
    }
   ],
   "source": [
    "y_encoded.value_counts(normalize=True)"
   ]
  },
  {
   "cell_type": "markdown",
   "metadata": {},
   "source": [
    "We can see that the data has a relatively even distribution. As such, we will not need to use any over sampling or under sampling techniques to get an even representation between the classifications."
   ]
  },
  {
   "cell_type": "markdown",
   "metadata": {},
   "source": [
    "## Bringing the Data Together"
   ]
  },
  {
   "cell_type": "markdown",
   "metadata": {},
   "source": [
    "When running machine learning algorithms, its important to separate the predictor and target variables in order to train the model. The provided data is already separate, but in order to clean the data, I will be dropping a few rows that have missing information. \n",
    "\n",
    "To ensure that the predictor and target variables are still in line, I need to combine the datasets before dropping any rows with missing information."
   ]
  },
  {
   "cell_type": "code",
   "execution_count": 7,
   "metadata": {
    "ExecuteTime": {
     "end_time": "2023-01-04T22:05:43.761899Z",
     "start_time": "2023-01-04T22:05:43.736207Z"
    }
   },
   "outputs": [],
   "source": [
    "df = pd.concat([X_data_df, y_encoded], axis=1)"
   ]
  },
  {
   "cell_type": "code",
   "execution_count": 8,
   "metadata": {
    "ExecuteTime": {
     "end_time": "2023-01-04T22:05:44.076011Z",
     "start_time": "2023-01-04T22:05:44.065477Z"
    }
   },
   "outputs": [],
   "source": [
    "# Giving the target column a name\n",
    "df.rename(mapper={0:'target'}, axis=1, inplace=True)"
   ]
  },
  {
   "cell_type": "code",
   "execution_count": 9,
   "metadata": {
    "ExecuteTime": {
     "end_time": "2023-01-04T22:05:44.563110Z",
     "start_time": "2023-01-04T22:05:44.513085Z"
    }
   },
   "outputs": [
    {
     "name": "stdout",
     "output_type": "stream",
     "text": [
      "<class 'pandas.core.frame.DataFrame'>\n",
      "RangeIndex: 59400 entries, 0 to 59399\n",
      "Data columns (total 41 columns):\n",
      " #   Column                 Non-Null Count  Dtype  \n",
      "---  ------                 --------------  -----  \n",
      " 0   id                     59400 non-null  int64  \n",
      " 1   amount_tsh             59400 non-null  float64\n",
      " 2   date_recorded          59400 non-null  object \n",
      " 3   funder                 55765 non-null  object \n",
      " 4   gps_height             59400 non-null  int64  \n",
      " 5   installer              55745 non-null  object \n",
      " 6   longitude              59400 non-null  float64\n",
      " 7   latitude               59400 non-null  float64\n",
      " 8   wpt_name               59400 non-null  object \n",
      " 9   num_private            59400 non-null  int64  \n",
      " 10  basin                  59400 non-null  object \n",
      " 11  subvillage             59029 non-null  object \n",
      " 12  region                 59400 non-null  object \n",
      " 13  region_code            59400 non-null  int64  \n",
      " 14  district_code          59400 non-null  int64  \n",
      " 15  lga                    59400 non-null  object \n",
      " 16  ward                   59400 non-null  object \n",
      " 17  population             59400 non-null  int64  \n",
      " 18  public_meeting         56066 non-null  object \n",
      " 19  recorded_by            59400 non-null  object \n",
      " 20  scheme_management      55523 non-null  object \n",
      " 21  scheme_name            31234 non-null  object \n",
      " 22  permit                 56344 non-null  object \n",
      " 23  construction_year      59400 non-null  int64  \n",
      " 24  extraction_type        59400 non-null  object \n",
      " 25  extraction_type_group  59400 non-null  object \n",
      " 26  extraction_type_class  59400 non-null  object \n",
      " 27  management             59400 non-null  object \n",
      " 28  management_group       59400 non-null  object \n",
      " 29  payment                59400 non-null  object \n",
      " 30  payment_type           59400 non-null  object \n",
      " 31  water_quality          59400 non-null  object \n",
      " 32  quality_group          59400 non-null  object \n",
      " 33  quantity               59400 non-null  object \n",
      " 34  quantity_group         59400 non-null  object \n",
      " 35  source                 59400 non-null  object \n",
      " 36  source_type            59400 non-null  object \n",
      " 37  source_class           59400 non-null  object \n",
      " 38  waterpoint_type        59400 non-null  object \n",
      " 39  waterpoint_type_group  59400 non-null  object \n",
      " 40  target                 59400 non-null  int32  \n",
      "dtypes: float64(3), int32(1), int64(7), object(30)\n",
      "memory usage: 18.4+ MB\n"
     ]
    }
   ],
   "source": [
    "df.info()"
   ]
  },
  {
   "cell_type": "markdown",
   "metadata": {},
   "source": [
    "## Dropping Columns"
   ]
  },
  {
   "cell_type": "markdown",
   "metadata": {},
   "source": [
    "To ensure that we are reducing the noise in the dataset while simultaneously being cognizant of computing time, we are removing a few columns that are not relevant to this analysis:\n",
    "\n",
    "- `scheme_name` - Who operates the waterpoint.\n",
    "    - This feature is missing a lot of data and the operator of the well should no impact the functionality of the well.\n",
    "- `id` - A unique identifier number for each well.\n",
    "    - The id code will not impact the well's functionality.\n",
    "- `date_recorded` - The date the row was entered.\n",
    "    - This is just data for when the information was recorded. This shouldn't have an effect on the well's functionality. \n",
    "- `funder` - Who funded the well.\n",
    "    - Who paid for the well should not impact the functionality of the well.\n",
    "- `recorded_by` - Group entering this row of data.\n",
    "    - The group who's taking notes on the wells would not affect the data itself.\n",
    "- `wpt_name` - Name of the waterpoint if there is one.\n",
    "    - Similar to `id`, the name of the waterpoint should not affect the functionality.\n",
    "- `region`, `subvillage`, `ward`, `lga`, and `basin` - Geographic location.\n",
    "    - The geographic location of the well is already recorded through the features `latitude` and `longitude` as well as `region_code` and `district_code`.\n",
    "- `quality_group` - The quality of water.\n",
    "    - The water quality is recorded more accurately in the `water_quality` feature.\n",
    "- `quantity_group` - The quantity of water.\n",
    "    - The water quantity is recorded more accurately in the `water_quantity` feature.\n",
    "- `installer` - Organization that installed the well.\n",
    "    - The organization in charge of installing the well does not impact its continued maintenance.\n",
    "- `source_type` and `source_class` - The source of the water.\n",
    "    - The source is recorded more accurately in the `source` feature.\n",
    "- `waterpoint_type_group` - The kind of waterpoint.\n",
    "    - The waterpoint type group is recorded more accurately in the `waterpoint_type` feature.\n",
    "- `extraction_type_group` and `extraction_type_class` - The kind of extraction the waterpoint uses.\n",
    "    - The kind of extraction is recorded more accurately in the `extraction_type` feature.\n",
    "- `management_group` - How the waterpoint is managed.\n",
    "    - Management is recorded more accurately in the `management` feature.\n",
    "- `payment_type` - What the water costs.\n",
    "    - Payment is recorded more accurately in the `payment` feature."
   ]
  },
  {
   "cell_type": "code",
   "execution_count": 10,
   "metadata": {
    "ExecuteTime": {
     "end_time": "2023-01-04T22:05:45.685427Z",
     "start_time": "2023-01-04T22:05:45.673409Z"
    }
   },
   "outputs": [],
   "source": [
    "cols_to_drop = ['scheme_name', 'id', 'date_recorded', 'region', 'funder', 'recorded_by'\n",
    "                , 'wpt_name', 'subvillage', 'ward', 'lga', 'basin', 'quality_group', 'quantity_group', \n",
    "                'installer', 'source_type', 'source_class', 'waterpoint_type_group', \n",
    "                'extraction_type_group', 'extraction_type_class', 'management_group',\n",
    "               'payment_type']\n",
    "df_dropped = df.drop(cols_to_drop, axis=1)"
   ]
  },
  {
   "cell_type": "markdown",
   "metadata": {},
   "source": [
    "## Addressing Missing Values"
   ]
  },
  {
   "cell_type": "markdown",
   "metadata": {},
   "source": [
    "The remaining features will have their information imputed based on the most frequent value in each category. I have decided to impute rather than drop the rows because each of the remaining features with missing values has a clearly identified 'most frequent' unique value. Also, in order to maintain the size and integrity of the dataset.\n",
    "\n",
    "In order to avoid potential data leakage from imputing these values, the missing data will be replaced later in this analysis through a pipeline after splitting training and test data."
   ]
  },
  {
   "cell_type": "code",
   "execution_count": 11,
   "metadata": {
    "ExecuteTime": {
     "end_time": "2023-01-04T22:05:46.594519Z",
     "start_time": "2023-01-04T22:05:46.560215Z"
    }
   },
   "outputs": [
    {
     "data": {
      "text/plain": [
       "amount_tsh              98\n",
       "gps_height            2428\n",
       "longitude            57516\n",
       "latitude             57517\n",
       "num_private             65\n",
       "region_code             27\n",
       "district_code           20\n",
       "population            1049\n",
       "public_meeting           2\n",
       "scheme_management       12\n",
       "permit                   2\n",
       "construction_year       55\n",
       "extraction_type         18\n",
       "management              12\n",
       "payment                  7\n",
       "water_quality            8\n",
       "quantity                 5\n",
       "source                  10\n",
       "waterpoint_type          7\n",
       "target                   2\n",
       "dtype: int64"
      ]
     },
     "execution_count": 11,
     "metadata": {},
     "output_type": "execute_result"
    }
   ],
   "source": [
    "df_dropped.nunique()"
   ]
  },
  {
   "cell_type": "code",
   "execution_count": 12,
   "metadata": {
    "ExecuteTime": {
     "end_time": "2023-01-04T22:05:46.938353Z",
     "start_time": "2023-01-04T22:05:46.921237Z"
    }
   },
   "outputs": [
    {
     "data": {
      "text/plain": [
       "amount_tsh              0\n",
       "gps_height              0\n",
       "longitude               0\n",
       "latitude                0\n",
       "num_private             0\n",
       "region_code             0\n",
       "district_code           0\n",
       "population              0\n",
       "public_meeting       3334\n",
       "scheme_management    3877\n",
       "permit               3056\n",
       "construction_year       0\n",
       "extraction_type         0\n",
       "management              0\n",
       "payment                 0\n",
       "water_quality           0\n",
       "quantity                0\n",
       "source                  0\n",
       "waterpoint_type         0\n",
       "target                  0\n",
       "dtype: int64"
      ]
     },
     "execution_count": 12,
     "metadata": {},
     "output_type": "execute_result"
    }
   ],
   "source": [
    "df_dropped.isna().sum()"
   ]
  },
  {
   "cell_type": "markdown",
   "metadata": {},
   "source": [
    "## Column Dtypes"
   ]
  },
  {
   "cell_type": "markdown",
   "metadata": {},
   "source": [
    "This dataset contains a wide variety of informational types. For the purpose of this analysis, I have recategorized two features from numerical types to categorical:\n",
    "\n",
    "- `region_code`: A codified descriptor for the waterpoint's region.\n",
    "- `district_code`: A codified descriptor for the waterpoint's district."
   ]
  },
  {
   "cell_type": "code",
   "execution_count": 13,
   "metadata": {
    "ExecuteTime": {
     "end_time": "2023-01-04T22:05:48.129556Z",
     "start_time": "2023-01-04T22:05:48.112763Z"
    }
   },
   "outputs": [
    {
     "name": "stdout",
     "output_type": "stream",
     "text": [
      "<class 'pandas.core.frame.DataFrame'>\n",
      "RangeIndex: 59400 entries, 0 to 59399\n",
      "Data columns (total 20 columns):\n",
      " #   Column             Non-Null Count  Dtype  \n",
      "---  ------             --------------  -----  \n",
      " 0   amount_tsh         59400 non-null  float64\n",
      " 1   gps_height         59400 non-null  int64  \n",
      " 2   longitude          59400 non-null  float64\n",
      " 3   latitude           59400 non-null  float64\n",
      " 4   num_private        59400 non-null  int64  \n",
      " 5   region_code        59400 non-null  int64  \n",
      " 6   district_code      59400 non-null  int64  \n",
      " 7   population         59400 non-null  int64  \n",
      " 8   public_meeting     56066 non-null  object \n",
      " 9   scheme_management  55523 non-null  object \n",
      " 10  permit             56344 non-null  object \n",
      " 11  construction_year  59400 non-null  int64  \n",
      " 12  extraction_type    59400 non-null  object \n",
      " 13  management         59400 non-null  object \n",
      " 14  payment            59400 non-null  object \n",
      " 15  water_quality      59400 non-null  object \n",
      " 16  quantity           59400 non-null  object \n",
      " 17  source             59400 non-null  object \n",
      " 18  waterpoint_type    59400 non-null  object \n",
      " 19  target             59400 non-null  int32  \n",
      "dtypes: float64(3), int32(1), int64(6), object(10)\n",
      "memory usage: 8.8+ MB\n"
     ]
    }
   ],
   "source": [
    "df_dropped.info()"
   ]
  },
  {
   "cell_type": "code",
   "execution_count": 14,
   "metadata": {
    "ExecuteTime": {
     "end_time": "2023-01-04T22:05:48.583722Z",
     "start_time": "2023-01-04T22:05:48.569777Z"
    }
   },
   "outputs": [],
   "source": [
    "to_object = ['region_code', 'district_code']\n",
    "df_clean = df_dropped.copy()\n",
    "\n",
    "for obj in to_object:\n",
    "    df_clean[obj] = df_clean[obj].astype(object)"
   ]
  },
  {
   "cell_type": "markdown",
   "metadata": {},
   "source": [
    "We now have perfectly clean data with no data leakage:\n",
    "\n",
    "- The target variable has been Label Encoded.\n",
    "- Dropped irrelevant columns.\n",
    "- Column Dtypes have been reassigned for categorical columns."
   ]
  },
  {
   "cell_type": "markdown",
   "metadata": {},
   "source": [
    "## Separating the Data"
   ]
  },
  {
   "cell_type": "markdown",
   "metadata": {},
   "source": [
    "Now that the dataset has been cleaned we can begin the final preparations before beginning modeling. First, we need to separate the predictor and target variables again, then split the data into training and test groups."
   ]
  },
  {
   "cell_type": "code",
   "execution_count": 15,
   "metadata": {
    "ExecuteTime": {
     "end_time": "2023-01-04T22:05:49.553891Z",
     "start_time": "2023-01-04T22:05:49.536864Z"
    }
   },
   "outputs": [],
   "source": [
    "y = df_clean['target']\n",
    "X = df_clean.drop(['target'], axis =1)"
   ]
  },
  {
   "cell_type": "code",
   "execution_count": 16,
   "metadata": {
    "ExecuteTime": {
     "end_time": "2023-01-04T22:05:49.943129Z",
     "start_time": "2023-01-04T22:05:49.913624Z"
    }
   },
   "outputs": [],
   "source": [
    "X_train, X_test, y_train, y_test = train_test_split(X, y, random_state=42)"
   ]
  },
  {
   "cell_type": "markdown",
   "metadata": {},
   "source": [
    "## Setting up Pipelines"
   ]
  },
  {
   "cell_type": "markdown",
   "metadata": {},
   "source": [
    "To streamline the analysis, reduce the potential for data leakage, and ensure that all preprocessing steps are completed with each model, I have set up a pipeline. The pipeline begins by separating the numerical data from the categorical data, once separate, the two types of data can undergo their respective preprocessing.\n",
    "\n",
    "- Numerical Data:\n",
    "    - The columns for numerical data or not missing any values so there is no need to include an imputer.\n",
    "    - Standard Scaler is being utilized to standardize and scale all numerical data.\n",
    "\n",
    "- Categorical Data:\n",
    "    - SimpleImputer is being utilized to fill missing data in the categorical columns based on the most frequent value within that column. A 'missing' indicator is in place to help identify that the data was not originally found within the dataset.\n",
    "    - OneHotEncoding is being utilized to convert the categorical information to a binary system for modeling. "
   ]
  },
  {
   "cell_type": "code",
   "execution_count": 17,
   "metadata": {
    "ExecuteTime": {
     "end_time": "2023-01-04T22:05:50.853971Z",
     "start_time": "2023-01-04T22:05:50.840988Z"
    }
   },
   "outputs": [],
   "source": [
    "num_pipe = Pipeline([\n",
    "    ('ss', StandardScaler())\n",
    "])"
   ]
  },
  {
   "cell_type": "code",
   "execution_count": 18,
   "metadata": {
    "ExecuteTime": {
     "end_time": "2023-01-04T22:05:51.466672Z",
     "start_time": "2023-01-04T22:05:51.449443Z"
    }
   },
   "outputs": [],
   "source": [
    "cat_pipe = Pipeline([\n",
    "    ('cat_impute', SimpleImputer(strategy='most_frequent', add_indicator=True)),\n",
    "    ('ohe', OneHotEncoder(sparse=False, handle_unknown='ignore'))\n",
    "])"
   ]
  },
  {
   "cell_type": "code",
   "execution_count": 19,
   "metadata": {
    "ExecuteTime": {
     "end_time": "2023-01-04T22:05:52.094430Z",
     "start_time": "2023-01-04T22:05:52.081221Z"
    }
   },
   "outputs": [],
   "source": [
    "ColTrans = ColumnTransformer(transformers=[\n",
    "    ('num_pipe', num_pipe, selector(dtype_include=np.number)),\n",
    "    ('cat_pipe', cat_pipe, selector(dtype_include=object))\n",
    "], remainder='passthrough')"
   ]
  },
  {
   "cell_type": "markdown",
   "metadata": {},
   "source": [
    "# Modeling"
   ]
  },
  {
   "cell_type": "markdown",
   "metadata": {
    "heading_collapsed": true
   },
   "source": [
    "## First Simple Model"
   ]
  },
  {
   "cell_type": "markdown",
   "metadata": {
    "hidden": true
   },
   "source": [
    "To begin analysis of the data, I have set up a first simple model to compare later models to. This is the bare minimum model that predicts that the most frequent target variable is the answer for all inputs. \n",
    "\n",
    "The first simple model has an accuracy of .545 and an ROC-AUC score of .5."
   ]
  },
  {
   "cell_type": "code",
   "execution_count": 20,
   "metadata": {
    "ExecuteTime": {
     "end_time": "2023-01-04T18:28:44.653770Z",
     "start_time": "2023-01-04T18:28:44.637730Z"
    },
    "hidden": true
   },
   "outputs": [],
   "source": [
    "dummy_model = Pipeline([\n",
    "    ('ColTrans', ColTrans),\n",
    "    ('dummy', DummyClassifier(strategy='most_frequent', random_state=42))\n",
    "])"
   ]
  },
  {
   "cell_type": "code",
   "execution_count": 21,
   "metadata": {
    "ExecuteTime": {
     "end_time": "2023-01-04T18:28:45.834076Z",
     "start_time": "2023-01-04T18:28:44.654794Z"
    },
    "hidden": true
   },
   "outputs": [],
   "source": [
    "dummy_model.fit(X_train, y_train);"
   ]
  },
  {
   "cell_type": "code",
   "execution_count": 22,
   "metadata": {
    "ExecuteTime": {
     "end_time": "2023-01-04T18:28:45.849707Z",
     "start_time": "2023-01-04T18:28:45.836078Z"
    },
    "hidden": true
   },
   "outputs": [
    {
     "data": {
      "text/plain": [
       "0    0.54532\n",
       "1    0.45468\n",
       "Name: target, dtype: float64"
      ]
     },
     "execution_count": 22,
     "metadata": {},
     "output_type": "execute_result"
    }
   ],
   "source": [
    "y_test.value_counts(normalize=True)"
   ]
  },
  {
   "cell_type": "code",
   "execution_count": 23,
   "metadata": {
    "ExecuteTime": {
     "end_time": "2023-01-04T18:28:45.897706Z",
     "start_time": "2023-01-04T18:28:45.850745Z"
    },
    "hidden": true
   },
   "outputs": [
    {
     "data": {
      "text/plain": [
       "0.5453198653198653"
      ]
     },
     "execution_count": 23,
     "metadata": {},
     "output_type": "execute_result"
    }
   ],
   "source": [
    "dummy_model.score(X_test, y_test)"
   ]
  },
  {
   "cell_type": "code",
   "execution_count": 24,
   "metadata": {
    "ExecuteTime": {
     "end_time": "2023-01-04T18:28:45.945220Z",
     "start_time": "2023-01-04T18:28:45.897706Z"
    },
    "hidden": true
   },
   "outputs": [],
   "source": [
    "dummy_y_score = dummy_model.predict_proba(X_test)"
   ]
  },
  {
   "cell_type": "code",
   "execution_count": 25,
   "metadata": {
    "ExecuteTime": {
     "end_time": "2023-01-04T18:28:45.961224Z",
     "start_time": "2023-01-04T18:28:45.946220Z"
    },
    "hidden": true
   },
   "outputs": [
    {
     "data": {
      "text/plain": [
       "0.5"
      ]
     },
     "execution_count": 25,
     "metadata": {},
     "output_type": "execute_result"
    }
   ],
   "source": [
    "roc_auc_score(y_test,dummy_y_score[:,1])"
   ]
  },
  {
   "cell_type": "markdown",
   "metadata": {},
   "source": [
    "## Baseline Models"
   ]
  },
  {
   "cell_type": "markdown",
   "metadata": {},
   "source": [
    "Now that the first simple model has been established, I need to create baseline models for each of the Machine Learning Algorithms I plan to use. These baseline models will act as a benchmark as I later tune the hyperparameters to try and improve the model results."
   ]
  },
  {
   "cell_type": "markdown",
   "metadata": {},
   "source": [
    "I will use the following methods during this analysis:\n",
    "   - Logistic Regression\n",
    "   - K-Nearest Neighbors\n",
    "       - K-Means\n",
    "   - Decision Trees\n",
    "   - Random Forests\n",
    "   - C-Support Vector Classification (SVC)\n",
    "   - Nu-Support Vector Classification (NuSVC)\n",
    "   - Adaboost\n",
    "   - Xgboost\n",
    "   - Stack Classification Methods"
   ]
  },
  {
   "cell_type": "markdown",
   "metadata": {},
   "source": [
    "## Time Dictionary"
   ]
  },
  {
   "cell_type": "markdown",
   "metadata": {},
   "source": [
    "For the final results analysis, we will also be looking at the timeframe it takes to run each model. I am setting up an empty dictionary now to record the time of each machine learning final model run time."
   ]
  },
  {
   "cell_type": "code",
   "execution_count": 147,
   "metadata": {
    "ExecuteTime": {
     "end_time": "2023-01-04T21:10:39.713930Z",
     "start_time": "2023-01-04T21:10:39.701839Z"
    }
   },
   "outputs": [],
   "source": [
    "time_dic = {}"
   ]
  },
  {
   "cell_type": "markdown",
   "metadata": {},
   "source": [
    "## Logistic Regression (DONE-ish) (can go back and rerun grid if feeling funky)"
   ]
  },
  {
   "cell_type": "markdown",
   "metadata": {},
   "source": [
    "Setting up a Logistic Regression Pipeline and taking a look at the results on my train and test data. Using the baseline model, I was able to achieve accuracy of 77% and an ROC-AUC score of 84%. Due to the warning about my solver not converging, I will look at different solvers using gridsearch.\n",
    "\n",
    "The accuracy and ROC-AUC scores line up relatively well between train and test data indicating that there might be a slight overfitting but not significant ooverfitting."
   ]
  },
  {
   "cell_type": "code",
   "execution_count": 26,
   "metadata": {
    "ExecuteTime": {
     "end_time": "2023-01-04T18:28:45.976709Z",
     "start_time": "2023-01-04T18:28:45.962224Z"
    }
   },
   "outputs": [],
   "source": [
    "log_reg_model = Pipeline([\n",
    "    ('ColTrans', ColTrans),\n",
    "    ('logreg', LogisticRegression(random_state=42))\n",
    "])"
   ]
  },
  {
   "cell_type": "code",
   "execution_count": 27,
   "metadata": {
    "ExecuteTime": {
     "end_time": "2023-01-04T18:28:47.398367Z",
     "start_time": "2023-01-04T18:28:45.976709Z"
    }
   },
   "outputs": [
    {
     "name": "stderr",
     "output_type": "stream",
     "text": [
      "C:\\Users\\nacnu\\anaconda3\\envs\\learn-env\\lib\\site-packages\\sklearn\\linear_model\\_logistic.py:762: ConvergenceWarning: lbfgs failed to converge (status=1):\n",
      "STOP: TOTAL NO. of ITERATIONS REACHED LIMIT.\n",
      "\n",
      "Increase the number of iterations (max_iter) or scale the data as shown in:\n",
      "    https://scikit-learn.org/stable/modules/preprocessing.html\n",
      "Please also refer to the documentation for alternative solver options:\n",
      "    https://scikit-learn.org/stable/modules/linear_model.html#logistic-regression\n",
      "  n_iter_i = _check_optimize_result(\n"
     ]
    }
   ],
   "source": [
    "log_reg_model.fit(X_train, y_train);"
   ]
  },
  {
   "cell_type": "code",
   "execution_count": 28,
   "metadata": {
    "ExecuteTime": {
     "end_time": "2023-01-04T18:28:47.413674Z",
     "start_time": "2023-01-04T18:28:47.398367Z"
    }
   },
   "outputs": [],
   "source": [
    "log_reg_pipe = ModelRuns(log_reg_model, 'logreg', X_train, y_train)"
   ]
  },
  {
   "cell_type": "code",
   "execution_count": 29,
   "metadata": {
    "ExecuteTime": {
     "end_time": "2023-01-04T18:28:48.058501Z",
     "start_time": "2023-01-04T18:28:47.413674Z"
    }
   },
   "outputs": [
    {
     "name": "stdout",
     "output_type": "stream",
     "text": [
      "Train Report: \n",
      "              precision    recall  f1-score   support\n",
      "\n",
      "           0       0.74      0.86      0.80     24161\n",
      "           1       0.80      0.64      0.71     20389\n",
      "\n",
      "    accuracy                           0.76     44550\n",
      "   macro avg       0.77      0.75      0.75     44550\n",
      "weighted avg       0.76      0.76      0.75     44550\n",
      "\n",
      "AUC-ROC Score:0.8274355607043029\n",
      "\n",
      "Test Report: \n",
      "              precision    recall  f1-score   support\n",
      "\n",
      "           0       0.74      0.85      0.79      8098\n",
      "           1       0.78      0.63      0.70      6752\n",
      "\n",
      "    accuracy                           0.75     14850\n",
      "   macro avg       0.76      0.74      0.75     14850\n",
      "weighted avg       0.76      0.75      0.75     14850\n",
      "\n",
      "AUC-ROC Score:0.8200516989596636\n"
     ]
    },
    {
     "data": {
      "image/png": "[encoded data removed]",
      "text/plain": [
       "<Figure size 432x288 with 2 Axes>"
      ]
     },
     "metadata": {
      "needs_background": "light"
     },
     "output_type": "display_data"
    },
    {
     "data": {
      "image/png": "[encoded data removed]",
      "text/plain": [
       "<Figure size 432x288 with 2 Axes>"
      ]
     },
     "metadata": {
      "needs_background": "light"
     },
     "output_type": "display_data"
    }
   ],
   "source": [
    "log_reg_pipe.run_all(X_train_run=X_train, X_test_run=X_test, y_train_run=y_train, y_test_run=y_test, train_results=True);"
   ]
  },
  {
   "cell_type": "markdown",
   "metadata": {},
   "source": [
    "### Logistic Regression Grid Search"
   ]
  },
  {
   "cell_type": "markdown",
   "metadata": {},
   "source": [
    "During my initial fitting of the Logistic Regression model, the notebook provided a warning that the model failed to converge based on the solver chosen. As such, I have set up a gridsearch with cross validation to determine the best solver for the job.\n",
    "\n",
    "`Liblinear` is the best solver for this particular dataset. The train data and test data scores were almost identical, indicating that there is a good fit with little over/underfitting.\n",
    "\n",
    "**Note:** This gridsearch takes about 15 minutes to run on my computer, and for the sake of being able to run the notebook in a timely manner, I have commented out the code and provided a screenshot of the results. Please feel free to uncomment the code if looking to run the notebook on your own. "
   ]
  },
  {
   "cell_type": "markdown",
   "metadata": {},
   "source": [
    "![alt text](photos/logreg_gs_1.jpg \"Title\")"
   ]
  },
  {
   "cell_type": "code",
   "execution_count": 30,
   "metadata": {
    "ExecuteTime": {
     "end_time": "2023-01-04T18:28:48.073933Z",
     "start_time": "2023-01-04T18:28:48.059501Z"
    }
   },
   "outputs": [],
   "source": [
    "# log_params = {\n",
    "#     'logreg__solver':['lbfgs', 'liblinear', 'sag', 'saga']\n",
    "# }"
   ]
  },
  {
   "cell_type": "code",
   "execution_count": 31,
   "metadata": {
    "ExecuteTime": {
     "end_time": "2023-01-04T18:28:48.089752Z",
     "start_time": "2023-01-04T18:28:48.073933Z"
    }
   },
   "outputs": [],
   "source": [
    "# log_reg_gs = GridSearchCV(estimator=log_reg_model, param_grid=log_params, cv=10, verbose=1)"
   ]
  },
  {
   "cell_type": "code",
   "execution_count": 32,
   "metadata": {
    "ExecuteTime": {
     "end_time": "2023-01-04T18:28:48.105675Z",
     "start_time": "2023-01-04T18:28:48.089752Z"
    },
    "scrolled": false
   },
   "outputs": [],
   "source": [
    "# log_reg_gs.fit(X_train, y_train)"
   ]
  },
  {
   "cell_type": "code",
   "execution_count": 33,
   "metadata": {
    "ExecuteTime": {
     "end_time": "2023-01-04T18:28:48.121233Z",
     "start_time": "2023-01-04T18:28:48.106699Z"
    }
   },
   "outputs": [],
   "source": [
    "# log_reg_gs.best_params_"
   ]
  },
  {
   "cell_type": "code",
   "execution_count": 34,
   "metadata": {
    "ExecuteTime": {
     "end_time": "2023-01-04T18:28:48.136879Z",
     "start_time": "2023-01-04T18:28:48.121233Z"
    }
   },
   "outputs": [],
   "source": [
    "# log_reg_gs.best_score_"
   ]
  },
  {
   "cell_type": "code",
   "execution_count": 35,
   "metadata": {
    "ExecuteTime": {
     "end_time": "2023-01-04T18:28:48.152454Z",
     "start_time": "2023-01-04T18:28:48.136879Z"
    }
   },
   "outputs": [],
   "source": [
    "# log_reg_gs.best_estimator_.score(X_test,y_test)"
   ]
  },
  {
   "cell_type": "markdown",
   "metadata": {
    "heading_collapsed": true
   },
   "source": [
    "### Next Iteration of Gridsearch"
   ]
  },
  {
   "cell_type": "markdown",
   "metadata": {
    "hidden": true
   },
   "source": [
    "The last gridsearch run let me identify the best solver for the dataset: `Liblinear`. All the same, I wanted to run a second gridsearch to double check those results when more parameters were checked.\n",
    "\n",
    "The test results came back the same: max iterations 100 (the default), and `liblinear` as the best solver. I will use this as the default solver moving forward.\n",
    "\n",
    "**Note:** This gridsearch takes about an hour and a half to run on my computer, and for the sake of being able to run the notebook in a timely manner, I have commented out the code and provided a screenshot of the results. Please feel free to uncomment the code if looking to run the notebook on your own. "
   ]
  },
  {
   "cell_type": "markdown",
   "metadata": {
    "hidden": true
   },
   "source": [
    "![alt text](photos/logreg_gs_2.jpg \"Title\")"
   ]
  },
  {
   "cell_type": "code",
   "execution_count": 36,
   "metadata": {
    "ExecuteTime": {
     "end_time": "2023-01-04T18:28:48.167693Z",
     "start_time": "2023-01-04T18:28:48.153470Z"
    },
    "hidden": true
   },
   "outputs": [],
   "source": [
    "# log_params2 = {\n",
    "#     'logreg__solver':['liblinear', 'sag', 'saga'],\n",
    "#     'logreg__max_iter':[100, 200, 500, 1000],\n",
    "# }"
   ]
  },
  {
   "cell_type": "code",
   "execution_count": 37,
   "metadata": {
    "ExecuteTime": {
     "end_time": "2023-01-04T18:28:48.183811Z",
     "start_time": "2023-01-04T18:28:48.168708Z"
    },
    "hidden": true
   },
   "outputs": [],
   "source": [
    "# log_reg_gs2 = GridSearchCV(estimator=log_reg_model, param_grid=log_params2, cv=5, verbose=1)"
   ]
  },
  {
   "cell_type": "code",
   "execution_count": 38,
   "metadata": {
    "ExecuteTime": {
     "end_time": "2023-01-04T18:28:48.199745Z",
     "start_time": "2023-01-04T18:28:48.184834Z"
    },
    "hidden": true,
    "scrolled": false
   },
   "outputs": [],
   "source": [
    "# log_reg_gs2.fit(X_train, y_train)"
   ]
  },
  {
   "cell_type": "code",
   "execution_count": 39,
   "metadata": {
    "ExecuteTime": {
     "end_time": "2023-01-04T18:28:48.215387Z",
     "start_time": "2023-01-04T18:28:48.199745Z"
    },
    "hidden": true
   },
   "outputs": [],
   "source": [
    "# log_reg_gs2.best_params_"
   ]
  },
  {
   "cell_type": "code",
   "execution_count": 40,
   "metadata": {
    "ExecuteTime": {
     "end_time": "2023-01-04T18:28:48.231417Z",
     "start_time": "2023-01-04T18:28:48.215387Z"
    },
    "hidden": true
   },
   "outputs": [],
   "source": [
    "# log_reg_gs2.best_score_"
   ]
  },
  {
   "cell_type": "code",
   "execution_count": 41,
   "metadata": {
    "ExecuteTime": {
     "end_time": "2023-01-04T18:28:48.246924Z",
     "start_time": "2023-01-04T18:28:48.231417Z"
    },
    "hidden": true
   },
   "outputs": [],
   "source": [
    "# log_reg_gs2.best_estimator_.score(X_test,y_test)"
   ]
  },
  {
   "cell_type": "markdown",
   "metadata": {},
   "source": [
    "### Final Logistic Regression Model"
   ]
  },
  {
   "cell_type": "markdown",
   "metadata": {},
   "source": [
    "After running several GridSearches, the final model for logistic regression is below. This is not a great model and is almost identical to my baseline logistic regression model. "
   ]
  },
  {
   "cell_type": "code",
   "execution_count": 142,
   "metadata": {
    "ExecuteTime": {
     "end_time": "2023-01-04T21:05:18.949475Z",
     "start_time": "2023-01-04T21:05:18.941432Z"
    }
   },
   "outputs": [],
   "source": [
    "log_reg_model_final = Pipeline([\n",
    "    ('ColTrans', ColTrans),\n",
    "    ('logreg', LogisticRegression(solver='liblinear', random_state=42))\n",
    "])"
   ]
  },
  {
   "cell_type": "code",
   "execution_count": 143,
   "metadata": {
    "ExecuteTime": {
     "end_time": "2023-01-04T21:05:21.610798Z",
     "start_time": "2023-01-04T21:05:19.844517Z"
    }
   },
   "outputs": [],
   "source": [
    "start1 = perf_counter()\n",
    "log_reg_model_final.fit(X_train, y_train);\n",
    "end1 = perf_counter()"
   ]
  },
  {
   "cell_type": "code",
   "execution_count": 144,
   "metadata": {
    "ExecuteTime": {
     "end_time": "2023-01-04T21:05:22.890986Z",
     "start_time": "2023-01-04T21:05:22.876475Z"
    }
   },
   "outputs": [],
   "source": [
    "log_reg_pipe_final = ModelRuns(log_reg_model_final, 'logreg', X_train, y_train)"
   ]
  },
  {
   "cell_type": "code",
   "execution_count": 145,
   "metadata": {
    "ExecuteTime": {
     "end_time": "2023-01-04T21:05:25.388390Z",
     "start_time": "2023-01-04T21:05:24.780481Z"
    }
   },
   "outputs": [
    {
     "name": "stdout",
     "output_type": "stream",
     "text": [
      "Train Report: \n",
      "              precision    recall  f1-score   support\n",
      "\n",
      "           0       0.74      0.86      0.80     24161\n",
      "           1       0.80      0.63      0.71     20389\n",
      "\n",
      "    accuracy                           0.76     44550\n",
      "   macro avg       0.77      0.75      0.75     44550\n",
      "weighted avg       0.76      0.76      0.75     44550\n",
      "\n",
      "AUC-ROC Score:0.827420488192703\n",
      "\n",
      "Test Report: \n",
      "              precision    recall  f1-score   support\n",
      "\n",
      "           0       0.74      0.85      0.79      8098\n",
      "           1       0.78      0.63      0.70      6752\n",
      "\n",
      "    accuracy                           0.75     14850\n",
      "   macro avg       0.76      0.74      0.75     14850\n",
      "weighted avg       0.76      0.75      0.75     14850\n",
      "\n",
      "AUC-ROC Score:0.8200432403003959\n"
     ]
    },
    {
     "data": {
      "image/png": "[encoded data removed]",
      "text/plain": [
       "<Figure size 432x288 with 2 Axes>"
      ]
     },
     "metadata": {
      "needs_background": "light"
     },
     "output_type": "display_data"
    },
    {
     "data": {
      "image/png": "[encoded data removed]",
      "text/plain": [
       "<Figure size 432x288 with 2 Axes>"
      ]
     },
     "metadata": {
      "needs_background": "light"
     },
     "output_type": "display_data"
    }
   ],
   "source": [
    "start2 = perf_counter()\n",
    "log_reg_pipe_final.run_all(X_train_run=X_train, X_test_run=X_test, y_train_run=y_train, y_test_run=y_test, train_results=True);\n",
    "end2 = perf_counter()"
   ]
  },
  {
   "cell_type": "code",
   "execution_count": 148,
   "metadata": {
    "ExecuteTime": {
     "end_time": "2023-01-04T21:11:25.540842Z",
     "start_time": "2023-01-04T21:11:25.532600Z"
    }
   },
   "outputs": [],
   "source": [
    "log_reg_time = (end1-start1 + end2 - start2)\n",
    "time_dic['Log_Reg'] = log_reg_time"
   ]
  },
  {
   "cell_type": "markdown",
   "metadata": {
    "heading_collapsed": true
   },
   "source": [
    "## K-Nearest Neighbor"
   ]
  },
  {
   "cell_type": "code",
   "execution_count": null,
   "metadata": {
    "hidden": true
   },
   "outputs": [],
   "source": [
    "knn_model = Pipeline([\n",
    "    ('ColTrans', ColTrans),\n",
    "    ('knn', KNeighborsClassifier())\n",
    "])"
   ]
  },
  {
   "cell_type": "code",
   "execution_count": null,
   "metadata": {
    "hidden": true
   },
   "outputs": [],
   "source": [
    "knn_model.fit(X_train, y_train);"
   ]
  },
  {
   "cell_type": "code",
   "execution_count": null,
   "metadata": {
    "hidden": true
   },
   "outputs": [],
   "source": [
    "knn_pipe = ModelRuns(knn_model, 'knn', X_train, y_train)"
   ]
  },
  {
   "cell_type": "code",
   "execution_count": null,
   "metadata": {
    "hidden": true
   },
   "outputs": [],
   "source": [
    "knn_pipe.run_all(X_train_run=X_train, X_test_run=X_test, y_train_run=y_train, y_test_run=y_test, train_results=True);"
   ]
  },
  {
   "cell_type": "markdown",
   "metadata": {
    "hidden": true
   },
   "source": [
    "### K-Means and K-Nearest Neighbor"
   ]
  },
  {
   "cell_type": "markdown",
   "metadata": {
    "hidden": true
   },
   "source": [
    "For this method, I utilize unsupervised learning K-Means in conjunction with K-Nearest Neighbors. I have a loop to create a table utilizing 1-7 clusters, then separate the predictor data based on the cluster results. I then run K-Nearest Neighbors on each of the cluster groupings to determine if clustering helps the dataset. When the number of clusters is set to 1, it is the same as running K-Nearest Neighbors without clustering. \n",
    "\n",
    "The results of the model show that it is more beneficial to skip K-Means Clustering altogether. "
   ]
  },
  {
   "cell_type": "code",
   "execution_count": null,
   "metadata": {
    "hidden": true
   },
   "outputs": [],
   "source": [
    "df_names = ['kmeans_0', 'kmeans_1', 'kmeans_2', 'kmeans_3', 'kmeans_4', \n",
    "            'kmeans_5', 'kmeans_6']\n",
    "main_col = ['cluster_group']\n",
    "kmeans_results_df = pd.DataFrame(df_names, columns=main_col)\n",
    "\n",
    "for i in range(1,8):\n",
    "    kmeans_model = Pipeline([\n",
    "        ('ColTrans', ColTrans),\n",
    "        ('kmeans', KMeans(n_clusters=i, random_state=42))\n",
    "    ])\n",
    "    \n",
    "    \n",
    "    # Fitting the model\n",
    "    kmeans_model.fit(X_train, y_train);\n",
    "    \n",
    "    # creating a dataframe for X_train so I can house the cluster data\n",
    "    kmeans_X_train_df = pd.DataFrame(X_train).copy()\n",
    "    \n",
    "    \n",
    "    # predicting data before adding back the target var so there is no data leakage \n",
    "    kmeans_X_train_df['cluster'] = kmeans_model.predict(X_train)\n",
    "\n",
    "    \n",
    "    # adding the target variable back so that I can then separate into dfs based on clusters\n",
    "    kmeans_X_train_df['target'] = y_train.copy()\n",
    "    \n",
    "#     print(kmeans_X_train_df)\n",
    "    \n",
    "    # creating new dataframes based on clusters and storing in a dictionary\n",
    "    kmeans_train_dic = {}\n",
    "    for x in range(i-i, i):\n",
    "#         print(x)\n",
    "#         print(df_names[x])\n",
    "#         print(kmeans_X_train_df[kmeans_X_train_df['cluster'] == x])\n",
    "        kmeans_train_dic[df_names[x]] = kmeans_X_train_df[kmeans_X_train_df['cluster'] == x]\n",
    "\n",
    "        \n",
    "    # need to seperate x, y vars now\n",
    "    y_kmeans_train_dic = {}\n",
    "    for x in range(i-i, i):\n",
    "        y_kmeans_train_dic[df_names[x]] = kmeans_train_dic[df_names[x]].pop('target') \n",
    "        \n",
    "    # creating a dataframe for X_test so I can house the cluster data\n",
    "    kmeans_X_test_df = pd.DataFrame(X_test).copy()\n",
    "    \n",
    "    # predicting data before adding back the target var so there is no data leakage \n",
    "    kmeans_X_test_df['cluster'] = kmeans_model.predict(X_test)\n",
    "    \n",
    "    # adding the target variable back so that I can then separate into dfs based on clusters\n",
    "    kmeans_X_test_df['target'] = y_test.copy()\n",
    "    \n",
    "    \n",
    "    # creating new dataframes based on clusters and storing in a dictionary\n",
    "    kmeans_test_dic = {}\n",
    "    for x in range(i-i, i):\n",
    "#         print(df_names[x])\n",
    "        kmeans_test_dic[df_names[x]] = kmeans_X_test_df[kmeans_X_test_df['cluster'] == x]\n",
    "        \n",
    "    # need to seperate x, y vars now\n",
    "    y_kmeans_test_dic = {}\n",
    "    for x in range(i-i, i):\n",
    "        y_kmeans_test_dic[df_names[x]] = kmeans_test_dic[df_names[x]].pop('target')\n",
    "        \n",
    "#     print(kmeans_train_dic)    \n",
    "#     print(kmeans_test_dic)    \n",
    "        \n",
    "    # It works above this point\n",
    "    # running the knn model on each cluster\n",
    "    knn_model = Pipeline([\n",
    "        ('ColTrans', ColTrans),\n",
    "        ('knn', KNeighborsClassifier())\n",
    "    ])\n",
    "    \n",
    "    # creating a dic to story each fitted model\n",
    "    model_dic = {}\n",
    "    for x in range(0, i):\n",
    "        model_dic[df_names[x]] = knn_model.fit(kmeans_train_dic[df_names[x]], y_kmeans_train_dic[df_names[x]])\n",
    "        \n",
    "    # Creating a dic to store test scores\n",
    "    knn_test_scores = {}\n",
    "    for x in range(0, i):\n",
    "        knn_test_scores[df_names[x]] = model_dic[df_names[x]].score(kmeans_test_dic[df_names[x]], y_kmeans_test_dic[df_names[x]])\n",
    "        \n",
    "    # creating a dataframe to store all test scores\n",
    "#     main_col = ['cluster_group']\n",
    "#     kmeans_results_df = pd.DataFrame(knn_test_scores.keys(), columns=main_col)\n",
    "    \n",
    "    # appending each itteration to df\n",
    "    addition = pd.DataFrame({\n",
    "        f'clusters={i}':  knn_test_scores.values()})\n",
    "    \n",
    "    kmeans_results_df = pd.concat([kmeans_results_df, addition], axis=1)"
   ]
  },
  {
   "cell_type": "code",
   "execution_count": null,
   "metadata": {
    "hidden": true
   },
   "outputs": [],
   "source": [
    "kmeans_results_clean = kmeans_results_df.set_index('cluster_group').copy()\n",
    "kmeans_results_clean"
   ]
  },
  {
   "cell_type": "code",
   "execution_count": null,
   "metadata": {
    "hidden": true
   },
   "outputs": [],
   "source": [
    "for col in kmeans_results_clean.columns:\n",
    "    print(f\"{col} Accuracy: {np.mean(kmeans_results_df[col])})"
   ]
  },
  {
   "cell_type": "markdown",
   "metadata": {
    "heading_collapsed": true
   },
   "source": [
    "## Decision Tree (DONE)"
   ]
  },
  {
   "cell_type": "markdown",
   "metadata": {
    "hidden": true
   },
   "source": [
    "My decision tree model has 100% accuracy and an ROC-AUC score of 99.99% for the train data while the test results have an accuracy of 78% and an ROC-AUC score of 78%. This is indicative of overfitting and I will look to reduce overfitting by adjusting hyperparameters through gridsearch."
   ]
  },
  {
   "cell_type": "code",
   "execution_count": 67,
   "metadata": {
    "ExecuteTime": {
     "end_time": "2023-01-04T18:28:48.655667Z",
     "start_time": "2023-01-04T18:28:48.643972Z"
    },
    "hidden": true
   },
   "outputs": [],
   "source": [
    "dtc_model = Pipeline([\n",
    "    ('ColTrans', ColTrans),\n",
    "    ('dtc', DecisionTreeClassifier(random_state=42))\n",
    "])"
   ]
  },
  {
   "cell_type": "code",
   "execution_count": 68,
   "metadata": {
    "ExecuteTime": {
     "end_time": "2023-01-04T18:28:50.298728Z",
     "start_time": "2023-01-04T18:28:48.657698Z"
    },
    "hidden": true
   },
   "outputs": [],
   "source": [
    "dtc_model.fit(X_train, y_train);"
   ]
  },
  {
   "cell_type": "code",
   "execution_count": 69,
   "metadata": {
    "ExecuteTime": {
     "end_time": "2023-01-04T18:28:50.314375Z",
     "start_time": "2023-01-04T18:28:50.298728Z"
    },
    "hidden": true
   },
   "outputs": [],
   "source": [
    "dtc_pipe = ModelRuns(dtc_model, 'dtc', X_train, y_train)"
   ]
  },
  {
   "cell_type": "code",
   "execution_count": 70,
   "metadata": {
    "ExecuteTime": {
     "end_time": "2023-01-04T18:28:50.927561Z",
     "start_time": "2023-01-04T18:28:50.315411Z"
    },
    "hidden": true
   },
   "outputs": [
    {
     "name": "stdout",
     "output_type": "stream",
     "text": [
      "Train Report: \n",
      "              precision    recall  f1-score   support\n",
      "\n",
      "           0       0.99      1.00      1.00     24161\n",
      "           1       1.00      0.99      1.00     20389\n",
      "\n",
      "    accuracy                           1.00     44550\n",
      "   macro avg       1.00      1.00      1.00     44550\n",
      "weighted avg       1.00      1.00      1.00     44550\n",
      "\n",
      "AUC-ROC Score:0.9999479810577768\n",
      "\n",
      "Test Report: \n",
      "              precision    recall  f1-score   support\n",
      "\n",
      "           0       0.80      0.80      0.80      8098\n",
      "           1       0.76      0.76      0.76      6752\n",
      "\n",
      "    accuracy                           0.78     14850\n",
      "   macro avg       0.78      0.78      0.78     14850\n",
      "weighted avg       0.78      0.78      0.78     14850\n",
      "\n",
      "AUC-ROC Score:0.7806166064495474\n"
     ]
    },
    {
     "data": {
      "image/png": "[encoded data removed]",
      "text/plain": [
       "<Figure size 432x288 with 2 Axes>"
      ]
     },
     "metadata": {
      "needs_background": "light"
     },
     "output_type": "display_data"
    },
    {
     "data": {
      "image/png": "[encoded data removed]",
      "text/plain": [
       "<Figure size 432x288 with 2 Axes>"
      ]
     },
     "metadata": {
      "needs_background": "light"
     },
     "output_type": "display_data"
    }
   ],
   "source": [
    "dtc_pipe.run_all(X_train_run=X_train, X_test_run=X_test, y_train_run=y_train, y_test_run=y_test, train_results=True);"
   ]
  },
  {
   "cell_type": "markdown",
   "metadata": {
    "ExecuteTime": {
     "end_time": "2023-01-04T19:28:08.983868Z",
     "start_time": "2023-01-04T19:28:08.970186Z"
    },
    "heading_collapsed": true,
    "hidden": true
   },
   "source": [
    "### Decision Tree GridSearch"
   ]
  },
  {
   "cell_type": "markdown",
   "metadata": {
    "hidden": true
   },
   "source": [
    "My decision tree model was very overfit. I will look to adjust some of the hyperparameters to reduce overfitting, starting with `criterion` and `max_depth`."
   ]
  },
  {
   "cell_type": "code",
   "execution_count": 111,
   "metadata": {
    "ExecuteTime": {
     "end_time": "2023-01-04T19:31:25.710144Z",
     "start_time": "2023-01-04T19:30:29.158866Z"
    },
    "hidden": true
   },
   "outputs": [
    {
     "name": "stdout",
     "output_type": "stream",
     "text": [
      "Fitting 5 folds for each of 10 candidates, totalling 50 fits\n"
     ]
    },
    {
     "name": "stderr",
     "output_type": "stream",
     "text": [
      "[Parallel(n_jobs=1)]: Using backend SequentialBackend with 1 concurrent workers.\n",
      "[Parallel(n_jobs=1)]: Done  50 out of  50 | elapsed:   54.6s finished\n"
     ]
    },
    {
     "data": {
      "text/plain": [
       "GridSearchCV(cv=5,\n",
       "             estimator=Pipeline(steps=[('ColTrans',\n",
       "                                        ColumnTransformer(remainder='passthrough',\n",
       "                                                          transformers=[('num_pipe',\n",
       "                                                                         Pipeline(steps=[('ss',\n",
       "                                                                                          StandardScaler())]),\n",
       "                                                                         <sklearn.compose._column_transformer.make_column_selector object at 0x0000027F20CD4940>),\n",
       "                                                                        ('cat_pipe',\n",
       "                                                                         Pipeline(steps=[('cat_impute',\n",
       "                                                                                          SimpleImputer(add_indicator=True,\n",
       "                                                                                                        strategy='most_frequent')),\n",
       "                                                                                         ('ohe',\n",
       "                                                                                          OneHotEncoder(handle_unknown='ignore',\n",
       "                                                                                                        sparse=False))]),\n",
       "                                                                         <sklearn.compose._column_transformer.make_column_selector object at 0x0000027F20CD4A00>)])),\n",
       "                                       ('dtc',\n",
       "                                        DecisionTreeClassifier(random_state=42))]),\n",
       "             param_grid={'dtc__criterion': ['gini', 'entropy'],\n",
       "                         'dtc__max_depth': [4, 8, 16, 32, None]},\n",
       "             verbose=1)"
      ]
     },
     "execution_count": 111,
     "metadata": {},
     "output_type": "execute_result"
    }
   ],
   "source": [
    "dtc_params = {\n",
    "    'dtc__criterion':[\"gini\", \"entropy\"],\n",
    "    'dtc__max_depth':[4, 8, 16, 32, None]\n",
    "}\n",
    "dtc_reg_gs = GridSearchCV(estimator=dtc_model, param_grid=dtc_params, cv=5, verbose=1)\n",
    "dtc_reg_gs.fit(X_train, y_train);"
   ]
  },
  {
   "cell_type": "code",
   "execution_count": 116,
   "metadata": {
    "ExecuteTime": {
     "end_time": "2023-01-04T19:34:36.217879Z",
     "start_time": "2023-01-04T19:34:36.202056Z"
    },
    "hidden": true
   },
   "outputs": [
    {
     "data": {
      "text/plain": [
       "{'dtc__criterion': 'entropy', 'dtc__max_depth': 32}"
      ]
     },
     "execution_count": 116,
     "metadata": {},
     "output_type": "execute_result"
    }
   ],
   "source": [
    "dtc_reg_gs.best_params_"
   ]
  },
  {
   "cell_type": "code",
   "execution_count": 117,
   "metadata": {
    "ExecuteTime": {
     "end_time": "2023-01-04T19:34:38.222942Z",
     "start_time": "2023-01-04T19:34:38.218053Z"
    },
    "hidden": true
   },
   "outputs": [
    {
     "data": {
      "text/plain": [
       "0.7801795735129069"
      ]
     },
     "execution_count": 117,
     "metadata": {},
     "output_type": "execute_result"
    }
   ],
   "source": [
    "dtc_reg_gs.best_score_"
   ]
  },
  {
   "cell_type": "code",
   "execution_count": 118,
   "metadata": {
    "ExecuteTime": {
     "end_time": "2023-01-04T19:34:39.551088Z",
     "start_time": "2023-01-04T19:34:39.498064Z"
    },
    "hidden": true
   },
   "outputs": [
    {
     "data": {
      "text/plain": [
       "0.7841750841750842"
      ]
     },
     "execution_count": 118,
     "metadata": {},
     "output_type": "execute_result"
    }
   ],
   "source": [
    "dtc_reg_gs.best_estimator_.score(X_test,y_test)"
   ]
  },
  {
   "cell_type": "markdown",
   "metadata": {
    "heading_collapsed": true,
    "hidden": true
   },
   "source": [
    "### Second Iteration of Decision Tree GridSearch"
   ]
  },
  {
   "cell_type": "markdown",
   "metadata": {
    "hidden": true
   },
   "source": [
    "Entropy is the best solver for my Decision tree and I will use that for the second method. The best max depth is 32 which could be far off from the `None` category. I will adjust the max depth closer to 32 to see how it compares. I will also look to adjust `min_samples_split` to attempt to tune the tree further.\n",
    "\n",
    "Results of GridSearch indicate:\n",
    "\n",
    "   - `criterion` is `entropy`\n",
    "   - `max_depth` is 34\n",
    "   - `min_samples_split` is 3\n",
    "   \n",
    "   \n",
    "I will use these features moving forward."
   ]
  },
  {
   "cell_type": "code",
   "execution_count": 119,
   "metadata": {
    "ExecuteTime": {
     "end_time": "2023-01-04T19:43:28.287472Z",
     "start_time": "2023-01-04T19:39:52.915826Z"
    },
    "hidden": true
   },
   "outputs": [
    {
     "name": "stdout",
     "output_type": "stream",
     "text": [
      "Fitting 5 folds for each of 35 candidates, totalling 175 fits\n"
     ]
    },
    {
     "name": "stderr",
     "output_type": "stream",
     "text": [
      "[Parallel(n_jobs=1)]: Using backend SequentialBackend with 1 concurrent workers.\n",
      "[Parallel(n_jobs=1)]: Done 175 out of 175 | elapsed:  3.6min finished\n"
     ]
    },
    {
     "data": {
      "text/plain": [
       "GridSearchCV(cv=5,\n",
       "             estimator=Pipeline(steps=[('ColTrans',\n",
       "                                        ColumnTransformer(remainder='passthrough',\n",
       "                                                          transformers=[('num_pipe',\n",
       "                                                                         Pipeline(steps=[('ss',\n",
       "                                                                                          StandardScaler())]),\n",
       "                                                                         <sklearn.compose._column_transformer.make_column_selector object at 0x0000027F20CD4940>),\n",
       "                                                                        ('cat_pipe',\n",
       "                                                                         Pipeline(steps=[('cat_impute',\n",
       "                                                                                          SimpleImputer(add_indicator=True,\n",
       "                                                                                                        strategy='most_frequent')),\n",
       "                                                                                         ('ohe',\n",
       "                                                                                          OneHotEncoder(handle_unknown='ignore',\n",
       "                                                                                                        sparse=False))]),\n",
       "                                                                         <sklearn.compose._column_transformer.make_column_selector object at 0x0000027F20CD4A00>)])),\n",
       "                                       ('dtc',\n",
       "                                        DecisionTreeClassifier(random_state=42))]),\n",
       "             param_grid={'dtc__criterion': ['entropy'],\n",
       "                         'dtc__max_depth': [30, 31, 32, 33, 34, 35, 36],\n",
       "                         'dtc__min_samples_split': [2, 3, 4, 5, 6]},\n",
       "             verbose=1)"
      ]
     },
     "execution_count": 119,
     "metadata": {},
     "output_type": "execute_result"
    }
   ],
   "source": [
    "dtc_params2 = {\n",
    "    'dtc__criterion':[\"entropy\"],\n",
    "    'dtc__max_depth':[30, 31, 32, 33, 34, 35, 36],\n",
    "    'dtc__min_samples_split': [2, 3, 4, 5, 6]\n",
    "}\n",
    "dtc_reg_gs2 = GridSearchCV(estimator=dtc_model, param_grid=dtc_params2, cv=5, verbose=1)\n",
    "dtc_reg_gs2.fit(X_train, y_train)"
   ]
  },
  {
   "cell_type": "code",
   "execution_count": 120,
   "metadata": {
    "ExecuteTime": {
     "end_time": "2023-01-04T19:44:05.905771Z",
     "start_time": "2023-01-04T19:44:05.895594Z"
    },
    "hidden": true
   },
   "outputs": [
    {
     "data": {
      "text/plain": [
       "{'dtc__criterion': 'entropy',\n",
       " 'dtc__max_depth': 34,\n",
       " 'dtc__min_samples_split': 3}"
      ]
     },
     "execution_count": 120,
     "metadata": {},
     "output_type": "execute_result"
    }
   ],
   "source": [
    "dtc_reg_gs2.best_params_"
   ]
  },
  {
   "cell_type": "code",
   "execution_count": 121,
   "metadata": {
    "ExecuteTime": {
     "end_time": "2023-01-04T19:44:11.847150Z",
     "start_time": "2023-01-04T19:44:11.838660Z"
    },
    "hidden": true
   },
   "outputs": [
    {
     "data": {
      "text/plain": [
       "0.7812121212121212"
      ]
     },
     "execution_count": 121,
     "metadata": {},
     "output_type": "execute_result"
    }
   ],
   "source": [
    "dtc_reg_gs2.best_score_"
   ]
  },
  {
   "cell_type": "code",
   "execution_count": 122,
   "metadata": {
    "ExecuteTime": {
     "end_time": "2023-01-04T19:44:12.720195Z",
     "start_time": "2023-01-04T19:44:12.679657Z"
    },
    "hidden": true
   },
   "outputs": [
    {
     "data": {
      "text/plain": [
       "0.7835016835016835"
      ]
     },
     "execution_count": 122,
     "metadata": {},
     "output_type": "execute_result"
    }
   ],
   "source": [
    "dtc_reg_gs2.best_estimator_.score(X_test,y_test)"
   ]
  },
  {
   "cell_type": "markdown",
   "metadata": {
    "heading_collapsed": true,
    "hidden": true
   },
   "source": [
    "### Final Decision Tree Model"
   ]
  },
  {
   "cell_type": "markdown",
   "metadata": {
    "hidden": true
   },
   "source": [
    "The Final Decision Tree Model does not change much from the baseline decision tree model. The main area of improvement is the ROC-AUC score being raised from 78% to 79%. \n",
    "\n",
    "The model is still overfit on the training data as well. Given more time, this could use additional tweaking. "
   ]
  },
  {
   "cell_type": "code",
   "execution_count": 123,
   "metadata": {
    "ExecuteTime": {
     "end_time": "2023-01-04T20:04:37.886522Z",
     "start_time": "2023-01-04T20:04:37.877974Z"
    },
    "hidden": true
   },
   "outputs": [],
   "source": [
    "dtc_model_final = Pipeline([\n",
    "    ('ColTrans', ColTrans),\n",
    "    ('dtc', DecisionTreeClassifier(criterion='entropy', max_depth=34, \n",
    "                                   min_samples_split=3, random_state=42))\n",
    "])"
   ]
  },
  {
   "cell_type": "code",
   "execution_count": 124,
   "metadata": {
    "ExecuteTime": {
     "end_time": "2023-01-04T20:04:45.557850Z",
     "start_time": "2023-01-04T20:04:43.878994Z"
    },
    "hidden": true
   },
   "outputs": [],
   "source": [
    "start1 = perf_counter()\n",
    "dtc_model_final.fit(X_train, y_train);\n",
    "end1 = perf_counter()"
   ]
  },
  {
   "cell_type": "code",
   "execution_count": 125,
   "metadata": {
    "ExecuteTime": {
     "end_time": "2023-01-04T20:05:06.821936Z",
     "start_time": "2023-01-04T20:05:06.805304Z"
    },
    "hidden": true
   },
   "outputs": [],
   "source": [
    "dtc_pipe_final = ModelRuns(dtc_model_final, 'dtc', X_train, y_train)"
   ]
  },
  {
   "cell_type": "code",
   "execution_count": 126,
   "metadata": {
    "ExecuteTime": {
     "end_time": "2023-01-04T20:05:30.560127Z",
     "start_time": "2023-01-04T20:05:29.941918Z"
    },
    "hidden": true
   },
   "outputs": [
    {
     "name": "stdout",
     "output_type": "stream",
     "text": [
      "Train Report: \n",
      "              precision    recall  f1-score   support\n",
      "\n",
      "           0       0.96      0.99      0.98     24161\n",
      "           1       0.99      0.95      0.97     20389\n",
      "\n",
      "    accuracy                           0.97     44550\n",
      "   macro avg       0.98      0.97      0.97     44550\n",
      "weighted avg       0.97      0.97      0.97     44550\n",
      "\n",
      "AUC-ROC Score:0.9983946810911205\n",
      "\n",
      "Test Report: \n",
      "              precision    recall  f1-score   support\n",
      "\n",
      "           0       0.80      0.81      0.80      8098\n",
      "           1       0.77      0.75      0.76      6752\n",
      "\n",
      "    accuracy                           0.78     14850\n",
      "   macro avg       0.78      0.78      0.78     14850\n",
      "weighted avg       0.78      0.78      0.78     14850\n",
      "\n",
      "AUC-ROC Score:0.792630600235972\n"
     ]
    },
    {
     "data": {
      "image/png": "[encoded data removed]",
      "text/plain": [
       "<Figure size 432x288 with 2 Axes>"
      ]
     },
     "metadata": {
      "needs_background": "light"
     },
     "output_type": "display_data"
    },
    {
     "data": {
      "image/png": "[encoded data removed]",
      "text/plain": [
       "<Figure size 432x288 with 2 Axes>"
      ]
     },
     "metadata": {
      "needs_background": "light"
     },
     "output_type": "display_data"
    }
   ],
   "source": [
    "start2 = perf_counter()\n",
    "dtc_pipe_final.run_all(X_train_run=X_train, X_test_run=X_test, y_train_run=y_train, y_test_run=y_test, train_results=True);\n",
    "end2 = perf_counter()"
   ]
  },
  {
   "cell_type": "code",
   "execution_count": null,
   "metadata": {
    "hidden": true
   },
   "outputs": [],
   "source": [
    "dtc_time = (end1-start1 + end2 - start2)\n",
    "time_dic['dtc'] = dtc_time"
   ]
  },
  {
   "cell_type": "markdown",
   "metadata": {
    "heading_collapsed": true
   },
   "source": [
    "## Random Forest (DONE)"
   ]
  },
  {
   "cell_type": "markdown",
   "metadata": {
    "hidden": true
   },
   "source": [
    "My random forest model has 100% accuracy and an ROC-AUC score of 99.95% for the train data while the test results have an accuracy of 82% and an ROC-AUC score of 89%. This is indicative of overfitting and I will look to reduce overfitting by adjusting hyperparameters through gridsearch.\n",
    "\n",
    "Overall, these results are pretty good though. "
   ]
  },
  {
   "cell_type": "code",
   "execution_count": 71,
   "metadata": {
    "ExecuteTime": {
     "end_time": "2023-01-04T18:28:50.943066Z",
     "start_time": "2023-01-04T18:28:50.927561Z"
    },
    "hidden": true
   },
   "outputs": [],
   "source": [
    "rf_model = Pipeline([\n",
    "    ('ColTrans', ColTrans),\n",
    "    ('rf', RandomForestClassifier(random_state=42))\n",
    "])"
   ]
  },
  {
   "cell_type": "code",
   "execution_count": 72,
   "metadata": {
    "ExecuteTime": {
     "end_time": "2023-01-04T18:28:55.581411Z",
     "start_time": "2023-01-04T18:28:50.943066Z"
    },
    "hidden": true
   },
   "outputs": [],
   "source": [
    "rf_model.fit(X_train, y_train);"
   ]
  },
  {
   "cell_type": "code",
   "execution_count": 73,
   "metadata": {
    "ExecuteTime": {
     "end_time": "2023-01-04T18:28:55.597526Z",
     "start_time": "2023-01-04T18:28:55.581411Z"
    },
    "hidden": true
   },
   "outputs": [],
   "source": [
    "rf_pipe = ModelRuns(rf_model, 'rf', X_train, y_train)"
   ]
  },
  {
   "cell_type": "code",
   "execution_count": 74,
   "metadata": {
    "ExecuteTime": {
     "end_time": "2023-01-04T18:28:58.304999Z",
     "start_time": "2023-01-04T18:28:55.598552Z"
    },
    "hidden": true
   },
   "outputs": [
    {
     "name": "stdout",
     "output_type": "stream",
     "text": [
      "Train Report: \n",
      "              precision    recall  f1-score   support\n",
      "\n",
      "           0       0.99      1.00      1.00     24161\n",
      "           1       1.00      0.99      1.00     20389\n",
      "\n",
      "    accuracy                           1.00     44550\n",
      "   macro avg       1.00      1.00      1.00     44550\n",
      "weighted avg       1.00      1.00      1.00     44550\n",
      "\n",
      "AUC-ROC Score:0.9993466264143251\n",
      "\n",
      "Test Report: \n",
      "              precision    recall  f1-score   support\n",
      "\n",
      "           0       0.82      0.86      0.84      8098\n",
      "           1       0.82      0.77      0.79      6752\n",
      "\n",
      "    accuracy                           0.82     14850\n",
      "   macro avg       0.82      0.81      0.82     14850\n",
      "weighted avg       0.82      0.82      0.82     14850\n",
      "\n",
      "AUC-ROC Score:0.8961605843816096\n"
     ]
    },
    {
     "data": {
      "image/png": "[encoded data removed]",
      "text/plain": [
       "<Figure size 432x288 with 2 Axes>"
      ]
     },
     "metadata": {
      "needs_background": "light"
     },
     "output_type": "display_data"
    },
    {
     "data": {
      "image/png": "[encoded data removed]",
      "text/plain": [
       "<Figure size 432x288 with 2 Axes>"
      ]
     },
     "metadata": {
      "needs_background": "light"
     },
     "output_type": "display_data"
    }
   ],
   "source": [
    "rf_pipe.run_all(X_train_run=X_train, X_test_run=X_test, y_train_run=y_train, y_test_run=y_test, train_results=True);"
   ]
  },
  {
   "cell_type": "markdown",
   "metadata": {
    "hidden": true
   },
   "source": [
    "### Random Forest GridSearch"
   ]
  },
  {
   "cell_type": "markdown",
   "metadata": {
    "hidden": true
   },
   "source": [
    "My Random forest model is overfit, I will use GridSearch to attempt to reduce overfitting the training data and increase my score results on the test data. Just like with the decision tree model I am beginning with `criterion` and `max_depth`."
   ]
  },
  {
   "cell_type": "code",
   "execution_count": 127,
   "metadata": {
    "ExecuteTime": {
     "end_time": "2023-01-04T20:14:54.924997Z",
     "start_time": "2023-01-04T20:12:04.517842Z"
    },
    "hidden": true
   },
   "outputs": [
    {
     "name": "stdout",
     "output_type": "stream",
     "text": [
      "Fitting 5 folds for each of 15 candidates, totalling 75 fits\n"
     ]
    },
    {
     "name": "stderr",
     "output_type": "stream",
     "text": [
      "[Parallel(n_jobs=1)]: Using backend SequentialBackend with 1 concurrent workers.\n",
      "C:\\Users\\nacnu\\anaconda3\\envs\\learn-env\\lib\\site-packages\\sklearn\\model_selection\\_validation.py:548: FitFailedWarning: Estimator fit failed. The score on this train-test partition for these parameters will be set to nan. Details: \n",
      "Traceback (most recent call last):\n",
      "  File \"C:\\Users\\nacnu\\anaconda3\\envs\\learn-env\\lib\\site-packages\\sklearn\\model_selection\\_validation.py\", line 531, in _fit_and_score\n",
      "    estimator.fit(X_train, y_train, **fit_params)\n",
      "  File \"C:\\Users\\nacnu\\anaconda3\\envs\\learn-env\\lib\\site-packages\\sklearn\\pipeline.py\", line 335, in fit\n",
      "    self._final_estimator.fit(Xt, y, **fit_params_last_step)\n",
      "  File \"C:\\Users\\nacnu\\anaconda3\\envs\\learn-env\\lib\\site-packages\\sklearn\\ensemble\\_forest.py\", line 386, in fit\n",
      "    trees = Parallel(n_jobs=self.n_jobs, verbose=self.verbose,\n",
      "  File \"C:\\Users\\nacnu\\anaconda3\\envs\\learn-env\\lib\\site-packages\\joblib\\parallel.py\", line 1048, in __call__\n",
      "    if self.dispatch_one_batch(iterator):\n",
      "  File \"C:\\Users\\nacnu\\anaconda3\\envs\\learn-env\\lib\\site-packages\\joblib\\parallel.py\", line 866, in dispatch_one_batch\n",
      "    self._dispatch(tasks)\n",
      "  File \"C:\\Users\\nacnu\\anaconda3\\envs\\learn-env\\lib\\site-packages\\joblib\\parallel.py\", line 784, in _dispatch\n",
      "    job = self._backend.apply_async(batch, callback=cb)\n",
      "  File \"C:\\Users\\nacnu\\anaconda3\\envs\\learn-env\\lib\\site-packages\\joblib\\_parallel_backends.py\", line 208, in apply_async\n",
      "    result = ImmediateResult(func)\n",
      "  File \"C:\\Users\\nacnu\\anaconda3\\envs\\learn-env\\lib\\site-packages\\joblib\\_parallel_backends.py\", line 572, in __init__\n",
      "    self.results = batch()\n",
      "  File \"C:\\Users\\nacnu\\anaconda3\\envs\\learn-env\\lib\\site-packages\\joblib\\parallel.py\", line 262, in __call__\n",
      "    return [func(*args, **kwargs)\n",
      "  File \"C:\\Users\\nacnu\\anaconda3\\envs\\learn-env\\lib\\site-packages\\joblib\\parallel.py\", line 262, in <listcomp>\n",
      "    return [func(*args, **kwargs)\n",
      "  File \"C:\\Users\\nacnu\\anaconda3\\envs\\learn-env\\lib\\site-packages\\sklearn\\ensemble\\_forest.py\", line 168, in _parallel_build_trees\n",
      "    tree.fit(X, y, sample_weight=curr_sample_weight, check_input=False)\n",
      "  File \"C:\\Users\\nacnu\\anaconda3\\envs\\learn-env\\lib\\site-packages\\sklearn\\tree\\_classes.py\", line 890, in fit\n",
      "    super().fit(\n",
      "  File \"C:\\Users\\nacnu\\anaconda3\\envs\\learn-env\\lib\\site-packages\\sklearn\\tree\\_classes.py\", line 333, in fit\n",
      "    criterion = CRITERIA_CLF[self.criterion](self.n_outputs_,\n",
      "KeyError: 'log_loss'\n",
      "\n",
      "  warnings.warn(\"Estimator fit failed. The score on this train-test\"\n",
      "C:\\Users\\nacnu\\anaconda3\\envs\\learn-env\\lib\\site-packages\\sklearn\\model_selection\\_validation.py:548: FitFailedWarning: Estimator fit failed. The score on this train-test partition for these parameters will be set to nan. Details: \n",
      "Traceback (most recent call last):\n",
      "  File \"C:\\Users\\nacnu\\anaconda3\\envs\\learn-env\\lib\\site-packages\\sklearn\\model_selection\\_validation.py\", line 531, in _fit_and_score\n",
      "    estimator.fit(X_train, y_train, **fit_params)\n",
      "  File \"C:\\Users\\nacnu\\anaconda3\\envs\\learn-env\\lib\\site-packages\\sklearn\\pipeline.py\", line 335, in fit\n",
      "    self._final_estimator.fit(Xt, y, **fit_params_last_step)\n",
      "  File \"C:\\Users\\nacnu\\anaconda3\\envs\\learn-env\\lib\\site-packages\\sklearn\\ensemble\\_forest.py\", line 386, in fit\n",
      "    trees = Parallel(n_jobs=self.n_jobs, verbose=self.verbose,\n",
      "  File \"C:\\Users\\nacnu\\anaconda3\\envs\\learn-env\\lib\\site-packages\\joblib\\parallel.py\", line 1048, in __call__\n",
      "    if self.dispatch_one_batch(iterator):\n",
      "  File \"C:\\Users\\nacnu\\anaconda3\\envs\\learn-env\\lib\\site-packages\\joblib\\parallel.py\", line 866, in dispatch_one_batch\n",
      "    self._dispatch(tasks)\n",
      "  File \"C:\\Users\\nacnu\\anaconda3\\envs\\learn-env\\lib\\site-packages\\joblib\\parallel.py\", line 784, in _dispatch\n",
      "    job = self._backend.apply_async(batch, callback=cb)\n",
      "  File \"C:\\Users\\nacnu\\anaconda3\\envs\\learn-env\\lib\\site-packages\\joblib\\_parallel_backends.py\", line 208, in apply_async\n",
      "    result = ImmediateResult(func)\n",
      "  File \"C:\\Users\\nacnu\\anaconda3\\envs\\learn-env\\lib\\site-packages\\joblib\\_parallel_backends.py\", line 572, in __init__\n",
      "    self.results = batch()\n",
      "  File \"C:\\Users\\nacnu\\anaconda3\\envs\\learn-env\\lib\\site-packages\\joblib\\parallel.py\", line 262, in __call__\n",
      "    return [func(*args, **kwargs)\n",
      "  File \"C:\\Users\\nacnu\\anaconda3\\envs\\learn-env\\lib\\site-packages\\joblib\\parallel.py\", line 262, in <listcomp>\n",
      "    return [func(*args, **kwargs)\n",
      "  File \"C:\\Users\\nacnu\\anaconda3\\envs\\learn-env\\lib\\site-packages\\sklearn\\ensemble\\_forest.py\", line 168, in _parallel_build_trees\n",
      "    tree.fit(X, y, sample_weight=curr_sample_weight, check_input=False)\n",
      "  File \"C:\\Users\\nacnu\\anaconda3\\envs\\learn-env\\lib\\site-packages\\sklearn\\tree\\_classes.py\", line 890, in fit\n",
      "    super().fit(\n",
      "  File \"C:\\Users\\nacnu\\anaconda3\\envs\\learn-env\\lib\\site-packages\\sklearn\\tree\\_classes.py\", line 333, in fit\n",
      "    criterion = CRITERIA_CLF[self.criterion](self.n_outputs_,\n",
      "KeyError: 'log_loss'\n",
      "\n",
      "  warnings.warn(\"Estimator fit failed. The score on this train-test\"\n",
      "C:\\Users\\nacnu\\anaconda3\\envs\\learn-env\\lib\\site-packages\\sklearn\\model_selection\\_validation.py:548: FitFailedWarning: Estimator fit failed. The score on this train-test partition for these parameters will be set to nan. Details: \n",
      "Traceback (most recent call last):\n",
      "  File \"C:\\Users\\nacnu\\anaconda3\\envs\\learn-env\\lib\\site-packages\\sklearn\\model_selection\\_validation.py\", line 531, in _fit_and_score\n",
      "    estimator.fit(X_train, y_train, **fit_params)\n",
      "  File \"C:\\Users\\nacnu\\anaconda3\\envs\\learn-env\\lib\\site-packages\\sklearn\\pipeline.py\", line 335, in fit\n",
      "    self._final_estimator.fit(Xt, y, **fit_params_last_step)\n",
      "  File \"C:\\Users\\nacnu\\anaconda3\\envs\\learn-env\\lib\\site-packages\\sklearn\\ensemble\\_forest.py\", line 386, in fit\n",
      "    trees = Parallel(n_jobs=self.n_jobs, verbose=self.verbose,\n",
      "  File \"C:\\Users\\nacnu\\anaconda3\\envs\\learn-env\\lib\\site-packages\\joblib\\parallel.py\", line 1048, in __call__\n",
      "    if self.dispatch_one_batch(iterator):\n",
      "  File \"C:\\Users\\nacnu\\anaconda3\\envs\\learn-env\\lib\\site-packages\\joblib\\parallel.py\", line 866, in dispatch_one_batch\n",
      "    self._dispatch(tasks)\n",
      "  File \"C:\\Users\\nacnu\\anaconda3\\envs\\learn-env\\lib\\site-packages\\joblib\\parallel.py\", line 784, in _dispatch\n",
      "    job = self._backend.apply_async(batch, callback=cb)\n",
      "  File \"C:\\Users\\nacnu\\anaconda3\\envs\\learn-env\\lib\\site-packages\\joblib\\_parallel_backends.py\", line 208, in apply_async\n",
      "    result = ImmediateResult(func)\n",
      "  File \"C:\\Users\\nacnu\\anaconda3\\envs\\learn-env\\lib\\site-packages\\joblib\\_parallel_backends.py\", line 572, in __init__\n",
      "    self.results = batch()\n",
      "  File \"C:\\Users\\nacnu\\anaconda3\\envs\\learn-env\\lib\\site-packages\\joblib\\parallel.py\", line 262, in __call__\n",
      "    return [func(*args, **kwargs)\n",
      "  File \"C:\\Users\\nacnu\\anaconda3\\envs\\learn-env\\lib\\site-packages\\joblib\\parallel.py\", line 262, in <listcomp>\n",
      "    return [func(*args, **kwargs)\n",
      "  File \"C:\\Users\\nacnu\\anaconda3\\envs\\learn-env\\lib\\site-packages\\sklearn\\ensemble\\_forest.py\", line 168, in _parallel_build_trees\n",
      "    tree.fit(X, y, sample_weight=curr_sample_weight, check_input=False)\n",
      "  File \"C:\\Users\\nacnu\\anaconda3\\envs\\learn-env\\lib\\site-packages\\sklearn\\tree\\_classes.py\", line 890, in fit\n",
      "    super().fit(\n",
      "  File \"C:\\Users\\nacnu\\anaconda3\\envs\\learn-env\\lib\\site-packages\\sklearn\\tree\\_classes.py\", line 333, in fit\n",
      "    criterion = CRITERIA_CLF[self.criterion](self.n_outputs_,\n",
      "KeyError: 'log_loss'\n",
      "\n",
      "  warnings.warn(\"Estimator fit failed. The score on this train-test\"\n",
      "C:\\Users\\nacnu\\anaconda3\\envs\\learn-env\\lib\\site-packages\\sklearn\\model_selection\\_validation.py:548: FitFailedWarning: Estimator fit failed. The score on this train-test partition for these parameters will be set to nan. Details: \n",
      "Traceback (most recent call last):\n",
      "  File \"C:\\Users\\nacnu\\anaconda3\\envs\\learn-env\\lib\\site-packages\\sklearn\\model_selection\\_validation.py\", line 531, in _fit_and_score\n",
      "    estimator.fit(X_train, y_train, **fit_params)\n",
      "  File \"C:\\Users\\nacnu\\anaconda3\\envs\\learn-env\\lib\\site-packages\\sklearn\\pipeline.py\", line 335, in fit\n",
      "    self._final_estimator.fit(Xt, y, **fit_params_last_step)\n",
      "  File \"C:\\Users\\nacnu\\anaconda3\\envs\\learn-env\\lib\\site-packages\\sklearn\\ensemble\\_forest.py\", line 386, in fit\n",
      "    trees = Parallel(n_jobs=self.n_jobs, verbose=self.verbose,\n",
      "  File \"C:\\Users\\nacnu\\anaconda3\\envs\\learn-env\\lib\\site-packages\\joblib\\parallel.py\", line 1048, in __call__\n",
      "    if self.dispatch_one_batch(iterator):\n",
      "  File \"C:\\Users\\nacnu\\anaconda3\\envs\\learn-env\\lib\\site-packages\\joblib\\parallel.py\", line 866, in dispatch_one_batch\n",
      "    self._dispatch(tasks)\n",
      "  File \"C:\\Users\\nacnu\\anaconda3\\envs\\learn-env\\lib\\site-packages\\joblib\\parallel.py\", line 784, in _dispatch\n",
      "    job = self._backend.apply_async(batch, callback=cb)\n",
      "  File \"C:\\Users\\nacnu\\anaconda3\\envs\\learn-env\\lib\\site-packages\\joblib\\_parallel_backends.py\", line 208, in apply_async\n",
      "    result = ImmediateResult(func)\n",
      "  File \"C:\\Users\\nacnu\\anaconda3\\envs\\learn-env\\lib\\site-packages\\joblib\\_parallel_backends.py\", line 572, in __init__\n",
      "    self.results = batch()\n",
      "  File \"C:\\Users\\nacnu\\anaconda3\\envs\\learn-env\\lib\\site-packages\\joblib\\parallel.py\", line 262, in __call__\n",
      "    return [func(*args, **kwargs)\n",
      "  File \"C:\\Users\\nacnu\\anaconda3\\envs\\learn-env\\lib\\site-packages\\joblib\\parallel.py\", line 262, in <listcomp>\n",
      "    return [func(*args, **kwargs)\n",
      "  File \"C:\\Users\\nacnu\\anaconda3\\envs\\learn-env\\lib\\site-packages\\sklearn\\ensemble\\_forest.py\", line 168, in _parallel_build_trees\n",
      "    tree.fit(X, y, sample_weight=curr_sample_weight, check_input=False)\n",
      "  File \"C:\\Users\\nacnu\\anaconda3\\envs\\learn-env\\lib\\site-packages\\sklearn\\tree\\_classes.py\", line 890, in fit\n",
      "    super().fit(\n",
      "  File \"C:\\Users\\nacnu\\anaconda3\\envs\\learn-env\\lib\\site-packages\\sklearn\\tree\\_classes.py\", line 333, in fit\n",
      "    criterion = CRITERIA_CLF[self.criterion](self.n_outputs_,\n",
      "KeyError: 'log_loss'\n",
      "\n",
      "  warnings.warn(\"Estimator fit failed. The score on this train-test\"\n"
     ]
    },
    {
     "name": "stderr",
     "output_type": "stream",
     "text": [
      "C:\\Users\\nacnu\\anaconda3\\envs\\learn-env\\lib\\site-packages\\sklearn\\model_selection\\_validation.py:548: FitFailedWarning: Estimator fit failed. The score on this train-test partition for these parameters will be set to nan. Details: \n",
      "Traceback (most recent call last):\n",
      "  File \"C:\\Users\\nacnu\\anaconda3\\envs\\learn-env\\lib\\site-packages\\sklearn\\model_selection\\_validation.py\", line 531, in _fit_and_score\n",
      "    estimator.fit(X_train, y_train, **fit_params)\n",
      "  File \"C:\\Users\\nacnu\\anaconda3\\envs\\learn-env\\lib\\site-packages\\sklearn\\pipeline.py\", line 335, in fit\n",
      "    self._final_estimator.fit(Xt, y, **fit_params_last_step)\n",
      "  File \"C:\\Users\\nacnu\\anaconda3\\envs\\learn-env\\lib\\site-packages\\sklearn\\ensemble\\_forest.py\", line 386, in fit\n",
      "    trees = Parallel(n_jobs=self.n_jobs, verbose=self.verbose,\n",
      "  File \"C:\\Users\\nacnu\\anaconda3\\envs\\learn-env\\lib\\site-packages\\joblib\\parallel.py\", line 1048, in __call__\n",
      "    if self.dispatch_one_batch(iterator):\n",
      "  File \"C:\\Users\\nacnu\\anaconda3\\envs\\learn-env\\lib\\site-packages\\joblib\\parallel.py\", line 866, in dispatch_one_batch\n",
      "    self._dispatch(tasks)\n",
      "  File \"C:\\Users\\nacnu\\anaconda3\\envs\\learn-env\\lib\\site-packages\\joblib\\parallel.py\", line 784, in _dispatch\n",
      "    job = self._backend.apply_async(batch, callback=cb)\n",
      "  File \"C:\\Users\\nacnu\\anaconda3\\envs\\learn-env\\lib\\site-packages\\joblib\\_parallel_backends.py\", line 208, in apply_async\n",
      "    result = ImmediateResult(func)\n",
      "  File \"C:\\Users\\nacnu\\anaconda3\\envs\\learn-env\\lib\\site-packages\\joblib\\_parallel_backends.py\", line 572, in __init__\n",
      "    self.results = batch()\n",
      "  File \"C:\\Users\\nacnu\\anaconda3\\envs\\learn-env\\lib\\site-packages\\joblib\\parallel.py\", line 262, in __call__\n",
      "    return [func(*args, **kwargs)\n",
      "  File \"C:\\Users\\nacnu\\anaconda3\\envs\\learn-env\\lib\\site-packages\\joblib\\parallel.py\", line 262, in <listcomp>\n",
      "    return [func(*args, **kwargs)\n",
      "  File \"C:\\Users\\nacnu\\anaconda3\\envs\\learn-env\\lib\\site-packages\\sklearn\\ensemble\\_forest.py\", line 168, in _parallel_build_trees\n",
      "    tree.fit(X, y, sample_weight=curr_sample_weight, check_input=False)\n",
      "  File \"C:\\Users\\nacnu\\anaconda3\\envs\\learn-env\\lib\\site-packages\\sklearn\\tree\\_classes.py\", line 890, in fit\n",
      "    super().fit(\n",
      "  File \"C:\\Users\\nacnu\\anaconda3\\envs\\learn-env\\lib\\site-packages\\sklearn\\tree\\_classes.py\", line 333, in fit\n",
      "    criterion = CRITERIA_CLF[self.criterion](self.n_outputs_,\n",
      "KeyError: 'log_loss'\n",
      "\n",
      "  warnings.warn(\"Estimator fit failed. The score on this train-test\"\n",
      "C:\\Users\\nacnu\\anaconda3\\envs\\learn-env\\lib\\site-packages\\sklearn\\model_selection\\_validation.py:548: FitFailedWarning: Estimator fit failed. The score on this train-test partition for these parameters will be set to nan. Details: \n",
      "Traceback (most recent call last):\n",
      "  File \"C:\\Users\\nacnu\\anaconda3\\envs\\learn-env\\lib\\site-packages\\sklearn\\model_selection\\_validation.py\", line 531, in _fit_and_score\n",
      "    estimator.fit(X_train, y_train, **fit_params)\n",
      "  File \"C:\\Users\\nacnu\\anaconda3\\envs\\learn-env\\lib\\site-packages\\sklearn\\pipeline.py\", line 335, in fit\n",
      "    self._final_estimator.fit(Xt, y, **fit_params_last_step)\n",
      "  File \"C:\\Users\\nacnu\\anaconda3\\envs\\learn-env\\lib\\site-packages\\sklearn\\ensemble\\_forest.py\", line 386, in fit\n",
      "    trees = Parallel(n_jobs=self.n_jobs, verbose=self.verbose,\n",
      "  File \"C:\\Users\\nacnu\\anaconda3\\envs\\learn-env\\lib\\site-packages\\joblib\\parallel.py\", line 1048, in __call__\n",
      "    if self.dispatch_one_batch(iterator):\n",
      "  File \"C:\\Users\\nacnu\\anaconda3\\envs\\learn-env\\lib\\site-packages\\joblib\\parallel.py\", line 866, in dispatch_one_batch\n",
      "    self._dispatch(tasks)\n",
      "  File \"C:\\Users\\nacnu\\anaconda3\\envs\\learn-env\\lib\\site-packages\\joblib\\parallel.py\", line 784, in _dispatch\n",
      "    job = self._backend.apply_async(batch, callback=cb)\n",
      "  File \"C:\\Users\\nacnu\\anaconda3\\envs\\learn-env\\lib\\site-packages\\joblib\\_parallel_backends.py\", line 208, in apply_async\n",
      "    result = ImmediateResult(func)\n",
      "  File \"C:\\Users\\nacnu\\anaconda3\\envs\\learn-env\\lib\\site-packages\\joblib\\_parallel_backends.py\", line 572, in __init__\n",
      "    self.results = batch()\n",
      "  File \"C:\\Users\\nacnu\\anaconda3\\envs\\learn-env\\lib\\site-packages\\joblib\\parallel.py\", line 262, in __call__\n",
      "    return [func(*args, **kwargs)\n",
      "  File \"C:\\Users\\nacnu\\anaconda3\\envs\\learn-env\\lib\\site-packages\\joblib\\parallel.py\", line 262, in <listcomp>\n",
      "    return [func(*args, **kwargs)\n",
      "  File \"C:\\Users\\nacnu\\anaconda3\\envs\\learn-env\\lib\\site-packages\\sklearn\\ensemble\\_forest.py\", line 168, in _parallel_build_trees\n",
      "    tree.fit(X, y, sample_weight=curr_sample_weight, check_input=False)\n",
      "  File \"C:\\Users\\nacnu\\anaconda3\\envs\\learn-env\\lib\\site-packages\\sklearn\\tree\\_classes.py\", line 890, in fit\n",
      "    super().fit(\n",
      "  File \"C:\\Users\\nacnu\\anaconda3\\envs\\learn-env\\lib\\site-packages\\sklearn\\tree\\_classes.py\", line 333, in fit\n",
      "    criterion = CRITERIA_CLF[self.criterion](self.n_outputs_,\n",
      "KeyError: 'log_loss'\n",
      "\n",
      "  warnings.warn(\"Estimator fit failed. The score on this train-test\"\n",
      "C:\\Users\\nacnu\\anaconda3\\envs\\learn-env\\lib\\site-packages\\sklearn\\model_selection\\_validation.py:548: FitFailedWarning: Estimator fit failed. The score on this train-test partition for these parameters will be set to nan. Details: \n",
      "Traceback (most recent call last):\n",
      "  File \"C:\\Users\\nacnu\\anaconda3\\envs\\learn-env\\lib\\site-packages\\sklearn\\model_selection\\_validation.py\", line 531, in _fit_and_score\n",
      "    estimator.fit(X_train, y_train, **fit_params)\n",
      "  File \"C:\\Users\\nacnu\\anaconda3\\envs\\learn-env\\lib\\site-packages\\sklearn\\pipeline.py\", line 335, in fit\n",
      "    self._final_estimator.fit(Xt, y, **fit_params_last_step)\n",
      "  File \"C:\\Users\\nacnu\\anaconda3\\envs\\learn-env\\lib\\site-packages\\sklearn\\ensemble\\_forest.py\", line 386, in fit\n",
      "    trees = Parallel(n_jobs=self.n_jobs, verbose=self.verbose,\n",
      "  File \"C:\\Users\\nacnu\\anaconda3\\envs\\learn-env\\lib\\site-packages\\joblib\\parallel.py\", line 1048, in __call__\n",
      "    if self.dispatch_one_batch(iterator):\n",
      "  File \"C:\\Users\\nacnu\\anaconda3\\envs\\learn-env\\lib\\site-packages\\joblib\\parallel.py\", line 866, in dispatch_one_batch\n",
      "    self._dispatch(tasks)\n",
      "  File \"C:\\Users\\nacnu\\anaconda3\\envs\\learn-env\\lib\\site-packages\\joblib\\parallel.py\", line 784, in _dispatch\n",
      "    job = self._backend.apply_async(batch, callback=cb)\n",
      "  File \"C:\\Users\\nacnu\\anaconda3\\envs\\learn-env\\lib\\site-packages\\joblib\\_parallel_backends.py\", line 208, in apply_async\n",
      "    result = ImmediateResult(func)\n",
      "  File \"C:\\Users\\nacnu\\anaconda3\\envs\\learn-env\\lib\\site-packages\\joblib\\_parallel_backends.py\", line 572, in __init__\n",
      "    self.results = batch()\n",
      "  File \"C:\\Users\\nacnu\\anaconda3\\envs\\learn-env\\lib\\site-packages\\joblib\\parallel.py\", line 262, in __call__\n",
      "    return [func(*args, **kwargs)\n",
      "  File \"C:\\Users\\nacnu\\anaconda3\\envs\\learn-env\\lib\\site-packages\\joblib\\parallel.py\", line 262, in <listcomp>\n",
      "    return [func(*args, **kwargs)\n",
      "  File \"C:\\Users\\nacnu\\anaconda3\\envs\\learn-env\\lib\\site-packages\\sklearn\\ensemble\\_forest.py\", line 168, in _parallel_build_trees\n",
      "    tree.fit(X, y, sample_weight=curr_sample_weight, check_input=False)\n",
      "  File \"C:\\Users\\nacnu\\anaconda3\\envs\\learn-env\\lib\\site-packages\\sklearn\\tree\\_classes.py\", line 890, in fit\n",
      "    super().fit(\n",
      "  File \"C:\\Users\\nacnu\\anaconda3\\envs\\learn-env\\lib\\site-packages\\sklearn\\tree\\_classes.py\", line 333, in fit\n",
      "    criterion = CRITERIA_CLF[self.criterion](self.n_outputs_,\n",
      "KeyError: 'log_loss'\n",
      "\n",
      "  warnings.warn(\"Estimator fit failed. The score on this train-test\"\n",
      "C:\\Users\\nacnu\\anaconda3\\envs\\learn-env\\lib\\site-packages\\sklearn\\model_selection\\_validation.py:548: FitFailedWarning: Estimator fit failed. The score on this train-test partition for these parameters will be set to nan. Details: \n",
      "Traceback (most recent call last):\n",
      "  File \"C:\\Users\\nacnu\\anaconda3\\envs\\learn-env\\lib\\site-packages\\sklearn\\model_selection\\_validation.py\", line 531, in _fit_and_score\n",
      "    estimator.fit(X_train, y_train, **fit_params)\n",
      "  File \"C:\\Users\\nacnu\\anaconda3\\envs\\learn-env\\lib\\site-packages\\sklearn\\pipeline.py\", line 335, in fit\n",
      "    self._final_estimator.fit(Xt, y, **fit_params_last_step)\n",
      "  File \"C:\\Users\\nacnu\\anaconda3\\envs\\learn-env\\lib\\site-packages\\sklearn\\ensemble\\_forest.py\", line 386, in fit\n",
      "    trees = Parallel(n_jobs=self.n_jobs, verbose=self.verbose,\n",
      "  File \"C:\\Users\\nacnu\\anaconda3\\envs\\learn-env\\lib\\site-packages\\joblib\\parallel.py\", line 1048, in __call__\n",
      "    if self.dispatch_one_batch(iterator):\n",
      "  File \"C:\\Users\\nacnu\\anaconda3\\envs\\learn-env\\lib\\site-packages\\joblib\\parallel.py\", line 866, in dispatch_one_batch\n",
      "    self._dispatch(tasks)\n",
      "  File \"C:\\Users\\nacnu\\anaconda3\\envs\\learn-env\\lib\\site-packages\\joblib\\parallel.py\", line 784, in _dispatch\n",
      "    job = self._backend.apply_async(batch, callback=cb)\n",
      "  File \"C:\\Users\\nacnu\\anaconda3\\envs\\learn-env\\lib\\site-packages\\joblib\\_parallel_backends.py\", line 208, in apply_async\n",
      "    result = ImmediateResult(func)\n",
      "  File \"C:\\Users\\nacnu\\anaconda3\\envs\\learn-env\\lib\\site-packages\\joblib\\_parallel_backends.py\", line 572, in __init__\n",
      "    self.results = batch()\n",
      "  File \"C:\\Users\\nacnu\\anaconda3\\envs\\learn-env\\lib\\site-packages\\joblib\\parallel.py\", line 262, in __call__\n",
      "    return [func(*args, **kwargs)\n",
      "  File \"C:\\Users\\nacnu\\anaconda3\\envs\\learn-env\\lib\\site-packages\\joblib\\parallel.py\", line 262, in <listcomp>\n",
      "    return [func(*args, **kwargs)\n",
      "  File \"C:\\Users\\nacnu\\anaconda3\\envs\\learn-env\\lib\\site-packages\\sklearn\\ensemble\\_forest.py\", line 168, in _parallel_build_trees\n",
      "    tree.fit(X, y, sample_weight=curr_sample_weight, check_input=False)\n",
      "  File \"C:\\Users\\nacnu\\anaconda3\\envs\\learn-env\\lib\\site-packages\\sklearn\\tree\\_classes.py\", line 890, in fit\n",
      "    super().fit(\n",
      "  File \"C:\\Users\\nacnu\\anaconda3\\envs\\learn-env\\lib\\site-packages\\sklearn\\tree\\_classes.py\", line 333, in fit\n",
      "    criterion = CRITERIA_CLF[self.criterion](self.n_outputs_,\n",
      "KeyError: 'log_loss'\n",
      "\n",
      "  warnings.warn(\"Estimator fit failed. The score on this train-test\"\n"
     ]
    },
    {
     "name": "stderr",
     "output_type": "stream",
     "text": [
      "C:\\Users\\nacnu\\anaconda3\\envs\\learn-env\\lib\\site-packages\\sklearn\\model_selection\\_validation.py:548: FitFailedWarning: Estimator fit failed. The score on this train-test partition for these parameters will be set to nan. Details: \n",
      "Traceback (most recent call last):\n",
      "  File \"C:\\Users\\nacnu\\anaconda3\\envs\\learn-env\\lib\\site-packages\\sklearn\\model_selection\\_validation.py\", line 531, in _fit_and_score\n",
      "    estimator.fit(X_train, y_train, **fit_params)\n",
      "  File \"C:\\Users\\nacnu\\anaconda3\\envs\\learn-env\\lib\\site-packages\\sklearn\\pipeline.py\", line 335, in fit\n",
      "    self._final_estimator.fit(Xt, y, **fit_params_last_step)\n",
      "  File \"C:\\Users\\nacnu\\anaconda3\\envs\\learn-env\\lib\\site-packages\\sklearn\\ensemble\\_forest.py\", line 386, in fit\n",
      "    trees = Parallel(n_jobs=self.n_jobs, verbose=self.verbose,\n",
      "  File \"C:\\Users\\nacnu\\anaconda3\\envs\\learn-env\\lib\\site-packages\\joblib\\parallel.py\", line 1048, in __call__\n",
      "    if self.dispatch_one_batch(iterator):\n",
      "  File \"C:\\Users\\nacnu\\anaconda3\\envs\\learn-env\\lib\\site-packages\\joblib\\parallel.py\", line 866, in dispatch_one_batch\n",
      "    self._dispatch(tasks)\n",
      "  File \"C:\\Users\\nacnu\\anaconda3\\envs\\learn-env\\lib\\site-packages\\joblib\\parallel.py\", line 784, in _dispatch\n",
      "    job = self._backend.apply_async(batch, callback=cb)\n",
      "  File \"C:\\Users\\nacnu\\anaconda3\\envs\\learn-env\\lib\\site-packages\\joblib\\_parallel_backends.py\", line 208, in apply_async\n",
      "    result = ImmediateResult(func)\n",
      "  File \"C:\\Users\\nacnu\\anaconda3\\envs\\learn-env\\lib\\site-packages\\joblib\\_parallel_backends.py\", line 572, in __init__\n",
      "    self.results = batch()\n",
      "  File \"C:\\Users\\nacnu\\anaconda3\\envs\\learn-env\\lib\\site-packages\\joblib\\parallel.py\", line 262, in __call__\n",
      "    return [func(*args, **kwargs)\n",
      "  File \"C:\\Users\\nacnu\\anaconda3\\envs\\learn-env\\lib\\site-packages\\joblib\\parallel.py\", line 262, in <listcomp>\n",
      "    return [func(*args, **kwargs)\n",
      "  File \"C:\\Users\\nacnu\\anaconda3\\envs\\learn-env\\lib\\site-packages\\sklearn\\ensemble\\_forest.py\", line 168, in _parallel_build_trees\n",
      "    tree.fit(X, y, sample_weight=curr_sample_weight, check_input=False)\n",
      "  File \"C:\\Users\\nacnu\\anaconda3\\envs\\learn-env\\lib\\site-packages\\sklearn\\tree\\_classes.py\", line 890, in fit\n",
      "    super().fit(\n",
      "  File \"C:\\Users\\nacnu\\anaconda3\\envs\\learn-env\\lib\\site-packages\\sklearn\\tree\\_classes.py\", line 333, in fit\n",
      "    criterion = CRITERIA_CLF[self.criterion](self.n_outputs_,\n",
      "KeyError: 'log_loss'\n",
      "\n",
      "  warnings.warn(\"Estimator fit failed. The score on this train-test\"\n",
      "C:\\Users\\nacnu\\anaconda3\\envs\\learn-env\\lib\\site-packages\\sklearn\\model_selection\\_validation.py:548: FitFailedWarning: Estimator fit failed. The score on this train-test partition for these parameters will be set to nan. Details: \n",
      "Traceback (most recent call last):\n",
      "  File \"C:\\Users\\nacnu\\anaconda3\\envs\\learn-env\\lib\\site-packages\\sklearn\\model_selection\\_validation.py\", line 531, in _fit_and_score\n",
      "    estimator.fit(X_train, y_train, **fit_params)\n",
      "  File \"C:\\Users\\nacnu\\anaconda3\\envs\\learn-env\\lib\\site-packages\\sklearn\\pipeline.py\", line 335, in fit\n",
      "    self._final_estimator.fit(Xt, y, **fit_params_last_step)\n",
      "  File \"C:\\Users\\nacnu\\anaconda3\\envs\\learn-env\\lib\\site-packages\\sklearn\\ensemble\\_forest.py\", line 386, in fit\n",
      "    trees = Parallel(n_jobs=self.n_jobs, verbose=self.verbose,\n",
      "  File \"C:\\Users\\nacnu\\anaconda3\\envs\\learn-env\\lib\\site-packages\\joblib\\parallel.py\", line 1048, in __call__\n",
      "    if self.dispatch_one_batch(iterator):\n",
      "  File \"C:\\Users\\nacnu\\anaconda3\\envs\\learn-env\\lib\\site-packages\\joblib\\parallel.py\", line 866, in dispatch_one_batch\n",
      "    self._dispatch(tasks)\n",
      "  File \"C:\\Users\\nacnu\\anaconda3\\envs\\learn-env\\lib\\site-packages\\joblib\\parallel.py\", line 784, in _dispatch\n",
      "    job = self._backend.apply_async(batch, callback=cb)\n",
      "  File \"C:\\Users\\nacnu\\anaconda3\\envs\\learn-env\\lib\\site-packages\\joblib\\_parallel_backends.py\", line 208, in apply_async\n",
      "    result = ImmediateResult(func)\n",
      "  File \"C:\\Users\\nacnu\\anaconda3\\envs\\learn-env\\lib\\site-packages\\joblib\\_parallel_backends.py\", line 572, in __init__\n",
      "    self.results = batch()\n",
      "  File \"C:\\Users\\nacnu\\anaconda3\\envs\\learn-env\\lib\\site-packages\\joblib\\parallel.py\", line 262, in __call__\n",
      "    return [func(*args, **kwargs)\n",
      "  File \"C:\\Users\\nacnu\\anaconda3\\envs\\learn-env\\lib\\site-packages\\joblib\\parallel.py\", line 262, in <listcomp>\n",
      "    return [func(*args, **kwargs)\n",
      "  File \"C:\\Users\\nacnu\\anaconda3\\envs\\learn-env\\lib\\site-packages\\sklearn\\ensemble\\_forest.py\", line 168, in _parallel_build_trees\n",
      "    tree.fit(X, y, sample_weight=curr_sample_weight, check_input=False)\n",
      "  File \"C:\\Users\\nacnu\\anaconda3\\envs\\learn-env\\lib\\site-packages\\sklearn\\tree\\_classes.py\", line 890, in fit\n",
      "    super().fit(\n",
      "  File \"C:\\Users\\nacnu\\anaconda3\\envs\\learn-env\\lib\\site-packages\\sklearn\\tree\\_classes.py\", line 333, in fit\n",
      "    criterion = CRITERIA_CLF[self.criterion](self.n_outputs_,\n",
      "KeyError: 'log_loss'\n",
      "\n",
      "  warnings.warn(\"Estimator fit failed. The score on this train-test\"\n",
      "C:\\Users\\nacnu\\anaconda3\\envs\\learn-env\\lib\\site-packages\\sklearn\\model_selection\\_validation.py:548: FitFailedWarning: Estimator fit failed. The score on this train-test partition for these parameters will be set to nan. Details: \n",
      "Traceback (most recent call last):\n",
      "  File \"C:\\Users\\nacnu\\anaconda3\\envs\\learn-env\\lib\\site-packages\\sklearn\\model_selection\\_validation.py\", line 531, in _fit_and_score\n",
      "    estimator.fit(X_train, y_train, **fit_params)\n",
      "  File \"C:\\Users\\nacnu\\anaconda3\\envs\\learn-env\\lib\\site-packages\\sklearn\\pipeline.py\", line 335, in fit\n",
      "    self._final_estimator.fit(Xt, y, **fit_params_last_step)\n",
      "  File \"C:\\Users\\nacnu\\anaconda3\\envs\\learn-env\\lib\\site-packages\\sklearn\\ensemble\\_forest.py\", line 386, in fit\n",
      "    trees = Parallel(n_jobs=self.n_jobs, verbose=self.verbose,\n",
      "  File \"C:\\Users\\nacnu\\anaconda3\\envs\\learn-env\\lib\\site-packages\\joblib\\parallel.py\", line 1048, in __call__\n",
      "    if self.dispatch_one_batch(iterator):\n",
      "  File \"C:\\Users\\nacnu\\anaconda3\\envs\\learn-env\\lib\\site-packages\\joblib\\parallel.py\", line 866, in dispatch_one_batch\n",
      "    self._dispatch(tasks)\n",
      "  File \"C:\\Users\\nacnu\\anaconda3\\envs\\learn-env\\lib\\site-packages\\joblib\\parallel.py\", line 784, in _dispatch\n",
      "    job = self._backend.apply_async(batch, callback=cb)\n",
      "  File \"C:\\Users\\nacnu\\anaconda3\\envs\\learn-env\\lib\\site-packages\\joblib\\_parallel_backends.py\", line 208, in apply_async\n",
      "    result = ImmediateResult(func)\n",
      "  File \"C:\\Users\\nacnu\\anaconda3\\envs\\learn-env\\lib\\site-packages\\joblib\\_parallel_backends.py\", line 572, in __init__\n",
      "    self.results = batch()\n",
      "  File \"C:\\Users\\nacnu\\anaconda3\\envs\\learn-env\\lib\\site-packages\\joblib\\parallel.py\", line 262, in __call__\n",
      "    return [func(*args, **kwargs)\n",
      "  File \"C:\\Users\\nacnu\\anaconda3\\envs\\learn-env\\lib\\site-packages\\joblib\\parallel.py\", line 262, in <listcomp>\n",
      "    return [func(*args, **kwargs)\n",
      "  File \"C:\\Users\\nacnu\\anaconda3\\envs\\learn-env\\lib\\site-packages\\sklearn\\ensemble\\_forest.py\", line 168, in _parallel_build_trees\n",
      "    tree.fit(X, y, sample_weight=curr_sample_weight, check_input=False)\n",
      "  File \"C:\\Users\\nacnu\\anaconda3\\envs\\learn-env\\lib\\site-packages\\sklearn\\tree\\_classes.py\", line 890, in fit\n",
      "    super().fit(\n",
      "  File \"C:\\Users\\nacnu\\anaconda3\\envs\\learn-env\\lib\\site-packages\\sklearn\\tree\\_classes.py\", line 333, in fit\n",
      "    criterion = CRITERIA_CLF[self.criterion](self.n_outputs_,\n",
      "KeyError: 'log_loss'\n",
      "\n",
      "  warnings.warn(\"Estimator fit failed. The score on this train-test\"\n",
      "C:\\Users\\nacnu\\anaconda3\\envs\\learn-env\\lib\\site-packages\\sklearn\\model_selection\\_validation.py:548: FitFailedWarning: Estimator fit failed. The score on this train-test partition for these parameters will be set to nan. Details: \n",
      "Traceback (most recent call last):\n",
      "  File \"C:\\Users\\nacnu\\anaconda3\\envs\\learn-env\\lib\\site-packages\\sklearn\\model_selection\\_validation.py\", line 531, in _fit_and_score\n",
      "    estimator.fit(X_train, y_train, **fit_params)\n",
      "  File \"C:\\Users\\nacnu\\anaconda3\\envs\\learn-env\\lib\\site-packages\\sklearn\\pipeline.py\", line 335, in fit\n",
      "    self._final_estimator.fit(Xt, y, **fit_params_last_step)\n",
      "  File \"C:\\Users\\nacnu\\anaconda3\\envs\\learn-env\\lib\\site-packages\\sklearn\\ensemble\\_forest.py\", line 386, in fit\n",
      "    trees = Parallel(n_jobs=self.n_jobs, verbose=self.verbose,\n",
      "  File \"C:\\Users\\nacnu\\anaconda3\\envs\\learn-env\\lib\\site-packages\\joblib\\parallel.py\", line 1048, in __call__\n",
      "    if self.dispatch_one_batch(iterator):\n",
      "  File \"C:\\Users\\nacnu\\anaconda3\\envs\\learn-env\\lib\\site-packages\\joblib\\parallel.py\", line 866, in dispatch_one_batch\n",
      "    self._dispatch(tasks)\n",
      "  File \"C:\\Users\\nacnu\\anaconda3\\envs\\learn-env\\lib\\site-packages\\joblib\\parallel.py\", line 784, in _dispatch\n",
      "    job = self._backend.apply_async(batch, callback=cb)\n",
      "  File \"C:\\Users\\nacnu\\anaconda3\\envs\\learn-env\\lib\\site-packages\\joblib\\_parallel_backends.py\", line 208, in apply_async\n",
      "    result = ImmediateResult(func)\n",
      "  File \"C:\\Users\\nacnu\\anaconda3\\envs\\learn-env\\lib\\site-packages\\joblib\\_parallel_backends.py\", line 572, in __init__\n",
      "    self.results = batch()\n",
      "  File \"C:\\Users\\nacnu\\anaconda3\\envs\\learn-env\\lib\\site-packages\\joblib\\parallel.py\", line 262, in __call__\n",
      "    return [func(*args, **kwargs)\n",
      "  File \"C:\\Users\\nacnu\\anaconda3\\envs\\learn-env\\lib\\site-packages\\joblib\\parallel.py\", line 262, in <listcomp>\n",
      "    return [func(*args, **kwargs)\n",
      "  File \"C:\\Users\\nacnu\\anaconda3\\envs\\learn-env\\lib\\site-packages\\sklearn\\ensemble\\_forest.py\", line 168, in _parallel_build_trees\n",
      "    tree.fit(X, y, sample_weight=curr_sample_weight, check_input=False)\n",
      "  File \"C:\\Users\\nacnu\\anaconda3\\envs\\learn-env\\lib\\site-packages\\sklearn\\tree\\_classes.py\", line 890, in fit\n",
      "    super().fit(\n",
      "  File \"C:\\Users\\nacnu\\anaconda3\\envs\\learn-env\\lib\\site-packages\\sklearn\\tree\\_classes.py\", line 333, in fit\n",
      "    criterion = CRITERIA_CLF[self.criterion](self.n_outputs_,\n",
      "KeyError: 'log_loss'\n",
      "\n",
      "  warnings.warn(\"Estimator fit failed. The score on this train-test\"\n"
     ]
    },
    {
     "name": "stderr",
     "output_type": "stream",
     "text": [
      "C:\\Users\\nacnu\\anaconda3\\envs\\learn-env\\lib\\site-packages\\sklearn\\model_selection\\_validation.py:548: FitFailedWarning: Estimator fit failed. The score on this train-test partition for these parameters will be set to nan. Details: \n",
      "Traceback (most recent call last):\n",
      "  File \"C:\\Users\\nacnu\\anaconda3\\envs\\learn-env\\lib\\site-packages\\sklearn\\model_selection\\_validation.py\", line 531, in _fit_and_score\n",
      "    estimator.fit(X_train, y_train, **fit_params)\n",
      "  File \"C:\\Users\\nacnu\\anaconda3\\envs\\learn-env\\lib\\site-packages\\sklearn\\pipeline.py\", line 335, in fit\n",
      "    self._final_estimator.fit(Xt, y, **fit_params_last_step)\n",
      "  File \"C:\\Users\\nacnu\\anaconda3\\envs\\learn-env\\lib\\site-packages\\sklearn\\ensemble\\_forest.py\", line 386, in fit\n",
      "    trees = Parallel(n_jobs=self.n_jobs, verbose=self.verbose,\n",
      "  File \"C:\\Users\\nacnu\\anaconda3\\envs\\learn-env\\lib\\site-packages\\joblib\\parallel.py\", line 1048, in __call__\n",
      "    if self.dispatch_one_batch(iterator):\n",
      "  File \"C:\\Users\\nacnu\\anaconda3\\envs\\learn-env\\lib\\site-packages\\joblib\\parallel.py\", line 866, in dispatch_one_batch\n",
      "    self._dispatch(tasks)\n",
      "  File \"C:\\Users\\nacnu\\anaconda3\\envs\\learn-env\\lib\\site-packages\\joblib\\parallel.py\", line 784, in _dispatch\n",
      "    job = self._backend.apply_async(batch, callback=cb)\n",
      "  File \"C:\\Users\\nacnu\\anaconda3\\envs\\learn-env\\lib\\site-packages\\joblib\\_parallel_backends.py\", line 208, in apply_async\n",
      "    result = ImmediateResult(func)\n",
      "  File \"C:\\Users\\nacnu\\anaconda3\\envs\\learn-env\\lib\\site-packages\\joblib\\_parallel_backends.py\", line 572, in __init__\n",
      "    self.results = batch()\n",
      "  File \"C:\\Users\\nacnu\\anaconda3\\envs\\learn-env\\lib\\site-packages\\joblib\\parallel.py\", line 262, in __call__\n",
      "    return [func(*args, **kwargs)\n",
      "  File \"C:\\Users\\nacnu\\anaconda3\\envs\\learn-env\\lib\\site-packages\\joblib\\parallel.py\", line 262, in <listcomp>\n",
      "    return [func(*args, **kwargs)\n",
      "  File \"C:\\Users\\nacnu\\anaconda3\\envs\\learn-env\\lib\\site-packages\\sklearn\\ensemble\\_forest.py\", line 168, in _parallel_build_trees\n",
      "    tree.fit(X, y, sample_weight=curr_sample_weight, check_input=False)\n",
      "  File \"C:\\Users\\nacnu\\anaconda3\\envs\\learn-env\\lib\\site-packages\\sklearn\\tree\\_classes.py\", line 890, in fit\n",
      "    super().fit(\n",
      "  File \"C:\\Users\\nacnu\\anaconda3\\envs\\learn-env\\lib\\site-packages\\sklearn\\tree\\_classes.py\", line 333, in fit\n",
      "    criterion = CRITERIA_CLF[self.criterion](self.n_outputs_,\n",
      "KeyError: 'log_loss'\n",
      "\n",
      "  warnings.warn(\"Estimator fit failed. The score on this train-test\"\n",
      "C:\\Users\\nacnu\\anaconda3\\envs\\learn-env\\lib\\site-packages\\sklearn\\model_selection\\_validation.py:548: FitFailedWarning: Estimator fit failed. The score on this train-test partition for these parameters will be set to nan. Details: \n",
      "Traceback (most recent call last):\n",
      "  File \"C:\\Users\\nacnu\\anaconda3\\envs\\learn-env\\lib\\site-packages\\sklearn\\model_selection\\_validation.py\", line 531, in _fit_and_score\n",
      "    estimator.fit(X_train, y_train, **fit_params)\n",
      "  File \"C:\\Users\\nacnu\\anaconda3\\envs\\learn-env\\lib\\site-packages\\sklearn\\pipeline.py\", line 335, in fit\n",
      "    self._final_estimator.fit(Xt, y, **fit_params_last_step)\n",
      "  File \"C:\\Users\\nacnu\\anaconda3\\envs\\learn-env\\lib\\site-packages\\sklearn\\ensemble\\_forest.py\", line 386, in fit\n",
      "    trees = Parallel(n_jobs=self.n_jobs, verbose=self.verbose,\n",
      "  File \"C:\\Users\\nacnu\\anaconda3\\envs\\learn-env\\lib\\site-packages\\joblib\\parallel.py\", line 1048, in __call__\n",
      "    if self.dispatch_one_batch(iterator):\n",
      "  File \"C:\\Users\\nacnu\\anaconda3\\envs\\learn-env\\lib\\site-packages\\joblib\\parallel.py\", line 866, in dispatch_one_batch\n",
      "    self._dispatch(tasks)\n",
      "  File \"C:\\Users\\nacnu\\anaconda3\\envs\\learn-env\\lib\\site-packages\\joblib\\parallel.py\", line 784, in _dispatch\n",
      "    job = self._backend.apply_async(batch, callback=cb)\n",
      "  File \"C:\\Users\\nacnu\\anaconda3\\envs\\learn-env\\lib\\site-packages\\joblib\\_parallel_backends.py\", line 208, in apply_async\n",
      "    result = ImmediateResult(func)\n",
      "  File \"C:\\Users\\nacnu\\anaconda3\\envs\\learn-env\\lib\\site-packages\\joblib\\_parallel_backends.py\", line 572, in __init__\n",
      "    self.results = batch()\n",
      "  File \"C:\\Users\\nacnu\\anaconda3\\envs\\learn-env\\lib\\site-packages\\joblib\\parallel.py\", line 262, in __call__\n",
      "    return [func(*args, **kwargs)\n",
      "  File \"C:\\Users\\nacnu\\anaconda3\\envs\\learn-env\\lib\\site-packages\\joblib\\parallel.py\", line 262, in <listcomp>\n",
      "    return [func(*args, **kwargs)\n",
      "  File \"C:\\Users\\nacnu\\anaconda3\\envs\\learn-env\\lib\\site-packages\\sklearn\\ensemble\\_forest.py\", line 168, in _parallel_build_trees\n",
      "    tree.fit(X, y, sample_weight=curr_sample_weight, check_input=False)\n",
      "  File \"C:\\Users\\nacnu\\anaconda3\\envs\\learn-env\\lib\\site-packages\\sklearn\\tree\\_classes.py\", line 890, in fit\n",
      "    super().fit(\n",
      "  File \"C:\\Users\\nacnu\\anaconda3\\envs\\learn-env\\lib\\site-packages\\sklearn\\tree\\_classes.py\", line 333, in fit\n",
      "    criterion = CRITERIA_CLF[self.criterion](self.n_outputs_,\n",
      "KeyError: 'log_loss'\n",
      "\n",
      "  warnings.warn(\"Estimator fit failed. The score on this train-test\"\n",
      "C:\\Users\\nacnu\\anaconda3\\envs\\learn-env\\lib\\site-packages\\sklearn\\model_selection\\_validation.py:548: FitFailedWarning: Estimator fit failed. The score on this train-test partition for these parameters will be set to nan. Details: \n",
      "Traceback (most recent call last):\n",
      "  File \"C:\\Users\\nacnu\\anaconda3\\envs\\learn-env\\lib\\site-packages\\sklearn\\model_selection\\_validation.py\", line 531, in _fit_and_score\n",
      "    estimator.fit(X_train, y_train, **fit_params)\n",
      "  File \"C:\\Users\\nacnu\\anaconda3\\envs\\learn-env\\lib\\site-packages\\sklearn\\pipeline.py\", line 335, in fit\n",
      "    self._final_estimator.fit(Xt, y, **fit_params_last_step)\n",
      "  File \"C:\\Users\\nacnu\\anaconda3\\envs\\learn-env\\lib\\site-packages\\sklearn\\ensemble\\_forest.py\", line 386, in fit\n",
      "    trees = Parallel(n_jobs=self.n_jobs, verbose=self.verbose,\n",
      "  File \"C:\\Users\\nacnu\\anaconda3\\envs\\learn-env\\lib\\site-packages\\joblib\\parallel.py\", line 1048, in __call__\n",
      "    if self.dispatch_one_batch(iterator):\n",
      "  File \"C:\\Users\\nacnu\\anaconda3\\envs\\learn-env\\lib\\site-packages\\joblib\\parallel.py\", line 866, in dispatch_one_batch\n",
      "    self._dispatch(tasks)\n",
      "  File \"C:\\Users\\nacnu\\anaconda3\\envs\\learn-env\\lib\\site-packages\\joblib\\parallel.py\", line 784, in _dispatch\n",
      "    job = self._backend.apply_async(batch, callback=cb)\n",
      "  File \"C:\\Users\\nacnu\\anaconda3\\envs\\learn-env\\lib\\site-packages\\joblib\\_parallel_backends.py\", line 208, in apply_async\n",
      "    result = ImmediateResult(func)\n",
      "  File \"C:\\Users\\nacnu\\anaconda3\\envs\\learn-env\\lib\\site-packages\\joblib\\_parallel_backends.py\", line 572, in __init__\n",
      "    self.results = batch()\n",
      "  File \"C:\\Users\\nacnu\\anaconda3\\envs\\learn-env\\lib\\site-packages\\joblib\\parallel.py\", line 262, in __call__\n",
      "    return [func(*args, **kwargs)\n",
      "  File \"C:\\Users\\nacnu\\anaconda3\\envs\\learn-env\\lib\\site-packages\\joblib\\parallel.py\", line 262, in <listcomp>\n",
      "    return [func(*args, **kwargs)\n",
      "  File \"C:\\Users\\nacnu\\anaconda3\\envs\\learn-env\\lib\\site-packages\\sklearn\\ensemble\\_forest.py\", line 168, in _parallel_build_trees\n",
      "    tree.fit(X, y, sample_weight=curr_sample_weight, check_input=False)\n",
      "  File \"C:\\Users\\nacnu\\anaconda3\\envs\\learn-env\\lib\\site-packages\\sklearn\\tree\\_classes.py\", line 890, in fit\n",
      "    super().fit(\n",
      "  File \"C:\\Users\\nacnu\\anaconda3\\envs\\learn-env\\lib\\site-packages\\sklearn\\tree\\_classes.py\", line 333, in fit\n",
      "    criterion = CRITERIA_CLF[self.criterion](self.n_outputs_,\n",
      "KeyError: 'log_loss'\n",
      "\n",
      "  warnings.warn(\"Estimator fit failed. The score on this train-test\"\n",
      "C:\\Users\\nacnu\\anaconda3\\envs\\learn-env\\lib\\site-packages\\sklearn\\model_selection\\_validation.py:548: FitFailedWarning: Estimator fit failed. The score on this train-test partition for these parameters will be set to nan. Details: \n",
      "Traceback (most recent call last):\n",
      "  File \"C:\\Users\\nacnu\\anaconda3\\envs\\learn-env\\lib\\site-packages\\sklearn\\model_selection\\_validation.py\", line 531, in _fit_and_score\n",
      "    estimator.fit(X_train, y_train, **fit_params)\n",
      "  File \"C:\\Users\\nacnu\\anaconda3\\envs\\learn-env\\lib\\site-packages\\sklearn\\pipeline.py\", line 335, in fit\n",
      "    self._final_estimator.fit(Xt, y, **fit_params_last_step)\n",
      "  File \"C:\\Users\\nacnu\\anaconda3\\envs\\learn-env\\lib\\site-packages\\sklearn\\ensemble\\_forest.py\", line 386, in fit\n",
      "    trees = Parallel(n_jobs=self.n_jobs, verbose=self.verbose,\n",
      "  File \"C:\\Users\\nacnu\\anaconda3\\envs\\learn-env\\lib\\site-packages\\joblib\\parallel.py\", line 1048, in __call__\n",
      "    if self.dispatch_one_batch(iterator):\n",
      "  File \"C:\\Users\\nacnu\\anaconda3\\envs\\learn-env\\lib\\site-packages\\joblib\\parallel.py\", line 866, in dispatch_one_batch\n",
      "    self._dispatch(tasks)\n",
      "  File \"C:\\Users\\nacnu\\anaconda3\\envs\\learn-env\\lib\\site-packages\\joblib\\parallel.py\", line 784, in _dispatch\n",
      "    job = self._backend.apply_async(batch, callback=cb)\n",
      "  File \"C:\\Users\\nacnu\\anaconda3\\envs\\learn-env\\lib\\site-packages\\joblib\\_parallel_backends.py\", line 208, in apply_async\n",
      "    result = ImmediateResult(func)\n",
      "  File \"C:\\Users\\nacnu\\anaconda3\\envs\\learn-env\\lib\\site-packages\\joblib\\_parallel_backends.py\", line 572, in __init__\n",
      "    self.results = batch()\n",
      "  File \"C:\\Users\\nacnu\\anaconda3\\envs\\learn-env\\lib\\site-packages\\joblib\\parallel.py\", line 262, in __call__\n",
      "    return [func(*args, **kwargs)\n",
      "  File \"C:\\Users\\nacnu\\anaconda3\\envs\\learn-env\\lib\\site-packages\\joblib\\parallel.py\", line 262, in <listcomp>\n",
      "    return [func(*args, **kwargs)\n",
      "  File \"C:\\Users\\nacnu\\anaconda3\\envs\\learn-env\\lib\\site-packages\\sklearn\\ensemble\\_forest.py\", line 168, in _parallel_build_trees\n",
      "    tree.fit(X, y, sample_weight=curr_sample_weight, check_input=False)\n",
      "  File \"C:\\Users\\nacnu\\anaconda3\\envs\\learn-env\\lib\\site-packages\\sklearn\\tree\\_classes.py\", line 890, in fit\n",
      "    super().fit(\n",
      "  File \"C:\\Users\\nacnu\\anaconda3\\envs\\learn-env\\lib\\site-packages\\sklearn\\tree\\_classes.py\", line 333, in fit\n",
      "    criterion = CRITERIA_CLF[self.criterion](self.n_outputs_,\n",
      "KeyError: 'log_loss'\n",
      "\n",
      "  warnings.warn(\"Estimator fit failed. The score on this train-test\"\n"
     ]
    },
    {
     "name": "stderr",
     "output_type": "stream",
     "text": [
      "C:\\Users\\nacnu\\anaconda3\\envs\\learn-env\\lib\\site-packages\\sklearn\\model_selection\\_validation.py:548: FitFailedWarning: Estimator fit failed. The score on this train-test partition for these parameters will be set to nan. Details: \n",
      "Traceback (most recent call last):\n",
      "  File \"C:\\Users\\nacnu\\anaconda3\\envs\\learn-env\\lib\\site-packages\\sklearn\\model_selection\\_validation.py\", line 531, in _fit_and_score\n",
      "    estimator.fit(X_train, y_train, **fit_params)\n",
      "  File \"C:\\Users\\nacnu\\anaconda3\\envs\\learn-env\\lib\\site-packages\\sklearn\\pipeline.py\", line 335, in fit\n",
      "    self._final_estimator.fit(Xt, y, **fit_params_last_step)\n",
      "  File \"C:\\Users\\nacnu\\anaconda3\\envs\\learn-env\\lib\\site-packages\\sklearn\\ensemble\\_forest.py\", line 386, in fit\n",
      "    trees = Parallel(n_jobs=self.n_jobs, verbose=self.verbose,\n",
      "  File \"C:\\Users\\nacnu\\anaconda3\\envs\\learn-env\\lib\\site-packages\\joblib\\parallel.py\", line 1048, in __call__\n",
      "    if self.dispatch_one_batch(iterator):\n",
      "  File \"C:\\Users\\nacnu\\anaconda3\\envs\\learn-env\\lib\\site-packages\\joblib\\parallel.py\", line 866, in dispatch_one_batch\n",
      "    self._dispatch(tasks)\n",
      "  File \"C:\\Users\\nacnu\\anaconda3\\envs\\learn-env\\lib\\site-packages\\joblib\\parallel.py\", line 784, in _dispatch\n",
      "    job = self._backend.apply_async(batch, callback=cb)\n",
      "  File \"C:\\Users\\nacnu\\anaconda3\\envs\\learn-env\\lib\\site-packages\\joblib\\_parallel_backends.py\", line 208, in apply_async\n",
      "    result = ImmediateResult(func)\n",
      "  File \"C:\\Users\\nacnu\\anaconda3\\envs\\learn-env\\lib\\site-packages\\joblib\\_parallel_backends.py\", line 572, in __init__\n",
      "    self.results = batch()\n",
      "  File \"C:\\Users\\nacnu\\anaconda3\\envs\\learn-env\\lib\\site-packages\\joblib\\parallel.py\", line 262, in __call__\n",
      "    return [func(*args, **kwargs)\n",
      "  File \"C:\\Users\\nacnu\\anaconda3\\envs\\learn-env\\lib\\site-packages\\joblib\\parallel.py\", line 262, in <listcomp>\n",
      "    return [func(*args, **kwargs)\n",
      "  File \"C:\\Users\\nacnu\\anaconda3\\envs\\learn-env\\lib\\site-packages\\sklearn\\ensemble\\_forest.py\", line 168, in _parallel_build_trees\n",
      "    tree.fit(X, y, sample_weight=curr_sample_weight, check_input=False)\n",
      "  File \"C:\\Users\\nacnu\\anaconda3\\envs\\learn-env\\lib\\site-packages\\sklearn\\tree\\_classes.py\", line 890, in fit\n",
      "    super().fit(\n",
      "  File \"C:\\Users\\nacnu\\anaconda3\\envs\\learn-env\\lib\\site-packages\\sklearn\\tree\\_classes.py\", line 333, in fit\n",
      "    criterion = CRITERIA_CLF[self.criterion](self.n_outputs_,\n",
      "KeyError: 'log_loss'\n",
      "\n",
      "  warnings.warn(\"Estimator fit failed. The score on this train-test\"\n",
      "C:\\Users\\nacnu\\anaconda3\\envs\\learn-env\\lib\\site-packages\\sklearn\\model_selection\\_validation.py:548: FitFailedWarning: Estimator fit failed. The score on this train-test partition for these parameters will be set to nan. Details: \n",
      "Traceback (most recent call last):\n",
      "  File \"C:\\Users\\nacnu\\anaconda3\\envs\\learn-env\\lib\\site-packages\\sklearn\\model_selection\\_validation.py\", line 531, in _fit_and_score\n",
      "    estimator.fit(X_train, y_train, **fit_params)\n",
      "  File \"C:\\Users\\nacnu\\anaconda3\\envs\\learn-env\\lib\\site-packages\\sklearn\\pipeline.py\", line 335, in fit\n",
      "    self._final_estimator.fit(Xt, y, **fit_params_last_step)\n",
      "  File \"C:\\Users\\nacnu\\anaconda3\\envs\\learn-env\\lib\\site-packages\\sklearn\\ensemble\\_forest.py\", line 386, in fit\n",
      "    trees = Parallel(n_jobs=self.n_jobs, verbose=self.verbose,\n",
      "  File \"C:\\Users\\nacnu\\anaconda3\\envs\\learn-env\\lib\\site-packages\\joblib\\parallel.py\", line 1048, in __call__\n",
      "    if self.dispatch_one_batch(iterator):\n",
      "  File \"C:\\Users\\nacnu\\anaconda3\\envs\\learn-env\\lib\\site-packages\\joblib\\parallel.py\", line 866, in dispatch_one_batch\n",
      "    self._dispatch(tasks)\n",
      "  File \"C:\\Users\\nacnu\\anaconda3\\envs\\learn-env\\lib\\site-packages\\joblib\\parallel.py\", line 784, in _dispatch\n",
      "    job = self._backend.apply_async(batch, callback=cb)\n",
      "  File \"C:\\Users\\nacnu\\anaconda3\\envs\\learn-env\\lib\\site-packages\\joblib\\_parallel_backends.py\", line 208, in apply_async\n",
      "    result = ImmediateResult(func)\n",
      "  File \"C:\\Users\\nacnu\\anaconda3\\envs\\learn-env\\lib\\site-packages\\joblib\\_parallel_backends.py\", line 572, in __init__\n",
      "    self.results = batch()\n",
      "  File \"C:\\Users\\nacnu\\anaconda3\\envs\\learn-env\\lib\\site-packages\\joblib\\parallel.py\", line 262, in __call__\n",
      "    return [func(*args, **kwargs)\n",
      "  File \"C:\\Users\\nacnu\\anaconda3\\envs\\learn-env\\lib\\site-packages\\joblib\\parallel.py\", line 262, in <listcomp>\n",
      "    return [func(*args, **kwargs)\n",
      "  File \"C:\\Users\\nacnu\\anaconda3\\envs\\learn-env\\lib\\site-packages\\sklearn\\ensemble\\_forest.py\", line 168, in _parallel_build_trees\n",
      "    tree.fit(X, y, sample_weight=curr_sample_weight, check_input=False)\n",
      "  File \"C:\\Users\\nacnu\\anaconda3\\envs\\learn-env\\lib\\site-packages\\sklearn\\tree\\_classes.py\", line 890, in fit\n",
      "    super().fit(\n",
      "  File \"C:\\Users\\nacnu\\anaconda3\\envs\\learn-env\\lib\\site-packages\\sklearn\\tree\\_classes.py\", line 333, in fit\n",
      "    criterion = CRITERIA_CLF[self.criterion](self.n_outputs_,\n",
      "KeyError: 'log_loss'\n",
      "\n",
      "  warnings.warn(\"Estimator fit failed. The score on this train-test\"\n",
      "C:\\Users\\nacnu\\anaconda3\\envs\\learn-env\\lib\\site-packages\\sklearn\\model_selection\\_validation.py:548: FitFailedWarning: Estimator fit failed. The score on this train-test partition for these parameters will be set to nan. Details: \n",
      "Traceback (most recent call last):\n",
      "  File \"C:\\Users\\nacnu\\anaconda3\\envs\\learn-env\\lib\\site-packages\\sklearn\\model_selection\\_validation.py\", line 531, in _fit_and_score\n",
      "    estimator.fit(X_train, y_train, **fit_params)\n",
      "  File \"C:\\Users\\nacnu\\anaconda3\\envs\\learn-env\\lib\\site-packages\\sklearn\\pipeline.py\", line 335, in fit\n",
      "    self._final_estimator.fit(Xt, y, **fit_params_last_step)\n",
      "  File \"C:\\Users\\nacnu\\anaconda3\\envs\\learn-env\\lib\\site-packages\\sklearn\\ensemble\\_forest.py\", line 386, in fit\n",
      "    trees = Parallel(n_jobs=self.n_jobs, verbose=self.verbose,\n",
      "  File \"C:\\Users\\nacnu\\anaconda3\\envs\\learn-env\\lib\\site-packages\\joblib\\parallel.py\", line 1048, in __call__\n",
      "    if self.dispatch_one_batch(iterator):\n",
      "  File \"C:\\Users\\nacnu\\anaconda3\\envs\\learn-env\\lib\\site-packages\\joblib\\parallel.py\", line 866, in dispatch_one_batch\n",
      "    self._dispatch(tasks)\n",
      "  File \"C:\\Users\\nacnu\\anaconda3\\envs\\learn-env\\lib\\site-packages\\joblib\\parallel.py\", line 784, in _dispatch\n",
      "    job = self._backend.apply_async(batch, callback=cb)\n",
      "  File \"C:\\Users\\nacnu\\anaconda3\\envs\\learn-env\\lib\\site-packages\\joblib\\_parallel_backends.py\", line 208, in apply_async\n",
      "    result = ImmediateResult(func)\n",
      "  File \"C:\\Users\\nacnu\\anaconda3\\envs\\learn-env\\lib\\site-packages\\joblib\\_parallel_backends.py\", line 572, in __init__\n",
      "    self.results = batch()\n",
      "  File \"C:\\Users\\nacnu\\anaconda3\\envs\\learn-env\\lib\\site-packages\\joblib\\parallel.py\", line 262, in __call__\n",
      "    return [func(*args, **kwargs)\n",
      "  File \"C:\\Users\\nacnu\\anaconda3\\envs\\learn-env\\lib\\site-packages\\joblib\\parallel.py\", line 262, in <listcomp>\n",
      "    return [func(*args, **kwargs)\n",
      "  File \"C:\\Users\\nacnu\\anaconda3\\envs\\learn-env\\lib\\site-packages\\sklearn\\ensemble\\_forest.py\", line 168, in _parallel_build_trees\n",
      "    tree.fit(X, y, sample_weight=curr_sample_weight, check_input=False)\n",
      "  File \"C:\\Users\\nacnu\\anaconda3\\envs\\learn-env\\lib\\site-packages\\sklearn\\tree\\_classes.py\", line 890, in fit\n",
      "    super().fit(\n",
      "  File \"C:\\Users\\nacnu\\anaconda3\\envs\\learn-env\\lib\\site-packages\\sklearn\\tree\\_classes.py\", line 333, in fit\n",
      "    criterion = CRITERIA_CLF[self.criterion](self.n_outputs_,\n",
      "KeyError: 'log_loss'\n",
      "\n",
      "  warnings.warn(\"Estimator fit failed. The score on this train-test\"\n",
      "C:\\Users\\nacnu\\anaconda3\\envs\\learn-env\\lib\\site-packages\\sklearn\\model_selection\\_validation.py:548: FitFailedWarning: Estimator fit failed. The score on this train-test partition for these parameters will be set to nan. Details: \n",
      "Traceback (most recent call last):\n",
      "  File \"C:\\Users\\nacnu\\anaconda3\\envs\\learn-env\\lib\\site-packages\\sklearn\\model_selection\\_validation.py\", line 531, in _fit_and_score\n",
      "    estimator.fit(X_train, y_train, **fit_params)\n",
      "  File \"C:\\Users\\nacnu\\anaconda3\\envs\\learn-env\\lib\\site-packages\\sklearn\\pipeline.py\", line 335, in fit\n",
      "    self._final_estimator.fit(Xt, y, **fit_params_last_step)\n",
      "  File \"C:\\Users\\nacnu\\anaconda3\\envs\\learn-env\\lib\\site-packages\\sklearn\\ensemble\\_forest.py\", line 386, in fit\n",
      "    trees = Parallel(n_jobs=self.n_jobs, verbose=self.verbose,\n",
      "  File \"C:\\Users\\nacnu\\anaconda3\\envs\\learn-env\\lib\\site-packages\\joblib\\parallel.py\", line 1048, in __call__\n",
      "    if self.dispatch_one_batch(iterator):\n",
      "  File \"C:\\Users\\nacnu\\anaconda3\\envs\\learn-env\\lib\\site-packages\\joblib\\parallel.py\", line 866, in dispatch_one_batch\n",
      "    self._dispatch(tasks)\n",
      "  File \"C:\\Users\\nacnu\\anaconda3\\envs\\learn-env\\lib\\site-packages\\joblib\\parallel.py\", line 784, in _dispatch\n",
      "    job = self._backend.apply_async(batch, callback=cb)\n",
      "  File \"C:\\Users\\nacnu\\anaconda3\\envs\\learn-env\\lib\\site-packages\\joblib\\_parallel_backends.py\", line 208, in apply_async\n",
      "    result = ImmediateResult(func)\n",
      "  File \"C:\\Users\\nacnu\\anaconda3\\envs\\learn-env\\lib\\site-packages\\joblib\\_parallel_backends.py\", line 572, in __init__\n",
      "    self.results = batch()\n",
      "  File \"C:\\Users\\nacnu\\anaconda3\\envs\\learn-env\\lib\\site-packages\\joblib\\parallel.py\", line 262, in __call__\n",
      "    return [func(*args, **kwargs)\n",
      "  File \"C:\\Users\\nacnu\\anaconda3\\envs\\learn-env\\lib\\site-packages\\joblib\\parallel.py\", line 262, in <listcomp>\n",
      "    return [func(*args, **kwargs)\n",
      "  File \"C:\\Users\\nacnu\\anaconda3\\envs\\learn-env\\lib\\site-packages\\sklearn\\ensemble\\_forest.py\", line 168, in _parallel_build_trees\n",
      "    tree.fit(X, y, sample_weight=curr_sample_weight, check_input=False)\n",
      "  File \"C:\\Users\\nacnu\\anaconda3\\envs\\learn-env\\lib\\site-packages\\sklearn\\tree\\_classes.py\", line 890, in fit\n",
      "    super().fit(\n",
      "  File \"C:\\Users\\nacnu\\anaconda3\\envs\\learn-env\\lib\\site-packages\\sklearn\\tree\\_classes.py\", line 333, in fit\n",
      "    criterion = CRITERIA_CLF[self.criterion](self.n_outputs_,\n",
      "KeyError: 'log_loss'\n",
      "\n",
      "  warnings.warn(\"Estimator fit failed. The score on this train-test\"\n"
     ]
    },
    {
     "name": "stderr",
     "output_type": "stream",
     "text": [
      "C:\\Users\\nacnu\\anaconda3\\envs\\learn-env\\lib\\site-packages\\sklearn\\model_selection\\_validation.py:548: FitFailedWarning: Estimator fit failed. The score on this train-test partition for these parameters will be set to nan. Details: \n",
      "Traceback (most recent call last):\n",
      "  File \"C:\\Users\\nacnu\\anaconda3\\envs\\learn-env\\lib\\site-packages\\sklearn\\model_selection\\_validation.py\", line 531, in _fit_and_score\n",
      "    estimator.fit(X_train, y_train, **fit_params)\n",
      "  File \"C:\\Users\\nacnu\\anaconda3\\envs\\learn-env\\lib\\site-packages\\sklearn\\pipeline.py\", line 335, in fit\n",
      "    self._final_estimator.fit(Xt, y, **fit_params_last_step)\n",
      "  File \"C:\\Users\\nacnu\\anaconda3\\envs\\learn-env\\lib\\site-packages\\sklearn\\ensemble\\_forest.py\", line 386, in fit\n",
      "    trees = Parallel(n_jobs=self.n_jobs, verbose=self.verbose,\n",
      "  File \"C:\\Users\\nacnu\\anaconda3\\envs\\learn-env\\lib\\site-packages\\joblib\\parallel.py\", line 1048, in __call__\n",
      "    if self.dispatch_one_batch(iterator):\n",
      "  File \"C:\\Users\\nacnu\\anaconda3\\envs\\learn-env\\lib\\site-packages\\joblib\\parallel.py\", line 866, in dispatch_one_batch\n",
      "    self._dispatch(tasks)\n",
      "  File \"C:\\Users\\nacnu\\anaconda3\\envs\\learn-env\\lib\\site-packages\\joblib\\parallel.py\", line 784, in _dispatch\n",
      "    job = self._backend.apply_async(batch, callback=cb)\n",
      "  File \"C:\\Users\\nacnu\\anaconda3\\envs\\learn-env\\lib\\site-packages\\joblib\\_parallel_backends.py\", line 208, in apply_async\n",
      "    result = ImmediateResult(func)\n",
      "  File \"C:\\Users\\nacnu\\anaconda3\\envs\\learn-env\\lib\\site-packages\\joblib\\_parallel_backends.py\", line 572, in __init__\n",
      "    self.results = batch()\n",
      "  File \"C:\\Users\\nacnu\\anaconda3\\envs\\learn-env\\lib\\site-packages\\joblib\\parallel.py\", line 262, in __call__\n",
      "    return [func(*args, **kwargs)\n",
      "  File \"C:\\Users\\nacnu\\anaconda3\\envs\\learn-env\\lib\\site-packages\\joblib\\parallel.py\", line 262, in <listcomp>\n",
      "    return [func(*args, **kwargs)\n",
      "  File \"C:\\Users\\nacnu\\anaconda3\\envs\\learn-env\\lib\\site-packages\\sklearn\\ensemble\\_forest.py\", line 168, in _parallel_build_trees\n",
      "    tree.fit(X, y, sample_weight=curr_sample_weight, check_input=False)\n",
      "  File \"C:\\Users\\nacnu\\anaconda3\\envs\\learn-env\\lib\\site-packages\\sklearn\\tree\\_classes.py\", line 890, in fit\n",
      "    super().fit(\n",
      "  File \"C:\\Users\\nacnu\\anaconda3\\envs\\learn-env\\lib\\site-packages\\sklearn\\tree\\_classes.py\", line 333, in fit\n",
      "    criterion = CRITERIA_CLF[self.criterion](self.n_outputs_,\n",
      "KeyError: 'log_loss'\n",
      "\n",
      "  warnings.warn(\"Estimator fit failed. The score on this train-test\"\n",
      "C:\\Users\\nacnu\\anaconda3\\envs\\learn-env\\lib\\site-packages\\sklearn\\model_selection\\_validation.py:548: FitFailedWarning: Estimator fit failed. The score on this train-test partition for these parameters will be set to nan. Details: \n",
      "Traceback (most recent call last):\n",
      "  File \"C:\\Users\\nacnu\\anaconda3\\envs\\learn-env\\lib\\site-packages\\sklearn\\model_selection\\_validation.py\", line 531, in _fit_and_score\n",
      "    estimator.fit(X_train, y_train, **fit_params)\n",
      "  File \"C:\\Users\\nacnu\\anaconda3\\envs\\learn-env\\lib\\site-packages\\sklearn\\pipeline.py\", line 335, in fit\n",
      "    self._final_estimator.fit(Xt, y, **fit_params_last_step)\n",
      "  File \"C:\\Users\\nacnu\\anaconda3\\envs\\learn-env\\lib\\site-packages\\sklearn\\ensemble\\_forest.py\", line 386, in fit\n",
      "    trees = Parallel(n_jobs=self.n_jobs, verbose=self.verbose,\n",
      "  File \"C:\\Users\\nacnu\\anaconda3\\envs\\learn-env\\lib\\site-packages\\joblib\\parallel.py\", line 1048, in __call__\n",
      "    if self.dispatch_one_batch(iterator):\n",
      "  File \"C:\\Users\\nacnu\\anaconda3\\envs\\learn-env\\lib\\site-packages\\joblib\\parallel.py\", line 866, in dispatch_one_batch\n",
      "    self._dispatch(tasks)\n",
      "  File \"C:\\Users\\nacnu\\anaconda3\\envs\\learn-env\\lib\\site-packages\\joblib\\parallel.py\", line 784, in _dispatch\n",
      "    job = self._backend.apply_async(batch, callback=cb)\n",
      "  File \"C:\\Users\\nacnu\\anaconda3\\envs\\learn-env\\lib\\site-packages\\joblib\\_parallel_backends.py\", line 208, in apply_async\n",
      "    result = ImmediateResult(func)\n",
      "  File \"C:\\Users\\nacnu\\anaconda3\\envs\\learn-env\\lib\\site-packages\\joblib\\_parallel_backends.py\", line 572, in __init__\n",
      "    self.results = batch()\n",
      "  File \"C:\\Users\\nacnu\\anaconda3\\envs\\learn-env\\lib\\site-packages\\joblib\\parallel.py\", line 262, in __call__\n",
      "    return [func(*args, **kwargs)\n",
      "  File \"C:\\Users\\nacnu\\anaconda3\\envs\\learn-env\\lib\\site-packages\\joblib\\parallel.py\", line 262, in <listcomp>\n",
      "    return [func(*args, **kwargs)\n",
      "  File \"C:\\Users\\nacnu\\anaconda3\\envs\\learn-env\\lib\\site-packages\\sklearn\\ensemble\\_forest.py\", line 168, in _parallel_build_trees\n",
      "    tree.fit(X, y, sample_weight=curr_sample_weight, check_input=False)\n",
      "  File \"C:\\Users\\nacnu\\anaconda3\\envs\\learn-env\\lib\\site-packages\\sklearn\\tree\\_classes.py\", line 890, in fit\n",
      "    super().fit(\n",
      "  File \"C:\\Users\\nacnu\\anaconda3\\envs\\learn-env\\lib\\site-packages\\sklearn\\tree\\_classes.py\", line 333, in fit\n",
      "    criterion = CRITERIA_CLF[self.criterion](self.n_outputs_,\n",
      "KeyError: 'log_loss'\n",
      "\n",
      "  warnings.warn(\"Estimator fit failed. The score on this train-test\"\n",
      "C:\\Users\\nacnu\\anaconda3\\envs\\learn-env\\lib\\site-packages\\sklearn\\model_selection\\_validation.py:548: FitFailedWarning: Estimator fit failed. The score on this train-test partition for these parameters will be set to nan. Details: \n",
      "Traceback (most recent call last):\n",
      "  File \"C:\\Users\\nacnu\\anaconda3\\envs\\learn-env\\lib\\site-packages\\sklearn\\model_selection\\_validation.py\", line 531, in _fit_and_score\n",
      "    estimator.fit(X_train, y_train, **fit_params)\n",
      "  File \"C:\\Users\\nacnu\\anaconda3\\envs\\learn-env\\lib\\site-packages\\sklearn\\pipeline.py\", line 335, in fit\n",
      "    self._final_estimator.fit(Xt, y, **fit_params_last_step)\n",
      "  File \"C:\\Users\\nacnu\\anaconda3\\envs\\learn-env\\lib\\site-packages\\sklearn\\ensemble\\_forest.py\", line 386, in fit\n",
      "    trees = Parallel(n_jobs=self.n_jobs, verbose=self.verbose,\n",
      "  File \"C:\\Users\\nacnu\\anaconda3\\envs\\learn-env\\lib\\site-packages\\joblib\\parallel.py\", line 1048, in __call__\n",
      "    if self.dispatch_one_batch(iterator):\n",
      "  File \"C:\\Users\\nacnu\\anaconda3\\envs\\learn-env\\lib\\site-packages\\joblib\\parallel.py\", line 866, in dispatch_one_batch\n",
      "    self._dispatch(tasks)\n",
      "  File \"C:\\Users\\nacnu\\anaconda3\\envs\\learn-env\\lib\\site-packages\\joblib\\parallel.py\", line 784, in _dispatch\n",
      "    job = self._backend.apply_async(batch, callback=cb)\n",
      "  File \"C:\\Users\\nacnu\\anaconda3\\envs\\learn-env\\lib\\site-packages\\joblib\\_parallel_backends.py\", line 208, in apply_async\n",
      "    result = ImmediateResult(func)\n",
      "  File \"C:\\Users\\nacnu\\anaconda3\\envs\\learn-env\\lib\\site-packages\\joblib\\_parallel_backends.py\", line 572, in __init__\n",
      "    self.results = batch()\n",
      "  File \"C:\\Users\\nacnu\\anaconda3\\envs\\learn-env\\lib\\site-packages\\joblib\\parallel.py\", line 262, in __call__\n",
      "    return [func(*args, **kwargs)\n",
      "  File \"C:\\Users\\nacnu\\anaconda3\\envs\\learn-env\\lib\\site-packages\\joblib\\parallel.py\", line 262, in <listcomp>\n",
      "    return [func(*args, **kwargs)\n",
      "  File \"C:\\Users\\nacnu\\anaconda3\\envs\\learn-env\\lib\\site-packages\\sklearn\\ensemble\\_forest.py\", line 168, in _parallel_build_trees\n",
      "    tree.fit(X, y, sample_weight=curr_sample_weight, check_input=False)\n",
      "  File \"C:\\Users\\nacnu\\anaconda3\\envs\\learn-env\\lib\\site-packages\\sklearn\\tree\\_classes.py\", line 890, in fit\n",
      "    super().fit(\n",
      "  File \"C:\\Users\\nacnu\\anaconda3\\envs\\learn-env\\lib\\site-packages\\sklearn\\tree\\_classes.py\", line 333, in fit\n",
      "    criterion = CRITERIA_CLF[self.criterion](self.n_outputs_,\n",
      "KeyError: 'log_loss'\n",
      "\n",
      "  warnings.warn(\"Estimator fit failed. The score on this train-test\"\n",
      "C:\\Users\\nacnu\\anaconda3\\envs\\learn-env\\lib\\site-packages\\sklearn\\model_selection\\_validation.py:548: FitFailedWarning: Estimator fit failed. The score on this train-test partition for these parameters will be set to nan. Details: \n",
      "Traceback (most recent call last):\n",
      "  File \"C:\\Users\\nacnu\\anaconda3\\envs\\learn-env\\lib\\site-packages\\sklearn\\model_selection\\_validation.py\", line 531, in _fit_and_score\n",
      "    estimator.fit(X_train, y_train, **fit_params)\n",
      "  File \"C:\\Users\\nacnu\\anaconda3\\envs\\learn-env\\lib\\site-packages\\sklearn\\pipeline.py\", line 335, in fit\n",
      "    self._final_estimator.fit(Xt, y, **fit_params_last_step)\n",
      "  File \"C:\\Users\\nacnu\\anaconda3\\envs\\learn-env\\lib\\site-packages\\sklearn\\ensemble\\_forest.py\", line 386, in fit\n",
      "    trees = Parallel(n_jobs=self.n_jobs, verbose=self.verbose,\n",
      "  File \"C:\\Users\\nacnu\\anaconda3\\envs\\learn-env\\lib\\site-packages\\joblib\\parallel.py\", line 1048, in __call__\n",
      "    if self.dispatch_one_batch(iterator):\n",
      "  File \"C:\\Users\\nacnu\\anaconda3\\envs\\learn-env\\lib\\site-packages\\joblib\\parallel.py\", line 866, in dispatch_one_batch\n",
      "    self._dispatch(tasks)\n",
      "  File \"C:\\Users\\nacnu\\anaconda3\\envs\\learn-env\\lib\\site-packages\\joblib\\parallel.py\", line 784, in _dispatch\n",
      "    job = self._backend.apply_async(batch, callback=cb)\n",
      "  File \"C:\\Users\\nacnu\\anaconda3\\envs\\learn-env\\lib\\site-packages\\joblib\\_parallel_backends.py\", line 208, in apply_async\n",
      "    result = ImmediateResult(func)\n",
      "  File \"C:\\Users\\nacnu\\anaconda3\\envs\\learn-env\\lib\\site-packages\\joblib\\_parallel_backends.py\", line 572, in __init__\n",
      "    self.results = batch()\n",
      "  File \"C:\\Users\\nacnu\\anaconda3\\envs\\learn-env\\lib\\site-packages\\joblib\\parallel.py\", line 262, in __call__\n",
      "    return [func(*args, **kwargs)\n",
      "  File \"C:\\Users\\nacnu\\anaconda3\\envs\\learn-env\\lib\\site-packages\\joblib\\parallel.py\", line 262, in <listcomp>\n",
      "    return [func(*args, **kwargs)\n",
      "  File \"C:\\Users\\nacnu\\anaconda3\\envs\\learn-env\\lib\\site-packages\\sklearn\\ensemble\\_forest.py\", line 168, in _parallel_build_trees\n",
      "    tree.fit(X, y, sample_weight=curr_sample_weight, check_input=False)\n",
      "  File \"C:\\Users\\nacnu\\anaconda3\\envs\\learn-env\\lib\\site-packages\\sklearn\\tree\\_classes.py\", line 890, in fit\n",
      "    super().fit(\n",
      "  File \"C:\\Users\\nacnu\\anaconda3\\envs\\learn-env\\lib\\site-packages\\sklearn\\tree\\_classes.py\", line 333, in fit\n",
      "    criterion = CRITERIA_CLF[self.criterion](self.n_outputs_,\n",
      "KeyError: 'log_loss'\n",
      "\n",
      "  warnings.warn(\"Estimator fit failed. The score on this train-test\"\n"
     ]
    },
    {
     "name": "stderr",
     "output_type": "stream",
     "text": [
      "C:\\Users\\nacnu\\anaconda3\\envs\\learn-env\\lib\\site-packages\\sklearn\\model_selection\\_validation.py:548: FitFailedWarning: Estimator fit failed. The score on this train-test partition for these parameters will be set to nan. Details: \n",
      "Traceback (most recent call last):\n",
      "  File \"C:\\Users\\nacnu\\anaconda3\\envs\\learn-env\\lib\\site-packages\\sklearn\\model_selection\\_validation.py\", line 531, in _fit_and_score\n",
      "    estimator.fit(X_train, y_train, **fit_params)\n",
      "  File \"C:\\Users\\nacnu\\anaconda3\\envs\\learn-env\\lib\\site-packages\\sklearn\\pipeline.py\", line 335, in fit\n",
      "    self._final_estimator.fit(Xt, y, **fit_params_last_step)\n",
      "  File \"C:\\Users\\nacnu\\anaconda3\\envs\\learn-env\\lib\\site-packages\\sklearn\\ensemble\\_forest.py\", line 386, in fit\n",
      "    trees = Parallel(n_jobs=self.n_jobs, verbose=self.verbose,\n",
      "  File \"C:\\Users\\nacnu\\anaconda3\\envs\\learn-env\\lib\\site-packages\\joblib\\parallel.py\", line 1048, in __call__\n",
      "    if self.dispatch_one_batch(iterator):\n",
      "  File \"C:\\Users\\nacnu\\anaconda3\\envs\\learn-env\\lib\\site-packages\\joblib\\parallel.py\", line 866, in dispatch_one_batch\n",
      "    self._dispatch(tasks)\n",
      "  File \"C:\\Users\\nacnu\\anaconda3\\envs\\learn-env\\lib\\site-packages\\joblib\\parallel.py\", line 784, in _dispatch\n",
      "    job = self._backend.apply_async(batch, callback=cb)\n",
      "  File \"C:\\Users\\nacnu\\anaconda3\\envs\\learn-env\\lib\\site-packages\\joblib\\_parallel_backends.py\", line 208, in apply_async\n",
      "    result = ImmediateResult(func)\n",
      "  File \"C:\\Users\\nacnu\\anaconda3\\envs\\learn-env\\lib\\site-packages\\joblib\\_parallel_backends.py\", line 572, in __init__\n",
      "    self.results = batch()\n",
      "  File \"C:\\Users\\nacnu\\anaconda3\\envs\\learn-env\\lib\\site-packages\\joblib\\parallel.py\", line 262, in __call__\n",
      "    return [func(*args, **kwargs)\n",
      "  File \"C:\\Users\\nacnu\\anaconda3\\envs\\learn-env\\lib\\site-packages\\joblib\\parallel.py\", line 262, in <listcomp>\n",
      "    return [func(*args, **kwargs)\n",
      "  File \"C:\\Users\\nacnu\\anaconda3\\envs\\learn-env\\lib\\site-packages\\sklearn\\ensemble\\_forest.py\", line 168, in _parallel_build_trees\n",
      "    tree.fit(X, y, sample_weight=curr_sample_weight, check_input=False)\n",
      "  File \"C:\\Users\\nacnu\\anaconda3\\envs\\learn-env\\lib\\site-packages\\sklearn\\tree\\_classes.py\", line 890, in fit\n",
      "    super().fit(\n",
      "  File \"C:\\Users\\nacnu\\anaconda3\\envs\\learn-env\\lib\\site-packages\\sklearn\\tree\\_classes.py\", line 333, in fit\n",
      "    criterion = CRITERIA_CLF[self.criterion](self.n_outputs_,\n",
      "KeyError: 'log_loss'\n",
      "\n",
      "  warnings.warn(\"Estimator fit failed. The score on this train-test\"\n",
      "[Parallel(n_jobs=1)]: Done  75 out of  75 | elapsed:  2.8min finished\n"
     ]
    },
    {
     "data": {
      "text/plain": [
       "GridSearchCV(cv=5,\n",
       "             estimator=Pipeline(steps=[('ColTrans',\n",
       "                                        ColumnTransformer(remainder='passthrough',\n",
       "                                                          transformers=[('num_pipe',\n",
       "                                                                         Pipeline(steps=[('ss',\n",
       "                                                                                          StandardScaler())]),\n",
       "                                                                         <sklearn.compose._column_transformer.make_column_selector object at 0x0000027F20CD4940>),\n",
       "                                                                        ('cat_pipe',\n",
       "                                                                         Pipeline(steps=[('cat_impute',\n",
       "                                                                                          SimpleImputer(add_indicator=True,\n",
       "                                                                                                        strategy='most_frequent')),\n",
       "                                                                                         ('ohe',\n",
       "                                                                                          OneHotEncoder(handle_unknown='ignore',\n",
       "                                                                                                        sparse=False))]),\n",
       "                                                                         <sklearn.compose._column_transformer.make_column_selector object at 0x0000027F20CD4A00>)])),\n",
       "                                       ('rf',\n",
       "                                        RandomForestClassifier(random_state=42))]),\n",
       "             param_grid={'rf__criterion': ['gini', 'entropy', 'log_loss'],\n",
       "                         'rf__max_depth': [4, 8, 16, 32, None]},\n",
       "             verbose=1)"
      ]
     },
     "execution_count": 127,
     "metadata": {},
     "output_type": "execute_result"
    }
   ],
   "source": [
    "rf_params = {\n",
    "    'rf__criterion':[\"gini\", \"entropy\", 'log_loss'],\n",
    "    'rf__max_depth':[4, 8, 16, 32, None]\n",
    "}\n",
    "rf_reg_gs = GridSearchCV(estimator=rf_model, param_grid=rf_params, cv=5, verbose=1)\n",
    "rf_reg_gs.fit(X_train, y_train)"
   ]
  },
  {
   "cell_type": "code",
   "execution_count": 128,
   "metadata": {
    "ExecuteTime": {
     "end_time": "2023-01-04T20:15:00.786137Z",
     "start_time": "2023-01-04T20:15:00.777135Z"
    },
    "hidden": true
   },
   "outputs": [
    {
     "data": {
      "text/plain": [
       "{'rf__criterion': 'entropy', 'rf__max_depth': 32}"
      ]
     },
     "execution_count": 128,
     "metadata": {},
     "output_type": "execute_result"
    }
   ],
   "source": [
    "rf_reg_gs.best_params_"
   ]
  },
  {
   "cell_type": "code",
   "execution_count": 129,
   "metadata": {
    "ExecuteTime": {
     "end_time": "2023-01-04T20:15:01.571084Z",
     "start_time": "2023-01-04T20:15:01.554549Z"
    },
    "hidden": true
   },
   "outputs": [
    {
     "data": {
      "text/plain": [
       "0.8185185185185185"
      ]
     },
     "execution_count": 129,
     "metadata": {},
     "output_type": "execute_result"
    }
   ],
   "source": [
    "rf_reg_gs.best_score_"
   ]
  },
  {
   "cell_type": "code",
   "execution_count": 130,
   "metadata": {
    "ExecuteTime": {
     "end_time": "2023-01-04T20:15:02.604746Z",
     "start_time": "2023-01-04T20:15:02.377557Z"
    },
    "hidden": true
   },
   "outputs": [
    {
     "data": {
      "text/plain": [
       "0.8205387205387206"
      ]
     },
     "execution_count": 130,
     "metadata": {},
     "output_type": "execute_result"
    }
   ],
   "source": [
    "rf_reg_gs.best_estimator_.score(X_test,y_test)"
   ]
  },
  {
   "cell_type": "markdown",
   "metadata": {
    "heading_collapsed": true,
    "hidden": true
   },
   "source": [
    "### Second Iteration of GridSearch"
   ]
  },
  {
   "cell_type": "markdown",
   "metadata": {
    "hidden": true
   },
   "source": [
    "After completing one GridSearch, I have decided to stick with the criterion: `entropy`. The best max depth is 32 which could be far off from the `None` category. I will adjust the max depth closer to 32 to see how it compares. I will also look to adjust `max_features` to attempt to tune the forest further.\n",
    "\n",
    "Results of GridSearch indicate:\n",
    "\n",
    "   - `criterion` is `entropy`\n",
    "   - `max_depth` is 32\n",
    "   - `max_features` is `log2`\n",
    "   \n",
    "   \n",
    "I will use these features moving forward."
   ]
  },
  {
   "cell_type": "code",
   "execution_count": 131,
   "metadata": {
    "ExecuteTime": {
     "end_time": "2023-01-04T20:35:50.763323Z",
     "start_time": "2023-01-04T20:17:30.208159Z"
    },
    "hidden": true
   },
   "outputs": [
    {
     "name": "stdout",
     "output_type": "stream",
     "text": [
      "Fitting 5 folds for each of 20 candidates, totalling 100 fits\n"
     ]
    },
    {
     "name": "stderr",
     "output_type": "stream",
     "text": [
      "[Parallel(n_jobs=1)]: Using backend SequentialBackend with 1 concurrent workers.\n",
      "[Parallel(n_jobs=1)]: Done 100 out of 100 | elapsed: 18.3min finished\n"
     ]
    },
    {
     "data": {
      "text/plain": [
       "GridSearchCV(cv=5,\n",
       "             estimator=Pipeline(steps=[('ColTrans',\n",
       "                                        ColumnTransformer(remainder='passthrough',\n",
       "                                                          transformers=[('num_pipe',\n",
       "                                                                         Pipeline(steps=[('ss',\n",
       "                                                                                          StandardScaler())]),\n",
       "                                                                         <sklearn.compose._column_transformer.make_column_selector object at 0x0000027F20CD4940>),\n",
       "                                                                        ('cat_pipe',\n",
       "                                                                         Pipeline(steps=[('cat_impute',\n",
       "                                                                                          SimpleImputer(add_indicator=True,\n",
       "                                                                                                        strategy='most_frequent')),\n",
       "                                                                                         ('ohe',\n",
       "                                                                                          OneHotEncoder(handle_unknown='ignore',\n",
       "                                                                                                        sparse=False))]),\n",
       "                                                                         <sklearn.compose._column_transformer.make_column_selector object at 0x0000027F20CD4A00>)])),\n",
       "                                       ('rf',\n",
       "                                        RandomForestClassifier(random_state=42))]),\n",
       "             param_grid={'rf__criterion': ['entropy'],\n",
       "                         'rf__max_depth': [31, 32, 33, 34, 35],\n",
       "                         'rf__max_features': ['auto', 'log2', None, 0.5]},\n",
       "             verbose=1)"
      ]
     },
     "execution_count": 131,
     "metadata": {},
     "output_type": "execute_result"
    }
   ],
   "source": [
    "rf_params2 = {\n",
    "    'rf__criterion':[\"entropy\"],\n",
    "    'rf__max_depth':[31, 32, 33, 34, 35],\n",
    "    'rf__max_features': ['auto', 'log2', None, .5]\n",
    "}\n",
    "rf_reg_gs2 = GridSearchCV(estimator=rf_model, param_grid=rf_params2, cv=5, verbose=1)\n",
    "rf_reg_gs2.fit(X_train, y_train)"
   ]
  },
  {
   "cell_type": "code",
   "execution_count": 132,
   "metadata": {
    "ExecuteTime": {
     "end_time": "2023-01-04T20:37:21.525928Z",
     "start_time": "2023-01-04T20:37:21.517928Z"
    },
    "hidden": true
   },
   "outputs": [
    {
     "data": {
      "text/plain": [
       "{'rf__criterion': 'entropy', 'rf__max_depth': 32, 'rf__max_features': 'log2'}"
      ]
     },
     "execution_count": 132,
     "metadata": {},
     "output_type": "execute_result"
    }
   ],
   "source": [
    "rf_reg_gs2.best_params_"
   ]
  },
  {
   "cell_type": "code",
   "execution_count": 133,
   "metadata": {
    "ExecuteTime": {
     "end_time": "2023-01-04T20:37:24.591298Z",
     "start_time": "2023-01-04T20:37:24.573652Z"
    },
    "hidden": true
   },
   "outputs": [
    {
     "data": {
      "text/plain": [
       "0.8200000000000001"
      ]
     },
     "execution_count": 133,
     "metadata": {},
     "output_type": "execute_result"
    }
   ],
   "source": [
    "rf_reg_gs2.best_score_"
   ]
  },
  {
   "cell_type": "code",
   "execution_count": 134,
   "metadata": {
    "ExecuteTime": {
     "end_time": "2023-01-04T20:37:25.808307Z",
     "start_time": "2023-01-04T20:37:25.581938Z"
    },
    "hidden": true
   },
   "outputs": [
    {
     "data": {
      "text/plain": [
       "0.819057239057239"
      ]
     },
     "execution_count": 134,
     "metadata": {},
     "output_type": "execute_result"
    }
   ],
   "source": [
    "rf_reg_gs2.best_estimator_.score(X_test,y_test)"
   ]
  },
  {
   "cell_type": "markdown",
   "metadata": {
    "hidden": true
   },
   "source": [
    "### Random Forest Final Model"
   ]
  },
  {
   "cell_type": "markdown",
   "metadata": {
    "hidden": true
   },
   "source": [
    "The Final Random Forest Model does not change much from the baseline decision tree model. The main area of improvement is the ROC-AUC score being raised from 89.6% to 89.9%.\n",
    "\n",
    "The model is still overfit on the training data as well. Given more time, this could use additional tweaking."
   ]
  },
  {
   "cell_type": "code",
   "execution_count": 135,
   "metadata": {
    "ExecuteTime": {
     "end_time": "2023-01-04T20:40:49.050864Z",
     "start_time": "2023-01-04T20:40:49.042887Z"
    },
    "hidden": true
   },
   "outputs": [],
   "source": [
    "rf_model_final = Pipeline([\n",
    "    ('ColTrans', ColTrans),\n",
    "    ('rf', RandomForestClassifier(criterion='entropy', max_depth=32, \n",
    "                                  max_features='log2', random_state=42))\n",
    "])"
   ]
  },
  {
   "cell_type": "code",
   "execution_count": 136,
   "metadata": {
    "ExecuteTime": {
     "end_time": "2023-01-04T20:41:06.629794Z",
     "start_time": "2023-01-04T20:41:02.114556Z"
    },
    "hidden": true
   },
   "outputs": [],
   "source": [
    "start1 = perf_counter()\n",
    "rf_model_final.fit(X_train, y_train);\n",
    "end1 = perf_counter()"
   ]
  },
  {
   "cell_type": "code",
   "execution_count": 137,
   "metadata": {
    "ExecuteTime": {
     "end_time": "2023-01-04T20:41:20.671477Z",
     "start_time": "2023-01-04T20:41:20.665858Z"
    },
    "hidden": true
   },
   "outputs": [],
   "source": [
    "rf_pipe_final = ModelRuns(rf_model_final, 'rf', X_train, y_train)"
   ]
  },
  {
   "cell_type": "code",
   "execution_count": 138,
   "metadata": {
    "ExecuteTime": {
     "end_time": "2023-01-04T20:41:38.356897Z",
     "start_time": "2023-01-04T20:41:35.665920Z"
    },
    "hidden": true
   },
   "outputs": [
    {
     "name": "stdout",
     "output_type": "stream",
     "text": [
      "Train Report: \n",
      "              precision    recall  f1-score   support\n",
      "\n",
      "           0       0.99      1.00      0.99     24161\n",
      "           1       1.00      0.98      0.99     20389\n",
      "\n",
      "    accuracy                           0.99     44550\n",
      "   macro avg       0.99      0.99      0.99     44550\n",
      "weighted avg       0.99      0.99      0.99     44550\n",
      "\n",
      "AUC-ROC Score:0.9989631522846855\n",
      "\n",
      "Test Report: \n",
      "              precision    recall  f1-score   support\n",
      "\n",
      "           0       0.82      0.86      0.84      8098\n",
      "           1       0.82      0.77      0.79      6752\n",
      "\n",
      "    accuracy                           0.82     14850\n",
      "   macro avg       0.82      0.81      0.82     14850\n",
      "weighted avg       0.82      0.82      0.82     14850\n",
      "\n",
      "AUC-ROC Score:0.8993109365837215\n"
     ]
    },
    {
     "data": {
      "image/png": "[encoded data removed]",
      "text/plain": [
       "<Figure size 432x288 with 2 Axes>"
      ]
     },
     "metadata": {
      "needs_background": "light"
     },
     "output_type": "display_data"
    },
    {
     "data": {
      "image/png": "[encoded data removed]",
      "text/plain": [
       "<Figure size 432x288 with 2 Axes>"
      ]
     },
     "metadata": {
      "needs_background": "light"
     },
     "output_type": "display_data"
    }
   ],
   "source": [
    "start2 = perf_counter()\n",
    "rf_pipe_final.run_all(X_train_run=X_train, X_test_run=X_test, y_train_run=y_train, y_test_run=y_test, train_results=True);\n",
    "end2 = perf_counter()"
   ]
  },
  {
   "cell_type": "code",
   "execution_count": null,
   "metadata": {
    "hidden": true
   },
   "outputs": [],
   "source": [
    "rf_time = (end1-start1 + end2 - start2)\n",
    "time_dic['rf'] = rf_time"
   ]
  },
  {
   "cell_type": "markdown",
   "metadata": {
    "heading_collapsed": true
   },
   "source": [
    "## C-Support Vector Classification (SVC)"
   ]
  },
  {
   "cell_type": "markdown",
   "metadata": {
    "hidden": true
   },
   "source": [
    "This model takes a long time to run (over 20 minutes) and gives relatively similar results when compared to other models. For the train data, the accuracy is 80% and ROC-AUC score is 88%. For the test data, the accuracy is 79% and ROC-AUC score is 86%. \n",
    "\n",
    "The accuracy and ROC-AUC scores line up relatively well between train and test data indicating that there might be a slight overfitting but not significant ooverfitting.\n",
    "\n",
    "Since the model takes so long to run and is relatively well fit, I will not be adjusting any of the hyperparameters of this model."
   ]
  },
  {
   "cell_type": "code",
   "execution_count": 75,
   "metadata": {
    "ExecuteTime": {
     "end_time": "2023-01-04T18:28:58.320980Z",
     "start_time": "2023-01-04T18:28:58.304999Z"
    },
    "hidden": true
   },
   "outputs": [],
   "source": [
    "SVC_model = Pipeline([\n",
    "    ('ColTrans', ColTrans),\n",
    "    ('SVC', SVC(probability=True, random_state=42))\n",
    "])"
   ]
  },
  {
   "cell_type": "code",
   "execution_count": 76,
   "metadata": {
    "ExecuteTime": {
     "end_time": "2023-01-04T18:45:17.988152Z",
     "start_time": "2023-01-04T18:28:58.322006Z"
    },
    "hidden": true
   },
   "outputs": [],
   "source": [
    "start1 = perf_counter()\n",
    "SVC_model.fit(X_train, y_train);\n",
    "end1 = perf_counter()"
   ]
  },
  {
   "cell_type": "code",
   "execution_count": 77,
   "metadata": {
    "ExecuteTime": {
     "end_time": "2023-01-04T18:45:18.003574Z",
     "start_time": "2023-01-04T18:45:17.989150Z"
    },
    "hidden": true
   },
   "outputs": [],
   "source": [
    "SVC_pipe = ModelRuns(SVC_model, 'svc', X_train, y_train)"
   ]
  },
  {
   "cell_type": "code",
   "execution_count": 78,
   "metadata": {
    "ExecuteTime": {
     "end_time": "2023-01-04T18:50:08.204406Z",
     "start_time": "2023-01-04T18:45:18.004574Z"
    },
    "hidden": true
   },
   "outputs": [
    {
     "name": "stdout",
     "output_type": "stream",
     "text": [
      "Train Report: \n",
      "              precision    recall  f1-score   support\n",
      "\n",
      "           0       0.77      0.91      0.83     24161\n",
      "           1       0.86      0.68      0.76     20389\n",
      "\n",
      "    accuracy                           0.80     44550\n",
      "   macro avg       0.81      0.79      0.80     44550\n",
      "weighted avg       0.81      0.80      0.80     44550\n",
      "\n",
      "AUC-ROC Score:0.8771082051385434\n",
      "\n",
      "Test Report: \n",
      "              precision    recall  f1-score   support\n",
      "\n",
      "           0       0.76      0.89      0.82      8098\n",
      "           1       0.84      0.66      0.74      6752\n",
      "\n",
      "    accuracy                           0.79     14850\n",
      "   macro avg       0.80      0.78      0.78     14850\n",
      "weighted avg       0.79      0.79      0.78     14850\n",
      "\n",
      "AUC-ROC Score:0.8589883798322445\n"
     ]
    },
    {
     "data": {
      "image/png": "[encoded data removed]",
      "text/plain": [
       "<Figure size 432x288 with 2 Axes>"
      ]
     },
     "metadata": {
      "needs_background": "light"
     },
     "output_type": "display_data"
    },
    {
     "data": {
      "image/png": "[encoded data removed]",
      "text/plain": [
       "<Figure size 432x288 with 2 Axes>"
      ]
     },
     "metadata": {
      "needs_background": "light"
     },
     "output_type": "display_data"
    }
   ],
   "source": [
    "start2 = perf_counter()\n",
    "SVC_pipe.run_all(X_train_run=X_train, X_test_run=X_test, y_train_run=y_train, y_test_run=y_test, train_results=True);\n",
    "end2 = perf_counter()"
   ]
  },
  {
   "cell_type": "code",
   "execution_count": null,
   "metadata": {
    "hidden": true
   },
   "outputs": [],
   "source": [
    "svc_time = (end1-start1 + end2 - start2)\n",
    "time_dic['SVC'] = svc_time"
   ]
  },
  {
   "cell_type": "markdown",
   "metadata": {
    "heading_collapsed": true
   },
   "source": [
    "## Nu-Support Vector Classification (NuSVC)"
   ]
  },
  {
   "cell_type": "markdown",
   "metadata": {
    "hidden": true
   },
   "source": [
    "This model takes a long time to run (over 30 minutes) and gives relatively similar results when compared to other models. For the train data, the accuracy is 80% and ROC-AUC score is 88%. For the test data, the accuracy is 79% and ROC-AUC score is 86%. \n",
    "\n",
    "The accuracy and ROC-AUC scores line up relatively well between train and test data indicating that there might be a slight overfitting but not significant ooverfitting.\n",
    "\n",
    "Since the model takes so long to run and is relatively well fit, I will not be adjusting any of the hyperparameters of this model."
   ]
  },
  {
   "cell_type": "code",
   "execution_count": 79,
   "metadata": {
    "ExecuteTime": {
     "end_time": "2023-01-04T18:50:08.219894Z",
     "start_time": "2023-01-04T18:50:08.204406Z"
    },
    "hidden": true
   },
   "outputs": [],
   "source": [
    "nu_model = Pipeline([\n",
    "    ('ColTrans', ColTrans),\n",
    "    ('NuSVC', NuSVC(probability=True, random_state=42))\n",
    "])"
   ]
  },
  {
   "cell_type": "code",
   "execution_count": 80,
   "metadata": {
    "ExecuteTime": {
     "end_time": "2023-01-04T19:16:26.266133Z",
     "start_time": "2023-01-04T18:50:08.220915Z"
    },
    "hidden": true
   },
   "outputs": [],
   "source": [
    "start1 = perf_counter()\n",
    "nu_model.fit(X_train, y_train);\n",
    "end1 = perf_counter()"
   ]
  },
  {
   "cell_type": "code",
   "execution_count": 81,
   "metadata": {
    "ExecuteTime": {
     "end_time": "2023-01-04T19:16:26.282169Z",
     "start_time": "2023-01-04T19:16:26.266133Z"
    },
    "hidden": true
   },
   "outputs": [],
   "source": [
    "nu_pipe = ModelRuns(nu_model, 'NuSVC', X_train, y_train)"
   ]
  },
  {
   "cell_type": "code",
   "execution_count": 82,
   "metadata": {
    "ExecuteTime": {
     "end_time": "2023-01-04T19:21:21.446194Z",
     "start_time": "2023-01-04T19:16:26.283223Z"
    },
    "hidden": true
   },
   "outputs": [
    {
     "name": "stdout",
     "output_type": "stream",
     "text": [
      "Train Report: \n",
      "              precision    recall  f1-score   support\n",
      "\n",
      "           0       0.77      0.91      0.83     24161\n",
      "           1       0.86      0.68      0.76     20389\n",
      "\n",
      "    accuracy                           0.80     44550\n",
      "   macro avg       0.81      0.79      0.79     44550\n",
      "weighted avg       0.81      0.80      0.80     44550\n",
      "\n",
      "AUC-ROC Score:0.8762221464832181\n",
      "\n",
      "Test Report: \n",
      "              precision    recall  f1-score   support\n",
      "\n",
      "           0       0.76      0.89      0.82      8098\n",
      "           1       0.84      0.66      0.74      6752\n",
      "\n",
      "    accuracy                           0.79     14850\n",
      "   macro avg       0.80      0.78      0.78     14850\n",
      "weighted avg       0.80      0.79      0.78     14850\n",
      "\n",
      "AUC-ROC Score:0.8589245421021399\n"
     ]
    },
    {
     "data": {
      "image/png": "[encoded data removed]",
      "text/plain": [
       "<Figure size 432x288 with 2 Axes>"
      ]
     },
     "metadata": {
      "needs_background": "light"
     },
     "output_type": "display_data"
    },
    {
     "data": {
      "image/png": "[encoded data removed]",
      "text/plain": [
       "<Figure size 432x288 with 2 Axes>"
      ]
     },
     "metadata": {
      "needs_background": "light"
     },
     "output_type": "display_data"
    }
   ],
   "source": [
    "start2 = perf_counter()\n",
    "nu_pipe.run_all(X_train_run=X_train, X_test_run=X_test, y_train_run=y_train, y_test_run=y_test, train_results=True);\n",
    "end2 = perf_counter()"
   ]
  },
  {
   "cell_type": "code",
   "execution_count": null,
   "metadata": {
    "hidden": true
   },
   "outputs": [],
   "source": [
    "nusvc_time = (end1-start1 + end2 - start2)\n",
    "time_dic['NuSVC'] = nusvc_time"
   ]
  },
  {
   "cell_type": "markdown",
   "metadata": {},
   "source": [
    "## Adaboost"
   ]
  },
  {
   "cell_type": "code",
   "execution_count": 20,
   "metadata": {
    "ExecuteTime": {
     "end_time": "2023-01-04T22:09:33.364298Z",
     "start_time": "2023-01-04T22:09:33.356735Z"
    }
   },
   "outputs": [],
   "source": [
    "ada_model = Pipeline([\n",
    "    ('ColTrans', ColTrans),\n",
    "    ('ada', AdaBoostClassifier(random_state=42))\n",
    "])"
   ]
  },
  {
   "cell_type": "code",
   "execution_count": 21,
   "metadata": {
    "ExecuteTime": {
     "end_time": "2023-01-04T22:09:39.229120Z",
     "start_time": "2023-01-04T22:09:34.309069Z"
    }
   },
   "outputs": [],
   "source": [
    "ada_model.fit(X_train, y_train);"
   ]
  },
  {
   "cell_type": "code",
   "execution_count": 22,
   "metadata": {
    "ExecuteTime": {
     "end_time": "2023-01-04T22:09:40.047350Z",
     "start_time": "2023-01-04T22:09:40.044329Z"
    }
   },
   "outputs": [],
   "source": [
    "ada_pipe = ModelRuns(ada_model, 'ada', X_train, y_train)"
   ]
  },
  {
   "cell_type": "code",
   "execution_count": 23,
   "metadata": {
    "ExecuteTime": {
     "end_time": "2023-01-04T22:09:45.841696Z",
     "start_time": "2023-01-04T22:09:43.196676Z"
    }
   },
   "outputs": [
    {
     "name": "stdout",
     "output_type": "stream",
     "text": [
      "Train Report: \n",
      "              precision    recall  f1-score   support\n",
      "\n",
      "           0       0.73      0.87      0.79     24161\n",
      "           1       0.79      0.61      0.69     20389\n",
      "\n",
      "    accuracy                           0.75     44550\n",
      "   macro avg       0.76      0.74      0.74     44550\n",
      "weighted avg       0.76      0.75      0.74     44550\n",
      "\n",
      "ROC-AUC Score:0.8265647907521582\n",
      "\n",
      "Test Report: \n",
      "              precision    recall  f1-score   support\n",
      "\n",
      "           0       0.72      0.86      0.78      8098\n",
      "           1       0.78      0.61      0.68      6752\n",
      "\n",
      "    accuracy                           0.74     14850\n",
      "   macro avg       0.75      0.73      0.73     14850\n",
      "weighted avg       0.75      0.74      0.74     14850\n",
      "\n",
      "ROC-AUC Score:0.8208273808757413\n"
     ]
    },
    {
     "data": {
      "image/png": "[encoded data removed]",
      "text/plain": [
       "<Figure size 432x288 with 2 Axes>"
      ]
     },
     "metadata": {
      "needs_background": "light"
     },
     "output_type": "display_data"
    },
    {
     "data": {
      "image/png": "[encoded data removed]",
      "text/plain": [
       "<Figure size 432x288 with 2 Axes>"
      ]
     },
     "metadata": {
      "needs_background": "light"
     },
     "output_type": "display_data"
    }
   ],
   "source": [
    "ada_pipe.run_all(X_train_run=X_train, X_test_run=X_test, y_train_run=y_train, y_test_run=y_test, train_results=True);"
   ]
  },
  {
   "cell_type": "markdown",
   "metadata": {},
   "source": [
    "### GridSearch"
   ]
  },
  {
   "cell_type": "code",
   "execution_count": null,
   "metadata": {},
   "outputs": [],
   "source": [
    "AdaBoostClassifier()"
   ]
  },
  {
   "cell_type": "code",
   "execution_count": 25,
   "metadata": {
    "ExecuteTime": {
     "end_time": "2023-01-04T22:16:47.459566Z",
     "start_time": "2023-01-04T22:10:42.595315Z"
    }
   },
   "outputs": [
    {
     "name": "stdout",
     "output_type": "stream",
     "text": [
      "Fitting 5 folds for each of 16 candidates, totalling 80 fits\n"
     ]
    },
    {
     "name": "stderr",
     "output_type": "stream",
     "text": [
      "[Parallel(n_jobs=1)]: Using backend SequentialBackend with 1 concurrent workers.\n",
      "[Parallel(n_jobs=1)]: Done  80 out of  80 | elapsed:  5.9min finished\n"
     ]
    },
    {
     "data": {
      "text/plain": [
       "GridSearchCV(cv=5,\n",
       "             estimator=Pipeline(steps=[('ColTrans',\n",
       "                                        ColumnTransformer(remainder='passthrough',\n",
       "                                                          transformers=[('num_pipe',\n",
       "                                                                         Pipeline(steps=[('ss',\n",
       "                                                                                          StandardScaler())]),\n",
       "                                                                         <sklearn.compose._column_transformer.make_column_selector object at 0x000001C820508880>),\n",
       "                                                                        ('cat_pipe',\n",
       "                                                                         Pipeline(steps=[('cat_impute',\n",
       "                                                                                          SimpleImputer(add_indicator=True,\n",
       "                                                                                                        strategy='most_frequent')),\n",
       "                                                                                         ('ohe',\n",
       "                                                                                          OneHotEncoder(handle_unknown='ignore',\n",
       "                                                                                                        sparse=False))]),\n",
       "                                                                         <sklearn.compose._column_transformer.make_column_selector object at 0x000001C820508910>)])),\n",
       "                                       ('ada',\n",
       "                                        AdaBoostClassifier(random_state=42))]),\n",
       "             param_grid={'ada__learning_rate': [0.5, 1, 2, 3],\n",
       "                         'ada__n_estimators': [25, 50, 75, 100]},\n",
       "             verbose=1)"
      ]
     },
     "execution_count": 25,
     "metadata": {},
     "output_type": "execute_result"
    }
   ],
   "source": [
    "ada_params = {\n",
    "    'ada__n_estimators':[25, 50, 75, 100],\n",
    "    'ada__learning_rate':[0.5, 1, 2, 3],\n",
    "\n",
    "}\n",
    "ada_reg_gs = GridSearchCV(estimator=ada_model, param_grid=ada_params, cv=5, verbose=1)\n",
    "ada_reg_gs.fit(X_train, y_train)"
   ]
  },
  {
   "cell_type": "code",
   "execution_count": 26,
   "metadata": {
    "ExecuteTime": {
     "end_time": "2023-01-04T22:16:55.156743Z",
     "start_time": "2023-01-04T22:16:55.139577Z"
    }
   },
   "outputs": [
    {
     "data": {
      "text/plain": [
       "{'ada__learning_rate': 1, 'ada__n_estimators': 100}"
      ]
     },
     "execution_count": 26,
     "metadata": {},
     "output_type": "execute_result"
    }
   ],
   "source": [
    "ada_reg_gs.best_params_"
   ]
  },
  {
   "cell_type": "code",
   "execution_count": 27,
   "metadata": {
    "ExecuteTime": {
     "end_time": "2023-01-04T22:16:58.315155Z",
     "start_time": "2023-01-04T22:16:58.307248Z"
    }
   },
   "outputs": [
    {
     "data": {
      "text/plain": [
       "0.756408529741863"
      ]
     },
     "execution_count": 27,
     "metadata": {},
     "output_type": "execute_result"
    }
   ],
   "source": [
    "ada_reg_gs.best_score_"
   ]
  },
  {
   "cell_type": "code",
   "execution_count": 28,
   "metadata": {
    "ExecuteTime": {
     "end_time": "2023-01-04T22:17:00.214557Z",
     "start_time": "2023-01-04T22:16:59.827620Z"
    }
   },
   "outputs": [
    {
     "data": {
      "text/plain": [
       "0.7534680134680135"
      ]
     },
     "execution_count": 28,
     "metadata": {},
     "output_type": "execute_result"
    }
   ],
   "source": [
    "ada_reg_gs.best_estimator_.score(X_test,y_test)"
   ]
  },
  {
   "cell_type": "markdown",
   "metadata": {},
   "source": [
    "### GridSearch 2"
   ]
  },
  {
   "cell_type": "markdown",
   "metadata": {},
   "source": [
    "A `learning_rate` of 1 is the best for the AdaBoost model and the best `n_estimators` is 100. 100 was at the upper end of my spectrum though and I will continue to increase the values in my next iteration. I will also look to further tune the model by adjusting the `algorithm` hyperparameter.\n",
    "\n",
    "I tried several different times to find the best `n_estimators` using GridSearch. While the model improved as the number increased, the improvement was minimal when the amount of runtime was considered. As such, I have decided to use 250 as the `n_estimators` for this model.\n",
    "\n",
    "Results of the second iteration indicate:\n",
    "   - `n_estimators` is 250\n",
    "   - `learning_rate` is 1\n",
    "   - `algorithm` is `SAMME.R`"
   ]
  },
  {
   "cell_type": "code",
   "execution_count": 40,
   "metadata": {
    "ExecuteTime": {
     "end_time": "2023-01-05T00:03:07.483235Z",
     "start_time": "2023-01-05T00:00:53.548614Z"
    }
   },
   "outputs": [
    {
     "name": "stdout",
     "output_type": "stream",
     "text": [
      "Fitting 5 folds for each of 3 candidates, totalling 15 fits\n"
     ]
    },
    {
     "name": "stderr",
     "output_type": "stream",
     "text": [
      "[Parallel(n_jobs=1)]: Using backend SequentialBackend with 1 concurrent workers.\n",
      "[Parallel(n_jobs=1)]: Done  15 out of  15 | elapsed:  2.0min finished\n"
     ]
    },
    {
     "data": {
      "text/plain": [
       "GridSearchCV(cv=5,\n",
       "             estimator=Pipeline(steps=[('ColTrans',\n",
       "                                        ColumnTransformer(remainder='passthrough',\n",
       "                                                          transformers=[('num_pipe',\n",
       "                                                                         Pipeline(steps=[('ss',\n",
       "                                                                                          StandardScaler())]),\n",
       "                                                                         <sklearn.compose._column_transformer.make_column_selector object at 0x000001C820508880>),\n",
       "                                                                        ('cat_pipe',\n",
       "                                                                         Pipeline(steps=[('cat_impute',\n",
       "                                                                                          SimpleImputer(add_indicator=True,\n",
       "                                                                                                        strategy='most_frequent')),\n",
       "                                                                                         ('ohe',\n",
       "                                                                                          OneHotEncoder(handle_unknown='ignore',\n",
       "                                                                                                        sparse=False))]),\n",
       "                                                                         <sklearn.compose._column_transformer.make_column_selector object at 0x000001C820508910>)])),\n",
       "                                       ('ada',\n",
       "                                        AdaBoostClassifier(random_state=42))]),\n",
       "             param_grid={'ada__algorithm': ['SAMME.R'],\n",
       "                         'ada__learning_rate': [1],\n",
       "                         'ada__n_estimators': [100, 150, 200]},\n",
       "             verbose=1)"
      ]
     },
     "execution_count": 40,
     "metadata": {},
     "output_type": "execute_result"
    }
   ],
   "source": [
    "ada_params2 = {\n",
    "    'ada__n_estimators':[100, 150, 200],\n",
    "    'ada__learning_rate':[1],\n",
    "    'ada__algorithm':['SAMME.R']\n",
    "\n",
    "}\n",
    "ada_reg_gs2 = GridSearchCV(estimator=ada_model, param_grid=ada_params2, cv=5, verbose=1)\n",
    "ada_reg_gs2.fit(X_train, y_train)"
   ]
  },
  {
   "cell_type": "code",
   "execution_count": 36,
   "metadata": {
    "ExecuteTime": {
     "end_time": "2023-01-04T23:52:01.496581Z",
     "start_time": "2023-01-04T23:52:01.478536Z"
    }
   },
   "outputs": [
    {
     "data": {
      "text/plain": [
       "{'ada__algorithm': 'SAMME.R',\n",
       " 'ada__learning_rate': 1,\n",
       " 'ada__n_estimators': 2000}"
      ]
     },
     "execution_count": 36,
     "metadata": {},
     "output_type": "execute_result"
    }
   ],
   "source": [
    "ada_reg_gs2.best_params_"
   ]
  },
  {
   "cell_type": "code",
   "execution_count": 37,
   "metadata": {
    "ExecuteTime": {
     "end_time": "2023-01-04T23:52:03.158878Z",
     "start_time": "2023-01-04T23:52:03.142373Z"
    }
   },
   "outputs": [
    {
     "data": {
      "text/plain": [
       "0.7660157126823794"
      ]
     },
     "execution_count": 37,
     "metadata": {},
     "output_type": "execute_result"
    }
   ],
   "source": [
    "ada_reg_gs2.best_score_"
   ]
  },
  {
   "cell_type": "code",
   "execution_count": 38,
   "metadata": {
    "ExecuteTime": {
     "end_time": "2023-01-04T23:52:11.624253Z",
     "start_time": "2023-01-04T23:52:04.958399Z"
    }
   },
   "outputs": [
    {
     "data": {
      "text/plain": [
       "0.7657239057239057"
      ]
     },
     "execution_count": 38,
     "metadata": {},
     "output_type": "execute_result"
    }
   ],
   "source": [
    "ada_reg_gs2.best_estimator_.score(X_test,y_test)"
   ]
  },
  {
   "cell_type": "markdown",
   "metadata": {
    "heading_collapsed": true
   },
   "source": [
    "## XGBoost"
   ]
  },
  {
   "cell_type": "code",
   "execution_count": 87,
   "metadata": {
    "ExecuteTime": {
     "end_time": "2023-01-04T19:21:29.068506Z",
     "start_time": "2023-01-04T19:21:29.053502Z"
    },
    "hidden": true
   },
   "outputs": [],
   "source": [
    "xgb_model = Pipeline([\n",
    "    ('ColTrans', ColTrans),\n",
    "    ('xgb', xgboost.XGBClassifier(random_state=42))\n",
    "])"
   ]
  },
  {
   "cell_type": "code",
   "execution_count": 88,
   "metadata": {
    "ExecuteTime": {
     "end_time": "2023-01-04T19:21:31.586174Z",
     "start_time": "2023-01-04T19:21:29.069506Z"
    },
    "hidden": true
   },
   "outputs": [],
   "source": [
    "xgb_model.fit(X_train, y_train);"
   ]
  },
  {
   "cell_type": "code",
   "execution_count": 89,
   "metadata": {
    "ExecuteTime": {
     "end_time": "2023-01-04T19:21:31.601678Z",
     "start_time": "2023-01-04T19:21:31.586174Z"
    },
    "hidden": true
   },
   "outputs": [],
   "source": [
    "xgb_pipe = ModelRuns(xgb_model, 'xgb', X_train, y_train)"
   ]
  },
  {
   "cell_type": "code",
   "execution_count": 90,
   "metadata": {
    "ExecuteTime": {
     "end_time": "2023-01-04T19:21:32.692737Z",
     "start_time": "2023-01-04T19:21:31.602678Z"
    },
    "hidden": true
   },
   "outputs": [
    {
     "name": "stdout",
     "output_type": "stream",
     "text": [
      "Train Report: \n",
      "              precision    recall  f1-score   support\n",
      "\n",
      "           0       0.83      0.92      0.87     24161\n",
      "           1       0.89      0.77      0.83     20389\n",
      "\n",
      "    accuracy                           0.85     44550\n",
      "   macro avg       0.86      0.85      0.85     44550\n",
      "weighted avg       0.86      0.85      0.85     44550\n",
      "\n",
      "AUC-ROC Score:0.9323250501758836\n",
      "\n",
      "Test Report: \n",
      "              precision    recall  f1-score   support\n",
      "\n",
      "           0       0.79      0.88      0.83      8098\n",
      "           1       0.83      0.73      0.78      6752\n",
      "\n",
      "    accuracy                           0.81     14850\n",
      "   macro avg       0.81      0.80      0.80     14850\n",
      "weighted avg       0.81      0.81      0.81     14850\n",
      "\n",
      "AUC-ROC Score:0.8892590499789896\n"
     ]
    },
    {
     "data": {
      "image/png": "[encoded data removed]",
      "text/plain": [
       "<Figure size 432x288 with 2 Axes>"
      ]
     },
     "metadata": {
      "needs_background": "light"
     },
     "output_type": "display_data"
    },
    {
     "data": {
      "image/png": "[encoded data removed]",
      "text/plain": [
       "<Figure size 432x288 with 2 Axes>"
      ]
     },
     "metadata": {
      "needs_background": "light"
     },
     "output_type": "display_data"
    }
   ],
   "source": [
    "xgb_pipe.run_all(X_train_run=X_train, X_test_run=X_test, y_train_run=y_train, y_test_run=y_test, train_results=True);"
   ]
  },
  {
   "cell_type": "markdown",
   "metadata": {
    "heading_collapsed": true
   },
   "source": [
    "## XGBoost Random Forest"
   ]
  },
  {
   "cell_type": "code",
   "execution_count": 91,
   "metadata": {
    "ExecuteTime": {
     "end_time": "2023-01-04T19:21:32.708244Z",
     "start_time": "2023-01-04T19:21:32.693737Z"
    },
    "hidden": true
   },
   "outputs": [],
   "source": [
    "xgbrf_model = Pipeline([\n",
    "    ('ColTrans', ColTrans),\n",
    "    ('xgbrf', xgboost.XGBRFClassifier(random_state=42))\n",
    "])"
   ]
  },
  {
   "cell_type": "code",
   "execution_count": 92,
   "metadata": {
    "ExecuteTime": {
     "end_time": "2023-01-04T19:21:34.802590Z",
     "start_time": "2023-01-04T19:21:32.709244Z"
    },
    "hidden": true
   },
   "outputs": [],
   "source": [
    "xgbrf_model.fit(X_train, y_train);"
   ]
  },
  {
   "cell_type": "code",
   "execution_count": 93,
   "metadata": {
    "ExecuteTime": {
     "end_time": "2023-01-04T19:21:34.818594Z",
     "start_time": "2023-01-04T19:21:34.803590Z"
    },
    "hidden": true
   },
   "outputs": [],
   "source": [
    "xgbrf_pipe = ModelRuns(xgbrf_model, 'xgbrf', X_train, y_train)"
   ]
  },
  {
   "cell_type": "code",
   "execution_count": 94,
   "metadata": {
    "ExecuteTime": {
     "end_time": "2023-01-04T19:21:35.963415Z",
     "start_time": "2023-01-04T19:21:34.818594Z"
    },
    "hidden": true
   },
   "outputs": [
    {
     "name": "stdout",
     "output_type": "stream",
     "text": [
      "Train Report: \n",
      "              precision    recall  f1-score   support\n",
      "\n",
      "           0       0.83      0.92      0.87     24161\n",
      "           1       0.89      0.77      0.83     20389\n",
      "\n",
      "    accuracy                           0.85     44550\n",
      "   macro avg       0.86      0.85      0.85     44550\n",
      "weighted avg       0.86      0.85      0.85     44550\n",
      "\n",
      "AUC-ROC Score:0.9323250501758836\n",
      "\n",
      "Test Report: \n",
      "              precision    recall  f1-score   support\n",
      "\n",
      "           0       0.79      0.88      0.83      8098\n",
      "           1       0.83      0.73      0.78      6752\n",
      "\n",
      "    accuracy                           0.81     14850\n",
      "   macro avg       0.81      0.80      0.80     14850\n",
      "weighted avg       0.81      0.81      0.81     14850\n",
      "\n",
      "AUC-ROC Score:0.8892590499789896\n"
     ]
    },
    {
     "data": {
      "image/png": "[encoded data removed]",
      "text/plain": [
       "<Figure size 432x288 with 2 Axes>"
      ]
     },
     "metadata": {
      "needs_background": "light"
     },
     "output_type": "display_data"
    },
    {
     "data": {
      "image/png": "[encoded data removed]",
      "text/plain": [
       "<Figure size 432x288 with 2 Axes>"
      ]
     },
     "metadata": {
      "needs_background": "light"
     },
     "output_type": "display_data"
    }
   ],
   "source": [
    "xgb_pipe.run_all(X_train_run=X_train, X_test_run=X_test, y_train_run=y_train, y_test_run=y_test, train_results=True);"
   ]
  },
  {
   "cell_type": "markdown",
   "metadata": {},
   "source": [
    "## Stacking Classifier "
   ]
  },
  {
   "cell_type": "code",
   "execution_count": 95,
   "metadata": {
    "ExecuteTime": {
     "end_time": "2023-01-04T19:21:35.979116Z",
     "start_time": "2023-01-04T19:21:35.964433Z"
    }
   },
   "outputs": [],
   "source": [
    "estimators = [\n",
    "    ('lr', LogisticRegression(random_state=42, solver='liblinear')), \n",
    "#     ('knn', KNeighborsClassifier()),\n",
    "    ('dtc', DecisionTreeClassifier(random_state=42)),\n",
    "    ('rfc', RandomForestClassifier(random_state=42)),\n",
    "    ('ada', AdaBoostClassifier(random_state=42)),\n",
    "    ('xgb', xgboost.XGBClassifier(random_state=42)),\n",
    "    ('xgbrf', xgboost.XGBRFClassifier(random_state=42))\n",
    "]"
   ]
  },
  {
   "cell_type": "code",
   "execution_count": 96,
   "metadata": {
    "ExecuteTime": {
     "end_time": "2023-01-04T19:21:35.994774Z",
     "start_time": "2023-01-04T19:21:35.980144Z"
    }
   },
   "outputs": [],
   "source": [
    "stack_model = Pipeline([\n",
    "    ('ColTrans', ColTrans),\n",
    "    ('stack', StackingClassifier(estimators))\n",
    "])"
   ]
  },
  {
   "cell_type": "code",
   "execution_count": 97,
   "metadata": {
    "ExecuteTime": {
     "end_time": "2023-01-04T19:22:22.971593Z",
     "start_time": "2023-01-04T19:21:35.994774Z"
    }
   },
   "outputs": [],
   "source": [
    "stack_model.fit(X_train, y_train);"
   ]
  },
  {
   "cell_type": "code",
   "execution_count": 98,
   "metadata": {
    "ExecuteTime": {
     "end_time": "2023-01-04T19:22:22.987082Z",
     "start_time": "2023-01-04T19:22:22.971593Z"
    }
   },
   "outputs": [],
   "source": [
    "stack_pipe = ModelRuns(stack_model, 'stack', X_train, y_train)"
   ]
  },
  {
   "cell_type": "code",
   "execution_count": 99,
   "metadata": {
    "ExecuteTime": {
     "end_time": "2023-01-04T19:22:28.562549Z",
     "start_time": "2023-01-04T19:22:22.988082Z"
    }
   },
   "outputs": [
    {
     "name": "stdout",
     "output_type": "stream",
     "text": [
      "Train Report: \n",
      "              precision    recall  f1-score   support\n",
      "\n",
      "           0       0.96      0.98      0.97     24161\n",
      "           1       0.98      0.95      0.96     20389\n",
      "\n",
      "    accuracy                           0.97     44550\n",
      "   macro avg       0.97      0.96      0.97     44550\n",
      "weighted avg       0.97      0.97      0.97     44550\n",
      "\n",
      "AUC-ROC Score:0.9960786856479193\n",
      "\n",
      "Test Report: \n",
      "              precision    recall  f1-score   support\n",
      "\n",
      "           0       0.82      0.87      0.84      8098\n",
      "           1       0.83      0.77      0.80      6752\n",
      "\n",
      "    accuracy                           0.82     14850\n",
      "   macro avg       0.82      0.82      0.82     14850\n",
      "weighted avg       0.82      0.82      0.82     14850\n",
      "\n",
      "AUC-ROC Score:0.9032025691060575\n"
     ]
    },
    {
     "data": {
      "image/png": "[encoded data removed]",
      "text/plain": [
       "<Figure size 432x288 with 2 Axes>"
      ]
     },
     "metadata": {
      "needs_background": "light"
     },
     "output_type": "display_data"
    },
    {
     "data": {
      "image/png": "[encoded data removed]",
      "text/plain": [
       "<Figure size 432x288 with 2 Axes>"
      ]
     },
     "metadata": {
      "needs_background": "light"
     },
     "output_type": "display_data"
    }
   ],
   "source": [
    "stack_pipe.run_all(X_train_run=X_train, X_test_run=X_test, y_train_run=y_train, y_test_run=y_test, train_results=True);"
   ]
  },
  {
   "cell_type": "markdown",
   "metadata": {},
   "source": [
    "## Final Stacking Model"
   ]
  },
  {
   "cell_type": "code",
   "execution_count": null,
   "metadata": {},
   "outputs": [],
   "source": [
    "estimators_final = [\n",
    "    ('lr', LogisticRegression(random_state=42, solver='liblinear')), \n",
    "    ('knn', KNeighborsClassifier()),\n",
    "    ('dtc', DecisionTreeClassifier(criterion='entropy', max_depth=34, \n",
    "                                   min_samples_split=3, random_state=42)),\n",
    "    ('rfc', RandomForestClassifier(criterion='entropy', max_depth=32, \n",
    "                                  max_features='log2', random_state=42)),\n",
    "    ('svc', SVC(probability=True, random_state=42)),\n",
    "    ('NuSVC', NuSVC(probability=True, random_state=42))\n",
    "    ('ada', AdaBoostClassifier(random_state=42)),\n",
    "    ('xgb', xgboost.XGBClassifier(random_state=42)),\n",
    "    ('xgbrf', xgboost.XGBRFClassifier(random_state=42))\n",
    "]"
   ]
  },
  {
   "cell_type": "markdown",
   "metadata": {},
   "source": [
    "# Results"
   ]
  },
  {
   "cell_type": "markdown",
   "metadata": {},
   "source": [
    "This analysis has run dozens of models to predict Tanzanian Water Wells in need of repair. Several factors were taken into consideration in choosing a final model:\n",
    "\n",
    "- Runtime\n",
    "    - Is it feasible to utilize the model on a larger scale?\n",
    "- Accuracy\n",
    "    - How accurate is the model?\n",
    "- ROC-AUC score\n",
    "    - How does the model perform when looking at true positive rates and true negative rates?"
   ]
  },
  {
   "cell_type": "markdown",
   "metadata": {},
   "source": [
    "## Creating Results Table"
   ]
  },
  {
   "cell_type": "markdown",
   "metadata": {},
   "source": [
    "# KMeans and KNN"
   ]
  },
  {
   "cell_type": "markdown",
   "metadata": {
    "ExecuteTime": {
     "end_time": "2023-01-04T06:23:22.917190Z",
     "start_time": "2023-01-04T06:23:22.901965Z"
    }
   },
   "source": [
    "For this method, I utilize unsupervised learning k-means in conjunction with K-Nearest Neighbors. I have a loop to create a table utilizing 1-7 clusters, then separate the predictor data based on the cluster results. I then run K-nearest Neighbors on each of the cluster groupings to determine if clustering helps the dataset. When the number of clusters is set to 1, it is the same as running K-Nearest Neighbors without clustering. \n",
    "\n",
    "The results of the model show that it is more beneficial to skip K-Means Clustering altogether. "
   ]
  },
  {
   "cell_type": "code",
   "execution_count": 100,
   "metadata": {
    "ExecuteTime": {
     "end_time": "2023-01-04T19:23:38.551838Z",
     "start_time": "2023-01-04T19:22:28.562549Z"
    }
   },
   "outputs": [],
   "source": [
    "df_names = ['kmeans_0', 'kmeans_1', 'kmeans_2', 'kmeans_3', 'kmeans_4', \n",
    "            'kmeans_5', 'kmeans_6']\n",
    "main_col = ['cluster_group']\n",
    "kmeans_results_df = pd.DataFrame(df_names, columns=main_col)\n",
    "\n",
    "for i in range(1,8):\n",
    "    kmeans_model = Pipeline([\n",
    "        ('ColTrans', ColTrans),\n",
    "        ('kmeans', KMeans(n_clusters=i, random_state=42))\n",
    "    ])\n",
    "    \n",
    "    \n",
    "    # Fitting the model\n",
    "    kmeans_model.fit(X_train, y_train);\n",
    "    \n",
    "    # creating a dataframe for X_train so I can house the cluster data\n",
    "    kmeans_X_train_df = pd.DataFrame(X_train).copy()\n",
    "    \n",
    "    \n",
    "    # predicting data before adding back the target var so there is no data leakage \n",
    "    kmeans_X_train_df['cluster'] = kmeans_model.predict(X_train)\n",
    "\n",
    "    \n",
    "    # adding the target variable back so that I can then separate into dfs based on clusters\n",
    "    kmeans_X_train_df['target'] = y_train.copy()\n",
    "    \n",
    "#     print(kmeans_X_train_df)\n",
    "    \n",
    "    # creating new dataframes based on clusters and storing in a dictionary\n",
    "    kmeans_train_dic = {}\n",
    "    for x in range(i-i, i):\n",
    "#         print(x)\n",
    "#         print(df_names[x])\n",
    "#         print(kmeans_X_train_df[kmeans_X_train_df['cluster'] == x])\n",
    "        kmeans_train_dic[df_names[x]] = kmeans_X_train_df[kmeans_X_train_df['cluster'] == x]\n",
    "\n",
    "        \n",
    "    # need to seperate x, y vars now\n",
    "    y_kmeans_train_dic = {}\n",
    "    for x in range(i-i, i):\n",
    "        y_kmeans_train_dic[df_names[x]] = kmeans_train_dic[df_names[x]].pop('target') \n",
    "        \n",
    "    # creating a dataframe for X_test so I can house the cluster data\n",
    "    kmeans_X_test_df = pd.DataFrame(X_test).copy()\n",
    "    \n",
    "    # predicting data before adding back the target var so there is no data leakage \n",
    "    kmeans_X_test_df['cluster'] = kmeans_model.predict(X_test)\n",
    "    \n",
    "    # adding the target variable back so that I can then separate into dfs based on clusters\n",
    "    kmeans_X_test_df['target'] = y_test.copy()\n",
    "    \n",
    "    \n",
    "    # creating new dataframes based on clusters and storing in a dictionary\n",
    "    kmeans_test_dic = {}\n",
    "    for x in range(i-i, i):\n",
    "#         print(df_names[x])\n",
    "        kmeans_test_dic[df_names[x]] = kmeans_X_test_df[kmeans_X_test_df['cluster'] == x]\n",
    "        \n",
    "    # need to seperate x, y vars now\n",
    "    y_kmeans_test_dic = {}\n",
    "    for x in range(i-i, i):\n",
    "        y_kmeans_test_dic[df_names[x]] = kmeans_test_dic[df_names[x]].pop('target')\n",
    "        \n",
    "#     print(kmeans_train_dic)    \n",
    "#     print(kmeans_test_dic)    \n",
    "        \n",
    "    # It works above this point\n",
    "    # running the knn model on each cluster\n",
    "    knn_model = Pipeline([\n",
    "        ('ColTrans', ColTrans),\n",
    "        ('knn', KNeighborsClassifier())\n",
    "    ])\n",
    "    \n",
    "    # creating a dic to story each fitted model\n",
    "    model_dic = {}\n",
    "    for x in range(0, i):\n",
    "        model_dic[df_names[x]] = knn_model.fit(kmeans_train_dic[df_names[x]], y_kmeans_train_dic[df_names[x]])\n",
    "        \n",
    "    # Creating a dic to store test scores\n",
    "    knn_test_scores = {}\n",
    "    for x in range(0, i):\n",
    "        knn_test_scores[df_names[x]] = model_dic[df_names[x]].score(kmeans_test_dic[df_names[x]], y_kmeans_test_dic[df_names[x]])\n",
    "        \n",
    "    # creating a dataframe to store all test scores\n",
    "#     main_col = ['cluster_group']\n",
    "#     kmeans_results_df = pd.DataFrame(knn_test_scores.keys(), columns=main_col)\n",
    "    \n",
    "    # appending each itteration to df\n",
    "    addition = pd.DataFrame({\n",
    "        f'clusters={i}':  knn_test_scores.values()})\n",
    "    \n",
    "    kmeans_results_df = pd.concat([kmeans_results_df, addition], axis=1)"
   ]
  },
  {
   "cell_type": "code",
   "execution_count": 101,
   "metadata": {
    "ExecuteTime": {
     "end_time": "2023-01-04T19:23:38.567890Z",
     "start_time": "2023-01-04T19:23:38.551838Z"
    }
   },
   "outputs": [],
   "source": [
    "kmeans_results_clean = kmeans_results_df.set_index('cluster_group').copy()"
   ]
  },
  {
   "cell_type": "code",
   "execution_count": 102,
   "metadata": {
    "ExecuteTime": {
     "end_time": "2023-01-04T19:23:38.583227Z",
     "start_time": "2023-01-04T19:23:38.567890Z"
    }
   },
   "outputs": [
    {
     "data": {
      "text/html": [
       "<div>\n",
       "<style scoped>\n",
       "    .dataframe tbody tr th:only-of-type {\n",
       "        vertical-align: middle;\n",
       "    }\n",
       "\n",
       "    .dataframe tbody tr th {\n",
       "        vertical-align: top;\n",
       "    }\n",
       "\n",
       "    .dataframe thead th {\n",
       "        text-align: right;\n",
       "    }\n",
       "</style>\n",
       "<table border=\"1\" class=\"dataframe\">\n",
       "  <thead>\n",
       "    <tr style=\"text-align: right;\">\n",
       "      <th></th>\n",
       "      <th>clusters=1</th>\n",
       "      <th>clusters=2</th>\n",
       "      <th>clusters=3</th>\n",
       "      <th>clusters=4</th>\n",
       "      <th>clusters=5</th>\n",
       "      <th>clusters=6</th>\n",
       "      <th>clusters=7</th>\n",
       "    </tr>\n",
       "    <tr>\n",
       "      <th>cluster_group</th>\n",
       "      <th></th>\n",
       "      <th></th>\n",
       "      <th></th>\n",
       "      <th></th>\n",
       "      <th></th>\n",
       "      <th></th>\n",
       "      <th></th>\n",
       "    </tr>\n",
       "  </thead>\n",
       "  <tbody>\n",
       "    <tr>\n",
       "      <th>kmeans_0</th>\n",
       "      <td>0.793805</td>\n",
       "      <td>0.596683</td>\n",
       "      <td>0.563363</td>\n",
       "      <td>0.586053</td>\n",
       "      <td>0.565452</td>\n",
       "      <td>0.597607</td>\n",
       "      <td>0.492873</td>\n",
       "    </tr>\n",
       "    <tr>\n",
       "      <th>kmeans_1</th>\n",
       "      <td>NaN</td>\n",
       "      <td>0.799897</td>\n",
       "      <td>0.512524</td>\n",
       "      <td>0.471629</td>\n",
       "      <td>0.562554</td>\n",
       "      <td>0.513158</td>\n",
       "      <td>0.597003</td>\n",
       "    </tr>\n",
       "    <tr>\n",
       "      <th>kmeans_2</th>\n",
       "      <td>NaN</td>\n",
       "      <td>NaN</td>\n",
       "      <td>0.805497</td>\n",
       "      <td>0.682875</td>\n",
       "      <td>0.602537</td>\n",
       "      <td>0.498943</td>\n",
       "      <td>0.500574</td>\n",
       "    </tr>\n",
       "    <tr>\n",
       "      <th>kmeans_3</th>\n",
       "      <td>NaN</td>\n",
       "      <td>NaN</td>\n",
       "      <td>NaN</td>\n",
       "      <td>0.792431</td>\n",
       "      <td>0.629387</td>\n",
       "      <td>0.499148</td>\n",
       "      <td>0.525167</td>\n",
       "    </tr>\n",
       "    <tr>\n",
       "      <th>kmeans_4</th>\n",
       "      <td>NaN</td>\n",
       "      <td>NaN</td>\n",
       "      <td>NaN</td>\n",
       "      <td>NaN</td>\n",
       "      <td>0.752137</td>\n",
       "      <td>0.666667</td>\n",
       "      <td>1.000000</td>\n",
       "    </tr>\n",
       "    <tr>\n",
       "      <th>kmeans_5</th>\n",
       "      <td>NaN</td>\n",
       "      <td>NaN</td>\n",
       "      <td>NaN</td>\n",
       "      <td>NaN</td>\n",
       "      <td>NaN</td>\n",
       "      <td>1.000000</td>\n",
       "      <td>0.649682</td>\n",
       "    </tr>\n",
       "    <tr>\n",
       "      <th>kmeans_6</th>\n",
       "      <td>NaN</td>\n",
       "      <td>NaN</td>\n",
       "      <td>NaN</td>\n",
       "      <td>NaN</td>\n",
       "      <td>NaN</td>\n",
       "      <td>NaN</td>\n",
       "      <td>0.805497</td>\n",
       "    </tr>\n",
       "  </tbody>\n",
       "</table>\n",
       "</div>"
      ],
      "text/plain": [
       "               clusters=1  clusters=2  clusters=3  clusters=4  clusters=5  \\\n",
       "cluster_group                                                               \n",
       "kmeans_0         0.793805    0.596683    0.563363    0.586053    0.565452   \n",
       "kmeans_1              NaN    0.799897    0.512524    0.471629    0.562554   \n",
       "kmeans_2              NaN         NaN    0.805497    0.682875    0.602537   \n",
       "kmeans_3              NaN         NaN         NaN    0.792431    0.629387   \n",
       "kmeans_4              NaN         NaN         NaN         NaN    0.752137   \n",
       "kmeans_5              NaN         NaN         NaN         NaN         NaN   \n",
       "kmeans_6              NaN         NaN         NaN         NaN         NaN   \n",
       "\n",
       "               clusters=6  clusters=7  \n",
       "cluster_group                          \n",
       "kmeans_0         0.597607    0.492873  \n",
       "kmeans_1         0.513158    0.597003  \n",
       "kmeans_2         0.498943    0.500574  \n",
       "kmeans_3         0.499148    0.525167  \n",
       "kmeans_4         0.666667    1.000000  \n",
       "kmeans_5         1.000000    0.649682  \n",
       "kmeans_6              NaN    0.805497  "
      ]
     },
     "execution_count": 102,
     "metadata": {},
     "output_type": "execute_result"
    }
   ],
   "source": [
    "kmeans_results_clean"
   ]
  },
  {
   "cell_type": "code",
   "execution_count": 103,
   "metadata": {
    "ExecuteTime": {
     "end_time": "2023-01-04T19:23:38.599567Z",
     "start_time": "2023-01-04T19:23:38.584255Z"
    }
   },
   "outputs": [
    {
     "name": "stdout",
     "output_type": "stream",
     "text": [
      "0.7938047138047138\n",
      "0.6982900495328861\n",
      "0.6271279272866438\n",
      "0.6332471380645198\n",
      "0.6224132275252711\n",
      "0.6292537733125115\n",
      "0.6529707680953232\n"
     ]
    }
   ],
   "source": [
    "for col in kmeans_results_clean.columns:\n",
    "    print(np.mean(kmeans_results_df[col]))"
   ]
  },
  {
   "cell_type": "markdown",
   "metadata": {},
   "source": [
    "## Standard KNN"
   ]
  },
  {
   "cell_type": "code",
   "execution_count": 104,
   "metadata": {
    "ExecuteTime": {
     "end_time": "2023-01-04T19:23:38.615125Z",
     "start_time": "2023-01-04T19:23:38.600606Z"
    }
   },
   "outputs": [],
   "source": [
    "knn_model = Pipeline([\n",
    "    ('ColTrans', ColTrans),\n",
    "    ('knn', KNeighborsClassifier())\n",
    "])"
   ]
  },
  {
   "cell_type": "code",
   "execution_count": 105,
   "metadata": {
    "ExecuteTime": {
     "end_time": "2023-01-04T19:23:41.098898Z",
     "start_time": "2023-01-04T19:23:38.615125Z"
    }
   },
   "outputs": [],
   "source": [
    "knn_model.fit(X_train, y_train);"
   ]
  },
  {
   "cell_type": "code",
   "execution_count": 106,
   "metadata": {
    "ExecuteTime": {
     "end_time": "2023-01-04T19:23:41.114143Z",
     "start_time": "2023-01-04T19:23:41.098898Z"
    }
   },
   "outputs": [],
   "source": [
    "knn_pipe = ModelRuns(knn_model, 'knn', X_train, y_train)"
   ]
  },
  {
   "cell_type": "code",
   "execution_count": 107,
   "metadata": {
    "ExecuteTime": {
     "end_time": "2023-01-04T19:27:28.283002Z",
     "start_time": "2023-01-04T19:23:41.114143Z"
    }
   },
   "outputs": [
    {
     "name": "stdout",
     "output_type": "stream",
     "text": [
      "Train Report: \n",
      "              precision    recall  f1-score   support\n",
      "\n",
      "           0       0.85      0.89      0.87     24161\n",
      "           1       0.87      0.81      0.84     20389\n",
      "\n",
      "    accuracy                           0.86     44550\n",
      "   macro avg       0.86      0.85      0.86     44550\n",
      "weighted avg       0.86      0.86      0.86     44550\n",
      "\n",
      "AUC-ROC Score:0.9400094844971849\n",
      "\n",
      "Test Report: \n",
      "              precision    recall  f1-score   support\n",
      "\n",
      "           0       0.80      0.83      0.82      8098\n",
      "           1       0.79      0.74      0.77      6752\n",
      "\n",
      "    accuracy                           0.79     14850\n",
      "   macro avg       0.79      0.79      0.79     14850\n",
      "weighted avg       0.79      0.79      0.79     14850\n",
      "\n",
      "AUC-ROC Score:0.86339822182705\n"
     ]
    },
    {
     "data": {
      "image/png": "[encoded data removed]",
      "text/plain": [
       "<Figure size 432x288 with 2 Axes>"
      ]
     },
     "metadata": {
      "needs_background": "light"
     },
     "output_type": "display_data"
    },
    {
     "data": {
      "image/png": "[encoded data removed]",
      "text/plain": [
       "<Figure size 432x288 with 2 Axes>"
      ]
     },
     "metadata": {
      "needs_background": "light"
     },
     "output_type": "display_data"
    }
   ],
   "source": [
    "knn_pipe.run_all(X_train_run=X_train, X_test_run=X_test, y_train_run=y_train, y_test_run=y_test, train_results=True);"
   ]
  },
  {
   "cell_type": "code",
   "execution_count": null,
   "metadata": {},
   "outputs": [],
   "source": []
  },
  {
   "cell_type": "code",
   "execution_count": null,
   "metadata": {},
   "outputs": [],
   "source": []
  },
  {
   "cell_type": "code",
   "execution_count": 108,
   "metadata": {
    "ExecuteTime": {
     "end_time": "2023-01-04T19:27:28.520933Z",
     "start_time": "2023-01-04T19:27:28.283002Z"
    }
   },
   "outputs": [
    {
     "ename": "NameError",
     "evalue": "name 'stop' is not defined",
     "output_type": "error",
     "traceback": [
      "\u001b[1;31m---------------------------------------------------------------------------\u001b[0m",
      "\u001b[1;31mNameError\u001b[0m                                 Traceback (most recent call last)",
      "\u001b[1;32m<ipython-input-108-4f76a9dad686>\u001b[0m in \u001b[0;36m<module>\u001b[1;34m\u001b[0m\n\u001b[1;32m----> 1\u001b[1;33m \u001b[0mstop\u001b[0m\u001b[1;33m\u001b[0m\u001b[1;33m\u001b[0m\u001b[0m\n\u001b[0m",
      "\u001b[1;31mNameError\u001b[0m: name 'stop' is not defined"
     ]
    }
   ],
   "source": [
    "stop"
   ]
  },
  {
   "cell_type": "code",
   "execution_count": null,
   "metadata": {
    "ExecuteTime": {
     "end_time": "2023-01-04T19:27:28.524436Z",
     "start_time": "2023-01-04T18:28:43.288Z"
    }
   },
   "outputs": [],
   "source": [
    "class ModelRuns():\n",
    "    ''' Class to easily run models through and determine output.'''\n",
    "    \n",
    "    def __init__(self, model, model_name, X, y):\n",
    "        self.model = model\n",
    "        self.name = model_name\n",
    "        self.X = X\n",
    "        self.y = y\n",
    "        \n",
    "    def cross_val(self, X=None, y=None, cv=5):\n",
    "        cv_X= X if X else self.X\n",
    "        cv_y = y if y else self.y\n",
    "        self.cv_results = cross_val_score(self.model, cv_X, cv_y, cv=cv)\n",
    "        self.cv_mean = np.mean(self.cv_results)\n",
    "        return print(f\"Cross_val mean is: {round(self.cv_mean, 4)} for kfold: {cv}\")\n",
    "                \n",
    "    def accuracy(self, X, y):\n",
    "        acc = self.model.score(X, y)\n",
    "        \n",
    "    def performance(self, X, y):\n",
    "        y_pred = self.model.predict(X)\n",
    "        report = classification_report(y, y_pred)\n",
    "        return report\n",
    "    \n",
    "    def class_matrix(self, X, y):\n",
    "        mat = plot_confusion_matrix(self.model, X, y);\n",
    "        if X is X_train:\n",
    "            plt.title(\"Train\")\n",
    "        elif X is X_test:\n",
    "            plt.title('Test')\n",
    "        else:\n",
    "            plt.title('Class Matrix')\n",
    "        return mat\n",
    "    \n",
    "    def roc_auc_custom(self, X, y):\n",
    "        y_score = self.model.predict_proba(X)\n",
    "        roc_score = roc_auc_score(y, y_score[:,1])\n",
    "        return roc_score\n",
    "    \n",
    "    def run_all(self, X_train_run=X_train, X_test_run=X_test, y_train_run=y_train, y_test_run=y_test, train_results=True):\n",
    "        if train_results:\n",
    "            y_train_perf = self.performance(X_train_run, y_train_run)\n",
    "            y_train_auc = self.roc_auc_custom(X_train_run, y_train_run)\n",
    "            y_test_perf = self.performance(X_test_run, y_test_run)\n",
    "            y_test_auc = self.roc_auc_custom(X_test_run, y_test_run)\n",
    "            train_matrix = self.class_matrix(X_train_run, y_train_run)\n",
    "            test_matrix = self.class_matrix(X_test_run, y_test_run)\n",
    "            return print(f\"Train Report: \\n{y_train_perf}\\nROC-AUC Score:{y_train_auc}\\n\"), \\\n",
    "            print(f\"Test Report: \\n{y_test_perf}\\nROC-AUC Score:{y_test_auc}\")\n",
    "        else:\n",
    "            y_test_perf = self.performance(X_test_run, y_test_run)\n",
    "            test_matrix = self.class_matrix(X_test_run, y_test_run)\n",
    "            return print(f\"Test Report: \\n{y_test_perf}\")"
   ]
  }
 ],
 "metadata": {
  "kernelspec": {
   "display_name": "Python (learn-env)",
   "language": "python",
   "name": "learn-env"
  },
  "language_info": {
   "codemirror_mode": {
    "name": "ipython",
    "version": 3
   },
   "file_extension": ".py",
   "mimetype": "text/x-python",
   "name": "python",
   "nbconvert_exporter": "python",
   "pygments_lexer": "ipython3",
   "version": "3.8.5"
  },
  "toc": {
   "base_numbering": 1,
   "nav_menu": {},
   "number_sections": true,
   "sideBar": true,
   "skip_h1_title": false,
   "title_cell": "Table of Contents",
   "title_sidebar": "Contents",
   "toc_cell": false,
   "toc_position": {},
   "toc_section_display": true,
   "toc_window_display": false
  },
  "varInspector": {
   "cols": {
    "lenName": 16,
    "lenType": 16,
    "lenVar": 40
   },
   "kernels_config": {
    "python": {
     "delete_cmd_postfix": "",
     "delete_cmd_prefix": "del ",
     "library": "var_list.py",
     "varRefreshCmd": "print(var_dic_list())"
    },
    "r": {
     "delete_cmd_postfix": ") ",
     "delete_cmd_prefix": "rm(",
     "library": "var_list.r",
     "varRefreshCmd": "cat(var_dic_list()) "
    }
   },
   "position": {
    "height": "379.844px",
    "left": "1637px",
    "right": "20px",
    "top": "120px",
    "width": "263px"
   },
   "types_to_exclude": [
    "module",
    "function",
    "builtin_function_or_method",
    "instance",
    "_Feature"
   ],
   "window_display": false
  }
 },
 "nbformat": 4,
 "nbformat_minor": 4
}
