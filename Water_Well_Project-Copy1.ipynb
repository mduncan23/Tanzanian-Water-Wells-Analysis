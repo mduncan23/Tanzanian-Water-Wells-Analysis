{
 "cells": [
  {
   "cell_type": "markdown",
   "metadata": {},
   "source": [
    "# Tanzanian Water Wells"
   ]
  },
  {
   "cell_type": "markdown",
   "metadata": {},
   "source": [
    "## Overview"
   ]
  },
  {
   "cell_type": "markdown",
   "metadata": {},
   "source": [
    "Tanzania struggles with providing clean water to the people of its country. The goal of this analysis is to use data from existing wells throughout the country to identify the wells in need of repair. "
   ]
  },
  {
   "cell_type": "markdown",
   "metadata": {},
   "source": [
    "This analysis is focused on assisting the Tanzanian Government reduce resources spent to identify water wells that are in need of repair to ensure that clean water is available to its citizens. "
   ]
  },
  {
   "cell_type": "markdown",
   "metadata": {},
   "source": [
    "**Important Note:** This notebook takes awhile to run. In order to reduce the runtime, please head to the `Modeling` section and comment out any of the gridsearches before running the notebook."
   ]
  },
  {
   "cell_type": "markdown",
   "metadata": {},
   "source": [
    "### Helper Class"
   ]
  },
  {
   "cell_type": "markdown",
   "metadata": {},
   "source": [
    "Since I will be running multiple models throughout the analysis, I have created a helper class to streamline the process. More information and code can be found in the `modelruns.py` file included in the repository. This file is needed to successfully run the notebook."
   ]
  },
  {
   "cell_type": "markdown",
   "metadata": {},
   "source": [
    "# Import Libraries and Data "
   ]
  },
  {
   "cell_type": "code",
   "execution_count": 1,
   "metadata": {
    "ExecuteTime": {
     "end_time": "2023-01-05T23:14:38.627298Z",
     "start_time": "2023-01-05T23:14:37.525072Z"
    }
   },
   "outputs": [],
   "source": [
    "import numpy as np\n",
    "import pandas as pd\n",
    "import matplotlib.pyplot as plt\n",
    "import seaborn as sns\n",
    "\n",
    "from sklearn.base import BaseEstimator, TransformerMixin\n",
    "\n",
    "from sklearn.preprocessing import StandardScaler, OneHotEncoder, \\\n",
    "FunctionTransformer, normalize, PolynomialFeatures, LabelEncoder\n",
    "\n",
    "from sklearn.linear_model import LinearRegression, LogisticRegression, \\\n",
    "Ridge, Lasso, ElasticNet, LassoCV, RidgeCV, ElasticNetCV\n",
    "\n",
    "from sklearn.model_selection import train_test_split, cross_validate,\\\n",
    "KFold, cross_val_score, ShuffleSplit, RandomizedSearchCV, GridSearchCV\n",
    "\n",
    "from sklearn.metrics import mean_squared_error, make_scorer, log_loss, \\\n",
    "confusion_matrix, plot_confusion_matrix, precision_score, recall_score, \\\n",
    "accuracy_score, f1_score, roc_curve, roc_auc_score, classification_report, auc, plot_roc_curve\n",
    "\n",
    "from sklearn.dummy import DummyRegressor, DummyClassifier\n",
    "\n",
    "from sklearn.utils import resample\n",
    "\n",
    "from sklearn.impute import MissingIndicator, SimpleImputer\n",
    "\n",
    "from sklearn.feature_selection import SelectFromModel\n",
    "\n",
    "from sklearn.tree import DecisionTreeClassifier, DecisionTreeRegressor, plot_tree\n",
    "\n",
    "from sklearn import tree\n",
    "\n",
    "from sklearn.neighbors import KNeighborsClassifier, NearestNeighbors\n",
    "\n",
    "from scipy import stats\n",
    "from sklearn.naive_bayes import MultinomialNB, GaussianNB\n",
    "\n",
    "from sklearn.pipeline import Pipeline\n",
    "\n",
    "from sklearn.compose import ColumnTransformer,  make_column_selector as selector\n",
    "\n",
    "from sklearn.ensemble import BaggingClassifier, RandomForestClassifier\n",
    "\n",
    "from sklearn.ensemble import BaggingClassifier, RandomForestClassifier, \\\n",
    "ExtraTreesClassifier, VotingClassifier, StackingRegressor, StackingClassifier\n",
    "\n",
    "from sklearn.ensemble import AdaBoostClassifier, GradientBoostingClassifier\n",
    "\n",
    "from sklearn.svm import SVC, NuSVC\n",
    "\n",
    "from sklearn.cluster import KMeans\n",
    "\n",
    "import xgboost\n",
    "\n",
    "from imblearn.over_sampling import SMOTE\n",
    "from imblearn.under_sampling import RandomUnderSampler\n",
    "from imblearn.pipeline import Pipeline as ImPipeline\n",
    "\n",
    "from modelruns import ModelRuns\n",
    "import modelruns as custom\n",
    "\n",
    "from time import perf_counter\n",
    "\n",
    "%matplotlib inline\n"
   ]
  },
  {
   "cell_type": "markdown",
   "metadata": {},
   "source": [
    "The data was provided by DrivenData.org in partnership with Taarifa who aggregated the data from the Tanzanian Ministry of Water."
   ]
  },
  {
   "cell_type": "code",
   "execution_count": 2,
   "metadata": {
    "ExecuteTime": {
     "end_time": "2023-01-05T23:14:41.809914Z",
     "start_time": "2023-01-05T23:14:41.626925Z"
    }
   },
   "outputs": [],
   "source": [
    "X_data_df = pd.read_csv('data/x_data.csv')\n",
    "y_data_df = pd.read_csv('data/target_data.csv')"
   ]
  },
  {
   "cell_type": "markdown",
   "metadata": {},
   "source": [
    "# Data Understanding and Preparation"
   ]
  },
  {
   "cell_type": "markdown",
   "metadata": {},
   "source": [
    "To better understand the data, I have reviewed the features and separated them into numerical and categorical feature types:\n",
    "\n",
    "**Numerical:**\n",
    "- `id` - Unique identifier\n",
    "- `amount_tsh` - Total static head (amount water available to waterpoint)\n",
    "- `gps_height` - Altitude of the well\n",
    "- `longitude` - GPS coordinate\n",
    "- `latitude` - GPS coordinate\n",
    "- `num_private` - Number private\n",
    "- `population` - Population around the well\n",
    "- `construction_year` - Year the waterpoint was constructed\n",
    "\n",
    "**Categorical:**\n",
    "- `installer` - Organization that installed the well\n",
    "- `wpt_name` - Name of the waterpoint if there is one\n",
    "- `basin` - Geographic water basin\n",
    "- `subvillage` - Geographic location\n",
    "- `lga` - Geographic location\n",
    "- `ward` - Geographic location\n",
    "- `public_meeting` - True/False\n",
    "- `scheme_management` - Who operates the waterpoint\n",
    "- `permit` - If the waterpoint is permitted\n",
    "- `extraction_type` - The kind of extraction the waterpoint uses\n",
    "- `extraction_type_group` - The kind of extraction the waterpoint uses\n",
    "- `extraction_type_class` - The kind of extraction the waterpoint uses\n",
    "- `management` - How the waterpoint is managed\n",
    "- `management_group` - How the waterpoint is managed\n",
    "- `payment` - What the water costs\n",
    "- `payment_type` - What the water costs\n",
    "- `water_quality` - The quality of the water\n",
    "- `quality_group` - The quality of the water\n",
    "- `quantity` - The quantity of water\n",
    "- `quantity_group` - The quantity of water\n",
    "- `source` - The source of the water\n",
    "- `source_type` - The source of the water\n",
    "- `source_class` - The source of the water\n",
    "- `waterpoint_type` - The kind of waterpoint\n",
    "- `waterpoint_type_group` - The kind of waterpoint\n",
    "- `region_code` - Geographic location (coded)\n",
    "- `district_code` - Geographic location (coded)\n",
    "- `scheme_name` - Who operates the waterpoint \n",
    "- `date_recorded` - The date the row was entered\n",
    "- `funder` - Who funded the well\n",
    "- `region` - Geographic location\n",
    "- `recorded_by` - Group entering this row of data\n",
    "- `target` - The current status of the waterpoint"
   ]
  },
  {
   "cell_type": "markdown",
   "metadata": {},
   "source": [
    "The dataset used for this analysis has 40 features (including the target feature), and 59,400 rows of data. The target feature is separated into three classifications:\n",
    "\n",
    "- 0 = Functional\n",
    "- 1 = Functional Needs Repair\n",
    "- 2 = Non-Functional"
   ]
  },
  {
   "cell_type": "markdown",
   "metadata": {},
   "source": [
    "## Label Encode Target Variables"
   ]
  },
  {
   "cell_type": "markdown",
   "metadata": {},
   "source": [
    "To better define the status of each well for this analysis, I have set up a binary system for the wells:\n",
    "- 0 = Functional\n",
    "- 1 = Needs Repair"
   ]
  },
  {
   "cell_type": "code",
   "execution_count": 3,
   "metadata": {
    "ExecuteTime": {
     "end_time": "2023-01-05T23:14:44.929047Z",
     "start_time": "2023-01-05T23:14:44.922581Z"
    }
   },
   "outputs": [],
   "source": [
    "y_encoded = pd.DataFrame(LabelEncoder().fit_transform(y_data_df['status_group']))"
   ]
  },
  {
   "cell_type": "code",
   "execution_count": 4,
   "metadata": {
    "ExecuteTime": {
     "end_time": "2023-01-05T23:14:45.660020Z",
     "start_time": "2023-01-05T23:14:45.651187Z"
    }
   },
   "outputs": [
    {
     "data": {
      "text/plain": [
       "0    0.543081\n",
       "2    0.384242\n",
       "1    0.072677\n",
       "dtype: float64"
      ]
     },
     "execution_count": 4,
     "metadata": {},
     "output_type": "execute_result"
    }
   ],
   "source": [
    "y_encoded.value_counts(normalize=True)"
   ]
  },
  {
   "cell_type": "code",
   "execution_count": 5,
   "metadata": {
    "ExecuteTime": {
     "end_time": "2023-01-05T23:14:46.270341Z",
     "start_time": "2023-01-05T23:14:46.267110Z"
    }
   },
   "outputs": [],
   "source": [
    "y_encoded = y_encoded.replace(2, 1)"
   ]
  },
  {
   "cell_type": "code",
   "execution_count": 6,
   "metadata": {
    "ExecuteTime": {
     "end_time": "2023-01-05T23:14:47.009448Z",
     "start_time": "2023-01-05T23:14:47.004750Z"
    }
   },
   "outputs": [
    {
     "data": {
      "text/plain": [
       "0    0.543081\n",
       "1    0.456919\n",
       "dtype: float64"
      ]
     },
     "execution_count": 6,
     "metadata": {},
     "output_type": "execute_result"
    }
   ],
   "source": [
    "y_encoded.value_counts(normalize=True)"
   ]
  },
  {
   "cell_type": "markdown",
   "metadata": {},
   "source": [
    "We can see that the data has a relatively even distribution. As such, we will not need to use any over sampling or under sampling techniques to get an even representation between the classifications."
   ]
  },
  {
   "cell_type": "markdown",
   "metadata": {},
   "source": [
    "## Bringing the Data Together"
   ]
  },
  {
   "cell_type": "markdown",
   "metadata": {},
   "source": [
    "When running machine learning algorithms, its important to separate the predictor and target variables in order to train the model. The provided data is already separate, but in order to clean the data, I will be dropping a few rows that have missing information. \n",
    "\n",
    "To ensure that the predictor and target variables are still in line, I need to combine the datasets before dropping any rows with missing information."
   ]
  },
  {
   "cell_type": "code",
   "execution_count": 7,
   "metadata": {
    "ExecuteTime": {
     "end_time": "2023-01-05T23:14:48.354594Z",
     "start_time": "2023-01-05T23:14:48.338694Z"
    }
   },
   "outputs": [],
   "source": [
    "df = pd.concat([X_data_df, y_encoded], axis=1)"
   ]
  },
  {
   "cell_type": "code",
   "execution_count": 8,
   "metadata": {
    "ExecuteTime": {
     "end_time": "2023-01-05T23:14:49.285717Z",
     "start_time": "2023-01-05T23:14:49.283564Z"
    }
   },
   "outputs": [],
   "source": [
    "# Giving the target column a name\n",
    "df.rename(mapper={0:'target'}, axis=1, inplace=True)"
   ]
  },
  {
   "cell_type": "code",
   "execution_count": 9,
   "metadata": {
    "ExecuteTime": {
     "end_time": "2023-01-05T23:14:50.119226Z",
     "start_time": "2023-01-05T23:14:50.067669Z"
    }
   },
   "outputs": [
    {
     "name": "stdout",
     "output_type": "stream",
     "text": [
      "<class 'pandas.core.frame.DataFrame'>\n",
      "RangeIndex: 59400 entries, 0 to 59399\n",
      "Data columns (total 41 columns):\n",
      " #   Column                 Non-Null Count  Dtype  \n",
      "---  ------                 --------------  -----  \n",
      " 0   id                     59400 non-null  int64  \n",
      " 1   amount_tsh             59400 non-null  float64\n",
      " 2   date_recorded          59400 non-null  object \n",
      " 3   funder                 55765 non-null  object \n",
      " 4   gps_height             59400 non-null  int64  \n",
      " 5   installer              55745 non-null  object \n",
      " 6   longitude              59400 non-null  float64\n",
      " 7   latitude               59400 non-null  float64\n",
      " 8   wpt_name               59400 non-null  object \n",
      " 9   num_private            59400 non-null  int64  \n",
      " 10  basin                  59400 non-null  object \n",
      " 11  subvillage             59029 non-null  object \n",
      " 12  region                 59400 non-null  object \n",
      " 13  region_code            59400 non-null  int64  \n",
      " 14  district_code          59400 non-null  int64  \n",
      " 15  lga                    59400 non-null  object \n",
      " 16  ward                   59400 non-null  object \n",
      " 17  population             59400 non-null  int64  \n",
      " 18  public_meeting         56066 non-null  object \n",
      " 19  recorded_by            59400 non-null  object \n",
      " 20  scheme_management      55523 non-null  object \n",
      " 21  scheme_name            31234 non-null  object \n",
      " 22  permit                 56344 non-null  object \n",
      " 23  construction_year      59400 non-null  int64  \n",
      " 24  extraction_type        59400 non-null  object \n",
      " 25  extraction_type_group  59400 non-null  object \n",
      " 26  extraction_type_class  59400 non-null  object \n",
      " 27  management             59400 non-null  object \n",
      " 28  management_group       59400 non-null  object \n",
      " 29  payment                59400 non-null  object \n",
      " 30  payment_type           59400 non-null  object \n",
      " 31  water_quality          59400 non-null  object \n",
      " 32  quality_group          59400 non-null  object \n",
      " 33  quantity               59400 non-null  object \n",
      " 34  quantity_group         59400 non-null  object \n",
      " 35  source                 59400 non-null  object \n",
      " 36  source_type            59400 non-null  object \n",
      " 37  source_class           59400 non-null  object \n",
      " 38  waterpoint_type        59400 non-null  object \n",
      " 39  waterpoint_type_group  59400 non-null  object \n",
      " 40  target                 59400 non-null  int32  \n",
      "dtypes: float64(3), int32(1), int64(7), object(30)\n",
      "memory usage: 18.4+ MB\n"
     ]
    }
   ],
   "source": [
    "df.info()"
   ]
  },
  {
   "cell_type": "markdown",
   "metadata": {},
   "source": [
    "## Dropping Columns"
   ]
  },
  {
   "cell_type": "markdown",
   "metadata": {},
   "source": [
    "To ensure that we are reducing the noise in the dataset while simultaneously being cognizant of computing time, we are removing a few columns that are not relevant to this analysis:\n",
    "\n",
    "- `scheme_name` - Who operates the waterpoint.\n",
    "    - This feature is missing a lot of data and the operator of the well should no impact the functionality of the well.\n",
    "- `id` - A unique identifier number for each well.\n",
    "    - The id code will not impact the well's functionality.\n",
    "- `date_recorded` - The date the row was entered.\n",
    "    - This is just data for when the information was recorded. This shouldn't have an effect on the well's functionality. \n",
    "- `funder` - Who funded the well.\n",
    "    - Who paid for the well should not impact the functionality of the well.\n",
    "- `recorded_by` - Group entering this row of data.\n",
    "    - The group who's taking notes on the wells would not affect the data itself.\n",
    "- `wpt_name` - Name of the waterpoint if there is one.\n",
    "    - Similar to `id`, the name of the waterpoint should not affect the functionality.\n",
    "- `region`, `subvillage`, `ward`, `lga`, and `basin` - Geographic location.\n",
    "    - The geographic location of the well is already recorded through the features `latitude` and `longitude` as well as `region_code` and `district_code`.\n",
    "- `quality_group` - The quality of water.\n",
    "    - The water quality is recorded more accurately in the `water_quality` feature.\n",
    "- `quantity_group` - The quantity of water.\n",
    "    - The water quantity is recorded more accurately in the `water_quantity` feature.\n",
    "- `installer` - Organization that installed the well.\n",
    "    - The organization in charge of installing the well does not impact its continued maintenance.\n",
    "- `source_type` and `source_class` - The source of the water.\n",
    "    - The source is recorded more accurately in the `source` feature.\n",
    "- `waterpoint_type_group` - The kind of waterpoint.\n",
    "    - The waterpoint type group is recorded more accurately in the `waterpoint_type` feature.\n",
    "- `extraction_type_group` and `extraction_type_class` - The kind of extraction the waterpoint uses.\n",
    "    - The kind of extraction is recorded more accurately in the `extraction_type` feature.\n",
    "- `management_group` - How the waterpoint is managed.\n",
    "    - Management is recorded more accurately in the `management` feature.\n",
    "- `payment_type` - What the water costs.\n",
    "    - Payment is recorded more accurately in the `payment` feature."
   ]
  },
  {
   "cell_type": "code",
   "execution_count": 10,
   "metadata": {
    "ExecuteTime": {
     "end_time": "2023-01-05T23:14:51.536534Z",
     "start_time": "2023-01-05T23:14:51.530807Z"
    }
   },
   "outputs": [],
   "source": [
    "cols_to_drop = ['scheme_name', 'id', 'date_recorded', 'region', 'funder', 'recorded_by'\n",
    "                , 'wpt_name', 'subvillage', 'ward', 'lga', 'basin', 'quality_group', 'quantity_group', \n",
    "                'installer', 'source_type', 'source_class', 'waterpoint_type_group', \n",
    "                'extraction_type_group', 'extraction_type_class', 'management_group',\n",
    "               'payment_type']\n",
    "df_dropped = df.drop(cols_to_drop, axis=1)"
   ]
  },
  {
   "cell_type": "markdown",
   "metadata": {},
   "source": [
    "## Addressing Missing Values"
   ]
  },
  {
   "cell_type": "markdown",
   "metadata": {},
   "source": [
    "The remaining features will have their information imputed based on the most frequent value in each category. I have decided to impute rather than drop the rows because each of the remaining features with missing values has a clearly identified 'most frequent' unique value. Also, in order to maintain the size and integrity of the dataset.\n",
    "\n",
    "In order to avoid potential data leakage from imputing these values, the missing data will be replaced later in this analysis through a pipeline after splitting training and test data."
   ]
  },
  {
   "cell_type": "code",
   "execution_count": 11,
   "metadata": {
    "ExecuteTime": {
     "end_time": "2023-01-05T23:14:55.319261Z",
     "start_time": "2023-01-05T23:14:55.290458Z"
    }
   },
   "outputs": [
    {
     "data": {
      "text/plain": [
       "amount_tsh              98\n",
       "gps_height            2428\n",
       "longitude            57516\n",
       "latitude             57517\n",
       "num_private             65\n",
       "region_code             27\n",
       "district_code           20\n",
       "population            1049\n",
       "public_meeting           2\n",
       "scheme_management       12\n",
       "permit                   2\n",
       "construction_year       55\n",
       "extraction_type         18\n",
       "management              12\n",
       "payment                  7\n",
       "water_quality            8\n",
       "quantity                 5\n",
       "source                  10\n",
       "waterpoint_type          7\n",
       "target                   2\n",
       "dtype: int64"
      ]
     },
     "execution_count": 11,
     "metadata": {},
     "output_type": "execute_result"
    }
   ],
   "source": [
    "df_dropped.nunique()"
   ]
  },
  {
   "cell_type": "code",
   "execution_count": 12,
   "metadata": {
    "ExecuteTime": {
     "end_time": "2023-01-05T23:15:07.034673Z",
     "start_time": "2023-01-05T23:15:07.019314Z"
    }
   },
   "outputs": [
    {
     "data": {
      "text/plain": [
       "amount_tsh              0\n",
       "gps_height              0\n",
       "longitude               0\n",
       "latitude                0\n",
       "num_private             0\n",
       "region_code             0\n",
       "district_code           0\n",
       "population              0\n",
       "public_meeting       3334\n",
       "scheme_management    3877\n",
       "permit               3056\n",
       "construction_year       0\n",
       "extraction_type         0\n",
       "management              0\n",
       "payment                 0\n",
       "water_quality           0\n",
       "quantity                0\n",
       "source                  0\n",
       "waterpoint_type         0\n",
       "target                  0\n",
       "dtype: int64"
      ]
     },
     "execution_count": 12,
     "metadata": {},
     "output_type": "execute_result"
    }
   ],
   "source": [
    "df_dropped.isna().sum()"
   ]
  },
  {
   "cell_type": "markdown",
   "metadata": {},
   "source": [
    "# Test stuff"
   ]
  },
  {
   "cell_type": "code",
   "execution_count": 279,
   "metadata": {
    "ExecuteTime": {
     "end_time": "2023-01-06T02:28:05.421308Z",
     "start_time": "2023-01-06T02:28:05.400406Z"
    }
   },
   "outputs": [
    {
     "data": {
      "text/html": [
       "<div>\n",
       "<style scoped>\n",
       "    .dataframe tbody tr th:only-of-type {\n",
       "        vertical-align: middle;\n",
       "    }\n",
       "\n",
       "    .dataframe tbody tr th {\n",
       "        vertical-align: top;\n",
       "    }\n",
       "\n",
       "    .dataframe thead th {\n",
       "        text-align: right;\n",
       "    }\n",
       "</style>\n",
       "<table border=\"1\" class=\"dataframe\">\n",
       "  <thead>\n",
       "    <tr style=\"text-align: right;\">\n",
       "      <th></th>\n",
       "      <th>amount_tsh</th>\n",
       "      <th>gps_height</th>\n",
       "      <th>longitude</th>\n",
       "      <th>latitude</th>\n",
       "      <th>num_private</th>\n",
       "      <th>region_code</th>\n",
       "      <th>district_code</th>\n",
       "      <th>population</th>\n",
       "      <th>public_meeting</th>\n",
       "      <th>scheme_management</th>\n",
       "      <th>permit</th>\n",
       "      <th>construction_year</th>\n",
       "      <th>extraction_type</th>\n",
       "      <th>management</th>\n",
       "      <th>payment</th>\n",
       "      <th>water_quality</th>\n",
       "      <th>quantity</th>\n",
       "      <th>source</th>\n",
       "      <th>waterpoint_type</th>\n",
       "      <th>target</th>\n",
       "    </tr>\n",
       "  </thead>\n",
       "  <tbody>\n",
       "    <tr>\n",
       "      <th>0</th>\n",
       "      <td>6000.0</td>\n",
       "      <td>1390</td>\n",
       "      <td>34.938093</td>\n",
       "      <td>-9.856322</td>\n",
       "      <td>0</td>\n",
       "      <td>11</td>\n",
       "      <td>5</td>\n",
       "      <td>109</td>\n",
       "      <td>True</td>\n",
       "      <td>VWC</td>\n",
       "      <td>False</td>\n",
       "      <td>1999</td>\n",
       "      <td>gravity</td>\n",
       "      <td>vwc</td>\n",
       "      <td>pay annually</td>\n",
       "      <td>soft</td>\n",
       "      <td>enough</td>\n",
       "      <td>spring</td>\n",
       "      <td>communal standpipe</td>\n",
       "      <td>0</td>\n",
       "    </tr>\n",
       "    <tr>\n",
       "      <th>1</th>\n",
       "      <td>0.0</td>\n",
       "      <td>1399</td>\n",
       "      <td>34.698766</td>\n",
       "      <td>-2.147466</td>\n",
       "      <td>0</td>\n",
       "      <td>20</td>\n",
       "      <td>2</td>\n",
       "      <td>280</td>\n",
       "      <td>NaN</td>\n",
       "      <td>Other</td>\n",
       "      <td>True</td>\n",
       "      <td>2010</td>\n",
       "      <td>gravity</td>\n",
       "      <td>wug</td>\n",
       "      <td>never pay</td>\n",
       "      <td>soft</td>\n",
       "      <td>insufficient</td>\n",
       "      <td>rainwater harvesting</td>\n",
       "      <td>communal standpipe</td>\n",
       "      <td>0</td>\n",
       "    </tr>\n",
       "    <tr>\n",
       "      <th>2</th>\n",
       "      <td>25.0</td>\n",
       "      <td>686</td>\n",
       "      <td>37.460664</td>\n",
       "      <td>-3.821329</td>\n",
       "      <td>0</td>\n",
       "      <td>21</td>\n",
       "      <td>4</td>\n",
       "      <td>250</td>\n",
       "      <td>True</td>\n",
       "      <td>VWC</td>\n",
       "      <td>True</td>\n",
       "      <td>2009</td>\n",
       "      <td>gravity</td>\n",
       "      <td>vwc</td>\n",
       "      <td>pay per bucket</td>\n",
       "      <td>soft</td>\n",
       "      <td>enough</td>\n",
       "      <td>dam</td>\n",
       "      <td>communal standpipe multiple</td>\n",
       "      <td>0</td>\n",
       "    </tr>\n",
       "    <tr>\n",
       "      <th>3</th>\n",
       "      <td>0.0</td>\n",
       "      <td>263</td>\n",
       "      <td>38.486161</td>\n",
       "      <td>-11.155298</td>\n",
       "      <td>0</td>\n",
       "      <td>90</td>\n",
       "      <td>63</td>\n",
       "      <td>58</td>\n",
       "      <td>True</td>\n",
       "      <td>VWC</td>\n",
       "      <td>True</td>\n",
       "      <td>1986</td>\n",
       "      <td>submersible</td>\n",
       "      <td>vwc</td>\n",
       "      <td>never pay</td>\n",
       "      <td>soft</td>\n",
       "      <td>dry</td>\n",
       "      <td>machine dbh</td>\n",
       "      <td>communal standpipe multiple</td>\n",
       "      <td>1</td>\n",
       "    </tr>\n",
       "    <tr>\n",
       "      <th>4</th>\n",
       "      <td>0.0</td>\n",
       "      <td>0</td>\n",
       "      <td>31.130847</td>\n",
       "      <td>-1.825359</td>\n",
       "      <td>0</td>\n",
       "      <td>18</td>\n",
       "      <td>1</td>\n",
       "      <td>0</td>\n",
       "      <td>True</td>\n",
       "      <td>NaN</td>\n",
       "      <td>True</td>\n",
       "      <td>0</td>\n",
       "      <td>gravity</td>\n",
       "      <td>other</td>\n",
       "      <td>never pay</td>\n",
       "      <td>soft</td>\n",
       "      <td>seasonal</td>\n",
       "      <td>rainwater harvesting</td>\n",
       "      <td>communal standpipe</td>\n",
       "      <td>0</td>\n",
       "    </tr>\n",
       "    <tr>\n",
       "      <th>...</th>\n",
       "      <td>...</td>\n",
       "      <td>...</td>\n",
       "      <td>...</td>\n",
       "      <td>...</td>\n",
       "      <td>...</td>\n",
       "      <td>...</td>\n",
       "      <td>...</td>\n",
       "      <td>...</td>\n",
       "      <td>...</td>\n",
       "      <td>...</td>\n",
       "      <td>...</td>\n",
       "      <td>...</td>\n",
       "      <td>...</td>\n",
       "      <td>...</td>\n",
       "      <td>...</td>\n",
       "      <td>...</td>\n",
       "      <td>...</td>\n",
       "      <td>...</td>\n",
       "      <td>...</td>\n",
       "      <td>...</td>\n",
       "    </tr>\n",
       "    <tr>\n",
       "      <th>59395</th>\n",
       "      <td>10.0</td>\n",
       "      <td>1210</td>\n",
       "      <td>37.169807</td>\n",
       "      <td>-3.253847</td>\n",
       "      <td>0</td>\n",
       "      <td>3</td>\n",
       "      <td>5</td>\n",
       "      <td>125</td>\n",
       "      <td>True</td>\n",
       "      <td>Water Board</td>\n",
       "      <td>True</td>\n",
       "      <td>1999</td>\n",
       "      <td>gravity</td>\n",
       "      <td>water board</td>\n",
       "      <td>pay per bucket</td>\n",
       "      <td>soft</td>\n",
       "      <td>enough</td>\n",
       "      <td>spring</td>\n",
       "      <td>communal standpipe</td>\n",
       "      <td>0</td>\n",
       "    </tr>\n",
       "    <tr>\n",
       "      <th>59396</th>\n",
       "      <td>4700.0</td>\n",
       "      <td>1212</td>\n",
       "      <td>35.249991</td>\n",
       "      <td>-9.070629</td>\n",
       "      <td>0</td>\n",
       "      <td>11</td>\n",
       "      <td>4</td>\n",
       "      <td>56</td>\n",
       "      <td>True</td>\n",
       "      <td>VWC</td>\n",
       "      <td>True</td>\n",
       "      <td>1996</td>\n",
       "      <td>gravity</td>\n",
       "      <td>vwc</td>\n",
       "      <td>pay annually</td>\n",
       "      <td>soft</td>\n",
       "      <td>enough</td>\n",
       "      <td>river</td>\n",
       "      <td>communal standpipe</td>\n",
       "      <td>0</td>\n",
       "    </tr>\n",
       "    <tr>\n",
       "      <th>59397</th>\n",
       "      <td>0.0</td>\n",
       "      <td>0</td>\n",
       "      <td>34.017087</td>\n",
       "      <td>-8.750434</td>\n",
       "      <td>0</td>\n",
       "      <td>12</td>\n",
       "      <td>7</td>\n",
       "      <td>0</td>\n",
       "      <td>True</td>\n",
       "      <td>VWC</td>\n",
       "      <td>False</td>\n",
       "      <td>0</td>\n",
       "      <td>swn 80</td>\n",
       "      <td>vwc</td>\n",
       "      <td>pay monthly</td>\n",
       "      <td>fluoride</td>\n",
       "      <td>enough</td>\n",
       "      <td>machine dbh</td>\n",
       "      <td>hand pump</td>\n",
       "      <td>0</td>\n",
       "    </tr>\n",
       "    <tr>\n",
       "      <th>59398</th>\n",
       "      <td>0.0</td>\n",
       "      <td>0</td>\n",
       "      <td>35.861315</td>\n",
       "      <td>-6.378573</td>\n",
       "      <td>0</td>\n",
       "      <td>1</td>\n",
       "      <td>4</td>\n",
       "      <td>0</td>\n",
       "      <td>True</td>\n",
       "      <td>VWC</td>\n",
       "      <td>True</td>\n",
       "      <td>0</td>\n",
       "      <td>nira/tanira</td>\n",
       "      <td>vwc</td>\n",
       "      <td>never pay</td>\n",
       "      <td>soft</td>\n",
       "      <td>insufficient</td>\n",
       "      <td>shallow well</td>\n",
       "      <td>hand pump</td>\n",
       "      <td>0</td>\n",
       "    </tr>\n",
       "    <tr>\n",
       "      <th>59399</th>\n",
       "      <td>0.0</td>\n",
       "      <td>191</td>\n",
       "      <td>38.104048</td>\n",
       "      <td>-6.747464</td>\n",
       "      <td>0</td>\n",
       "      <td>5</td>\n",
       "      <td>2</td>\n",
       "      <td>150</td>\n",
       "      <td>True</td>\n",
       "      <td>VWC</td>\n",
       "      <td>True</td>\n",
       "      <td>2002</td>\n",
       "      <td>nira/tanira</td>\n",
       "      <td>vwc</td>\n",
       "      <td>pay when scheme fails</td>\n",
       "      <td>salty</td>\n",
       "      <td>enough</td>\n",
       "      <td>shallow well</td>\n",
       "      <td>hand pump</td>\n",
       "      <td>0</td>\n",
       "    </tr>\n",
       "  </tbody>\n",
       "</table>\n",
       "<p>59400 rows × 20 columns</p>\n",
       "</div>"
      ],
      "text/plain": [
       "       amount_tsh  gps_height  longitude   latitude  num_private  region_code  \\\n",
       "0          6000.0        1390  34.938093  -9.856322            0           11   \n",
       "1             0.0        1399  34.698766  -2.147466            0           20   \n",
       "2            25.0         686  37.460664  -3.821329            0           21   \n",
       "3             0.0         263  38.486161 -11.155298            0           90   \n",
       "4             0.0           0  31.130847  -1.825359            0           18   \n",
       "...           ...         ...        ...        ...          ...          ...   \n",
       "59395        10.0        1210  37.169807  -3.253847            0            3   \n",
       "59396      4700.0        1212  35.249991  -9.070629            0           11   \n",
       "59397         0.0           0  34.017087  -8.750434            0           12   \n",
       "59398         0.0           0  35.861315  -6.378573            0            1   \n",
       "59399         0.0         191  38.104048  -6.747464            0            5   \n",
       "\n",
       "       district_code  population public_meeting scheme_management permit  \\\n",
       "0                  5         109           True               VWC  False   \n",
       "1                  2         280            NaN             Other   True   \n",
       "2                  4         250           True               VWC   True   \n",
       "3                 63          58           True               VWC   True   \n",
       "4                  1           0           True               NaN   True   \n",
       "...              ...         ...            ...               ...    ...   \n",
       "59395              5         125           True       Water Board   True   \n",
       "59396              4          56           True               VWC   True   \n",
       "59397              7           0           True               VWC  False   \n",
       "59398              4           0           True               VWC   True   \n",
       "59399              2         150           True               VWC   True   \n",
       "\n",
       "       construction_year extraction_type   management                payment  \\\n",
       "0                   1999         gravity          vwc           pay annually   \n",
       "1                   2010         gravity          wug              never pay   \n",
       "2                   2009         gravity          vwc         pay per bucket   \n",
       "3                   1986     submersible          vwc              never pay   \n",
       "4                      0         gravity        other              never pay   \n",
       "...                  ...             ...          ...                    ...   \n",
       "59395               1999         gravity  water board         pay per bucket   \n",
       "59396               1996         gravity          vwc           pay annually   \n",
       "59397                  0          swn 80          vwc            pay monthly   \n",
       "59398                  0     nira/tanira          vwc              never pay   \n",
       "59399               2002     nira/tanira          vwc  pay when scheme fails   \n",
       "\n",
       "      water_quality      quantity                source  \\\n",
       "0              soft        enough                spring   \n",
       "1              soft  insufficient  rainwater harvesting   \n",
       "2              soft        enough                   dam   \n",
       "3              soft           dry           machine dbh   \n",
       "4              soft      seasonal  rainwater harvesting   \n",
       "...             ...           ...                   ...   \n",
       "59395          soft        enough                spring   \n",
       "59396          soft        enough                 river   \n",
       "59397      fluoride        enough           machine dbh   \n",
       "59398          soft  insufficient          shallow well   \n",
       "59399         salty        enough          shallow well   \n",
       "\n",
       "                   waterpoint_type  target  \n",
       "0               communal standpipe       0  \n",
       "1               communal standpipe       0  \n",
       "2      communal standpipe multiple       0  \n",
       "3      communal standpipe multiple       1  \n",
       "4               communal standpipe       0  \n",
       "...                            ...     ...  \n",
       "59395           communal standpipe       0  \n",
       "59396           communal standpipe       0  \n",
       "59397                    hand pump       0  \n",
       "59398                    hand pump       0  \n",
       "59399                    hand pump       0  \n",
       "\n",
       "[59400 rows x 20 columns]"
      ]
     },
     "execution_count": 279,
     "metadata": {},
     "output_type": "execute_result"
    }
   ],
   "source": [
    "df_dropped"
   ]
  },
  {
   "cell_type": "code",
   "execution_count": 277,
   "metadata": {
    "ExecuteTime": {
     "end_time": "2023-01-06T02:27:42.773952Z",
     "start_time": "2023-01-06T02:27:42.770097Z"
    }
   },
   "outputs": [],
   "source": [
    "df_target = df_dropped.set_index('target')"
   ]
  },
  {
   "cell_type": "code",
   "execution_count": 278,
   "metadata": {
    "ExecuteTime": {
     "end_time": "2023-01-06T02:27:47.678093Z",
     "start_time": "2023-01-06T02:27:47.663852Z"
    }
   },
   "outputs": [
    {
     "data": {
      "text/html": [
       "<div>\n",
       "<style scoped>\n",
       "    .dataframe tbody tr th:only-of-type {\n",
       "        vertical-align: middle;\n",
       "    }\n",
       "\n",
       "    .dataframe tbody tr th {\n",
       "        vertical-align: top;\n",
       "    }\n",
       "\n",
       "    .dataframe thead th {\n",
       "        text-align: right;\n",
       "    }\n",
       "</style>\n",
       "<table border=\"1\" class=\"dataframe\">\n",
       "  <thead>\n",
       "    <tr style=\"text-align: right;\">\n",
       "      <th></th>\n",
       "      <th>amount_tsh</th>\n",
       "      <th>gps_height</th>\n",
       "      <th>longitude</th>\n",
       "      <th>latitude</th>\n",
       "      <th>num_private</th>\n",
       "      <th>region_code</th>\n",
       "      <th>district_code</th>\n",
       "      <th>population</th>\n",
       "      <th>public_meeting</th>\n",
       "      <th>scheme_management</th>\n",
       "      <th>permit</th>\n",
       "      <th>construction_year</th>\n",
       "      <th>extraction_type</th>\n",
       "      <th>management</th>\n",
       "      <th>payment</th>\n",
       "      <th>water_quality</th>\n",
       "      <th>quantity</th>\n",
       "      <th>source</th>\n",
       "      <th>waterpoint_type</th>\n",
       "    </tr>\n",
       "    <tr>\n",
       "      <th>target</th>\n",
       "      <th></th>\n",
       "      <th></th>\n",
       "      <th></th>\n",
       "      <th></th>\n",
       "      <th></th>\n",
       "      <th></th>\n",
       "      <th></th>\n",
       "      <th></th>\n",
       "      <th></th>\n",
       "      <th></th>\n",
       "      <th></th>\n",
       "      <th></th>\n",
       "      <th></th>\n",
       "      <th></th>\n",
       "      <th></th>\n",
       "      <th></th>\n",
       "      <th></th>\n",
       "      <th></th>\n",
       "      <th></th>\n",
       "    </tr>\n",
       "  </thead>\n",
       "  <tbody>\n",
       "    <tr>\n",
       "      <th>0</th>\n",
       "      <td>6000.0</td>\n",
       "      <td>1390</td>\n",
       "      <td>34.938093</td>\n",
       "      <td>-9.856322</td>\n",
       "      <td>0</td>\n",
       "      <td>11</td>\n",
       "      <td>5</td>\n",
       "      <td>109</td>\n",
       "      <td>True</td>\n",
       "      <td>VWC</td>\n",
       "      <td>False</td>\n",
       "      <td>1999</td>\n",
       "      <td>gravity</td>\n",
       "      <td>vwc</td>\n",
       "      <td>pay annually</td>\n",
       "      <td>soft</td>\n",
       "      <td>enough</td>\n",
       "      <td>spring</td>\n",
       "      <td>communal standpipe</td>\n",
       "    </tr>\n",
       "    <tr>\n",
       "      <th>0</th>\n",
       "      <td>0.0</td>\n",
       "      <td>1399</td>\n",
       "      <td>34.698766</td>\n",
       "      <td>-2.147466</td>\n",
       "      <td>0</td>\n",
       "      <td>20</td>\n",
       "      <td>2</td>\n",
       "      <td>280</td>\n",
       "      <td>NaN</td>\n",
       "      <td>Other</td>\n",
       "      <td>True</td>\n",
       "      <td>2010</td>\n",
       "      <td>gravity</td>\n",
       "      <td>wug</td>\n",
       "      <td>never pay</td>\n",
       "      <td>soft</td>\n",
       "      <td>insufficient</td>\n",
       "      <td>rainwater harvesting</td>\n",
       "      <td>communal standpipe</td>\n",
       "    </tr>\n",
       "    <tr>\n",
       "      <th>0</th>\n",
       "      <td>25.0</td>\n",
       "      <td>686</td>\n",
       "      <td>37.460664</td>\n",
       "      <td>-3.821329</td>\n",
       "      <td>0</td>\n",
       "      <td>21</td>\n",
       "      <td>4</td>\n",
       "      <td>250</td>\n",
       "      <td>True</td>\n",
       "      <td>VWC</td>\n",
       "      <td>True</td>\n",
       "      <td>2009</td>\n",
       "      <td>gravity</td>\n",
       "      <td>vwc</td>\n",
       "      <td>pay per bucket</td>\n",
       "      <td>soft</td>\n",
       "      <td>enough</td>\n",
       "      <td>dam</td>\n",
       "      <td>communal standpipe multiple</td>\n",
       "    </tr>\n",
       "    <tr>\n",
       "      <th>1</th>\n",
       "      <td>0.0</td>\n",
       "      <td>263</td>\n",
       "      <td>38.486161</td>\n",
       "      <td>-11.155298</td>\n",
       "      <td>0</td>\n",
       "      <td>90</td>\n",
       "      <td>63</td>\n",
       "      <td>58</td>\n",
       "      <td>True</td>\n",
       "      <td>VWC</td>\n",
       "      <td>True</td>\n",
       "      <td>1986</td>\n",
       "      <td>submersible</td>\n",
       "      <td>vwc</td>\n",
       "      <td>never pay</td>\n",
       "      <td>soft</td>\n",
       "      <td>dry</td>\n",
       "      <td>machine dbh</td>\n",
       "      <td>communal standpipe multiple</td>\n",
       "    </tr>\n",
       "    <tr>\n",
       "      <th>0</th>\n",
       "      <td>0.0</td>\n",
       "      <td>0</td>\n",
       "      <td>31.130847</td>\n",
       "      <td>-1.825359</td>\n",
       "      <td>0</td>\n",
       "      <td>18</td>\n",
       "      <td>1</td>\n",
       "      <td>0</td>\n",
       "      <td>True</td>\n",
       "      <td>NaN</td>\n",
       "      <td>True</td>\n",
       "      <td>0</td>\n",
       "      <td>gravity</td>\n",
       "      <td>other</td>\n",
       "      <td>never pay</td>\n",
       "      <td>soft</td>\n",
       "      <td>seasonal</td>\n",
       "      <td>rainwater harvesting</td>\n",
       "      <td>communal standpipe</td>\n",
       "    </tr>\n",
       "    <tr>\n",
       "      <th>...</th>\n",
       "      <td>...</td>\n",
       "      <td>...</td>\n",
       "      <td>...</td>\n",
       "      <td>...</td>\n",
       "      <td>...</td>\n",
       "      <td>...</td>\n",
       "      <td>...</td>\n",
       "      <td>...</td>\n",
       "      <td>...</td>\n",
       "      <td>...</td>\n",
       "      <td>...</td>\n",
       "      <td>...</td>\n",
       "      <td>...</td>\n",
       "      <td>...</td>\n",
       "      <td>...</td>\n",
       "      <td>...</td>\n",
       "      <td>...</td>\n",
       "      <td>...</td>\n",
       "      <td>...</td>\n",
       "    </tr>\n",
       "    <tr>\n",
       "      <th>0</th>\n",
       "      <td>10.0</td>\n",
       "      <td>1210</td>\n",
       "      <td>37.169807</td>\n",
       "      <td>-3.253847</td>\n",
       "      <td>0</td>\n",
       "      <td>3</td>\n",
       "      <td>5</td>\n",
       "      <td>125</td>\n",
       "      <td>True</td>\n",
       "      <td>Water Board</td>\n",
       "      <td>True</td>\n",
       "      <td>1999</td>\n",
       "      <td>gravity</td>\n",
       "      <td>water board</td>\n",
       "      <td>pay per bucket</td>\n",
       "      <td>soft</td>\n",
       "      <td>enough</td>\n",
       "      <td>spring</td>\n",
       "      <td>communal standpipe</td>\n",
       "    </tr>\n",
       "    <tr>\n",
       "      <th>0</th>\n",
       "      <td>4700.0</td>\n",
       "      <td>1212</td>\n",
       "      <td>35.249991</td>\n",
       "      <td>-9.070629</td>\n",
       "      <td>0</td>\n",
       "      <td>11</td>\n",
       "      <td>4</td>\n",
       "      <td>56</td>\n",
       "      <td>True</td>\n",
       "      <td>VWC</td>\n",
       "      <td>True</td>\n",
       "      <td>1996</td>\n",
       "      <td>gravity</td>\n",
       "      <td>vwc</td>\n",
       "      <td>pay annually</td>\n",
       "      <td>soft</td>\n",
       "      <td>enough</td>\n",
       "      <td>river</td>\n",
       "      <td>communal standpipe</td>\n",
       "    </tr>\n",
       "    <tr>\n",
       "      <th>0</th>\n",
       "      <td>0.0</td>\n",
       "      <td>0</td>\n",
       "      <td>34.017087</td>\n",
       "      <td>-8.750434</td>\n",
       "      <td>0</td>\n",
       "      <td>12</td>\n",
       "      <td>7</td>\n",
       "      <td>0</td>\n",
       "      <td>True</td>\n",
       "      <td>VWC</td>\n",
       "      <td>False</td>\n",
       "      <td>0</td>\n",
       "      <td>swn 80</td>\n",
       "      <td>vwc</td>\n",
       "      <td>pay monthly</td>\n",
       "      <td>fluoride</td>\n",
       "      <td>enough</td>\n",
       "      <td>machine dbh</td>\n",
       "      <td>hand pump</td>\n",
       "    </tr>\n",
       "    <tr>\n",
       "      <th>0</th>\n",
       "      <td>0.0</td>\n",
       "      <td>0</td>\n",
       "      <td>35.861315</td>\n",
       "      <td>-6.378573</td>\n",
       "      <td>0</td>\n",
       "      <td>1</td>\n",
       "      <td>4</td>\n",
       "      <td>0</td>\n",
       "      <td>True</td>\n",
       "      <td>VWC</td>\n",
       "      <td>True</td>\n",
       "      <td>0</td>\n",
       "      <td>nira/tanira</td>\n",
       "      <td>vwc</td>\n",
       "      <td>never pay</td>\n",
       "      <td>soft</td>\n",
       "      <td>insufficient</td>\n",
       "      <td>shallow well</td>\n",
       "      <td>hand pump</td>\n",
       "    </tr>\n",
       "    <tr>\n",
       "      <th>0</th>\n",
       "      <td>0.0</td>\n",
       "      <td>191</td>\n",
       "      <td>38.104048</td>\n",
       "      <td>-6.747464</td>\n",
       "      <td>0</td>\n",
       "      <td>5</td>\n",
       "      <td>2</td>\n",
       "      <td>150</td>\n",
       "      <td>True</td>\n",
       "      <td>VWC</td>\n",
       "      <td>True</td>\n",
       "      <td>2002</td>\n",
       "      <td>nira/tanira</td>\n",
       "      <td>vwc</td>\n",
       "      <td>pay when scheme fails</td>\n",
       "      <td>salty</td>\n",
       "      <td>enough</td>\n",
       "      <td>shallow well</td>\n",
       "      <td>hand pump</td>\n",
       "    </tr>\n",
       "  </tbody>\n",
       "</table>\n",
       "<p>59400 rows × 19 columns</p>\n",
       "</div>"
      ],
      "text/plain": [
       "        amount_tsh  gps_height  longitude   latitude  num_private  \\\n",
       "target                                                              \n",
       "0           6000.0        1390  34.938093  -9.856322            0   \n",
       "0              0.0        1399  34.698766  -2.147466            0   \n",
       "0             25.0         686  37.460664  -3.821329            0   \n",
       "1              0.0         263  38.486161 -11.155298            0   \n",
       "0              0.0           0  31.130847  -1.825359            0   \n",
       "...            ...         ...        ...        ...          ...   \n",
       "0             10.0        1210  37.169807  -3.253847            0   \n",
       "0           4700.0        1212  35.249991  -9.070629            0   \n",
       "0              0.0           0  34.017087  -8.750434            0   \n",
       "0              0.0           0  35.861315  -6.378573            0   \n",
       "0              0.0         191  38.104048  -6.747464            0   \n",
       "\n",
       "        region_code  district_code  population public_meeting  \\\n",
       "target                                                          \n",
       "0                11              5         109           True   \n",
       "0                20              2         280            NaN   \n",
       "0                21              4         250           True   \n",
       "1                90             63          58           True   \n",
       "0                18              1           0           True   \n",
       "...             ...            ...         ...            ...   \n",
       "0                 3              5         125           True   \n",
       "0                11              4          56           True   \n",
       "0                12              7           0           True   \n",
       "0                 1              4           0           True   \n",
       "0                 5              2         150           True   \n",
       "\n",
       "       scheme_management permit  construction_year extraction_type  \\\n",
       "target                                                               \n",
       "0                    VWC  False               1999         gravity   \n",
       "0                  Other   True               2010         gravity   \n",
       "0                    VWC   True               2009         gravity   \n",
       "1                    VWC   True               1986     submersible   \n",
       "0                    NaN   True                  0         gravity   \n",
       "...                  ...    ...                ...             ...   \n",
       "0            Water Board   True               1999         gravity   \n",
       "0                    VWC   True               1996         gravity   \n",
       "0                    VWC  False                  0          swn 80   \n",
       "0                    VWC   True                  0     nira/tanira   \n",
       "0                    VWC   True               2002     nira/tanira   \n",
       "\n",
       "         management                payment water_quality      quantity  \\\n",
       "target                                                                   \n",
       "0               vwc           pay annually          soft        enough   \n",
       "0               wug              never pay          soft  insufficient   \n",
       "0               vwc         pay per bucket          soft        enough   \n",
       "1               vwc              never pay          soft           dry   \n",
       "0             other              never pay          soft      seasonal   \n",
       "...             ...                    ...           ...           ...   \n",
       "0       water board         pay per bucket          soft        enough   \n",
       "0               vwc           pay annually          soft        enough   \n",
       "0               vwc            pay monthly      fluoride        enough   \n",
       "0               vwc              never pay          soft  insufficient   \n",
       "0               vwc  pay when scheme fails         salty        enough   \n",
       "\n",
       "                      source              waterpoint_type  \n",
       "target                                                     \n",
       "0                     spring           communal standpipe  \n",
       "0       rainwater harvesting           communal standpipe  \n",
       "0                        dam  communal standpipe multiple  \n",
       "1                machine dbh  communal standpipe multiple  \n",
       "0       rainwater harvesting           communal standpipe  \n",
       "...                      ...                          ...  \n",
       "0                     spring           communal standpipe  \n",
       "0                      river           communal standpipe  \n",
       "0                machine dbh                    hand pump  \n",
       "0               shallow well                    hand pump  \n",
       "0               shallow well                    hand pump  \n",
       "\n",
       "[59400 rows x 19 columns]"
      ]
     },
     "execution_count": 278,
     "metadata": {},
     "output_type": "execute_result"
    }
   ],
   "source": [
    "df_target"
   ]
  },
  {
   "cell_type": "code",
   "execution_count": 280,
   "metadata": {
    "ExecuteTime": {
     "end_time": "2023-01-06T02:30:31.201355Z",
     "start_time": "2023-01-06T02:30:31.190259Z"
    }
   },
   "outputs": [
    {
     "data": {
      "text/plain": [
       "source                target\n",
       "dam                   1           403\n",
       "                      0           253\n",
       "hand dtw              0           497\n",
       "                      1           377\n",
       "lake                  1           603\n",
       "                      0           162\n",
       "machine dbh           1          5653\n",
       "                      0          5422\n",
       "other                 0           126\n",
       "                      1            86\n",
       "rainwater harvesting  0          1386\n",
       "                      1           909\n",
       "river                 0          5465\n",
       "                      1          4147\n",
       "shallow well          1          8500\n",
       "                      0          8324\n",
       "spring                0         10592\n",
       "                      1          6429\n",
       "unknown               1            34\n",
       "                      0            32\n",
       "Name: target, dtype: int64"
      ]
     },
     "execution_count": 280,
     "metadata": {},
     "output_type": "execute_result"
    }
   ],
   "source": [
    "df_dropped.groupby('source')['target'].value_counts()"
   ]
  },
  {
   "cell_type": "code",
   "execution_count": 107,
   "metadata": {
    "ExecuteTime": {
     "end_time": "2023-01-06T00:46:09.473202Z",
     "start_time": "2023-01-06T00:46:09.458671Z"
    }
   },
   "outputs": [],
   "source": [
    "test = df_dropped.groupby('waterpoint_type')['target'].value_counts(normalize=True)"
   ]
  },
  {
   "cell_type": "code",
   "execution_count": 110,
   "metadata": {
    "ExecuteTime": {
     "end_time": "2023-01-06T00:46:25.753340Z",
     "start_time": "2023-01-06T00:46:25.739031Z"
    }
   },
   "outputs": [],
   "source": [
    "test_df = pd.DataFrame(test)"
   ]
  },
  {
   "cell_type": "code",
   "execution_count": 111,
   "metadata": {
    "ExecuteTime": {
     "end_time": "2023-01-06T00:46:27.821000Z",
     "start_time": "2023-01-06T00:46:27.810730Z"
    }
   },
   "outputs": [
    {
     "data": {
      "text/plain": [
       "waterpoint_type              target\n",
       "cattle trough                0         0.724138\n",
       "                             1         0.275862\n",
       "communal standpipe           0         0.621485\n",
       "                             1         0.378515\n",
       "communal standpipe multiple  1         0.633787\n",
       "                             0         0.366213\n",
       "dam                          0         0.857143\n",
       "                             1         0.142857\n",
       "hand pump                    0         0.617852\n",
       "                             1         0.382148\n",
       "improved spring              0         0.718112\n",
       "                             1         0.281888\n",
       "other                        1         0.868339\n",
       "                             0         0.131661\n",
       "Name: target, dtype: float64"
      ]
     },
     "execution_count": 111,
     "metadata": {},
     "output_type": "execute_result"
    }
   ],
   "source": [
    "test"
   ]
  },
  {
   "cell_type": "code",
   "execution_count": 131,
   "metadata": {
    "ExecuteTime": {
     "end_time": "2023-01-06T00:55:37.480997Z",
     "start_time": "2023-01-06T00:55:37.465448Z"
    }
   },
   "outputs": [],
   "source": [
    "test_df = test_df.rename(columns={'target':'percentage'})"
   ]
  },
  {
   "cell_type": "code",
   "execution_count": 134,
   "metadata": {
    "ExecuteTime": {
     "end_time": "2023-01-06T00:56:19.108173Z",
     "start_time": "2023-01-06T00:56:19.091134Z"
    }
   },
   "outputs": [],
   "source": [
    "test_df = test_df.reset_index()"
   ]
  },
  {
   "cell_type": "code",
   "execution_count": 163,
   "metadata": {
    "ExecuteTime": {
     "end_time": "2023-01-06T01:11:13.305088Z",
     "start_time": "2023-01-06T01:11:13.293078Z"
    }
   },
   "outputs": [
    {
     "data": {
      "text/plain": [
       "13                          other\n",
       "5     communal standpipe multiple\n",
       "8                       hand pump\n",
       "2              communal standpipe\n",
       "10                improved spring\n",
       "0                   cattle trough\n",
       "6                             dam\n",
       "Name: waterpoint_type, dtype: object"
      ]
     },
     "execution_count": 163,
     "metadata": {},
     "output_type": "execute_result"
    }
   ],
   "source": [
    "test_df[test_df['target']==0].sort_values('percentage')['waterpoint_type']"
   ]
  },
  {
   "cell_type": "code",
   "execution_count": 238,
   "metadata": {
    "ExecuteTime": {
     "end_time": "2023-01-06T01:43:00.451721Z",
     "start_time": "2023-01-06T01:43:00.444535Z"
    }
   },
   "outputs": [],
   "source": [
    "test_df2 = test_df.copy()"
   ]
  },
  {
   "cell_type": "code",
   "execution_count": 239,
   "metadata": {
    "ExecuteTime": {
     "end_time": "2023-01-06T01:43:00.781292Z",
     "start_time": "2023-01-06T01:43:00.764758Z"
    }
   },
   "outputs": [],
   "source": [
    "test_df2 = test_df2.set_index('waterpoint_type')"
   ]
  },
  {
   "cell_type": "code",
   "execution_count": 243,
   "metadata": {
    "ExecuteTime": {
     "end_time": "2023-01-06T01:43:35.229414Z",
     "start_time": "2023-01-06T01:43:35.220286Z"
    }
   },
   "outputs": [],
   "source": [
    "test_df3 = test_df2[test_df2['target'] ==0].copy()"
   ]
  },
  {
   "cell_type": "code",
   "execution_count": 244,
   "metadata": {
    "ExecuteTime": {
     "end_time": "2023-01-06T01:43:35.897221Z",
     "start_time": "2023-01-06T01:43:35.886364Z"
    }
   },
   "outputs": [],
   "source": [
    "test_df3 = test_df3.drop('target', axis=1).rename(columns={'percentage':'Functional'}).sort_values(by='Functional',ascending=False)"
   ]
  },
  {
   "cell_type": "code",
   "execution_count": 245,
   "metadata": {
    "ExecuteTime": {
     "end_time": "2023-01-06T01:43:49.100473Z",
     "start_time": "2023-01-06T01:43:49.096586Z"
    }
   },
   "outputs": [
    {
     "data": {
      "text/html": [
       "<div>\n",
       "<style scoped>\n",
       "    .dataframe tbody tr th:only-of-type {\n",
       "        vertical-align: middle;\n",
       "    }\n",
       "\n",
       "    .dataframe tbody tr th {\n",
       "        vertical-align: top;\n",
       "    }\n",
       "\n",
       "    .dataframe thead th {\n",
       "        text-align: right;\n",
       "    }\n",
       "</style>\n",
       "<table border=\"1\" class=\"dataframe\">\n",
       "  <thead>\n",
       "    <tr style=\"text-align: right;\">\n",
       "      <th></th>\n",
       "      <th>Functional</th>\n",
       "    </tr>\n",
       "    <tr>\n",
       "      <th>waterpoint_type</th>\n",
       "      <th></th>\n",
       "    </tr>\n",
       "  </thead>\n",
       "  <tbody>\n",
       "    <tr>\n",
       "      <th>dam</th>\n",
       "      <td>0.857143</td>\n",
       "    </tr>\n",
       "    <tr>\n",
       "      <th>cattle trough</th>\n",
       "      <td>0.724138</td>\n",
       "    </tr>\n",
       "    <tr>\n",
       "      <th>improved spring</th>\n",
       "      <td>0.718112</td>\n",
       "    </tr>\n",
       "    <tr>\n",
       "      <th>communal standpipe</th>\n",
       "      <td>0.621485</td>\n",
       "    </tr>\n",
       "    <tr>\n",
       "      <th>hand pump</th>\n",
       "      <td>0.617852</td>\n",
       "    </tr>\n",
       "    <tr>\n",
       "      <th>communal standpipe multiple</th>\n",
       "      <td>0.366213</td>\n",
       "    </tr>\n",
       "    <tr>\n",
       "      <th>other</th>\n",
       "      <td>0.131661</td>\n",
       "    </tr>\n",
       "  </tbody>\n",
       "</table>\n",
       "</div>"
      ],
      "text/plain": [
       "                             Functional\n",
       "waterpoint_type                        \n",
       "dam                            0.857143\n",
       "cattle trough                  0.724138\n",
       "improved spring                0.718112\n",
       "communal standpipe             0.621485\n",
       "hand pump                      0.617852\n",
       "communal standpipe multiple    0.366213\n",
       "other                          0.131661"
      ]
     },
     "execution_count": 245,
     "metadata": {},
     "output_type": "execute_result"
    }
   ],
   "source": [
    "test_df3"
   ]
  },
  {
   "cell_type": "code",
   "execution_count": 246,
   "metadata": {
    "ExecuteTime": {
     "end_time": "2023-01-06T01:44:00.889865Z",
     "start_time": "2023-01-06T01:44:00.884730Z"
    }
   },
   "outputs": [],
   "source": [
    "test_df3['Needs Repair'] = test_df2[test_df2['target'] ==1].drop('target', axis=1)"
   ]
  },
  {
   "cell_type": "code",
   "execution_count": 282,
   "metadata": {
    "ExecuteTime": {
     "end_time": "2023-01-06T03:03:27.892419Z",
     "start_time": "2023-01-06T03:03:27.783353Z"
    }
   },
   "outputs": [
    {
     "name": "stderr",
     "output_type": "stream",
     "text": [
      "<ipython-input-282-2e4e0ebef498>:7: UserWarning: FixedFormatter should only be used together with FixedLocator\n",
      "  ax.set_yticklabels(['0%', '20%', '40%', '60%', '80%', '100%']);\n"
     ]
    },
    {
     "data": {
      "image/png": "[encoded data removed]",
      "text/plain": [
       "<Figure size 1080x720 with 1 Axes>"
      ]
     },
     "metadata": {
      "needs_background": "light"
     },
     "output_type": "display_data"
    }
   ],
   "source": [
    "fig, ax = plt.subplots(figsize=(15,10))\n",
    "sns.set_palette(\"Set2\")\n",
    "ax = test_df3.plot(kind='bar', stacked=True, ax=ax, rot=0)\n",
    "ax.set_xlabel('Waterpoint Type', size=15)\n",
    "ax.set_ylabel('Percent of Wells', size=15)\n",
    "ax.set_title('Waterpoint Type Functionality', size=25, pad=15)\n",
    "ax.set_yticklabels(['0%', '20%', '40%', '60%', '80%', '100%']);"
   ]
  },
  {
   "cell_type": "code",
   "execution_count": 169,
   "metadata": {
    "ExecuteTime": {
     "end_time": "2023-01-06T01:12:44.299248Z",
     "start_time": "2023-01-06T01:12:44.117047Z"
    },
    "scrolled": false
   },
   "outputs": [
    {
     "data": {
      "image/png": "[encoded data removed]",
      "text/plain": [
       "<Figure size 1050.38x720 with 1 Axes>"
      ]
     },
     "metadata": {
      "needs_background": "light"
     },
     "output_type": "display_data"
    }
   ],
   "source": [
    "# fig, ax = plt.subplots(figsize=(12,10))\n",
    "ax = sns.barplot(order= test_df[test_df['target']==0].sort_values('percentage')['waterpoint_type'],data=test_df, x='waterpoint_type', y='percentage', hue='target', kind=\"bar\", palette='Set2', height=10, aspect=1.4)\n",
    "\n",
    "# ax.set_xticklabels(rotation=15, fontdict= {#'fontsize': rcParams['axes.titlesize'],\n",
    "#                                            #'fontweight': rcParams['axes.titleweight'],\n",
    "#                                            'verticalalignment': 'center_baseline',\n",
    "#                                            'horizontalalignment': 'center'})"
   ]
  },
  {
   "cell_type": "code",
   "execution_count": 51,
   "metadata": {
    "ExecuteTime": {
     "end_time": "2023-01-05T23:42:33.758745Z",
     "start_time": "2023-01-05T23:42:33.625515Z"
    },
    "scrolled": false
   },
   "outputs": [
    {
     "data": {
      "text/plain": [
       "<AxesSubplot:xlabel='waterpoint_type', ylabel='Count'>"
      ]
     },
     "execution_count": 51,
     "metadata": {},
     "output_type": "execute_result"
    },
    {
     "data": {
      "image/png": "[encoded data removed]",
      "text/plain": [
       "<Figure size 864x864 with 1 Axes>"
      ]
     },
     "metadata": {
      "needs_background": "light"
     },
     "output_type": "display_data"
    }
   ],
   "source": [
    "fig, ax = plt.subplots(figsize=(12,12))\n",
    "sns.histplot(data = df_dropped, x='waterpoint_type', hue='target')"
   ]
  },
  {
   "cell_type": "code",
   "execution_count": 28,
   "metadata": {
    "ExecuteTime": {
     "end_time": "2023-01-05T23:24:26.859389Z",
     "start_time": "2023-01-05T23:24:26.852790Z"
    }
   },
   "outputs": [
    {
     "data": {
      "text/plain": [
       "communal standpipe             28522\n",
       "hand pump                      17488\n",
       "other                           6380\n",
       "communal standpipe multiple     6103\n",
       "improved spring                  784\n",
       "cattle trough                    116\n",
       "dam                                7\n",
       "Name: waterpoint_type, dtype: int64"
      ]
     },
     "execution_count": 28,
     "metadata": {},
     "output_type": "execute_result"
    }
   ],
   "source": [
    "df_dropped['waterpoint_type'].value_counts()"
   ]
  },
  {
   "cell_type": "markdown",
   "metadata": {},
   "source": [
    "### Creating a basic plot for target counts"
   ]
  },
  {
   "cell_type": "code",
   "execution_count": 67,
   "metadata": {
    "ExecuteTime": {
     "end_time": "2023-01-05T23:54:35.831020Z",
     "start_time": "2023-01-05T23:54:35.814112Z"
    }
   },
   "outputs": [],
   "source": [
    "target_df = pd.DataFrame(df_dropped['target'].value_counts(normalize=True).copy())"
   ]
  },
  {
   "cell_type": "code",
   "execution_count": 68,
   "metadata": {
    "ExecuteTime": {
     "end_time": "2023-01-05T23:54:36.283547Z",
     "start_time": "2023-01-05T23:54:36.277433Z"
    }
   },
   "outputs": [],
   "source": [
    "target_df['Well Status'] = ['Functioning', 'Needs Repair']"
   ]
  },
  {
   "cell_type": "code",
   "execution_count": 69,
   "metadata": {
    "ExecuteTime": {
     "end_time": "2023-01-05T23:54:36.956910Z",
     "start_time": "2023-01-05T23:54:36.949978Z"
    }
   },
   "outputs": [
    {
     "data": {
      "text/html": [
       "<div>\n",
       "<style scoped>\n",
       "    .dataframe tbody tr th:only-of-type {\n",
       "        vertical-align: middle;\n",
       "    }\n",
       "\n",
       "    .dataframe tbody tr th {\n",
       "        vertical-align: top;\n",
       "    }\n",
       "\n",
       "    .dataframe thead th {\n",
       "        text-align: right;\n",
       "    }\n",
       "</style>\n",
       "<table border=\"1\" class=\"dataframe\">\n",
       "  <thead>\n",
       "    <tr style=\"text-align: right;\">\n",
       "      <th></th>\n",
       "      <th>target</th>\n",
       "      <th>Well Status</th>\n",
       "    </tr>\n",
       "  </thead>\n",
       "  <tbody>\n",
       "    <tr>\n",
       "      <th>0</th>\n",
       "      <td>0.543081</td>\n",
       "      <td>Functioning</td>\n",
       "    </tr>\n",
       "    <tr>\n",
       "      <th>1</th>\n",
       "      <td>0.456919</td>\n",
       "      <td>Needs Repair</td>\n",
       "    </tr>\n",
       "  </tbody>\n",
       "</table>\n",
       "</div>"
      ],
      "text/plain": [
       "     target   Well Status\n",
       "0  0.543081   Functioning\n",
       "1  0.456919  Needs Repair"
      ]
     },
     "execution_count": 69,
     "metadata": {},
     "output_type": "execute_result"
    }
   ],
   "source": [
    "target_df"
   ]
  },
  {
   "cell_type": "code",
   "execution_count": 89,
   "metadata": {
    "ExecuteTime": {
     "end_time": "2023-01-06T00:39:43.660015Z",
     "start_time": "2023-01-06T00:39:43.544800Z"
    }
   },
   "outputs": [
    {
     "name": "stderr",
     "output_type": "stream",
     "text": [
      "<ipython-input-89-11859111a684>:5: UserWarning: FixedFormatter should only be used together with FixedLocator\n",
      "  ax.set_yticklabels(['0%', '10%', '20%', '30%', '40%', '50%'])\n"
     ]
    },
    {
     "data": {
      "image/png": "[encoded data removed]",
      "text/plain": [
       "<Figure size 864x720 with 1 Axes>"
      ]
     },
     "metadata": {
      "needs_background": "light"
     },
     "output_type": "display_data"
    }
   ],
   "source": [
    "fig, ax = plt.subplots(figsize=(12,10))\n",
    "\n",
    "sns.barplot(data= target_df, x='Well Status', y='target', palette=\"Set2\")\n",
    "\n",
    "ax.set_yticklabels(['0%', '10%', '20%', '30%', '40%', '50%'])\n",
    "ax.set_ylabel('Percent of Wells', size=15)\n",
    "ax.set_xlabel('Well Status', size=15)\n",
    "ax.set_title('Percent of Functioning Wells', size=25, pad=15);\n",
    "# plt.savefig(fname='initial_plot.png', dpi=100)"
   ]
  },
  {
   "cell_type": "code",
   "execution_count": 21,
   "metadata": {
    "ExecuteTime": {
     "end_time": "2023-01-05T23:20:34.605468Z",
     "start_time": "2023-01-05T23:20:34.599906Z"
    }
   },
   "outputs": [],
   "source": [
    "df_broken = df_dropped[df_dropped['target'] == 1].copy()"
   ]
  },
  {
   "cell_type": "code",
   "execution_count": 22,
   "metadata": {
    "ExecuteTime": {
     "end_time": "2023-01-05T23:21:25.031183Z",
     "start_time": "2023-01-05T23:21:24.952153Z"
    }
   },
   "outputs": [
    {
     "data": {
      "text/plain": [
       "<AxesSubplot:xlabel='waterpoint_type', ylabel='target'>"
      ]
     },
     "execution_count": 22,
     "metadata": {},
     "output_type": "execute_result"
    },
    {
     "data": {
      "image/png": "[encoded data removed]",
      "text/plain": [
       "<Figure size 432x288 with 1 Axes>"
      ]
     },
     "metadata": {
      "needs_background": "light"
     },
     "output_type": "display_data"
    }
   ],
   "source": [
    "sns.barplot(x=df_broken['waterpoint_type'], y=df_dropped['target'].value_counts())"
   ]
  },
  {
   "cell_type": "markdown",
   "metadata": {},
   "source": [
    "## Column Dtypes"
   ]
  },
  {
   "cell_type": "markdown",
   "metadata": {},
   "source": [
    "This dataset contains a wide variety of informational types. For the purpose of this analysis, I have recategorized two features from numerical types to categorical:\n",
    "\n",
    "- `region_code`: A codified descriptor for the waterpoint's region.\n",
    "- `district_code`: A codified descriptor for the waterpoint's district."
   ]
  },
  {
   "cell_type": "code",
   "execution_count": 13,
   "metadata": {
    "ExecuteTime": {
     "end_time": "2023-01-05T21:35:51.947597Z",
     "start_time": "2023-01-05T21:35:51.915611Z"
    }
   },
   "outputs": [
    {
     "data": {
      "text/html": [
       "<div>\n",
       "<style scoped>\n",
       "    .dataframe tbody tr th:only-of-type {\n",
       "        vertical-align: middle;\n",
       "    }\n",
       "\n",
       "    .dataframe tbody tr th {\n",
       "        vertical-align: top;\n",
       "    }\n",
       "\n",
       "    .dataframe thead th {\n",
       "        text-align: right;\n",
       "    }\n",
       "</style>\n",
       "<table border=\"1\" class=\"dataframe\">\n",
       "  <thead>\n",
       "    <tr style=\"text-align: right;\">\n",
       "      <th></th>\n",
       "      <th>amount_tsh</th>\n",
       "      <th>gps_height</th>\n",
       "      <th>longitude</th>\n",
       "      <th>latitude</th>\n",
       "      <th>num_private</th>\n",
       "      <th>region_code</th>\n",
       "      <th>district_code</th>\n",
       "      <th>population</th>\n",
       "      <th>construction_year</th>\n",
       "      <th>target</th>\n",
       "    </tr>\n",
       "  </thead>\n",
       "  <tbody>\n",
       "    <tr>\n",
       "      <th>count</th>\n",
       "      <td>59400.000000</td>\n",
       "      <td>59400.000000</td>\n",
       "      <td>59400.000000</td>\n",
       "      <td>5.940000e+04</td>\n",
       "      <td>59400.000000</td>\n",
       "      <td>59400.000000</td>\n",
       "      <td>59400.000000</td>\n",
       "      <td>59400.000000</td>\n",
       "      <td>59400.000000</td>\n",
       "      <td>59400.000000</td>\n",
       "    </tr>\n",
       "    <tr>\n",
       "      <th>mean</th>\n",
       "      <td>317.650385</td>\n",
       "      <td>668.297239</td>\n",
       "      <td>34.077427</td>\n",
       "      <td>-5.706033e+00</td>\n",
       "      <td>0.474141</td>\n",
       "      <td>15.297003</td>\n",
       "      <td>5.629747</td>\n",
       "      <td>179.909983</td>\n",
       "      <td>1300.652475</td>\n",
       "      <td>0.456919</td>\n",
       "    </tr>\n",
       "    <tr>\n",
       "      <th>std</th>\n",
       "      <td>2997.574558</td>\n",
       "      <td>693.116350</td>\n",
       "      <td>6.567432</td>\n",
       "      <td>2.946019e+00</td>\n",
       "      <td>12.236230</td>\n",
       "      <td>17.587406</td>\n",
       "      <td>9.633649</td>\n",
       "      <td>471.482176</td>\n",
       "      <td>951.620547</td>\n",
       "      <td>0.498145</td>\n",
       "    </tr>\n",
       "    <tr>\n",
       "      <th>min</th>\n",
       "      <td>0.000000</td>\n",
       "      <td>-90.000000</td>\n",
       "      <td>0.000000</td>\n",
       "      <td>-1.164944e+01</td>\n",
       "      <td>0.000000</td>\n",
       "      <td>1.000000</td>\n",
       "      <td>0.000000</td>\n",
       "      <td>0.000000</td>\n",
       "      <td>0.000000</td>\n",
       "      <td>0.000000</td>\n",
       "    </tr>\n",
       "    <tr>\n",
       "      <th>25%</th>\n",
       "      <td>0.000000</td>\n",
       "      <td>0.000000</td>\n",
       "      <td>33.090347</td>\n",
       "      <td>-8.540621e+00</td>\n",
       "      <td>0.000000</td>\n",
       "      <td>5.000000</td>\n",
       "      <td>2.000000</td>\n",
       "      <td>0.000000</td>\n",
       "      <td>0.000000</td>\n",
       "      <td>0.000000</td>\n",
       "    </tr>\n",
       "    <tr>\n",
       "      <th>50%</th>\n",
       "      <td>0.000000</td>\n",
       "      <td>369.000000</td>\n",
       "      <td>34.908743</td>\n",
       "      <td>-5.021597e+00</td>\n",
       "      <td>0.000000</td>\n",
       "      <td>12.000000</td>\n",
       "      <td>3.000000</td>\n",
       "      <td>25.000000</td>\n",
       "      <td>1986.000000</td>\n",
       "      <td>0.000000</td>\n",
       "    </tr>\n",
       "    <tr>\n",
       "      <th>75%</th>\n",
       "      <td>20.000000</td>\n",
       "      <td>1319.250000</td>\n",
       "      <td>37.178387</td>\n",
       "      <td>-3.326156e+00</td>\n",
       "      <td>0.000000</td>\n",
       "      <td>17.000000</td>\n",
       "      <td>5.000000</td>\n",
       "      <td>215.000000</td>\n",
       "      <td>2004.000000</td>\n",
       "      <td>1.000000</td>\n",
       "    </tr>\n",
       "    <tr>\n",
       "      <th>max</th>\n",
       "      <td>350000.000000</td>\n",
       "      <td>2770.000000</td>\n",
       "      <td>40.345193</td>\n",
       "      <td>-2.000000e-08</td>\n",
       "      <td>1776.000000</td>\n",
       "      <td>99.000000</td>\n",
       "      <td>80.000000</td>\n",
       "      <td>30500.000000</td>\n",
       "      <td>2013.000000</td>\n",
       "      <td>1.000000</td>\n",
       "    </tr>\n",
       "  </tbody>\n",
       "</table>\n",
       "</div>"
      ],
      "text/plain": [
       "          amount_tsh    gps_height     longitude      latitude   num_private  \\\n",
       "count   59400.000000  59400.000000  59400.000000  5.940000e+04  59400.000000   \n",
       "mean      317.650385    668.297239     34.077427 -5.706033e+00      0.474141   \n",
       "std      2997.574558    693.116350      6.567432  2.946019e+00     12.236230   \n",
       "min         0.000000    -90.000000      0.000000 -1.164944e+01      0.000000   \n",
       "25%         0.000000      0.000000     33.090347 -8.540621e+00      0.000000   \n",
       "50%         0.000000    369.000000     34.908743 -5.021597e+00      0.000000   \n",
       "75%        20.000000   1319.250000     37.178387 -3.326156e+00      0.000000   \n",
       "max    350000.000000   2770.000000     40.345193 -2.000000e-08   1776.000000   \n",
       "\n",
       "        region_code  district_code    population  construction_year  \\\n",
       "count  59400.000000   59400.000000  59400.000000       59400.000000   \n",
       "mean      15.297003       5.629747    179.909983        1300.652475   \n",
       "std       17.587406       9.633649    471.482176         951.620547   \n",
       "min        1.000000       0.000000      0.000000           0.000000   \n",
       "25%        5.000000       2.000000      0.000000           0.000000   \n",
       "50%       12.000000       3.000000     25.000000        1986.000000   \n",
       "75%       17.000000       5.000000    215.000000        2004.000000   \n",
       "max       99.000000      80.000000  30500.000000        2013.000000   \n",
       "\n",
       "             target  \n",
       "count  59400.000000  \n",
       "mean       0.456919  \n",
       "std        0.498145  \n",
       "min        0.000000  \n",
       "25%        0.000000  \n",
       "50%        0.000000  \n",
       "75%        1.000000  \n",
       "max        1.000000  "
      ]
     },
     "execution_count": 13,
     "metadata": {},
     "output_type": "execute_result"
    }
   ],
   "source": [
    "df_dropped.describe()"
   ]
  },
  {
   "cell_type": "code",
   "execution_count": 14,
   "metadata": {
    "ExecuteTime": {
     "end_time": "2023-01-05T21:35:51.977657Z",
     "start_time": "2023-01-05T21:35:51.947597Z"
    }
   },
   "outputs": [
    {
     "name": "stdout",
     "output_type": "stream",
     "text": [
      "<class 'pandas.core.frame.DataFrame'>\n",
      "RangeIndex: 59400 entries, 0 to 59399\n",
      "Data columns (total 20 columns):\n",
      " #   Column             Non-Null Count  Dtype  \n",
      "---  ------             --------------  -----  \n",
      " 0   amount_tsh         59400 non-null  float64\n",
      " 1   gps_height         59400 non-null  int64  \n",
      " 2   longitude          59400 non-null  float64\n",
      " 3   latitude           59400 non-null  float64\n",
      " 4   num_private        59400 non-null  int64  \n",
      " 5   region_code        59400 non-null  int64  \n",
      " 6   district_code      59400 non-null  int64  \n",
      " 7   population         59400 non-null  int64  \n",
      " 8   public_meeting     56066 non-null  object \n",
      " 9   scheme_management  55523 non-null  object \n",
      " 10  permit             56344 non-null  object \n",
      " 11  construction_year  59400 non-null  int64  \n",
      " 12  extraction_type    59400 non-null  object \n",
      " 13  management         59400 non-null  object \n",
      " 14  payment            59400 non-null  object \n",
      " 15  water_quality      59400 non-null  object \n",
      " 16  quantity           59400 non-null  object \n",
      " 17  source             59400 non-null  object \n",
      " 18  waterpoint_type    59400 non-null  object \n",
      " 19  target             59400 non-null  int32  \n",
      "dtypes: float64(3), int32(1), int64(6), object(10)\n",
      "memory usage: 8.8+ MB\n"
     ]
    }
   ],
   "source": [
    "df_dropped.info()"
   ]
  },
  {
   "cell_type": "code",
   "execution_count": 15,
   "metadata": {
    "ExecuteTime": {
     "end_time": "2023-01-05T21:35:51.993382Z",
     "start_time": "2023-01-05T21:35:51.977657Z"
    }
   },
   "outputs": [],
   "source": [
    "to_object = ['region_code', 'district_code']\n",
    "df_clean = df_dropped.copy()\n",
    "\n",
    "for obj in to_object:\n",
    "    df_clean[obj] = df_clean[obj].astype(object)"
   ]
  },
  {
   "cell_type": "markdown",
   "metadata": {},
   "source": [
    "We now have perfectly clean data with no data leakage:\n",
    "\n",
    "- The target variable has been Label Encoded.\n",
    "- Dropped irrelevant columns.\n",
    "- Column Dtypes have been reassigned for categorical columns."
   ]
  },
  {
   "cell_type": "markdown",
   "metadata": {},
   "source": [
    "## Separating the Data"
   ]
  },
  {
   "cell_type": "markdown",
   "metadata": {},
   "source": [
    "Now that the dataset has been cleaned we can begin the final preparations before beginning modeling. First, we need to separate the predictor and target variables again, then split the data into training and test groups."
   ]
  },
  {
   "cell_type": "code",
   "execution_count": 16,
   "metadata": {
    "ExecuteTime": {
     "end_time": "2023-01-05T21:35:52.009403Z",
     "start_time": "2023-01-05T21:35:51.994382Z"
    }
   },
   "outputs": [],
   "source": [
    "y = df_clean['target']\n",
    "X = df_clean.drop(['target'], axis =1)"
   ]
  },
  {
   "cell_type": "code",
   "execution_count": 17,
   "metadata": {
    "ExecuteTime": {
     "end_time": "2023-01-05T21:35:52.024584Z",
     "start_time": "2023-01-05T21:35:52.010404Z"
    }
   },
   "outputs": [],
   "source": [
    "X_train, X_test, y_train, y_test = train_test_split(X, y, random_state=42)"
   ]
  },
  {
   "cell_type": "markdown",
   "metadata": {},
   "source": [
    "## Setting up Pipelines"
   ]
  },
  {
   "cell_type": "markdown",
   "metadata": {},
   "source": [
    "To streamline the analysis, reduce the potential for data leakage, and ensure that all preprocessing steps are completed with each model, I have set up a pipeline. The pipeline begins by separating the numerical data from the categorical data, once separate, the two types of data can undergo their respective preprocessing.\n",
    "\n",
    "- Numerical Data:\n",
    "    - The columns for numerical data or not missing any values so there is no need to include an imputer.\n",
    "    - Standard Scaler is being utilized to standardize and scale all numerical data.\n",
    "\n",
    "- Categorical Data:\n",
    "    - SimpleImputer is being utilized to fill missing data in the categorical columns based on the most frequent value within that column. A 'missing' indicator is in place to help identify that the data was not originally found within the dataset.\n",
    "    - OneHotEncoding is being utilized to convert the categorical information to a binary system for modeling. "
   ]
  },
  {
   "cell_type": "code",
   "execution_count": 18,
   "metadata": {
    "ExecuteTime": {
     "end_time": "2023-01-05T21:35:52.039802Z",
     "start_time": "2023-01-05T21:35:52.024584Z"
    }
   },
   "outputs": [],
   "source": [
    "num_pipe = Pipeline([\n",
    "    ('ss', StandardScaler())\n",
    "])"
   ]
  },
  {
   "cell_type": "code",
   "execution_count": 19,
   "metadata": {
    "ExecuteTime": {
     "end_time": "2023-01-05T21:35:52.055314Z",
     "start_time": "2023-01-05T21:35:52.039802Z"
    }
   },
   "outputs": [],
   "source": [
    "cat_pipe = Pipeline([\n",
    "    ('cat_impute', SimpleImputer(strategy='most_frequent', add_indicator=True)),\n",
    "    ('ohe', OneHotEncoder(sparse=False, handle_unknown='ignore'))\n",
    "])"
   ]
  },
  {
   "cell_type": "code",
   "execution_count": 20,
   "metadata": {
    "ExecuteTime": {
     "end_time": "2023-01-05T21:35:52.071324Z",
     "start_time": "2023-01-05T21:35:52.055820Z"
    }
   },
   "outputs": [],
   "source": [
    "ColTrans = ColumnTransformer(transformers=[\n",
    "    ('num_pipe', num_pipe, selector(dtype_include=np.number)),\n",
    "    ('cat_pipe', cat_pipe, selector(dtype_include=object))\n",
    "], remainder='passthrough')"
   ]
  },
  {
   "cell_type": "markdown",
   "metadata": {},
   "source": [
    "# Modeling"
   ]
  },
  {
   "cell_type": "markdown",
   "metadata": {},
   "source": [
    "## First Simple Model"
   ]
  },
  {
   "cell_type": "markdown",
   "metadata": {},
   "source": [
    "To begin analysis of the data, I have set up a first simple model to compare later models to. This is the bare minimum model that predicts that the most frequent target variable is the answer for all inputs. \n",
    "\n",
    "The first simple model has an accuracy of .545 and an ROC-AUC score of .5."
   ]
  },
  {
   "cell_type": "code",
   "execution_count": 21,
   "metadata": {
    "ExecuteTime": {
     "end_time": "2023-01-05T21:35:52.087091Z",
     "start_time": "2023-01-05T21:35:52.072325Z"
    }
   },
   "outputs": [],
   "source": [
    "dummy_model = Pipeline([\n",
    "    ('ColTrans', ColTrans),\n",
    "    ('dummy', DummyClassifier(strategy='most_frequent', random_state=42))\n",
    "])"
   ]
  },
  {
   "cell_type": "code",
   "execution_count": 22,
   "metadata": {
    "ExecuteTime": {
     "end_time": "2023-01-05T21:35:53.275572Z",
     "start_time": "2023-01-05T21:35:52.087091Z"
    }
   },
   "outputs": [],
   "source": [
    "dummy_model.fit(X_train, y_train);"
   ]
  },
  {
   "cell_type": "code",
   "execution_count": 23,
   "metadata": {
    "ExecuteTime": {
     "end_time": "2023-01-05T21:35:53.291112Z",
     "start_time": "2023-01-05T21:35:53.276834Z"
    }
   },
   "outputs": [
    {
     "data": {
      "text/plain": [
       "0    0.54532\n",
       "1    0.45468\n",
       "Name: target, dtype: float64"
      ]
     },
     "execution_count": 23,
     "metadata": {},
     "output_type": "execute_result"
    }
   ],
   "source": [
    "y_test.value_counts(normalize=True)"
   ]
  },
  {
   "cell_type": "code",
   "execution_count": 24,
   "metadata": {
    "ExecuteTime": {
     "end_time": "2023-01-05T21:35:53.337631Z",
     "start_time": "2023-01-05T21:35:53.292113Z"
    }
   },
   "outputs": [
    {
     "data": {
      "text/plain": [
       "0.5453198653198653"
      ]
     },
     "execution_count": 24,
     "metadata": {},
     "output_type": "execute_result"
    }
   ],
   "source": [
    "dummy_model.score(X_test, y_test)"
   ]
  },
  {
   "cell_type": "code",
   "execution_count": 25,
   "metadata": {
    "ExecuteTime": {
     "end_time": "2023-01-05T21:35:53.383702Z",
     "start_time": "2023-01-05T21:35:53.337631Z"
    }
   },
   "outputs": [],
   "source": [
    "dummy_y_score = dummy_model.predict_proba(X_test)"
   ]
  },
  {
   "cell_type": "code",
   "execution_count": 26,
   "metadata": {
    "ExecuteTime": {
     "end_time": "2023-01-05T21:35:53.398944Z",
     "start_time": "2023-01-05T21:35:53.383702Z"
    }
   },
   "outputs": [
    {
     "data": {
      "text/plain": [
       "0.5"
      ]
     },
     "execution_count": 26,
     "metadata": {},
     "output_type": "execute_result"
    }
   ],
   "source": [
    "roc_auc_score(y_test,dummy_y_score[:,1])"
   ]
  },
  {
   "cell_type": "markdown",
   "metadata": {},
   "source": [
    "## Baseline Models"
   ]
  },
  {
   "cell_type": "markdown",
   "metadata": {},
   "source": [
    "Now that the first simple model has been established, I need to create baseline models for each of the Machine Learning Algorithms I plan to use. These baseline models will act as a benchmark as I later tune the hyperparameters to try and improve the model results."
   ]
  },
  {
   "cell_type": "markdown",
   "metadata": {},
   "source": [
    "I will use the following methods during this analysis:\n",
    "   - Logistic Regression\n",
    "   - K-Nearest Neighbors\n",
    "       - K-Means\n",
    "   - Decision Trees\n",
    "   - Random Forests\n",
    "   - C-Support Vector Classification (SVC)\n",
    "   - Nu-Support Vector Classification (NuSVC)\n",
    "   - AdaBoost\n",
    "   - XGBoost\n",
    "   - Stack Classification Methods"
   ]
  },
  {
   "cell_type": "markdown",
   "metadata": {},
   "source": [
    "## Dictionaries"
   ]
  },
  {
   "cell_type": "markdown",
   "metadata": {},
   "source": [
    "For the final results analysis, we will looking at several metrics to compare models. I am setting up an empty dictionaries now to record these metrics."
   ]
  },
  {
   "cell_type": "code",
   "execution_count": 27,
   "metadata": {
    "ExecuteTime": {
     "end_time": "2023-01-05T21:35:53.414451Z",
     "start_time": "2023-01-05T21:35:53.398944Z"
    }
   },
   "outputs": [],
   "source": [
    "time_dic = {}\n",
    "acc_dic = {}\n",
    "roc_auc_dic = {}"
   ]
  },
  {
   "cell_type": "markdown",
   "metadata": {},
   "source": [
    "## Logistic Regression (DONE-ish) (can go back and rerun grid if feeling funky)"
   ]
  },
  {
   "cell_type": "markdown",
   "metadata": {},
   "source": [
    "Setting up a Logistic Regression Pipeline and taking a look at the results on my train and test data. Using the baseline model, I was able to achieve accuracy of 77% and an ROC-AUC score of 84%. Due to the warning about my solver not converging, I will look at different solvers using gridsearch.\n",
    "\n",
    "The accuracy and ROC-AUC scores line up relatively well between train and test data indicating that there might be a slight overfitting but not significant ooverfitting."
   ]
  },
  {
   "cell_type": "code",
   "execution_count": 29,
   "metadata": {
    "ExecuteTime": {
     "end_time": "2023-01-05T21:35:53.445502Z",
     "start_time": "2023-01-05T21:35:53.431088Z"
    }
   },
   "outputs": [],
   "source": [
    "log_reg_model = Pipeline([\n",
    "    ('ColTrans', ColTrans),\n",
    "    ('logreg', LogisticRegression(random_state=42))\n",
    "])"
   ]
  },
  {
   "cell_type": "code",
   "execution_count": 30,
   "metadata": {
    "ExecuteTime": {
     "end_time": "2023-01-05T21:35:54.906886Z",
     "start_time": "2023-01-05T21:35:53.446008Z"
    }
   },
   "outputs": [
    {
     "name": "stderr",
     "output_type": "stream",
     "text": [
      "C:\\Users\\nacnu\\anaconda3\\envs\\learn-env\\lib\\site-packages\\sklearn\\linear_model\\_logistic.py:762: ConvergenceWarning: lbfgs failed to converge (status=1):\n",
      "STOP: TOTAL NO. of ITERATIONS REACHED LIMIT.\n",
      "\n",
      "Increase the number of iterations (max_iter) or scale the data as shown in:\n",
      "    https://scikit-learn.org/stable/modules/preprocessing.html\n",
      "Please also refer to the documentation for alternative solver options:\n",
      "    https://scikit-learn.org/stable/modules/linear_model.html#logistic-regression\n",
      "  n_iter_i = _check_optimize_result(\n"
     ]
    }
   ],
   "source": [
    "log_reg_model.fit(X_train, y_train);"
   ]
  },
  {
   "cell_type": "code",
   "execution_count": 31,
   "metadata": {
    "ExecuteTime": {
     "end_time": "2023-01-05T21:35:54.922445Z",
     "start_time": "2023-01-05T21:35:54.907884Z"
    }
   },
   "outputs": [],
   "source": [
    "log_reg_pipe = ModelRuns(log_reg_model, 'logreg', X_train, y_train)"
   ]
  },
  {
   "cell_type": "code",
   "execution_count": 32,
   "metadata": {
    "ExecuteTime": {
     "end_time": "2023-01-05T21:35:55.547529Z",
     "start_time": "2023-01-05T21:35:54.923471Z"
    }
   },
   "outputs": [
    {
     "name": "stdout",
     "output_type": "stream",
     "text": [
      "Train Report: \n",
      "              precision    recall  f1-score   support\n",
      "\n",
      "           0       0.74      0.86      0.80     24161\n",
      "           1       0.80      0.64      0.71     20389\n",
      "\n",
      "    accuracy                           0.76     44550\n",
      "   macro avg       0.77      0.75      0.75     44550\n",
      "weighted avg       0.76      0.76      0.75     44550\n",
      "\n",
      "ROC-AUC Score:0.8274355607043029\n",
      "\n",
      "Test Report: \n",
      "              precision    recall  f1-score   support\n",
      "\n",
      "           0       0.74      0.85      0.79      8098\n",
      "           1       0.78      0.63      0.70      6752\n",
      "\n",
      "    accuracy                           0.75     14850\n",
      "   macro avg       0.76      0.74      0.75     14850\n",
      "weighted avg       0.76      0.75      0.75     14850\n",
      "\n",
      "ROC-AUC Score:0.8200516989596636\n"
     ]
    },
    {
     "data": {
      "image/png": "[encoded data removed]",
      "text/plain": [
       "<Figure size 432x288 with 2 Axes>"
      ]
     },
     "metadata": {
      "needs_background": "light"
     },
     "output_type": "display_data"
    },
    {
     "data": {
      "image/png": "[encoded data removed]",
      "text/plain": [
       "<Figure size 432x288 with 2 Axes>"
      ]
     },
     "metadata": {
      "needs_background": "light"
     },
     "output_type": "display_data"
    }
   ],
   "source": [
    "log_reg_pipe.run_all(X_train_run=X_train, X_test_run=X_test, y_train_run=y_train, y_test_run=y_test, train_results=True);"
   ]
  },
  {
   "cell_type": "markdown",
   "metadata": {},
   "source": [
    "### Logistic Regression Grid Search"
   ]
  },
  {
   "cell_type": "markdown",
   "metadata": {},
   "source": [
    "During my initial fitting of the Logistic Regression model, the notebook provided a warning that the model failed to converge based on the `solver` chosen. As such, I have set up a gridsearch with cross validation to determine the best solver for the job.\n",
    "\n",
    "`Liblinear` is the best `solver` for this particular dataset. The train data and test data scores were almost identical, indicating that there is a good fit with little over/underfitting. "
   ]
  },
  {
   "cell_type": "code",
   "execution_count": 33,
   "metadata": {
    "ExecuteTime": {
     "end_time": "2023-01-05T21:35:55.563502Z",
     "start_time": "2023-01-05T21:35:55.548528Z"
    }
   },
   "outputs": [],
   "source": [
    "log_params = {\n",
    "    'logreg__solver':['liblinear', 'sag', 'saga']\n",
    "}"
   ]
  },
  {
   "cell_type": "code",
   "execution_count": 34,
   "metadata": {
    "ExecuteTime": {
     "end_time": "2023-01-05T21:35:55.579521Z",
     "start_time": "2023-01-05T21:35:55.563502Z"
    }
   },
   "outputs": [],
   "source": [
    "log_reg_gs = GridSearchCV(estimator=log_reg_model, param_grid=log_params, cv=5, verbose=1)"
   ]
  },
  {
   "cell_type": "code",
   "execution_count": 35,
   "metadata": {
    "ExecuteTime": {
     "end_time": "2023-01-05T21:36:34.992112Z",
     "start_time": "2023-01-05T21:35:55.580546Z"
    }
   },
   "outputs": [
    {
     "name": "stdout",
     "output_type": "stream",
     "text": [
      "Fitting 5 folds for each of 3 candidates, totalling 15 fits\n"
     ]
    },
    {
     "name": "stderr",
     "output_type": "stream",
     "text": [
      "[Parallel(n_jobs=1)]: Using backend SequentialBackend with 1 concurrent workers.\n",
      "C:\\Users\\nacnu\\anaconda3\\envs\\learn-env\\lib\\site-packages\\sklearn\\linear_model\\_sag.py:329: ConvergenceWarning: The max_iter was reached which means the coef_ did not converge\n",
      "  warnings.warn(\"The max_iter was reached which means \"\n",
      "C:\\Users\\nacnu\\anaconda3\\envs\\learn-env\\lib\\site-packages\\sklearn\\linear_model\\_sag.py:329: ConvergenceWarning: The max_iter was reached which means the coef_ did not converge\n",
      "  warnings.warn(\"The max_iter was reached which means \"\n",
      "C:\\Users\\nacnu\\anaconda3\\envs\\learn-env\\lib\\site-packages\\sklearn\\linear_model\\_sag.py:329: ConvergenceWarning: The max_iter was reached which means the coef_ did not converge\n",
      "  warnings.warn(\"The max_iter was reached which means \"\n",
      "C:\\Users\\nacnu\\anaconda3\\envs\\learn-env\\lib\\site-packages\\sklearn\\linear_model\\_sag.py:329: ConvergenceWarning: The max_iter was reached which means the coef_ did not converge\n",
      "  warnings.warn(\"The max_iter was reached which means \"\n",
      "C:\\Users\\nacnu\\anaconda3\\envs\\learn-env\\lib\\site-packages\\sklearn\\linear_model\\_sag.py:329: ConvergenceWarning: The max_iter was reached which means the coef_ did not converge\n",
      "  warnings.warn(\"The max_iter was reached which means \"\n",
      "C:\\Users\\nacnu\\anaconda3\\envs\\learn-env\\lib\\site-packages\\sklearn\\linear_model\\_sag.py:329: ConvergenceWarning: The max_iter was reached which means the coef_ did not converge\n",
      "  warnings.warn(\"The max_iter was reached which means \"\n",
      "C:\\Users\\nacnu\\anaconda3\\envs\\learn-env\\lib\\site-packages\\sklearn\\linear_model\\_sag.py:329: ConvergenceWarning: The max_iter was reached which means the coef_ did not converge\n",
      "  warnings.warn(\"The max_iter was reached which means \"\n",
      "C:\\Users\\nacnu\\anaconda3\\envs\\learn-env\\lib\\site-packages\\sklearn\\linear_model\\_sag.py:329: ConvergenceWarning: The max_iter was reached which means the coef_ did not converge\n",
      "  warnings.warn(\"The max_iter was reached which means \"\n",
      "C:\\Users\\nacnu\\anaconda3\\envs\\learn-env\\lib\\site-packages\\sklearn\\linear_model\\_sag.py:329: ConvergenceWarning: The max_iter was reached which means the coef_ did not converge\n",
      "  warnings.warn(\"The max_iter was reached which means \"\n",
      "C:\\Users\\nacnu\\anaconda3\\envs\\learn-env\\lib\\site-packages\\sklearn\\linear_model\\_sag.py:329: ConvergenceWarning: The max_iter was reached which means the coef_ did not converge\n",
      "  warnings.warn(\"The max_iter was reached which means \"\n",
      "[Parallel(n_jobs=1)]: Done  15 out of  15 | elapsed:   37.9s finished\n"
     ]
    }
   ],
   "source": [
    "log_reg_gs.fit(X_train, y_train);"
   ]
  },
  {
   "cell_type": "code",
   "execution_count": 36,
   "metadata": {
    "ExecuteTime": {
     "end_time": "2023-01-05T21:36:35.007510Z",
     "start_time": "2023-01-05T21:36:34.993109Z"
    }
   },
   "outputs": [
    {
     "data": {
      "text/plain": [
       "{'logreg__solver': 'liblinear'}"
      ]
     },
     "execution_count": 36,
     "metadata": {},
     "output_type": "execute_result"
    }
   ],
   "source": [
    "log_reg_gs.best_params_"
   ]
  },
  {
   "cell_type": "code",
   "execution_count": 37,
   "metadata": {
    "ExecuteTime": {
     "end_time": "2023-01-05T21:36:35.023446Z",
     "start_time": "2023-01-05T21:36:35.007510Z"
    }
   },
   "outputs": [
    {
     "data": {
      "text/plain": [
       "0.757037037037037"
      ]
     },
     "execution_count": 37,
     "metadata": {},
     "output_type": "execute_result"
    }
   ],
   "source": [
    "log_reg_gs.best_score_"
   ]
  },
  {
   "cell_type": "code",
   "execution_count": 38,
   "metadata": {
    "ExecuteTime": {
     "end_time": "2023-01-05T21:36:35.069618Z",
     "start_time": "2023-01-05T21:36:35.023446Z"
    }
   },
   "outputs": [
    {
     "data": {
      "text/plain": [
       "0.7536700336700337"
      ]
     },
     "execution_count": 38,
     "metadata": {},
     "output_type": "execute_result"
    }
   ],
   "source": [
    "log_reg_gs.best_estimator_.score(X_test,y_test)"
   ]
  },
  {
   "cell_type": "markdown",
   "metadata": {},
   "source": [
    "### Next Iteration of Gridsearch"
   ]
  },
  {
   "cell_type": "markdown",
   "metadata": {},
   "source": [
    "The last gridsearch run let me identify the best `solver` for the dataset: `Liblinear`. On this next iteration, I also wanted to review the best `max_iter`.\n",
    "\n",
    "The test results came back the same: max iterations 100 (the default), and `liblinear` as the best solver. I will use this as the default solver moving forward."
   ]
  },
  {
   "cell_type": "code",
   "execution_count": 39,
   "metadata": {
    "ExecuteTime": {
     "end_time": "2023-01-05T21:36:35.084950Z",
     "start_time": "2023-01-05T21:36:35.069618Z"
    }
   },
   "outputs": [],
   "source": [
    "log_params2 = {\n",
    "    'logreg__solver':['liblinear'],\n",
    "    'logreg__max_iter':[100, 150, 200],\n",
    "}"
   ]
  },
  {
   "cell_type": "code",
   "execution_count": 40,
   "metadata": {
    "ExecuteTime": {
     "end_time": "2023-01-05T21:36:35.100630Z",
     "start_time": "2023-01-05T21:36:35.084950Z"
    }
   },
   "outputs": [],
   "source": [
    "log_reg_gs2 = GridSearchCV(estimator=log_reg_model, param_grid=log_params2, cv=5, verbose=1)"
   ]
  },
  {
   "cell_type": "code",
   "execution_count": 41,
   "metadata": {
    "ExecuteTime": {
     "end_time": "2023-01-05T21:36:51.833036Z",
     "start_time": "2023-01-05T21:36:35.101630Z"
    },
    "scrolled": false
   },
   "outputs": [
    {
     "name": "stdout",
     "output_type": "stream",
     "text": [
      "Fitting 5 folds for each of 3 candidates, totalling 15 fits\n"
     ]
    },
    {
     "name": "stderr",
     "output_type": "stream",
     "text": [
      "[Parallel(n_jobs=1)]: Using backend SequentialBackend with 1 concurrent workers.\n",
      "[Parallel(n_jobs=1)]: Done  15 out of  15 | elapsed:   15.2s finished\n"
     ]
    }
   ],
   "source": [
    "log_reg_gs2.fit(X_train, y_train);"
   ]
  },
  {
   "cell_type": "code",
   "execution_count": 42,
   "metadata": {
    "ExecuteTime": {
     "end_time": "2023-01-05T21:36:51.848225Z",
     "start_time": "2023-01-05T21:36:51.833036Z"
    }
   },
   "outputs": [
    {
     "data": {
      "text/plain": [
       "{'logreg__max_iter': 100, 'logreg__solver': 'liblinear'}"
      ]
     },
     "execution_count": 42,
     "metadata": {},
     "output_type": "execute_result"
    }
   ],
   "source": [
    "log_reg_gs2.best_params_"
   ]
  },
  {
   "cell_type": "code",
   "execution_count": 43,
   "metadata": {
    "ExecuteTime": {
     "end_time": "2023-01-05T21:36:51.864017Z",
     "start_time": "2023-01-05T21:36:51.849258Z"
    }
   },
   "outputs": [
    {
     "data": {
      "text/plain": [
       "0.757037037037037"
      ]
     },
     "execution_count": 43,
     "metadata": {},
     "output_type": "execute_result"
    }
   ],
   "source": [
    "log_reg_gs2.best_score_"
   ]
  },
  {
   "cell_type": "code",
   "execution_count": 44,
   "metadata": {
    "ExecuteTime": {
     "end_time": "2023-01-05T21:36:51.910022Z",
     "start_time": "2023-01-05T21:36:51.864017Z"
    }
   },
   "outputs": [
    {
     "data": {
      "text/plain": [
       "0.7536700336700337"
      ]
     },
     "execution_count": 44,
     "metadata": {},
     "output_type": "execute_result"
    }
   ],
   "source": [
    "log_reg_gs2.best_estimator_.score(X_test,y_test)"
   ]
  },
  {
   "cell_type": "markdown",
   "metadata": {},
   "source": [
    "### Final Logistic Regression Model"
   ]
  },
  {
   "cell_type": "markdown",
   "metadata": {},
   "source": [
    "After running several GridSearches, the final model for logistic regression is below. This is not a great model and is almost identical to my baseline logistic regression model. "
   ]
  },
  {
   "cell_type": "code",
   "execution_count": 45,
   "metadata": {
    "ExecuteTime": {
     "end_time": "2023-01-05T21:36:51.926030Z",
     "start_time": "2023-01-05T21:36:51.910022Z"
    }
   },
   "outputs": [],
   "source": [
    "log_reg_model_final = Pipeline([\n",
    "    ('ColTrans', ColTrans),\n",
    "    ('logreg', LogisticRegression(solver='liblinear', random_state=42))\n",
    "])"
   ]
  },
  {
   "cell_type": "code",
   "execution_count": 46,
   "metadata": {
    "ExecuteTime": {
     "end_time": "2023-01-05T21:36:53.370892Z",
     "start_time": "2023-01-05T21:36:51.927027Z"
    }
   },
   "outputs": [],
   "source": [
    "start1 = perf_counter()\n",
    "log_reg_model_final.fit(X_train, y_train);\n",
    "end1 = perf_counter()"
   ]
  },
  {
   "cell_type": "code",
   "execution_count": 47,
   "metadata": {
    "ExecuteTime": {
     "end_time": "2023-01-05T21:36:53.386662Z",
     "start_time": "2023-01-05T21:36:53.371915Z"
    }
   },
   "outputs": [],
   "source": [
    "log_reg_pipe_final = ModelRuns(log_reg_model_final, 'logreg', X_train, y_train)"
   ]
  },
  {
   "cell_type": "code",
   "execution_count": 48,
   "metadata": {
    "ExecuteTime": {
     "end_time": "2023-01-05T21:36:53.996171Z",
     "start_time": "2023-01-05T21:36:53.387702Z"
    }
   },
   "outputs": [
    {
     "name": "stdout",
     "output_type": "stream",
     "text": [
      "Train Report: \n",
      "              precision    recall  f1-score   support\n",
      "\n",
      "           0       0.74      0.86      0.80     24161\n",
      "           1       0.80      0.63      0.71     20389\n",
      "\n",
      "    accuracy                           0.76     44550\n",
      "   macro avg       0.77      0.75      0.75     44550\n",
      "weighted avg       0.76      0.76      0.75     44550\n",
      "\n",
      "ROC-AUC Score:0.827420488192703\n",
      "\n",
      "Test Report: \n",
      "              precision    recall  f1-score   support\n",
      "\n",
      "           0       0.74      0.85      0.79      8098\n",
      "           1       0.78      0.63      0.70      6752\n",
      "\n",
      "    accuracy                           0.75     14850\n",
      "   macro avg       0.76      0.74      0.75     14850\n",
      "weighted avg       0.76      0.75      0.75     14850\n",
      "\n",
      "ROC-AUC Score:0.8200432403003959\n"
     ]
    },
    {
     "data": {
      "image/png": "[encoded data removed]",
      "text/plain": [
       "<Figure size 432x288 with 2 Axes>"
      ]
     },
     "metadata": {
      "needs_background": "light"
     },
     "output_type": "display_data"
    },
    {
     "data": {
      "image/png": "[encoded data removed]",
      "text/plain": [
       "<Figure size 432x288 with 2 Axes>"
      ]
     },
     "metadata": {
      "needs_background": "light"
     },
     "output_type": "display_data"
    }
   ],
   "source": [
    "start2 = perf_counter()\n",
    "log_reg_pipe_final.run_all(X_train_run=X_train, X_test_run=X_test, y_train_run=y_train, y_test_run=y_test, train_results=True);\n",
    "end2 = perf_counter()"
   ]
  },
  {
   "cell_type": "code",
   "execution_count": 49,
   "metadata": {
    "ExecuteTime": {
     "end_time": "2023-01-05T21:36:54.011688Z",
     "start_time": "2023-01-05T21:36:53.996171Z"
    }
   },
   "outputs": [],
   "source": [
    "log_reg_time = (end1-start1 + end2 - start2)"
   ]
  },
  {
   "cell_type": "code",
   "execution_count": 50,
   "metadata": {
    "ExecuteTime": {
     "end_time": "2023-01-05T21:36:54.089620Z",
     "start_time": "2023-01-05T21:36:54.011688Z"
    }
   },
   "outputs": [],
   "source": [
    "custom.record_results('Logistic Regression', log_reg_model_final, time_dic, log_reg_time, acc_dic, roc_auc_dic, X_test, y_test)"
   ]
  },
  {
   "cell_type": "markdown",
   "metadata": {},
   "source": [
    "## K-Nearest Neighbor"
   ]
  },
  {
   "cell_type": "markdown",
   "metadata": {},
   "source": [
    "My K-Nearest Neighbor model has 86% accuracy and an ROC-AUC score of 94% on the training data while the test results have an accuracy of 79% and ROC-AUC score of 86%. This is indicative of overfitting and I will look to reduce overfitting by adjusting hyperparameters through gridsearch.\n",
    "\n",
    "Overall, these results are pretty good though."
   ]
  },
  {
   "cell_type": "code",
   "execution_count": 51,
   "metadata": {
    "ExecuteTime": {
     "end_time": "2023-01-05T21:36:54.105639Z",
     "start_time": "2023-01-05T21:36:54.089620Z"
    }
   },
   "outputs": [],
   "source": [
    "knn_model = Pipeline([\n",
    "    ('ColTrans', ColTrans),\n",
    "    ('knn', KNeighborsClassifier())\n",
    "])"
   ]
  },
  {
   "cell_type": "code",
   "execution_count": 52,
   "metadata": {
    "ExecuteTime": {
     "end_time": "2023-01-05T21:36:56.646907Z",
     "start_time": "2023-01-05T21:36:54.106636Z"
    }
   },
   "outputs": [],
   "source": [
    "knn_model.fit(X_train, y_train);"
   ]
  },
  {
   "cell_type": "code",
   "execution_count": 53,
   "metadata": {
    "ExecuteTime": {
     "end_time": "2023-01-05T21:36:56.663057Z",
     "start_time": "2023-01-05T21:36:56.647908Z"
    }
   },
   "outputs": [],
   "source": [
    "knn_pipe = ModelRuns(knn_model, 'knn', X_train, y_train)"
   ]
  },
  {
   "cell_type": "code",
   "execution_count": 54,
   "metadata": {
    "ExecuteTime": {
     "end_time": "2023-01-05T21:40:47.093025Z",
     "start_time": "2023-01-05T21:36:56.664058Z"
    }
   },
   "outputs": [
    {
     "name": "stdout",
     "output_type": "stream",
     "text": [
      "Train Report: \n",
      "              precision    recall  f1-score   support\n",
      "\n",
      "           0       0.85      0.89      0.87     24161\n",
      "           1       0.87      0.81      0.84     20389\n",
      "\n",
      "    accuracy                           0.86     44550\n",
      "   macro avg       0.86      0.85      0.86     44550\n",
      "weighted avg       0.86      0.86      0.86     44550\n",
      "\n",
      "ROC-AUC Score:0.9400094844971849\n",
      "\n",
      "Test Report: \n",
      "              precision    recall  f1-score   support\n",
      "\n",
      "           0       0.80      0.83      0.82      8098\n",
      "           1       0.79      0.74      0.77      6752\n",
      "\n",
      "    accuracy                           0.79     14850\n",
      "   macro avg       0.79      0.79      0.79     14850\n",
      "weighted avg       0.79      0.79      0.79     14850\n",
      "\n",
      "ROC-AUC Score:0.86339822182705\n"
     ]
    },
    {
     "data": {
      "image/png": "[encoded data removed]",
      "text/plain": [
       "<Figure size 432x288 with 2 Axes>"
      ]
     },
     "metadata": {
      "needs_background": "light"
     },
     "output_type": "display_data"
    },
    {
     "data": {
      "image/png": "[encoded data removed]",
      "text/plain": [
       "<Figure size 432x288 with 2 Axes>"
      ]
     },
     "metadata": {
      "needs_background": "light"
     },
     "output_type": "display_data"
    }
   ],
   "source": [
    "knn_pipe.run_all(X_train_run=X_train, X_test_run=X_test, y_train_run=y_train, y_test_run=y_test, train_results=True);"
   ]
  },
  {
   "cell_type": "markdown",
   "metadata": {},
   "source": [
    "### K-Nearest Neighbors GridSearch"
   ]
  },
  {
   "cell_type": "markdown",
   "metadata": {},
   "source": [
    "My KNN model is overfit, I will use GridSearch to attempt to reduce overfitting the training data and increase my score results on the test data. I will begin the search by adjusting `n_neighbors` and `weights`."
   ]
  },
  {
   "cell_type": "code",
   "execution_count": 55,
   "metadata": {
    "ExecuteTime": {
     "end_time": "2023-01-05T21:47:31.013284Z",
     "start_time": "2023-01-05T21:40:47.093025Z"
    }
   },
   "outputs": [
    {
     "name": "stdout",
     "output_type": "stream",
     "text": [
      "Fitting 5 folds for each of 6 candidates, totalling 30 fits\n"
     ]
    },
    {
     "name": "stderr",
     "output_type": "stream",
     "text": [
      "[Parallel(n_jobs=1)]: Using backend SequentialBackend with 1 concurrent workers.\n",
      "[Parallel(n_jobs=1)]: Done  30 out of  30 | elapsed:  6.7min finished\n"
     ]
    }
   ],
   "source": [
    "knn_params = {\n",
    "    'knn__n_neighbors':[5, 7, 9],\n",
    "    'knn__weights':['uniform', 'distance']\n",
    "}\n",
    "knn_gs = GridSearchCV(estimator=knn_model, param_grid=knn_params, cv=5, verbose=1)\n",
    "knn_gs.fit(X_train, y_train);"
   ]
  },
  {
   "cell_type": "code",
   "execution_count": 56,
   "metadata": {
    "ExecuteTime": {
     "end_time": "2023-01-05T21:47:31.028592Z",
     "start_time": "2023-01-05T21:47:31.013284Z"
    }
   },
   "outputs": [
    {
     "data": {
      "text/plain": [
       "{'knn__n_neighbors': 9, 'knn__weights': 'distance'}"
      ]
     },
     "execution_count": 56,
     "metadata": {},
     "output_type": "execute_result"
    }
   ],
   "source": [
    "knn_gs.best_params_"
   ]
  },
  {
   "cell_type": "code",
   "execution_count": 57,
   "metadata": {
    "ExecuteTime": {
     "end_time": "2023-01-05T21:47:31.044228Z",
     "start_time": "2023-01-05T21:47:31.028592Z"
    }
   },
   "outputs": [
    {
     "data": {
      "text/plain": [
       "0.7980246913580247"
      ]
     },
     "execution_count": 57,
     "metadata": {},
     "output_type": "execute_result"
    }
   ],
   "source": [
    "knn_gs.best_score_"
   ]
  },
  {
   "cell_type": "code",
   "execution_count": 58,
   "metadata": {
    "ExecuteTime": {
     "end_time": "2023-01-05T21:47:56.266408Z",
     "start_time": "2023-01-05T21:47:31.044228Z"
    }
   },
   "outputs": [
    {
     "data": {
      "text/plain": [
       "0.7977777777777778"
      ]
     },
     "execution_count": 58,
     "metadata": {},
     "output_type": "execute_result"
    }
   ],
   "source": [
    "knn_gs.best_estimator_.score(X_test,y_test)"
   ]
  },
  {
   "cell_type": "markdown",
   "metadata": {},
   "source": [
    "### Second Iteration of K-Nearest Neighbors GridSearch"
   ]
  },
  {
   "cell_type": "markdown",
   "metadata": {},
   "source": [
    "`Distance` is the best `weight` for the KNN model and the best `n_neighbors` is 9. 9 was at the upper end of my spectrum though and I will continue to increase the values in my next iteration. I will also look to further tune the model by adjusting the `p` hyperparameter.\n",
    "\n",
    "I tried several different times to find the best `n_neighbors` using GridSearch. While the model improved as the number increased, the improvement was minimal when the amount of runtime was considered. As such, I have decided to use 13 as the `n_neighbors` for this model.\n",
    "\n",
    "Results of the second iteration indicate:\n",
    "   - `n_neighbors` is 13\n",
    "   - `weights` is `distance`\n",
    "   - `p` is 1"
   ]
  },
  {
   "cell_type": "code",
   "execution_count": 59,
   "metadata": {
    "ExecuteTime": {
     "end_time": "2023-01-05T21:55:36.946587Z",
     "start_time": "2023-01-05T21:47:56.266914Z"
    }
   },
   "outputs": [
    {
     "name": "stdout",
     "output_type": "stream",
     "text": [
      "Fitting 5 folds for each of 6 candidates, totalling 30 fits\n"
     ]
    },
    {
     "name": "stderr",
     "output_type": "stream",
     "text": [
      "[Parallel(n_jobs=1)]: Using backend SequentialBackend with 1 concurrent workers.\n",
      "[Parallel(n_jobs=1)]: Done  30 out of  30 | elapsed:  7.6min finished\n"
     ]
    }
   ],
   "source": [
    "knn_params2 = {\n",
    "    'knn__n_neighbors':[9, 11, 13],\n",
    "    'knn__weights':['distance'],\n",
    "    'knn__p':[1, 2]\n",
    "}\n",
    "knn_gs2 = GridSearchCV(estimator=knn_model, param_grid=knn_params2, cv=5, verbose=1)\n",
    "knn_gs2.fit(X_train, y_train);"
   ]
  },
  {
   "cell_type": "code",
   "execution_count": 60,
   "metadata": {
    "ExecuteTime": {
     "end_time": "2023-01-05T21:55:36.961574Z",
     "start_time": "2023-01-05T21:55:36.947588Z"
    }
   },
   "outputs": [
    {
     "data": {
      "text/plain": [
       "{'knn__n_neighbors': 13, 'knn__p': 1, 'knn__weights': 'distance'}"
      ]
     },
     "execution_count": 60,
     "metadata": {},
     "output_type": "execute_result"
    }
   ],
   "source": [
    "knn_gs2.best_params_"
   ]
  },
  {
   "cell_type": "code",
   "execution_count": 61,
   "metadata": {
    "ExecuteTime": {
     "end_time": "2023-01-05T21:55:36.977329Z",
     "start_time": "2023-01-05T21:55:36.962574Z"
    }
   },
   "outputs": [
    {
     "data": {
      "text/plain": [
       "0.8030976430976431"
      ]
     },
     "execution_count": 61,
     "metadata": {},
     "output_type": "execute_result"
    }
   ],
   "source": [
    "knn_gs2.best_score_"
   ]
  },
  {
   "cell_type": "code",
   "execution_count": 62,
   "metadata": {
    "ExecuteTime": {
     "end_time": "2023-01-05T21:56:05.718408Z",
     "start_time": "2023-01-05T21:55:36.978370Z"
    }
   },
   "outputs": [
    {
     "data": {
      "text/plain": [
       "0.8016161616161617"
      ]
     },
     "execution_count": 62,
     "metadata": {},
     "output_type": "execute_result"
    }
   ],
   "source": [
    "knn_gs2.best_estimator_.score(X_test,y_test)"
   ]
  },
  {
   "cell_type": "markdown",
   "metadata": {},
   "source": [
    "### Final K-Nearest Neighbors Model"
   ]
  },
  {
   "cell_type": "markdown",
   "metadata": {},
   "source": [
    "The Final K-Nearest Neighbors Model increase accuracy from 79% to 80% and ROC-AUC score from 86% to 88% on test data. \n",
    "\n",
    "The model is even more overfit on the training data as well. Given more time, this could use additional tweaking."
   ]
  },
  {
   "cell_type": "code",
   "execution_count": 63,
   "metadata": {
    "ExecuteTime": {
     "end_time": "2023-01-05T21:56:05.733802Z",
     "start_time": "2023-01-05T21:56:05.718408Z"
    }
   },
   "outputs": [],
   "source": [
    "knn_model_final = Pipeline([\n",
    "    ('ColTrans', ColTrans),\n",
    "    ('knn', KNeighborsClassifier(n_neighbors=13, p=1, weights='distance'))\n",
    "])"
   ]
  },
  {
   "cell_type": "code",
   "execution_count": 64,
   "metadata": {
    "ExecuteTime": {
     "end_time": "2023-01-05T21:56:08.277577Z",
     "start_time": "2023-01-05T21:56:05.734858Z"
    }
   },
   "outputs": [],
   "source": [
    "start1 = perf_counter()\n",
    "knn_model_final.fit(X_train, y_train);\n",
    "end1 = perf_counter()"
   ]
  },
  {
   "cell_type": "code",
   "execution_count": 65,
   "metadata": {
    "ExecuteTime": {
     "end_time": "2023-01-05T21:56:08.293668Z",
     "start_time": "2023-01-05T21:56:08.277577Z"
    }
   },
   "outputs": [],
   "source": [
    "knn_pipe_final = ModelRuns(knn_model_final, 'knn', X_train, y_train)"
   ]
  },
  {
   "cell_type": "code",
   "execution_count": 66,
   "metadata": {
    "ExecuteTime": {
     "end_time": "2023-01-05T22:02:03.644346Z",
     "start_time": "2023-01-05T21:56:08.294704Z"
    }
   },
   "outputs": [
    {
     "name": "stdout",
     "output_type": "stream",
     "text": [
      "Train Report: \n",
      "              precision    recall  f1-score   support\n",
      "\n",
      "           0       0.99      1.00      1.00     24161\n",
      "           1       1.00      0.99      1.00     20389\n",
      "\n",
      "    accuracy                           1.00     44550\n",
      "   macro avg       1.00      1.00      1.00     44550\n",
      "weighted avg       1.00      1.00      1.00     44550\n",
      "\n",
      "ROC-AUC Score:0.9999454182233128\n",
      "\n",
      "Test Report: \n",
      "              precision    recall  f1-score   support\n",
      "\n",
      "           0       0.80      0.85      0.82      8098\n",
      "           1       0.80      0.75      0.77      6752\n",
      "\n",
      "    accuracy                           0.80     14850\n",
      "   macro avg       0.80      0.80      0.80     14850\n",
      "weighted avg       0.80      0.80      0.80     14850\n",
      "\n",
      "ROC-AUC Score:0.8793724501485944\n"
     ]
    },
    {
     "data": {
      "image/png": "[encoded data removed]",
      "text/plain": [
       "<Figure size 432x288 with 2 Axes>"
      ]
     },
     "metadata": {
      "needs_background": "light"
     },
     "output_type": "display_data"
    },
    {
     "data": {
      "image/png": "[encoded data removed]",
      "text/plain": [
       "<Figure size 432x288 with 2 Axes>"
      ]
     },
     "metadata": {
      "needs_background": "light"
     },
     "output_type": "display_data"
    }
   ],
   "source": [
    "start2 = perf_counter()\n",
    "knn_pipe_final.run_all(X_train_run=X_train, X_test_run=X_test, y_train_run=y_train, y_test_run=y_test, train_results=True);\n",
    "end2 = perf_counter()"
   ]
  },
  {
   "cell_type": "code",
   "execution_count": 67,
   "metadata": {
    "ExecuteTime": {
     "end_time": "2023-01-05T22:02:03.646343Z",
     "start_time": "2023-01-05T22:02:03.644346Z"
    }
   },
   "outputs": [],
   "source": [
    "knn_time = (end1-start1 + end2 - start2)"
   ]
  },
  {
   "cell_type": "code",
   "execution_count": 68,
   "metadata": {
    "ExecuteTime": {
     "end_time": "2023-01-05T22:03:03.619808Z",
     "start_time": "2023-01-05T22:02:03.650344Z"
    }
   },
   "outputs": [],
   "source": [
    "custom.record_results('K-Nearest Neighbors', knn_model_final, time_dic, knn_time, acc_dic, roc_auc_dic, X_test, y_test)"
   ]
  },
  {
   "cell_type": "markdown",
   "metadata": {},
   "source": [
    "### K-Means and K-Nearest Neighbor"
   ]
  },
  {
   "cell_type": "markdown",
   "metadata": {},
   "source": [
    "For this method, I utilize unsupervised learning K-Means in conjunction with K-Nearest Neighbors. I have a loop to create a table utilizing 1-7 clusters, then separate the predictor data based on the cluster results. I then run K-Nearest Neighbors on each of the cluster groupings to determine if clustering helps the dataset. When the number of clusters is set to 1, it is the same as running K-Nearest Neighbors without clustering. \n",
    "\n",
    "The results of the model show that it is more beneficial to skip K-Means Clustering altogether. "
   ]
  },
  {
   "cell_type": "code",
   "execution_count": 69,
   "metadata": {
    "ExecuteTime": {
     "end_time": "2023-01-05T22:04:16.308071Z",
     "start_time": "2023-01-05T22:03:03.621968Z"
    }
   },
   "outputs": [],
   "source": [
    "df_names = ['kmeans_0', 'kmeans_1', 'kmeans_2', 'kmeans_3', 'kmeans_4', \n",
    "            'kmeans_5', 'kmeans_6']\n",
    "main_col = ['cluster_group']\n",
    "kmeans_results_df = pd.DataFrame(df_names, columns=main_col)\n",
    "\n",
    "for i in range(1,8):\n",
    "    kmeans_model = Pipeline([\n",
    "        ('ColTrans', ColTrans),\n",
    "        ('kmeans', KMeans(n_clusters=i, random_state=42))\n",
    "    ])\n",
    "    \n",
    "    \n",
    "    # Fitting the model\n",
    "    kmeans_model.fit(X_train, y_train);\n",
    "    \n",
    "    # creating a dataframe for X_train so I can house the cluster data\n",
    "    kmeans_X_train_df = pd.DataFrame(X_train).copy()\n",
    "    \n",
    "    \n",
    "    # predicting data before adding back the target var so there is no data leakage \n",
    "    kmeans_X_train_df['cluster'] = kmeans_model.predict(X_train)\n",
    "\n",
    "    \n",
    "    # adding the target variable back so that I can then separate into dfs based on clusters\n",
    "    kmeans_X_train_df['target'] = y_train.copy()\n",
    "    \n",
    "   \n",
    "    # creating new dataframes based on clusters and storing in a dictionary\n",
    "    kmeans_train_dic = {}\n",
    "    for x in range(i-i, i):\n",
    "\n",
    "        kmeans_train_dic[df_names[x]] = kmeans_X_train_df[kmeans_X_train_df['cluster'] == x]\n",
    "\n",
    "        \n",
    "    # need to seperate x, y vars now\n",
    "    y_kmeans_train_dic = {}\n",
    "    for x in range(i-i, i):\n",
    "        y_kmeans_train_dic[df_names[x]] = kmeans_train_dic[df_names[x]].pop('target') \n",
    "        \n",
    "    # creating a dataframe for X_test so I can house the cluster data\n",
    "    kmeans_X_test_df = pd.DataFrame(X_test).copy()\n",
    "    \n",
    "    # predicting data before adding back the target var so there is no data leakage \n",
    "    kmeans_X_test_df['cluster'] = kmeans_model.predict(X_test)\n",
    "    \n",
    "    # adding the target variable back so that I can then separate into dfs based on clusters\n",
    "    kmeans_X_test_df['target'] = y_test.copy()\n",
    "    \n",
    "    \n",
    "    # creating new dataframes based on clusters and storing in a dictionary\n",
    "    kmeans_test_dic = {}\n",
    "    for x in range(i-i, i):\n",
    "        kmeans_test_dic[df_names[x]] = kmeans_X_test_df[kmeans_X_test_df['cluster'] == x]\n",
    "        \n",
    "    # need to seperate x, y vars now\n",
    "    y_kmeans_test_dic = {}\n",
    "    for x in range(i-i, i):\n",
    "        y_kmeans_test_dic[df_names[x]] = kmeans_test_dic[df_names[x]].pop('target')\n",
    "        \n",
    "  \n",
    "        \n",
    "    # It works above this point\n",
    "    # running the knn model on each cluster\n",
    "    knn_model = Pipeline([\n",
    "        ('ColTrans', ColTrans),\n",
    "        ('knn', KNeighborsClassifier())\n",
    "    ])\n",
    "    \n",
    "    # creating a dic to story each fitted model\n",
    "    model_dic = {}\n",
    "    for x in range(0, i):\n",
    "        model_dic[df_names[x]] = knn_model.fit(kmeans_train_dic[df_names[x]], y_kmeans_train_dic[df_names[x]])\n",
    "        \n",
    "    # Creating a dic to store test scores\n",
    "    knn_test_scores = {}\n",
    "    for x in range(0, i):\n",
    "        knn_test_scores[df_names[x]] = model_dic[df_names[x]].score(kmeans_test_dic[df_names[x]], y_kmeans_test_dic[df_names[x]])\n",
    "        \n",
    "\n",
    "    \n",
    "    # appending each itteration to df\n",
    "    addition = pd.DataFrame({\n",
    "        f'clusters={i}':  knn_test_scores.values()})\n",
    "    \n",
    "    kmeans_results_df = pd.concat([kmeans_results_df, addition], axis=1)"
   ]
  },
  {
   "cell_type": "code",
   "execution_count": 70,
   "metadata": {
    "ExecuteTime": {
     "end_time": "2023-01-05T22:04:16.314630Z",
     "start_time": "2023-01-05T22:04:16.308071Z"
    }
   },
   "outputs": [
    {
     "data": {
      "text/html": [
       "<div>\n",
       "<style scoped>\n",
       "    .dataframe tbody tr th:only-of-type {\n",
       "        vertical-align: middle;\n",
       "    }\n",
       "\n",
       "    .dataframe tbody tr th {\n",
       "        vertical-align: top;\n",
       "    }\n",
       "\n",
       "    .dataframe thead th {\n",
       "        text-align: right;\n",
       "    }\n",
       "</style>\n",
       "<table border=\"1\" class=\"dataframe\">\n",
       "  <thead>\n",
       "    <tr style=\"text-align: right;\">\n",
       "      <th></th>\n",
       "      <th>clusters=1</th>\n",
       "      <th>clusters=2</th>\n",
       "      <th>clusters=3</th>\n",
       "      <th>clusters=4</th>\n",
       "      <th>clusters=5</th>\n",
       "      <th>clusters=6</th>\n",
       "      <th>clusters=7</th>\n",
       "    </tr>\n",
       "    <tr>\n",
       "      <th>cluster_group</th>\n",
       "      <th></th>\n",
       "      <th></th>\n",
       "      <th></th>\n",
       "      <th></th>\n",
       "      <th></th>\n",
       "      <th></th>\n",
       "      <th></th>\n",
       "    </tr>\n",
       "  </thead>\n",
       "  <tbody>\n",
       "    <tr>\n",
       "      <th>kmeans_0</th>\n",
       "      <td>0.793805</td>\n",
       "      <td>0.596683</td>\n",
       "      <td>0.563363</td>\n",
       "      <td>0.586053</td>\n",
       "      <td>0.565452</td>\n",
       "      <td>0.597607</td>\n",
       "      <td>0.492873</td>\n",
       "    </tr>\n",
       "    <tr>\n",
       "      <th>kmeans_1</th>\n",
       "      <td>NaN</td>\n",
       "      <td>0.799897</td>\n",
       "      <td>0.512524</td>\n",
       "      <td>0.471629</td>\n",
       "      <td>0.562554</td>\n",
       "      <td>0.513158</td>\n",
       "      <td>0.597003</td>\n",
       "    </tr>\n",
       "    <tr>\n",
       "      <th>kmeans_2</th>\n",
       "      <td>NaN</td>\n",
       "      <td>NaN</td>\n",
       "      <td>0.805497</td>\n",
       "      <td>0.682875</td>\n",
       "      <td>0.602537</td>\n",
       "      <td>0.498943</td>\n",
       "      <td>0.500574</td>\n",
       "    </tr>\n",
       "    <tr>\n",
       "      <th>kmeans_3</th>\n",
       "      <td>NaN</td>\n",
       "      <td>NaN</td>\n",
       "      <td>NaN</td>\n",
       "      <td>0.792431</td>\n",
       "      <td>0.629387</td>\n",
       "      <td>0.499148</td>\n",
       "      <td>0.525167</td>\n",
       "    </tr>\n",
       "    <tr>\n",
       "      <th>kmeans_4</th>\n",
       "      <td>NaN</td>\n",
       "      <td>NaN</td>\n",
       "      <td>NaN</td>\n",
       "      <td>NaN</td>\n",
       "      <td>0.752137</td>\n",
       "      <td>0.666667</td>\n",
       "      <td>1.000000</td>\n",
       "    </tr>\n",
       "    <tr>\n",
       "      <th>kmeans_5</th>\n",
       "      <td>NaN</td>\n",
       "      <td>NaN</td>\n",
       "      <td>NaN</td>\n",
       "      <td>NaN</td>\n",
       "      <td>NaN</td>\n",
       "      <td>1.000000</td>\n",
       "      <td>0.649682</td>\n",
       "    </tr>\n",
       "    <tr>\n",
       "      <th>kmeans_6</th>\n",
       "      <td>NaN</td>\n",
       "      <td>NaN</td>\n",
       "      <td>NaN</td>\n",
       "      <td>NaN</td>\n",
       "      <td>NaN</td>\n",
       "      <td>NaN</td>\n",
       "      <td>0.805497</td>\n",
       "    </tr>\n",
       "  </tbody>\n",
       "</table>\n",
       "</div>"
      ],
      "text/plain": [
       "               clusters=1  clusters=2  clusters=3  clusters=4  clusters=5  \\\n",
       "cluster_group                                                               \n",
       "kmeans_0         0.793805    0.596683    0.563363    0.586053    0.565452   \n",
       "kmeans_1              NaN    0.799897    0.512524    0.471629    0.562554   \n",
       "kmeans_2              NaN         NaN    0.805497    0.682875    0.602537   \n",
       "kmeans_3              NaN         NaN         NaN    0.792431    0.629387   \n",
       "kmeans_4              NaN         NaN         NaN         NaN    0.752137   \n",
       "kmeans_5              NaN         NaN         NaN         NaN         NaN   \n",
       "kmeans_6              NaN         NaN         NaN         NaN         NaN   \n",
       "\n",
       "               clusters=6  clusters=7  \n",
       "cluster_group                          \n",
       "kmeans_0         0.597607    0.492873  \n",
       "kmeans_1         0.513158    0.597003  \n",
       "kmeans_2         0.498943    0.500574  \n",
       "kmeans_3         0.499148    0.525167  \n",
       "kmeans_4         0.666667    1.000000  \n",
       "kmeans_5         1.000000    0.649682  \n",
       "kmeans_6              NaN    0.805497  "
      ]
     },
     "execution_count": 70,
     "metadata": {},
     "output_type": "execute_result"
    }
   ],
   "source": [
    "kmeans_results_clean = kmeans_results_df.set_index('cluster_group').copy()\n",
    "kmeans_results_clean"
   ]
  },
  {
   "cell_type": "code",
   "execution_count": 71,
   "metadata": {
    "ExecuteTime": {
     "end_time": "2023-01-05T22:04:16.317627Z",
     "start_time": "2023-01-05T22:04:16.314630Z"
    }
   },
   "outputs": [
    {
     "name": "stdout",
     "output_type": "stream",
     "text": [
      "clusters=1 Accuracy: 0.7938047138047138\n",
      "clusters=2 Accuracy: 0.6982900495328861\n",
      "clusters=3 Accuracy: 0.6271279272866438\n",
      "clusters=4 Accuracy: 0.6332471380645198\n",
      "clusters=5 Accuracy: 0.6224132275252711\n",
      "clusters=6 Accuracy: 0.6292537733125115\n",
      "clusters=7 Accuracy: 0.6529707680953232\n"
     ]
    }
   ],
   "source": [
    "for col in kmeans_results_clean.columns:\n",
    "    print(f\"{col} Accuracy: {np.mean(kmeans_results_df[col])}\")"
   ]
  },
  {
   "cell_type": "markdown",
   "metadata": {},
   "source": [
    "## Decision Tree (DONE)"
   ]
  },
  {
   "cell_type": "markdown",
   "metadata": {},
   "source": [
    "My decision tree model has 100% accuracy and an ROC-AUC score of 99.99% for the train data while the test results have an accuracy of 78% and an ROC-AUC score of 78%. This is indicative of overfitting and I will look to reduce overfitting by adjusting hyperparameters through gridsearch."
   ]
  },
  {
   "cell_type": "code",
   "execution_count": 72,
   "metadata": {
    "ExecuteTime": {
     "end_time": "2023-01-05T22:04:16.320628Z",
     "start_time": "2023-01-05T22:04:16.317627Z"
    }
   },
   "outputs": [],
   "source": [
    "dtc_model = Pipeline([\n",
    "    ('ColTrans', ColTrans),\n",
    "    ('dtc', DecisionTreeClassifier(random_state=42))\n",
    "])"
   ]
  },
  {
   "cell_type": "code",
   "execution_count": 73,
   "metadata": {
    "ExecuteTime": {
     "end_time": "2023-01-05T22:04:17.965000Z",
     "start_time": "2023-01-05T22:04:16.320628Z"
    }
   },
   "outputs": [],
   "source": [
    "dtc_model.fit(X_train, y_train);"
   ]
  },
  {
   "cell_type": "code",
   "execution_count": 74,
   "metadata": {
    "ExecuteTime": {
     "end_time": "2023-01-05T22:04:17.968135Z",
     "start_time": "2023-01-05T22:04:17.965997Z"
    }
   },
   "outputs": [],
   "source": [
    "dtc_pipe = ModelRuns(dtc_model, 'dtc', X_train, y_train)"
   ]
  },
  {
   "cell_type": "code",
   "execution_count": 75,
   "metadata": {
    "ExecuteTime": {
     "end_time": "2023-01-05T22:04:18.581715Z",
     "start_time": "2023-01-05T22:04:17.969141Z"
    }
   },
   "outputs": [
    {
     "name": "stdout",
     "output_type": "stream",
     "text": [
      "Train Report: \n",
      "              precision    recall  f1-score   support\n",
      "\n",
      "           0       0.99      1.00      1.00     24161\n",
      "           1       1.00      0.99      1.00     20389\n",
      "\n",
      "    accuracy                           1.00     44550\n",
      "   macro avg       1.00      1.00      1.00     44550\n",
      "weighted avg       1.00      1.00      1.00     44550\n",
      "\n",
      "ROC-AUC Score:0.9999479810577768\n",
      "\n",
      "Test Report: \n",
      "              precision    recall  f1-score   support\n",
      "\n",
      "           0       0.80      0.80      0.80      8098\n",
      "           1       0.76      0.76      0.76      6752\n",
      "\n",
      "    accuracy                           0.78     14850\n",
      "   macro avg       0.78      0.78      0.78     14850\n",
      "weighted avg       0.78      0.78      0.78     14850\n",
      "\n",
      "ROC-AUC Score:0.7806166064495474\n"
     ]
    },
    {
     "data": {
      "image/png": "[encoded data removed]",
      "text/plain": [
       "<Figure size 432x288 with 2 Axes>"
      ]
     },
     "metadata": {
      "needs_background": "light"
     },
     "output_type": "display_data"
    },
    {
     "data": {
      "image/png": "[encoded data removed]",
      "text/plain": [
       "<Figure size 432x288 with 2 Axes>"
      ]
     },
     "metadata": {
      "needs_background": "light"
     },
     "output_type": "display_data"
    }
   ],
   "source": [
    "dtc_pipe.run_all(X_train_run=X_train, X_test_run=X_test, y_train_run=y_train, y_test_run=y_test, train_results=True);"
   ]
  },
  {
   "cell_type": "markdown",
   "metadata": {
    "ExecuteTime": {
     "end_time": "2023-01-04T19:28:08.983868Z",
     "start_time": "2023-01-04T19:28:08.970186Z"
    }
   },
   "source": [
    "### Decision Tree GridSearch"
   ]
  },
  {
   "cell_type": "markdown",
   "metadata": {},
   "source": [
    "My decision tree model was very overfit. I will look to adjust some of the hyperparameters to reduce overfitting, starting with `criterion` and `max_depth`."
   ]
  },
  {
   "cell_type": "code",
   "execution_count": 76,
   "metadata": {
    "ExecuteTime": {
     "end_time": "2023-01-05T22:05:14.938358Z",
     "start_time": "2023-01-05T22:04:18.581715Z"
    }
   },
   "outputs": [
    {
     "name": "stdout",
     "output_type": "stream",
     "text": [
      "Fitting 5 folds for each of 10 candidates, totalling 50 fits\n"
     ]
    },
    {
     "name": "stderr",
     "output_type": "stream",
     "text": [
      "[Parallel(n_jobs=1)]: Using backend SequentialBackend with 1 concurrent workers.\n",
      "[Parallel(n_jobs=1)]: Done  50 out of  50 | elapsed:   54.6s finished\n"
     ]
    }
   ],
   "source": [
    "dtc_params = {\n",
    "    'dtc__criterion':[\"gini\", \"entropy\"],\n",
    "    'dtc__max_depth':[4, 8, 16, 32, None]\n",
    "}\n",
    "dtc_gs = GridSearchCV(estimator=dtc_model, param_grid=dtc_params, cv=5, verbose=1)\n",
    "dtc_gs.fit(X_train, y_train);"
   ]
  },
  {
   "cell_type": "code",
   "execution_count": 77,
   "metadata": {
    "ExecuteTime": {
     "end_time": "2023-01-05T22:05:14.941805Z",
     "start_time": "2023-01-05T22:05:14.938358Z"
    }
   },
   "outputs": [
    {
     "data": {
      "text/plain": [
       "{'dtc__criterion': 'entropy', 'dtc__max_depth': 32}"
      ]
     },
     "execution_count": 77,
     "metadata": {},
     "output_type": "execute_result"
    }
   ],
   "source": [
    "dtc_gs.best_params_"
   ]
  },
  {
   "cell_type": "code",
   "execution_count": 78,
   "metadata": {
    "ExecuteTime": {
     "end_time": "2023-01-05T22:05:14.945877Z",
     "start_time": "2023-01-05T22:05:14.941805Z"
    }
   },
   "outputs": [
    {
     "data": {
      "text/plain": [
       "0.7801795735129069"
      ]
     },
     "execution_count": 78,
     "metadata": {},
     "output_type": "execute_result"
    }
   ],
   "source": [
    "dtc_gs.best_score_"
   ]
  },
  {
   "cell_type": "code",
   "execution_count": 79,
   "metadata": {
    "ExecuteTime": {
     "end_time": "2023-01-05T22:05:14.986348Z",
     "start_time": "2023-01-05T22:05:14.945877Z"
    }
   },
   "outputs": [
    {
     "data": {
      "text/plain": [
       "0.7841750841750842"
      ]
     },
     "execution_count": 79,
     "metadata": {},
     "output_type": "execute_result"
    }
   ],
   "source": [
    "dtc_gs.best_estimator_.score(X_test,y_test)"
   ]
  },
  {
   "cell_type": "markdown",
   "metadata": {},
   "source": [
    "### Second Iteration of Decision Tree GridSearch"
   ]
  },
  {
   "cell_type": "markdown",
   "metadata": {},
   "source": [
    "Entropy is the best solver for my Decision tree and I will use that for the second method. The best max depth is 32 which could be far off from the `None` category. I will adjust the max depth closer to 32 to see how it compares. I will also look to adjust `min_samples_split` to attempt to tune the tree further.\n",
    "\n",
    "Results of GridSearch indicate:\n",
    "\n",
    "   - `criterion` is `entropy`\n",
    "   - `max_depth` is 34\n",
    "   - `min_samples_split` is 3\n",
    "   \n",
    "   \n",
    "I will use these features moving forward."
   ]
  },
  {
   "cell_type": "code",
   "execution_count": 80,
   "metadata": {
    "ExecuteTime": {
     "end_time": "2023-01-05T22:08:49.227693Z",
     "start_time": "2023-01-05T22:05:14.986348Z"
    }
   },
   "outputs": [
    {
     "name": "stdout",
     "output_type": "stream",
     "text": [
      "Fitting 5 folds for each of 35 candidates, totalling 175 fits\n"
     ]
    },
    {
     "name": "stderr",
     "output_type": "stream",
     "text": [
      "[Parallel(n_jobs=1)]: Using backend SequentialBackend with 1 concurrent workers.\n",
      "[Parallel(n_jobs=1)]: Done 175 out of 175 | elapsed:  3.5min finished\n"
     ]
    }
   ],
   "source": [
    "dtc_params2 = {\n",
    "    'dtc__criterion':[\"entropy\"],\n",
    "    'dtc__max_depth':[30, 31, 32, 33, 34, 35, 36],\n",
    "    'dtc__min_samples_split': [2, 3, 4, 5, 6]\n",
    "}\n",
    "dtc_gs2 = GridSearchCV(estimator=dtc_model, param_grid=dtc_params2, cv=5, verbose=1)\n",
    "dtc_gs2.fit(X_train, y_train);"
   ]
  },
  {
   "cell_type": "code",
   "execution_count": 81,
   "metadata": {
    "ExecuteTime": {
     "end_time": "2023-01-05T22:08:49.230952Z",
     "start_time": "2023-01-05T22:08:49.227693Z"
    }
   },
   "outputs": [
    {
     "data": {
      "text/plain": [
       "{'dtc__criterion': 'entropy',\n",
       " 'dtc__max_depth': 34,\n",
       " 'dtc__min_samples_split': 3}"
      ]
     },
     "execution_count": 81,
     "metadata": {},
     "output_type": "execute_result"
    }
   ],
   "source": [
    "dtc_gs2.best_params_"
   ]
  },
  {
   "cell_type": "code",
   "execution_count": 82,
   "metadata": {
    "ExecuteTime": {
     "end_time": "2023-01-05T22:08:49.234007Z",
     "start_time": "2023-01-05T22:08:49.230952Z"
    }
   },
   "outputs": [
    {
     "data": {
      "text/plain": [
       "0.7812121212121212"
      ]
     },
     "execution_count": 82,
     "metadata": {},
     "output_type": "execute_result"
    }
   ],
   "source": [
    "dtc_gs2.best_score_"
   ]
  },
  {
   "cell_type": "code",
   "execution_count": 83,
   "metadata": {
    "ExecuteTime": {
     "end_time": "2023-01-05T22:08:49.273739Z",
     "start_time": "2023-01-05T22:08:49.234007Z"
    }
   },
   "outputs": [
    {
     "data": {
      "text/plain": [
       "0.7835016835016835"
      ]
     },
     "execution_count": 83,
     "metadata": {},
     "output_type": "execute_result"
    }
   ],
   "source": [
    "dtc_gs2.best_estimator_.score(X_test,y_test)"
   ]
  },
  {
   "cell_type": "markdown",
   "metadata": {},
   "source": [
    "### Final Decision Tree Model"
   ]
  },
  {
   "cell_type": "markdown",
   "metadata": {},
   "source": [
    "The Final Decision Tree Model does not change much from the baseline decision tree model. The main area of improvement is the ROC-AUC score being raised from 78% to 79%. \n",
    "\n",
    "The model is still overfit on the training data as well. Given more time, this could use additional tweaking. "
   ]
  },
  {
   "cell_type": "code",
   "execution_count": 84,
   "metadata": {
    "ExecuteTime": {
     "end_time": "2023-01-05T22:08:49.276307Z",
     "start_time": "2023-01-05T22:08:49.274246Z"
    }
   },
   "outputs": [],
   "source": [
    "dtc_model_final = Pipeline([\n",
    "    ('ColTrans', ColTrans),\n",
    "    ('dtc', DecisionTreeClassifier(criterion='entropy', max_depth=34, \n",
    "                                   min_samples_split=3, random_state=42))\n",
    "])"
   ]
  },
  {
   "cell_type": "code",
   "execution_count": 85,
   "metadata": {
    "ExecuteTime": {
     "end_time": "2023-01-05T22:08:51.008577Z",
     "start_time": "2023-01-05T22:08:49.276307Z"
    }
   },
   "outputs": [],
   "source": [
    "start1 = perf_counter()\n",
    "dtc_model_final.fit(X_train, y_train);\n",
    "end1 = perf_counter()"
   ]
  },
  {
   "cell_type": "code",
   "execution_count": 86,
   "metadata": {
    "ExecuteTime": {
     "end_time": "2023-01-05T22:08:51.011525Z",
     "start_time": "2023-01-05T22:08:51.008577Z"
    }
   },
   "outputs": [],
   "source": [
    "dtc_pipe_final = ModelRuns(dtc_model_final, 'dtc', X_train, y_train)"
   ]
  },
  {
   "cell_type": "code",
   "execution_count": 87,
   "metadata": {
    "ExecuteTime": {
     "end_time": "2023-01-05T22:08:51.629198Z",
     "start_time": "2023-01-05T22:08:51.012528Z"
    }
   },
   "outputs": [
    {
     "name": "stdout",
     "output_type": "stream",
     "text": [
      "Train Report: \n",
      "              precision    recall  f1-score   support\n",
      "\n",
      "           0       0.96      0.99      0.98     24161\n",
      "           1       0.99      0.95      0.97     20389\n",
      "\n",
      "    accuracy                           0.97     44550\n",
      "   macro avg       0.98      0.97      0.97     44550\n",
      "weighted avg       0.97      0.97      0.97     44550\n",
      "\n",
      "ROC-AUC Score:0.9983946810911205\n",
      "\n",
      "Test Report: \n",
      "              precision    recall  f1-score   support\n",
      "\n",
      "           0       0.80      0.81      0.80      8098\n",
      "           1       0.77      0.75      0.76      6752\n",
      "\n",
      "    accuracy                           0.78     14850\n",
      "   macro avg       0.78      0.78      0.78     14850\n",
      "weighted avg       0.78      0.78      0.78     14850\n",
      "\n",
      "ROC-AUC Score:0.792630600235972\n"
     ]
    },
    {
     "data": {
      "image/png": "[encoded data removed]",
      "text/plain": [
       "<Figure size 432x288 with 2 Axes>"
      ]
     },
     "metadata": {
      "needs_background": "light"
     },
     "output_type": "display_data"
    },
    {
     "data": {
      "image/png": "[encoded data removed]",
      "text/plain": [
       "<Figure size 432x288 with 2 Axes>"
      ]
     },
     "metadata": {
      "needs_background": "light"
     },
     "output_type": "display_data"
    }
   ],
   "source": [
    "start2 = perf_counter()\n",
    "dtc_pipe_final.run_all(X_train_run=X_train, X_test_run=X_test, y_train_run=y_train, y_test_run=y_test, train_results=True);\n",
    "end2 = perf_counter()"
   ]
  },
  {
   "cell_type": "code",
   "execution_count": 88,
   "metadata": {
    "ExecuteTime": {
     "end_time": "2023-01-05T22:08:51.631202Z",
     "start_time": "2023-01-05T22:08:51.629198Z"
    }
   },
   "outputs": [],
   "source": [
    "dtc_time = (end1-start1 + end2 - start2)"
   ]
  },
  {
   "cell_type": "code",
   "execution_count": 89,
   "metadata": {
    "ExecuteTime": {
     "end_time": "2023-01-05T22:08:51.708515Z",
     "start_time": "2023-01-05T22:08:51.631202Z"
    }
   },
   "outputs": [],
   "source": [
    "custom.record_results('Decision Tree', dtc_model_final, time_dic, dtc_time, acc_dic, roc_auc_dic, X_test, y_test)"
   ]
  },
  {
   "cell_type": "markdown",
   "metadata": {},
   "source": [
    "## Random Forest (DONE)"
   ]
  },
  {
   "cell_type": "markdown",
   "metadata": {},
   "source": [
    "My random forest model has 100% accuracy and an ROC-AUC score of 99.95% for the train data while the test results have an accuracy of 82% and an ROC-AUC score of 89%. This is indicative of overfitting and I will look to reduce overfitting by adjusting hyperparameters through gridsearch.\n",
    "\n",
    "Overall, these results are pretty good though. "
   ]
  },
  {
   "cell_type": "code",
   "execution_count": 90,
   "metadata": {
    "ExecuteTime": {
     "end_time": "2023-01-05T22:08:51.710517Z",
     "start_time": "2023-01-05T22:08:51.708515Z"
    }
   },
   "outputs": [],
   "source": [
    "rf_model = Pipeline([\n",
    "    ('ColTrans', ColTrans),\n",
    "    ('rf', RandomForestClassifier(random_state=42))\n",
    "])"
   ]
  },
  {
   "cell_type": "code",
   "execution_count": 91,
   "metadata": {
    "ExecuteTime": {
     "end_time": "2023-01-05T22:08:56.446722Z",
     "start_time": "2023-01-05T22:08:51.711516Z"
    }
   },
   "outputs": [],
   "source": [
    "rf_model.fit(X_train, y_train);"
   ]
  },
  {
   "cell_type": "code",
   "execution_count": 92,
   "metadata": {
    "ExecuteTime": {
     "end_time": "2023-01-05T22:08:56.450316Z",
     "start_time": "2023-01-05T22:08:56.447722Z"
    }
   },
   "outputs": [],
   "source": [
    "rf_pipe = ModelRuns(rf_model, 'rf', X_train, y_train)"
   ]
  },
  {
   "cell_type": "code",
   "execution_count": 93,
   "metadata": {
    "ExecuteTime": {
     "end_time": "2023-01-05T22:08:59.288840Z",
     "start_time": "2023-01-05T22:08:56.451319Z"
    }
   },
   "outputs": [
    {
     "name": "stdout",
     "output_type": "stream",
     "text": [
      "Train Report: \n",
      "              precision    recall  f1-score   support\n",
      "\n",
      "           0       0.99      1.00      1.00     24161\n",
      "           1       1.00      0.99      1.00     20389\n",
      "\n",
      "    accuracy                           1.00     44550\n",
      "   macro avg       1.00      1.00      1.00     44550\n",
      "weighted avg       1.00      1.00      1.00     44550\n",
      "\n",
      "ROC-AUC Score:0.9993466264143251\n",
      "\n",
      "Test Report: \n",
      "              precision    recall  f1-score   support\n",
      "\n",
      "           0       0.82      0.86      0.84      8098\n",
      "           1       0.82      0.77      0.79      6752\n",
      "\n",
      "    accuracy                           0.82     14850\n",
      "   macro avg       0.82      0.81      0.82     14850\n",
      "weighted avg       0.82      0.82      0.82     14850\n",
      "\n",
      "ROC-AUC Score:0.8961605843816096\n"
     ]
    },
    {
     "data": {
      "image/png": "[encoded data removed]",
      "text/plain": [
       "<Figure size 432x288 with 2 Axes>"
      ]
     },
     "metadata": {
      "needs_background": "light"
     },
     "output_type": "display_data"
    },
    {
     "data": {
      "image/png": "[encoded data removed]",
      "text/plain": [
       "<Figure size 432x288 with 2 Axes>"
      ]
     },
     "metadata": {
      "needs_background": "light"
     },
     "output_type": "display_data"
    }
   ],
   "source": [
    "rf_pipe.run_all(X_train_run=X_train, X_test_run=X_test, y_train_run=y_train, y_test_run=y_test, train_results=True);"
   ]
  },
  {
   "cell_type": "markdown",
   "metadata": {},
   "source": [
    "### Random Forest GridSearch"
   ]
  },
  {
   "cell_type": "markdown",
   "metadata": {},
   "source": [
    "My Random forest model is overfit, I will use GridSearch to attempt to reduce overfitting the training data and increase my score results on the test data. Just like with the decision tree model I am beginning with `criterion` and `max_depth`."
   ]
  },
  {
   "cell_type": "code",
   "execution_count": 94,
   "metadata": {
    "ExecuteTime": {
     "end_time": "2023-01-05T22:11:27.611784Z",
     "start_time": "2023-01-05T22:08:59.288840Z"
    }
   },
   "outputs": [
    {
     "name": "stdout",
     "output_type": "stream",
     "text": [
      "Fitting 5 folds for each of 12 candidates, totalling 60 fits\n"
     ]
    },
    {
     "name": "stderr",
     "output_type": "stream",
     "text": [
      "[Parallel(n_jobs=1)]: Using backend SequentialBackend with 1 concurrent workers.\n",
      "C:\\Users\\nacnu\\anaconda3\\envs\\learn-env\\lib\\site-packages\\sklearn\\model_selection\\_validation.py:548: FitFailedWarning: Estimator fit failed. The score on this train-test partition for these parameters will be set to nan. Details: \n",
      "Traceback (most recent call last):\n",
      "  File \"C:\\Users\\nacnu\\anaconda3\\envs\\learn-env\\lib\\site-packages\\sklearn\\model_selection\\_validation.py\", line 531, in _fit_and_score\n",
      "    estimator.fit(X_train, y_train, **fit_params)\n",
      "  File \"C:\\Users\\nacnu\\anaconda3\\envs\\learn-env\\lib\\site-packages\\sklearn\\pipeline.py\", line 335, in fit\n",
      "    self._final_estimator.fit(Xt, y, **fit_params_last_step)\n",
      "  File \"C:\\Users\\nacnu\\anaconda3\\envs\\learn-env\\lib\\site-packages\\sklearn\\ensemble\\_forest.py\", line 386, in fit\n",
      "    trees = Parallel(n_jobs=self.n_jobs, verbose=self.verbose,\n",
      "  File \"C:\\Users\\nacnu\\anaconda3\\envs\\learn-env\\lib\\site-packages\\joblib\\parallel.py\", line 1048, in __call__\n",
      "    if self.dispatch_one_batch(iterator):\n",
      "  File \"C:\\Users\\nacnu\\anaconda3\\envs\\learn-env\\lib\\site-packages\\joblib\\parallel.py\", line 866, in dispatch_one_batch\n",
      "    self._dispatch(tasks)\n",
      "  File \"C:\\Users\\nacnu\\anaconda3\\envs\\learn-env\\lib\\site-packages\\joblib\\parallel.py\", line 784, in _dispatch\n",
      "    job = self._backend.apply_async(batch, callback=cb)\n",
      "  File \"C:\\Users\\nacnu\\anaconda3\\envs\\learn-env\\lib\\site-packages\\joblib\\_parallel_backends.py\", line 208, in apply_async\n",
      "    result = ImmediateResult(func)\n",
      "  File \"C:\\Users\\nacnu\\anaconda3\\envs\\learn-env\\lib\\site-packages\\joblib\\_parallel_backends.py\", line 572, in __init__\n",
      "    self.results = batch()\n",
      "  File \"C:\\Users\\nacnu\\anaconda3\\envs\\learn-env\\lib\\site-packages\\joblib\\parallel.py\", line 262, in __call__\n",
      "    return [func(*args, **kwargs)\n",
      "  File \"C:\\Users\\nacnu\\anaconda3\\envs\\learn-env\\lib\\site-packages\\joblib\\parallel.py\", line 262, in <listcomp>\n",
      "    return [func(*args, **kwargs)\n",
      "  File \"C:\\Users\\nacnu\\anaconda3\\envs\\learn-env\\lib\\site-packages\\sklearn\\ensemble\\_forest.py\", line 168, in _parallel_build_trees\n",
      "    tree.fit(X, y, sample_weight=curr_sample_weight, check_input=False)\n",
      "  File \"C:\\Users\\nacnu\\anaconda3\\envs\\learn-env\\lib\\site-packages\\sklearn\\tree\\_classes.py\", line 890, in fit\n",
      "    super().fit(\n",
      "  File \"C:\\Users\\nacnu\\anaconda3\\envs\\learn-env\\lib\\site-packages\\sklearn\\tree\\_classes.py\", line 333, in fit\n",
      "    criterion = CRITERIA_CLF[self.criterion](self.n_outputs_,\n",
      "KeyError: 'log_loss'\n",
      "\n",
      "  warnings.warn(\"Estimator fit failed. The score on this train-test\"\n",
      "C:\\Users\\nacnu\\anaconda3\\envs\\learn-env\\lib\\site-packages\\sklearn\\model_selection\\_validation.py:548: FitFailedWarning: Estimator fit failed. The score on this train-test partition for these parameters will be set to nan. Details: \n",
      "Traceback (most recent call last):\n",
      "  File \"C:\\Users\\nacnu\\anaconda3\\envs\\learn-env\\lib\\site-packages\\sklearn\\model_selection\\_validation.py\", line 531, in _fit_and_score\n",
      "    estimator.fit(X_train, y_train, **fit_params)\n",
      "  File \"C:\\Users\\nacnu\\anaconda3\\envs\\learn-env\\lib\\site-packages\\sklearn\\pipeline.py\", line 335, in fit\n",
      "    self._final_estimator.fit(Xt, y, **fit_params_last_step)\n",
      "  File \"C:\\Users\\nacnu\\anaconda3\\envs\\learn-env\\lib\\site-packages\\sklearn\\ensemble\\_forest.py\", line 386, in fit\n",
      "    trees = Parallel(n_jobs=self.n_jobs, verbose=self.verbose,\n",
      "  File \"C:\\Users\\nacnu\\anaconda3\\envs\\learn-env\\lib\\site-packages\\joblib\\parallel.py\", line 1048, in __call__\n",
      "    if self.dispatch_one_batch(iterator):\n",
      "  File \"C:\\Users\\nacnu\\anaconda3\\envs\\learn-env\\lib\\site-packages\\joblib\\parallel.py\", line 866, in dispatch_one_batch\n",
      "    self._dispatch(tasks)\n",
      "  File \"C:\\Users\\nacnu\\anaconda3\\envs\\learn-env\\lib\\site-packages\\joblib\\parallel.py\", line 784, in _dispatch\n",
      "    job = self._backend.apply_async(batch, callback=cb)\n",
      "  File \"C:\\Users\\nacnu\\anaconda3\\envs\\learn-env\\lib\\site-packages\\joblib\\_parallel_backends.py\", line 208, in apply_async\n",
      "    result = ImmediateResult(func)\n",
      "  File \"C:\\Users\\nacnu\\anaconda3\\envs\\learn-env\\lib\\site-packages\\joblib\\_parallel_backends.py\", line 572, in __init__\n",
      "    self.results = batch()\n",
      "  File \"C:\\Users\\nacnu\\anaconda3\\envs\\learn-env\\lib\\site-packages\\joblib\\parallel.py\", line 262, in __call__\n",
      "    return [func(*args, **kwargs)\n",
      "  File \"C:\\Users\\nacnu\\anaconda3\\envs\\learn-env\\lib\\site-packages\\joblib\\parallel.py\", line 262, in <listcomp>\n",
      "    return [func(*args, **kwargs)\n",
      "  File \"C:\\Users\\nacnu\\anaconda3\\envs\\learn-env\\lib\\site-packages\\sklearn\\ensemble\\_forest.py\", line 168, in _parallel_build_trees\n",
      "    tree.fit(X, y, sample_weight=curr_sample_weight, check_input=False)\n",
      "  File \"C:\\Users\\nacnu\\anaconda3\\envs\\learn-env\\lib\\site-packages\\sklearn\\tree\\_classes.py\", line 890, in fit\n",
      "    super().fit(\n",
      "  File \"C:\\Users\\nacnu\\anaconda3\\envs\\learn-env\\lib\\site-packages\\sklearn\\tree\\_classes.py\", line 333, in fit\n",
      "    criterion = CRITERIA_CLF[self.criterion](self.n_outputs_,\n",
      "KeyError: 'log_loss'\n",
      "\n",
      "  warnings.warn(\"Estimator fit failed. The score on this train-test\"\n",
      "C:\\Users\\nacnu\\anaconda3\\envs\\learn-env\\lib\\site-packages\\sklearn\\model_selection\\_validation.py:548: FitFailedWarning: Estimator fit failed. The score on this train-test partition for these parameters will be set to nan. Details: \n",
      "Traceback (most recent call last):\n",
      "  File \"C:\\Users\\nacnu\\anaconda3\\envs\\learn-env\\lib\\site-packages\\sklearn\\model_selection\\_validation.py\", line 531, in _fit_and_score\n",
      "    estimator.fit(X_train, y_train, **fit_params)\n",
      "  File \"C:\\Users\\nacnu\\anaconda3\\envs\\learn-env\\lib\\site-packages\\sklearn\\pipeline.py\", line 335, in fit\n",
      "    self._final_estimator.fit(Xt, y, **fit_params_last_step)\n",
      "  File \"C:\\Users\\nacnu\\anaconda3\\envs\\learn-env\\lib\\site-packages\\sklearn\\ensemble\\_forest.py\", line 386, in fit\n",
      "    trees = Parallel(n_jobs=self.n_jobs, verbose=self.verbose,\n",
      "  File \"C:\\Users\\nacnu\\anaconda3\\envs\\learn-env\\lib\\site-packages\\joblib\\parallel.py\", line 1048, in __call__\n",
      "    if self.dispatch_one_batch(iterator):\n",
      "  File \"C:\\Users\\nacnu\\anaconda3\\envs\\learn-env\\lib\\site-packages\\joblib\\parallel.py\", line 866, in dispatch_one_batch\n",
      "    self._dispatch(tasks)\n",
      "  File \"C:\\Users\\nacnu\\anaconda3\\envs\\learn-env\\lib\\site-packages\\joblib\\parallel.py\", line 784, in _dispatch\n",
      "    job = self._backend.apply_async(batch, callback=cb)\n",
      "  File \"C:\\Users\\nacnu\\anaconda3\\envs\\learn-env\\lib\\site-packages\\joblib\\_parallel_backends.py\", line 208, in apply_async\n",
      "    result = ImmediateResult(func)\n",
      "  File \"C:\\Users\\nacnu\\anaconda3\\envs\\learn-env\\lib\\site-packages\\joblib\\_parallel_backends.py\", line 572, in __init__\n",
      "    self.results = batch()\n",
      "  File \"C:\\Users\\nacnu\\anaconda3\\envs\\learn-env\\lib\\site-packages\\joblib\\parallel.py\", line 262, in __call__\n",
      "    return [func(*args, **kwargs)\n",
      "  File \"C:\\Users\\nacnu\\anaconda3\\envs\\learn-env\\lib\\site-packages\\joblib\\parallel.py\", line 262, in <listcomp>\n",
      "    return [func(*args, **kwargs)\n",
      "  File \"C:\\Users\\nacnu\\anaconda3\\envs\\learn-env\\lib\\site-packages\\sklearn\\ensemble\\_forest.py\", line 168, in _parallel_build_trees\n",
      "    tree.fit(X, y, sample_weight=curr_sample_weight, check_input=False)\n",
      "  File \"C:\\Users\\nacnu\\anaconda3\\envs\\learn-env\\lib\\site-packages\\sklearn\\tree\\_classes.py\", line 890, in fit\n",
      "    super().fit(\n",
      "  File \"C:\\Users\\nacnu\\anaconda3\\envs\\learn-env\\lib\\site-packages\\sklearn\\tree\\_classes.py\", line 333, in fit\n",
      "    criterion = CRITERIA_CLF[self.criterion](self.n_outputs_,\n",
      "KeyError: 'log_loss'\n",
      "\n",
      "  warnings.warn(\"Estimator fit failed. The score on this train-test\"\n",
      "C:\\Users\\nacnu\\anaconda3\\envs\\learn-env\\lib\\site-packages\\sklearn\\model_selection\\_validation.py:548: FitFailedWarning: Estimator fit failed. The score on this train-test partition for these parameters will be set to nan. Details: \n",
      "Traceback (most recent call last):\n",
      "  File \"C:\\Users\\nacnu\\anaconda3\\envs\\learn-env\\lib\\site-packages\\sklearn\\model_selection\\_validation.py\", line 531, in _fit_and_score\n",
      "    estimator.fit(X_train, y_train, **fit_params)\n",
      "  File \"C:\\Users\\nacnu\\anaconda3\\envs\\learn-env\\lib\\site-packages\\sklearn\\pipeline.py\", line 335, in fit\n",
      "    self._final_estimator.fit(Xt, y, **fit_params_last_step)\n",
      "  File \"C:\\Users\\nacnu\\anaconda3\\envs\\learn-env\\lib\\site-packages\\sklearn\\ensemble\\_forest.py\", line 386, in fit\n",
      "    trees = Parallel(n_jobs=self.n_jobs, verbose=self.verbose,\n",
      "  File \"C:\\Users\\nacnu\\anaconda3\\envs\\learn-env\\lib\\site-packages\\joblib\\parallel.py\", line 1048, in __call__\n",
      "    if self.dispatch_one_batch(iterator):\n",
      "  File \"C:\\Users\\nacnu\\anaconda3\\envs\\learn-env\\lib\\site-packages\\joblib\\parallel.py\", line 866, in dispatch_one_batch\n",
      "    self._dispatch(tasks)\n",
      "  File \"C:\\Users\\nacnu\\anaconda3\\envs\\learn-env\\lib\\site-packages\\joblib\\parallel.py\", line 784, in _dispatch\n",
      "    job = self._backend.apply_async(batch, callback=cb)\n",
      "  File \"C:\\Users\\nacnu\\anaconda3\\envs\\learn-env\\lib\\site-packages\\joblib\\_parallel_backends.py\", line 208, in apply_async\n",
      "    result = ImmediateResult(func)\n",
      "  File \"C:\\Users\\nacnu\\anaconda3\\envs\\learn-env\\lib\\site-packages\\joblib\\_parallel_backends.py\", line 572, in __init__\n",
      "    self.results = batch()\n",
      "  File \"C:\\Users\\nacnu\\anaconda3\\envs\\learn-env\\lib\\site-packages\\joblib\\parallel.py\", line 262, in __call__\n",
      "    return [func(*args, **kwargs)\n",
      "  File \"C:\\Users\\nacnu\\anaconda3\\envs\\learn-env\\lib\\site-packages\\joblib\\parallel.py\", line 262, in <listcomp>\n",
      "    return [func(*args, **kwargs)\n",
      "  File \"C:\\Users\\nacnu\\anaconda3\\envs\\learn-env\\lib\\site-packages\\sklearn\\ensemble\\_forest.py\", line 168, in _parallel_build_trees\n",
      "    tree.fit(X, y, sample_weight=curr_sample_weight, check_input=False)\n",
      "  File \"C:\\Users\\nacnu\\anaconda3\\envs\\learn-env\\lib\\site-packages\\sklearn\\tree\\_classes.py\", line 890, in fit\n",
      "    super().fit(\n",
      "  File \"C:\\Users\\nacnu\\anaconda3\\envs\\learn-env\\lib\\site-packages\\sklearn\\tree\\_classes.py\", line 333, in fit\n",
      "    criterion = CRITERIA_CLF[self.criterion](self.n_outputs_,\n",
      "KeyError: 'log_loss'\n",
      "\n",
      "  warnings.warn(\"Estimator fit failed. The score on this train-test\"\n"
     ]
    },
    {
     "name": "stderr",
     "output_type": "stream",
     "text": [
      "C:\\Users\\nacnu\\anaconda3\\envs\\learn-env\\lib\\site-packages\\sklearn\\model_selection\\_validation.py:548: FitFailedWarning: Estimator fit failed. The score on this train-test partition for these parameters will be set to nan. Details: \n",
      "Traceback (most recent call last):\n",
      "  File \"C:\\Users\\nacnu\\anaconda3\\envs\\learn-env\\lib\\site-packages\\sklearn\\model_selection\\_validation.py\", line 531, in _fit_and_score\n",
      "    estimator.fit(X_train, y_train, **fit_params)\n",
      "  File \"C:\\Users\\nacnu\\anaconda3\\envs\\learn-env\\lib\\site-packages\\sklearn\\pipeline.py\", line 335, in fit\n",
      "    self._final_estimator.fit(Xt, y, **fit_params_last_step)\n",
      "  File \"C:\\Users\\nacnu\\anaconda3\\envs\\learn-env\\lib\\site-packages\\sklearn\\ensemble\\_forest.py\", line 386, in fit\n",
      "    trees = Parallel(n_jobs=self.n_jobs, verbose=self.verbose,\n",
      "  File \"C:\\Users\\nacnu\\anaconda3\\envs\\learn-env\\lib\\site-packages\\joblib\\parallel.py\", line 1048, in __call__\n",
      "    if self.dispatch_one_batch(iterator):\n",
      "  File \"C:\\Users\\nacnu\\anaconda3\\envs\\learn-env\\lib\\site-packages\\joblib\\parallel.py\", line 866, in dispatch_one_batch\n",
      "    self._dispatch(tasks)\n",
      "  File \"C:\\Users\\nacnu\\anaconda3\\envs\\learn-env\\lib\\site-packages\\joblib\\parallel.py\", line 784, in _dispatch\n",
      "    job = self._backend.apply_async(batch, callback=cb)\n",
      "  File \"C:\\Users\\nacnu\\anaconda3\\envs\\learn-env\\lib\\site-packages\\joblib\\_parallel_backends.py\", line 208, in apply_async\n",
      "    result = ImmediateResult(func)\n",
      "  File \"C:\\Users\\nacnu\\anaconda3\\envs\\learn-env\\lib\\site-packages\\joblib\\_parallel_backends.py\", line 572, in __init__\n",
      "    self.results = batch()\n",
      "  File \"C:\\Users\\nacnu\\anaconda3\\envs\\learn-env\\lib\\site-packages\\joblib\\parallel.py\", line 262, in __call__\n",
      "    return [func(*args, **kwargs)\n",
      "  File \"C:\\Users\\nacnu\\anaconda3\\envs\\learn-env\\lib\\site-packages\\joblib\\parallel.py\", line 262, in <listcomp>\n",
      "    return [func(*args, **kwargs)\n",
      "  File \"C:\\Users\\nacnu\\anaconda3\\envs\\learn-env\\lib\\site-packages\\sklearn\\ensemble\\_forest.py\", line 168, in _parallel_build_trees\n",
      "    tree.fit(X, y, sample_weight=curr_sample_weight, check_input=False)\n",
      "  File \"C:\\Users\\nacnu\\anaconda3\\envs\\learn-env\\lib\\site-packages\\sklearn\\tree\\_classes.py\", line 890, in fit\n",
      "    super().fit(\n",
      "  File \"C:\\Users\\nacnu\\anaconda3\\envs\\learn-env\\lib\\site-packages\\sklearn\\tree\\_classes.py\", line 333, in fit\n",
      "    criterion = CRITERIA_CLF[self.criterion](self.n_outputs_,\n",
      "KeyError: 'log_loss'\n",
      "\n",
      "  warnings.warn(\"Estimator fit failed. The score on this train-test\"\n",
      "C:\\Users\\nacnu\\anaconda3\\envs\\learn-env\\lib\\site-packages\\sklearn\\model_selection\\_validation.py:548: FitFailedWarning: Estimator fit failed. The score on this train-test partition for these parameters will be set to nan. Details: \n",
      "Traceback (most recent call last):\n",
      "  File \"C:\\Users\\nacnu\\anaconda3\\envs\\learn-env\\lib\\site-packages\\sklearn\\model_selection\\_validation.py\", line 531, in _fit_and_score\n",
      "    estimator.fit(X_train, y_train, **fit_params)\n",
      "  File \"C:\\Users\\nacnu\\anaconda3\\envs\\learn-env\\lib\\site-packages\\sklearn\\pipeline.py\", line 335, in fit\n",
      "    self._final_estimator.fit(Xt, y, **fit_params_last_step)\n",
      "  File \"C:\\Users\\nacnu\\anaconda3\\envs\\learn-env\\lib\\site-packages\\sklearn\\ensemble\\_forest.py\", line 386, in fit\n",
      "    trees = Parallel(n_jobs=self.n_jobs, verbose=self.verbose,\n",
      "  File \"C:\\Users\\nacnu\\anaconda3\\envs\\learn-env\\lib\\site-packages\\joblib\\parallel.py\", line 1048, in __call__\n",
      "    if self.dispatch_one_batch(iterator):\n",
      "  File \"C:\\Users\\nacnu\\anaconda3\\envs\\learn-env\\lib\\site-packages\\joblib\\parallel.py\", line 866, in dispatch_one_batch\n",
      "    self._dispatch(tasks)\n",
      "  File \"C:\\Users\\nacnu\\anaconda3\\envs\\learn-env\\lib\\site-packages\\joblib\\parallel.py\", line 784, in _dispatch\n",
      "    job = self._backend.apply_async(batch, callback=cb)\n",
      "  File \"C:\\Users\\nacnu\\anaconda3\\envs\\learn-env\\lib\\site-packages\\joblib\\_parallel_backends.py\", line 208, in apply_async\n",
      "    result = ImmediateResult(func)\n",
      "  File \"C:\\Users\\nacnu\\anaconda3\\envs\\learn-env\\lib\\site-packages\\joblib\\_parallel_backends.py\", line 572, in __init__\n",
      "    self.results = batch()\n",
      "  File \"C:\\Users\\nacnu\\anaconda3\\envs\\learn-env\\lib\\site-packages\\joblib\\parallel.py\", line 262, in __call__\n",
      "    return [func(*args, **kwargs)\n",
      "  File \"C:\\Users\\nacnu\\anaconda3\\envs\\learn-env\\lib\\site-packages\\joblib\\parallel.py\", line 262, in <listcomp>\n",
      "    return [func(*args, **kwargs)\n",
      "  File \"C:\\Users\\nacnu\\anaconda3\\envs\\learn-env\\lib\\site-packages\\sklearn\\ensemble\\_forest.py\", line 168, in _parallel_build_trees\n",
      "    tree.fit(X, y, sample_weight=curr_sample_weight, check_input=False)\n",
      "  File \"C:\\Users\\nacnu\\anaconda3\\envs\\learn-env\\lib\\site-packages\\sklearn\\tree\\_classes.py\", line 890, in fit\n",
      "    super().fit(\n",
      "  File \"C:\\Users\\nacnu\\anaconda3\\envs\\learn-env\\lib\\site-packages\\sklearn\\tree\\_classes.py\", line 333, in fit\n",
      "    criterion = CRITERIA_CLF[self.criterion](self.n_outputs_,\n",
      "KeyError: 'log_loss'\n",
      "\n",
      "  warnings.warn(\"Estimator fit failed. The score on this train-test\"\n",
      "C:\\Users\\nacnu\\anaconda3\\envs\\learn-env\\lib\\site-packages\\sklearn\\model_selection\\_validation.py:548: FitFailedWarning: Estimator fit failed. The score on this train-test partition for these parameters will be set to nan. Details: \n",
      "Traceback (most recent call last):\n",
      "  File \"C:\\Users\\nacnu\\anaconda3\\envs\\learn-env\\lib\\site-packages\\sklearn\\model_selection\\_validation.py\", line 531, in _fit_and_score\n",
      "    estimator.fit(X_train, y_train, **fit_params)\n",
      "  File \"C:\\Users\\nacnu\\anaconda3\\envs\\learn-env\\lib\\site-packages\\sklearn\\pipeline.py\", line 335, in fit\n",
      "    self._final_estimator.fit(Xt, y, **fit_params_last_step)\n",
      "  File \"C:\\Users\\nacnu\\anaconda3\\envs\\learn-env\\lib\\site-packages\\sklearn\\ensemble\\_forest.py\", line 386, in fit\n",
      "    trees = Parallel(n_jobs=self.n_jobs, verbose=self.verbose,\n",
      "  File \"C:\\Users\\nacnu\\anaconda3\\envs\\learn-env\\lib\\site-packages\\joblib\\parallel.py\", line 1048, in __call__\n",
      "    if self.dispatch_one_batch(iterator):\n",
      "  File \"C:\\Users\\nacnu\\anaconda3\\envs\\learn-env\\lib\\site-packages\\joblib\\parallel.py\", line 866, in dispatch_one_batch\n",
      "    self._dispatch(tasks)\n",
      "  File \"C:\\Users\\nacnu\\anaconda3\\envs\\learn-env\\lib\\site-packages\\joblib\\parallel.py\", line 784, in _dispatch\n",
      "    job = self._backend.apply_async(batch, callback=cb)\n",
      "  File \"C:\\Users\\nacnu\\anaconda3\\envs\\learn-env\\lib\\site-packages\\joblib\\_parallel_backends.py\", line 208, in apply_async\n",
      "    result = ImmediateResult(func)\n",
      "  File \"C:\\Users\\nacnu\\anaconda3\\envs\\learn-env\\lib\\site-packages\\joblib\\_parallel_backends.py\", line 572, in __init__\n",
      "    self.results = batch()\n",
      "  File \"C:\\Users\\nacnu\\anaconda3\\envs\\learn-env\\lib\\site-packages\\joblib\\parallel.py\", line 262, in __call__\n",
      "    return [func(*args, **kwargs)\n",
      "  File \"C:\\Users\\nacnu\\anaconda3\\envs\\learn-env\\lib\\site-packages\\joblib\\parallel.py\", line 262, in <listcomp>\n",
      "    return [func(*args, **kwargs)\n",
      "  File \"C:\\Users\\nacnu\\anaconda3\\envs\\learn-env\\lib\\site-packages\\sklearn\\ensemble\\_forest.py\", line 168, in _parallel_build_trees\n",
      "    tree.fit(X, y, sample_weight=curr_sample_weight, check_input=False)\n",
      "  File \"C:\\Users\\nacnu\\anaconda3\\envs\\learn-env\\lib\\site-packages\\sklearn\\tree\\_classes.py\", line 890, in fit\n",
      "    super().fit(\n",
      "  File \"C:\\Users\\nacnu\\anaconda3\\envs\\learn-env\\lib\\site-packages\\sklearn\\tree\\_classes.py\", line 333, in fit\n",
      "    criterion = CRITERIA_CLF[self.criterion](self.n_outputs_,\n",
      "KeyError: 'log_loss'\n",
      "\n",
      "  warnings.warn(\"Estimator fit failed. The score on this train-test\"\n",
      "C:\\Users\\nacnu\\anaconda3\\envs\\learn-env\\lib\\site-packages\\sklearn\\model_selection\\_validation.py:548: FitFailedWarning: Estimator fit failed. The score on this train-test partition for these parameters will be set to nan. Details: \n",
      "Traceback (most recent call last):\n",
      "  File \"C:\\Users\\nacnu\\anaconda3\\envs\\learn-env\\lib\\site-packages\\sklearn\\model_selection\\_validation.py\", line 531, in _fit_and_score\n",
      "    estimator.fit(X_train, y_train, **fit_params)\n",
      "  File \"C:\\Users\\nacnu\\anaconda3\\envs\\learn-env\\lib\\site-packages\\sklearn\\pipeline.py\", line 335, in fit\n",
      "    self._final_estimator.fit(Xt, y, **fit_params_last_step)\n",
      "  File \"C:\\Users\\nacnu\\anaconda3\\envs\\learn-env\\lib\\site-packages\\sklearn\\ensemble\\_forest.py\", line 386, in fit\n",
      "    trees = Parallel(n_jobs=self.n_jobs, verbose=self.verbose,\n",
      "  File \"C:\\Users\\nacnu\\anaconda3\\envs\\learn-env\\lib\\site-packages\\joblib\\parallel.py\", line 1048, in __call__\n",
      "    if self.dispatch_one_batch(iterator):\n",
      "  File \"C:\\Users\\nacnu\\anaconda3\\envs\\learn-env\\lib\\site-packages\\joblib\\parallel.py\", line 866, in dispatch_one_batch\n",
      "    self._dispatch(tasks)\n",
      "  File \"C:\\Users\\nacnu\\anaconda3\\envs\\learn-env\\lib\\site-packages\\joblib\\parallel.py\", line 784, in _dispatch\n",
      "    job = self._backend.apply_async(batch, callback=cb)\n",
      "  File \"C:\\Users\\nacnu\\anaconda3\\envs\\learn-env\\lib\\site-packages\\joblib\\_parallel_backends.py\", line 208, in apply_async\n",
      "    result = ImmediateResult(func)\n",
      "  File \"C:\\Users\\nacnu\\anaconda3\\envs\\learn-env\\lib\\site-packages\\joblib\\_parallel_backends.py\", line 572, in __init__\n",
      "    self.results = batch()\n",
      "  File \"C:\\Users\\nacnu\\anaconda3\\envs\\learn-env\\lib\\site-packages\\joblib\\parallel.py\", line 262, in __call__\n",
      "    return [func(*args, **kwargs)\n",
      "  File \"C:\\Users\\nacnu\\anaconda3\\envs\\learn-env\\lib\\site-packages\\joblib\\parallel.py\", line 262, in <listcomp>\n",
      "    return [func(*args, **kwargs)\n",
      "  File \"C:\\Users\\nacnu\\anaconda3\\envs\\learn-env\\lib\\site-packages\\sklearn\\ensemble\\_forest.py\", line 168, in _parallel_build_trees\n",
      "    tree.fit(X, y, sample_weight=curr_sample_weight, check_input=False)\n",
      "  File \"C:\\Users\\nacnu\\anaconda3\\envs\\learn-env\\lib\\site-packages\\sklearn\\tree\\_classes.py\", line 890, in fit\n",
      "    super().fit(\n",
      "  File \"C:\\Users\\nacnu\\anaconda3\\envs\\learn-env\\lib\\site-packages\\sklearn\\tree\\_classes.py\", line 333, in fit\n",
      "    criterion = CRITERIA_CLF[self.criterion](self.n_outputs_,\n",
      "KeyError: 'log_loss'\n",
      "\n",
      "  warnings.warn(\"Estimator fit failed. The score on this train-test\"\n"
     ]
    },
    {
     "name": "stderr",
     "output_type": "stream",
     "text": [
      "C:\\Users\\nacnu\\anaconda3\\envs\\learn-env\\lib\\site-packages\\sklearn\\model_selection\\_validation.py:548: FitFailedWarning: Estimator fit failed. The score on this train-test partition for these parameters will be set to nan. Details: \n",
      "Traceback (most recent call last):\n",
      "  File \"C:\\Users\\nacnu\\anaconda3\\envs\\learn-env\\lib\\site-packages\\sklearn\\model_selection\\_validation.py\", line 531, in _fit_and_score\n",
      "    estimator.fit(X_train, y_train, **fit_params)\n",
      "  File \"C:\\Users\\nacnu\\anaconda3\\envs\\learn-env\\lib\\site-packages\\sklearn\\pipeline.py\", line 335, in fit\n",
      "    self._final_estimator.fit(Xt, y, **fit_params_last_step)\n",
      "  File \"C:\\Users\\nacnu\\anaconda3\\envs\\learn-env\\lib\\site-packages\\sklearn\\ensemble\\_forest.py\", line 386, in fit\n",
      "    trees = Parallel(n_jobs=self.n_jobs, verbose=self.verbose,\n",
      "  File \"C:\\Users\\nacnu\\anaconda3\\envs\\learn-env\\lib\\site-packages\\joblib\\parallel.py\", line 1048, in __call__\n",
      "    if self.dispatch_one_batch(iterator):\n",
      "  File \"C:\\Users\\nacnu\\anaconda3\\envs\\learn-env\\lib\\site-packages\\joblib\\parallel.py\", line 866, in dispatch_one_batch\n",
      "    self._dispatch(tasks)\n",
      "  File \"C:\\Users\\nacnu\\anaconda3\\envs\\learn-env\\lib\\site-packages\\joblib\\parallel.py\", line 784, in _dispatch\n",
      "    job = self._backend.apply_async(batch, callback=cb)\n",
      "  File \"C:\\Users\\nacnu\\anaconda3\\envs\\learn-env\\lib\\site-packages\\joblib\\_parallel_backends.py\", line 208, in apply_async\n",
      "    result = ImmediateResult(func)\n",
      "  File \"C:\\Users\\nacnu\\anaconda3\\envs\\learn-env\\lib\\site-packages\\joblib\\_parallel_backends.py\", line 572, in __init__\n",
      "    self.results = batch()\n",
      "  File \"C:\\Users\\nacnu\\anaconda3\\envs\\learn-env\\lib\\site-packages\\joblib\\parallel.py\", line 262, in __call__\n",
      "    return [func(*args, **kwargs)\n",
      "  File \"C:\\Users\\nacnu\\anaconda3\\envs\\learn-env\\lib\\site-packages\\joblib\\parallel.py\", line 262, in <listcomp>\n",
      "    return [func(*args, **kwargs)\n",
      "  File \"C:\\Users\\nacnu\\anaconda3\\envs\\learn-env\\lib\\site-packages\\sklearn\\ensemble\\_forest.py\", line 168, in _parallel_build_trees\n",
      "    tree.fit(X, y, sample_weight=curr_sample_weight, check_input=False)\n",
      "  File \"C:\\Users\\nacnu\\anaconda3\\envs\\learn-env\\lib\\site-packages\\sklearn\\tree\\_classes.py\", line 890, in fit\n",
      "    super().fit(\n",
      "  File \"C:\\Users\\nacnu\\anaconda3\\envs\\learn-env\\lib\\site-packages\\sklearn\\tree\\_classes.py\", line 333, in fit\n",
      "    criterion = CRITERIA_CLF[self.criterion](self.n_outputs_,\n",
      "KeyError: 'log_loss'\n",
      "\n",
      "  warnings.warn(\"Estimator fit failed. The score on this train-test\"\n",
      "C:\\Users\\nacnu\\anaconda3\\envs\\learn-env\\lib\\site-packages\\sklearn\\model_selection\\_validation.py:548: FitFailedWarning: Estimator fit failed. The score on this train-test partition for these parameters will be set to nan. Details: \n",
      "Traceback (most recent call last):\n",
      "  File \"C:\\Users\\nacnu\\anaconda3\\envs\\learn-env\\lib\\site-packages\\sklearn\\model_selection\\_validation.py\", line 531, in _fit_and_score\n",
      "    estimator.fit(X_train, y_train, **fit_params)\n",
      "  File \"C:\\Users\\nacnu\\anaconda3\\envs\\learn-env\\lib\\site-packages\\sklearn\\pipeline.py\", line 335, in fit\n",
      "    self._final_estimator.fit(Xt, y, **fit_params_last_step)\n",
      "  File \"C:\\Users\\nacnu\\anaconda3\\envs\\learn-env\\lib\\site-packages\\sklearn\\ensemble\\_forest.py\", line 386, in fit\n",
      "    trees = Parallel(n_jobs=self.n_jobs, verbose=self.verbose,\n",
      "  File \"C:\\Users\\nacnu\\anaconda3\\envs\\learn-env\\lib\\site-packages\\joblib\\parallel.py\", line 1048, in __call__\n",
      "    if self.dispatch_one_batch(iterator):\n",
      "  File \"C:\\Users\\nacnu\\anaconda3\\envs\\learn-env\\lib\\site-packages\\joblib\\parallel.py\", line 866, in dispatch_one_batch\n",
      "    self._dispatch(tasks)\n",
      "  File \"C:\\Users\\nacnu\\anaconda3\\envs\\learn-env\\lib\\site-packages\\joblib\\parallel.py\", line 784, in _dispatch\n",
      "    job = self._backend.apply_async(batch, callback=cb)\n",
      "  File \"C:\\Users\\nacnu\\anaconda3\\envs\\learn-env\\lib\\site-packages\\joblib\\_parallel_backends.py\", line 208, in apply_async\n",
      "    result = ImmediateResult(func)\n",
      "  File \"C:\\Users\\nacnu\\anaconda3\\envs\\learn-env\\lib\\site-packages\\joblib\\_parallel_backends.py\", line 572, in __init__\n",
      "    self.results = batch()\n",
      "  File \"C:\\Users\\nacnu\\anaconda3\\envs\\learn-env\\lib\\site-packages\\joblib\\parallel.py\", line 262, in __call__\n",
      "    return [func(*args, **kwargs)\n",
      "  File \"C:\\Users\\nacnu\\anaconda3\\envs\\learn-env\\lib\\site-packages\\joblib\\parallel.py\", line 262, in <listcomp>\n",
      "    return [func(*args, **kwargs)\n",
      "  File \"C:\\Users\\nacnu\\anaconda3\\envs\\learn-env\\lib\\site-packages\\sklearn\\ensemble\\_forest.py\", line 168, in _parallel_build_trees\n",
      "    tree.fit(X, y, sample_weight=curr_sample_weight, check_input=False)\n",
      "  File \"C:\\Users\\nacnu\\anaconda3\\envs\\learn-env\\lib\\site-packages\\sklearn\\tree\\_classes.py\", line 890, in fit\n",
      "    super().fit(\n",
      "  File \"C:\\Users\\nacnu\\anaconda3\\envs\\learn-env\\lib\\site-packages\\sklearn\\tree\\_classes.py\", line 333, in fit\n",
      "    criterion = CRITERIA_CLF[self.criterion](self.n_outputs_,\n",
      "KeyError: 'log_loss'\n",
      "\n",
      "  warnings.warn(\"Estimator fit failed. The score on this train-test\"\n",
      "C:\\Users\\nacnu\\anaconda3\\envs\\learn-env\\lib\\site-packages\\sklearn\\model_selection\\_validation.py:548: FitFailedWarning: Estimator fit failed. The score on this train-test partition for these parameters will be set to nan. Details: \n",
      "Traceback (most recent call last):\n",
      "  File \"C:\\Users\\nacnu\\anaconda3\\envs\\learn-env\\lib\\site-packages\\sklearn\\model_selection\\_validation.py\", line 531, in _fit_and_score\n",
      "    estimator.fit(X_train, y_train, **fit_params)\n",
      "  File \"C:\\Users\\nacnu\\anaconda3\\envs\\learn-env\\lib\\site-packages\\sklearn\\pipeline.py\", line 335, in fit\n",
      "    self._final_estimator.fit(Xt, y, **fit_params_last_step)\n",
      "  File \"C:\\Users\\nacnu\\anaconda3\\envs\\learn-env\\lib\\site-packages\\sklearn\\ensemble\\_forest.py\", line 386, in fit\n",
      "    trees = Parallel(n_jobs=self.n_jobs, verbose=self.verbose,\n",
      "  File \"C:\\Users\\nacnu\\anaconda3\\envs\\learn-env\\lib\\site-packages\\joblib\\parallel.py\", line 1048, in __call__\n",
      "    if self.dispatch_one_batch(iterator):\n",
      "  File \"C:\\Users\\nacnu\\anaconda3\\envs\\learn-env\\lib\\site-packages\\joblib\\parallel.py\", line 866, in dispatch_one_batch\n",
      "    self._dispatch(tasks)\n",
      "  File \"C:\\Users\\nacnu\\anaconda3\\envs\\learn-env\\lib\\site-packages\\joblib\\parallel.py\", line 784, in _dispatch\n",
      "    job = self._backend.apply_async(batch, callback=cb)\n",
      "  File \"C:\\Users\\nacnu\\anaconda3\\envs\\learn-env\\lib\\site-packages\\joblib\\_parallel_backends.py\", line 208, in apply_async\n",
      "    result = ImmediateResult(func)\n",
      "  File \"C:\\Users\\nacnu\\anaconda3\\envs\\learn-env\\lib\\site-packages\\joblib\\_parallel_backends.py\", line 572, in __init__\n",
      "    self.results = batch()\n",
      "  File \"C:\\Users\\nacnu\\anaconda3\\envs\\learn-env\\lib\\site-packages\\joblib\\parallel.py\", line 262, in __call__\n",
      "    return [func(*args, **kwargs)\n",
      "  File \"C:\\Users\\nacnu\\anaconda3\\envs\\learn-env\\lib\\site-packages\\joblib\\parallel.py\", line 262, in <listcomp>\n",
      "    return [func(*args, **kwargs)\n",
      "  File \"C:\\Users\\nacnu\\anaconda3\\envs\\learn-env\\lib\\site-packages\\sklearn\\ensemble\\_forest.py\", line 168, in _parallel_build_trees\n",
      "    tree.fit(X, y, sample_weight=curr_sample_weight, check_input=False)\n",
      "  File \"C:\\Users\\nacnu\\anaconda3\\envs\\learn-env\\lib\\site-packages\\sklearn\\tree\\_classes.py\", line 890, in fit\n",
      "    super().fit(\n",
      "  File \"C:\\Users\\nacnu\\anaconda3\\envs\\learn-env\\lib\\site-packages\\sklearn\\tree\\_classes.py\", line 333, in fit\n",
      "    criterion = CRITERIA_CLF[self.criterion](self.n_outputs_,\n",
      "KeyError: 'log_loss'\n",
      "\n",
      "  warnings.warn(\"Estimator fit failed. The score on this train-test\"\n",
      "C:\\Users\\nacnu\\anaconda3\\envs\\learn-env\\lib\\site-packages\\sklearn\\model_selection\\_validation.py:548: FitFailedWarning: Estimator fit failed. The score on this train-test partition for these parameters will be set to nan. Details: \n",
      "Traceback (most recent call last):\n",
      "  File \"C:\\Users\\nacnu\\anaconda3\\envs\\learn-env\\lib\\site-packages\\sklearn\\model_selection\\_validation.py\", line 531, in _fit_and_score\n",
      "    estimator.fit(X_train, y_train, **fit_params)\n",
      "  File \"C:\\Users\\nacnu\\anaconda3\\envs\\learn-env\\lib\\site-packages\\sklearn\\pipeline.py\", line 335, in fit\n",
      "    self._final_estimator.fit(Xt, y, **fit_params_last_step)\n",
      "  File \"C:\\Users\\nacnu\\anaconda3\\envs\\learn-env\\lib\\site-packages\\sklearn\\ensemble\\_forest.py\", line 386, in fit\n",
      "    trees = Parallel(n_jobs=self.n_jobs, verbose=self.verbose,\n",
      "  File \"C:\\Users\\nacnu\\anaconda3\\envs\\learn-env\\lib\\site-packages\\joblib\\parallel.py\", line 1048, in __call__\n",
      "    if self.dispatch_one_batch(iterator):\n",
      "  File \"C:\\Users\\nacnu\\anaconda3\\envs\\learn-env\\lib\\site-packages\\joblib\\parallel.py\", line 866, in dispatch_one_batch\n",
      "    self._dispatch(tasks)\n",
      "  File \"C:\\Users\\nacnu\\anaconda3\\envs\\learn-env\\lib\\site-packages\\joblib\\parallel.py\", line 784, in _dispatch\n",
      "    job = self._backend.apply_async(batch, callback=cb)\n",
      "  File \"C:\\Users\\nacnu\\anaconda3\\envs\\learn-env\\lib\\site-packages\\joblib\\_parallel_backends.py\", line 208, in apply_async\n",
      "    result = ImmediateResult(func)\n",
      "  File \"C:\\Users\\nacnu\\anaconda3\\envs\\learn-env\\lib\\site-packages\\joblib\\_parallel_backends.py\", line 572, in __init__\n",
      "    self.results = batch()\n",
      "  File \"C:\\Users\\nacnu\\anaconda3\\envs\\learn-env\\lib\\site-packages\\joblib\\parallel.py\", line 262, in __call__\n",
      "    return [func(*args, **kwargs)\n",
      "  File \"C:\\Users\\nacnu\\anaconda3\\envs\\learn-env\\lib\\site-packages\\joblib\\parallel.py\", line 262, in <listcomp>\n",
      "    return [func(*args, **kwargs)\n",
      "  File \"C:\\Users\\nacnu\\anaconda3\\envs\\learn-env\\lib\\site-packages\\sklearn\\ensemble\\_forest.py\", line 168, in _parallel_build_trees\n",
      "    tree.fit(X, y, sample_weight=curr_sample_weight, check_input=False)\n",
      "  File \"C:\\Users\\nacnu\\anaconda3\\envs\\learn-env\\lib\\site-packages\\sklearn\\tree\\_classes.py\", line 890, in fit\n",
      "    super().fit(\n",
      "  File \"C:\\Users\\nacnu\\anaconda3\\envs\\learn-env\\lib\\site-packages\\sklearn\\tree\\_classes.py\", line 333, in fit\n",
      "    criterion = CRITERIA_CLF[self.criterion](self.n_outputs_,\n",
      "KeyError: 'log_loss'\n",
      "\n",
      "  warnings.warn(\"Estimator fit failed. The score on this train-test\"\n"
     ]
    },
    {
     "name": "stderr",
     "output_type": "stream",
     "text": [
      "C:\\Users\\nacnu\\anaconda3\\envs\\learn-env\\lib\\site-packages\\sklearn\\model_selection\\_validation.py:548: FitFailedWarning: Estimator fit failed. The score on this train-test partition for these parameters will be set to nan. Details: \n",
      "Traceback (most recent call last):\n",
      "  File \"C:\\Users\\nacnu\\anaconda3\\envs\\learn-env\\lib\\site-packages\\sklearn\\model_selection\\_validation.py\", line 531, in _fit_and_score\n",
      "    estimator.fit(X_train, y_train, **fit_params)\n",
      "  File \"C:\\Users\\nacnu\\anaconda3\\envs\\learn-env\\lib\\site-packages\\sklearn\\pipeline.py\", line 335, in fit\n",
      "    self._final_estimator.fit(Xt, y, **fit_params_last_step)\n",
      "  File \"C:\\Users\\nacnu\\anaconda3\\envs\\learn-env\\lib\\site-packages\\sklearn\\ensemble\\_forest.py\", line 386, in fit\n",
      "    trees = Parallel(n_jobs=self.n_jobs, verbose=self.verbose,\n",
      "  File \"C:\\Users\\nacnu\\anaconda3\\envs\\learn-env\\lib\\site-packages\\joblib\\parallel.py\", line 1048, in __call__\n",
      "    if self.dispatch_one_batch(iterator):\n",
      "  File \"C:\\Users\\nacnu\\anaconda3\\envs\\learn-env\\lib\\site-packages\\joblib\\parallel.py\", line 866, in dispatch_one_batch\n",
      "    self._dispatch(tasks)\n",
      "  File \"C:\\Users\\nacnu\\anaconda3\\envs\\learn-env\\lib\\site-packages\\joblib\\parallel.py\", line 784, in _dispatch\n",
      "    job = self._backend.apply_async(batch, callback=cb)\n",
      "  File \"C:\\Users\\nacnu\\anaconda3\\envs\\learn-env\\lib\\site-packages\\joblib\\_parallel_backends.py\", line 208, in apply_async\n",
      "    result = ImmediateResult(func)\n",
      "  File \"C:\\Users\\nacnu\\anaconda3\\envs\\learn-env\\lib\\site-packages\\joblib\\_parallel_backends.py\", line 572, in __init__\n",
      "    self.results = batch()\n",
      "  File \"C:\\Users\\nacnu\\anaconda3\\envs\\learn-env\\lib\\site-packages\\joblib\\parallel.py\", line 262, in __call__\n",
      "    return [func(*args, **kwargs)\n",
      "  File \"C:\\Users\\nacnu\\anaconda3\\envs\\learn-env\\lib\\site-packages\\joblib\\parallel.py\", line 262, in <listcomp>\n",
      "    return [func(*args, **kwargs)\n",
      "  File \"C:\\Users\\nacnu\\anaconda3\\envs\\learn-env\\lib\\site-packages\\sklearn\\ensemble\\_forest.py\", line 168, in _parallel_build_trees\n",
      "    tree.fit(X, y, sample_weight=curr_sample_weight, check_input=False)\n",
      "  File \"C:\\Users\\nacnu\\anaconda3\\envs\\learn-env\\lib\\site-packages\\sklearn\\tree\\_classes.py\", line 890, in fit\n",
      "    super().fit(\n",
      "  File \"C:\\Users\\nacnu\\anaconda3\\envs\\learn-env\\lib\\site-packages\\sklearn\\tree\\_classes.py\", line 333, in fit\n",
      "    criterion = CRITERIA_CLF[self.criterion](self.n_outputs_,\n",
      "KeyError: 'log_loss'\n",
      "\n",
      "  warnings.warn(\"Estimator fit failed. The score on this train-test\"\n",
      "C:\\Users\\nacnu\\anaconda3\\envs\\learn-env\\lib\\site-packages\\sklearn\\model_selection\\_validation.py:548: FitFailedWarning: Estimator fit failed. The score on this train-test partition for these parameters will be set to nan. Details: \n",
      "Traceback (most recent call last):\n",
      "  File \"C:\\Users\\nacnu\\anaconda3\\envs\\learn-env\\lib\\site-packages\\sklearn\\model_selection\\_validation.py\", line 531, in _fit_and_score\n",
      "    estimator.fit(X_train, y_train, **fit_params)\n",
      "  File \"C:\\Users\\nacnu\\anaconda3\\envs\\learn-env\\lib\\site-packages\\sklearn\\pipeline.py\", line 335, in fit\n",
      "    self._final_estimator.fit(Xt, y, **fit_params_last_step)\n",
      "  File \"C:\\Users\\nacnu\\anaconda3\\envs\\learn-env\\lib\\site-packages\\sklearn\\ensemble\\_forest.py\", line 386, in fit\n",
      "    trees = Parallel(n_jobs=self.n_jobs, verbose=self.verbose,\n",
      "  File \"C:\\Users\\nacnu\\anaconda3\\envs\\learn-env\\lib\\site-packages\\joblib\\parallel.py\", line 1048, in __call__\n",
      "    if self.dispatch_one_batch(iterator):\n",
      "  File \"C:\\Users\\nacnu\\anaconda3\\envs\\learn-env\\lib\\site-packages\\joblib\\parallel.py\", line 866, in dispatch_one_batch\n",
      "    self._dispatch(tasks)\n",
      "  File \"C:\\Users\\nacnu\\anaconda3\\envs\\learn-env\\lib\\site-packages\\joblib\\parallel.py\", line 784, in _dispatch\n",
      "    job = self._backend.apply_async(batch, callback=cb)\n",
      "  File \"C:\\Users\\nacnu\\anaconda3\\envs\\learn-env\\lib\\site-packages\\joblib\\_parallel_backends.py\", line 208, in apply_async\n",
      "    result = ImmediateResult(func)\n",
      "  File \"C:\\Users\\nacnu\\anaconda3\\envs\\learn-env\\lib\\site-packages\\joblib\\_parallel_backends.py\", line 572, in __init__\n",
      "    self.results = batch()\n",
      "  File \"C:\\Users\\nacnu\\anaconda3\\envs\\learn-env\\lib\\site-packages\\joblib\\parallel.py\", line 262, in __call__\n",
      "    return [func(*args, **kwargs)\n",
      "  File \"C:\\Users\\nacnu\\anaconda3\\envs\\learn-env\\lib\\site-packages\\joblib\\parallel.py\", line 262, in <listcomp>\n",
      "    return [func(*args, **kwargs)\n",
      "  File \"C:\\Users\\nacnu\\anaconda3\\envs\\learn-env\\lib\\site-packages\\sklearn\\ensemble\\_forest.py\", line 168, in _parallel_build_trees\n",
      "    tree.fit(X, y, sample_weight=curr_sample_weight, check_input=False)\n",
      "  File \"C:\\Users\\nacnu\\anaconda3\\envs\\learn-env\\lib\\site-packages\\sklearn\\tree\\_classes.py\", line 890, in fit\n",
      "    super().fit(\n",
      "  File \"C:\\Users\\nacnu\\anaconda3\\envs\\learn-env\\lib\\site-packages\\sklearn\\tree\\_classes.py\", line 333, in fit\n",
      "    criterion = CRITERIA_CLF[self.criterion](self.n_outputs_,\n",
      "KeyError: 'log_loss'\n",
      "\n",
      "  warnings.warn(\"Estimator fit failed. The score on this train-test\"\n",
      "C:\\Users\\nacnu\\anaconda3\\envs\\learn-env\\lib\\site-packages\\sklearn\\model_selection\\_validation.py:548: FitFailedWarning: Estimator fit failed. The score on this train-test partition for these parameters will be set to nan. Details: \n",
      "Traceback (most recent call last):\n",
      "  File \"C:\\Users\\nacnu\\anaconda3\\envs\\learn-env\\lib\\site-packages\\sklearn\\model_selection\\_validation.py\", line 531, in _fit_and_score\n",
      "    estimator.fit(X_train, y_train, **fit_params)\n",
      "  File \"C:\\Users\\nacnu\\anaconda3\\envs\\learn-env\\lib\\site-packages\\sklearn\\pipeline.py\", line 335, in fit\n",
      "    self._final_estimator.fit(Xt, y, **fit_params_last_step)\n",
      "  File \"C:\\Users\\nacnu\\anaconda3\\envs\\learn-env\\lib\\site-packages\\sklearn\\ensemble\\_forest.py\", line 386, in fit\n",
      "    trees = Parallel(n_jobs=self.n_jobs, verbose=self.verbose,\n",
      "  File \"C:\\Users\\nacnu\\anaconda3\\envs\\learn-env\\lib\\site-packages\\joblib\\parallel.py\", line 1048, in __call__\n",
      "    if self.dispatch_one_batch(iterator):\n",
      "  File \"C:\\Users\\nacnu\\anaconda3\\envs\\learn-env\\lib\\site-packages\\joblib\\parallel.py\", line 866, in dispatch_one_batch\n",
      "    self._dispatch(tasks)\n",
      "  File \"C:\\Users\\nacnu\\anaconda3\\envs\\learn-env\\lib\\site-packages\\joblib\\parallel.py\", line 784, in _dispatch\n",
      "    job = self._backend.apply_async(batch, callback=cb)\n",
      "  File \"C:\\Users\\nacnu\\anaconda3\\envs\\learn-env\\lib\\site-packages\\joblib\\_parallel_backends.py\", line 208, in apply_async\n",
      "    result = ImmediateResult(func)\n",
      "  File \"C:\\Users\\nacnu\\anaconda3\\envs\\learn-env\\lib\\site-packages\\joblib\\_parallel_backends.py\", line 572, in __init__\n",
      "    self.results = batch()\n",
      "  File \"C:\\Users\\nacnu\\anaconda3\\envs\\learn-env\\lib\\site-packages\\joblib\\parallel.py\", line 262, in __call__\n",
      "    return [func(*args, **kwargs)\n",
      "  File \"C:\\Users\\nacnu\\anaconda3\\envs\\learn-env\\lib\\site-packages\\joblib\\parallel.py\", line 262, in <listcomp>\n",
      "    return [func(*args, **kwargs)\n",
      "  File \"C:\\Users\\nacnu\\anaconda3\\envs\\learn-env\\lib\\site-packages\\sklearn\\ensemble\\_forest.py\", line 168, in _parallel_build_trees\n",
      "    tree.fit(X, y, sample_weight=curr_sample_weight, check_input=False)\n",
      "  File \"C:\\Users\\nacnu\\anaconda3\\envs\\learn-env\\lib\\site-packages\\sklearn\\tree\\_classes.py\", line 890, in fit\n",
      "    super().fit(\n",
      "  File \"C:\\Users\\nacnu\\anaconda3\\envs\\learn-env\\lib\\site-packages\\sklearn\\tree\\_classes.py\", line 333, in fit\n",
      "    criterion = CRITERIA_CLF[self.criterion](self.n_outputs_,\n",
      "KeyError: 'log_loss'\n",
      "\n",
      "  warnings.warn(\"Estimator fit failed. The score on this train-test\"\n",
      "C:\\Users\\nacnu\\anaconda3\\envs\\learn-env\\lib\\site-packages\\sklearn\\model_selection\\_validation.py:548: FitFailedWarning: Estimator fit failed. The score on this train-test partition for these parameters will be set to nan. Details: \n",
      "Traceback (most recent call last):\n",
      "  File \"C:\\Users\\nacnu\\anaconda3\\envs\\learn-env\\lib\\site-packages\\sklearn\\model_selection\\_validation.py\", line 531, in _fit_and_score\n",
      "    estimator.fit(X_train, y_train, **fit_params)\n",
      "  File \"C:\\Users\\nacnu\\anaconda3\\envs\\learn-env\\lib\\site-packages\\sklearn\\pipeline.py\", line 335, in fit\n",
      "    self._final_estimator.fit(Xt, y, **fit_params_last_step)\n",
      "  File \"C:\\Users\\nacnu\\anaconda3\\envs\\learn-env\\lib\\site-packages\\sklearn\\ensemble\\_forest.py\", line 386, in fit\n",
      "    trees = Parallel(n_jobs=self.n_jobs, verbose=self.verbose,\n",
      "  File \"C:\\Users\\nacnu\\anaconda3\\envs\\learn-env\\lib\\site-packages\\joblib\\parallel.py\", line 1048, in __call__\n",
      "    if self.dispatch_one_batch(iterator):\n",
      "  File \"C:\\Users\\nacnu\\anaconda3\\envs\\learn-env\\lib\\site-packages\\joblib\\parallel.py\", line 866, in dispatch_one_batch\n",
      "    self._dispatch(tasks)\n",
      "  File \"C:\\Users\\nacnu\\anaconda3\\envs\\learn-env\\lib\\site-packages\\joblib\\parallel.py\", line 784, in _dispatch\n",
      "    job = self._backend.apply_async(batch, callback=cb)\n",
      "  File \"C:\\Users\\nacnu\\anaconda3\\envs\\learn-env\\lib\\site-packages\\joblib\\_parallel_backends.py\", line 208, in apply_async\n",
      "    result = ImmediateResult(func)\n",
      "  File \"C:\\Users\\nacnu\\anaconda3\\envs\\learn-env\\lib\\site-packages\\joblib\\_parallel_backends.py\", line 572, in __init__\n",
      "    self.results = batch()\n",
      "  File \"C:\\Users\\nacnu\\anaconda3\\envs\\learn-env\\lib\\site-packages\\joblib\\parallel.py\", line 262, in __call__\n",
      "    return [func(*args, **kwargs)\n",
      "  File \"C:\\Users\\nacnu\\anaconda3\\envs\\learn-env\\lib\\site-packages\\joblib\\parallel.py\", line 262, in <listcomp>\n",
      "    return [func(*args, **kwargs)\n",
      "  File \"C:\\Users\\nacnu\\anaconda3\\envs\\learn-env\\lib\\site-packages\\sklearn\\ensemble\\_forest.py\", line 168, in _parallel_build_trees\n",
      "    tree.fit(X, y, sample_weight=curr_sample_weight, check_input=False)\n",
      "  File \"C:\\Users\\nacnu\\anaconda3\\envs\\learn-env\\lib\\site-packages\\sklearn\\tree\\_classes.py\", line 890, in fit\n",
      "    super().fit(\n",
      "  File \"C:\\Users\\nacnu\\anaconda3\\envs\\learn-env\\lib\\site-packages\\sklearn\\tree\\_classes.py\", line 333, in fit\n",
      "    criterion = CRITERIA_CLF[self.criterion](self.n_outputs_,\n",
      "KeyError: 'log_loss'\n",
      "\n",
      "  warnings.warn(\"Estimator fit failed. The score on this train-test\"\n"
     ]
    },
    {
     "name": "stderr",
     "output_type": "stream",
     "text": [
      "C:\\Users\\nacnu\\anaconda3\\envs\\learn-env\\lib\\site-packages\\sklearn\\model_selection\\_validation.py:548: FitFailedWarning: Estimator fit failed. The score on this train-test partition for these parameters will be set to nan. Details: \n",
      "Traceback (most recent call last):\n",
      "  File \"C:\\Users\\nacnu\\anaconda3\\envs\\learn-env\\lib\\site-packages\\sklearn\\model_selection\\_validation.py\", line 531, in _fit_and_score\n",
      "    estimator.fit(X_train, y_train, **fit_params)\n",
      "  File \"C:\\Users\\nacnu\\anaconda3\\envs\\learn-env\\lib\\site-packages\\sklearn\\pipeline.py\", line 335, in fit\n",
      "    self._final_estimator.fit(Xt, y, **fit_params_last_step)\n",
      "  File \"C:\\Users\\nacnu\\anaconda3\\envs\\learn-env\\lib\\site-packages\\sklearn\\ensemble\\_forest.py\", line 386, in fit\n",
      "    trees = Parallel(n_jobs=self.n_jobs, verbose=self.verbose,\n",
      "  File \"C:\\Users\\nacnu\\anaconda3\\envs\\learn-env\\lib\\site-packages\\joblib\\parallel.py\", line 1048, in __call__\n",
      "    if self.dispatch_one_batch(iterator):\n",
      "  File \"C:\\Users\\nacnu\\anaconda3\\envs\\learn-env\\lib\\site-packages\\joblib\\parallel.py\", line 866, in dispatch_one_batch\n",
      "    self._dispatch(tasks)\n",
      "  File \"C:\\Users\\nacnu\\anaconda3\\envs\\learn-env\\lib\\site-packages\\joblib\\parallel.py\", line 784, in _dispatch\n",
      "    job = self._backend.apply_async(batch, callback=cb)\n",
      "  File \"C:\\Users\\nacnu\\anaconda3\\envs\\learn-env\\lib\\site-packages\\joblib\\_parallel_backends.py\", line 208, in apply_async\n",
      "    result = ImmediateResult(func)\n",
      "  File \"C:\\Users\\nacnu\\anaconda3\\envs\\learn-env\\lib\\site-packages\\joblib\\_parallel_backends.py\", line 572, in __init__\n",
      "    self.results = batch()\n",
      "  File \"C:\\Users\\nacnu\\anaconda3\\envs\\learn-env\\lib\\site-packages\\joblib\\parallel.py\", line 262, in __call__\n",
      "    return [func(*args, **kwargs)\n",
      "  File \"C:\\Users\\nacnu\\anaconda3\\envs\\learn-env\\lib\\site-packages\\joblib\\parallel.py\", line 262, in <listcomp>\n",
      "    return [func(*args, **kwargs)\n",
      "  File \"C:\\Users\\nacnu\\anaconda3\\envs\\learn-env\\lib\\site-packages\\sklearn\\ensemble\\_forest.py\", line 168, in _parallel_build_trees\n",
      "    tree.fit(X, y, sample_weight=curr_sample_weight, check_input=False)\n",
      "  File \"C:\\Users\\nacnu\\anaconda3\\envs\\learn-env\\lib\\site-packages\\sklearn\\tree\\_classes.py\", line 890, in fit\n",
      "    super().fit(\n",
      "  File \"C:\\Users\\nacnu\\anaconda3\\envs\\learn-env\\lib\\site-packages\\sklearn\\tree\\_classes.py\", line 333, in fit\n",
      "    criterion = CRITERIA_CLF[self.criterion](self.n_outputs_,\n",
      "KeyError: 'log_loss'\n",
      "\n",
      "  warnings.warn(\"Estimator fit failed. The score on this train-test\"\n",
      "C:\\Users\\nacnu\\anaconda3\\envs\\learn-env\\lib\\site-packages\\sklearn\\model_selection\\_validation.py:548: FitFailedWarning: Estimator fit failed. The score on this train-test partition for these parameters will be set to nan. Details: \n",
      "Traceback (most recent call last):\n",
      "  File \"C:\\Users\\nacnu\\anaconda3\\envs\\learn-env\\lib\\site-packages\\sklearn\\model_selection\\_validation.py\", line 531, in _fit_and_score\n",
      "    estimator.fit(X_train, y_train, **fit_params)\n",
      "  File \"C:\\Users\\nacnu\\anaconda3\\envs\\learn-env\\lib\\site-packages\\sklearn\\pipeline.py\", line 335, in fit\n",
      "    self._final_estimator.fit(Xt, y, **fit_params_last_step)\n",
      "  File \"C:\\Users\\nacnu\\anaconda3\\envs\\learn-env\\lib\\site-packages\\sklearn\\ensemble\\_forest.py\", line 386, in fit\n",
      "    trees = Parallel(n_jobs=self.n_jobs, verbose=self.verbose,\n",
      "  File \"C:\\Users\\nacnu\\anaconda3\\envs\\learn-env\\lib\\site-packages\\joblib\\parallel.py\", line 1048, in __call__\n",
      "    if self.dispatch_one_batch(iterator):\n",
      "  File \"C:\\Users\\nacnu\\anaconda3\\envs\\learn-env\\lib\\site-packages\\joblib\\parallel.py\", line 866, in dispatch_one_batch\n",
      "    self._dispatch(tasks)\n",
      "  File \"C:\\Users\\nacnu\\anaconda3\\envs\\learn-env\\lib\\site-packages\\joblib\\parallel.py\", line 784, in _dispatch\n",
      "    job = self._backend.apply_async(batch, callback=cb)\n",
      "  File \"C:\\Users\\nacnu\\anaconda3\\envs\\learn-env\\lib\\site-packages\\joblib\\_parallel_backends.py\", line 208, in apply_async\n",
      "    result = ImmediateResult(func)\n",
      "  File \"C:\\Users\\nacnu\\anaconda3\\envs\\learn-env\\lib\\site-packages\\joblib\\_parallel_backends.py\", line 572, in __init__\n",
      "    self.results = batch()\n",
      "  File \"C:\\Users\\nacnu\\anaconda3\\envs\\learn-env\\lib\\site-packages\\joblib\\parallel.py\", line 262, in __call__\n",
      "    return [func(*args, **kwargs)\n",
      "  File \"C:\\Users\\nacnu\\anaconda3\\envs\\learn-env\\lib\\site-packages\\joblib\\parallel.py\", line 262, in <listcomp>\n",
      "    return [func(*args, **kwargs)\n",
      "  File \"C:\\Users\\nacnu\\anaconda3\\envs\\learn-env\\lib\\site-packages\\sklearn\\ensemble\\_forest.py\", line 168, in _parallel_build_trees\n",
      "    tree.fit(X, y, sample_weight=curr_sample_weight, check_input=False)\n",
      "  File \"C:\\Users\\nacnu\\anaconda3\\envs\\learn-env\\lib\\site-packages\\sklearn\\tree\\_classes.py\", line 890, in fit\n",
      "    super().fit(\n",
      "  File \"C:\\Users\\nacnu\\anaconda3\\envs\\learn-env\\lib\\site-packages\\sklearn\\tree\\_classes.py\", line 333, in fit\n",
      "    criterion = CRITERIA_CLF[self.criterion](self.n_outputs_,\n",
      "KeyError: 'log_loss'\n",
      "\n",
      "  warnings.warn(\"Estimator fit failed. The score on this train-test\"\n",
      "C:\\Users\\nacnu\\anaconda3\\envs\\learn-env\\lib\\site-packages\\sklearn\\model_selection\\_validation.py:548: FitFailedWarning: Estimator fit failed. The score on this train-test partition for these parameters will be set to nan. Details: \n",
      "Traceback (most recent call last):\n",
      "  File \"C:\\Users\\nacnu\\anaconda3\\envs\\learn-env\\lib\\site-packages\\sklearn\\model_selection\\_validation.py\", line 531, in _fit_and_score\n",
      "    estimator.fit(X_train, y_train, **fit_params)\n",
      "  File \"C:\\Users\\nacnu\\anaconda3\\envs\\learn-env\\lib\\site-packages\\sklearn\\pipeline.py\", line 335, in fit\n",
      "    self._final_estimator.fit(Xt, y, **fit_params_last_step)\n",
      "  File \"C:\\Users\\nacnu\\anaconda3\\envs\\learn-env\\lib\\site-packages\\sklearn\\ensemble\\_forest.py\", line 386, in fit\n",
      "    trees = Parallel(n_jobs=self.n_jobs, verbose=self.verbose,\n",
      "  File \"C:\\Users\\nacnu\\anaconda3\\envs\\learn-env\\lib\\site-packages\\joblib\\parallel.py\", line 1048, in __call__\n",
      "    if self.dispatch_one_batch(iterator):\n",
      "  File \"C:\\Users\\nacnu\\anaconda3\\envs\\learn-env\\lib\\site-packages\\joblib\\parallel.py\", line 866, in dispatch_one_batch\n",
      "    self._dispatch(tasks)\n",
      "  File \"C:\\Users\\nacnu\\anaconda3\\envs\\learn-env\\lib\\site-packages\\joblib\\parallel.py\", line 784, in _dispatch\n",
      "    job = self._backend.apply_async(batch, callback=cb)\n",
      "  File \"C:\\Users\\nacnu\\anaconda3\\envs\\learn-env\\lib\\site-packages\\joblib\\_parallel_backends.py\", line 208, in apply_async\n",
      "    result = ImmediateResult(func)\n",
      "  File \"C:\\Users\\nacnu\\anaconda3\\envs\\learn-env\\lib\\site-packages\\joblib\\_parallel_backends.py\", line 572, in __init__\n",
      "    self.results = batch()\n",
      "  File \"C:\\Users\\nacnu\\anaconda3\\envs\\learn-env\\lib\\site-packages\\joblib\\parallel.py\", line 262, in __call__\n",
      "    return [func(*args, **kwargs)\n",
      "  File \"C:\\Users\\nacnu\\anaconda3\\envs\\learn-env\\lib\\site-packages\\joblib\\parallel.py\", line 262, in <listcomp>\n",
      "    return [func(*args, **kwargs)\n",
      "  File \"C:\\Users\\nacnu\\anaconda3\\envs\\learn-env\\lib\\site-packages\\sklearn\\ensemble\\_forest.py\", line 168, in _parallel_build_trees\n",
      "    tree.fit(X, y, sample_weight=curr_sample_weight, check_input=False)\n",
      "  File \"C:\\Users\\nacnu\\anaconda3\\envs\\learn-env\\lib\\site-packages\\sklearn\\tree\\_classes.py\", line 890, in fit\n",
      "    super().fit(\n",
      "  File \"C:\\Users\\nacnu\\anaconda3\\envs\\learn-env\\lib\\site-packages\\sklearn\\tree\\_classes.py\", line 333, in fit\n",
      "    criterion = CRITERIA_CLF[self.criterion](self.n_outputs_,\n",
      "KeyError: 'log_loss'\n",
      "\n",
      "  warnings.warn(\"Estimator fit failed. The score on this train-test\"\n",
      "C:\\Users\\nacnu\\anaconda3\\envs\\learn-env\\lib\\site-packages\\sklearn\\model_selection\\_validation.py:548: FitFailedWarning: Estimator fit failed. The score on this train-test partition for these parameters will be set to nan. Details: \n",
      "Traceback (most recent call last):\n",
      "  File \"C:\\Users\\nacnu\\anaconda3\\envs\\learn-env\\lib\\site-packages\\sklearn\\model_selection\\_validation.py\", line 531, in _fit_and_score\n",
      "    estimator.fit(X_train, y_train, **fit_params)\n",
      "  File \"C:\\Users\\nacnu\\anaconda3\\envs\\learn-env\\lib\\site-packages\\sklearn\\pipeline.py\", line 335, in fit\n",
      "    self._final_estimator.fit(Xt, y, **fit_params_last_step)\n",
      "  File \"C:\\Users\\nacnu\\anaconda3\\envs\\learn-env\\lib\\site-packages\\sklearn\\ensemble\\_forest.py\", line 386, in fit\n",
      "    trees = Parallel(n_jobs=self.n_jobs, verbose=self.verbose,\n",
      "  File \"C:\\Users\\nacnu\\anaconda3\\envs\\learn-env\\lib\\site-packages\\joblib\\parallel.py\", line 1048, in __call__\n",
      "    if self.dispatch_one_batch(iterator):\n",
      "  File \"C:\\Users\\nacnu\\anaconda3\\envs\\learn-env\\lib\\site-packages\\joblib\\parallel.py\", line 866, in dispatch_one_batch\n",
      "    self._dispatch(tasks)\n",
      "  File \"C:\\Users\\nacnu\\anaconda3\\envs\\learn-env\\lib\\site-packages\\joblib\\parallel.py\", line 784, in _dispatch\n",
      "    job = self._backend.apply_async(batch, callback=cb)\n",
      "  File \"C:\\Users\\nacnu\\anaconda3\\envs\\learn-env\\lib\\site-packages\\joblib\\_parallel_backends.py\", line 208, in apply_async\n",
      "    result = ImmediateResult(func)\n",
      "  File \"C:\\Users\\nacnu\\anaconda3\\envs\\learn-env\\lib\\site-packages\\joblib\\_parallel_backends.py\", line 572, in __init__\n",
      "    self.results = batch()\n",
      "  File \"C:\\Users\\nacnu\\anaconda3\\envs\\learn-env\\lib\\site-packages\\joblib\\parallel.py\", line 262, in __call__\n",
      "    return [func(*args, **kwargs)\n",
      "  File \"C:\\Users\\nacnu\\anaconda3\\envs\\learn-env\\lib\\site-packages\\joblib\\parallel.py\", line 262, in <listcomp>\n",
      "    return [func(*args, **kwargs)\n",
      "  File \"C:\\Users\\nacnu\\anaconda3\\envs\\learn-env\\lib\\site-packages\\sklearn\\ensemble\\_forest.py\", line 168, in _parallel_build_trees\n",
      "    tree.fit(X, y, sample_weight=curr_sample_weight, check_input=False)\n",
      "  File \"C:\\Users\\nacnu\\anaconda3\\envs\\learn-env\\lib\\site-packages\\sklearn\\tree\\_classes.py\", line 890, in fit\n",
      "    super().fit(\n",
      "  File \"C:\\Users\\nacnu\\anaconda3\\envs\\learn-env\\lib\\site-packages\\sklearn\\tree\\_classes.py\", line 333, in fit\n",
      "    criterion = CRITERIA_CLF[self.criterion](self.n_outputs_,\n",
      "KeyError: 'log_loss'\n",
      "\n",
      "  warnings.warn(\"Estimator fit failed. The score on this train-test\"\n",
      "[Parallel(n_jobs=1)]: Done  60 out of  60 | elapsed:  2.4min finished\n"
     ]
    }
   ],
   "source": [
    "rf_params = {\n",
    "    'rf__criterion':[\"gini\", \"entropy\", 'log_loss'],\n",
    "    'rf__max_depth':[4, 16, 32, None]\n",
    "}\n",
    "rf_gs = GridSearchCV(estimator=rf_model, param_grid=rf_params, cv=5, verbose=1)\n",
    "rf_gs.fit(X_train, y_train);"
   ]
  },
  {
   "cell_type": "code",
   "execution_count": 95,
   "metadata": {
    "ExecuteTime": {
     "end_time": "2023-01-05T22:11:27.614795Z",
     "start_time": "2023-01-05T22:11:27.611784Z"
    }
   },
   "outputs": [
    {
     "data": {
      "text/plain": [
       "{'rf__criterion': 'entropy', 'rf__max_depth': 32}"
      ]
     },
     "execution_count": 95,
     "metadata": {},
     "output_type": "execute_result"
    }
   ],
   "source": [
    "rf_gs.best_params_"
   ]
  },
  {
   "cell_type": "code",
   "execution_count": 96,
   "metadata": {
    "ExecuteTime": {
     "end_time": "2023-01-05T22:11:27.618799Z",
     "start_time": "2023-01-05T22:11:27.614795Z"
    }
   },
   "outputs": [
    {
     "data": {
      "text/plain": [
       "0.8185185185185185"
      ]
     },
     "execution_count": 96,
     "metadata": {},
     "output_type": "execute_result"
    }
   ],
   "source": [
    "rf_gs.best_score_"
   ]
  },
  {
   "cell_type": "code",
   "execution_count": 97,
   "metadata": {
    "ExecuteTime": {
     "end_time": "2023-01-05T22:11:27.837702Z",
     "start_time": "2023-01-05T22:11:27.618799Z"
    }
   },
   "outputs": [
    {
     "data": {
      "text/plain": [
       "0.8205387205387206"
      ]
     },
     "execution_count": 97,
     "metadata": {},
     "output_type": "execute_result"
    }
   ],
   "source": [
    "rf_gs.best_estimator_.score(X_test,y_test)"
   ]
  },
  {
   "cell_type": "markdown",
   "metadata": {},
   "source": [
    "### Second Iteration of GridSearch"
   ]
  },
  {
   "cell_type": "markdown",
   "metadata": {},
   "source": [
    "After completing one GridSearch, I have decided to stick with the criterion: `entropy`. The best max depth is 32 which could be far off from the `None` category. I will adjust the max depth closer to 32 to see how it compares. I will also look to adjust `max_features` to attempt to tune the forest further.\n",
    "\n",
    "Results of GridSearch indicate:\n",
    "\n",
    "   - `criterion` is `entropy`\n",
    "   - `max_depth` is 32\n",
    "   - `max_features` is `log2`\n",
    "   \n",
    "   \n",
    "I will use these features moving forward."
   ]
  },
  {
   "cell_type": "code",
   "execution_count": 98,
   "metadata": {
    "ExecuteTime": {
     "end_time": "2023-01-05T22:22:43.841616Z",
     "start_time": "2023-01-05T22:11:27.837702Z"
    }
   },
   "outputs": [
    {
     "name": "stdout",
     "output_type": "stream",
     "text": [
      "Fitting 5 folds for each of 12 candidates, totalling 60 fits\n"
     ]
    },
    {
     "name": "stderr",
     "output_type": "stream",
     "text": [
      "[Parallel(n_jobs=1)]: Using backend SequentialBackend with 1 concurrent workers.\n",
      "[Parallel(n_jobs=1)]: Done  60 out of  60 | elapsed: 11.2min finished\n"
     ]
    }
   ],
   "source": [
    "rf_params2 = {\n",
    "    'rf__criterion':[\"entropy\"],\n",
    "    'rf__max_depth':[31, 32, 33],\n",
    "    'rf__max_features': ['auto', 'log2', None, .5]\n",
    "}\n",
    "rf_gs2 = GridSearchCV(estimator=rf_model, param_grid=rf_params2, cv=5, verbose=1)\n",
    "rf_gs2.fit(X_train, y_train);"
   ]
  },
  {
   "cell_type": "code",
   "execution_count": 99,
   "metadata": {
    "ExecuteTime": {
     "end_time": "2023-01-05T22:22:43.845083Z",
     "start_time": "2023-01-05T22:22:43.842613Z"
    }
   },
   "outputs": [
    {
     "data": {
      "text/plain": [
       "{'rf__criterion': 'entropy', 'rf__max_depth': 32, 'rf__max_features': 'log2'}"
      ]
     },
     "execution_count": 99,
     "metadata": {},
     "output_type": "execute_result"
    }
   ],
   "source": [
    "rf_gs2.best_params_"
   ]
  },
  {
   "cell_type": "code",
   "execution_count": 100,
   "metadata": {
    "ExecuteTime": {
     "end_time": "2023-01-05T22:22:43.849094Z",
     "start_time": "2023-01-05T22:22:43.845083Z"
    }
   },
   "outputs": [
    {
     "data": {
      "text/plain": [
       "0.8200000000000001"
      ]
     },
     "execution_count": 100,
     "metadata": {},
     "output_type": "execute_result"
    }
   ],
   "source": [
    "rf_gs2.best_score_"
   ]
  },
  {
   "cell_type": "code",
   "execution_count": 101,
   "metadata": {
    "ExecuteTime": {
     "end_time": "2023-01-05T22:22:44.077985Z",
     "start_time": "2023-01-05T22:22:43.849094Z"
    }
   },
   "outputs": [
    {
     "data": {
      "text/plain": [
       "0.819057239057239"
      ]
     },
     "execution_count": 101,
     "metadata": {},
     "output_type": "execute_result"
    }
   ],
   "source": [
    "rf_gs2.best_estimator_.score(X_test,y_test)"
   ]
  },
  {
   "cell_type": "markdown",
   "metadata": {},
   "source": [
    "### Random Forest Final Model"
   ]
  },
  {
   "cell_type": "markdown",
   "metadata": {},
   "source": [
    "The Final Random Forest Model does not change much from the baseline decision tree model. The main area of improvement is the ROC-AUC score being raised from 89.6% to 89.9%.\n",
    "\n",
    "The model is still overfit on the training data as well. Given more time, this could use additional tweaking."
   ]
  },
  {
   "cell_type": "code",
   "execution_count": 102,
   "metadata": {
    "ExecuteTime": {
     "end_time": "2023-01-05T22:22:44.080974Z",
     "start_time": "2023-01-05T22:22:44.077985Z"
    }
   },
   "outputs": [],
   "source": [
    "rf_model_final = Pipeline([\n",
    "    ('ColTrans', ColTrans),\n",
    "    ('rf', RandomForestClassifier(criterion='entropy', max_depth=32, \n",
    "                                  max_features='log2', random_state=42))\n",
    "])"
   ]
  },
  {
   "cell_type": "code",
   "execution_count": 103,
   "metadata": {
    "ExecuteTime": {
     "end_time": "2023-01-05T22:22:48.642059Z",
     "start_time": "2023-01-05T22:22:44.080974Z"
    }
   },
   "outputs": [],
   "source": [
    "start1 = perf_counter()\n",
    "rf_model_final.fit(X_train, y_train);\n",
    "end1 = perf_counter()"
   ]
  },
  {
   "cell_type": "code",
   "execution_count": 104,
   "metadata": {
    "ExecuteTime": {
     "end_time": "2023-01-05T22:22:48.645028Z",
     "start_time": "2023-01-05T22:22:48.642059Z"
    }
   },
   "outputs": [],
   "source": [
    "rf_pipe_final = ModelRuns(rf_model_final, 'rf', X_train, y_train)"
   ]
  },
  {
   "cell_type": "code",
   "execution_count": 105,
   "metadata": {
    "ExecuteTime": {
     "end_time": "2023-01-05T22:22:51.399824Z",
     "start_time": "2023-01-05T22:22:48.646145Z"
    }
   },
   "outputs": [
    {
     "name": "stdout",
     "output_type": "stream",
     "text": [
      "Train Report: \n",
      "              precision    recall  f1-score   support\n",
      "\n",
      "           0       0.99      1.00      0.99     24161\n",
      "           1       1.00      0.98      0.99     20389\n",
      "\n",
      "    accuracy                           0.99     44550\n",
      "   macro avg       0.99      0.99      0.99     44550\n",
      "weighted avg       0.99      0.99      0.99     44550\n",
      "\n",
      "ROC-AUC Score:0.9989631522846855\n",
      "\n",
      "Test Report: \n",
      "              precision    recall  f1-score   support\n",
      "\n",
      "           0       0.82      0.86      0.84      8098\n",
      "           1       0.82      0.77      0.79      6752\n",
      "\n",
      "    accuracy                           0.82     14850\n",
      "   macro avg       0.82      0.81      0.82     14850\n",
      "weighted avg       0.82      0.82      0.82     14850\n",
      "\n",
      "ROC-AUC Score:0.8993109365837215\n"
     ]
    },
    {
     "data": {
      "image/png": "[encoded data removed]",
      "text/plain": [
       "<Figure size 432x288 with 2 Axes>"
      ]
     },
     "metadata": {
      "needs_background": "light"
     },
     "output_type": "display_data"
    },
    {
     "data": {
      "image/png": "[encoded data removed]",
      "text/plain": [
       "<Figure size 432x288 with 2 Axes>"
      ]
     },
     "metadata": {
      "needs_background": "light"
     },
     "output_type": "display_data"
    }
   ],
   "source": [
    "start2 = perf_counter()\n",
    "rf_pipe_final.run_all(X_train_run=X_train, X_test_run=X_test, y_train_run=y_train, y_test_run=y_test, train_results=True);\n",
    "end2 = perf_counter()"
   ]
  },
  {
   "cell_type": "code",
   "execution_count": 106,
   "metadata": {
    "ExecuteTime": {
     "end_time": "2023-01-05T22:22:51.402277Z",
     "start_time": "2023-01-05T22:22:51.399824Z"
    }
   },
   "outputs": [],
   "source": [
    "rf_time = (end1-start1 + end2 - start2)"
   ]
  },
  {
   "cell_type": "code",
   "execution_count": 107,
   "metadata": {
    "ExecuteTime": {
     "end_time": "2023-01-05T22:22:51.851418Z",
     "start_time": "2023-01-05T22:22:51.402782Z"
    }
   },
   "outputs": [],
   "source": [
    "custom.record_results('Random Forest', rf_model_final, time_dic, rf_time, acc_dic, roc_auc_dic, X_test, y_test)"
   ]
  },
  {
   "cell_type": "markdown",
   "metadata": {},
   "source": [
    "## C-Support Vector Classification (SVC) (DONE)"
   ]
  },
  {
   "cell_type": "markdown",
   "metadata": {},
   "source": [
    "This model takes a long time to run (over 20 minutes) and gives relatively similar results when compared to other models. For the train data, the accuracy is 80% and ROC-AUC score is 88%. For the test data, the accuracy is 79% and ROC-AUC score is 86%. \n",
    "\n",
    "The accuracy and ROC-AUC scores line up relatively well between train and test data indicating that there might be a slight overfitting but not significant ooverfitting.\n",
    "\n",
    "Since the model takes so long to run and is relatively well fit, I will not be adjusting any of the hyperparameters of this model."
   ]
  },
  {
   "cell_type": "code",
   "execution_count": 108,
   "metadata": {
    "ExecuteTime": {
     "end_time": "2023-01-05T22:22:51.853540Z",
     "start_time": "2023-01-05T22:22:51.851418Z"
    }
   },
   "outputs": [],
   "source": [
    "SVC_model = Pipeline([\n",
    "    ('ColTrans', ColTrans),\n",
    "    ('SVC', SVC(probability=True, random_state=42))\n",
    "])"
   ]
  },
  {
   "cell_type": "code",
   "execution_count": 109,
   "metadata": {
    "ExecuteTime": {
     "end_time": "2023-01-05T22:40:53.561200Z",
     "start_time": "2023-01-05T22:22:51.853540Z"
    }
   },
   "outputs": [],
   "source": [
    "start1 = perf_counter()\n",
    "SVC_model.fit(X_train, y_train);\n",
    "end1 = perf_counter()"
   ]
  },
  {
   "cell_type": "code",
   "execution_count": 110,
   "metadata": {
    "ExecuteTime": {
     "end_time": "2023-01-05T22:40:53.564551Z",
     "start_time": "2023-01-05T22:40:53.562200Z"
    }
   },
   "outputs": [],
   "source": [
    "SVC_pipe = ModelRuns(SVC_model, 'svc', X_train, y_train)"
   ]
  },
  {
   "cell_type": "code",
   "execution_count": 111,
   "metadata": {
    "ExecuteTime": {
     "end_time": "2023-01-05T22:45:50.255885Z",
     "start_time": "2023-01-05T22:40:53.565056Z"
    }
   },
   "outputs": [
    {
     "name": "stdout",
     "output_type": "stream",
     "text": [
      "Train Report: \n",
      "              precision    recall  f1-score   support\n",
      "\n",
      "           0       0.77      0.91      0.83     24161\n",
      "           1       0.86      0.68      0.76     20389\n",
      "\n",
      "    accuracy                           0.80     44550\n",
      "   macro avg       0.81      0.79      0.80     44550\n",
      "weighted avg       0.81      0.80      0.80     44550\n",
      "\n",
      "ROC-AUC Score:0.8771082051385434\n",
      "\n",
      "Test Report: \n",
      "              precision    recall  f1-score   support\n",
      "\n",
      "           0       0.76      0.89      0.82      8098\n",
      "           1       0.84      0.66      0.74      6752\n",
      "\n",
      "    accuracy                           0.79     14850\n",
      "   macro avg       0.80      0.78      0.78     14850\n",
      "weighted avg       0.79      0.79      0.78     14850\n",
      "\n",
      "ROC-AUC Score:0.8589883798322445\n"
     ]
    },
    {
     "data": {
      "image/png": "[encoded data removed]",
      "text/plain": [
       "<Figure size 432x288 with 2 Axes>"
      ]
     },
     "metadata": {
      "needs_background": "light"
     },
     "output_type": "display_data"
    },
    {
     "data": {
      "image/png": "[encoded data removed]",
      "text/plain": [
       "<Figure size 432x288 with 2 Axes>"
      ]
     },
     "metadata": {
      "needs_background": "light"
     },
     "output_type": "display_data"
    }
   ],
   "source": [
    "start2 = perf_counter()\n",
    "SVC_pipe.run_all(X_train_run=X_train, X_test_run=X_test, y_train_run=y_train, y_test_run=y_test, train_results=True);\n",
    "end2 = perf_counter()"
   ]
  },
  {
   "cell_type": "code",
   "execution_count": 112,
   "metadata": {
    "ExecuteTime": {
     "end_time": "2023-01-05T22:45:50.257892Z",
     "start_time": "2023-01-05T22:45:50.255885Z"
    }
   },
   "outputs": [],
   "source": [
    "svc_time = (end1-start1 + end2 - start2)"
   ]
  },
  {
   "cell_type": "code",
   "execution_count": 113,
   "metadata": {
    "ExecuteTime": {
     "end_time": "2023-01-05T22:46:40.108967Z",
     "start_time": "2023-01-05T22:45:50.258037Z"
    }
   },
   "outputs": [],
   "source": [
    "custom.record_results('SVC', SVC_model, time_dic, svc_time, acc_dic, roc_auc_dic, X_test, y_test)"
   ]
  },
  {
   "cell_type": "markdown",
   "metadata": {},
   "source": [
    "## Nu-Support Vector Classification (NuSVC) (DONE)"
   ]
  },
  {
   "cell_type": "markdown",
   "metadata": {},
   "source": [
    "This model takes a long time to run (over 30 minutes) and gives relatively similar results when compared to other models. For the train data, the accuracy is 80% and ROC-AUC score is 88%. For the test data, the accuracy is 79% and ROC-AUC score is 86%. \n",
    "\n",
    "The accuracy and ROC-AUC scores line up relatively well between train and test data indicating that there might be a slight overfitting but not significant ooverfitting.\n",
    "\n",
    "Since the model takes so long to run and is relatively well fit, I will not be adjusting any of the hyperparameters of this model."
   ]
  },
  {
   "cell_type": "code",
   "execution_count": 114,
   "metadata": {
    "ExecuteTime": {
     "end_time": "2023-01-05T22:46:40.111967Z",
     "start_time": "2023-01-05T22:46:40.108967Z"
    }
   },
   "outputs": [],
   "source": [
    "nu_model = Pipeline([\n",
    "    ('ColTrans', ColTrans),\n",
    "    ('NuSVC', NuSVC(probability=True, random_state=42))\n",
    "])"
   ]
  },
  {
   "cell_type": "code",
   "execution_count": null,
   "metadata": {
    "ExecuteTime": {
     "start_time": "2023-01-05T21:35:50.658Z"
    }
   },
   "outputs": [],
   "source": [
    "start1 = perf_counter()\n",
    "nu_model.fit(X_train, y_train);\n",
    "end1 = perf_counter()"
   ]
  },
  {
   "cell_type": "code",
   "execution_count": null,
   "metadata": {
    "ExecuteTime": {
     "start_time": "2023-01-05T21:35:50.662Z"
    }
   },
   "outputs": [],
   "source": [
    "nu_pipe = ModelRuns(nu_model, 'NuSVC', X_train, y_train)"
   ]
  },
  {
   "cell_type": "code",
   "execution_count": null,
   "metadata": {
    "ExecuteTime": {
     "start_time": "2023-01-05T21:35:50.668Z"
    }
   },
   "outputs": [],
   "source": [
    "start2 = perf_counter()\n",
    "nu_pipe.run_all(X_train_run=X_train, X_test_run=X_test, y_train_run=y_train, y_test_run=y_test, train_results=True);\n",
    "end2 = perf_counter()"
   ]
  },
  {
   "cell_type": "code",
   "execution_count": null,
   "metadata": {
    "ExecuteTime": {
     "start_time": "2023-01-05T21:35:50.670Z"
    }
   },
   "outputs": [],
   "source": [
    "nusvc_time = (end1-start1 + end2 - start2)"
   ]
  },
  {
   "cell_type": "code",
   "execution_count": null,
   "metadata": {
    "ExecuteTime": {
     "start_time": "2023-01-05T21:35:50.673Z"
    }
   },
   "outputs": [],
   "source": [
    "custom.record_results('NuSVC', nu_model, time_dic, nusvc_time, acc_dic, roc_auc_dic, X_test, y_test)"
   ]
  },
  {
   "cell_type": "markdown",
   "metadata": {},
   "source": [
    "## AdaBoost"
   ]
  },
  {
   "cell_type": "markdown",
   "metadata": {},
   "source": [
    "My AdaBoost model has 75% accuracy and an ROC-AUC score of 83% on the training data while the test results have an accuracy of 74% and ROC-AUC score of 82%. The accuracy and ROC-AUC scores line up relatively well between train and test data indicating that there might be a slight overfitting but not significant ooverfitting."
   ]
  },
  {
   "cell_type": "code",
   "execution_count": null,
   "metadata": {
    "ExecuteTime": {
     "start_time": "2023-01-05T21:35:50.677Z"
    }
   },
   "outputs": [],
   "source": [
    "ada_model = Pipeline([\n",
    "    ('ColTrans', ColTrans),\n",
    "    ('ada', AdaBoostClassifier(random_state=42))\n",
    "])"
   ]
  },
  {
   "cell_type": "code",
   "execution_count": null,
   "metadata": {
    "ExecuteTime": {
     "start_time": "2023-01-05T21:35:50.679Z"
    }
   },
   "outputs": [],
   "source": [
    "ada_model.fit(X_train, y_train);"
   ]
  },
  {
   "cell_type": "code",
   "execution_count": null,
   "metadata": {
    "ExecuteTime": {
     "start_time": "2023-01-05T21:35:50.681Z"
    }
   },
   "outputs": [],
   "source": [
    "ada_pipe = ModelRuns(ada_model, 'ada', X_train, y_train)"
   ]
  },
  {
   "cell_type": "code",
   "execution_count": null,
   "metadata": {
    "ExecuteTime": {
     "start_time": "2023-01-05T21:35:50.683Z"
    }
   },
   "outputs": [],
   "source": [
    "ada_pipe.run_all(X_train_run=X_train, X_test_run=X_test, y_train_run=y_train, y_test_run=y_test, train_results=True);"
   ]
  },
  {
   "cell_type": "markdown",
   "metadata": {},
   "source": [
    "### Adaboost GridSearch"
   ]
  },
  {
   "cell_type": "markdown",
   "metadata": {},
   "source": [
    "My AdaBoost model is one of the worst baseline performing models in this analysis, though the level of overfitting is one of the least. I will look to adjust the hyperparameters and tune the model to improve performance."
   ]
  },
  {
   "cell_type": "code",
   "execution_count": null,
   "metadata": {
    "ExecuteTime": {
     "start_time": "2023-01-05T21:35:50.685Z"
    }
   },
   "outputs": [],
   "source": [
    "ada_params = {\n",
    "    'ada__n_estimators':[25, 50, 100],\n",
    "    'ada__learning_rate':[0.5, 1, 2],\n",
    "\n",
    "}\n",
    "ada_gs = GridSearchCV(estimator=ada_model, param_grid=ada_params, cv=5, verbose=1)\n",
    "ada_gs.fit(X_train, y_train);"
   ]
  },
  {
   "cell_type": "code",
   "execution_count": null,
   "metadata": {
    "ExecuteTime": {
     "start_time": "2023-01-05T21:35:50.694Z"
    }
   },
   "outputs": [],
   "source": [
    "ada_gs.best_params_"
   ]
  },
  {
   "cell_type": "code",
   "execution_count": null,
   "metadata": {
    "ExecuteTime": {
     "start_time": "2023-01-05T21:35:50.697Z"
    }
   },
   "outputs": [],
   "source": [
    "ada_gs.best_score_"
   ]
  },
  {
   "cell_type": "code",
   "execution_count": null,
   "metadata": {
    "ExecuteTime": {
     "start_time": "2023-01-05T21:35:50.698Z"
    }
   },
   "outputs": [],
   "source": [
    "ada_gs.best_estimator_.score(X_test,y_test)"
   ]
  },
  {
   "cell_type": "markdown",
   "metadata": {},
   "source": [
    "### Second Iteration of GridSearch"
   ]
  },
  {
   "cell_type": "markdown",
   "metadata": {},
   "source": [
    "A `learning_rate` of 1 is the best for the AdaBoost model and the best `n_estimators` is 100. 100 was at the upper end of my spectrum though and I will continue to increase the values in my next iteration. I will also look to further tune the model by adjusting the `algorithm` hyperparameter.\n",
    "\n",
    "I tried several different times to find the best `n_estimators` using GridSearch. While the model improved as the number increased, the improvement was minimal when the amount of runtime was considered. As such, I have decided to use 200 as the `n_estimators` for this model.\n",
    "\n",
    "Results of the second iteration indicate:\n",
    "   - `n_estimators` is 200\n",
    "   - `learning_rate` is 1\n",
    "   - `algorithm` is `SAMME.R`"
   ]
  },
  {
   "cell_type": "code",
   "execution_count": null,
   "metadata": {
    "ExecuteTime": {
     "start_time": "2023-01-05T21:35:50.700Z"
    }
   },
   "outputs": [],
   "source": [
    "ada_params2 = {\n",
    "    'ada__n_estimators':[100, 150, 200],\n",
    "    'ada__learning_rate':[1],\n",
    "    'ada__algorithm':['SAMME', 'SAMME.R']\n",
    "\n",
    "}\n",
    "ada_gs2 = GridSearchCV(estimator=ada_model, param_grid=ada_params2, cv=5, verbose=1)\n",
    "ada_gs2.fit(X_train, y_train);"
   ]
  },
  {
   "cell_type": "code",
   "execution_count": null,
   "metadata": {
    "ExecuteTime": {
     "start_time": "2023-01-05T21:35:50.701Z"
    }
   },
   "outputs": [],
   "source": [
    "ada_gs2.best_params_"
   ]
  },
  {
   "cell_type": "code",
   "execution_count": null,
   "metadata": {
    "ExecuteTime": {
     "start_time": "2023-01-05T21:35:50.703Z"
    }
   },
   "outputs": [],
   "source": [
    "ada_gs2.best_score_"
   ]
  },
  {
   "cell_type": "code",
   "execution_count": null,
   "metadata": {
    "ExecuteTime": {
     "start_time": "2023-01-05T21:35:50.704Z"
    }
   },
   "outputs": [],
   "source": [
    "ada_gs2.best_estimator_.score(X_test,y_test)"
   ]
  },
  {
   "cell_type": "markdown",
   "metadata": {},
   "source": [
    "### AdaBoost Final Model"
   ]
  },
  {
   "cell_type": "markdown",
   "metadata": {},
   "source": [
    "The Final AdaBoost Model increased performance when compared to the baseline decision tree model with an increase in accuracy from 74% to 76% and ROC-AUC score from 82% to 83% on test data. "
   ]
  },
  {
   "cell_type": "code",
   "execution_count": null,
   "metadata": {
    "ExecuteTime": {
     "start_time": "2023-01-05T21:35:50.706Z"
    }
   },
   "outputs": [],
   "source": [
    "ada_model_final = Pipeline([\n",
    "    ('ColTrans', ColTrans),\n",
    "    ('ada', AdaBoostClassifier(n_estimators=200, learning_rate=1, \n",
    "                               algorithm='SAMME.R', random_state=42))\n",
    "])"
   ]
  },
  {
   "cell_type": "code",
   "execution_count": null,
   "metadata": {
    "ExecuteTime": {
     "start_time": "2023-01-05T21:35:50.707Z"
    }
   },
   "outputs": [],
   "source": [
    "start1 = perf_counter()\n",
    "ada_model_final.fit(X_train, y_train);\n",
    "end1 = perf_counter()"
   ]
  },
  {
   "cell_type": "code",
   "execution_count": null,
   "metadata": {
    "ExecuteTime": {
     "start_time": "2023-01-05T21:35:50.708Z"
    }
   },
   "outputs": [],
   "source": [
    "ada_pipe_final = ModelRuns(ada_model_final, 'ada', X_train, y_train)"
   ]
  },
  {
   "cell_type": "code",
   "execution_count": null,
   "metadata": {
    "ExecuteTime": {
     "start_time": "2023-01-05T21:35:50.712Z"
    }
   },
   "outputs": [],
   "source": [
    "start2 = perf_counter()\n",
    "ada_pipe_final.run_all(X_train_run=X_train, X_test_run=X_test, y_train_run=y_train, y_test_run=y_test, train_results=True);\n",
    "end2 = perf_counter()"
   ]
  },
  {
   "cell_type": "code",
   "execution_count": null,
   "metadata": {
    "ExecuteTime": {
     "start_time": "2023-01-05T21:35:50.714Z"
    }
   },
   "outputs": [],
   "source": [
    "ada_time = (end1-start1 + end2 - start2)"
   ]
  },
  {
   "cell_type": "code",
   "execution_count": null,
   "metadata": {
    "ExecuteTime": {
     "start_time": "2023-01-05T21:35:50.715Z"
    }
   },
   "outputs": [],
   "source": [
    "custom.record_results('AdaBoost', ada_model_final, time_dic, ada_time, acc_dic, roc_auc_dic, X_test, y_test)"
   ]
  },
  {
   "cell_type": "markdown",
   "metadata": {},
   "source": [
    "## XGBoost"
   ]
  },
  {
   "cell_type": "markdown",
   "metadata": {},
   "source": [
    "My XGBoost model has 85% accuracy and an ROC-AUC score of 93% on the training data while the test results have an accuracy of 81% and ROC-AUC score of 89%. The accuracy and ROC-AUC scores line up relatively well between train and test data indicating that there might be a slight overfitting but not significant ooverfitting."
   ]
  },
  {
   "cell_type": "code",
   "execution_count": null,
   "metadata": {
    "ExecuteTime": {
     "start_time": "2023-01-05T21:35:50.717Z"
    }
   },
   "outputs": [],
   "source": [
    "xgb_model = Pipeline([\n",
    "    ('ColTrans', ColTrans),\n",
    "    ('xgb', xgboost.XGBClassifier(random_state=42))\n",
    "])"
   ]
  },
  {
   "cell_type": "code",
   "execution_count": null,
   "metadata": {
    "ExecuteTime": {
     "start_time": "2023-01-05T21:35:50.718Z"
    }
   },
   "outputs": [],
   "source": [
    "xgb_model.fit(X_train, y_train);"
   ]
  },
  {
   "cell_type": "code",
   "execution_count": null,
   "metadata": {
    "ExecuteTime": {
     "start_time": "2023-01-05T21:35:50.719Z"
    }
   },
   "outputs": [],
   "source": [
    "xgb_pipe = ModelRuns(xgb_model, 'xgb', X_train, y_train)"
   ]
  },
  {
   "cell_type": "code",
   "execution_count": null,
   "metadata": {
    "ExecuteTime": {
     "start_time": "2023-01-05T21:35:50.720Z"
    }
   },
   "outputs": [],
   "source": [
    "xgb_pipe.run_all(X_train_run=X_train, X_test_run=X_test, y_train_run=y_train, y_test_run=y_test, train_results=True);"
   ]
  },
  {
   "cell_type": "markdown",
   "metadata": {},
   "source": [
    "### XGBoost Gridsearch"
   ]
  },
  {
   "cell_type": "markdown",
   "metadata": {},
   "source": [
    "XGBoost is one of the best models I have so far. I will look to further tune it by checking `max_depth` and `booster` on the first iteration of GridSearch."
   ]
  },
  {
   "cell_type": "code",
   "execution_count": null,
   "metadata": {
    "ExecuteTime": {
     "start_time": "2023-01-05T21:35:50.722Z"
    }
   },
   "outputs": [],
   "source": [
    "xgb_params = {\n",
    "    'xgb__max_depth':[10, 20, 30],\n",
    "    'xgb__booster':['gbtree', 'gblinear', 'dart']\n",
    "}\n",
    "xgb_gs = GridSearchCV(estimator=xgb_model, param_grid=xgb_params, cv=5, verbose=1)\n",
    "xgb_gs.fit(X_train, y_train);"
   ]
  },
  {
   "cell_type": "code",
   "execution_count": null,
   "metadata": {
    "ExecuteTime": {
     "start_time": "2023-01-05T21:35:50.723Z"
    }
   },
   "outputs": [],
   "source": [
    "xgb_gs.best_params_"
   ]
  },
  {
   "cell_type": "code",
   "execution_count": null,
   "metadata": {
    "ExecuteTime": {
     "start_time": "2023-01-05T21:35:50.725Z"
    }
   },
   "outputs": [],
   "source": [
    "xgb_gs.best_score_"
   ]
  },
  {
   "cell_type": "code",
   "execution_count": null,
   "metadata": {
    "ExecuteTime": {
     "start_time": "2023-01-05T21:35:50.726Z"
    }
   },
   "outputs": [],
   "source": [
    "xgb_gs.best_estimator_.score(X_test,y_test)"
   ]
  },
  {
   "cell_type": "markdown",
   "metadata": {},
   "source": [
    "### Second Iteration of GridSearch"
   ]
  },
  {
   "cell_type": "markdown",
   "metadata": {},
   "source": [
    "The XGBoost `booster` `gbtree` is best for this model and the best `max_depth` is 10. 10 was at the lower end of my spectrum though and I will continue to decrease the values in my next iteration. I will also look to further tune the model by adjusting the `objective` hyperparameter.\n",
    "\n",
    "Results of the second iteration indicate:\n",
    "   - `booster` is `gbtree`\n",
    "   - `max_depth` is 10\n",
    "   - `objective` is `binary:logistic`"
   ]
  },
  {
   "cell_type": "code",
   "execution_count": null,
   "metadata": {
    "ExecuteTime": {
     "start_time": "2023-01-05T21:35:50.728Z"
    }
   },
   "outputs": [],
   "source": [
    "xgb_params2 = {\n",
    "    'xgb__max_depth':[3, 6, 10],\n",
    "    'xgb__booster':['gbtree'],\n",
    "    'xgb__objective':['binary:logistic', 'binary:logitraw', 'binary:hinge']\n",
    "}\n",
    "xgb_gs2 = GridSearchCV(estimator=xgb_model, param_grid=xgb_params2, cv=5, verbose=1)\n",
    "xgb_gs2.fit(X_train, y_train);"
   ]
  },
  {
   "cell_type": "code",
   "execution_count": null,
   "metadata": {
    "ExecuteTime": {
     "start_time": "2023-01-05T21:35:50.729Z"
    }
   },
   "outputs": [],
   "source": [
    "xgb_gs2.best_params_"
   ]
  },
  {
   "cell_type": "code",
   "execution_count": null,
   "metadata": {
    "ExecuteTime": {
     "start_time": "2023-01-05T21:35:50.730Z"
    }
   },
   "outputs": [],
   "source": [
    "xgb_gs2.best_score_"
   ]
  },
  {
   "cell_type": "code",
   "execution_count": null,
   "metadata": {
    "ExecuteTime": {
     "start_time": "2023-01-05T21:35:50.732Z"
    }
   },
   "outputs": [],
   "source": [
    "xgb_gs2.best_estimator_.score(X_test,y_test)"
   ]
  },
  {
   "cell_type": "markdown",
   "metadata": {},
   "source": [
    "### XGBoost Final Model"
   ]
  },
  {
   "cell_type": "markdown",
   "metadata": {},
   "source": [
    "The Final XGBoost Model increased performance when compared to the baseline decision tree model with an increase in accuracy from 81% to 82% and ROC-AUC score from 89% to 90% on test data. "
   ]
  },
  {
   "cell_type": "code",
   "execution_count": null,
   "metadata": {
    "ExecuteTime": {
     "start_time": "2023-01-05T21:35:50.733Z"
    }
   },
   "outputs": [],
   "source": [
    "xgb_model_final = Pipeline([\n",
    "    ('ColTrans', ColTrans),\n",
    "    ('xgb', xgboost.XGBClassifier(booster='gbtree', max_depth=10,\n",
    "                                  objective='binary:logistic', random_state=42))\n",
    "])"
   ]
  },
  {
   "cell_type": "code",
   "execution_count": null,
   "metadata": {
    "ExecuteTime": {
     "start_time": "2023-01-05T21:35:50.735Z"
    }
   },
   "outputs": [],
   "source": [
    "start1 = perf_counter()\n",
    "xgb_model_final.fit(X_train, y_train);\n",
    "end1 = perf_counter()"
   ]
  },
  {
   "cell_type": "code",
   "execution_count": null,
   "metadata": {
    "ExecuteTime": {
     "start_time": "2023-01-05T21:35:50.736Z"
    }
   },
   "outputs": [],
   "source": [
    "xgb_pipe_final = ModelRuns(xgb_model_final, 'xgb', X_train, y_train)"
   ]
  },
  {
   "cell_type": "code",
   "execution_count": null,
   "metadata": {
    "ExecuteTime": {
     "start_time": "2023-01-05T21:35:50.737Z"
    }
   },
   "outputs": [],
   "source": [
    "start2 = perf_counter()\n",
    "xgb_pipe_final.run_all(X_train_run=X_train, X_test_run=X_test, y_train_run=y_train, y_test_run=y_test, train_results=True);\n",
    "end2 = perf_counter()"
   ]
  },
  {
   "cell_type": "code",
   "execution_count": null,
   "metadata": {
    "ExecuteTime": {
     "start_time": "2023-01-05T21:35:50.738Z"
    }
   },
   "outputs": [],
   "source": [
    "xgb_time = (end1-start1 + end2 - start2)"
   ]
  },
  {
   "cell_type": "code",
   "execution_count": null,
   "metadata": {
    "ExecuteTime": {
     "start_time": "2023-01-05T21:35:50.740Z"
    }
   },
   "outputs": [],
   "source": [
    "custom.record_results('XGBoost', xgb_model_final, time_dic, xgb_time, acc_dic, roc_auc_dic, X_test, y_test)"
   ]
  },
  {
   "cell_type": "markdown",
   "metadata": {},
   "source": [
    "## XGBoost Random Forest"
   ]
  },
  {
   "cell_type": "markdown",
   "metadata": {},
   "source": [
    "My XGBoost Random Forest model has 73% accuracy and an ROC-AUC score of 81% on the training data while the test results have an accuracy of 73% and ROC-AUC score of 81%. The accuracy and ROC-AUC scores line up very well between train and test data indicating that there is no overfitting."
   ]
  },
  {
   "cell_type": "code",
   "execution_count": null,
   "metadata": {
    "ExecuteTime": {
     "start_time": "2023-01-05T21:35:50.742Z"
    }
   },
   "outputs": [],
   "source": [
    "xgbrf_model = Pipeline([\n",
    "    ('ColTrans', ColTrans),\n",
    "    ('xgbrf', xgboost.XGBRFClassifier(random_state=42))\n",
    "])"
   ]
  },
  {
   "cell_type": "code",
   "execution_count": null,
   "metadata": {
    "ExecuteTime": {
     "start_time": "2023-01-05T21:35:50.743Z"
    }
   },
   "outputs": [],
   "source": [
    "xgbrf_model.fit(X_train, y_train);"
   ]
  },
  {
   "cell_type": "code",
   "execution_count": null,
   "metadata": {
    "ExecuteTime": {
     "start_time": "2023-01-05T21:35:50.744Z"
    }
   },
   "outputs": [],
   "source": [
    "xgbrf_pipe = ModelRuns(xgbrf_model, 'xgbrf', X_train, y_train)"
   ]
  },
  {
   "cell_type": "code",
   "execution_count": null,
   "metadata": {
    "ExecuteTime": {
     "start_time": "2023-01-05T21:35:50.745Z"
    }
   },
   "outputs": [],
   "source": [
    "xgbrf_pipe.run_all(X_train_run=X_train, X_test_run=X_test, y_train_run=y_train, y_test_run=y_test, train_results=True);"
   ]
  },
  {
   "cell_type": "markdown",
   "metadata": {},
   "source": [
    "### XGBoost Random Forest GridSearch"
   ]
  },
  {
   "cell_type": "markdown",
   "metadata": {},
   "source": [
    "XGBoost Random Forest is performing poorly although the level of fitting between train and test data is where I want it to be. I will look to further tune it by checking `n_estimators` on the first iteration of GridSearch."
   ]
  },
  {
   "cell_type": "code",
   "execution_count": null,
   "metadata": {
    "ExecuteTime": {
     "start_time": "2023-01-05T21:35:50.747Z"
    }
   },
   "outputs": [],
   "source": [
    "xgbrf_params = {\n",
    "    'xgbrf__n_estimators':[10, 20, 30, 40]\n",
    "}\n",
    "xgbrf_gs = GridSearchCV(estimator=xgbrf_model, param_grid=xgbrf_params, cv=5, verbose=1)\n",
    "xgbrf_gs.fit(X_train, y_train);"
   ]
  },
  {
   "cell_type": "code",
   "execution_count": null,
   "metadata": {
    "ExecuteTime": {
     "start_time": "2023-01-05T21:35:50.748Z"
    }
   },
   "outputs": [],
   "source": [
    "xgbrf_gs.best_params_"
   ]
  },
  {
   "cell_type": "code",
   "execution_count": null,
   "metadata": {
    "ExecuteTime": {
     "start_time": "2023-01-05T21:35:50.750Z"
    }
   },
   "outputs": [],
   "source": [
    "xgbrf_gs.best_score_"
   ]
  },
  {
   "cell_type": "code",
   "execution_count": null,
   "metadata": {
    "ExecuteTime": {
     "start_time": "2023-01-05T21:35:50.751Z"
    }
   },
   "outputs": [],
   "source": [
    "xgbrf_gs.best_estimator_.score(X_test,y_test)"
   ]
  },
  {
   "cell_type": "markdown",
   "metadata": {},
   "source": [
    "### Second Iteration of GridSearch"
   ]
  },
  {
   "cell_type": "markdown",
   "metadata": {},
   "source": [
    "The best `n_estimators` for this model is 10. 10 was at the lower end of my spectrum though and I will continue to decrease the values in my next iteration. I will also look to further tune the model by adjusting the `subsample` hyperparameter.\n",
    "\n",
    "Results of the second iteration indicate:\n",
    "   - `n_estimators` is 9\n",
    "   - `subsample` is .8"
   ]
  },
  {
   "cell_type": "code",
   "execution_count": null,
   "metadata": {
    "ExecuteTime": {
     "start_time": "2023-01-05T21:35:50.753Z"
    }
   },
   "outputs": [],
   "source": [
    "xgbrf_params2 = {\n",
    "    'xgbrf__n_estimators':[6, 7, 8, 9, 10],\n",
    "    'xgbrf__subsample':[.5, .8]\n",
    "}\n",
    "xgbrf_gs2= GridSearchCV(estimator=xgbrf_model, param_grid=xgbrf_params2, cv=5, verbose=1)\n",
    "xgbrf_gs2.fit(X_train, y_train);"
   ]
  },
  {
   "cell_type": "code",
   "execution_count": null,
   "metadata": {
    "ExecuteTime": {
     "start_time": "2023-01-05T21:35:50.754Z"
    }
   },
   "outputs": [],
   "source": [
    "xgbrf_gs2.best_params_"
   ]
  },
  {
   "cell_type": "code",
   "execution_count": null,
   "metadata": {
    "ExecuteTime": {
     "start_time": "2023-01-05T21:35:50.755Z"
    }
   },
   "outputs": [],
   "source": [
    "xgbrf_gs2.best_score_"
   ]
  },
  {
   "cell_type": "code",
   "execution_count": null,
   "metadata": {
    "ExecuteTime": {
     "start_time": "2023-01-05T21:35:50.757Z"
    }
   },
   "outputs": [],
   "source": [
    "xgbrf_gs2.best_estimator_.score(X_test,y_test)"
   ]
  },
  {
   "cell_type": "markdown",
   "metadata": {},
   "source": [
    "### XGBoost Random Forest Attempted Final Model"
   ]
  },
  {
   "cell_type": "markdown",
   "metadata": {},
   "source": [
    "These results actually reduce the performance of the model when compared to the standard, baseline model. As such, I will revert back to the untuned XGBoost Random Forest Model for my final model."
   ]
  },
  {
   "cell_type": "code",
   "execution_count": null,
   "metadata": {
    "ExecuteTime": {
     "start_time": "2023-01-05T21:35:50.758Z"
    }
   },
   "outputs": [],
   "source": [
    "xgbrf_model_final = Pipeline([\n",
    "    ('ColTrans', ColTrans),\n",
    "    ('xgbrf', xgboost.XGBRFClassifier(n_estimators=9, subsample=.8, random_state=42))\n",
    "])"
   ]
  },
  {
   "cell_type": "code",
   "execution_count": null,
   "metadata": {
    "ExecuteTime": {
     "start_time": "2023-01-05T21:35:50.760Z"
    }
   },
   "outputs": [],
   "source": [
    "start1 = perf_counter()\n",
    "xgbrf_model_final.fit(X_train, y_train);\n",
    "end1 = perf_counter()"
   ]
  },
  {
   "cell_type": "code",
   "execution_count": null,
   "metadata": {
    "ExecuteTime": {
     "start_time": "2023-01-05T21:35:50.761Z"
    }
   },
   "outputs": [],
   "source": [
    "xgbrf_pipe_final = ModelRuns(xgbrf_model_final, 'xgbrf', X_train, y_train)"
   ]
  },
  {
   "cell_type": "code",
   "execution_count": null,
   "metadata": {
    "ExecuteTime": {
     "start_time": "2023-01-05T21:35:50.762Z"
    }
   },
   "outputs": [],
   "source": [
    "start2 = perf_counter()\n",
    "xgbrf_pipe_final.run_all(X_train_run=X_train, X_test_run=X_test, y_train_run=y_train, y_test_run=y_test, train_results=True);\n",
    "end2 = perf_counter()"
   ]
  },
  {
   "cell_type": "markdown",
   "metadata": {},
   "source": [
    "### XGBoost Random Forest Final Model"
   ]
  },
  {
   "cell_type": "code",
   "execution_count": null,
   "metadata": {
    "ExecuteTime": {
     "start_time": "2023-01-05T21:35:50.764Z"
    }
   },
   "outputs": [],
   "source": [
    "xgbrf_model_final = Pipeline([\n",
    "    ('ColTrans', ColTrans),\n",
    "    ('xgbrf', xgboost.XGBRFClassifier(random_state=42))\n",
    "])"
   ]
  },
  {
   "cell_type": "code",
   "execution_count": null,
   "metadata": {
    "ExecuteTime": {
     "start_time": "2023-01-05T21:35:50.765Z"
    }
   },
   "outputs": [],
   "source": [
    "start1 = perf_counter()\n",
    "xgbrf_model_final.fit(X_train, y_train);\n",
    "end1 = perf_counter()"
   ]
  },
  {
   "cell_type": "code",
   "execution_count": null,
   "metadata": {
    "ExecuteTime": {
     "start_time": "2023-01-05T21:35:50.766Z"
    }
   },
   "outputs": [],
   "source": [
    "xgbrf_pipe_final = ModelRuns(xgbrf_model_final, 'xgbrf', X_train, y_train)"
   ]
  },
  {
   "cell_type": "code",
   "execution_count": null,
   "metadata": {
    "ExecuteTime": {
     "start_time": "2023-01-05T21:35:50.768Z"
    }
   },
   "outputs": [],
   "source": [
    "start2 = perf_counter()\n",
    "xgbrf_pipe_final.run_all(X_train_run=X_train, X_test_run=X_test, y_train_run=y_train, y_test_run=y_test, train_results=True);\n",
    "end2 = perf_counter()"
   ]
  },
  {
   "cell_type": "code",
   "execution_count": null,
   "metadata": {
    "ExecuteTime": {
     "start_time": "2023-01-05T21:35:50.769Z"
    }
   },
   "outputs": [],
   "source": [
    "xgbrf_time = (end1-start1 + end2 - start2)"
   ]
  },
  {
   "cell_type": "code",
   "execution_count": null,
   "metadata": {
    "ExecuteTime": {
     "start_time": "2023-01-05T21:35:50.770Z"
    }
   },
   "outputs": [],
   "source": [
    "custom.record_results('XGB Random Forest', xgbrf_model_final, time_dic, xgbrf_time, acc_dic, roc_auc_dic, X_test, y_test)"
   ]
  },
  {
   "cell_type": "markdown",
   "metadata": {},
   "source": [
    "## Stacking Classifier - Final Model"
   ]
  },
  {
   "cell_type": "markdown",
   "metadata": {},
   "source": [
    "I have created a stacking classifier using the best models that were previously defined. I have decided to exclude XGBoost Random Forest due to the poor results, SVC and NuSVC due to their runtime length, and Decision Trees due to the vast overfitting. \n",
    "\n",
    "I also used the baseline model for K-Nearest Neighbors because the final model was very overfit. Stacking Classifier benefits from worse performing models but is hindered by models that are overfit."
   ]
  },
  {
   "cell_type": "code",
   "execution_count": null,
   "metadata": {
    "ExecuteTime": {
     "start_time": "2023-01-05T21:35:50.772Z"
    }
   },
   "outputs": [],
   "source": [
    "estimators = [\n",
    "    ('lr', LogisticRegression(random_state=42, solver='liblinear')), \n",
    "    ('knn', KNeighborsClassifier()),\n",
    "    ('rfc', RandomForestClassifier(criterion='entropy', max_depth=32, \n",
    "                                  max_features='log2', random_state=42)),\n",
    "    ('ada', AdaBoostClassifier(n_estimators=200, learning_rate=1, \n",
    "                               algorithm='SAMME.R', random_state=42)),\n",
    "    ('xgb', xgboost.XGBClassifier(booster='gbtree', max_depth=10,\n",
    "                                  objective='binary:logistic', random_state=42)),\n",
    "]"
   ]
  },
  {
   "cell_type": "code",
   "execution_count": null,
   "metadata": {
    "ExecuteTime": {
     "start_time": "2023-01-05T21:35:50.773Z"
    }
   },
   "outputs": [],
   "source": [
    "stack_model = Pipeline([\n",
    "    ('ColTrans', ColTrans),\n",
    "    ('stack', StackingClassifier(estimators))\n",
    "])"
   ]
  },
  {
   "cell_type": "code",
   "execution_count": null,
   "metadata": {
    "ExecuteTime": {
     "start_time": "2023-01-05T21:35:50.775Z"
    }
   },
   "outputs": [],
   "source": [
    "start1 = perf_counter()\n",
    "stack_model.fit(X_train, y_train);\n",
    "end1 = perf_counter()"
   ]
  },
  {
   "cell_type": "code",
   "execution_count": null,
   "metadata": {
    "ExecuteTime": {
     "start_time": "2023-01-05T21:35:50.776Z"
    }
   },
   "outputs": [],
   "source": [
    "stack_pipe = ModelRuns(stack_model, 'stack', X_train, y_train)"
   ]
  },
  {
   "cell_type": "code",
   "execution_count": null,
   "metadata": {
    "ExecuteTime": {
     "start_time": "2023-01-05T21:35:50.777Z"
    }
   },
   "outputs": [],
   "source": [
    "start2 = perf_counter()\n",
    "stack_pipe.run_all(X_train_run=X_train, X_test_run=X_test, y_train_run=y_train, y_test_run=y_test, train_results=True);\n",
    "end2 = perf_counter()"
   ]
  },
  {
   "cell_type": "code",
   "execution_count": null,
   "metadata": {
    "ExecuteTime": {
     "start_time": "2023-01-05T21:35:50.779Z"
    }
   },
   "outputs": [],
   "source": [
    "stack_time = (end1-start1 + end2 - start2)"
   ]
  },
  {
   "cell_type": "code",
   "execution_count": null,
   "metadata": {
    "ExecuteTime": {
     "start_time": "2023-01-05T21:35:50.780Z"
    }
   },
   "outputs": [],
   "source": [
    "custom.record_results('Stacking Classifier', stack_model, time_dic, stack_time, acc_dic, roc_auc_dic, X_test, y_test)"
   ]
  },
  {
   "cell_type": "markdown",
   "metadata": {},
   "source": [
    "# Results"
   ]
  },
  {
   "cell_type": "markdown",
   "metadata": {},
   "source": [
    "This analysis has run dozens of models to predict Tanzanian Water Wells in need of repair. Several factors were taken into consideration in choosing a final model:\n",
    "\n",
    "- Fit Time\n",
    "    - How long does the model take to fit the data?\n",
    "- Accuracy\n",
    "    - How accurate is the model?\n",
    "- ROC-AUC score\n",
    "    - How does the model perform when looking at true positive rates and true negative rates?"
   ]
  },
  {
   "cell_type": "markdown",
   "metadata": {},
   "source": [
    "## Creating Results Table"
   ]
  },
  {
   "cell_type": "code",
   "execution_count": null,
   "metadata": {
    "ExecuteTime": {
     "start_time": "2023-01-05T21:35:50.782Z"
    }
   },
   "outputs": [],
   "source": [
    "results_df = pd.DataFrame(acc_dic.values(), columns=['Accuracy'], index=acc_dic.keys())\n",
    "results_df['ROC-AUC'] = roc_auc_dic.values()\n",
    "results_df['Time (secs)'] = time_dic.values()"
   ]
  },
  {
   "cell_type": "code",
   "execution_count": null,
   "metadata": {
    "ExecuteTime": {
     "start_time": "2023-01-05T21:35:50.783Z"
    }
   },
   "outputs": [],
   "source": [
    "results_df"
   ]
  },
  {
   "cell_type": "code",
   "execution_count": null,
   "metadata": {
    "ExecuteTime": {
     "start_time": "2023-01-05T21:35:50.785Z"
    },
    "scrolled": false
   },
   "outputs": [],
   "source": [
    "fig, ax = plt.subplots(figsize=(12,10))\n",
    "\n",
    "sns.scatterplot(y=results_df['Accuracy'], x=results_df['Time (secs)'], \n",
    "                hue=results_df.index, s=250, alpha=.9)\n",
    "\n",
    "ax.set_title('Model Accuracy vs. Time', size=25, pad = 10)\n",
    "ax.set_xlabel('Time (secs)', size=15)\n",
    "ax.set_ylabel('Accuracy', size=15);\n",
    "# plt.savefig(fname='accuracy.jpg', dpi='figure')"
   ]
  },
  {
   "cell_type": "code",
   "execution_count": null,
   "metadata": {
    "ExecuteTime": {
     "start_time": "2023-01-05T21:35:50.786Z"
    }
   },
   "outputs": [],
   "source": [
    "fig, ax = plt.subplots(figsize=(12,10))\n",
    "\n",
    "sns.scatterplot(y=results_df['ROC-AUC'], x=results_df['Time (secs)'], \n",
    "                hue=results_df.index, s=200)\n",
    "\n",
    "ax.set_title('Model ROC-AUC vs. Time', size=25, pad=10)\n",
    "ax.set_xlabel('Time (secs)', size=15)\n",
    "ax.set_ylabel('ROC-AUC', size=15);\n",
    "# plt.savefig(fname='roc.jpg', dpi='figure')"
   ]
  },
  {
   "cell_type": "markdown",
   "metadata": {},
   "source": [
    "## Interpretation/ Recommendations"
   ]
  },
  {
   "cell_type": "markdown",
   "metadata": {},
   "source": [
    "The results table lets us clearly visualize the performance of the models run in this analysis. Overall, the Stacking Classifier has the best results with an accuracy of 82.5% and an ROC-AUC score of 90.3% on the test set. That being said, it took roughly 55 times longer to fit than the Random Forest Final Model.\n",
    "\n",
    "When looking at time to fit in addition to pure performance metrics, the Stacking Classifier took a little over 6 minutes to fit. It is recommended to use the Stacking Classifier for future predictions of wells needing repair in Tanzania. "
   ]
  },
  {
   "cell_type": "markdown",
   "metadata": {},
   "source": [
    "## Next Steps"
   ]
  },
  {
   "cell_type": "markdown",
   "metadata": {},
   "source": [
    "Next steps would be to implement the model and to continue to fine tune it as new data is made available. As new data is introduced, the model can continue to learn and grow to make better predictions.\n",
    "\n",
    "Expectations include some level setting as well. The model is not 100% perfect and there will be some inaccurate predictions but the goal here is to supplement current identification methods and to improve on the current levels of detection for wells needing repair. \n",
    "\n",
    "Utilizing this model would greatly improve the detection rate of wells needing repair, leading to a reduction to the cost of well maintenance and a reduction in the manpower needed for inspections.\n",
    "\n",
    "In addition to cutting costs and reducing manpower needs, the citizens of Tanzania would greatly benefit by having increased access to clean drinking water. \n",
    "\n",
    "\n",
    "\n"
   ]
  },
  {
   "cell_type": "markdown",
   "metadata": {},
   "source": [
    "### Additional Considerations"
   ]
  },
  {
   "cell_type": "markdown",
   "metadata": {},
   "source": [
    "- If given more time and resources, I could look to further reduce overfitting in several of the models. This would enhance the performance of the individual models and the Stacking Classifier model. \n",
    "\n",
    "\n",
    "- Both the SVC and NuSVC models have fairly good performance but take too long to run. I would like to be able to hypertune them to see if I can reduce run time.\n",
    "\n",
    "\n",
    "- I would like to spend more time cleaning the data, with so many datapoints and limited time, I feel like the initial data analysis could be expanded before moving on to modeling. "
   ]
  },
  {
   "cell_type": "code",
   "execution_count": null,
   "metadata": {},
   "outputs": [],
   "source": []
  }
 ],
 "metadata": {
  "kernelspec": {
   "display_name": "Python (learn-env)",
   "language": "python",
   "name": "learn-env"
  },
  "language_info": {
   "codemirror_mode": {
    "name": "ipython",
    "version": 3
   },
   "file_extension": ".py",
   "mimetype": "text/x-python",
   "name": "python",
   "nbconvert_exporter": "python",
   "pygments_lexer": "ipython3",
   "version": "3.8.5"
  },
  "toc": {
   "base_numbering": 1,
   "nav_menu": {},
   "number_sections": true,
   "sideBar": true,
   "skip_h1_title": false,
   "title_cell": "Table of Contents",
   "title_sidebar": "Contents",
   "toc_cell": false,
   "toc_position": {},
   "toc_section_display": true,
   "toc_window_display": false
  },
  "varInspector": {
   "cols": {
    "lenName": 16,
    "lenType": 16,
    "lenVar": 40
   },
   "kernels_config": {
    "python": {
     "delete_cmd_postfix": "",
     "delete_cmd_prefix": "del ",
     "library": "var_list.py",
     "varRefreshCmd": "print(var_dic_list())"
    },
    "r": {
     "delete_cmd_postfix": ") ",
     "delete_cmd_prefix": "rm(",
     "library": "var_list.r",
     "varRefreshCmd": "cat(var_dic_list()) "
    }
   },
   "position": {
    "height": "379.844px",
    "left": "1637px",
    "right": "20px",
    "top": "120px",
    "width": "263px"
   },
   "types_to_exclude": [
    "module",
    "function",
    "builtin_function_or_method",
    "instance",
    "_Feature"
   ],
   "window_display": false
  }
 },
 "nbformat": 4,
 "nbformat_minor": 4
}
