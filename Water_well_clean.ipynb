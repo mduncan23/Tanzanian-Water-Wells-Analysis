{
 "cells": [
  {
   "cell_type": "markdown",
   "metadata": {},
   "source": [
    "# Tanzanian Water Wells"
   ]
  },
  {
   "cell_type": "markdown",
   "metadata": {},
   "source": [
    "## Overview"
   ]
  },
  {
   "cell_type": "markdown",
   "metadata": {},
   "source": [
    "Tanzania struggles with providing clean water to the people of its country. The goal of this analysis is to use data from existing wells throughout the country to identify the wells in need of repair. "
   ]
  },
  {
   "cell_type": "markdown",
   "metadata": {},
   "source": [
    "This analysis is focused on assisting the Tanzanian Government reduce resources spent to identify water wells that are in need of repair to ensure that clean water is available to its citizens. "
   ]
  },
  {
   "cell_type": "markdown",
   "metadata": {},
   "source": [
    "**Important Note:** Due to the runtime of some models in this notebook, the code has been commented out. I have included screenshots of the model results in each section with code that has been commented out but have kept the code to better show the steps taken to reach my end results.\n",
    "\n",
    "If you are looking to run the entire notebook, including the models that require intense processing and time commitments, please head down to the 'Modeling' section and uncomment the code first."
   ]
  },
  {
   "cell_type": "markdown",
   "metadata": {},
   "source": [
    "Since I will be running multiple models throughout the analysis, I have created a helper class to streamline the process. More information on this function can be found in the `modelruns.py` file included in the repository. This file is needed to successfully run the notebook."
   ]
  },
  {
   "cell_type": "markdown",
   "metadata": {},
   "source": [
    "# Import Libraries and Data "
   ]
  },
  {
   "cell_type": "code",
   "execution_count": 1,
   "metadata": {
    "ExecuteTime": {
     "end_time": "2023-01-04T17:57:54.929867Z",
     "start_time": "2023-01-04T17:57:54.072864Z"
    }
   },
   "outputs": [],
   "source": [
    "import numpy as np\n",
    "import pandas as pd\n",
    "import matplotlib.pyplot as plt\n",
    "import seaborn as sns\n",
    "\n",
    "from sklearn.base import BaseEstimator, TransformerMixin\n",
    "\n",
    "from sklearn.preprocessing import StandardScaler, OneHotEncoder, \\\n",
    "FunctionTransformer, normalize, PolynomialFeatures, LabelEncoder\n",
    "\n",
    "from sklearn.linear_model import LinearRegression, LogisticRegression, \\\n",
    "Ridge, Lasso, ElasticNet, LassoCV, RidgeCV, ElasticNetCV\n",
    "\n",
    "from sklearn.model_selection import train_test_split, cross_validate,\\\n",
    "KFold, cross_val_score, ShuffleSplit, RandomizedSearchCV, GridSearchCV\n",
    "\n",
    "from sklearn.metrics import mean_squared_error, make_scorer, log_loss, \\\n",
    "confusion_matrix, plot_confusion_matrix, precision_score, recall_score, \\\n",
    "accuracy_score, f1_score, roc_curve, roc_auc_score, classification_report, auc, plot_roc_curve\n",
    "\n",
    "from sklearn.dummy import DummyRegressor, DummyClassifier\n",
    "\n",
    "from sklearn.utils import resample\n",
    "\n",
    "from sklearn.impute import MissingIndicator, SimpleImputer\n",
    "\n",
    "from sklearn.feature_selection import SelectFromModel\n",
    "\n",
    "from sklearn.tree import DecisionTreeClassifier, DecisionTreeRegressor, plot_tree\n",
    "\n",
    "from sklearn import tree\n",
    "\n",
    "from sklearn.neighbors import KNeighborsClassifier, NearestNeighbors\n",
    "\n",
    "from scipy import stats\n",
    "from sklearn.naive_bayes import MultinomialNB, GaussianNB\n",
    "\n",
    "from sklearn.pipeline import Pipeline\n",
    "\n",
    "from sklearn.compose import ColumnTransformer,  make_column_selector as selector\n",
    "\n",
    "from sklearn.ensemble import BaggingClassifier, RandomForestClassifier\n",
    "\n",
    "from sklearn.ensemble import BaggingClassifier, RandomForestClassifier, \\\n",
    "ExtraTreesClassifier, VotingClassifier, StackingRegressor, StackingClassifier\n",
    "\n",
    "from sklearn.ensemble import AdaBoostClassifier, GradientBoostingClassifier\n",
    "\n",
    "from sklearn.svm import SVC, NuSVC\n",
    "\n",
    "from sklearn.cluster import KMeans\n",
    "\n",
    "import xgboost\n",
    "\n",
    "from imblearn.over_sampling import SMOTE\n",
    "from imblearn.under_sampling import RandomUnderSampler\n",
    "from imblearn.pipeline import Pipeline as ImPipeline\n",
    "\n",
    "from modelruns import ModelRuns\n",
    "\n",
    "%matplotlib inline\n"
   ]
  },
  {
   "cell_type": "markdown",
   "metadata": {},
   "source": [
    "The data was provided by DrivenData.org in partnership with Taarifa who aggregated the data from the Tanzanian Ministry of Water."
   ]
  },
  {
   "cell_type": "code",
   "execution_count": 2,
   "metadata": {
    "ExecuteTime": {
     "end_time": "2023-01-04T17:57:55.808833Z",
     "start_time": "2023-01-04T17:57:55.648838Z"
    }
   },
   "outputs": [],
   "source": [
    "X_data_df = pd.read_csv('data/x_data.csv')\n",
    "y_data_df = pd.read_csv('data/target_data.csv')"
   ]
  },
  {
   "cell_type": "markdown",
   "metadata": {},
   "source": [
    "# Data Understanding and Preparation"
   ]
  },
  {
   "cell_type": "markdown",
   "metadata": {},
   "source": [
    "To better understand the data, I have reviewed the features and separated them into numerical and categorical feature types:\n",
    "\n",
    "**Numerical:**\n",
    "- `id` - Unique identifier\n",
    "- `amount_tsh` - Total static head (amount water available to waterpoint)\n",
    "- `gps_height` - Altitude of the well\n",
    "- `longitude` - GPS coordinate\n",
    "- `latitude` - GPS coordinate\n",
    "- `num_private` - Number private\n",
    "- `population` - Population around the well\n",
    "- `construction_year` - Year the waterpoint was constructed\n",
    "\n",
    "**Categorical:**\n",
    "- `installer` - Organization that installed the well\n",
    "- `wpt_name` - Name of the waterpoint if there is one\n",
    "- `basin` - Geographic water basin\n",
    "- `subvillage` - Geographic location\n",
    "- `lga` - Geographic location\n",
    "- `ward` - Geographic location\n",
    "- `public_meeting` - True/False\n",
    "- `scheme_management` - Who operates the waterpoint\n",
    "- `permit` - If the waterpoint is permitted\n",
    "- `extraction_type` - The kind of extraction the waterpoint uses\n",
    "- `extraction_type_group` - The kind of extraction the waterpoint uses\n",
    "- `extraction_type_class` - The kind of extraction the waterpoint uses\n",
    "- `management` - How the waterpoint is managed\n",
    "- `management_group` - How the waterpoint is managed\n",
    "- `payment` - What the water costs\n",
    "- `payment_type` - What the water costs\n",
    "- `water_quality` - The quality of the water\n",
    "- `quality_group` - The quality of the water\n",
    "- `quantity` - The quantity of water\n",
    "- `quantity_group` - The quantity of water\n",
    "- `source` - The source of the water\n",
    "- `source_type` - The source of the water\n",
    "- `source_class` - The source of the water\n",
    "- `waterpoint_type` - The kind of waterpoint\n",
    "- `waterpoint_type_group` - The kind of waterpoint\n",
    "- `region_code` - Geographic location (coded)\n",
    "- `district_code` - Geographic location (coded)\n",
    "- `scheme_name` - Who operates the waterpoint \n",
    "- `date_recorded` - The date the row was entered\n",
    "- `funder` - Who funded the well\n",
    "- `region` - Geographic location\n",
    "- `recorded_by` - Group entering this row of data\n",
    "- `target` - The current status of the waterpoint"
   ]
  },
  {
   "cell_type": "markdown",
   "metadata": {},
   "source": [
    "The dataset used for this analysis has 40 features (including the target feature), and 59,400 rows of data. The target feature is separated into three classifications:\n",
    "\n",
    "- 0 = Functional\n",
    "- 1 = Functional Needs Repair\n",
    "- 2 = Non-Functional"
   ]
  },
  {
   "cell_type": "markdown",
   "metadata": {},
   "source": [
    "## Label Encode Target Variables"
   ]
  },
  {
   "cell_type": "markdown",
   "metadata": {},
   "source": [
    "To better define the status of each well for this analysis, I have set up a binary system for the wells:\n",
    "- 0 = Functional\n",
    "- 1 = Needs Repair"
   ]
  },
  {
   "cell_type": "code",
   "execution_count": 3,
   "metadata": {
    "ExecuteTime": {
     "end_time": "2023-01-04T17:57:57.193510Z",
     "start_time": "2023-01-04T17:57:57.183885Z"
    }
   },
   "outputs": [],
   "source": [
    "y_encoded = pd.DataFrame(LabelEncoder().fit_transform(y_data_df['status_group']))"
   ]
  },
  {
   "cell_type": "code",
   "execution_count": 4,
   "metadata": {
    "ExecuteTime": {
     "end_time": "2023-01-04T17:57:57.694721Z",
     "start_time": "2023-01-04T17:57:57.672669Z"
    }
   },
   "outputs": [
    {
     "data": {
      "text/plain": [
       "0    0.543081\n",
       "2    0.384242\n",
       "1    0.072677\n",
       "dtype: float64"
      ]
     },
     "execution_count": 4,
     "metadata": {},
     "output_type": "execute_result"
    }
   ],
   "source": [
    "y_encoded.value_counts(normalize=True)"
   ]
  },
  {
   "cell_type": "code",
   "execution_count": 5,
   "metadata": {
    "ExecuteTime": {
     "end_time": "2023-01-04T17:57:58.040067Z",
     "start_time": "2023-01-04T17:57:58.032113Z"
    }
   },
   "outputs": [],
   "source": [
    "y_encoded = y_encoded.replace(2, 1)"
   ]
  },
  {
   "cell_type": "code",
   "execution_count": 6,
   "metadata": {
    "ExecuteTime": {
     "end_time": "2023-01-04T17:57:58.415486Z",
     "start_time": "2023-01-04T17:57:58.400541Z"
    }
   },
   "outputs": [
    {
     "data": {
      "text/plain": [
       "0    0.543081\n",
       "1    0.456919\n",
       "dtype: float64"
      ]
     },
     "execution_count": 6,
     "metadata": {},
     "output_type": "execute_result"
    }
   ],
   "source": [
    "y_encoded.value_counts(normalize=True)"
   ]
  },
  {
   "cell_type": "markdown",
   "metadata": {},
   "source": [
    "We can see that the data has a relatively even distribution. As such, we will not need to use any over sampling or under sampling techniques to get an even representation between the classifications."
   ]
  },
  {
   "cell_type": "markdown",
   "metadata": {},
   "source": [
    "## Bringing the Data Together"
   ]
  },
  {
   "cell_type": "markdown",
   "metadata": {},
   "source": [
    "When running machine learning algorithms, its important to separate the predictor and target variables in order to train the model. The provided data is already separate, but in order to clean the data, I will be dropping a few rows that have missing information. \n",
    "\n",
    "To ensure that the predictor and target variables are still in line, I need to combine the datasets before dropping any rows with missing information."
   ]
  },
  {
   "cell_type": "code",
   "execution_count": 7,
   "metadata": {
    "ExecuteTime": {
     "end_time": "2023-01-04T17:57:59.431819Z",
     "start_time": "2023-01-04T17:57:59.400175Z"
    }
   },
   "outputs": [],
   "source": [
    "df = pd.concat([X_data_df, y_encoded], axis=1)"
   ]
  },
  {
   "cell_type": "code",
   "execution_count": 8,
   "metadata": {
    "ExecuteTime": {
     "end_time": "2023-01-04T17:57:59.873905Z",
     "start_time": "2023-01-04T17:57:59.855833Z"
    }
   },
   "outputs": [],
   "source": [
    "# Giving the target column a name\n",
    "df.rename(mapper={0:'target'}, axis=1, inplace=True)"
   ]
  },
  {
   "cell_type": "code",
   "execution_count": 9,
   "metadata": {
    "ExecuteTime": {
     "end_time": "2023-01-04T17:58:00.411891Z",
     "start_time": "2023-01-04T17:58:00.352901Z"
    }
   },
   "outputs": [
    {
     "name": "stdout",
     "output_type": "stream",
     "text": [
      "<class 'pandas.core.frame.DataFrame'>\n",
      "RangeIndex: 59400 entries, 0 to 59399\n",
      "Data columns (total 41 columns):\n",
      " #   Column                 Non-Null Count  Dtype  \n",
      "---  ------                 --------------  -----  \n",
      " 0   id                     59400 non-null  int64  \n",
      " 1   amount_tsh             59400 non-null  float64\n",
      " 2   date_recorded          59400 non-null  object \n",
      " 3   funder                 55765 non-null  object \n",
      " 4   gps_height             59400 non-null  int64  \n",
      " 5   installer              55745 non-null  object \n",
      " 6   longitude              59400 non-null  float64\n",
      " 7   latitude               59400 non-null  float64\n",
      " 8   wpt_name               59400 non-null  object \n",
      " 9   num_private            59400 non-null  int64  \n",
      " 10  basin                  59400 non-null  object \n",
      " 11  subvillage             59029 non-null  object \n",
      " 12  region                 59400 non-null  object \n",
      " 13  region_code            59400 non-null  int64  \n",
      " 14  district_code          59400 non-null  int64  \n",
      " 15  lga                    59400 non-null  object \n",
      " 16  ward                   59400 non-null  object \n",
      " 17  population             59400 non-null  int64  \n",
      " 18  public_meeting         56066 non-null  object \n",
      " 19  recorded_by            59400 non-null  object \n",
      " 20  scheme_management      55523 non-null  object \n",
      " 21  scheme_name            31234 non-null  object \n",
      " 22  permit                 56344 non-null  object \n",
      " 23  construction_year      59400 non-null  int64  \n",
      " 24  extraction_type        59400 non-null  object \n",
      " 25  extraction_type_group  59400 non-null  object \n",
      " 26  extraction_type_class  59400 non-null  object \n",
      " 27  management             59400 non-null  object \n",
      " 28  management_group       59400 non-null  object \n",
      " 29  payment                59400 non-null  object \n",
      " 30  payment_type           59400 non-null  object \n",
      " 31  water_quality          59400 non-null  object \n",
      " 32  quality_group          59400 non-null  object \n",
      " 33  quantity               59400 non-null  object \n",
      " 34  quantity_group         59400 non-null  object \n",
      " 35  source                 59400 non-null  object \n",
      " 36  source_type            59400 non-null  object \n",
      " 37  source_class           59400 non-null  object \n",
      " 38  waterpoint_type        59400 non-null  object \n",
      " 39  waterpoint_type_group  59400 non-null  object \n",
      " 40  target                 59400 non-null  int32  \n",
      "dtypes: float64(3), int32(1), int64(7), object(30)\n",
      "memory usage: 18.4+ MB\n"
     ]
    }
   ],
   "source": [
    "df.info()"
   ]
  },
  {
   "cell_type": "markdown",
   "metadata": {},
   "source": [
    "## Dropping Columns"
   ]
  },
  {
   "cell_type": "markdown",
   "metadata": {},
   "source": [
    "To ensure that we are reducing the noise in the dataset while simultaneously being cognizant of computing time, we are removing a few columns that are not relevant to this analysis:\n",
    "\n",
    "- `scheme_name` - Who operates the waterpoint.\n",
    "    - This feature is missing a lot of data and the operator of the well should no impact the functionality of the well.\n",
    "- `id` - A unique identifier number for each well.\n",
    "    - The id code will not impact the well's functionality.\n",
    "- `date_recorded` - The date the row was entered.\n",
    "    - This is just data for when the information was recorded. This shouldn't have an effect on the well's functionality. \n",
    "- `funder` - Who funded the well.\n",
    "    - Who paid for the well should not impact the functionality of the well.\n",
    "- `recorded_by` - Group entering this row of data.\n",
    "    - The group who's taking notes on the wells would not affect the data itself.\n",
    "- `wpt_name` - Name of the waterpoint if there is one.\n",
    "    - Similar to `id`, the name of the waterpoint should not affect the functionality.\n",
    "- `region`, `subvillage`, `ward`, `lga`, `basin` - Geographic location.\n",
    "    - The geographic location of the well is already recorded through the features `latitude` and `longitude` as well as `region_code` and `district_code`.\n",
    "- `quality_group` - The quality of water.\n",
    "    - The water quality is recorded more accurately in the `water_quality` feature.\n",
    "- `quantity_group` - The quantity of water.\n",
    "    - The water quantity is recorded more accurately in the `water_quantity` feature."
   ]
  },
  {
   "cell_type": "code",
   "execution_count": 10,
   "metadata": {
    "ExecuteTime": {
     "end_time": "2023-01-04T17:58:01.806940Z",
     "start_time": "2023-01-04T17:58:01.792901Z"
    }
   },
   "outputs": [],
   "source": [
    "cols_to_drop = ['scheme_name', 'id', 'date_recorded', 'region', 'funder', 'recorded_by'\n",
    "                , 'wpt_name', 'subvillage', 'ward', 'lga', 'basin', 'quality_group', 'quantity_group', \n",
    "                'installer', 'source_type', 'source_class', 'waterpoint_type_group', \n",
    "                'extraction_type_group', 'extraction_type_class', 'management_group',\n",
    "               'payment_type'\n",
    "                # If I keep these two out, I need to adjust my notes below and above\n",
    "#                ,'region_code', 'district_code'\n",
    "               ]\n",
    "df_dropped = df.drop(cols_to_drop, axis=1)"
   ]
  },
  {
   "cell_type": "markdown",
   "metadata": {},
   "source": [
    "## Addressing Missing Values"
   ]
  },
  {
   "cell_type": "markdown",
   "metadata": {},
   "source": [
    "The remaining features will have their information imputed based on the most frequent value in each category. I have decided to impute rather than drop the rows because each of the remaining features with missing values has a clearly identified 'most frequent' unique value. Also, in order to maintain the size and integrity of the dataset.\n",
    "\n",
    "In order to avoid potential data leakage from imputing these values, the missing data will be replaced later in this analysis through a pipeline after splitting training and test data."
   ]
  },
  {
   "cell_type": "code",
   "execution_count": 11,
   "metadata": {
    "ExecuteTime": {
     "end_time": "2023-01-04T17:58:03.101510Z",
     "start_time": "2023-01-04T17:58:03.063903Z"
    }
   },
   "outputs": [
    {
     "data": {
      "text/plain": [
       "amount_tsh              98\n",
       "gps_height            2428\n",
       "longitude            57516\n",
       "latitude             57517\n",
       "num_private             65\n",
       "region_code             27\n",
       "district_code           20\n",
       "population            1049\n",
       "public_meeting           2\n",
       "scheme_management       12\n",
       "permit                   2\n",
       "construction_year       55\n",
       "extraction_type         18\n",
       "management              12\n",
       "payment                  7\n",
       "water_quality            8\n",
       "quantity                 5\n",
       "source                  10\n",
       "waterpoint_type          7\n",
       "target                   2\n",
       "dtype: int64"
      ]
     },
     "execution_count": 11,
     "metadata": {},
     "output_type": "execute_result"
    }
   ],
   "source": [
    "df_dropped.nunique()"
   ]
  },
  {
   "cell_type": "code",
   "execution_count": 12,
   "metadata": {
    "ExecuteTime": {
     "end_time": "2023-01-04T17:58:03.849056Z",
     "start_time": "2023-01-04T17:58:03.832914Z"
    }
   },
   "outputs": [
    {
     "data": {
      "text/plain": [
       "amount_tsh              0\n",
       "gps_height              0\n",
       "longitude               0\n",
       "latitude                0\n",
       "num_private             0\n",
       "region_code             0\n",
       "district_code           0\n",
       "population              0\n",
       "public_meeting       3334\n",
       "scheme_management    3877\n",
       "permit               3056\n",
       "construction_year       0\n",
       "extraction_type         0\n",
       "management              0\n",
       "payment                 0\n",
       "water_quality           0\n",
       "quantity                0\n",
       "source                  0\n",
       "waterpoint_type         0\n",
       "target                  0\n",
       "dtype: int64"
      ]
     },
     "execution_count": 12,
     "metadata": {},
     "output_type": "execute_result"
    }
   ],
   "source": [
    "df_dropped.isna().sum()"
   ]
  },
  {
   "cell_type": "markdown",
   "metadata": {},
   "source": [
    "## Column Dtypes"
   ]
  },
  {
   "cell_type": "markdown",
   "metadata": {},
   "source": [
    "This dataset contains a wide variety of informational types. For the purpose of this analysis, I have recategorized two features from numerical types to categorical:\n",
    "\n",
    "- `region_code`: A codified descriptor for the waterpoint's region.\n",
    "- `district_code`: A codified descriptor for the waterpoint's district."
   ]
  },
  {
   "cell_type": "code",
   "execution_count": 13,
   "metadata": {
    "ExecuteTime": {
     "end_time": "2023-01-04T17:58:04.896168Z",
     "start_time": "2023-01-04T17:58:04.871945Z"
    }
   },
   "outputs": [
    {
     "name": "stdout",
     "output_type": "stream",
     "text": [
      "<class 'pandas.core.frame.DataFrame'>\n",
      "RangeIndex: 59400 entries, 0 to 59399\n",
      "Data columns (total 20 columns):\n",
      " #   Column             Non-Null Count  Dtype  \n",
      "---  ------             --------------  -----  \n",
      " 0   amount_tsh         59400 non-null  float64\n",
      " 1   gps_height         59400 non-null  int64  \n",
      " 2   longitude          59400 non-null  float64\n",
      " 3   latitude           59400 non-null  float64\n",
      " 4   num_private        59400 non-null  int64  \n",
      " 5   region_code        59400 non-null  int64  \n",
      " 6   district_code      59400 non-null  int64  \n",
      " 7   population         59400 non-null  int64  \n",
      " 8   public_meeting     56066 non-null  object \n",
      " 9   scheme_management  55523 non-null  object \n",
      " 10  permit             56344 non-null  object \n",
      " 11  construction_year  59400 non-null  int64  \n",
      " 12  extraction_type    59400 non-null  object \n",
      " 13  management         59400 non-null  object \n",
      " 14  payment            59400 non-null  object \n",
      " 15  water_quality      59400 non-null  object \n",
      " 16  quantity           59400 non-null  object \n",
      " 17  source             59400 non-null  object \n",
      " 18  waterpoint_type    59400 non-null  object \n",
      " 19  target             59400 non-null  int32  \n",
      "dtypes: float64(3), int32(1), int64(6), object(10)\n",
      "memory usage: 8.8+ MB\n"
     ]
    }
   ],
   "source": [
    "df_dropped.info()"
   ]
  },
  {
   "cell_type": "code",
   "execution_count": 14,
   "metadata": {
    "ExecuteTime": {
     "end_time": "2023-01-04T17:58:05.270939Z",
     "start_time": "2023-01-04T17:58:05.255975Z"
    }
   },
   "outputs": [],
   "source": [
    "to_object = ['region_code', 'district_code']\n",
    "df_clean = df_dropped.copy()\n",
    "\n",
    "for obj in to_object:\n",
    "    df_clean[obj] = df_clean[obj].astype(object)"
   ]
  },
  {
   "cell_type": "markdown",
   "metadata": {},
   "source": [
    "We now have perfectly clean data with no data leakage:\n",
    "\n",
    "- The target variable has been Label Encoded.\n",
    "- Dropped irrelevant columns.\n",
    "- Column Dtypes have been reassigned for categorical columns."
   ]
  },
  {
   "cell_type": "markdown",
   "metadata": {},
   "source": [
    "## Separating the Data"
   ]
  },
  {
   "cell_type": "markdown",
   "metadata": {},
   "source": [
    "Now that the dataset has been cleaned we can begin the final preparations before beginning modeling. First, we need to separate the predictor and target variables again, then split the data into training and test groups."
   ]
  },
  {
   "cell_type": "code",
   "execution_count": 15,
   "metadata": {
    "ExecuteTime": {
     "end_time": "2023-01-04T17:58:06.474826Z",
     "start_time": "2023-01-04T17:58:06.455942Z"
    }
   },
   "outputs": [],
   "source": [
    "y = df_clean['target']\n",
    "X = df_clean.drop(['target'], axis =1)"
   ]
  },
  {
   "cell_type": "code",
   "execution_count": 16,
   "metadata": {
    "ExecuteTime": {
     "end_time": "2023-01-04T17:58:06.986819Z",
     "start_time": "2023-01-04T17:58:06.967954Z"
    }
   },
   "outputs": [],
   "source": [
    "X_train, X_test, y_train, y_test = train_test_split(X, y, random_state=42)"
   ]
  },
  {
   "cell_type": "markdown",
   "metadata": {},
   "source": [
    "## Setting up Pipelines"
   ]
  },
  {
   "cell_type": "markdown",
   "metadata": {},
   "source": [
    "To streamline the analysis, reduce the potential for data leakage, and ensure that all preprocessing steps are completed with each model, I have set up a pipeline. The pipeline begins by separating the numerical data from the categorical data, once separate, the two types of data can undergo their respective preprocessing.\n",
    "\n",
    "- Numerical Data:\n",
    "    - The columns for numerical data or not missing any values so there is no need to include an imputer.\n",
    "    - Standard Scaler is being utilized to standardize and scale all numerical data.\n",
    "\n",
    "- Categorical Data:\n",
    "    - SimpleImputer is being utilized to fill missing data in the categorical columns based on the most frequent value within that column. A 'missing' indicator is in place to help identify that the data was not originally found within the dataset.\n",
    "    - OneHotEncoding is being utilized to convert the categorical information to a binary system for modeling. "
   ]
  },
  {
   "cell_type": "code",
   "execution_count": 17,
   "metadata": {
    "ExecuteTime": {
     "end_time": "2023-01-04T17:58:07.692974Z",
     "start_time": "2023-01-04T17:58:07.679791Z"
    }
   },
   "outputs": [],
   "source": [
    "num_pipe = Pipeline([\n",
    "    ('ss', StandardScaler())\n",
    "])"
   ]
  },
  {
   "cell_type": "code",
   "execution_count": 18,
   "metadata": {
    "ExecuteTime": {
     "end_time": "2023-01-04T17:58:08.412794Z",
     "start_time": "2023-01-04T17:58:08.408972Z"
    }
   },
   "outputs": [],
   "source": [
    "cat_pipe = Pipeline([\n",
    "    ('cat_impute', SimpleImputer(strategy='most_frequent', add_indicator=True)),\n",
    "    ('ohe', OneHotEncoder(sparse=False, handle_unknown='ignore'))\n",
    "])"
   ]
  },
  {
   "cell_type": "code",
   "execution_count": 19,
   "metadata": {
    "ExecuteTime": {
     "end_time": "2023-01-04T17:58:09.100232Z",
     "start_time": "2023-01-04T17:58:09.096968Z"
    }
   },
   "outputs": [],
   "source": [
    "ColTrans = ColumnTransformer(transformers=[\n",
    "    ('num_pipe', num_pipe, selector(dtype_include=np.number)),\n",
    "    ('cat_pipe', cat_pipe, selector(dtype_include=object))\n",
    "], remainder='passthrough')"
   ]
  },
  {
   "cell_type": "markdown",
   "metadata": {},
   "source": [
    "# Modeling"
   ]
  },
  {
   "cell_type": "markdown",
   "metadata": {},
   "source": [
    "## First Simple Model"
   ]
  },
  {
   "cell_type": "markdown",
   "metadata": {},
   "source": [
    "To begin analysis of the data, I have set up a first simple model to compare later models to. This is the bare minimum model that predicts that the most frequent target variable is the answer for all inputs. \n",
    "\n",
    "The first simple model has an accuracy of .545 and an ROC-AUC score of .5."
   ]
  },
  {
   "cell_type": "code",
   "execution_count": 20,
   "metadata": {
    "ExecuteTime": {
     "end_time": "2023-01-04T17:58:10.081060Z",
     "start_time": "2023-01-04T17:58:10.071979Z"
    }
   },
   "outputs": [],
   "source": [
    "dummy_model = Pipeline([\n",
    "    ('ColTrans', ColTrans),\n",
    "    ('dummy', DummyClassifier(strategy='most_frequent', random_state=42))\n",
    "])"
   ]
  },
  {
   "cell_type": "code",
   "execution_count": 21,
   "metadata": {
    "ExecuteTime": {
     "end_time": "2023-01-04T17:58:11.938256Z",
     "start_time": "2023-01-04T17:58:10.784997Z"
    }
   },
   "outputs": [],
   "source": [
    "dummy_model.fit(X_train, y_train);"
   ]
  },
  {
   "cell_type": "code",
   "execution_count": 22,
   "metadata": {
    "ExecuteTime": {
     "end_time": "2023-01-04T17:58:12.391742Z",
     "start_time": "2023-01-04T17:58:12.376012Z"
    }
   },
   "outputs": [
    {
     "data": {
      "text/plain": [
       "0    0.54532\n",
       "1    0.45468\n",
       "Name: target, dtype: float64"
      ]
     },
     "execution_count": 22,
     "metadata": {},
     "output_type": "execute_result"
    }
   ],
   "source": [
    "y_test.value_counts(normalize=True)"
   ]
  },
  {
   "cell_type": "code",
   "execution_count": 23,
   "metadata": {
    "ExecuteTime": {
     "end_time": "2023-01-04T17:58:13.002002Z",
     "start_time": "2023-01-04T17:58:12.960016Z"
    }
   },
   "outputs": [
    {
     "data": {
      "text/plain": [
       "0.5453198653198653"
      ]
     },
     "execution_count": 23,
     "metadata": {},
     "output_type": "execute_result"
    }
   ],
   "source": [
    "dummy_model.score(X_test, y_test)"
   ]
  },
  {
   "cell_type": "code",
   "execution_count": 24,
   "metadata": {
    "ExecuteTime": {
     "end_time": "2023-01-04T17:58:13.566738Z",
     "start_time": "2023-01-04T17:58:13.529014Z"
    }
   },
   "outputs": [],
   "source": [
    "dummy_y_score = dummy_model.predict_proba(X_test)"
   ]
  },
  {
   "cell_type": "code",
   "execution_count": 25,
   "metadata": {
    "ExecuteTime": {
     "end_time": "2023-01-04T17:58:13.896361Z",
     "start_time": "2023-01-04T17:58:13.880013Z"
    }
   },
   "outputs": [
    {
     "data": {
      "text/plain": [
       "0.5"
      ]
     },
     "execution_count": 25,
     "metadata": {},
     "output_type": "execute_result"
    }
   ],
   "source": [
    "roc_auc_score(y_test,dummy_y_score[:,1])"
   ]
  },
  {
   "cell_type": "markdown",
   "metadata": {},
   "source": [
    "## Baseline Models"
   ]
  },
  {
   "cell_type": "markdown",
   "metadata": {},
   "source": [
    "Now that the first simple model has been established, I need to create baseline models for each of the Machine Learning Algorithms I plan to use. These baseline models will act as a benchmark as I later tune the hyperparameters to try and improve the model results."
   ]
  },
  {
   "cell_type": "markdown",
   "metadata": {},
   "source": [
    "I will use the following methods during this analysis:\n",
    "   - Logistic Regression\n",
    "   - K-Nearest Neighbors\n",
    "   - Decision Trees\n",
    "   - Random Forests\n",
    "   - C-Support Vector Classification (SVC)\n",
    "   - Nu-Support Vector Classification (NuSVC)\n",
    "   - Adaboost\n",
    "   - Xgboost\n",
    "   - Stack Classification Methods"
   ]
  },
  {
   "cell_type": "markdown",
   "metadata": {},
   "source": [
    "### Helper Class"
   ]
  },
  {
   "cell_type": "markdown",
   "metadata": {},
   "source": [
    "Since I will be running multiple models throughout the analysis, I have created a helper function to streamline the process. More information on this function can be found in the modelruns.py file included in the repository."
   ]
  },
  {
   "cell_type": "code",
   "execution_count": null,
   "metadata": {},
   "outputs": [],
   "source": []
  },
  {
   "cell_type": "markdown",
   "metadata": {},
   "source": [
    "## Logistic Regression Pipe"
   ]
  },
  {
   "cell_type": "markdown",
   "metadata": {},
   "source": [
    "Setting up a Logistic Regression Pipeline and taking a look at the results on my train and test data. Using the baseline model, I was able to achieve accuracy of 77% and an ROC-AUC score of 84%. Due to the warning about my solver not converging, I will look at different solvers using gridsearch."
   ]
  },
  {
   "cell_type": "code",
   "execution_count": 26,
   "metadata": {
    "ExecuteTime": {
     "end_time": "2023-01-04T17:58:16.557502Z",
     "start_time": "2023-01-04T17:58:16.544048Z"
    }
   },
   "outputs": [],
   "source": [
    "log_reg_model = Pipeline([\n",
    "    ('ColTrans', ColTrans),\n",
    "    ('logreg', LogisticRegression(random_state=42))\n",
    "])"
   ]
  },
  {
   "cell_type": "code",
   "execution_count": 27,
   "metadata": {
    "ExecuteTime": {
     "end_time": "2023-01-04T17:58:18.655337Z",
     "start_time": "2023-01-04T17:58:17.304563Z"
    }
   },
   "outputs": [
    {
     "name": "stderr",
     "output_type": "stream",
     "text": [
      "C:\\Users\\nacnu\\anaconda3\\envs\\learn-env\\lib\\site-packages\\sklearn\\linear_model\\_logistic.py:762: ConvergenceWarning: lbfgs failed to converge (status=1):\n",
      "STOP: TOTAL NO. of ITERATIONS REACHED LIMIT.\n",
      "\n",
      "Increase the number of iterations (max_iter) or scale the data as shown in:\n",
      "    https://scikit-learn.org/stable/modules/preprocessing.html\n",
      "Please also refer to the documentation for alternative solver options:\n",
      "    https://scikit-learn.org/stable/modules/linear_model.html#logistic-regression\n",
      "  n_iter_i = _check_optimize_result(\n"
     ]
    }
   ],
   "source": [
    "log_reg_model.fit(X_train, y_train);"
   ]
  },
  {
   "cell_type": "code",
   "execution_count": 28,
   "metadata": {
    "ExecuteTime": {
     "end_time": "2023-01-04T17:58:19.200277Z",
     "start_time": "2023-01-04T17:58:19.192069Z"
    }
   },
   "outputs": [],
   "source": [
    "log_reg_pipe = ModelRuns(log_reg_model, 'logreg', X_train, y_train)"
   ]
  },
  {
   "cell_type": "code",
   "execution_count": 29,
   "metadata": {
    "ExecuteTime": {
     "end_time": "2023-01-04T17:58:21.211090Z",
     "start_time": "2023-01-04T17:58:20.585081Z"
    }
   },
   "outputs": [
    {
     "name": "stdout",
     "output_type": "stream",
     "text": [
      "Train Report: \n",
      "              precision    recall  f1-score   support\n",
      "\n",
      "           0       0.74      0.86      0.80     24161\n",
      "           1       0.80      0.64      0.71     20389\n",
      "\n",
      "    accuracy                           0.76     44550\n",
      "   macro avg       0.77      0.75      0.75     44550\n",
      "weighted avg       0.76      0.76      0.75     44550\n",
      "\n",
      "AUC-ROC Score:0.8274355607043029\n",
      "\n",
      "Test Report: \n",
      "              precision    recall  f1-score   support\n",
      "\n",
      "           0       0.74      0.85      0.79      8098\n",
      "           1       0.78      0.63      0.70      6752\n",
      "\n",
      "    accuracy                           0.75     14850\n",
      "   macro avg       0.76      0.74      0.75     14850\n",
      "weighted avg       0.76      0.75      0.75     14850\n",
      "\n",
      "AUC-ROC Score:0.8200516989596636\n"
     ]
    },
    {
     "data": {
      "image/png": "[encoded data removed]",
      "text/plain": [
       "<Figure size 432x288 with 2 Axes>"
      ]
     },
     "metadata": {
      "needs_background": "light"
     },
     "output_type": "display_data"
    },
    {
     "data": {
      "image/png": "[encoded data removed]",
      "text/plain": [
       "<Figure size 432x288 with 2 Axes>"
      ]
     },
     "metadata": {
      "needs_background": "light"
     },
     "output_type": "display_data"
    }
   ],
   "source": [
    "log_reg_pipe.run_all(X_train_run=X_train, X_test_run=X_test, y_train_run=y_train, y_test_run=y_test, train_results=True);"
   ]
  },
  {
   "cell_type": "markdown",
   "metadata": {},
   "source": [
    "### LogReg Grid Search"
   ]
  },
  {
   "cell_type": "markdown",
   "metadata": {},
   "source": [
    "During my initial fitting of the Logistic Regression model, the notebook provided a warning that the model failed to converge based on the solver chosen. As such, I have set up a gridsearch with cross validation to determine the best solver for the job.\n",
    "\n",
    "`Liblinear` is the best solver for this particular dataset. The train data and test data scores were almost identical, indicating that there is a good fit with little over/underfitting.\n",
    "\n",
    "**Note:** This gridsearch takes about 15 minutes to run on my computer, and for the sake of being able to run the notebook in a timely manner, I have commented out the code and provided a screenshot of the results. Please feel free to uncomment the code if looking to run the notebook on your own. "
   ]
  },
  {
   "cell_type": "markdown",
   "metadata": {},
   "source": [
    "![alt text](photos/logreg_gs_1.jpg \"Title\")"
   ]
  },
  {
   "cell_type": "code",
   "execution_count": 38,
   "metadata": {
    "ExecuteTime": {
     "end_time": "2023-01-04T15:39:08.093563Z",
     "start_time": "2023-01-04T15:39:08.078224Z"
    }
   },
   "outputs": [],
   "source": [
    "# log_params = {\n",
    "#     'logreg__solver':['lbfgs', 'liblinear', 'sag', 'saga']\n",
    "# }"
   ]
  },
  {
   "cell_type": "code",
   "execution_count": 39,
   "metadata": {
    "ExecuteTime": {
     "end_time": "2023-01-04T15:39:08.108862Z",
     "start_time": "2023-01-04T15:39:08.093563Z"
    }
   },
   "outputs": [],
   "source": [
    "# log_reg_gs = GridSearchCV(estimator=log_reg_model, param_grid=log_params, cv=10, verbose=1)"
   ]
  },
  {
   "cell_type": "code",
   "execution_count": 40,
   "metadata": {
    "ExecuteTime": {
     "end_time": "2023-01-04T15:39:08.124609Z",
     "start_time": "2023-01-04T15:39:08.108862Z"
    },
    "scrolled": false
   },
   "outputs": [],
   "source": [
    "# log_reg_gs.fit(X_train, y_train)"
   ]
  },
  {
   "cell_type": "code",
   "execution_count": 41,
   "metadata": {
    "ExecuteTime": {
     "end_time": "2023-01-04T15:39:08.141055Z",
     "start_time": "2023-01-04T15:39:08.125641Z"
    }
   },
   "outputs": [],
   "source": [
    "# log_reg_gs.best_params_"
   ]
  },
  {
   "cell_type": "code",
   "execution_count": 42,
   "metadata": {
    "ExecuteTime": {
     "end_time": "2023-01-04T15:39:08.156413Z",
     "start_time": "2023-01-04T15:39:08.141055Z"
    }
   },
   "outputs": [],
   "source": [
    "# log_reg_gs.best_score_"
   ]
  },
  {
   "cell_type": "code",
   "execution_count": 43,
   "metadata": {
    "ExecuteTime": {
     "end_time": "2023-01-04T15:39:08.171575Z",
     "start_time": "2023-01-04T15:39:08.156413Z"
    }
   },
   "outputs": [],
   "source": [
    "# log_reg_gs.best_estimator_.score(X_test,y_test)"
   ]
  },
  {
   "cell_type": "markdown",
   "metadata": {},
   "source": [
    "### Next Iteration of Gridsearch"
   ]
  },
  {
   "cell_type": "markdown",
   "metadata": {},
   "source": [
    "The last gridsearch run let me identify the best solver for the dataset: `Liblinear`. All the same, I wanted to run a second gridsearch to double check those results when more parameters were checked.\n",
    "\n",
    "The test results came back the same: max iterations 100 (the default), and `liblinear` as the best solver. I will use this as the default solver moving forward.\n",
    "\n",
    "**Note:** This gridsearch takes about an hour and a half to run on my computer, and for the sake of being able to run the notebook in a timely manner, I have commented out the code and provided a screenshot of the results. Please feel free to uncomment the code if looking to run the notebook on your own. "
   ]
  },
  {
   "cell_type": "markdown",
   "metadata": {},
   "source": [
    "![alt text](photos/logreg_gs_2.jpg \"Title\")"
   ]
  },
  {
   "cell_type": "code",
   "execution_count": 44,
   "metadata": {
    "ExecuteTime": {
     "end_time": "2023-01-04T15:39:08.187646Z",
     "start_time": "2023-01-04T15:39:08.172613Z"
    }
   },
   "outputs": [],
   "source": [
    "# log_params2 = {\n",
    "#     'logreg__solver':['liblinear', 'sag', 'saga'],\n",
    "#     'logreg__max_iter':[100, 200, 500, 1000],\n",
    "# }"
   ]
  },
  {
   "cell_type": "code",
   "execution_count": 45,
   "metadata": {
    "ExecuteTime": {
     "end_time": "2023-01-04T15:39:08.203838Z",
     "start_time": "2023-01-04T15:39:08.188668Z"
    }
   },
   "outputs": [],
   "source": [
    "# log_reg_gs2 = GridSearchCV(estimator=log_reg_model, param_grid=log_params2, cv=5, verbose=1)"
   ]
  },
  {
   "cell_type": "code",
   "execution_count": 46,
   "metadata": {
    "ExecuteTime": {
     "end_time": "2023-01-04T15:39:08.219070Z",
     "start_time": "2023-01-04T15:39:08.203838Z"
    },
    "scrolled": false
   },
   "outputs": [],
   "source": [
    "# log_reg_gs2.fit(X_train, y_train)"
   ]
  },
  {
   "cell_type": "code",
   "execution_count": 47,
   "metadata": {
    "ExecuteTime": {
     "end_time": "2023-01-04T15:39:08.234820Z",
     "start_time": "2023-01-04T15:39:08.219070Z"
    }
   },
   "outputs": [],
   "source": [
    "# log_reg_gs2.best_params_"
   ]
  },
  {
   "cell_type": "code",
   "execution_count": 48,
   "metadata": {
    "ExecuteTime": {
     "end_time": "2023-01-04T15:39:08.250588Z",
     "start_time": "2023-01-04T15:39:08.234820Z"
    }
   },
   "outputs": [],
   "source": [
    "# log_reg_gs2.best_score_"
   ]
  },
  {
   "cell_type": "code",
   "execution_count": 49,
   "metadata": {
    "ExecuteTime": {
     "end_time": "2023-01-04T15:39:08.266000Z",
     "start_time": "2023-01-04T15:39:08.250588Z"
    }
   },
   "outputs": [],
   "source": [
    "# log_reg_gs2.best_estimator_.score(X_test,y_test)"
   ]
  },
  {
   "cell_type": "markdown",
   "metadata": {},
   "source": [
    "## KNN Model"
   ]
  },
  {
   "cell_type": "markdown",
   "metadata": {},
   "source": [
    "Setting up kmeans cluster to group the data into 8 clusters based on proximity"
   ]
  },
  {
   "cell_type": "code",
   "execution_count": 50,
   "metadata": {
    "ExecuteTime": {
     "end_time": "2023-01-04T15:39:08.282093Z",
     "start_time": "2023-01-04T15:39:08.266000Z"
    }
   },
   "outputs": [],
   "source": [
    "# kmeans_model = Pipeline([\n",
    "#     ('ColTrans', ColTrans),\n",
    "#     ('kmeans', KMeans(n_clusters=7, random_state=42))\n",
    "# ])"
   ]
  },
  {
   "cell_type": "code",
   "execution_count": 51,
   "metadata": {
    "ExecuteTime": {
     "end_time": "2023-01-04T15:39:08.297369Z",
     "start_time": "2023-01-04T15:39:08.282093Z"
    }
   },
   "outputs": [],
   "source": [
    "# # Fitting the model\n",
    "# kmeans_model.fit(X_train, y_train);"
   ]
  },
  {
   "cell_type": "code",
   "execution_count": 52,
   "metadata": {
    "ExecuteTime": {
     "end_time": "2023-01-04T15:39:08.313579Z",
     "start_time": "2023-01-04T15:39:08.297369Z"
    }
   },
   "outputs": [],
   "source": [
    "# # creating a dataframe for X_train so I can house the cluster data\n",
    "# kmeans_X_train_df = pd.DataFrame(X_train)"
   ]
  },
  {
   "cell_type": "code",
   "execution_count": 53,
   "metadata": {
    "ExecuteTime": {
     "end_time": "2023-01-04T15:39:08.328874Z",
     "start_time": "2023-01-04T15:39:08.314605Z"
    }
   },
   "outputs": [],
   "source": [
    "# # predicting data before adding back the target var so there is no data leakage \n",
    "# kmeans_X_train_df['cluster'] = kmeans_model.predict(X_train)"
   ]
  },
  {
   "cell_type": "code",
   "execution_count": 54,
   "metadata": {
    "ExecuteTime": {
     "end_time": "2023-01-04T15:39:08.344076Z",
     "start_time": "2023-01-04T15:39:08.328874Z"
    }
   },
   "outputs": [],
   "source": [
    "# # adding the target variable back so that I can then separate into dfs based on clusters\n",
    "# kmeans_X_train_df['target'] = y_train"
   ]
  },
  {
   "cell_type": "code",
   "execution_count": 55,
   "metadata": {
    "ExecuteTime": {
     "end_time": "2023-01-04T15:39:08.359985Z",
     "start_time": "2023-01-04T15:39:08.344076Z"
    }
   },
   "outputs": [],
   "source": [
    "# # creating 8 new dataframes based on clusters and storing in a dictionary\n",
    "# df_names = ['kmeans_0', 'kmeans_1', 'kmeans_2', 'kmeans_3', 'kmeans_4', 'kmeans_5', 'kmeans_6']\n",
    "# kmeans_train_dic = {}\n",
    "# for i, name in enumerate(df_names):\n",
    "#     print(name)\n",
    "#     kmeans_train_dic[name] = kmeans_X_train_df[kmeans_X_train_df['cluster'] == i]"
   ]
  },
  {
   "cell_type": "code",
   "execution_count": 56,
   "metadata": {
    "ExecuteTime": {
     "end_time": "2023-01-04T15:39:08.375864Z",
     "start_time": "2023-01-04T15:39:08.359985Z"
    }
   },
   "outputs": [],
   "source": [
    "# # need to seperate x, y vars now\n",
    "# y_kmeans_train_dic = {}\n",
    "# for name in df_names:\n",
    "#     y_kmeans_train_dic[name] = kmeans_train_dic[name].pop('target')"
   ]
  },
  {
   "cell_type": "code",
   "execution_count": 57,
   "metadata": {
    "ExecuteTime": {
     "end_time": "2023-01-04T15:39:08.391008Z",
     "start_time": "2023-01-04T15:39:08.376888Z"
    }
   },
   "outputs": [],
   "source": [
    "# kmeans_train_dic['kmeans_0'].head()"
   ]
  },
  {
   "cell_type": "code",
   "execution_count": 58,
   "metadata": {
    "ExecuteTime": {
     "end_time": "2023-01-04T15:39:08.406647Z",
     "start_time": "2023-01-04T15:39:08.391008Z"
    }
   },
   "outputs": [],
   "source": [
    "# y_kmeans_train_dic['kmeans_0'].head()"
   ]
  },
  {
   "cell_type": "markdown",
   "metadata": {},
   "source": [
    "^^^ This is it. I have created a dic of data frames for x and y vars based on clusters"
   ]
  },
  {
   "cell_type": "markdown",
   "metadata": {},
   "source": [
    "Now to do the same thing for the test data"
   ]
  },
  {
   "cell_type": "code",
   "execution_count": 59,
   "metadata": {
    "ExecuteTime": {
     "end_time": "2023-01-04T15:39:08.421641Z",
     "start_time": "2023-01-04T15:39:08.407678Z"
    }
   },
   "outputs": [],
   "source": [
    "# # creating a dataframe for X_test so I can house the cluster data\n",
    "# kmeans_X_test_df = pd.DataFrame(X_test)"
   ]
  },
  {
   "cell_type": "code",
   "execution_count": 60,
   "metadata": {
    "ExecuteTime": {
     "end_time": "2023-01-04T15:39:08.437641Z",
     "start_time": "2023-01-04T15:39:08.421641Z"
    }
   },
   "outputs": [],
   "source": [
    "# # predicting data before adding back the target var so there is no data leakage \n",
    "# kmeans_X_test_df['cluster'] = kmeans_model.predict(X_test)"
   ]
  },
  {
   "cell_type": "code",
   "execution_count": 61,
   "metadata": {
    "ExecuteTime": {
     "end_time": "2023-01-04T15:39:08.453666Z",
     "start_time": "2023-01-04T15:39:08.437641Z"
    }
   },
   "outputs": [],
   "source": [
    "# # adding the target variable back so that I can then separate into dfs based on clusters\n",
    "# kmeans_X_test_df['target'] = y_test"
   ]
  },
  {
   "cell_type": "code",
   "execution_count": 62,
   "metadata": {
    "ExecuteTime": {
     "end_time": "2023-01-04T15:39:08.469290Z",
     "start_time": "2023-01-04T15:39:08.453666Z"
    }
   },
   "outputs": [],
   "source": [
    "# # creating 8 new dataframes based on clusters and storing in a dictionary\n",
    "# kmeans_test_dic = {}\n",
    "# for i, name in enumerate(df_names):\n",
    "#     print(name)\n",
    "#     kmeans_test_dic[name] = kmeans_X_test_df[kmeans_X_test_df['cluster'] == i]"
   ]
  },
  {
   "cell_type": "code",
   "execution_count": 63,
   "metadata": {
    "ExecuteTime": {
     "end_time": "2023-01-04T15:39:08.485633Z",
     "start_time": "2023-01-04T15:39:08.469290Z"
    }
   },
   "outputs": [],
   "source": [
    "# # need to seperate x, y vars now\n",
    "# y_kmeans_test_dic = {}\n",
    "# for name in df_names:\n",
    "#     y_kmeans_test_dic[name] = kmeans_test_dic[name].pop('target')"
   ]
  },
  {
   "cell_type": "markdown",
   "metadata": {},
   "source": [
    "Setting up KNN on train test data for each cluster"
   ]
  },
  {
   "cell_type": "code",
   "execution_count": 64,
   "metadata": {
    "ExecuteTime": {
     "end_time": "2023-01-04T15:39:08.501137Z",
     "start_time": "2023-01-04T15:39:08.485633Z"
    }
   },
   "outputs": [],
   "source": [
    "# knn_model = Pipeline([\n",
    "#     ('ColTrans', ColTrans),\n",
    "#     ('knn', KNeighborsClassifier())\n",
    "# ])"
   ]
  },
  {
   "cell_type": "code",
   "execution_count": 65,
   "metadata": {
    "ExecuteTime": {
     "end_time": "2023-01-04T15:39:08.516289Z",
     "start_time": "2023-01-04T15:39:08.502137Z"
    }
   },
   "outputs": [],
   "source": [
    "# model_dic = {}\n",
    "# for name in df_names:\n",
    "#     model_dic[name] = knn_model.fit(kmeans_train_dic[name], y_kmeans_train_dic[name])"
   ]
  },
  {
   "cell_type": "code",
   "execution_count": 66,
   "metadata": {
    "ExecuteTime": {
     "end_time": "2023-01-04T15:39:08.531505Z",
     "start_time": "2023-01-04T15:39:08.517319Z"
    }
   },
   "outputs": [],
   "source": [
    "# knn_test_scores = {}\n",
    "# for name in df_names:\n",
    "#     knn_test_scores[name] = model_dic[name].score(kmeans_test_dic[name], y_kmeans_test_dic[name])"
   ]
  },
  {
   "cell_type": "code",
   "execution_count": 67,
   "metadata": {
    "ExecuteTime": {
     "end_time": "2023-01-04T15:39:08.547497Z",
     "start_time": "2023-01-04T15:39:08.534918Z"
    }
   },
   "outputs": [],
   "source": [
    "# knn_test_scores"
   ]
  },
  {
   "cell_type": "code",
   "execution_count": 68,
   "metadata": {
    "ExecuteTime": {
     "end_time": "2023-01-04T15:39:08.563731Z",
     "start_time": "2023-01-04T15:39:08.549497Z"
    }
   },
   "outputs": [],
   "source": [
    "# np.mean(list(knn_test_scores.values()))"
   ]
  },
  {
   "cell_type": "code",
   "execution_count": 69,
   "metadata": {
    "ExecuteTime": {
     "end_time": "2023-01-04T15:39:08.579248Z",
     "start_time": "2023-01-04T15:39:08.564753Z"
    }
   },
   "outputs": [],
   "source": [
    "# main_col = ['cluster_group']\n",
    "# kmeans_results_df = pd.DataFrame(knn_test_scores.keys(), columns=main_col)"
   ]
  },
  {
   "cell_type": "code",
   "execution_count": 70,
   "metadata": {
    "ExecuteTime": {
     "end_time": "2023-01-04T15:39:08.595502Z",
     "start_time": "2023-01-04T15:39:08.580248Z"
    }
   },
   "outputs": [],
   "source": [
    "# kmeans_results_df['clusters=7'] = knn_test_scores.values()"
   ]
  },
  {
   "cell_type": "code",
   "execution_count": 71,
   "metadata": {
    "ExecuteTime": {
     "end_time": "2023-01-04T15:39:08.610635Z",
     "start_time": "2023-01-04T15:39:08.596528Z"
    }
   },
   "outputs": [],
   "source": [
    "# kmeans_results_df"
   ]
  },
  {
   "cell_type": "markdown",
   "metadata": {},
   "source": [
    "Now gonna try and make it a loop to get them all in here"
   ]
  },
  {
   "cell_type": "code",
   "execution_count": null,
   "metadata": {
    "scrolled": false
   },
   "outputs": [],
   "source": []
  },
  {
   "cell_type": "code",
   "execution_count": null,
   "metadata": {},
   "outputs": [],
   "source": []
  },
  {
   "cell_type": "code",
   "execution_count": 72,
   "metadata": {
    "ExecuteTime": {
     "end_time": "2023-01-04T15:39:08.626629Z",
     "start_time": "2023-01-04T15:39:08.611646Z"
    }
   },
   "outputs": [
    {
     "data": {
      "text/html": [
       "<div>\n",
       "<style scoped>\n",
       "    .dataframe tbody tr th:only-of-type {\n",
       "        vertical-align: middle;\n",
       "    }\n",
       "\n",
       "    .dataframe tbody tr th {\n",
       "        vertical-align: top;\n",
       "    }\n",
       "\n",
       "    .dataframe thead th {\n",
       "        text-align: right;\n",
       "    }\n",
       "</style>\n",
       "<table border=\"1\" class=\"dataframe\">\n",
       "  <thead>\n",
       "    <tr style=\"text-align: right;\">\n",
       "      <th></th>\n",
       "      <th>amount_tsh</th>\n",
       "      <th>gps_height</th>\n",
       "      <th>installer</th>\n",
       "      <th>longitude</th>\n",
       "      <th>latitude</th>\n",
       "      <th>num_private</th>\n",
       "      <th>region_code</th>\n",
       "      <th>district_code</th>\n",
       "      <th>population</th>\n",
       "      <th>public_meeting</th>\n",
       "      <th>...</th>\n",
       "      <th>management_group</th>\n",
       "      <th>payment</th>\n",
       "      <th>payment_type</th>\n",
       "      <th>water_quality</th>\n",
       "      <th>quantity</th>\n",
       "      <th>source</th>\n",
       "      <th>source_type</th>\n",
       "      <th>source_class</th>\n",
       "      <th>waterpoint_type</th>\n",
       "      <th>waterpoint_type_group</th>\n",
       "    </tr>\n",
       "  </thead>\n",
       "  <tbody>\n",
       "    <tr>\n",
       "      <th>2980</th>\n",
       "      <td>0.0</td>\n",
       "      <td>0</td>\n",
       "      <td>DWE</td>\n",
       "      <td>31.985658</td>\n",
       "      <td>-3.596360</td>\n",
       "      <td>0</td>\n",
       "      <td>17</td>\n",
       "      <td>5</td>\n",
       "      <td>0</td>\n",
       "      <td>True</td>\n",
       "      <td>...</td>\n",
       "      <td>user-group</td>\n",
       "      <td>unknown</td>\n",
       "      <td>unknown</td>\n",
       "      <td>soft</td>\n",
       "      <td>dry</td>\n",
       "      <td>shallow well</td>\n",
       "      <td>shallow well</td>\n",
       "      <td>groundwater</td>\n",
       "      <td>other</td>\n",
       "      <td>other</td>\n",
       "    </tr>\n",
       "    <tr>\n",
       "      <th>5246</th>\n",
       "      <td>0.0</td>\n",
       "      <td>0</td>\n",
       "      <td>Halmashauri ya manispa tabora</td>\n",
       "      <td>32.832815</td>\n",
       "      <td>-4.944937</td>\n",
       "      <td>0</td>\n",
       "      <td>14</td>\n",
       "      <td>6</td>\n",
       "      <td>0</td>\n",
       "      <td>True</td>\n",
       "      <td>...</td>\n",
       "      <td>user-group</td>\n",
       "      <td>never pay</td>\n",
       "      <td>never pay</td>\n",
       "      <td>milky</td>\n",
       "      <td>insufficient</td>\n",
       "      <td>shallow well</td>\n",
       "      <td>shallow well</td>\n",
       "      <td>groundwater</td>\n",
       "      <td>hand pump</td>\n",
       "      <td>hand pump</td>\n",
       "    </tr>\n",
       "    <tr>\n",
       "      <th>22659</th>\n",
       "      <td>10.0</td>\n",
       "      <td>1675</td>\n",
       "      <td>DWE</td>\n",
       "      <td>35.488289</td>\n",
       "      <td>-4.242048</td>\n",
       "      <td>0</td>\n",
       "      <td>21</td>\n",
       "      <td>1</td>\n",
       "      <td>148</td>\n",
       "      <td>True</td>\n",
       "      <td>...</td>\n",
       "      <td>user-group</td>\n",
       "      <td>pay per bucket</td>\n",
       "      <td>per bucket</td>\n",
       "      <td>soft</td>\n",
       "      <td>insufficient</td>\n",
       "      <td>spring</td>\n",
       "      <td>spring</td>\n",
       "      <td>groundwater</td>\n",
       "      <td>communal standpipe</td>\n",
       "      <td>communal standpipe</td>\n",
       "    </tr>\n",
       "    <tr>\n",
       "      <th>39888</th>\n",
       "      <td>0.0</td>\n",
       "      <td>0</td>\n",
       "      <td>KKKT</td>\n",
       "      <td>33.140828</td>\n",
       "      <td>-9.059386</td>\n",
       "      <td>0</td>\n",
       "      <td>12</td>\n",
       "      <td>6</td>\n",
       "      <td>0</td>\n",
       "      <td>False</td>\n",
       "      <td>...</td>\n",
       "      <td>user-group</td>\n",
       "      <td>never pay</td>\n",
       "      <td>never pay</td>\n",
       "      <td>soft</td>\n",
       "      <td>seasonal</td>\n",
       "      <td>shallow well</td>\n",
       "      <td>shallow well</td>\n",
       "      <td>groundwater</td>\n",
       "      <td>hand pump</td>\n",
       "      <td>hand pump</td>\n",
       "    </tr>\n",
       "    <tr>\n",
       "      <th>13361</th>\n",
       "      <td>50.0</td>\n",
       "      <td>1109</td>\n",
       "      <td>SEMA</td>\n",
       "      <td>34.217077</td>\n",
       "      <td>-4.430529</td>\n",
       "      <td>0</td>\n",
       "      <td>13</td>\n",
       "      <td>1</td>\n",
       "      <td>235</td>\n",
       "      <td>True</td>\n",
       "      <td>...</td>\n",
       "      <td>user-group</td>\n",
       "      <td>pay per bucket</td>\n",
       "      <td>per bucket</td>\n",
       "      <td>soft</td>\n",
       "      <td>enough</td>\n",
       "      <td>machine dbh</td>\n",
       "      <td>borehole</td>\n",
       "      <td>groundwater</td>\n",
       "      <td>communal standpipe multiple</td>\n",
       "      <td>communal standpipe</td>\n",
       "    </tr>\n",
       "  </tbody>\n",
       "</table>\n",
       "<p>5 rows × 27 columns</p>\n",
       "</div>"
      ],
      "text/plain": [
       "       amount_tsh  gps_height                      installer  longitude  \\\n",
       "2980          0.0           0                            DWE  31.985658   \n",
       "5246          0.0           0  Halmashauri ya manispa tabora  32.832815   \n",
       "22659        10.0        1675                            DWE  35.488289   \n",
       "39888         0.0           0                           KKKT  33.140828   \n",
       "13361        50.0        1109                           SEMA  34.217077   \n",
       "\n",
       "       latitude  num_private region_code district_code  population  \\\n",
       "2980  -3.596360            0          17             5           0   \n",
       "5246  -4.944937            0          14             6           0   \n",
       "22659 -4.242048            0          21             1         148   \n",
       "39888 -9.059386            0          12             6           0   \n",
       "13361 -4.430529            0          13             1         235   \n",
       "\n",
       "      public_meeting  ... management_group         payment  payment_type  \\\n",
       "2980            True  ...       user-group         unknown       unknown   \n",
       "5246            True  ...       user-group       never pay     never pay   \n",
       "22659           True  ...       user-group  pay per bucket    per bucket   \n",
       "39888          False  ...       user-group       never pay     never pay   \n",
       "13361           True  ...       user-group  pay per bucket    per bucket   \n",
       "\n",
       "      water_quality      quantity        source   source_type source_class  \\\n",
       "2980           soft           dry  shallow well  shallow well  groundwater   \n",
       "5246          milky  insufficient  shallow well  shallow well  groundwater   \n",
       "22659          soft  insufficient        spring        spring  groundwater   \n",
       "39888          soft      seasonal  shallow well  shallow well  groundwater   \n",
       "13361          soft        enough   machine dbh      borehole  groundwater   \n",
       "\n",
       "                   waterpoint_type waterpoint_type_group  \n",
       "2980                         other                 other  \n",
       "5246                     hand pump             hand pump  \n",
       "22659           communal standpipe    communal standpipe  \n",
       "39888                    hand pump             hand pump  \n",
       "13361  communal standpipe multiple    communal standpipe  \n",
       "\n",
       "[5 rows x 27 columns]"
      ]
     },
     "execution_count": 72,
     "metadata": {},
     "output_type": "execute_result"
    }
   ],
   "source": [
    "X_test.head()"
   ]
  },
  {
   "cell_type": "code",
   "execution_count": 73,
   "metadata": {
    "ExecuteTime": {
     "end_time": "2023-01-04T15:39:08.641862Z",
     "start_time": "2023-01-04T15:39:08.626629Z"
    }
   },
   "outputs": [
    {
     "data": {
      "text/plain": [
       "2980     1\n",
       "5246     0\n",
       "22659    0\n",
       "39888    1\n",
       "13361    0\n",
       "        ..\n",
       "20338    0\n",
       "34426    1\n",
       "23976    1\n",
       "39317    1\n",
       "1888     1\n",
       "Name: target, Length: 14850, dtype: int32"
      ]
     },
     "execution_count": 73,
     "metadata": {},
     "output_type": "execute_result"
    }
   ],
   "source": [
    "y_test"
   ]
  },
  {
   "cell_type": "code",
   "execution_count": 74,
   "metadata": {
    "ExecuteTime": {
     "end_time": "2023-01-04T15:39:08.657176Z",
     "start_time": "2023-01-04T15:39:08.641862Z"
    }
   },
   "outputs": [
    {
     "data": {
      "text/html": [
       "<div>\n",
       "<style scoped>\n",
       "    .dataframe tbody tr th:only-of-type {\n",
       "        vertical-align: middle;\n",
       "    }\n",
       "\n",
       "    .dataframe tbody tr th {\n",
       "        vertical-align: top;\n",
       "    }\n",
       "\n",
       "    .dataframe thead th {\n",
       "        text-align: right;\n",
       "    }\n",
       "</style>\n",
       "<table border=\"1\" class=\"dataframe\">\n",
       "  <thead>\n",
       "    <tr style=\"text-align: right;\">\n",
       "      <th></th>\n",
       "      <th>amount_tsh</th>\n",
       "      <th>gps_height</th>\n",
       "      <th>installer</th>\n",
       "      <th>longitude</th>\n",
       "      <th>latitude</th>\n",
       "      <th>num_private</th>\n",
       "      <th>region_code</th>\n",
       "      <th>district_code</th>\n",
       "      <th>population</th>\n",
       "      <th>public_meeting</th>\n",
       "      <th>...</th>\n",
       "      <th>management_group</th>\n",
       "      <th>payment</th>\n",
       "      <th>payment_type</th>\n",
       "      <th>water_quality</th>\n",
       "      <th>quantity</th>\n",
       "      <th>source</th>\n",
       "      <th>source_type</th>\n",
       "      <th>source_class</th>\n",
       "      <th>waterpoint_type</th>\n",
       "      <th>waterpoint_type_group</th>\n",
       "    </tr>\n",
       "  </thead>\n",
       "  <tbody>\n",
       "    <tr>\n",
       "      <th>24947</th>\n",
       "      <td>20.0</td>\n",
       "      <td>330</td>\n",
       "      <td>Ce</td>\n",
       "      <td>38.123839</td>\n",
       "      <td>-6.087137e+00</td>\n",
       "      <td>0</td>\n",
       "      <td>6</td>\n",
       "      <td>1</td>\n",
       "      <td>80</td>\n",
       "      <td>True</td>\n",
       "      <td>...</td>\n",
       "      <td>user-group</td>\n",
       "      <td>pay per bucket</td>\n",
       "      <td>per bucket</td>\n",
       "      <td>salty</td>\n",
       "      <td>insufficient</td>\n",
       "      <td>machine dbh</td>\n",
       "      <td>borehole</td>\n",
       "      <td>groundwater</td>\n",
       "      <td>communal standpipe</td>\n",
       "      <td>communal standpipe</td>\n",
       "    </tr>\n",
       "    <tr>\n",
       "      <th>22630</th>\n",
       "      <td>0.0</td>\n",
       "      <td>0</td>\n",
       "      <td>DWE</td>\n",
       "      <td>0.000000</td>\n",
       "      <td>-2.000000e-08</td>\n",
       "      <td>0</td>\n",
       "      <td>17</td>\n",
       "      <td>1</td>\n",
       "      <td>0</td>\n",
       "      <td>NaN</td>\n",
       "      <td>...</td>\n",
       "      <td>user-group</td>\n",
       "      <td>unknown</td>\n",
       "      <td>unknown</td>\n",
       "      <td>soft</td>\n",
       "      <td>enough</td>\n",
       "      <td>shallow well</td>\n",
       "      <td>shallow well</td>\n",
       "      <td>groundwater</td>\n",
       "      <td>hand pump</td>\n",
       "      <td>hand pump</td>\n",
       "    </tr>\n",
       "    <tr>\n",
       "      <th>13789</th>\n",
       "      <td>0.0</td>\n",
       "      <td>0</td>\n",
       "      <td>DASIP</td>\n",
       "      <td>33.312321</td>\n",
       "      <td>-2.814100e+00</td>\n",
       "      <td>0</td>\n",
       "      <td>19</td>\n",
       "      <td>4</td>\n",
       "      <td>0</td>\n",
       "      <td>True</td>\n",
       "      <td>...</td>\n",
       "      <td>user-group</td>\n",
       "      <td>never pay</td>\n",
       "      <td>never pay</td>\n",
       "      <td>soft</td>\n",
       "      <td>enough</td>\n",
       "      <td>machine dbh</td>\n",
       "      <td>borehole</td>\n",
       "      <td>groundwater</td>\n",
       "      <td>hand pump</td>\n",
       "      <td>hand pump</td>\n",
       "    </tr>\n",
       "    <tr>\n",
       "      <th>15697</th>\n",
       "      <td>0.0</td>\n",
       "      <td>1542</td>\n",
       "      <td>GOVERNMENT</td>\n",
       "      <td>34.783049</td>\n",
       "      <td>-4.842093e+00</td>\n",
       "      <td>0</td>\n",
       "      <td>13</td>\n",
       "      <td>4</td>\n",
       "      <td>23</td>\n",
       "      <td>True</td>\n",
       "      <td>...</td>\n",
       "      <td>user-group</td>\n",
       "      <td>never pay</td>\n",
       "      <td>never pay</td>\n",
       "      <td>soft</td>\n",
       "      <td>seasonal</td>\n",
       "      <td>rainwater harvesting</td>\n",
       "      <td>rainwater harvesting</td>\n",
       "      <td>surface</td>\n",
       "      <td>communal standpipe</td>\n",
       "      <td>communal standpipe</td>\n",
       "    </tr>\n",
       "    <tr>\n",
       "      <th>22613</th>\n",
       "      <td>0.0</td>\n",
       "      <td>523</td>\n",
       "      <td>Government</td>\n",
       "      <td>34.660944</td>\n",
       "      <td>-1.070733e+01</td>\n",
       "      <td>0</td>\n",
       "      <td>10</td>\n",
       "      <td>3</td>\n",
       "      <td>1</td>\n",
       "      <td>NaN</td>\n",
       "      <td>...</td>\n",
       "      <td>user-group</td>\n",
       "      <td>unknown</td>\n",
       "      <td>unknown</td>\n",
       "      <td>soft</td>\n",
       "      <td>dry</td>\n",
       "      <td>spring</td>\n",
       "      <td>spring</td>\n",
       "      <td>groundwater</td>\n",
       "      <td>communal standpipe</td>\n",
       "      <td>communal standpipe</td>\n",
       "    </tr>\n",
       "  </tbody>\n",
       "</table>\n",
       "<p>5 rows × 27 columns</p>\n",
       "</div>"
      ],
      "text/plain": [
       "       amount_tsh  gps_height   installer  longitude      latitude  \\\n",
       "24947        20.0         330          Ce  38.123839 -6.087137e+00   \n",
       "22630         0.0           0         DWE   0.000000 -2.000000e-08   \n",
       "13789         0.0           0       DASIP  33.312321 -2.814100e+00   \n",
       "15697         0.0        1542  GOVERNMENT  34.783049 -4.842093e+00   \n",
       "22613         0.0         523  Government  34.660944 -1.070733e+01   \n",
       "\n",
       "       num_private region_code district_code  population public_meeting  ...  \\\n",
       "24947            0           6             1          80           True  ...   \n",
       "22630            0          17             1           0            NaN  ...   \n",
       "13789            0          19             4           0           True  ...   \n",
       "15697            0          13             4          23           True  ...   \n",
       "22613            0          10             3           1            NaN  ...   \n",
       "\n",
       "      management_group         payment  payment_type water_quality  \\\n",
       "24947       user-group  pay per bucket    per bucket         salty   \n",
       "22630       user-group         unknown       unknown          soft   \n",
       "13789       user-group       never pay     never pay          soft   \n",
       "15697       user-group       never pay     never pay          soft   \n",
       "22613       user-group         unknown       unknown          soft   \n",
       "\n",
       "           quantity                source           source_type source_class  \\\n",
       "24947  insufficient           machine dbh              borehole  groundwater   \n",
       "22630        enough          shallow well          shallow well  groundwater   \n",
       "13789        enough           machine dbh              borehole  groundwater   \n",
       "15697      seasonal  rainwater harvesting  rainwater harvesting      surface   \n",
       "22613           dry                spring                spring  groundwater   \n",
       "\n",
       "          waterpoint_type waterpoint_type_group  \n",
       "24947  communal standpipe    communal standpipe  \n",
       "22630           hand pump             hand pump  \n",
       "13789           hand pump             hand pump  \n",
       "15697  communal standpipe    communal standpipe  \n",
       "22613  communal standpipe    communal standpipe  \n",
       "\n",
       "[5 rows x 27 columns]"
      ]
     },
     "execution_count": 74,
     "metadata": {},
     "output_type": "execute_result"
    }
   ],
   "source": [
    "X_train.head()"
   ]
  },
  {
   "cell_type": "markdown",
   "metadata": {},
   "source": [
    "## Decision Tree Pipe"
   ]
  },
  {
   "cell_type": "markdown",
   "metadata": {},
   "source": [
    "My decision tree model has 100% accuracy and an ROC-AUC score of 99.99% for the train data while the test results have an accuracy of 78% and an ROC-AUC score of 78%. This is indicative of overfitting and I will look to reduce overfitting by adjusting hyperparameters through gridsearch."
   ]
  },
  {
   "cell_type": "code",
   "execution_count": 75,
   "metadata": {
    "ExecuteTime": {
     "end_time": "2023-01-04T15:39:08.672676Z",
     "start_time": "2023-01-04T15:39:08.657176Z"
    }
   },
   "outputs": [],
   "source": [
    "dtc_model = Pipeline([\n",
    "    ('ColTrans', ColTrans),\n",
    "    ('dtc', DecisionTreeClassifier(random_state=42))\n",
    "])"
   ]
  },
  {
   "cell_type": "code",
   "execution_count": 76,
   "metadata": {
    "ExecuteTime": {
     "end_time": "2023-01-04T15:39:17.198583Z",
     "start_time": "2023-01-04T15:39:08.672676Z"
    }
   },
   "outputs": [],
   "source": [
    "dtc_model.fit(X_train, y_train);"
   ]
  },
  {
   "cell_type": "code",
   "execution_count": 77,
   "metadata": {
    "ExecuteTime": {
     "end_time": "2023-01-04T15:39:17.214471Z",
     "start_time": "2023-01-04T15:39:17.198583Z"
    }
   },
   "outputs": [],
   "source": [
    "dtc_pipe = ModelRuns(dtc_model, 'dtc', X_train, y_train)"
   ]
  },
  {
   "cell_type": "code",
   "execution_count": 78,
   "metadata": {
    "ExecuteTime": {
     "end_time": "2023-01-04T15:39:20.055879Z",
     "start_time": "2023-01-04T15:39:17.214471Z"
    }
   },
   "outputs": [
    {
     "name": "stdout",
     "output_type": "stream",
     "text": [
      "Train Report: \n",
      "              precision    recall  f1-score   support\n",
      "\n",
      "           0       1.00      1.00      1.00     24161\n",
      "           1       1.00      0.99      1.00     20389\n",
      "\n",
      "    accuracy                           1.00     44550\n",
      "   macro avg       1.00      1.00      1.00     44550\n",
      "weighted avg       1.00      1.00      1.00     44550\n",
      "\n",
      "AUC-ROC Score:0.9999650886121889\n",
      "\n",
      "Test Report: \n",
      "              precision    recall  f1-score   support\n",
      "\n",
      "           0       0.80      0.80      0.80      8098\n",
      "           1       0.76      0.76      0.76      6752\n",
      "\n",
      "    accuracy                           0.78     14850\n",
      "   macro avg       0.78      0.78      0.78     14850\n",
      "weighted avg       0.78      0.78      0.78     14850\n",
      "\n",
      "AUC-ROC Score:0.781845379878479\n"
     ]
    },
    {
     "data": {
      "image/png": "[encoded data removed]",
      "text/plain": [
       "<Figure size 432x288 with 2 Axes>"
      ]
     },
     "metadata": {
      "needs_background": "light"
     },
     "output_type": "display_data"
    },
    {
     "data": {
      "image/png": "[encoded data removed]",
      "text/plain": [
       "<Figure size 432x288 with 2 Axes>"
      ]
     },
     "metadata": {
      "needs_background": "light"
     },
     "output_type": "display_data"
    }
   ],
   "source": [
    "dtc_pipe.run_all(X_train_run=X_train, X_test_run=X_test, y_train_run=y_train, y_test_run=y_test, train_results=True);"
   ]
  },
  {
   "cell_type": "markdown",
   "metadata": {},
   "source": [
    "## Random Forest"
   ]
  },
  {
   "cell_type": "markdown",
   "metadata": {},
   "source": [
    "My random forest model has 100% accuracy and an ROC-AUC score of 99.95% for the train data while the test results have an accuracy of 82% and an ROC-AUC score of 89%. This is indicative of overfitting and I will look to reduce overfitting by adjusting hyperparameters through gridsearch.\n",
    "\n",
    "Overall, these results are pretty good though. "
   ]
  },
  {
   "cell_type": "code",
   "execution_count": 79,
   "metadata": {
    "ExecuteTime": {
     "end_time": "2023-01-04T15:39:20.071508Z",
     "start_time": "2023-01-04T15:39:20.056879Z"
    }
   },
   "outputs": [],
   "source": [
    "rf_model = Pipeline([\n",
    "    ('ColTrans', ColTrans),\n",
    "    ('rf', RandomForestClassifier(random_state=42))\n",
    "])"
   ]
  },
  {
   "cell_type": "code",
   "execution_count": 80,
   "metadata": {
    "ExecuteTime": {
     "end_time": "2023-01-04T15:39:43.576578Z",
     "start_time": "2023-01-04T15:39:20.072534Z"
    }
   },
   "outputs": [],
   "source": [
    "rf_model.fit(X_train, y_train);"
   ]
  },
  {
   "cell_type": "code",
   "execution_count": 81,
   "metadata": {
    "ExecuteTime": {
     "end_time": "2023-01-04T15:39:43.592611Z",
     "start_time": "2023-01-04T15:39:43.576578Z"
    }
   },
   "outputs": [],
   "source": [
    "rf_pipe = ModelRuns(rf_model, 'rf', X_train, y_train)"
   ]
  },
  {
   "cell_type": "code",
   "execution_count": 82,
   "metadata": {
    "ExecuteTime": {
     "end_time": "2023-01-04T15:39:51.203159Z",
     "start_time": "2023-01-04T15:39:43.593665Z"
    }
   },
   "outputs": [
    {
     "name": "stdout",
     "output_type": "stream",
     "text": [
      "Train Report: \n",
      "              precision    recall  f1-score   support\n",
      "\n",
      "           0       1.00      1.00      1.00     24161\n",
      "           1       1.00      0.99      1.00     20389\n",
      "\n",
      "    accuracy                           1.00     44550\n",
      "   macro avg       1.00      1.00      1.00     44550\n",
      "weighted avg       1.00      1.00      1.00     44550\n",
      "\n",
      "AUC-ROC Score:0.9995039225363929\n",
      "\n",
      "Test Report: \n",
      "              precision    recall  f1-score   support\n",
      "\n",
      "           0       0.82      0.85      0.84      8098\n",
      "           1       0.81      0.77      0.79      6752\n",
      "\n",
      "    accuracy                           0.82     14850\n",
      "   macro avg       0.82      0.81      0.81     14850\n",
      "weighted avg       0.82      0.82      0.82     14850\n",
      "\n",
      "AUC-ROC Score:0.8939694807184269\n"
     ]
    },
    {
     "data": {
      "image/png": "[encoded data removed]",
      "text/plain": [
       "<Figure size 432x288 with 2 Axes>"
      ]
     },
     "metadata": {
      "needs_background": "light"
     },
     "output_type": "display_data"
    },
    {
     "data": {
      "image/png": "[encoded data removed]",
      "text/plain": [
       "<Figure size 432x288 with 2 Axes>"
      ]
     },
     "metadata": {
      "needs_background": "light"
     },
     "output_type": "display_data"
    }
   ],
   "source": [
    "rf_pipe.run_all(X_train_run=X_train, X_test_run=X_test, y_train_run=y_train, y_test_run=y_test, train_results=True);"
   ]
  },
  {
   "cell_type": "markdown",
   "metadata": {},
   "source": [
    "## SVC"
   ]
  },
  {
   "cell_type": "code",
   "execution_count": 83,
   "metadata": {
    "ExecuteTime": {
     "end_time": "2023-01-04T15:39:51.218740Z",
     "start_time": "2023-01-04T15:39:51.203159Z"
    }
   },
   "outputs": [],
   "source": [
    "SVC_model = Pipeline([\n",
    "    ('ColTrans', ColTrans),\n",
    "    ('SVC', SVC(probability=True, random_state=42))\n",
    "])"
   ]
  },
  {
   "cell_type": "code",
   "execution_count": null,
   "metadata": {
    "ExecuteTime": {
     "start_time": "2023-01-04T15:38:51.957Z"
    }
   },
   "outputs": [],
   "source": [
    "SVC_model.fit(X_train, y_train);"
   ]
  },
  {
   "cell_type": "code",
   "execution_count": null,
   "metadata": {
    "ExecuteTime": {
     "start_time": "2023-01-04T15:38:51.958Z"
    }
   },
   "outputs": [],
   "source": [
    "SVC_pipe = ModelRuns(SVC_model, 'svc', X_train, y_train)"
   ]
  },
  {
   "cell_type": "code",
   "execution_count": null,
   "metadata": {
    "ExecuteTime": {
     "start_time": "2023-01-04T15:38:51.959Z"
    }
   },
   "outputs": [],
   "source": [
    "SVC_pipe.run_all(X_train_run=X_train, X_test_run=X_test, y_train_run=y_train, y_test_run=y_test, train_results=True);"
   ]
  },
  {
   "cell_type": "markdown",
   "metadata": {},
   "source": [
    "## NuSVC"
   ]
  },
  {
   "cell_type": "code",
   "execution_count": null,
   "metadata": {
    "ExecuteTime": {
     "start_time": "2023-01-04T15:38:51.961Z"
    }
   },
   "outputs": [],
   "source": [
    "nu_model = Pipeline([\n",
    "    ('ColTrans', ColTrans),\n",
    "    ('SVC', NuSVC(random_state=42))\n",
    "])"
   ]
  },
  {
   "cell_type": "code",
   "execution_count": null,
   "metadata": {
    "ExecuteTime": {
     "start_time": "2023-01-04T15:38:51.962Z"
    }
   },
   "outputs": [],
   "source": [
    "nu_model.fit(X_train, y_train);"
   ]
  },
  {
   "cell_type": "code",
   "execution_count": null,
   "metadata": {
    "ExecuteTime": {
     "start_time": "2023-01-04T15:38:51.963Z"
    }
   },
   "outputs": [],
   "source": [
    "nu_pipe = ModelRuns(nu_model, 'NuSVC', X_train, y_train)"
   ]
  },
  {
   "cell_type": "code",
   "execution_count": null,
   "metadata": {
    "ExecuteTime": {
     "start_time": "2023-01-04T15:38:51.964Z"
    }
   },
   "outputs": [],
   "source": [
    "nu_pipe.run_all(X_train_run=X_train, X_test_run=X_test, y_train_run=y_train, y_test_run=y_test, train_results=True);"
   ]
  },
  {
   "cell_type": "markdown",
   "metadata": {},
   "source": [
    "## Adaboost"
   ]
  },
  {
   "cell_type": "code",
   "execution_count": null,
   "metadata": {
    "ExecuteTime": {
     "start_time": "2023-01-04T15:38:51.965Z"
    }
   },
   "outputs": [],
   "source": [
    "ada_model = Pipeline([\n",
    "    ('ColTrans', ColTrans),\n",
    "    ('ada', AdaBoostClassifier(random_state=42))\n",
    "])"
   ]
  },
  {
   "cell_type": "code",
   "execution_count": null,
   "metadata": {
    "ExecuteTime": {
     "start_time": "2023-01-04T15:38:51.966Z"
    }
   },
   "outputs": [],
   "source": [
    "ada_model.fit(X_train, y_train);"
   ]
  },
  {
   "cell_type": "code",
   "execution_count": null,
   "metadata": {
    "ExecuteTime": {
     "start_time": "2023-01-04T15:38:51.967Z"
    }
   },
   "outputs": [],
   "source": [
    "ada_pipe = ModelRuns(ada_model, 'ada', X_train, y_train)"
   ]
  },
  {
   "cell_type": "code",
   "execution_count": null,
   "metadata": {
    "ExecuteTime": {
     "start_time": "2023-01-04T15:38:51.968Z"
    }
   },
   "outputs": [],
   "source": [
    "ada_pipe.run_all(X_train_run=X_train, X_test_run=X_test, y_train_run=y_train, y_test_run=y_test, train_results=True);"
   ]
  },
  {
   "cell_type": "markdown",
   "metadata": {},
   "source": [
    "## XGBoost"
   ]
  },
  {
   "cell_type": "code",
   "execution_count": null,
   "metadata": {
    "ExecuteTime": {
     "start_time": "2023-01-04T15:38:51.969Z"
    }
   },
   "outputs": [],
   "source": [
    "xgb_model = Pipeline([\n",
    "    ('ColTrans', ColTrans),\n",
    "    ('xgb', xgboost.XGBClassifier(random_state=42))\n",
    "])"
   ]
  },
  {
   "cell_type": "code",
   "execution_count": null,
   "metadata": {
    "ExecuteTime": {
     "start_time": "2023-01-04T15:38:51.971Z"
    }
   },
   "outputs": [],
   "source": [
    "xgb_model.fit(X_train, y_train);"
   ]
  },
  {
   "cell_type": "code",
   "execution_count": null,
   "metadata": {
    "ExecuteTime": {
     "start_time": "2023-01-04T15:38:51.972Z"
    }
   },
   "outputs": [],
   "source": [
    "xgb_pipe = ModelRuns(xgb_model, 'xgb', X_train, y_train)"
   ]
  },
  {
   "cell_type": "code",
   "execution_count": null,
   "metadata": {
    "ExecuteTime": {
     "start_time": "2023-01-04T15:38:51.973Z"
    }
   },
   "outputs": [],
   "source": [
    "xgb_pipe.run_all(X_train_run=X_train, X_test_run=X_test, y_train_run=y_train, y_test_run=y_test, train_results=True);"
   ]
  },
  {
   "cell_type": "markdown",
   "metadata": {},
   "source": [
    "## XGBoost Random Forest"
   ]
  },
  {
   "cell_type": "code",
   "execution_count": null,
   "metadata": {
    "ExecuteTime": {
     "start_time": "2023-01-04T15:38:51.974Z"
    }
   },
   "outputs": [],
   "source": [
    "xgbrf_model = Pipeline([\n",
    "    ('ColTrans', ColTrans),\n",
    "    ('xgbrf', xgboost.XGBRFClassifier(random_state=42))\n",
    "])"
   ]
  },
  {
   "cell_type": "code",
   "execution_count": null,
   "metadata": {
    "ExecuteTime": {
     "start_time": "2023-01-04T15:38:51.975Z"
    }
   },
   "outputs": [],
   "source": [
    "xgbrf_model.fit(X_train, y_train);"
   ]
  },
  {
   "cell_type": "code",
   "execution_count": null,
   "metadata": {
    "ExecuteTime": {
     "start_time": "2023-01-04T15:38:51.976Z"
    }
   },
   "outputs": [],
   "source": [
    "xgbrf_pipe = ModelRuns(xgbrf_model, 'xgbrf', X_train, y_train)"
   ]
  },
  {
   "cell_type": "code",
   "execution_count": null,
   "metadata": {
    "ExecuteTime": {
     "start_time": "2023-01-04T15:38:51.977Z"
    }
   },
   "outputs": [],
   "source": [
    "xgb_pipe.run_all(X_train_run=X_train, X_test_run=X_test, y_train_run=y_train, y_test_run=y_test, train_results=True);"
   ]
  },
  {
   "cell_type": "markdown",
   "metadata": {},
   "source": [
    "## Stacking Regressor "
   ]
  },
  {
   "cell_type": "code",
   "execution_count": null,
   "metadata": {
    "ExecuteTime": {
     "start_time": "2023-01-04T15:38:51.978Z"
    }
   },
   "outputs": [],
   "source": [
    "estimators = [\n",
    "    ('lr', LogisticRegression(random_state=42, solver='liblinear')), \n",
    "#     ('knn', KNeighborsClassifier()),\n",
    "    ('dtc', DecisionTreeClassifier(random_state=42)),\n",
    "    ('rfc', RandomForestClassifier(random_state=42)),\n",
    "    ('ada', AdaBoostClassifier(random_state=42)),\n",
    "    ('xgb', xgboost.XGBClassifier(random_state=42)),\n",
    "    ('xgbrf', xgboost.XGBRFClassifier(random_state=42))\n",
    "]"
   ]
  },
  {
   "cell_type": "code",
   "execution_count": null,
   "metadata": {
    "ExecuteTime": {
     "start_time": "2023-01-04T15:38:51.979Z"
    }
   },
   "outputs": [],
   "source": [
    "stack_model = Pipeline([\n",
    "    ('ColTrans', ColTrans),\n",
    "    ('stack', StackingClassifier(estimators))\n",
    "])"
   ]
  },
  {
   "cell_type": "code",
   "execution_count": null,
   "metadata": {
    "ExecuteTime": {
     "start_time": "2023-01-04T15:38:51.981Z"
    }
   },
   "outputs": [],
   "source": [
    "stack_model.fit(X_train, y_train);"
   ]
  },
  {
   "cell_type": "code",
   "execution_count": null,
   "metadata": {
    "ExecuteTime": {
     "start_time": "2023-01-04T15:38:51.982Z"
    }
   },
   "outputs": [],
   "source": [
    "stack_pipe = ModelRuns(stack_model, 'stack', X_train, y_train)"
   ]
  },
  {
   "cell_type": "code",
   "execution_count": null,
   "metadata": {
    "ExecuteTime": {
     "start_time": "2023-01-04T15:38:51.983Z"
    }
   },
   "outputs": [],
   "source": [
    "stack_pipe.run_all(X_train_run=X_train, X_test_run=X_test, y_train_run=y_train, y_test_run=y_test, train_results=True);"
   ]
  },
  {
   "cell_type": "markdown",
   "metadata": {},
   "source": [
    "# KMeans and KNN"
   ]
  },
  {
   "cell_type": "markdown",
   "metadata": {
    "ExecuteTime": {
     "end_time": "2023-01-04T06:23:22.917190Z",
     "start_time": "2023-01-04T06:23:22.901965Z"
    }
   },
   "source": [
    "For this method, I utilize unsupervised learning k-means in conjunction with K-Nearest Neighbors. I have a loop to create a table utilizing 1-7 clusters, then separate the predictor data based on the cluster results. I then run K-nearest Neighbors on each of the cluster groupings to determine if clustering helps the dataset. When the number of clusters is set to 1, it is the same as running K-Nearest Neighbors without clustering. \n",
    "\n",
    "The results of the model show that it is more beneficial to skip KMeans Clustering altogether. "
   ]
  },
  {
   "cell_type": "code",
   "execution_count": null,
   "metadata": {
    "ExecuteTime": {
     "start_time": "2023-01-04T15:38:51.984Z"
    }
   },
   "outputs": [],
   "source": [
    "df_names = ['kmeans_0', 'kmeans_1', 'kmeans_2', 'kmeans_3', 'kmeans_4', \n",
    "            'kmeans_5', 'kmeans_6']\n",
    "main_col = ['cluster_group']\n",
    "kmeans_results_df = pd.DataFrame(df_names, columns=main_col)\n",
    "\n",
    "for i in range(1,8):\n",
    "    kmeans_model = Pipeline([\n",
    "        ('ColTrans', ColTrans),\n",
    "        ('kmeans', KMeans(n_clusters=i, random_state=42))\n",
    "    ])\n",
    "    \n",
    "    \n",
    "    # Fitting the model\n",
    "    kmeans_model.fit(X_train, y_train);\n",
    "    \n",
    "    # creating a dataframe for X_train so I can house the cluster data\n",
    "    kmeans_X_train_df = pd.DataFrame(X_train).copy()\n",
    "    \n",
    "    \n",
    "    # predicting data before adding back the target var so there is no data leakage \n",
    "    kmeans_X_train_df['cluster'] = kmeans_model.predict(X_train)\n",
    "\n",
    "    \n",
    "    # adding the target variable back so that I can then separate into dfs based on clusters\n",
    "    kmeans_X_train_df['target'] = y_train.copy()\n",
    "    \n",
    "#     print(kmeans_X_train_df)\n",
    "    \n",
    "    # creating new dataframes based on clusters and storing in a dictionary\n",
    "    kmeans_train_dic = {}\n",
    "    for x in range(i-i, i):\n",
    "#         print(x)\n",
    "#         print(df_names[x])\n",
    "#         print(kmeans_X_train_df[kmeans_X_train_df['cluster'] == x])\n",
    "        kmeans_train_dic[df_names[x]] = kmeans_X_train_df[kmeans_X_train_df['cluster'] == x]\n",
    "\n",
    "        \n",
    "    # need to seperate x, y vars now\n",
    "    y_kmeans_train_dic = {}\n",
    "    for x in range(i-i, i):\n",
    "        y_kmeans_train_dic[df_names[x]] = kmeans_train_dic[df_names[x]].pop('target') \n",
    "        \n",
    "    # creating a dataframe for X_test so I can house the cluster data\n",
    "    kmeans_X_test_df = pd.DataFrame(X_test).copy()\n",
    "    \n",
    "    # predicting data before adding back the target var so there is no data leakage \n",
    "    kmeans_X_test_df['cluster'] = kmeans_model.predict(X_test)\n",
    "    \n",
    "    # adding the target variable back so that I can then separate into dfs based on clusters\n",
    "    kmeans_X_test_df['target'] = y_test.copy()\n",
    "    \n",
    "    \n",
    "    # creating new dataframes based on clusters and storing in a dictionary\n",
    "    kmeans_test_dic = {}\n",
    "    for x in range(i-i, i):\n",
    "#         print(df_names[x])\n",
    "        kmeans_test_dic[df_names[x]] = kmeans_X_test_df[kmeans_X_test_df['cluster'] == x]\n",
    "        \n",
    "    # need to seperate x, y vars now\n",
    "    y_kmeans_test_dic = {}\n",
    "    for x in range(i-i, i):\n",
    "        y_kmeans_test_dic[df_names[x]] = kmeans_test_dic[df_names[x]].pop('target')\n",
    "        \n",
    "#     print(kmeans_train_dic)    \n",
    "#     print(kmeans_test_dic)    \n",
    "        \n",
    "    # It works above this point\n",
    "    # running the knn model on each cluster\n",
    "    knn_model = Pipeline([\n",
    "        ('ColTrans', ColTrans),\n",
    "        ('knn', KNeighborsClassifier())\n",
    "    ])\n",
    "    \n",
    "    # creating a dic to story each fitted model\n",
    "    model_dic = {}\n",
    "    for x in range(0, i):\n",
    "        model_dic[df_names[x]] = knn_model.fit(kmeans_train_dic[df_names[x]], y_kmeans_train_dic[df_names[x]])\n",
    "        \n",
    "    # Creating a dic to store test scores\n",
    "    knn_test_scores = {}\n",
    "    for x in range(0, i):\n",
    "        knn_test_scores[df_names[x]] = model_dic[df_names[x]].score(kmeans_test_dic[df_names[x]], y_kmeans_test_dic[df_names[x]])\n",
    "        \n",
    "    # creating a dataframe to store all test scores\n",
    "#     main_col = ['cluster_group']\n",
    "#     kmeans_results_df = pd.DataFrame(knn_test_scores.keys(), columns=main_col)\n",
    "    \n",
    "    # appending each itteration to df\n",
    "    addition = pd.DataFrame({\n",
    "        f'clusters={i}':  knn_test_scores.values()})\n",
    "    \n",
    "    kmeans_results_df = pd.concat([kmeans_results_df, addition], axis=1)"
   ]
  },
  {
   "cell_type": "code",
   "execution_count": null,
   "metadata": {
    "ExecuteTime": {
     "start_time": "2023-01-04T15:38:51.985Z"
    }
   },
   "outputs": [],
   "source": [
    "kmeans_results_clean = kmeans_results_df.set_index('cluster_group').copy()"
   ]
  },
  {
   "cell_type": "code",
   "execution_count": null,
   "metadata": {},
   "outputs": [],
   "source": [
    "kmeans_results_clean"
   ]
  },
  {
   "cell_type": "code",
   "execution_count": null,
   "metadata": {},
   "outputs": [],
   "source": [
    "for col in kmeans_results_clean.columns:\n",
    "    print(np.mean(kmeans_results_df[col]))"
   ]
  },
  {
   "cell_type": "markdown",
   "metadata": {},
   "source": [
    "## Standard KNN"
   ]
  },
  {
   "cell_type": "code",
   "execution_count": null,
   "metadata": {},
   "outputs": [],
   "source": [
    "knn_model = Pipeline([\n",
    "    ('ColTrans', ColTrans),\n",
    "    ('knn', KNeighborsClassifier())\n",
    "])"
   ]
  },
  {
   "cell_type": "code",
   "execution_count": null,
   "metadata": {},
   "outputs": [],
   "source": [
    "knn_model.fit(X_train, y_train);"
   ]
  },
  {
   "cell_type": "code",
   "execution_count": null,
   "metadata": {},
   "outputs": [],
   "source": [
    "knn_pipe = ModelRuns(knn_model, 'knn', X_train, y_train)"
   ]
  },
  {
   "cell_type": "code",
   "execution_count": null,
   "metadata": {},
   "outputs": [],
   "source": [
    "knn_pipe.run_all(X_train_run=X_train, X_test_run=X_test, y_train_run=y_train, y_test_run=y_test, train_results=True);"
   ]
  },
  {
   "cell_type": "code",
   "execution_count": null,
   "metadata": {},
   "outputs": [],
   "source": []
  },
  {
   "cell_type": "code",
   "execution_count": null,
   "metadata": {},
   "outputs": [],
   "source": []
  },
  {
   "cell_type": "code",
   "execution_count": null,
   "metadata": {},
   "outputs": [],
   "source": []
  },
  {
   "cell_type": "code",
   "execution_count": null,
   "metadata": {},
   "outputs": [],
   "source": [
    "class ModelRuns():\n",
    "    ''' Class to easily run models through and determine output.'''\n",
    "    \n",
    "    def __init__(self, model, model_name, X, y):\n",
    "        self.model = model\n",
    "        self.name = model_name\n",
    "        self.X = X\n",
    "        self.y = y\n",
    "        \n",
    "    def cross_val(self, X=None, y=None, cv=5):\n",
    "        cv_X= X if X else self.X\n",
    "        cv_y = y if y else self.y\n",
    "        self.cv_results = cross_val_score(self.model, cv_X, cv_y, cv=cv)\n",
    "        self.cv_mean = np.mean(self.cv_results)\n",
    "        return print(f\"Cross_val mean is: {round(self.cv_mean, 4)} for kfold: {cv}\")\n",
    "                \n",
    "    def accuracy(self, X, y):\n",
    "        acc = self.model.score(X, y)\n",
    "        \n",
    "    def performance(self, X, y):\n",
    "        y_pred = self.model.predict(X)\n",
    "        report = classification_report(y, y_pred)\n",
    "        return report\n",
    "    \n",
    "    def class_matrix(self, X, y):\n",
    "        mat = plot_confusion_matrix(self.model, X, y);\n",
    "        if X is X_train:\n",
    "            plt.title(\"Train\")\n",
    "        elif X is X_test:\n",
    "            plt.title('Test')\n",
    "        else:\n",
    "            plt.title('Class Matrix')\n",
    "        return mat\n",
    "    \n",
    "    def roc_auc_custom(self, X, y):\n",
    "        y_score = self.model.predict_proba(X)\n",
    "        roc_score = roc_auc_score(y, y_score[:,1])\n",
    "        return roc_score\n",
    "    \n",
    "    def run_all(self, X_train_run=X_train, X_test_run=X_test, y_train_run=y_train, y_test_run=y_test, train_results=True):\n",
    "        if train_results:\n",
    "            y_train_perf = self.performance(X_train_run, y_train_run)\n",
    "            y_train_auc = self.roc_auc_custom(X_train_run, y_train_run)\n",
    "            y_test_perf = self.performance(X_test_run, y_test_run)\n",
    "            y_test_auc = self.roc_auc_custom(X_test_run, y_test_run)\n",
    "            train_matrix = self.class_matrix(X_train_run, y_train_run)\n",
    "            test_matrix = self.class_matrix(X_test_run, y_test_run)\n",
    "            return print(f\"Train Report: \\n{y_train_perf}\\nROC-AUC Score:{y_train_auc}\\n\"), \\\n",
    "            print(f\"Test Report: \\n{y_test_perf}\\nROC-AUC Score:{y_test_auc}\")\n",
    "        else:\n",
    "            y_test_perf = self.performance(X_test_run, y_test_run)\n",
    "            test_matrix = self.class_matrix(X_test_run, y_test_run)\n",
    "            return print(f\"Test Report: \\n{y_test_perf}\")"
   ]
  }
 ],
 "metadata": {
  "kernelspec": {
   "display_name": "Python (learn-env)",
   "language": "python",
   "name": "learn-env"
  },
  "language_info": {
   "codemirror_mode": {
    "name": "ipython",
    "version": 3
   },
   "file_extension": ".py",
   "mimetype": "text/x-python",
   "name": "python",
   "nbconvert_exporter": "python",
   "pygments_lexer": "ipython3",
   "version": "3.8.5"
  },
  "toc": {
   "base_numbering": 1,
   "nav_menu": {},
   "number_sections": true,
   "sideBar": true,
   "skip_h1_title": false,
   "title_cell": "Table of Contents",
   "title_sidebar": "Contents",
   "toc_cell": false,
   "toc_position": {},
   "toc_section_display": true,
   "toc_window_display": false
  },
  "varInspector": {
   "cols": {
    "lenName": 16,
    "lenType": 16,
    "lenVar": 40
   },
   "kernels_config": {
    "python": {
     "delete_cmd_postfix": "",
     "delete_cmd_prefix": "del ",
     "library": "var_list.py",
     "varRefreshCmd": "print(var_dic_list())"
    },
    "r": {
     "delete_cmd_postfix": ") ",
     "delete_cmd_prefix": "rm(",
     "library": "var_list.r",
     "varRefreshCmd": "cat(var_dic_list()) "
    }
   },
   "position": {
    "height": "379.844px",
    "left": "1637px",
    "right": "20px",
    "top": "120px",
    "width": "263px"
   },
   "types_to_exclude": [
    "module",
    "function",
    "builtin_function_or_method",
    "instance",
    "_Feature"
   ],
   "window_display": false
  }
 },
 "nbformat": 4,
 "nbformat_minor": 4
}
