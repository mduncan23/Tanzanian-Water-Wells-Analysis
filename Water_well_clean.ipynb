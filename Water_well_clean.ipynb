{
 "cells": [
  {
   "cell_type": "markdown",
   "metadata": {},
   "source": [
    "# Tanzanian Water Wells"
   ]
  },
  {
   "cell_type": "markdown",
   "metadata": {},
   "source": [
    "## Overview"
   ]
  },
  {
   "cell_type": "markdown",
   "metadata": {},
   "source": [
    "Tanzania struggles with providing clean water to the people of its country. The goal of this analysis is to use data from existing wells throughout the country to identify the wells in need of repair. "
   ]
  },
  {
   "cell_type": "markdown",
   "metadata": {},
   "source": [
    "This analysis is focused on assisting the Tanzanian Government reduce resources spent to identify water wells that are in need of repair to ensure that clean water is available to its citizens. "
   ]
  },
  {
   "cell_type": "markdown",
   "metadata": {},
   "source": [
    "**Important Note:** Due to the runtime of some models in this notebook, the code has been commented out. I have included screenshots of the model results in each section with code that has been commented out but have kept the code to better show the steps taken to reach my end results.\n",
    "\n",
    "If you are looking to run the entire notebook, including the models that require intense processing and time commitments, please head down to the 'Modeling' section and uncomment the code first."
   ]
  },
  {
   "cell_type": "markdown",
   "metadata": {},
   "source": [
    "# Import Libraries and Data "
   ]
  },
  {
   "cell_type": "code",
   "execution_count": 56,
   "metadata": {
    "ExecuteTime": {
     "end_time": "2023-01-03T17:24:30.601223Z",
     "start_time": "2023-01-03T17:24:30.590127Z"
    }
   },
   "outputs": [],
   "source": [
    "import numpy as np\n",
    "import pandas as pd\n",
    "import matplotlib.pyplot as plt\n",
    "import seaborn as sns\n",
    "\n",
    "from sklearn.base import BaseEstimator, TransformerMixin\n",
    "\n",
    "from sklearn.preprocessing import StandardScaler, OneHotEncoder, \\\n",
    "FunctionTransformer, normalize, PolynomialFeatures, LabelEncoder\n",
    "\n",
    "from sklearn.linear_model import LinearRegression, LogisticRegression, \\\n",
    "Ridge, Lasso, ElasticNet, LassoCV, RidgeCV, ElasticNetCV\n",
    "\n",
    "from sklearn.model_selection import train_test_split, cross_validate,\\\n",
    "KFold, cross_val_score, ShuffleSplit, RandomizedSearchCV, GridSearchCV\n",
    "\n",
    "from sklearn.metrics import mean_squared_error, make_scorer, log_loss, \\\n",
    "confusion_matrix, plot_confusion_matrix, precision_score, recall_score, \\\n",
    "accuracy_score, f1_score, roc_curve, roc_auc_score, classification_report, auc, plot_roc_curve\n",
    "\n",
    "from sklearn.dummy import DummyRegressor, DummyClassifier\n",
    "\n",
    "from sklearn.utils import resample\n",
    "\n",
    "from sklearn.impute import MissingIndicator, SimpleImputer\n",
    "\n",
    "from sklearn.feature_selection import SelectFromModel\n",
    "\n",
    "from sklearn.tree import DecisionTreeClassifier, DecisionTreeRegressor, plot_tree\n",
    "\n",
    "from sklearn import tree\n",
    "\n",
    "from sklearn.neighbors import KNeighborsClassifier, NearestNeighbors\n",
    "\n",
    "from scipy import stats\n",
    "from sklearn.naive_bayes import MultinomialNB, GaussianNB\n",
    "\n",
    "from sklearn.pipeline import Pipeline\n",
    "\n",
    "from sklearn.compose import ColumnTransformer,  make_column_selector as selector\n",
    "\n",
    "from sklearn.ensemble import BaggingClassifier, RandomForestClassifier\n",
    "\n",
    "from sklearn.ensemble import BaggingClassifier, RandomForestClassifier, \\\n",
    "ExtraTreesClassifier, VotingClassifier, StackingRegressor, StackingClassifier\n",
    "\n",
    "from sklearn.ensemble import AdaBoostClassifier, GradientBoostingClassifier\n",
    "\n",
    "from sklearn.svm import SVC, NuSVC\n",
    "\n",
    "import xgboost\n",
    "\n",
    "from imblearn.over_sampling import SMOTE\n",
    "from imblearn.under_sampling import RandomUnderSampler\n",
    "from imblearn.pipeline import Pipeline as ImPipeline\n",
    "\n",
    "%matplotlib inline\n"
   ]
  },
  {
   "cell_type": "markdown",
   "metadata": {},
   "source": [
    "The data was provided by DrivenData.org in partnership with Taarifa who aggregated the data from the Tanzanian Ministry of Water."
   ]
  },
  {
   "cell_type": "code",
   "execution_count": 2,
   "metadata": {
    "ExecuteTime": {
     "end_time": "2023-01-03T16:51:27.644049Z",
     "start_time": "2023-01-03T16:51:27.471169Z"
    }
   },
   "outputs": [],
   "source": [
    "X_data_df = pd.read_csv('data/x_data.csv')\n",
    "y_data_df = pd.read_csv('data/target_data.csv')"
   ]
  },
  {
   "cell_type": "markdown",
   "metadata": {},
   "source": [
    "# Data Understanding and Preparation"
   ]
  },
  {
   "cell_type": "markdown",
   "metadata": {},
   "source": [
    "To better understand the data, I have reviewed the features and separated them into numerical and categorical feature types:\n",
    "\n",
    "**Numerical:**\n",
    "- `id` - Unique identifier\n",
    "- `amount_tsh` - Total static head (amount water available to waterpoint)\n",
    "- `gps_height` - Altitude of the well\n",
    "- `longitude` - GPS coordinate\n",
    "- `latitude` - GPS coordinate\n",
    "- `num_private` - Number private\n",
    "- `population` - Population around the well\n",
    "- `construction_year` - Year the waterpoint was constructed\n",
    "\n",
    "**Categorical:**\n",
    "- `installer` - Organization that installed the well\n",
    "- `wpt_name` - Name of the waterpoint if there is one\n",
    "- `basin` - Geographic water basin\n",
    "- `subvillage` - Geographic location\n",
    "- `lga` - Geographic location\n",
    "- `ward` - Geographic location\n",
    "- `public_meeting` - True/False\n",
    "- `scheme_management` - Who operates the waterpoint\n",
    "- `permit` - If the waterpoint is permitted\n",
    "- `extraction_type` - The kind of extraction the waterpoint uses\n",
    "- `extraction_type_group` - The kind of extraction the waterpoint uses\n",
    "- `extraction_type_class` - The kind of extraction the waterpoint uses\n",
    "- `management` - How the waterpoint is managed\n",
    "- `management_group` - How the waterpoint is managed\n",
    "- `payment` - What the water costs\n",
    "- `payment_type` - What the water costs\n",
    "- `water_quality` - The quality of the water\n",
    "- `quality_group` - The quality of the water\n",
    "- `quantity` - The quantity of water\n",
    "- `quantity_group` - The quantity of water\n",
    "- `source` - The source of the water\n",
    "- `source_type` - The source of the water\n",
    "- `source_class` - The source of the water\n",
    "- `waterpoint_type` - The kind of waterpoint\n",
    "- `waterpoint_type_group` - The kind of waterpoint\n",
    "- `region_code` - Geographic location (coded)\n",
    "- `district_code` - Geographic location (coded)\n",
    "- `scheme_name` - Who operates the waterpoint \n",
    "- `date_recorded` - The date the row was entered\n",
    "- `funder` - Who funded the well\n",
    "- `region` - Geographic location\n",
    "- `recorded_by` - Group entering this row of data\n",
    "- `target` - The current status of the waterpoint"
   ]
  },
  {
   "cell_type": "markdown",
   "metadata": {},
   "source": [
    "The dataset used for this analysis has 40 features (including the target feature), and 59,400 rows of data. The target feature is separated into three classifications:\n",
    "\n",
    "- 0 = Functional\n",
    "- 1 = Functional Needs Repair\n",
    "- 2 = Non-Functional"
   ]
  },
  {
   "cell_type": "markdown",
   "metadata": {},
   "source": [
    "## Label Encode Target Variables"
   ]
  },
  {
   "cell_type": "markdown",
   "metadata": {},
   "source": [
    "To better define the status of each well for this analysis, I have set up a binary system for the wells:\n",
    "- 0 = Functional\n",
    "- 1 = Needs Repair"
   ]
  },
  {
   "cell_type": "code",
   "execution_count": 3,
   "metadata": {
    "ExecuteTime": {
     "end_time": "2023-01-03T16:51:28.897106Z",
     "start_time": "2023-01-03T16:51:28.879225Z"
    }
   },
   "outputs": [],
   "source": [
    "y_encoded = pd.DataFrame(LabelEncoder().fit_transform(y_data_df['status_group']))"
   ]
  },
  {
   "cell_type": "code",
   "execution_count": 4,
   "metadata": {
    "ExecuteTime": {
     "end_time": "2023-01-03T16:51:29.600591Z",
     "start_time": "2023-01-03T16:51:29.591674Z"
    }
   },
   "outputs": [
    {
     "data": {
      "text/plain": [
       "0    0.543081\n",
       "2    0.384242\n",
       "1    0.072677\n",
       "dtype: float64"
      ]
     },
     "execution_count": 4,
     "metadata": {},
     "output_type": "execute_result"
    }
   ],
   "source": [
    "y_encoded.value_counts(normalize=True)"
   ]
  },
  {
   "cell_type": "code",
   "execution_count": 5,
   "metadata": {
    "ExecuteTime": {
     "end_time": "2023-01-03T16:51:31.037889Z",
     "start_time": "2023-01-03T16:51:31.023912Z"
    }
   },
   "outputs": [],
   "source": [
    "y_encoded = y_encoded.replace(2, 1)"
   ]
  },
  {
   "cell_type": "code",
   "execution_count": 6,
   "metadata": {
    "ExecuteTime": {
     "end_time": "2023-01-03T16:51:31.208917Z",
     "start_time": "2023-01-03T16:51:31.191056Z"
    }
   },
   "outputs": [
    {
     "data": {
      "text/plain": [
       "0    0.543081\n",
       "1    0.456919\n",
       "dtype: float64"
      ]
     },
     "execution_count": 6,
     "metadata": {},
     "output_type": "execute_result"
    }
   ],
   "source": [
    "y_encoded.value_counts(normalize=True)"
   ]
  },
  {
   "cell_type": "markdown",
   "metadata": {},
   "source": [
    "We can see that the data has a relatively even distribution. As such, we will not need to use any over sampling or under sampling techniques to get an even representation between the classifications."
   ]
  },
  {
   "cell_type": "markdown",
   "metadata": {},
   "source": [
    "## Bringing the Data Together"
   ]
  },
  {
   "cell_type": "markdown",
   "metadata": {},
   "source": [
    "When running machine learning algorithms, its important to separate the predictor and target variables in order to train the model. The provided data is already separate, but in order to clean the data, I will be dropping a few rows that have missing information. \n",
    "\n",
    "To ensure that the predictor and target variables are still in line, I need to combine the datasets before dropping any rows with missing information."
   ]
  },
  {
   "cell_type": "code",
   "execution_count": 7,
   "metadata": {
    "ExecuteTime": {
     "end_time": "2023-01-03T16:51:32.471863Z",
     "start_time": "2023-01-03T16:51:32.454863Z"
    }
   },
   "outputs": [],
   "source": [
    "df = pd.concat([X_data_df, y_encoded], axis=1)"
   ]
  },
  {
   "cell_type": "code",
   "execution_count": 8,
   "metadata": {
    "ExecuteTime": {
     "end_time": "2023-01-03T16:51:33.933315Z",
     "start_time": "2023-01-03T16:51:33.926804Z"
    }
   },
   "outputs": [],
   "source": [
    "# Giving the target column a name\n",
    "df.rename(mapper={0:'target'}, axis=1, inplace=True)"
   ]
  },
  {
   "cell_type": "code",
   "execution_count": 9,
   "metadata": {
    "ExecuteTime": {
     "end_time": "2023-01-03T16:51:34.900184Z",
     "start_time": "2023-01-03T16:51:34.847852Z"
    }
   },
   "outputs": [
    {
     "name": "stdout",
     "output_type": "stream",
     "text": [
      "<class 'pandas.core.frame.DataFrame'>\n",
      "RangeIndex: 59400 entries, 0 to 59399\n",
      "Data columns (total 41 columns):\n",
      " #   Column                 Non-Null Count  Dtype  \n",
      "---  ------                 --------------  -----  \n",
      " 0   id                     59400 non-null  int64  \n",
      " 1   amount_tsh             59400 non-null  float64\n",
      " 2   date_recorded          59400 non-null  object \n",
      " 3   funder                 55765 non-null  object \n",
      " 4   gps_height             59400 non-null  int64  \n",
      " 5   installer              55745 non-null  object \n",
      " 6   longitude              59400 non-null  float64\n",
      " 7   latitude               59400 non-null  float64\n",
      " 8   wpt_name               59400 non-null  object \n",
      " 9   num_private            59400 non-null  int64  \n",
      " 10  basin                  59400 non-null  object \n",
      " 11  subvillage             59029 non-null  object \n",
      " 12  region                 59400 non-null  object \n",
      " 13  region_code            59400 non-null  int64  \n",
      " 14  district_code          59400 non-null  int64  \n",
      " 15  lga                    59400 non-null  object \n",
      " 16  ward                   59400 non-null  object \n",
      " 17  population             59400 non-null  int64  \n",
      " 18  public_meeting         56066 non-null  object \n",
      " 19  recorded_by            59400 non-null  object \n",
      " 20  scheme_management      55523 non-null  object \n",
      " 21  scheme_name            31234 non-null  object \n",
      " 22  permit                 56344 non-null  object \n",
      " 23  construction_year      59400 non-null  int64  \n",
      " 24  extraction_type        59400 non-null  object \n",
      " 25  extraction_type_group  59400 non-null  object \n",
      " 26  extraction_type_class  59400 non-null  object \n",
      " 27  management             59400 non-null  object \n",
      " 28  management_group       59400 non-null  object \n",
      " 29  payment                59400 non-null  object \n",
      " 30  payment_type           59400 non-null  object \n",
      " 31  water_quality          59400 non-null  object \n",
      " 32  quality_group          59400 non-null  object \n",
      " 33  quantity               59400 non-null  object \n",
      " 34  quantity_group         59400 non-null  object \n",
      " 35  source                 59400 non-null  object \n",
      " 36  source_type            59400 non-null  object \n",
      " 37  source_class           59400 non-null  object \n",
      " 38  waterpoint_type        59400 non-null  object \n",
      " 39  waterpoint_type_group  59400 non-null  object \n",
      " 40  target                 59400 non-null  int32  \n",
      "dtypes: float64(3), int32(1), int64(7), object(30)\n",
      "memory usage: 18.4+ MB\n"
     ]
    }
   ],
   "source": [
    "df.info()"
   ]
  },
  {
   "cell_type": "markdown",
   "metadata": {},
   "source": [
    "## Dropping Columns"
   ]
  },
  {
   "cell_type": "markdown",
   "metadata": {},
   "source": [
    "To ensure that we are reducing the noise in the dataset while simultaneously being cognizant of computing time, we are removing a few columns that are not relevant to this analysis:\n",
    "\n",
    "- `scheme_name` - Who operates the waterpoint.\n",
    "    - This feature is missing a lot of data and the operator of the well should no impact the functionality of the well.\n",
    "- `id` - A unique identifier number for each well.\n",
    "    - The id code will not impact the well's functionality.\n",
    "- `date_recorded` - The date the row was entered.\n",
    "    - This is just data for when the information was recorded. This shouldn't have an effect on the well's functionality. \n",
    "- `region` - Geographic location.\n",
    "    - The regional location of the well is already recorded through the feature `region_code`.\n",
    "- `funder` - Who funded the well.\n",
    "    - Who paid for the well should not impact the functionality of the well.\n",
    "- `recorded_by` - Group entering this row of data.\n",
    "    - The group who's taking notes on the wells would not affect the data itself.\n",
    "- `wpt_name` - Name of the waterpoint if there is one.\n",
    "    - Similar to `id`, the name of the waterpoint should not affect the functionality."
   ]
  },
  {
   "cell_type": "code",
   "execution_count": 10,
   "metadata": {
    "ExecuteTime": {
     "end_time": "2023-01-03T16:51:39.320012Z",
     "start_time": "2023-01-03T16:51:39.302952Z"
    }
   },
   "outputs": [],
   "source": [
    "cols_to_drop = ['scheme_name', 'id', 'date_recorded', 'region', 'funder', 'recorded_by'\n",
    "                , 'wpt_name', 'subvillage']\n",
    "df_dropped = df.drop(cols_to_drop, axis=1)"
   ]
  },
  {
   "cell_type": "markdown",
   "metadata": {},
   "source": [
    "adding in wpt name and subvillage cause there's a billion unique values and ohe is huge\n",
    "maybe also add ward if still taking forever\n",
    "and if stilllll taking forever add installer but that might have an actual affect..."
   ]
  },
  {
   "cell_type": "markdown",
   "metadata": {},
   "source": [
    "## Addressing Missing Values"
   ]
  },
  {
   "cell_type": "markdown",
   "metadata": {},
   "source": [
    "The `subvillage` feature is only missing data for 371 rows and it has 19,287 unique values. With the wide range of unique values and relatively little information missing, I will just drop those rows from the dataset.\n",
    "\n",
    "The remaining features will have their information imputed based on the most frequent value in each category. I have decided to impute rather than drop the rows because each of the remaining features with missing values has a clearly identified 'most frequent' unique value. Also, in order to maintain the size and integrity of the dataset.\n",
    "\n",
    "In order to avoid potential data leakage from imputing these values, they will be replaced later in this analysis through a pipeline after splitting training and test data."
   ]
  },
  {
   "cell_type": "code",
   "execution_count": null,
   "metadata": {},
   "outputs": [],
   "source": [
    "df_dropped.nunique()"
   ]
  },
  {
   "cell_type": "code",
   "execution_count": null,
   "metadata": {},
   "outputs": [],
   "source": [
    "df_dropped.isna().sum()"
   ]
  },
  {
   "cell_type": "code",
   "execution_count": 11,
   "metadata": {
    "ExecuteTime": {
     "end_time": "2023-01-03T16:51:39.739411Z",
     "start_time": "2023-01-03T16:51:39.718517Z"
    }
   },
   "outputs": [],
   "source": [
    "df_dropped = df_dropped.dropna(subset=['subvillage'])"
   ]
  },
  {
   "cell_type": "markdown",
   "metadata": {},
   "source": [
    "## Column Dtypes"
   ]
  },
  {
   "cell_type": "markdown",
   "metadata": {},
   "source": [
    "This dataset contains a wide variety of informational types. For the purpose of this analysis, I have recategorized two features from numerical types to categorical:\n",
    "\n",
    "- `region_code`: A codified descriptor for the waterpoint's region.\n",
    "- `district_code`: A codified descriptor for the waterpoint's district."
   ]
  },
  {
   "cell_type": "code",
   "execution_count": 13,
   "metadata": {
    "ExecuteTime": {
     "end_time": "2023-01-03T16:51:40.953886Z",
     "start_time": "2023-01-03T16:51:40.919311Z"
    }
   },
   "outputs": [
    {
     "name": "stdout",
     "output_type": "stream",
     "text": [
      "<class 'pandas.core.frame.DataFrame'>\n",
      "Int64Index: 59029 entries, 0 to 59399\n",
      "Data columns (total 35 columns):\n",
      " #   Column                 Non-Null Count  Dtype  \n",
      "---  ------                 --------------  -----  \n",
      " 0   amount_tsh             59029 non-null  float64\n",
      " 1   gps_height             59029 non-null  int64  \n",
      " 2   installer              55374 non-null  object \n",
      " 3   longitude              59029 non-null  float64\n",
      " 4   latitude               59029 non-null  float64\n",
      " 5   wpt_name               59029 non-null  object \n",
      " 6   num_private            59029 non-null  int64  \n",
      " 7   basin                  59029 non-null  object \n",
      " 8   subvillage             59029 non-null  object \n",
      " 9   region_code            59029 non-null  int64  \n",
      " 10  district_code          59029 non-null  int64  \n",
      " 11  lga                    59029 non-null  object \n",
      " 12  ward                   59029 non-null  object \n",
      " 13  population             59029 non-null  int64  \n",
      " 14  public_meeting         55696 non-null  object \n",
      " 15  scheme_management      55160 non-null  object \n",
      " 16  permit                 55973 non-null  object \n",
      " 17  construction_year      59029 non-null  int64  \n",
      " 18  extraction_type        59029 non-null  object \n",
      " 19  extraction_type_group  59029 non-null  object \n",
      " 20  extraction_type_class  59029 non-null  object \n",
      " 21  management             59029 non-null  object \n",
      " 22  management_group       59029 non-null  object \n",
      " 23  payment                59029 non-null  object \n",
      " 24  payment_type           59029 non-null  object \n",
      " 25  water_quality          59029 non-null  object \n",
      " 26  quality_group          59029 non-null  object \n",
      " 27  quantity               59029 non-null  object \n",
      " 28  quantity_group         59029 non-null  object \n",
      " 29  source                 59029 non-null  object \n",
      " 30  source_type            59029 non-null  object \n",
      " 31  source_class           59029 non-null  object \n",
      " 32  waterpoint_type        59029 non-null  object \n",
      " 33  waterpoint_type_group  59029 non-null  object \n",
      " 34  target                 59029 non-null  int32  \n",
      "dtypes: float64(3), int32(1), int64(6), object(25)\n",
      "memory usage: 16.0+ MB\n"
     ]
    }
   ],
   "source": [
    "df_dropped.info()"
   ]
  },
  {
   "cell_type": "code",
   "execution_count": 14,
   "metadata": {
    "ExecuteTime": {
     "end_time": "2023-01-03T16:51:43.129020Z",
     "start_time": "2023-01-03T16:51:43.118274Z"
    }
   },
   "outputs": [],
   "source": [
    "to_object = ['region_code', 'district_code']\n",
    "df_clean = df_dropped.copy()\n",
    "\n",
    "for obj in to_object:\n",
    "    df_clean[obj] = df_clean[obj].astype(object)"
   ]
  },
  {
   "cell_type": "markdown",
   "metadata": {},
   "source": [
    "We now have perfectly clean data with no data leakage:\n",
    "\n",
    "- The target variable has been Label Encoded.\n",
    "- Dropped irrelevant columns.\n",
    "- Dropped rows with missing data for `subvillage`.\n",
    "- Column Dtypes have been reassigned for categorical columns."
   ]
  },
  {
   "cell_type": "markdown",
   "metadata": {},
   "source": [
    "## Separating the Data"
   ]
  },
  {
   "cell_type": "markdown",
   "metadata": {},
   "source": [
    "Now that the dataset has been cleaned we can begin the final preparations before beginning modeling. First, we need to separate the predictor and target variables again, then split the data into training and test groups."
   ]
  },
  {
   "cell_type": "code",
   "execution_count": 16,
   "metadata": {
    "ExecuteTime": {
     "end_time": "2023-01-03T16:51:46.736215Z",
     "start_time": "2023-01-03T16:51:46.726538Z"
    }
   },
   "outputs": [],
   "source": [
    "y = df_clean['target']\n",
    "X = df_clean.drop(['target'], axis =1)"
   ]
  },
  {
   "cell_type": "code",
   "execution_count": 17,
   "metadata": {
    "ExecuteTime": {
     "end_time": "2023-01-03T16:51:47.378124Z",
     "start_time": "2023-01-03T16:51:47.342749Z"
    }
   },
   "outputs": [],
   "source": [
    "X_train, X_test, y_train, y_test = train_test_split(X, y, random_state=42)"
   ]
  },
  {
   "cell_type": "markdown",
   "metadata": {},
   "source": [
    "## Setting up Pipelines"
   ]
  },
  {
   "cell_type": "markdown",
   "metadata": {},
   "source": [
    "To streamline the analysis, reduce the potential for data leakage, and ensure that all preprocessing steps are completed with each model, I have set up a pipeline. The pipeline begins by separating the numerical data from the categorical data, once separate, the two types of data can undergo their respective preprocessing.\n",
    "\n",
    "- Numerical Data:\n",
    "    - The columns for numerical data or not missing any values so there is no need to include an imputer.\n",
    "    - Standard Scaler is being utilized to standardize and scale all numerical data.\n",
    "\n",
    "- Categorical Data:\n",
    "    - SimpleImputer is being utilized to fill missing data in the categorical columns based on the most frequent value within that column. A 'missing' indicator is in place to help identify that the data was not originally found within the dataset.\n",
    "    - OneHotEncoding is being utilized to convert the categorical information to a binary system for modeling. "
   ]
  },
  {
   "cell_type": "code",
   "execution_count": 21,
   "metadata": {
    "ExecuteTime": {
     "end_time": "2023-01-03T16:56:42.654187Z",
     "start_time": "2023-01-03T16:56:42.652176Z"
    }
   },
   "outputs": [],
   "source": [
    "num_pipe = Pipeline([\n",
    "    ('ss', StandardScaler())\n",
    "])"
   ]
  },
  {
   "cell_type": "code",
   "execution_count": 22,
   "metadata": {
    "ExecuteTime": {
     "end_time": "2023-01-03T16:56:44.165964Z",
     "start_time": "2023-01-03T16:56:44.163963Z"
    }
   },
   "outputs": [],
   "source": [
    "cat_pipe = Pipeline([\n",
    "    ('cat_impute', SimpleImputer(strategy='most_frequent', add_indicator=True)),\n",
    "    ('ohe', OneHotEncoder(sparse=False, handle_unknown='ignore'))\n",
    "])"
   ]
  },
  {
   "cell_type": "code",
   "execution_count": 23,
   "metadata": {
    "ExecuteTime": {
     "end_time": "2023-01-03T16:56:44.382879Z",
     "start_time": "2023-01-03T16:56:44.380232Z"
    }
   },
   "outputs": [],
   "source": [
    "ColTrans = ColumnTransformer(transformers=[\n",
    "    ('num_pipe', num_pipe, selector(dtype_include=np.number)),\n",
    "    ('cat_pipe', cat_pipe, selector(dtype_include=object))\n",
    "], remainder='passthrough')"
   ]
  },
  {
   "cell_type": "markdown",
   "metadata": {},
   "source": [
    "# Modeling"
   ]
  },
  {
   "cell_type": "markdown",
   "metadata": {},
   "source": [
    "## First Simple Model"
   ]
  },
  {
   "cell_type": "markdown",
   "metadata": {},
   "source": [
    "To begin analysis of the data, I have set up a first simple model to compare later models to. This is the bare minimum model that predicts that the most frequent target variable is the answer for all inputs. \n",
    "\n",
    "The first simple model has an accuracy of .535. "
   ]
  },
  {
   "cell_type": "code",
   "execution_count": 24,
   "metadata": {
    "ExecuteTime": {
     "end_time": "2023-01-03T16:58:51.241502Z",
     "start_time": "2023-01-03T16:58:51.239497Z"
    }
   },
   "outputs": [],
   "source": [
    "dummy_model = Pipeline([\n",
    "    ('ColTrans', ColTrans),\n",
    "    ('dummy', DummyClassifier(strategy='most_frequent', random_state=42))\n",
    "])"
   ]
  },
  {
   "cell_type": "code",
   "execution_count": 26,
   "metadata": {
    "ExecuteTime": {
     "end_time": "2023-01-03T16:59:28.360490Z",
     "start_time": "2023-01-03T16:59:17.214343Z"
    }
   },
   "outputs": [],
   "source": [
    "dummy_model.fit(X_train, y_train);"
   ]
  },
  {
   "cell_type": "code",
   "execution_count": 27,
   "metadata": {
    "ExecuteTime": {
     "end_time": "2023-01-03T16:59:30.751168Z",
     "start_time": "2023-01-03T16:59:30.742602Z"
    }
   },
   "outputs": [
    {
     "data": {
      "text/plain": [
       "0    0.534964\n",
       "1    0.465036\n",
       "Name: target, dtype: float64"
      ]
     },
     "execution_count": 27,
     "metadata": {},
     "output_type": "execute_result"
    }
   ],
   "source": [
    "y_test.value_counts(normalize=True)"
   ]
  },
  {
   "cell_type": "code",
   "execution_count": 28,
   "metadata": {
    "ExecuteTime": {
     "end_time": "2023-01-03T16:59:33.475567Z",
     "start_time": "2023-01-03T16:59:31.478450Z"
    }
   },
   "outputs": [
    {
     "data": {
      "text/plain": [
       "0.5349640872746985"
      ]
     },
     "execution_count": 28,
     "metadata": {},
     "output_type": "execute_result"
    }
   ],
   "source": [
    "dummy_model.score(X_test, y_test)"
   ]
  },
  {
   "cell_type": "markdown",
   "metadata": {},
   "source": [
    "## Baseline Models"
   ]
  },
  {
   "cell_type": "markdown",
   "metadata": {},
   "source": [
    "Now that the first simple model has been established, I need to create baseline models for each of the Machine Learning Algorithms I plan to use. These baseline models will act as a benchmark as I later tune the hyperparameters to try and improve the model results."
   ]
  },
  {
   "cell_type": "markdown",
   "metadata": {},
   "source": [
    "I will use the following methods during this analysis:\n",
    "   - Logistic Regression\n",
    "   - K-Nearest Neighbors\n",
    "   - Decision Trees\n",
    "   - Random Forests\n",
    "   - C-Support Vector Classification (SVC)\n",
    "   - Nu-Support Vector Classification (NuSVC)\n",
    "   - Adaboost\n",
    "   - Xgboost\n",
    "   - Ensemble Methods"
   ]
  },
  {
   "cell_type": "markdown",
   "metadata": {},
   "source": [
    "### Helper Class"
   ]
  },
  {
   "cell_type": "markdown",
   "metadata": {},
   "source": [
    "Since I will be running multiple models throughout the analysis, I have created a helper function to streamline the process."
   ]
  },
  {
   "cell_type": "code",
   "execution_count": 42,
   "metadata": {
    "ExecuteTime": {
     "end_time": "2023-01-03T17:08:19.362238Z",
     "start_time": "2023-01-03T17:08:19.356842Z"
    }
   },
   "outputs": [],
   "source": [
    "class ModelRuns():\n",
    "    ''' Class to easily run models through and determine output.'''\n",
    "    \n",
    "    def __init__(self, model, model_name, X, y):\n",
    "        self.model = model\n",
    "        self.name = model_name\n",
    "        self.X = X\n",
    "        self.y = y\n",
    "        \n",
    "    def cross_val(self, X=None, y=None, cv=5):\n",
    "        cv_X= X if X else self.X\n",
    "        cv_y = y if y else self.y\n",
    "        self.cv_results = cross_val_score(self.model, cv_X, cv_y, cv=cv)\n",
    "        self.cv_mean = np.mean(self.cv_results)\n",
    "        return print(f\"Cross_val mean is: {round(self.cv_mean, 4)} for kfold: {cv}\")\n",
    "                \n",
    "    def accuracy(self, X, y):\n",
    "        acc = self.model.score(X, y)\n",
    "        \n",
    "    def performance(self, X, y):\n",
    "        y_pred = self.model.predict(X)\n",
    "        report = classification_report(y, y_pred)\n",
    "        return report\n",
    "    \n",
    "    def class_matrix(self, X, y):\n",
    "        mat = plot_confusion_matrix(self.model, X, y);\n",
    "        if X is X_train:\n",
    "            plt.title(\"Train\")\n",
    "        elif X is X_test:\n",
    "            plt.title('Test')\n",
    "        else:\n",
    "            plt.title('Class Matrix')\n",
    "        return mat\n",
    "    \n",
    "    def run_all(self, X_train_run=X_train, X_test_run=X_test, y_train_run=y_train, y_test_run=y_test, train_results=True):\n",
    "        if train_results:\n",
    "            y_train_perf = self.performance(X_train_run, y_train_run)\n",
    "            y_test_perf = self.performance(X_test_run, y_test_run)\n",
    "            train_matrix = self.class_matrix(X_train_run, y_train_run)\n",
    "            test_matrix = self.class_matrix(X_test_run, y_test_run)\n",
    "            return print(f\"Train Report: \\n{y_train_perf}\\n\\n\"), print(f\"Test Report: \\n{y_test_perf}\")\n",
    "        else:\n",
    "            y_test_perf = self.performance(X_test_run, y_test_run)\n",
    "            test_matrix = self.class_matrix(X_test_run, y_test_run)\n",
    "            return print(f\"Test Report: \\n{y_test_perf}\")"
   ]
  },
  {
   "cell_type": "code",
   "execution_count": 43,
   "metadata": {
    "ExecuteTime": {
     "end_time": "2023-01-03T17:08:19.551080Z",
     "start_time": "2023-01-03T17:08:19.548863Z"
    }
   },
   "outputs": [],
   "source": [
    "dummy_runs = ModelRuns(dummy_model, 'dummy', X_train, y_train)"
   ]
  },
  {
   "cell_type": "code",
   "execution_count": 33,
   "metadata": {
    "ExecuteTime": {
     "end_time": "2023-01-03T17:05:04.742558Z",
     "start_time": "2023-01-03T17:04:55.715669Z"
    }
   },
   "outputs": [
    {
     "name": "stdout",
     "output_type": "stream",
     "text": [
      "              precision    recall  f1-score   support\n",
      "\n",
      "           0       0.55      1.00      0.71     24159\n",
      "           1       0.00      0.00      0.00     20112\n",
      "\n",
      "    accuracy                           0.55     44271\n",
      "   macro avg       0.27      0.50      0.35     44271\n",
      "weighted avg       0.30      0.55      0.39     44271\n",
      "\n"
     ]
    },
    {
     "name": "stderr",
     "output_type": "stream",
     "text": [
      "C:\\Users\\nacnu\\anaconda3\\envs\\learn-env\\lib\\site-packages\\sklearn\\metrics\\_classification.py:1221: UndefinedMetricWarning: Precision and F-score are ill-defined and being set to 0.0 in labels with no predicted samples. Use `zero_division` parameter to control this behavior.\n",
      "  _warn_prf(average, modifier, msg_start, len(result))\n"
     ]
    }
   ],
   "source": [
    "print(dummy_runs.performance(X_train, y_train))"
   ]
  },
  {
   "cell_type": "code",
   "execution_count": 38,
   "metadata": {
    "ExecuteTime": {
     "end_time": "2023-01-03T17:07:09.399213Z",
     "start_time": "2023-01-03T17:07:09.391240Z"
    }
   },
   "outputs": [
    {
     "data": {
      "text/plain": [
       "0    24159\n",
       "1    20112\n",
       "Name: target, dtype: int64"
      ]
     },
     "execution_count": 38,
     "metadata": {},
     "output_type": "execute_result"
    }
   ],
   "source": [
    "y_train.value_counts()"
   ]
  },
  {
   "cell_type": "code",
   "execution_count": 36,
   "metadata": {
    "ExecuteTime": {
     "end_time": "2023-01-03T17:06:35.797991Z",
     "start_time": "2023-01-03T17:06:24.729347Z"
    }
   },
   "outputs": [
    {
     "data": {
      "image/png": "[encoded data removed]",
      "text/plain": [
       "<Figure size 432x288 with 2 Axes>"
      ]
     },
     "metadata": {
      "needs_background": "light"
     },
     "output_type": "display_data"
    }
   ],
   "source": [
    "dummy_runs.class_matrix(X_train, y_train);"
   ]
  },
  {
   "cell_type": "code",
   "execution_count": 34,
   "metadata": {
    "ExecuteTime": {
     "end_time": "2023-01-03T17:05:37.562011Z",
     "start_time": "2023-01-03T17:05:35.521977Z"
    }
   },
   "outputs": [
    {
     "name": "stdout",
     "output_type": "stream",
     "text": [
      "              precision    recall  f1-score   support\n",
      "\n",
      "           0       0.53      1.00      0.70      7895\n",
      "           1       0.00      0.00      0.00      6863\n",
      "\n",
      "    accuracy                           0.53     14758\n",
      "   macro avg       0.27      0.50      0.35     14758\n",
      "weighted avg       0.29      0.53      0.37     14758\n",
      "\n"
     ]
    },
    {
     "name": "stderr",
     "output_type": "stream",
     "text": [
      "C:\\Users\\nacnu\\anaconda3\\envs\\learn-env\\lib\\site-packages\\sklearn\\metrics\\_classification.py:1221: UndefinedMetricWarning: Precision and F-score are ill-defined and being set to 0.0 in labels with no predicted samples. Use `zero_division` parameter to control this behavior.\n",
      "  _warn_prf(average, modifier, msg_start, len(result))\n"
     ]
    }
   ],
   "source": [
    "print(dummy_runs.performance(X_test, y_test))"
   ]
  },
  {
   "cell_type": "code",
   "execution_count": 37,
   "metadata": {
    "ExecuteTime": {
     "end_time": "2023-01-03T17:06:42.244808Z",
     "start_time": "2023-01-03T17:06:40.127667Z"
    }
   },
   "outputs": [
    {
     "data": {
      "image/png": "[encoded data removed]",
      "text/plain": [
       "<Figure size 432x288 with 2 Axes>"
      ]
     },
     "metadata": {
      "needs_background": "light"
     },
     "output_type": "display_data"
    }
   ],
   "source": [
    "dummy_runs.class_matrix(X_test, y_test);"
   ]
  },
  {
   "cell_type": "code",
   "execution_count": 45,
   "metadata": {
    "ExecuteTime": {
     "end_time": "2023-01-03T17:09:28.317079Z",
     "start_time": "2023-01-03T17:09:04.531431Z"
    }
   },
   "outputs": [
    {
     "name": "stderr",
     "output_type": "stream",
     "text": [
      "C:\\Users\\nacnu\\anaconda3\\envs\\learn-env\\lib\\site-packages\\sklearn\\metrics\\_classification.py:1221: UndefinedMetricWarning: Precision and F-score are ill-defined and being set to 0.0 in labels with no predicted samples. Use `zero_division` parameter to control this behavior.\n",
      "  _warn_prf(average, modifier, msg_start, len(result))\n",
      "C:\\Users\\nacnu\\anaconda3\\envs\\learn-env\\lib\\site-packages\\sklearn\\metrics\\_classification.py:1221: UndefinedMetricWarning: Precision and F-score are ill-defined and being set to 0.0 in labels with no predicted samples. Use `zero_division` parameter to control this behavior.\n",
      "  _warn_prf(average, modifier, msg_start, len(result))\n"
     ]
    },
    {
     "name": "stdout",
     "output_type": "stream",
     "text": [
      "Train Report: \n",
      "              precision    recall  f1-score   support\n",
      "\n",
      "           0       0.55      1.00      0.71     24159\n",
      "           1       0.00      0.00      0.00     20112\n",
      "\n",
      "    accuracy                           0.55     44271\n",
      "   macro avg       0.27      0.50      0.35     44271\n",
      "weighted avg       0.30      0.55      0.39     44271\n",
      "\n",
      "\n",
      "\n",
      "Test Report: \n",
      "              precision    recall  f1-score   support\n",
      "\n",
      "           0       0.53      1.00      0.70      7895\n",
      "           1       0.00      0.00      0.00      6863\n",
      "\n",
      "    accuracy                           0.53     14758\n",
      "   macro avg       0.27      0.50      0.35     14758\n",
      "weighted avg       0.29      0.53      0.37     14758\n",
      "\n"
     ]
    },
    {
     "data": {
      "image/png": "[encoded data removed]",
      "text/plain": [
       "<Figure size 432x288 with 2 Axes>"
      ]
     },
     "metadata": {
      "needs_background": "light"
     },
     "output_type": "display_data"
    },
    {
     "data": {
      "image/png": "[encoded data removed]",
      "text/plain": [
       "<Figure size 432x288 with 2 Axes>"
      ]
     },
     "metadata": {
      "needs_background": "light"
     },
     "output_type": "display_data"
    }
   ],
   "source": [
    "dummy_runs.run_all();"
   ]
  },
  {
   "cell_type": "markdown",
   "metadata": {},
   "source": [
    "## LogReg Pipe"
   ]
  },
  {
   "cell_type": "code",
   "execution_count": 46,
   "metadata": {
    "ExecuteTime": {
     "end_time": "2023-01-03T17:12:14.332482Z",
     "start_time": "2023-01-03T17:12:14.324941Z"
    }
   },
   "outputs": [],
   "source": [
    "log_reg_model = Pipeline([\n",
    "    ('ColTrans', ColTrans),\n",
    "    ('logreg', LogisticRegression(random_state=42))\n",
    "])"
   ]
  },
  {
   "cell_type": "code",
   "execution_count": 48,
   "metadata": {
    "ExecuteTime": {
     "end_time": "2023-01-03T17:14:44.307722Z",
     "start_time": "2023-01-03T17:13:00.051624Z"
    }
   },
   "outputs": [
    {
     "name": "stderr",
     "output_type": "stream",
     "text": [
      "C:\\Users\\nacnu\\anaconda3\\envs\\learn-env\\lib\\site-packages\\sklearn\\linear_model\\_logistic.py:762: ConvergenceWarning: lbfgs failed to converge (status=1):\n",
      "STOP: TOTAL NO. of ITERATIONS REACHED LIMIT.\n",
      "\n",
      "Increase the number of iterations (max_iter) or scale the data as shown in:\n",
      "    https://scikit-learn.org/stable/modules/preprocessing.html\n",
      "Please also refer to the documentation for alternative solver options:\n",
      "    https://scikit-learn.org/stable/modules/linear_model.html#logistic-regression\n",
      "  n_iter_i = _check_optimize_result(\n"
     ]
    }
   ],
   "source": [
    "log_reg_model.fit(X_train, y_train);"
   ]
  },
  {
   "cell_type": "code",
   "execution_count": 49,
   "metadata": {
    "ExecuteTime": {
     "end_time": "2023-01-03T17:15:03.977517Z",
     "start_time": "2023-01-03T17:15:03.975427Z"
    }
   },
   "outputs": [],
   "source": [
    "log_reg_pipe = ModelRuns(log_reg_model, 'logreg', X_train, y_train)"
   ]
  },
  {
   "cell_type": "code",
   "execution_count": 50,
   "metadata": {
    "ExecuteTime": {
     "end_time": "2023-01-03T17:15:44.650376Z",
     "start_time": "2023-01-03T17:15:06.567977Z"
    }
   },
   "outputs": [
    {
     "name": "stdout",
     "output_type": "stream",
     "text": [
      "Train Report: \n",
      "              precision    recall  f1-score   support\n",
      "\n",
      "           0       0.85      0.91      0.88     24159\n",
      "           1       0.88      0.81      0.84     20112\n",
      "\n",
      "    accuracy                           0.86     44271\n",
      "   macro avg       0.87      0.86      0.86     44271\n",
      "weighted avg       0.86      0.86      0.86     44271\n",
      "\n",
      "\n",
      "\n",
      "Test Report: \n",
      "              precision    recall  f1-score   support\n",
      "\n",
      "           0       0.78      0.85      0.81      7895\n",
      "           1       0.81      0.72      0.76      6863\n",
      "\n",
      "    accuracy                           0.79     14758\n",
      "   macro avg       0.79      0.79      0.79     14758\n",
      "weighted avg       0.79      0.79      0.79     14758\n",
      "\n"
     ]
    },
    {
     "data": {
      "image/png": "[encoded data removed]",
      "text/plain": [
       "<Figure size 432x288 with 2 Axes>"
      ]
     },
     "metadata": {
      "needs_background": "light"
     },
     "output_type": "display_data"
    },
    {
     "data": {
      "image/png": "[encoded data removed]",
      "text/plain": [
       "<Figure size 432x288 with 2 Axes>"
      ]
     },
     "metadata": {
      "needs_background": "light"
     },
     "output_type": "display_data"
    }
   ],
   "source": [
    "log_reg_pipe.run_all(train_results=True);"
   ]
  },
  {
   "cell_type": "markdown",
   "metadata": {},
   "source": [
    "## KNN Model"
   ]
  },
  {
   "cell_type": "code",
   "execution_count": 55,
   "metadata": {
    "ExecuteTime": {
     "end_time": "2023-01-03T17:22:04.105037Z",
     "start_time": "2023-01-03T17:22:04.098807Z"
    }
   },
   "outputs": [],
   "source": [
    "knn_model = Pipeline([\n",
    "    ('ColTrans', ColTrans),\n",
    "    ('knn', KNeighborsClassifier())\n",
    "])"
   ]
  },
  {
   "cell_type": "markdown",
   "metadata": {},
   "source": [
    "## Decision Tree Pipe"
   ]
  },
  {
   "cell_type": "code",
   "execution_count": 51,
   "metadata": {
    "ExecuteTime": {
     "end_time": "2023-01-03T17:16:20.272492Z",
     "start_time": "2023-01-03T17:16:20.269215Z"
    }
   },
   "outputs": [],
   "source": [
    "dtc_model = Pipeline([\n",
    "    ('ColTrans', ColTrans),\n",
    "    ('dtc', DecisionTreeClassifier(random_state=42))\n",
    "])"
   ]
  },
  {
   "cell_type": "code",
   "execution_count": 52,
   "metadata": {
    "ExecuteTime": {
     "end_time": "2023-01-03T17:19:20.242287Z",
     "start_time": "2023-01-03T17:16:21.732899Z"
    }
   },
   "outputs": [],
   "source": [
    "dtc_model.fit(X_train, y_train);"
   ]
  },
  {
   "cell_type": "code",
   "execution_count": 53,
   "metadata": {
    "ExecuteTime": {
     "end_time": "2023-01-03T17:19:26.409099Z",
     "start_time": "2023-01-03T17:19:26.407101Z"
    }
   },
   "outputs": [],
   "source": [
    "dtc_pipe = ModelRuns(dtc_model, 'dtc', X_train, y_train)"
   ]
  },
  {
   "cell_type": "code",
   "execution_count": 54,
   "metadata": {
    "ExecuteTime": {
     "end_time": "2023-01-03T17:20:06.063476Z",
     "start_time": "2023-01-03T17:19:30.599058Z"
    }
   },
   "outputs": [
    {
     "name": "stdout",
     "output_type": "stream",
     "text": [
      "Train Report: \n",
      "              precision    recall  f1-score   support\n",
      "\n",
      "           0       1.00      1.00      1.00     24159\n",
      "           1       1.00      1.00      1.00     20112\n",
      "\n",
      "    accuracy                           1.00     44271\n",
      "   macro avg       1.00      1.00      1.00     44271\n",
      "weighted avg       1.00      1.00      1.00     44271\n",
      "\n",
      "\n",
      "\n",
      "Test Report: \n",
      "              precision    recall  f1-score   support\n",
      "\n",
      "           0       0.80      0.83      0.81      7895\n",
      "           1       0.80      0.76      0.78      6863\n",
      "\n",
      "    accuracy                           0.80     14758\n",
      "   macro avg       0.80      0.79      0.80     14758\n",
      "weighted avg       0.80      0.80      0.80     14758\n",
      "\n"
     ]
    },
    {
     "data": {
      "image/png": "[encoded data removed]",
      "text/plain": [
       "<Figure size 432x288 with 2 Axes>"
      ]
     },
     "metadata": {
      "needs_background": "light"
     },
     "output_type": "display_data"
    },
    {
     "data": {
      "image/png": "[encoded data removed]",
      "text/plain": [
       "<Figure size 432x288 with 2 Axes>"
      ]
     },
     "metadata": {
      "needs_background": "light"
     },
     "output_type": "display_data"
    }
   ],
   "source": [
    "dtc_pipe.run_all(train_results=True);"
   ]
  },
  {
   "cell_type": "markdown",
   "metadata": {},
   "source": [
    "## Random Forest"
   ]
  },
  {
   "cell_type": "code",
   "execution_count": null,
   "metadata": {},
   "outputs": [],
   "source": [
    "rf_model = Pipeline([\n",
    "    ('ColTrans', ColTrans),\n",
    "    ('rf', RandomForestClassifier(random_state=42))\n",
    "])"
   ]
  },
  {
   "cell_type": "code",
   "execution_count": null,
   "metadata": {},
   "outputs": [],
   "source": [
    "rf_model.fit(X_train, y_train)"
   ]
  },
  {
   "cell_type": "code",
   "execution_count": null,
   "metadata": {},
   "outputs": [],
   "source": [
    "rf_pipe = ModelRuns(rf_model, 'rf', X_train, y_train)"
   ]
  },
  {
   "cell_type": "code",
   "execution_count": null,
   "metadata": {},
   "outputs": [],
   "source": [
    "rf_pipe.run_all(train_results=True);"
   ]
  },
  {
   "cell_type": "markdown",
   "metadata": {},
   "source": [
    "## SVC"
   ]
  },
  {
   "cell_type": "code",
   "execution_count": 57,
   "metadata": {
    "ExecuteTime": {
     "end_time": "2023-01-03T17:25:01.582946Z",
     "start_time": "2023-01-03T17:25:01.580669Z"
    }
   },
   "outputs": [],
   "source": [
    "SVC_model = Pipeline([\n",
    "    ('ColTrans', ColTrans),\n",
    "    ('SVC', SVC(random_state=42))\n",
    "])"
   ]
  },
  {
   "cell_type": "code",
   "execution_count": null,
   "metadata": {
    "ExecuteTime": {
     "start_time": "2023-01-03T17:25:13.035Z"
    }
   },
   "outputs": [],
   "source": [
    "SVC_model.fit(X_train, y_train)"
   ]
  },
  {
   "cell_type": "code",
   "execution_count": null,
   "metadata": {},
   "outputs": [],
   "source": [
    "SVC_pipe = ModelRuns(SVC_model, 'svc', X_train, y_train)"
   ]
  },
  {
   "cell_type": "code",
   "execution_count": null,
   "metadata": {},
   "outputs": [],
   "source": [
    "SVC_pipe.run_all(train_results=True);"
   ]
  },
  {
   "cell_type": "markdown",
   "metadata": {},
   "source": [
    "## NuSVC"
   ]
  },
  {
   "cell_type": "code",
   "execution_count": null,
   "metadata": {},
   "outputs": [],
   "source": [
    "nu_model = Pipeline([\n",
    "    ('ColTrans', ColTrans),\n",
    "    ('SVC', NuSVC(random_state=42))\n",
    "])"
   ]
  },
  {
   "cell_type": "code",
   "execution_count": null,
   "metadata": {},
   "outputs": [],
   "source": [
    "nu_model.fit(X_train, y_train)"
   ]
  },
  {
   "cell_type": "code",
   "execution_count": null,
   "metadata": {},
   "outputs": [],
   "source": [
    "nu_pipe = ModelRuns(nu_model, 'NuSVC', X_train, y_train)"
   ]
  },
  {
   "cell_type": "code",
   "execution_count": null,
   "metadata": {},
   "outputs": [],
   "source": [
    "nu_pipe.run_all(train_results=True);"
   ]
  }
 ],
 "metadata": {
  "kernelspec": {
   "display_name": "Python (learn-env)",
   "language": "python",
   "name": "learn-env"
  },
  "language_info": {
   "codemirror_mode": {
    "name": "ipython",
    "version": 3
   },
   "file_extension": ".py",
   "mimetype": "text/x-python",
   "name": "python",
   "nbconvert_exporter": "python",
   "pygments_lexer": "ipython3",
   "version": "3.8.5"
  },
  "toc": {
   "base_numbering": 1,
   "nav_menu": {},
   "number_sections": true,
   "sideBar": true,
   "skip_h1_title": false,
   "title_cell": "Table of Contents",
   "title_sidebar": "Contents",
   "toc_cell": false,
   "toc_position": {},
   "toc_section_display": true,
   "toc_window_display": false
  },
  "varInspector": {
   "cols": {
    "lenName": 16,
    "lenType": 16,
    "lenVar": 40
   },
   "kernels_config": {
    "python": {
     "delete_cmd_postfix": "",
     "delete_cmd_prefix": "del ",
     "library": "var_list.py",
     "varRefreshCmd": "print(var_dic_list())"
    },
    "r": {
     "delete_cmd_postfix": ") ",
     "delete_cmd_prefix": "rm(",
     "library": "var_list.r",
     "varRefreshCmd": "cat(var_dic_list()) "
    }
   },
   "position": {
    "height": "379.844px",
    "left": "1637px",
    "right": "20px",
    "top": "120px",
    "width": "263px"
   },
   "types_to_exclude": [
    "module",
    "function",
    "builtin_function_or_method",
    "instance",
    "_Feature"
   ],
   "window_display": false
  }
 },
 "nbformat": 4,
 "nbformat_minor": 4
}
